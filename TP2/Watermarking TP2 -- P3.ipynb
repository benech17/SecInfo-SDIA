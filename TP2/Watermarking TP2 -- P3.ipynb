{
 "cells": [
  {
   "cell_type": "markdown",
   "metadata": {
    "hideCode": false,
    "hidePrompt": false
   },
   "source": [
    "### Noms et Prénoms du binome: BENICHOU Yaniv - BONNEFOY Nicolas\n",
    "\n",
    "---"
   ]
  },
  {
   "cell_type": "markdown",
   "metadata": {
    "hideCode": false,
    "hidePrompt": false
   },
   "source": [
    "# TP en Watermarking et Stéganographie\n",
    "\n",
    "---\n",
    "\n",
    "## Patrick Bas, CNRS, CRIStAL\n",
    "\n",
    "---\n",
    "\n",
    "\n",
    " "
   ]
  },
  {
   "cell_type": "markdown",
   "metadata": {
    "hideCode": false,
    "hidePrompt": false
   },
   "source": [
    "## Tatouage par également de spectre et attaques de sécurité\n",
    "\n",
    "### Notations et rappels:\n",
    "\n",
    "Les notations sont identiques à celles vues en cours. Le procédé d'insertion est le schéma par étalement de spectre vu en cours.\n",
    "\n",
    "* X = matrice de $N_{i}$ vecteurs originaux de taille $N_{v}$ ($N_{i}$ colonnes, $N_{v}$ lignes). $N_{i}$ représente par exemple le nombre de contenu traités, et $N_{v}$ le nombre de composantes tatouées par contenu. **Note**: chaque colonne de X peut par exemple représenter des composantes d'une image.\n",
    "* $N_{o}$ représente le nombre de contenus tatoués observés par l'adversaire et utilisés pour construire son attaque\n",
    "* $N_{i}$ représente le nombre de contenus tatoués utilisés pour calculer pratiquement le taux d'erreur (voir BER)\n",
    "* Y = matrice de contenus tatoués\n",
    "* Z = matrice de contenus tatoués et perturbés\n",
    "* k clé secrète de norme unitaire\n",
    "* $m_{1}$: bit inséré, converti en +1, -1 \n",
    "* $\\alpha$: paramètre de distorsion\n",
    "* BER: Bit Error Rate, taux d'erreur binaire ou encore probabilité d'erreur empirique de décodage\n",
    "\n",
    "#### Rappels:\n",
    "* L'objectif du récepteur et de bien décoder $m_{1}$, possiblement en ayant une distortion qui ne soit pas trop importante\n",
    "* Ici, les objectifs de l'adversaire sont d'estimer une version k ou +/-k puis d'effacer le message inséré. Pour s'assurer que l'adversaire a bien réussi à estimer k ou +/-k, il calculera la correlation normalisée entre le vecteur k et son estimation.\n",
    "\n",
    "**N'oubliez pas d'exporter votre TP en pdf de préférence ou éventuellement en html lors de sa remise**\n",
    "\n"
   ]
  },
  {
   "cell_type": "code",
   "execution_count": 2,
   "metadata": {
    "hideCode": false,
    "hidePrompt": false
   },
   "outputs": [],
   "source": [
    "%matplotlib inline  \n",
    "\n",
    "import numpy as np\n",
    "import matplotlib.pyplot as plt\n",
    "\n",
    "import plotly.graph_objects as go\n",
    "from scipy.special import erf\n",
    "from sklearn.decomposition import FastICA"
   ]
  },
  {
   "cell_type": "markdown",
   "metadata": {
    "hideCode": false,
    "hideOutput": true,
    "hidePrompt": false
   },
   "source": [
    "## Scénario 1: Attaque à Messages connus, 1 bit\n",
    "* Mise en route: Quel est le BER cible de l'adversaire ?\n",
    "* Mettre en place l'attaque liée à ce scénario\n",
    "* Etudier l'impact de $N_{o}$ et de $\\alpha$ sur le BER après attaque"
   ]
  },
  {
   "cell_type": "markdown",
   "metadata": {},
   "source": [
    "> Le BER cible de l'adversaire est de 50% pour que le décodage du message tatoué devient aussi aléatoire qu'un tirage à pile ou face, rendant le message indéchiffrable et atteignant ainsi l'objectif de l'adversaire de neutraliser efficacement le tatouage.\n"
   ]
  },
  {
   "cell_type": "code",
   "execution_count": 3,
   "metadata": {
    "hideCode": false,
    "hidePrompt": false
   },
   "outputs": [],
   "source": [
    "Nv = 100 # Size of the vector\n",
    "Ni = 10000 # Max number of observations"
   ]
  },
  {
   "cell_type": "code",
   "execution_count": 18,
   "metadata": {
    "hideCode": false,
    "hidePrompt": false
   },
   "outputs": [
    {
     "data": {
      "application/vnd.plotly.v1+json": {
       "config": {
        "plotlyServerURL": "https://plot.ly"
       },
       "data": [
        {
         "mode": "lines+markers",
         "name": "BER après attaque",
         "type": "scatter",
         "x": [
          100,
          200,
          300,
          400,
          500,
          600,
          700,
          800,
          900,
          1000,
          1100,
          1200,
          1300,
          1400,
          1500,
          1600,
          1700,
          1800,
          1900,
          2000,
          2100,
          2200,
          2300,
          2400,
          2500,
          2600,
          2700,
          2800,
          2900,
          3000,
          3100,
          3200,
          3300,
          3400,
          3500,
          3600,
          3700,
          3800,
          3900,
          4000,
          4100,
          4200,
          4300,
          4400,
          4500,
          4600,
          4700,
          4800,
          4900,
          5000,
          5100,
          5200,
          5300,
          5400,
          5500,
          5600,
          5700,
          5800,
          5900,
          6000,
          6100,
          6200,
          6300,
          6400,
          6500,
          6600,
          6700,
          6800,
          6900,
          7000,
          7100,
          7200,
          7300,
          7400,
          7500,
          7600,
          7700,
          7800,
          7900,
          8000,
          8100,
          8200,
          8300,
          8400,
          8500,
          8600,
          8700,
          8800,
          8900,
          9000,
          9100,
          9200,
          9300,
          9400,
          9500,
          9600,
          9700,
          9800,
          9900,
          10000,
          10100,
          10200,
          10300,
          10400,
          10500,
          10600,
          10700,
          10800,
          10900,
          11000,
          11100,
          11200,
          11300,
          11400,
          11500,
          11600,
          11700,
          11800,
          11900,
          12000,
          12100,
          12200,
          12300,
          12400,
          12500,
          12600,
          12700,
          12800,
          12900,
          13000,
          13100,
          13200,
          13300,
          13400,
          13500,
          13600,
          13700,
          13800,
          13900,
          14000,
          14100,
          14200,
          14300,
          14400,
          14500,
          14600,
          14700,
          14800,
          14900,
          15000,
          15100,
          15200,
          15300,
          15400,
          15500,
          15600,
          15700,
          15800,
          15900,
          16000,
          16100,
          16200,
          16300,
          16400,
          16500,
          16600,
          16700,
          16800,
          16900,
          17000,
          17100,
          17200,
          17300,
          17400,
          17500,
          17600,
          17700,
          17800,
          17900,
          18000,
          18100,
          18200,
          18300,
          18400,
          18500,
          18600,
          18700,
          18800,
          18900,
          19000,
          19100,
          19200,
          19300,
          19400,
          19500,
          19600,
          19700,
          19800,
          19900
         ],
         "y": [
          0.42005,
          0.45785,
          0.4644,
          0.46725,
          0.4818,
          0.4837,
          0.48955,
          0.4844,
          0.49025,
          0.4923,
          0.4911,
          0.4926,
          0.4955,
          0.49275,
          0.48845,
          0.49315,
          0.4891,
          0.4935,
          0.4971,
          0.4937,
          0.48565,
          0.49285,
          0.4994,
          0.49375,
          0.4977,
          0.49875,
          0.4971,
          0.49525,
          0.50235,
          0.49815,
          0.4984,
          0.49855,
          0.49475,
          0.4981,
          0.49655,
          0.4984,
          0.4965,
          0.50225,
          0.49925,
          0.49395,
          0.49845,
          0.50965,
          0.5011,
          0.49655,
          0.49895,
          0.5026,
          0.49675,
          0.4948,
          0.49995,
          0.50215,
          0.49945,
          0.49505,
          0.49855,
          0.4986,
          0.4943,
          0.4997,
          0.4971,
          0.4977,
          0.4908,
          0.49945,
          0.4944,
          0.49765,
          0.5027,
          0.5005,
          0.5012,
          0.4955,
          0.5064,
          0.49695,
          0.49925,
          0.494,
          0.49495,
          0.5023,
          0.4971,
          0.49605,
          0.49895,
          0.5017,
          0.49495,
          0.50005,
          0.50425,
          0.50185,
          0.50385,
          0.4953,
          0.49445,
          0.4962,
          0.5035,
          0.4981,
          0.5001,
          0.5003,
          0.4909,
          0.5,
          0.4931,
          0.4958,
          0.4958,
          0.4981,
          0.49745,
          0.50925,
          0.49925,
          0.49965,
          0.50005,
          0.4984,
          0.49805,
          0.4999,
          0.4989,
          0.4962,
          0.49995,
          0.498,
          0.49455,
          0.50115,
          0.4995,
          0.4972,
          0.49835,
          0.4998,
          0.49775,
          0.4968,
          0.50225,
          0.50545,
          0.49775,
          0.4983,
          0.50125,
          0.50735,
          0.50415,
          0.4975,
          0.4995,
          0.4981,
          0.49925,
          0.5001,
          0.49555,
          0.5047,
          0.50005,
          0.4965,
          0.49925,
          0.497,
          0.49445,
          0.504,
          0.4939,
          0.4948,
          0.50585,
          0.496,
          0.499,
          0.5016,
          0.49785,
          0.507,
          0.49765,
          0.49845,
          0.49825,
          0.4969,
          0.4916,
          0.494,
          0.4983,
          0.4913,
          0.5047,
          0.50025,
          0.49735,
          0.49555,
          0.50555,
          0.50075,
          0.5052,
          0.50255,
          0.49855,
          0.4964,
          0.4992,
          0.4923,
          0.50085,
          0.5018,
          0.4949,
          0.5016,
          0.4971,
          0.49825,
          0.49895,
          0.4957,
          0.4962,
          0.4918,
          0.4995,
          0.49785,
          0.49565,
          0.4988,
          0.5059,
          0.49255,
          0.49655,
          0.4995,
          0.50175,
          0.49945,
          0.49595,
          0.50045,
          0.4997,
          0.502,
          0.50565,
          0.50115,
          0.49785,
          0.49825,
          0.4994,
          0.4936,
          0.4976,
          0.50025,
          0.49725,
          0.50715,
          0.50155,
          0.50345,
          0.50645
         ]
        }
       ],
       "layout": {
        "annotations": [
         {
          "showarrow": false,
          "text": "BER 50%",
          "x": 0,
          "xanchor": "left",
          "xref": "x domain",
          "y": 0.5,
          "yanchor": "top",
          "yref": "y"
         }
        ],
        "height": 400,
        "shapes": [
         {
          "line": {
           "color": "red",
           "dash": "dot"
          },
          "type": "line",
          "x0": 0,
          "x1": 1,
          "xref": "x domain",
          "y0": 0.5,
          "y1": 0.5,
          "yref": "y"
         }
        ],
        "template": {
         "data": {
          "bar": [
           {
            "error_x": {
             "color": "#2a3f5f"
            },
            "error_y": {
             "color": "#2a3f5f"
            },
            "marker": {
             "line": {
              "color": "#E5ECF6",
              "width": 0.5
             },
             "pattern": {
              "fillmode": "overlay",
              "size": 10,
              "solidity": 0.2
             }
            },
            "type": "bar"
           }
          ],
          "barpolar": [
           {
            "marker": {
             "line": {
              "color": "#E5ECF6",
              "width": 0.5
             },
             "pattern": {
              "fillmode": "overlay",
              "size": 10,
              "solidity": 0.2
             }
            },
            "type": "barpolar"
           }
          ],
          "carpet": [
           {
            "aaxis": {
             "endlinecolor": "#2a3f5f",
             "gridcolor": "white",
             "linecolor": "white",
             "minorgridcolor": "white",
             "startlinecolor": "#2a3f5f"
            },
            "baxis": {
             "endlinecolor": "#2a3f5f",
             "gridcolor": "white",
             "linecolor": "white",
             "minorgridcolor": "white",
             "startlinecolor": "#2a3f5f"
            },
            "type": "carpet"
           }
          ],
          "choropleth": [
           {
            "colorbar": {
             "outlinewidth": 0,
             "ticks": ""
            },
            "type": "choropleth"
           }
          ],
          "contour": [
           {
            "colorbar": {
             "outlinewidth": 0,
             "ticks": ""
            },
            "colorscale": [
             [
              0,
              "#0d0887"
             ],
             [
              0.1111111111111111,
              "#46039f"
             ],
             [
              0.2222222222222222,
              "#7201a8"
             ],
             [
              0.3333333333333333,
              "#9c179e"
             ],
             [
              0.4444444444444444,
              "#bd3786"
             ],
             [
              0.5555555555555556,
              "#d8576b"
             ],
             [
              0.6666666666666666,
              "#ed7953"
             ],
             [
              0.7777777777777778,
              "#fb9f3a"
             ],
             [
              0.8888888888888888,
              "#fdca26"
             ],
             [
              1,
              "#f0f921"
             ]
            ],
            "type": "contour"
           }
          ],
          "contourcarpet": [
           {
            "colorbar": {
             "outlinewidth": 0,
             "ticks": ""
            },
            "type": "contourcarpet"
           }
          ],
          "heatmap": [
           {
            "colorbar": {
             "outlinewidth": 0,
             "ticks": ""
            },
            "colorscale": [
             [
              0,
              "#0d0887"
             ],
             [
              0.1111111111111111,
              "#46039f"
             ],
             [
              0.2222222222222222,
              "#7201a8"
             ],
             [
              0.3333333333333333,
              "#9c179e"
             ],
             [
              0.4444444444444444,
              "#bd3786"
             ],
             [
              0.5555555555555556,
              "#d8576b"
             ],
             [
              0.6666666666666666,
              "#ed7953"
             ],
             [
              0.7777777777777778,
              "#fb9f3a"
             ],
             [
              0.8888888888888888,
              "#fdca26"
             ],
             [
              1,
              "#f0f921"
             ]
            ],
            "type": "heatmap"
           }
          ],
          "heatmapgl": [
           {
            "colorbar": {
             "outlinewidth": 0,
             "ticks": ""
            },
            "colorscale": [
             [
              0,
              "#0d0887"
             ],
             [
              0.1111111111111111,
              "#46039f"
             ],
             [
              0.2222222222222222,
              "#7201a8"
             ],
             [
              0.3333333333333333,
              "#9c179e"
             ],
             [
              0.4444444444444444,
              "#bd3786"
             ],
             [
              0.5555555555555556,
              "#d8576b"
             ],
             [
              0.6666666666666666,
              "#ed7953"
             ],
             [
              0.7777777777777778,
              "#fb9f3a"
             ],
             [
              0.8888888888888888,
              "#fdca26"
             ],
             [
              1,
              "#f0f921"
             ]
            ],
            "type": "heatmapgl"
           }
          ],
          "histogram": [
           {
            "marker": {
             "pattern": {
              "fillmode": "overlay",
              "size": 10,
              "solidity": 0.2
             }
            },
            "type": "histogram"
           }
          ],
          "histogram2d": [
           {
            "colorbar": {
             "outlinewidth": 0,
             "ticks": ""
            },
            "colorscale": [
             [
              0,
              "#0d0887"
             ],
             [
              0.1111111111111111,
              "#46039f"
             ],
             [
              0.2222222222222222,
              "#7201a8"
             ],
             [
              0.3333333333333333,
              "#9c179e"
             ],
             [
              0.4444444444444444,
              "#bd3786"
             ],
             [
              0.5555555555555556,
              "#d8576b"
             ],
             [
              0.6666666666666666,
              "#ed7953"
             ],
             [
              0.7777777777777778,
              "#fb9f3a"
             ],
             [
              0.8888888888888888,
              "#fdca26"
             ],
             [
              1,
              "#f0f921"
             ]
            ],
            "type": "histogram2d"
           }
          ],
          "histogram2dcontour": [
           {
            "colorbar": {
             "outlinewidth": 0,
             "ticks": ""
            },
            "colorscale": [
             [
              0,
              "#0d0887"
             ],
             [
              0.1111111111111111,
              "#46039f"
             ],
             [
              0.2222222222222222,
              "#7201a8"
             ],
             [
              0.3333333333333333,
              "#9c179e"
             ],
             [
              0.4444444444444444,
              "#bd3786"
             ],
             [
              0.5555555555555556,
              "#d8576b"
             ],
             [
              0.6666666666666666,
              "#ed7953"
             ],
             [
              0.7777777777777778,
              "#fb9f3a"
             ],
             [
              0.8888888888888888,
              "#fdca26"
             ],
             [
              1,
              "#f0f921"
             ]
            ],
            "type": "histogram2dcontour"
           }
          ],
          "mesh3d": [
           {
            "colorbar": {
             "outlinewidth": 0,
             "ticks": ""
            },
            "type": "mesh3d"
           }
          ],
          "parcoords": [
           {
            "line": {
             "colorbar": {
              "outlinewidth": 0,
              "ticks": ""
             }
            },
            "type": "parcoords"
           }
          ],
          "pie": [
           {
            "automargin": true,
            "type": "pie"
           }
          ],
          "scatter": [
           {
            "fillpattern": {
             "fillmode": "overlay",
             "size": 10,
             "solidity": 0.2
            },
            "type": "scatter"
           }
          ],
          "scatter3d": [
           {
            "line": {
             "colorbar": {
              "outlinewidth": 0,
              "ticks": ""
             }
            },
            "marker": {
             "colorbar": {
              "outlinewidth": 0,
              "ticks": ""
             }
            },
            "type": "scatter3d"
           }
          ],
          "scattercarpet": [
           {
            "marker": {
             "colorbar": {
              "outlinewidth": 0,
              "ticks": ""
             }
            },
            "type": "scattercarpet"
           }
          ],
          "scattergeo": [
           {
            "marker": {
             "colorbar": {
              "outlinewidth": 0,
              "ticks": ""
             }
            },
            "type": "scattergeo"
           }
          ],
          "scattergl": [
           {
            "marker": {
             "colorbar": {
              "outlinewidth": 0,
              "ticks": ""
             }
            },
            "type": "scattergl"
           }
          ],
          "scattermapbox": [
           {
            "marker": {
             "colorbar": {
              "outlinewidth": 0,
              "ticks": ""
             }
            },
            "type": "scattermapbox"
           }
          ],
          "scatterpolar": [
           {
            "marker": {
             "colorbar": {
              "outlinewidth": 0,
              "ticks": ""
             }
            },
            "type": "scatterpolar"
           }
          ],
          "scatterpolargl": [
           {
            "marker": {
             "colorbar": {
              "outlinewidth": 0,
              "ticks": ""
             }
            },
            "type": "scatterpolargl"
           }
          ],
          "scatterternary": [
           {
            "marker": {
             "colorbar": {
              "outlinewidth": 0,
              "ticks": ""
             }
            },
            "type": "scatterternary"
           }
          ],
          "surface": [
           {
            "colorbar": {
             "outlinewidth": 0,
             "ticks": ""
            },
            "colorscale": [
             [
              0,
              "#0d0887"
             ],
             [
              0.1111111111111111,
              "#46039f"
             ],
             [
              0.2222222222222222,
              "#7201a8"
             ],
             [
              0.3333333333333333,
              "#9c179e"
             ],
             [
              0.4444444444444444,
              "#bd3786"
             ],
             [
              0.5555555555555556,
              "#d8576b"
             ],
             [
              0.6666666666666666,
              "#ed7953"
             ],
             [
              0.7777777777777778,
              "#fb9f3a"
             ],
             [
              0.8888888888888888,
              "#fdca26"
             ],
             [
              1,
              "#f0f921"
             ]
            ],
            "type": "surface"
           }
          ],
          "table": [
           {
            "cells": {
             "fill": {
              "color": "#EBF0F8"
             },
             "line": {
              "color": "white"
             }
            },
            "header": {
             "fill": {
              "color": "#C8D4E3"
             },
             "line": {
              "color": "white"
             }
            },
            "type": "table"
           }
          ]
         },
         "layout": {
          "annotationdefaults": {
           "arrowcolor": "#2a3f5f",
           "arrowhead": 0,
           "arrowwidth": 1
          },
          "autotypenumbers": "strict",
          "coloraxis": {
           "colorbar": {
            "outlinewidth": 0,
            "ticks": ""
           }
          },
          "colorscale": {
           "diverging": [
            [
             0,
             "#8e0152"
            ],
            [
             0.1,
             "#c51b7d"
            ],
            [
             0.2,
             "#de77ae"
            ],
            [
             0.3,
             "#f1b6da"
            ],
            [
             0.4,
             "#fde0ef"
            ],
            [
             0.5,
             "#f7f7f7"
            ],
            [
             0.6,
             "#e6f5d0"
            ],
            [
             0.7,
             "#b8e186"
            ],
            [
             0.8,
             "#7fbc41"
            ],
            [
             0.9,
             "#4d9221"
            ],
            [
             1,
             "#276419"
            ]
           ],
           "sequential": [
            [
             0,
             "#0d0887"
            ],
            [
             0.1111111111111111,
             "#46039f"
            ],
            [
             0.2222222222222222,
             "#7201a8"
            ],
            [
             0.3333333333333333,
             "#9c179e"
            ],
            [
             0.4444444444444444,
             "#bd3786"
            ],
            [
             0.5555555555555556,
             "#d8576b"
            ],
            [
             0.6666666666666666,
             "#ed7953"
            ],
            [
             0.7777777777777778,
             "#fb9f3a"
            ],
            [
             0.8888888888888888,
             "#fdca26"
            ],
            [
             1,
             "#f0f921"
            ]
           ],
           "sequentialminus": [
            [
             0,
             "#0d0887"
            ],
            [
             0.1111111111111111,
             "#46039f"
            ],
            [
             0.2222222222222222,
             "#7201a8"
            ],
            [
             0.3333333333333333,
             "#9c179e"
            ],
            [
             0.4444444444444444,
             "#bd3786"
            ],
            [
             0.5555555555555556,
             "#d8576b"
            ],
            [
             0.6666666666666666,
             "#ed7953"
            ],
            [
             0.7777777777777778,
             "#fb9f3a"
            ],
            [
             0.8888888888888888,
             "#fdca26"
            ],
            [
             1,
             "#f0f921"
            ]
           ]
          },
          "colorway": [
           "#636efa",
           "#EF553B",
           "#00cc96",
           "#ab63fa",
           "#FFA15A",
           "#19d3f3",
           "#FF6692",
           "#B6E880",
           "#FF97FF",
           "#FECB52"
          ],
          "font": {
           "color": "#2a3f5f"
          },
          "geo": {
           "bgcolor": "white",
           "lakecolor": "white",
           "landcolor": "#E5ECF6",
           "showlakes": true,
           "showland": true,
           "subunitcolor": "white"
          },
          "hoverlabel": {
           "align": "left"
          },
          "hovermode": "closest",
          "mapbox": {
           "style": "light"
          },
          "paper_bgcolor": "white",
          "plot_bgcolor": "#E5ECF6",
          "polar": {
           "angularaxis": {
            "gridcolor": "white",
            "linecolor": "white",
            "ticks": ""
           },
           "bgcolor": "#E5ECF6",
           "radialaxis": {
            "gridcolor": "white",
            "linecolor": "white",
            "ticks": ""
           }
          },
          "scene": {
           "xaxis": {
            "backgroundcolor": "#E5ECF6",
            "gridcolor": "white",
            "gridwidth": 2,
            "linecolor": "white",
            "showbackground": true,
            "ticks": "",
            "zerolinecolor": "white"
           },
           "yaxis": {
            "backgroundcolor": "#E5ECF6",
            "gridcolor": "white",
            "gridwidth": 2,
            "linecolor": "white",
            "showbackground": true,
            "ticks": "",
            "zerolinecolor": "white"
           },
           "zaxis": {
            "backgroundcolor": "#E5ECF6",
            "gridcolor": "white",
            "gridwidth": 2,
            "linecolor": "white",
            "showbackground": true,
            "ticks": "",
            "zerolinecolor": "white"
           }
          },
          "shapedefaults": {
           "line": {
            "color": "#2a3f5f"
           }
          },
          "ternary": {
           "aaxis": {
            "gridcolor": "white",
            "linecolor": "white",
            "ticks": ""
           },
           "baxis": {
            "gridcolor": "white",
            "linecolor": "white",
            "ticks": ""
           },
           "bgcolor": "#E5ECF6",
           "caxis": {
            "gridcolor": "white",
            "linecolor": "white",
            "ticks": ""
           }
          },
          "title": {
           "x": 0.05
          },
          "xaxis": {
           "automargin": true,
           "gridcolor": "white",
           "linecolor": "white",
           "ticks": "",
           "title": {
            "standoff": 15
           },
           "zerolinecolor": "white",
           "zerolinewidth": 2
          },
          "yaxis": {
           "automargin": true,
           "gridcolor": "white",
           "linecolor": "white",
           "ticks": "",
           "title": {
            "standoff": 15
           },
           "zerolinecolor": "white",
           "zerolinewidth": 2
          }
         }
        },
        "title": {
         "text": "BER après attaque en fonction de No"
        },
        "width": 700,
        "xaxis": {
         "title": {
          "text": "No (Nombre d'observations)"
         }
        },
        "yaxis": {
         "title": {
          "text": "BER"
         }
        }
       }
      }
     },
     "metadata": {},
     "output_type": "display_data"
    },
    {
     "data": {
      "application/vnd.plotly.v1+json": {
       "config": {
        "plotlyServerURL": "https://plot.ly"
       },
       "data": [
        {
         "mode": "lines+markers",
         "name": "Corr après attaque",
         "type": "scatter",
         "x": [
          100,
          200,
          300,
          400,
          500,
          600,
          700,
          800,
          900,
          1000,
          1100,
          1200,
          1300,
          1400,
          1500,
          1600,
          1700,
          1800,
          1900,
          2000,
          2100,
          2200,
          2300,
          2400,
          2500,
          2600,
          2700,
          2800,
          2900,
          3000,
          3100,
          3200,
          3300,
          3400,
          3500,
          3600,
          3700,
          3800,
          3900,
          4000,
          4100,
          4200,
          4300,
          4400,
          4500,
          4600,
          4700,
          4800,
          4900,
          5000,
          5100,
          5200,
          5300,
          5400,
          5500,
          5600,
          5700,
          5800,
          5900,
          6000,
          6100,
          6200,
          6300,
          6400,
          6500,
          6600,
          6700,
          6800,
          6900,
          7000,
          7100,
          7200,
          7300,
          7400,
          7500,
          7600,
          7700,
          7800,
          7900,
          8000,
          8100,
          8200,
          8300,
          8400,
          8500,
          8600,
          8700,
          8800,
          8900,
          9000,
          9100,
          9200,
          9300,
          9400,
          9500,
          9600,
          9700,
          9800,
          9900,
          10000,
          10100,
          10200,
          10300,
          10400,
          10500,
          10600,
          10700,
          10800,
          10900,
          11000,
          11100,
          11200,
          11300,
          11400,
          11500,
          11600,
          11700,
          11800,
          11900,
          12000,
          12100,
          12200,
          12300,
          12400,
          12500,
          12600,
          12700,
          12800,
          12900,
          13000,
          13100,
          13200,
          13300,
          13400,
          13500,
          13600,
          13700,
          13800,
          13900,
          14000,
          14100,
          14200,
          14300,
          14400,
          14500,
          14600,
          14700,
          14800,
          14900,
          15000,
          15100,
          15200,
          15300,
          15400,
          15500,
          15600,
          15700,
          15800,
          15900,
          16000,
          16100,
          16200,
          16300,
          16400,
          16500,
          16600,
          16700,
          16800,
          16900,
          17000,
          17100,
          17200,
          17300,
          17400,
          17500,
          17600,
          17700,
          17800,
          17900,
          18000,
          18100,
          18200,
          18300,
          18400,
          18500,
          18600,
          18700,
          18800,
          18900,
          19000,
          19100,
          19200,
          19300,
          19400,
          19500,
          19600,
          19700,
          19800,
          19900
         ],
         "y": [
          0.9023650006401176,
          0.9406053076326669,
          0.9597050971363308,
          0.9691442378375427,
          0.9765778103954856,
          0.981452998855064,
          0.9866915169747915,
          0.9845942694257789,
          0.9859911056706991,
          0.9883545009214824,
          0.9889642556317384,
          0.9874738848863305,
          0.9931303147054785,
          0.9926403987366431,
          0.9908509060325872,
          0.9914208150503632,
          0.9926847943957893,
          0.993963267908527,
          0.9925087160174576,
          0.9944566080532642,
          0.9946823239805339,
          0.9957558190320004,
          0.9952816874855015,
          0.9952046743478413,
          0.9947240862838865,
          0.994813062169986,
          0.9955409681871532,
          0.9962331150479083,
          0.9957164231115465,
          0.9959969851688725,
          0.9968194088478872,
          0.9959308768920657,
          0.9960364942299953,
          0.9970819681816694,
          0.9962528691106866,
          0.9963717544781943,
          0.9967442492817575,
          0.997132367447204,
          0.996439430272261,
          0.997174905513315,
          0.9973599725219142,
          0.9961840430912888,
          0.9972285861468844,
          0.9969994895594037,
          0.9974419546450044,
          0.9969976644348851,
          0.998272744173694,
          0.9985132923704699,
          0.9971897711311317,
          0.9977106467469037,
          0.9974945739541702,
          0.9976046448002988,
          0.9975382920730769,
          0.9974901523375129,
          0.9978720764339544,
          0.9971595615590989,
          0.9979065146348818,
          0.9979467827911737,
          0.9975071044332499,
          0.9980496868298897,
          0.9981745373470463,
          0.998027869110059,
          0.9981881594605947,
          0.9981011550330037,
          0.9981385119442308,
          0.9981502110878705,
          0.9981105739887288,
          0.9985681063528153,
          0.9980999871483651,
          0.9983597341813442,
          0.9983803115545017,
          0.9983953031472678,
          0.9984187377680744,
          0.9980006053341681,
          0.9985244933530767,
          0.9986275298013126,
          0.9985877399266826,
          0.9979846196312019,
          0.9985798788596387,
          0.9985120000491035,
          0.9982006770364469,
          0.998600016749633,
          0.9983204080974608,
          0.9985376723109068,
          0.9984414734813953,
          0.9985149587484907,
          0.9987933860962177,
          0.9986292917741065,
          0.9986789330151603,
          0.9983616455906974,
          0.9991100073476733,
          0.9988053081790037,
          0.9987516694820961,
          0.9984404810557748,
          0.9988058395173008,
          0.9987600698173971,
          0.9988764698795511,
          0.9986408878283739,
          0.9989590792573062,
          0.9988725123007715,
          0.9987321868122131,
          0.9986941791593773,
          0.9989909667616045,
          0.9985936215779619,
          0.9986719543037653,
          0.9987123172369147,
          0.9985662191768832,
          0.9987289781702737,
          0.9986419001817571,
          0.99888439311559,
          0.9988202911046856,
          0.998702283336871,
          0.9988506354944388,
          0.9989170736521215,
          0.998933170228577,
          0.9989129113686654,
          0.9990109627109339,
          0.9988194875340729,
          0.9985411910834231,
          0.9989942626210138,
          0.9990913962910004,
          0.999113017082303,
          0.9990414120073325,
          0.9990469247970684,
          0.9990570242055007,
          0.9989486162714559,
          0.9992224027844203,
          0.9989313428566478,
          0.9990327583262798,
          0.999043132356347,
          0.9987640683365933,
          0.9990639748968875,
          0.9989465093756732,
          0.999138817963611,
          0.9991868324977051,
          0.9989637172700164,
          0.999281987224255,
          0.9990588673550715,
          0.9990744369760071,
          0.9990622636249195,
          0.9992120556564,
          0.9989703091540696,
          0.9991693456121474,
          0.999183202970938,
          0.9991949803777656,
          0.9993728664189577,
          0.9991843966028808,
          0.9992195248090614,
          0.999136666665003,
          0.9992174580648224,
          0.9992878270527629,
          0.9991806509291143,
          0.9991472216004065,
          0.9991679733544122,
          0.9992934392014826,
          0.9992582062056525,
          0.9991373199642274,
          0.9991930373658175,
          0.9993387872825307,
          0.99920181933562,
          0.9992114816325139,
          0.9992801291823032,
          0.9991340037792004,
          0.9992160427558838,
          0.9992705567116418,
          0.99914783359502,
          0.9990280117429979,
          0.9992608605931955,
          0.9993085243661364,
          0.9992974578522417,
          0.9993349524751333,
          0.9993420824882322,
          0.9993568991001796,
          0.999263009502076,
          0.9992684614647561,
          0.9994086406796854,
          0.9992880030347431,
          0.9995341725385845,
          0.9992728206719683,
          0.9992404706746547,
          0.9992677797877142,
          0.9993259671478406,
          0.9994040330961899,
          0.9994277251933896,
          0.9994443471665817,
          0.9992555919478232,
          0.9993541552072752,
          0.9992600353036297,
          0.9993022182222265,
          0.9993648423764415,
          0.9993886462506835,
          0.999525726199299,
          0.9994010734804853,
          0.9992721206156245,
          0.9993843223247021,
          0.9992712644931704,
          0.999503151624138,
          0.9993919906332387,
          0.9992528330237733
         ]
        }
       ],
       "layout": {
        "annotations": [
         {
          "showarrow": false,
          "text": "Corr = 1",
          "x": 0,
          "xanchor": "left",
          "xref": "x domain",
          "y": 1,
          "yanchor": "top",
          "yref": "y"
         }
        ],
        "height": 400,
        "shapes": [
         {
          "line": {
           "color": "red",
           "dash": "dot"
          },
          "type": "line",
          "x0": 0,
          "x1": 1,
          "xref": "x domain",
          "y0": 1,
          "y1": 1,
          "yref": "y"
         }
        ],
        "template": {
         "data": {
          "bar": [
           {
            "error_x": {
             "color": "#2a3f5f"
            },
            "error_y": {
             "color": "#2a3f5f"
            },
            "marker": {
             "line": {
              "color": "#E5ECF6",
              "width": 0.5
             },
             "pattern": {
              "fillmode": "overlay",
              "size": 10,
              "solidity": 0.2
             }
            },
            "type": "bar"
           }
          ],
          "barpolar": [
           {
            "marker": {
             "line": {
              "color": "#E5ECF6",
              "width": 0.5
             },
             "pattern": {
              "fillmode": "overlay",
              "size": 10,
              "solidity": 0.2
             }
            },
            "type": "barpolar"
           }
          ],
          "carpet": [
           {
            "aaxis": {
             "endlinecolor": "#2a3f5f",
             "gridcolor": "white",
             "linecolor": "white",
             "minorgridcolor": "white",
             "startlinecolor": "#2a3f5f"
            },
            "baxis": {
             "endlinecolor": "#2a3f5f",
             "gridcolor": "white",
             "linecolor": "white",
             "minorgridcolor": "white",
             "startlinecolor": "#2a3f5f"
            },
            "type": "carpet"
           }
          ],
          "choropleth": [
           {
            "colorbar": {
             "outlinewidth": 0,
             "ticks": ""
            },
            "type": "choropleth"
           }
          ],
          "contour": [
           {
            "colorbar": {
             "outlinewidth": 0,
             "ticks": ""
            },
            "colorscale": [
             [
              0,
              "#0d0887"
             ],
             [
              0.1111111111111111,
              "#46039f"
             ],
             [
              0.2222222222222222,
              "#7201a8"
             ],
             [
              0.3333333333333333,
              "#9c179e"
             ],
             [
              0.4444444444444444,
              "#bd3786"
             ],
             [
              0.5555555555555556,
              "#d8576b"
             ],
             [
              0.6666666666666666,
              "#ed7953"
             ],
             [
              0.7777777777777778,
              "#fb9f3a"
             ],
             [
              0.8888888888888888,
              "#fdca26"
             ],
             [
              1,
              "#f0f921"
             ]
            ],
            "type": "contour"
           }
          ],
          "contourcarpet": [
           {
            "colorbar": {
             "outlinewidth": 0,
             "ticks": ""
            },
            "type": "contourcarpet"
           }
          ],
          "heatmap": [
           {
            "colorbar": {
             "outlinewidth": 0,
             "ticks": ""
            },
            "colorscale": [
             [
              0,
              "#0d0887"
             ],
             [
              0.1111111111111111,
              "#46039f"
             ],
             [
              0.2222222222222222,
              "#7201a8"
             ],
             [
              0.3333333333333333,
              "#9c179e"
             ],
             [
              0.4444444444444444,
              "#bd3786"
             ],
             [
              0.5555555555555556,
              "#d8576b"
             ],
             [
              0.6666666666666666,
              "#ed7953"
             ],
             [
              0.7777777777777778,
              "#fb9f3a"
             ],
             [
              0.8888888888888888,
              "#fdca26"
             ],
             [
              1,
              "#f0f921"
             ]
            ],
            "type": "heatmap"
           }
          ],
          "heatmapgl": [
           {
            "colorbar": {
             "outlinewidth": 0,
             "ticks": ""
            },
            "colorscale": [
             [
              0,
              "#0d0887"
             ],
             [
              0.1111111111111111,
              "#46039f"
             ],
             [
              0.2222222222222222,
              "#7201a8"
             ],
             [
              0.3333333333333333,
              "#9c179e"
             ],
             [
              0.4444444444444444,
              "#bd3786"
             ],
             [
              0.5555555555555556,
              "#d8576b"
             ],
             [
              0.6666666666666666,
              "#ed7953"
             ],
             [
              0.7777777777777778,
              "#fb9f3a"
             ],
             [
              0.8888888888888888,
              "#fdca26"
             ],
             [
              1,
              "#f0f921"
             ]
            ],
            "type": "heatmapgl"
           }
          ],
          "histogram": [
           {
            "marker": {
             "pattern": {
              "fillmode": "overlay",
              "size": 10,
              "solidity": 0.2
             }
            },
            "type": "histogram"
           }
          ],
          "histogram2d": [
           {
            "colorbar": {
             "outlinewidth": 0,
             "ticks": ""
            },
            "colorscale": [
             [
              0,
              "#0d0887"
             ],
             [
              0.1111111111111111,
              "#46039f"
             ],
             [
              0.2222222222222222,
              "#7201a8"
             ],
             [
              0.3333333333333333,
              "#9c179e"
             ],
             [
              0.4444444444444444,
              "#bd3786"
             ],
             [
              0.5555555555555556,
              "#d8576b"
             ],
             [
              0.6666666666666666,
              "#ed7953"
             ],
             [
              0.7777777777777778,
              "#fb9f3a"
             ],
             [
              0.8888888888888888,
              "#fdca26"
             ],
             [
              1,
              "#f0f921"
             ]
            ],
            "type": "histogram2d"
           }
          ],
          "histogram2dcontour": [
           {
            "colorbar": {
             "outlinewidth": 0,
             "ticks": ""
            },
            "colorscale": [
             [
              0,
              "#0d0887"
             ],
             [
              0.1111111111111111,
              "#46039f"
             ],
             [
              0.2222222222222222,
              "#7201a8"
             ],
             [
              0.3333333333333333,
              "#9c179e"
             ],
             [
              0.4444444444444444,
              "#bd3786"
             ],
             [
              0.5555555555555556,
              "#d8576b"
             ],
             [
              0.6666666666666666,
              "#ed7953"
             ],
             [
              0.7777777777777778,
              "#fb9f3a"
             ],
             [
              0.8888888888888888,
              "#fdca26"
             ],
             [
              1,
              "#f0f921"
             ]
            ],
            "type": "histogram2dcontour"
           }
          ],
          "mesh3d": [
           {
            "colorbar": {
             "outlinewidth": 0,
             "ticks": ""
            },
            "type": "mesh3d"
           }
          ],
          "parcoords": [
           {
            "line": {
             "colorbar": {
              "outlinewidth": 0,
              "ticks": ""
             }
            },
            "type": "parcoords"
           }
          ],
          "pie": [
           {
            "automargin": true,
            "type": "pie"
           }
          ],
          "scatter": [
           {
            "fillpattern": {
             "fillmode": "overlay",
             "size": 10,
             "solidity": 0.2
            },
            "type": "scatter"
           }
          ],
          "scatter3d": [
           {
            "line": {
             "colorbar": {
              "outlinewidth": 0,
              "ticks": ""
             }
            },
            "marker": {
             "colorbar": {
              "outlinewidth": 0,
              "ticks": ""
             }
            },
            "type": "scatter3d"
           }
          ],
          "scattercarpet": [
           {
            "marker": {
             "colorbar": {
              "outlinewidth": 0,
              "ticks": ""
             }
            },
            "type": "scattercarpet"
           }
          ],
          "scattergeo": [
           {
            "marker": {
             "colorbar": {
              "outlinewidth": 0,
              "ticks": ""
             }
            },
            "type": "scattergeo"
           }
          ],
          "scattergl": [
           {
            "marker": {
             "colorbar": {
              "outlinewidth": 0,
              "ticks": ""
             }
            },
            "type": "scattergl"
           }
          ],
          "scattermapbox": [
           {
            "marker": {
             "colorbar": {
              "outlinewidth": 0,
              "ticks": ""
             }
            },
            "type": "scattermapbox"
           }
          ],
          "scatterpolar": [
           {
            "marker": {
             "colorbar": {
              "outlinewidth": 0,
              "ticks": ""
             }
            },
            "type": "scatterpolar"
           }
          ],
          "scatterpolargl": [
           {
            "marker": {
             "colorbar": {
              "outlinewidth": 0,
              "ticks": ""
             }
            },
            "type": "scatterpolargl"
           }
          ],
          "scatterternary": [
           {
            "marker": {
             "colorbar": {
              "outlinewidth": 0,
              "ticks": ""
             }
            },
            "type": "scatterternary"
           }
          ],
          "surface": [
           {
            "colorbar": {
             "outlinewidth": 0,
             "ticks": ""
            },
            "colorscale": [
             [
              0,
              "#0d0887"
             ],
             [
              0.1111111111111111,
              "#46039f"
             ],
             [
              0.2222222222222222,
              "#7201a8"
             ],
             [
              0.3333333333333333,
              "#9c179e"
             ],
             [
              0.4444444444444444,
              "#bd3786"
             ],
             [
              0.5555555555555556,
              "#d8576b"
             ],
             [
              0.6666666666666666,
              "#ed7953"
             ],
             [
              0.7777777777777778,
              "#fb9f3a"
             ],
             [
              0.8888888888888888,
              "#fdca26"
             ],
             [
              1,
              "#f0f921"
             ]
            ],
            "type": "surface"
           }
          ],
          "table": [
           {
            "cells": {
             "fill": {
              "color": "#EBF0F8"
             },
             "line": {
              "color": "white"
             }
            },
            "header": {
             "fill": {
              "color": "#C8D4E3"
             },
             "line": {
              "color": "white"
             }
            },
            "type": "table"
           }
          ]
         },
         "layout": {
          "annotationdefaults": {
           "arrowcolor": "#2a3f5f",
           "arrowhead": 0,
           "arrowwidth": 1
          },
          "autotypenumbers": "strict",
          "coloraxis": {
           "colorbar": {
            "outlinewidth": 0,
            "ticks": ""
           }
          },
          "colorscale": {
           "diverging": [
            [
             0,
             "#8e0152"
            ],
            [
             0.1,
             "#c51b7d"
            ],
            [
             0.2,
             "#de77ae"
            ],
            [
             0.3,
             "#f1b6da"
            ],
            [
             0.4,
             "#fde0ef"
            ],
            [
             0.5,
             "#f7f7f7"
            ],
            [
             0.6,
             "#e6f5d0"
            ],
            [
             0.7,
             "#b8e186"
            ],
            [
             0.8,
             "#7fbc41"
            ],
            [
             0.9,
             "#4d9221"
            ],
            [
             1,
             "#276419"
            ]
           ],
           "sequential": [
            [
             0,
             "#0d0887"
            ],
            [
             0.1111111111111111,
             "#46039f"
            ],
            [
             0.2222222222222222,
             "#7201a8"
            ],
            [
             0.3333333333333333,
             "#9c179e"
            ],
            [
             0.4444444444444444,
             "#bd3786"
            ],
            [
             0.5555555555555556,
             "#d8576b"
            ],
            [
             0.6666666666666666,
             "#ed7953"
            ],
            [
             0.7777777777777778,
             "#fb9f3a"
            ],
            [
             0.8888888888888888,
             "#fdca26"
            ],
            [
             1,
             "#f0f921"
            ]
           ],
           "sequentialminus": [
            [
             0,
             "#0d0887"
            ],
            [
             0.1111111111111111,
             "#46039f"
            ],
            [
             0.2222222222222222,
             "#7201a8"
            ],
            [
             0.3333333333333333,
             "#9c179e"
            ],
            [
             0.4444444444444444,
             "#bd3786"
            ],
            [
             0.5555555555555556,
             "#d8576b"
            ],
            [
             0.6666666666666666,
             "#ed7953"
            ],
            [
             0.7777777777777778,
             "#fb9f3a"
            ],
            [
             0.8888888888888888,
             "#fdca26"
            ],
            [
             1,
             "#f0f921"
            ]
           ]
          },
          "colorway": [
           "#636efa",
           "#EF553B",
           "#00cc96",
           "#ab63fa",
           "#FFA15A",
           "#19d3f3",
           "#FF6692",
           "#B6E880",
           "#FF97FF",
           "#FECB52"
          ],
          "font": {
           "color": "#2a3f5f"
          },
          "geo": {
           "bgcolor": "white",
           "lakecolor": "white",
           "landcolor": "#E5ECF6",
           "showlakes": true,
           "showland": true,
           "subunitcolor": "white"
          },
          "hoverlabel": {
           "align": "left"
          },
          "hovermode": "closest",
          "mapbox": {
           "style": "light"
          },
          "paper_bgcolor": "white",
          "plot_bgcolor": "#E5ECF6",
          "polar": {
           "angularaxis": {
            "gridcolor": "white",
            "linecolor": "white",
            "ticks": ""
           },
           "bgcolor": "#E5ECF6",
           "radialaxis": {
            "gridcolor": "white",
            "linecolor": "white",
            "ticks": ""
           }
          },
          "scene": {
           "xaxis": {
            "backgroundcolor": "#E5ECF6",
            "gridcolor": "white",
            "gridwidth": 2,
            "linecolor": "white",
            "showbackground": true,
            "ticks": "",
            "zerolinecolor": "white"
           },
           "yaxis": {
            "backgroundcolor": "#E5ECF6",
            "gridcolor": "white",
            "gridwidth": 2,
            "linecolor": "white",
            "showbackground": true,
            "ticks": "",
            "zerolinecolor": "white"
           },
           "zaxis": {
            "backgroundcolor": "#E5ECF6",
            "gridcolor": "white",
            "gridwidth": 2,
            "linecolor": "white",
            "showbackground": true,
            "ticks": "",
            "zerolinecolor": "white"
           }
          },
          "shapedefaults": {
           "line": {
            "color": "#2a3f5f"
           }
          },
          "ternary": {
           "aaxis": {
            "gridcolor": "white",
            "linecolor": "white",
            "ticks": ""
           },
           "baxis": {
            "gridcolor": "white",
            "linecolor": "white",
            "ticks": ""
           },
           "bgcolor": "#E5ECF6",
           "caxis": {
            "gridcolor": "white",
            "linecolor": "white",
            "ticks": ""
           }
          },
          "title": {
           "x": 0.05
          },
          "xaxis": {
           "automargin": true,
           "gridcolor": "white",
           "linecolor": "white",
           "ticks": "",
           "title": {
            "standoff": 15
           },
           "zerolinecolor": "white",
           "zerolinewidth": 2
          },
          "yaxis": {
           "automargin": true,
           "gridcolor": "white",
           "linecolor": "white",
           "ticks": "",
           "title": {
            "standoff": 15
           },
           "zerolinecolor": "white",
           "zerolinewidth": 2
          }
         }
        },
        "title": {
         "text": "Corr après attaque en fonction de No"
        },
        "width": 700,
        "xaxis": {
         "title": {
          "text": "No (Nombre d'observations)"
         }
        },
        "yaxis": {
         "title": {
          "text": "Cor"
         }
        }
       }
      }
     },
     "metadata": {},
     "output_type": "display_data"
    }
   ],
   "source": [
    "# Compute the Bit Error Rate between message m and the extracted message from Y using key k\n",
    "def ber(Y,m,k):\n",
    "    c = np.sign(np.dot(Y.T,k))\n",
    "    return np.sum(c != m)/float(Ni)\n",
    "\n",
    "# Compute the Normalised correlation\n",
    "def norm_corr(hatk,k):\n",
    "    hatk = hatk / np.sqrt(np.dot(hatk.T,hatk)) # Normalize\n",
    "    corrN = np.abs(np.dot(hatk.T,k))/(np.linalg.norm(hatk)*np.linalg.norm(k)) \n",
    "    return corrN\n",
    "\n",
    "def do_process(alpha,No):\n",
    "    #print(f'alpha: {alpha}, No: {No}')\n",
    "    X = np.random.randn(Nv,Ni) # Generate Ni random host vectors\n",
    "    k = np.random.randn(Nv,1) # Generate de Watermark\n",
    "    k = k / np.sqrt(np.dot(k.T,k)) # Normalize the watermark\n",
    "\n",
    "    m1 = np.ones((Ni,1)) #Scenario with Known Messages: generate only ones\n",
    "    K = np.dot(k,m1.T) # Generate the matrix of watermarks (each column contains m1_i*k)\n",
    "    W = alpha*K\n",
    "    Y = X + W # perform embedding\n",
    "\n",
    "\n",
    "    #cY = np.sign(np.dot(Y.T,k)) # Computation of the decoded 'bits' (here -1 or +1)\n",
    "    #print('practical bit error rate:')\n",
    "    #print(np.sum(cY != m1)/np.float(Ni)) \n",
    "\n",
    "    Y_obs = Y[:,:No]\n",
    "    # To Do: implement the attack on No observation, i.e. on Y[:,:No]\n",
    "    \n",
    "    hatk = np.mean(Y_obs, axis=1)\n",
    "    hatk = hatk / np.sqrt(np.dot(hatk.T,hatk)) # We need to Normalize\n",
    "    \n",
    "    corrN = np.abs(np.dot(hatk.T,k))/(np.linalg.norm(hatk)*np.linalg.norm(k)) # Compute the Normalised correlation\n",
    "    #print('Normalised correlation between the true key and the estimated key')\n",
    "    #print(corrN)\n",
    "\n",
    "    hatk = np.reshape(hatk,(Nv,1))# We need to reshape\n",
    "\n",
    "    YA = Y - alpha*np.dot(hatk,m1.T) # perform the removal attack\n",
    "    #print('BER après attaque:', ber(YA, m1, k))\n",
    "    #print('\\n\\n')\n",
    "    return ber(YA, m1, k), corrN[0]\n",
    "\n",
    "    \n",
    "alpha = 2 # Tune the power of the watermark here\n",
    "\n",
    "# Réinitialisation des vecteurs pour les plots\n",
    "ber_values = []\n",
    "corr_values = []\n",
    "No_values = range(100,Ni,100) \n",
    "\n",
    "# One example, can be used to draw plots\n",
    "for No in No_values:\n",
    "    ber_val, corr_val = do_process(alpha, No)\n",
    "    ber_values.append(ber_val)\n",
    "    corr_values.append(corr_val)\n",
    "\n",
    "\n",
    "# Graphique du BER\n",
    "fig_ber = go.Figure()\n",
    "fig_ber.add_trace(go.Scatter(x=list(No_values), y=ber_values, mode='lines+markers', name='BER après attaque'))\n",
    "fig_ber.add_hline(y=0.5, line_dash=\"dot\", line_color=\"red\", annotation_text=\"BER 50%\", annotation_position=\"bottom left\")\n",
    "fig_ber.update_layout(\n",
    "    title=\"BER après attaque en fonction de No\",\n",
    "    xaxis_title=\"No (Nombre d'observations)\",\n",
    "    yaxis_title=\"BER\",\n",
    "    width=700,\n",
    "    height=400\n",
    ")\n",
    "fig_ber.show()\n",
    "\n",
    "# Graphique du Corr\n",
    "fig_corr = go.Figure()\n",
    "fig_corr.add_trace(go.Scatter(x=list(No_values), y=corr_values, mode='lines+markers', name='Corr après attaque'))\n",
    "fig_corr.add_hline(y=1, line_dash=\"dot\", line_color=\"red\", annotation_text=\"Corr = 1\", annotation_position=\"bottom left\")\n",
    "fig_corr.update_layout(\n",
    "    title=\"Corr après attaque en fonction de No\",\n",
    "    xaxis_title=\"No (Nombre d'observations)\",\n",
    "    yaxis_title=\"Cor\",\n",
    "    width=700,\n",
    "    height=400\n",
    ")\n",
    "fig_corr.show()"
   ]
  },
  {
   "cell_type": "code",
   "execution_count": 20,
   "metadata": {},
   "outputs": [
    {
     "data": {
      "application/vnd.plotly.v1+json": {
       "config": {
        "plotlyServerURL": "https://plot.ly"
       },
       "data": [
        {
         "mode": "lines+markers",
         "name": "alpha = 0.2",
         "type": "scatter",
         "x": [
          100,
          200,
          300,
          400,
          500,
          600,
          700,
          800,
          900,
          1000,
          1100,
          1200,
          1300,
          1400,
          1500,
          1600,
          1700,
          1800,
          1900,
          2000,
          2100,
          2200,
          2300,
          2400,
          2500,
          2600,
          2700,
          2800,
          2900,
          3000,
          3100,
          3200,
          3300,
          3400,
          3500,
          3600,
          3700,
          3800,
          3900,
          4000,
          4100,
          4200,
          4300,
          4400,
          4500,
          4600,
          4700,
          4800,
          4900,
          5000,
          5100,
          5200,
          5300,
          5400,
          5500,
          5600,
          5700,
          5800,
          5900,
          6000,
          6100,
          6200,
          6300,
          6400,
          6500,
          6600,
          6700,
          6800,
          6900,
          7000,
          7100,
          7200,
          7300,
          7400,
          7500,
          7600,
          7700,
          7800,
          7900,
          8000,
          8100,
          8200,
          8300,
          8400,
          8500,
          8600,
          8700,
          8800,
          8900,
          9000,
          9100,
          9200,
          9300,
          9400,
          9500,
          9600,
          9700,
          9800,
          9900,
          10000,
          10100,
          10200,
          10300,
          10400,
          10500,
          10600,
          10700,
          10800,
          10900,
          11000,
          11100,
          11200,
          11300,
          11400,
          11500,
          11600,
          11700,
          11800,
          11900,
          12000,
          12100,
          12200,
          12300,
          12400,
          12500,
          12600,
          12700,
          12800,
          12900,
          13000,
          13100,
          13200,
          13300,
          13400,
          13500,
          13600,
          13700,
          13800,
          13900,
          14000,
          14100,
          14200,
          14300,
          14400,
          14500,
          14600,
          14700,
          14800,
          14900,
          15000,
          15100,
          15200,
          15300,
          15400,
          15500,
          15600,
          15700,
          15800,
          15900,
          16000,
          16100,
          16200,
          16300,
          16400,
          16500,
          16600,
          16700,
          16800,
          16900,
          17000,
          17100,
          17200,
          17300,
          17400,
          17500,
          17600,
          17700,
          17800,
          17900,
          18000,
          18100,
          18200,
          18300,
          18400,
          18500,
          18600,
          18700,
          18800,
          18900,
          19000,
          19100,
          19200,
          19300,
          19400,
          19500,
          19600,
          19700,
          19800,
          19900
         ],
         "y": [
          0.43785,
          0.4491,
          0.44875,
          0.4414,
          0.4494,
          0.4601,
          0.46065,
          0.45185,
          0.46795,
          0.4704,
          0.46695,
          0.4638,
          0.46415,
          0.4651,
          0.4635,
          0.46515,
          0.46645,
          0.46915,
          0.47605,
          0.4749,
          0.47425,
          0.4743,
          0.4759,
          0.47895,
          0.4721,
          0.47415,
          0.4675,
          0.47565,
          0.48065,
          0.47855,
          0.481,
          0.4768,
          0.4793,
          0.4798,
          0.48315,
          0.48,
          0.48325,
          0.47755,
          0.48375,
          0.4877,
          0.4771,
          0.4863,
          0.4844,
          0.4821,
          0.483,
          0.4847,
          0.48895,
          0.48725,
          0.4873,
          0.48345,
          0.48255,
          0.4788,
          0.49015,
          0.48845,
          0.4843,
          0.48535,
          0.48575,
          0.48595,
          0.48565,
          0.48395,
          0.4877,
          0.4868,
          0.48715,
          0.48645,
          0.4888,
          0.49165,
          0.4889,
          0.49025,
          0.4865,
          0.488,
          0.4846,
          0.4852,
          0.48705,
          0.48695,
          0.48365,
          0.486,
          0.48555,
          0.49055,
          0.4892,
          0.4914,
          0.4922,
          0.48165,
          0.49385,
          0.4921,
          0.4915,
          0.49325,
          0.487,
          0.4917,
          0.48625,
          0.49065,
          0.4946,
          0.4917,
          0.48575,
          0.48235,
          0.4917,
          0.4902,
          0.4904,
          0.49105,
          0.4893,
          0.4883,
          0.49045,
          0.4902,
          0.49625,
          0.4923,
          0.4922,
          0.48885,
          0.49205,
          0.49165,
          0.4915,
          0.4934,
          0.4896,
          0.4959,
          0.4948,
          0.49295,
          0.49325,
          0.49475,
          0.49255,
          0.48915,
          0.492,
          0.4877,
          0.49575,
          0.49145,
          0.4919,
          0.49885,
          0.4928,
          0.49755,
          0.4978,
          0.4933,
          0.4975,
          0.4898,
          0.49075,
          0.4935,
          0.492,
          0.49485,
          0.49475,
          0.4929,
          0.4975,
          0.49105,
          0.49075,
          0.49585,
          0.4951,
          0.4966,
          0.4928,
          0.4891,
          0.49645,
          0.49355,
          0.49625,
          0.49585,
          0.49815,
          0.4967,
          0.4908,
          0.49515,
          0.49315,
          0.49805,
          0.49525,
          0.49435,
          0.49815,
          0.49155,
          0.4929,
          0.4881,
          0.4919,
          0.49495,
          0.4957,
          0.49565,
          0.48875,
          0.4991,
          0.49535,
          0.49745,
          0.49295,
          0.4927,
          0.49515,
          0.4948,
          0.4956,
          0.4982,
          0.49175,
          0.50065,
          0.4946,
          0.49785,
          0.4932,
          0.4989,
          0.49625,
          0.4956,
          0.49335,
          0.4974,
          0.4898,
          0.49975,
          0.4996,
          0.49535,
          0.49405,
          0.4955,
          0.49315,
          0.50185,
          0.49475,
          0.4971,
          0.49865,
          0.4977,
          0.4929,
          0.49435,
          0.494
         ]
        },
        {
         "mode": "lines+markers",
         "name": "alpha = 0.5",
         "type": "scatter",
         "x": [
          100,
          200,
          300,
          400,
          500,
          600,
          700,
          800,
          900,
          1000,
          1100,
          1200,
          1300,
          1400,
          1500,
          1600,
          1700,
          1800,
          1900,
          2000,
          2100,
          2200,
          2300,
          2400,
          2500,
          2600,
          2700,
          2800,
          2900,
          3000,
          3100,
          3200,
          3300,
          3400,
          3500,
          3600,
          3700,
          3800,
          3900,
          4000,
          4100,
          4200,
          4300,
          4400,
          4500,
          4600,
          4700,
          4800,
          4900,
          5000,
          5100,
          5200,
          5300,
          5400,
          5500,
          5600,
          5700,
          5800,
          5900,
          6000,
          6100,
          6200,
          6300,
          6400,
          6500,
          6600,
          6700,
          6800,
          6900,
          7000,
          7100,
          7200,
          7300,
          7400,
          7500,
          7600,
          7700,
          7800,
          7900,
          8000,
          8100,
          8200,
          8300,
          8400,
          8500,
          8600,
          8700,
          8800,
          8900,
          9000,
          9100,
          9200,
          9300,
          9400,
          9500,
          9600,
          9700,
          9800,
          9900,
          10000,
          10100,
          10200,
          10300,
          10400,
          10500,
          10600,
          10700,
          10800,
          10900,
          11000,
          11100,
          11200,
          11300,
          11400,
          11500,
          11600,
          11700,
          11800,
          11900,
          12000,
          12100,
          12200,
          12300,
          12400,
          12500,
          12600,
          12700,
          12800,
          12900,
          13000,
          13100,
          13200,
          13300,
          13400,
          13500,
          13600,
          13700,
          13800,
          13900,
          14000,
          14100,
          14200,
          14300,
          14400,
          14500,
          14600,
          14700,
          14800,
          14900,
          15000,
          15100,
          15200,
          15300,
          15400,
          15500,
          15600,
          15700,
          15800,
          15900,
          16000,
          16100,
          16200,
          16300,
          16400,
          16500,
          16600,
          16700,
          16800,
          16900,
          17000,
          17100,
          17200,
          17300,
          17400,
          17500,
          17600,
          17700,
          17800,
          17900,
          18000,
          18100,
          18200,
          18300,
          18400,
          18500,
          18600,
          18700,
          18800,
          18900,
          19000,
          19100,
          19200,
          19300,
          19400,
          19500,
          19600,
          19700,
          19800,
          19900
         ],
         "y": [
          0.4067,
          0.42805,
          0.43925,
          0.44165,
          0.44385,
          0.44675,
          0.45775,
          0.4576,
          0.4646,
          0.46425,
          0.47235,
          0.4701,
          0.4751,
          0.48135,
          0.4726,
          0.4707,
          0.47885,
          0.4806,
          0.47975,
          0.47865,
          0.48425,
          0.48895,
          0.4875,
          0.48735,
          0.48805,
          0.4828,
          0.4858,
          0.4867,
          0.49125,
          0.48665,
          0.48585,
          0.4861,
          0.4962,
          0.4884,
          0.47935,
          0.48815,
          0.4903,
          0.4892,
          0.4985,
          0.48655,
          0.4893,
          0.4986,
          0.4882,
          0.48735,
          0.49415,
          0.49185,
          0.49535,
          0.49235,
          0.48575,
          0.49575,
          0.49605,
          0.49305,
          0.49145,
          0.49345,
          0.4923,
          0.49655,
          0.4954,
          0.4872,
          0.4926,
          0.4879,
          0.499,
          0.4915,
          0.49375,
          0.49085,
          0.49895,
          0.4929,
          0.49305,
          0.49855,
          0.4947,
          0.4985,
          0.4956,
          0.49175,
          0.49155,
          0.4939,
          0.49595,
          0.4902,
          0.49515,
          0.49305,
          0.49235,
          0.49365,
          0.4877,
          0.49485,
          0.4982,
          0.49635,
          0.4913,
          0.50035,
          0.4936,
          0.4975,
          0.4966,
          0.49885,
          0.49735,
          0.48955,
          0.4962,
          0.492,
          0.4981,
          0.49525,
          0.49575,
          0.4944,
          0.49315,
          0.49445,
          0.4937,
          0.50595,
          0.49555,
          0.4984,
          0.49775,
          0.4957,
          0.4984,
          0.49735,
          0.4869,
          0.49655,
          0.49855,
          0.5014,
          0.4959,
          0.50305,
          0.49955,
          0.49975,
          0.4983,
          0.49445,
          0.49115,
          0.49925,
          0.50035,
          0.49435,
          0.50115,
          0.4969,
          0.4935,
          0.49975,
          0.4983,
          0.49675,
          0.49495,
          0.4951,
          0.4917,
          0.50115,
          0.49875,
          0.4917,
          0.50005,
          0.49225,
          0.5033,
          0.49855,
          0.4888,
          0.4969,
          0.49675,
          0.49435,
          0.4973,
          0.4972,
          0.49875,
          0.49535,
          0.4999,
          0.4946,
          0.50425,
          0.5005,
          0.49195,
          0.50205,
          0.4942,
          0.4981,
          0.4999,
          0.49225,
          0.5003,
          0.49825,
          0.5034,
          0.5017,
          0.4946,
          0.49735,
          0.49935,
          0.4994,
          0.5027,
          0.49825,
          0.49505,
          0.49495,
          0.4992,
          0.50095,
          0.4959,
          0.49925,
          0.49765,
          0.50325,
          0.49945,
          0.5011,
          0.5,
          0.5002,
          0.49575,
          0.4933,
          0.4939,
          0.49895,
          0.49665,
          0.4933,
          0.49465,
          0.4939,
          0.50105,
          0.49555,
          0.49525,
          0.49985,
          0.4964,
          0.4982,
          0.5026,
          0.4939,
          0.4977,
          0.4973,
          0.49795,
          0.49615,
          0.5038
         ]
        },
        {
         "mode": "lines+markers",
         "name": "alpha = 1",
         "type": "scatter",
         "x": [
          100,
          200,
          300,
          400,
          500,
          600,
          700,
          800,
          900,
          1000,
          1100,
          1200,
          1300,
          1400,
          1500,
          1600,
          1700,
          1800,
          1900,
          2000,
          2100,
          2200,
          2300,
          2400,
          2500,
          2600,
          2700,
          2800,
          2900,
          3000,
          3100,
          3200,
          3300,
          3400,
          3500,
          3600,
          3700,
          3800,
          3900,
          4000,
          4100,
          4200,
          4300,
          4400,
          4500,
          4600,
          4700,
          4800,
          4900,
          5000,
          5100,
          5200,
          5300,
          5400,
          5500,
          5600,
          5700,
          5800,
          5900,
          6000,
          6100,
          6200,
          6300,
          6400,
          6500,
          6600,
          6700,
          6800,
          6900,
          7000,
          7100,
          7200,
          7300,
          7400,
          7500,
          7600,
          7700,
          7800,
          7900,
          8000,
          8100,
          8200,
          8300,
          8400,
          8500,
          8600,
          8700,
          8800,
          8900,
          9000,
          9100,
          9200,
          9300,
          9400,
          9500,
          9600,
          9700,
          9800,
          9900,
          10000,
          10100,
          10200,
          10300,
          10400,
          10500,
          10600,
          10700,
          10800,
          10900,
          11000,
          11100,
          11200,
          11300,
          11400,
          11500,
          11600,
          11700,
          11800,
          11900,
          12000,
          12100,
          12200,
          12300,
          12400,
          12500,
          12600,
          12700,
          12800,
          12900,
          13000,
          13100,
          13200,
          13300,
          13400,
          13500,
          13600,
          13700,
          13800,
          13900,
          14000,
          14100,
          14200,
          14300,
          14400,
          14500,
          14600,
          14700,
          14800,
          14900,
          15000,
          15100,
          15200,
          15300,
          15400,
          15500,
          15600,
          15700,
          15800,
          15900,
          16000,
          16100,
          16200,
          16300,
          16400,
          16500,
          16600,
          16700,
          16800,
          16900,
          17000,
          17100,
          17200,
          17300,
          17400,
          17500,
          17600,
          17700,
          17800,
          17900,
          18000,
          18100,
          18200,
          18300,
          18400,
          18500,
          18600,
          18700,
          18800,
          18900,
          19000,
          19100,
          19200,
          19300,
          19400,
          19500,
          19600,
          19700,
          19800,
          19900
         ],
         "y": [
          0.4001,
          0.44115,
          0.4443,
          0.4573,
          0.45525,
          0.45735,
          0.47035,
          0.4834,
          0.4836,
          0.47785,
          0.47585,
          0.4883,
          0.4776,
          0.4844,
          0.48975,
          0.4858,
          0.48525,
          0.48615,
          0.48925,
          0.49495,
          0.4845,
          0.4926,
          0.4968,
          0.49265,
          0.48625,
          0.4927,
          0.49065,
          0.4956,
          0.4934,
          0.49275,
          0.493,
          0.5002,
          0.49215,
          0.49935,
          0.4952,
          0.4985,
          0.49815,
          0.48915,
          0.4956,
          0.4921,
          0.4904,
          0.48725,
          0.4979,
          0.49285,
          0.50065,
          0.5014,
          0.49665,
          0.4982,
          0.49595,
          0.49565,
          0.49495,
          0.4966,
          0.49455,
          0.49555,
          0.496,
          0.49995,
          0.49445,
          0.4962,
          0.49585,
          0.50125,
          0.50055,
          0.49405,
          0.49855,
          0.49535,
          0.49815,
          0.5015,
          0.4952,
          0.49535,
          0.49485,
          0.498,
          0.4961,
          0.4971,
          0.4941,
          0.4894,
          0.49535,
          0.49835,
          0.4953,
          0.4935,
          0.497,
          0.50245,
          0.50225,
          0.49635,
          0.50095,
          0.5053,
          0.4933,
          0.4941,
          0.4959,
          0.4952,
          0.49405,
          0.50025,
          0.49835,
          0.50025,
          0.50285,
          0.4964,
          0.49395,
          0.50105,
          0.4934,
          0.49965,
          0.50025,
          0.50295,
          0.49745,
          0.49935,
          0.49805,
          0.49675,
          0.5001,
          0.49525,
          0.4927,
          0.49735,
          0.50165,
          0.4904,
          0.49425,
          0.50425,
          0.4986,
          0.50265,
          0.49635,
          0.49355,
          0.4983,
          0.49645,
          0.4994,
          0.4952,
          0.5044,
          0.4965,
          0.50465,
          0.49835,
          0.5002,
          0.50015,
          0.50255,
          0.4984,
          0.5001,
          0.49945,
          0.5001,
          0.499,
          0.50275,
          0.497,
          0.50385,
          0.4981,
          0.498,
          0.49815,
          0.49615,
          0.5061,
          0.5007,
          0.50105,
          0.4972,
          0.496,
          0.4996,
          0.49475,
          0.49525,
          0.501,
          0.5003,
          0.49505,
          0.49835,
          0.49835,
          0.49525,
          0.50335,
          0.50175,
          0.4968,
          0.49975,
          0.49415,
          0.4992,
          0.48895,
          0.5026,
          0.5018,
          0.5017,
          0.4996,
          0.4983,
          0.50475,
          0.4959,
          0.4908,
          0.49985,
          0.4947,
          0.49675,
          0.49725,
          0.498,
          0.49775,
          0.4996,
          0.5007,
          0.49835,
          0.5015,
          0.49435,
          0.49725,
          0.5009,
          0.49895,
          0.49935,
          0.5016,
          0.5005,
          0.50215,
          0.50045,
          0.49485,
          0.50205,
          0.499,
          0.5022,
          0.49835,
          0.49735,
          0.50365,
          0.49955,
          0.49955,
          0.5024,
          0.4988,
          0.4986
         ]
        },
        {
         "mode": "lines+markers",
         "name": "alpha = 1.5",
         "type": "scatter",
         "x": [
          100,
          200,
          300,
          400,
          500,
          600,
          700,
          800,
          900,
          1000,
          1100,
          1200,
          1300,
          1400,
          1500,
          1600,
          1700,
          1800,
          1900,
          2000,
          2100,
          2200,
          2300,
          2400,
          2500,
          2600,
          2700,
          2800,
          2900,
          3000,
          3100,
          3200,
          3300,
          3400,
          3500,
          3600,
          3700,
          3800,
          3900,
          4000,
          4100,
          4200,
          4300,
          4400,
          4500,
          4600,
          4700,
          4800,
          4900,
          5000,
          5100,
          5200,
          5300,
          5400,
          5500,
          5600,
          5700,
          5800,
          5900,
          6000,
          6100,
          6200,
          6300,
          6400,
          6500,
          6600,
          6700,
          6800,
          6900,
          7000,
          7100,
          7200,
          7300,
          7400,
          7500,
          7600,
          7700,
          7800,
          7900,
          8000,
          8100,
          8200,
          8300,
          8400,
          8500,
          8600,
          8700,
          8800,
          8900,
          9000,
          9100,
          9200,
          9300,
          9400,
          9500,
          9600,
          9700,
          9800,
          9900,
          10000,
          10100,
          10200,
          10300,
          10400,
          10500,
          10600,
          10700,
          10800,
          10900,
          11000,
          11100,
          11200,
          11300,
          11400,
          11500,
          11600,
          11700,
          11800,
          11900,
          12000,
          12100,
          12200,
          12300,
          12400,
          12500,
          12600,
          12700,
          12800,
          12900,
          13000,
          13100,
          13200,
          13300,
          13400,
          13500,
          13600,
          13700,
          13800,
          13900,
          14000,
          14100,
          14200,
          14300,
          14400,
          14500,
          14600,
          14700,
          14800,
          14900,
          15000,
          15100,
          15200,
          15300,
          15400,
          15500,
          15600,
          15700,
          15800,
          15900,
          16000,
          16100,
          16200,
          16300,
          16400,
          16500,
          16600,
          16700,
          16800,
          16900,
          17000,
          17100,
          17200,
          17300,
          17400,
          17500,
          17600,
          17700,
          17800,
          17900,
          18000,
          18100,
          18200,
          18300,
          18400,
          18500,
          18600,
          18700,
          18800,
          18900,
          19000,
          19100,
          19200,
          19300,
          19400,
          19500,
          19600,
          19700,
          19800,
          19900
         ],
         "y": [
          0.40045,
          0.44505,
          0.4584,
          0.4719,
          0.4758,
          0.4831,
          0.48055,
          0.47995,
          0.48915,
          0.48465,
          0.49,
          0.48495,
          0.49035,
          0.47975,
          0.4902,
          0.4944,
          0.4839,
          0.4941,
          0.4966,
          0.4873,
          0.49225,
          0.49265,
          0.4917,
          0.4889,
          0.48945,
          0.49135,
          0.49895,
          0.4947,
          0.49805,
          0.49475,
          0.4978,
          0.4899,
          0.50045,
          0.49935,
          0.50135,
          0.4926,
          0.4923,
          0.4915,
          0.4986,
          0.49535,
          0.489,
          0.49485,
          0.4938,
          0.5027,
          0.4927,
          0.49335,
          0.49535,
          0.4967,
          0.49165,
          0.50215,
          0.49485,
          0.4925,
          0.4975,
          0.50125,
          0.50185,
          0.49845,
          0.4992,
          0.5018,
          0.49235,
          0.4943,
          0.49325,
          0.4963,
          0.4976,
          0.49935,
          0.4934,
          0.4992,
          0.4992,
          0.4943,
          0.5015,
          0.49735,
          0.4968,
          0.49715,
          0.4952,
          0.5006,
          0.4975,
          0.5027,
          0.5014,
          0.5033,
          0.5023,
          0.5003,
          0.5052,
          0.5077,
          0.49635,
          0.5027,
          0.50005,
          0.503,
          0.4971,
          0.5024,
          0.494,
          0.49505,
          0.49605,
          0.50055,
          0.49935,
          0.50295,
          0.50045,
          0.50285,
          0.50275,
          0.4936,
          0.49755,
          0.49715,
          0.5017,
          0.49285,
          0.50165,
          0.5028,
          0.5,
          0.5042,
          0.50115,
          0.49585,
          0.49765,
          0.4952,
          0.49865,
          0.48865,
          0.4947,
          0.49725,
          0.50525,
          0.5003,
          0.5032,
          0.50295,
          0.49865,
          0.4993,
          0.4989,
          0.4946,
          0.49495,
          0.5041,
          0.4968,
          0.5016,
          0.49705,
          0.49505,
          0.49825,
          0.4992,
          0.49805,
          0.50105,
          0.5004,
          0.50175,
          0.50595,
          0.5039,
          0.50255,
          0.5008,
          0.50125,
          0.50225,
          0.4988,
          0.49545,
          0.4962,
          0.4999,
          0.4977,
          0.49835,
          0.49795,
          0.50985,
          0.49905,
          0.4978,
          0.49735,
          0.4955,
          0.50145,
          0.5039,
          0.50345,
          0.5002,
          0.4958,
          0.5017,
          0.50345,
          0.49825,
          0.50305,
          0.4986,
          0.49305,
          0.5038,
          0.505,
          0.50045,
          0.49505,
          0.49495,
          0.494,
          0.49925,
          0.4971,
          0.49405,
          0.50085,
          0.499,
          0.49725,
          0.50165,
          0.5012,
          0.50005,
          0.50105,
          0.49285,
          0.49885,
          0.50485,
          0.496,
          0.49975,
          0.5035,
          0.49975,
          0.498,
          0.50325,
          0.50315,
          0.50225,
          0.49695,
          0.5012,
          0.4999,
          0.49905,
          0.50185,
          0.5024,
          0.49665,
          0.49805,
          0.49805
         ]
        },
        {
         "mode": "lines+markers",
         "name": "alpha = 2",
         "type": "scatter",
         "x": [
          100,
          200,
          300,
          400,
          500,
          600,
          700,
          800,
          900,
          1000,
          1100,
          1200,
          1300,
          1400,
          1500,
          1600,
          1700,
          1800,
          1900,
          2000,
          2100,
          2200,
          2300,
          2400,
          2500,
          2600,
          2700,
          2800,
          2900,
          3000,
          3100,
          3200,
          3300,
          3400,
          3500,
          3600,
          3700,
          3800,
          3900,
          4000,
          4100,
          4200,
          4300,
          4400,
          4500,
          4600,
          4700,
          4800,
          4900,
          5000,
          5100,
          5200,
          5300,
          5400,
          5500,
          5600,
          5700,
          5800,
          5900,
          6000,
          6100,
          6200,
          6300,
          6400,
          6500,
          6600,
          6700,
          6800,
          6900,
          7000,
          7100,
          7200,
          7300,
          7400,
          7500,
          7600,
          7700,
          7800,
          7900,
          8000,
          8100,
          8200,
          8300,
          8400,
          8500,
          8600,
          8700,
          8800,
          8900,
          9000,
          9100,
          9200,
          9300,
          9400,
          9500,
          9600,
          9700,
          9800,
          9900,
          10000,
          10100,
          10200,
          10300,
          10400,
          10500,
          10600,
          10700,
          10800,
          10900,
          11000,
          11100,
          11200,
          11300,
          11400,
          11500,
          11600,
          11700,
          11800,
          11900,
          12000,
          12100,
          12200,
          12300,
          12400,
          12500,
          12600,
          12700,
          12800,
          12900,
          13000,
          13100,
          13200,
          13300,
          13400,
          13500,
          13600,
          13700,
          13800,
          13900,
          14000,
          14100,
          14200,
          14300,
          14400,
          14500,
          14600,
          14700,
          14800,
          14900,
          15000,
          15100,
          15200,
          15300,
          15400,
          15500,
          15600,
          15700,
          15800,
          15900,
          16000,
          16100,
          16200,
          16300,
          16400,
          16500,
          16600,
          16700,
          16800,
          16900,
          17000,
          17100,
          17200,
          17300,
          17400,
          17500,
          17600,
          17700,
          17800,
          17900,
          18000,
          18100,
          18200,
          18300,
          18400,
          18500,
          18600,
          18700,
          18800,
          18900,
          19000,
          19100,
          19200,
          19300,
          19400,
          19500,
          19600,
          19700,
          19800,
          19900
         ],
         "y": [
          0.43725,
          0.459,
          0.47005,
          0.4735,
          0.4836,
          0.4796,
          0.48125,
          0.49125,
          0.4921,
          0.4929,
          0.48665,
          0.4913,
          0.49455,
          0.4899,
          0.4942,
          0.48375,
          0.4888,
          0.4966,
          0.5018,
          0.49625,
          0.4962,
          0.4978,
          0.4991,
          0.49635,
          0.501,
          0.4976,
          0.49215,
          0.4928,
          0.4988,
          0.5003,
          0.50315,
          0.50015,
          0.49635,
          0.4944,
          0.5005,
          0.49845,
          0.49525,
          0.4985,
          0.50165,
          0.5051,
          0.50255,
          0.4966,
          0.4942,
          0.4937,
          0.4943,
          0.5015,
          0.4984,
          0.49795,
          0.5,
          0.4986,
          0.49565,
          0.49235,
          0.4972,
          0.49675,
          0.5041,
          0.49115,
          0.5,
          0.49475,
          0.49235,
          0.4975,
          0.5007,
          0.49685,
          0.5011,
          0.49995,
          0.50355,
          0.49505,
          0.5018,
          0.5038,
          0.4928,
          0.49635,
          0.5024,
          0.50165,
          0.49475,
          0.49805,
          0.5001,
          0.5003,
          0.503,
          0.49715,
          0.4996,
          0.50485,
          0.4969,
          0.49575,
          0.49935,
          0.5027,
          0.5016,
          0.49915,
          0.4904,
          0.49495,
          0.49565,
          0.4986,
          0.4921,
          0.4923,
          0.49845,
          0.49545,
          0.4936,
          0.49445,
          0.49905,
          0.49995,
          0.49995,
          0.49895,
          0.4986,
          0.5026,
          0.4989,
          0.49895,
          0.49295,
          0.498,
          0.50005,
          0.4964,
          0.4986,
          0.50065,
          0.5002,
          0.5031,
          0.49795,
          0.50035,
          0.50105,
          0.50605,
          0.5027,
          0.50065,
          0.50005,
          0.49965,
          0.4992,
          0.50655,
          0.49925,
          0.49495,
          0.4949,
          0.4903,
          0.49665,
          0.5016,
          0.497,
          0.49945,
          0.5052,
          0.50365,
          0.49925,
          0.50115,
          0.50405,
          0.4913,
          0.4932,
          0.50175,
          0.50305,
          0.4988,
          0.49885,
          0.5034,
          0.49805,
          0.5038,
          0.49875,
          0.4946,
          0.50775,
          0.50225,
          0.5015,
          0.49815,
          0.499,
          0.4975,
          0.49145,
          0.49645,
          0.50205,
          0.5046,
          0.4969,
          0.49585,
          0.50245,
          0.49815,
          0.49925,
          0.49815,
          0.5033,
          0.49585,
          0.49605,
          0.50355,
          0.495,
          0.4966,
          0.50115,
          0.49355,
          0.4971,
          0.5013,
          0.49685,
          0.49555,
          0.4949,
          0.4931,
          0.50035,
          0.49925,
          0.5012,
          0.50235,
          0.50645,
          0.50055,
          0.4947,
          0.4987,
          0.50065,
          0.49325,
          0.502,
          0.4997,
          0.5009,
          0.5028,
          0.4964,
          0.50085,
          0.49775,
          0.49535,
          0.49815,
          0.49815,
          0.49795,
          0.50085,
          0.4992
         ]
        },
        {
         "mode": "lines+markers",
         "name": "alpha = 2.5",
         "type": "scatter",
         "x": [
          100,
          200,
          300,
          400,
          500,
          600,
          700,
          800,
          900,
          1000,
          1100,
          1200,
          1300,
          1400,
          1500,
          1600,
          1700,
          1800,
          1900,
          2000,
          2100,
          2200,
          2300,
          2400,
          2500,
          2600,
          2700,
          2800,
          2900,
          3000,
          3100,
          3200,
          3300,
          3400,
          3500,
          3600,
          3700,
          3800,
          3900,
          4000,
          4100,
          4200,
          4300,
          4400,
          4500,
          4600,
          4700,
          4800,
          4900,
          5000,
          5100,
          5200,
          5300,
          5400,
          5500,
          5600,
          5700,
          5800,
          5900,
          6000,
          6100,
          6200,
          6300,
          6400,
          6500,
          6600,
          6700,
          6800,
          6900,
          7000,
          7100,
          7200,
          7300,
          7400,
          7500,
          7600,
          7700,
          7800,
          7900,
          8000,
          8100,
          8200,
          8300,
          8400,
          8500,
          8600,
          8700,
          8800,
          8900,
          9000,
          9100,
          9200,
          9300,
          9400,
          9500,
          9600,
          9700,
          9800,
          9900,
          10000,
          10100,
          10200,
          10300,
          10400,
          10500,
          10600,
          10700,
          10800,
          10900,
          11000,
          11100,
          11200,
          11300,
          11400,
          11500,
          11600,
          11700,
          11800,
          11900,
          12000,
          12100,
          12200,
          12300,
          12400,
          12500,
          12600,
          12700,
          12800,
          12900,
          13000,
          13100,
          13200,
          13300,
          13400,
          13500,
          13600,
          13700,
          13800,
          13900,
          14000,
          14100,
          14200,
          14300,
          14400,
          14500,
          14600,
          14700,
          14800,
          14900,
          15000,
          15100,
          15200,
          15300,
          15400,
          15500,
          15600,
          15700,
          15800,
          15900,
          16000,
          16100,
          16200,
          16300,
          16400,
          16500,
          16600,
          16700,
          16800,
          16900,
          17000,
          17100,
          17200,
          17300,
          17400,
          17500,
          17600,
          17700,
          17800,
          17900,
          18000,
          18100,
          18200,
          18300,
          18400,
          18500,
          18600,
          18700,
          18800,
          18900,
          19000,
          19100,
          19200,
          19300,
          19400,
          19500,
          19600,
          19700,
          19800,
          19900
         ],
         "y": [
          0.4318,
          0.46825,
          0.483,
          0.4828,
          0.48655,
          0.4856,
          0.48625,
          0.48505,
          0.4949,
          0.48925,
          0.489,
          0.49,
          0.4888,
          0.4921,
          0.4927,
          0.4941,
          0.4951,
          0.4964,
          0.4983,
          0.49435,
          0.4996,
          0.50005,
          0.49475,
          0.50225,
          0.49575,
          0.50095,
          0.4994,
          0.49615,
          0.5024,
          0.50045,
          0.49425,
          0.4986,
          0.50205,
          0.4979,
          0.4951,
          0.49675,
          0.501,
          0.4926,
          0.5011,
          0.4968,
          0.4963,
          0.49495,
          0.5006,
          0.4966,
          0.494,
          0.50125,
          0.49875,
          0.4962,
          0.50025,
          0.4938,
          0.5002,
          0.49925,
          0.50235,
          0.497,
          0.497,
          0.4983,
          0.4993,
          0.5018,
          0.50635,
          0.49535,
          0.5068,
          0.49335,
          0.49495,
          0.5003,
          0.48955,
          0.49435,
          0.4971,
          0.497,
          0.49565,
          0.5041,
          0.495,
          0.49935,
          0.50665,
          0.4968,
          0.49775,
          0.5004,
          0.5031,
          0.4954,
          0.5012,
          0.498,
          0.5003,
          0.4986,
          0.49705,
          0.4939,
          0.49615,
          0.50275,
          0.49955,
          0.5021,
          0.49975,
          0.4942,
          0.4959,
          0.4916,
          0.4918,
          0.4968,
          0.4974,
          0.5043,
          0.49525,
          0.49815,
          0.4964,
          0.4987,
          0.50475,
          0.5031,
          0.50145,
          0.4946,
          0.4985,
          0.49945,
          0.4983,
          0.4914,
          0.49625,
          0.50505,
          0.5024,
          0.50015,
          0.50535,
          0.505,
          0.49825,
          0.50305,
          0.49635,
          0.5035,
          0.49695,
          0.49895,
          0.49865,
          0.50035,
          0.49685,
          0.5041,
          0.49495,
          0.49845,
          0.503,
          0.50115,
          0.5008,
          0.50245,
          0.4958,
          0.4955,
          0.49705,
          0.5001,
          0.50015,
          0.494,
          0.4978,
          0.5004,
          0.5005,
          0.49305,
          0.49945,
          0.4981,
          0.49965,
          0.4969,
          0.50145,
          0.50045,
          0.505,
          0.49945,
          0.5045,
          0.5018,
          0.50205,
          0.49615,
          0.4996,
          0.4997,
          0.50255,
          0.50015,
          0.50005,
          0.4978,
          0.4972,
          0.50105,
          0.49665,
          0.4948,
          0.49255,
          0.5009,
          0.5026,
          0.50005,
          0.50735,
          0.50165,
          0.4961,
          0.50025,
          0.50465,
          0.49955,
          0.4991,
          0.49835,
          0.4996,
          0.4992,
          0.50015,
          0.4985,
          0.5034,
          0.49865,
          0.49815,
          0.5062,
          0.4957,
          0.5006,
          0.4979,
          0.49715,
          0.4998,
          0.5007,
          0.49455,
          0.5012,
          0.50765,
          0.49995,
          0.49175,
          0.50165,
          0.49585,
          0.5021,
          0.49685,
          0.49265,
          0.5066
         ]
        },
        {
         "mode": "lines+markers",
         "name": "alpha = 3",
         "type": "scatter",
         "x": [
          100,
          200,
          300,
          400,
          500,
          600,
          700,
          800,
          900,
          1000,
          1100,
          1200,
          1300,
          1400,
          1500,
          1600,
          1700,
          1800,
          1900,
          2000,
          2100,
          2200,
          2300,
          2400,
          2500,
          2600,
          2700,
          2800,
          2900,
          3000,
          3100,
          3200,
          3300,
          3400,
          3500,
          3600,
          3700,
          3800,
          3900,
          4000,
          4100,
          4200,
          4300,
          4400,
          4500,
          4600,
          4700,
          4800,
          4900,
          5000,
          5100,
          5200,
          5300,
          5400,
          5500,
          5600,
          5700,
          5800,
          5900,
          6000,
          6100,
          6200,
          6300,
          6400,
          6500,
          6600,
          6700,
          6800,
          6900,
          7000,
          7100,
          7200,
          7300,
          7400,
          7500,
          7600,
          7700,
          7800,
          7900,
          8000,
          8100,
          8200,
          8300,
          8400,
          8500,
          8600,
          8700,
          8800,
          8900,
          9000,
          9100,
          9200,
          9300,
          9400,
          9500,
          9600,
          9700,
          9800,
          9900,
          10000,
          10100,
          10200,
          10300,
          10400,
          10500,
          10600,
          10700,
          10800,
          10900,
          11000,
          11100,
          11200,
          11300,
          11400,
          11500,
          11600,
          11700,
          11800,
          11900,
          12000,
          12100,
          12200,
          12300,
          12400,
          12500,
          12600,
          12700,
          12800,
          12900,
          13000,
          13100,
          13200,
          13300,
          13400,
          13500,
          13600,
          13700,
          13800,
          13900,
          14000,
          14100,
          14200,
          14300,
          14400,
          14500,
          14600,
          14700,
          14800,
          14900,
          15000,
          15100,
          15200,
          15300,
          15400,
          15500,
          15600,
          15700,
          15800,
          15900,
          16000,
          16100,
          16200,
          16300,
          16400,
          16500,
          16600,
          16700,
          16800,
          16900,
          17000,
          17100,
          17200,
          17300,
          17400,
          17500,
          17600,
          17700,
          17800,
          17900,
          18000,
          18100,
          18200,
          18300,
          18400,
          18500,
          18600,
          18700,
          18800,
          18900,
          19000,
          19100,
          19200,
          19300,
          19400,
          19500,
          19600,
          19700,
          19800,
          19900
         ],
         "y": [
          0.43545,
          0.46525,
          0.4823,
          0.47955,
          0.4863,
          0.4868,
          0.4935,
          0.5006,
          0.49385,
          0.4924,
          0.4957,
          0.49535,
          0.49465,
          0.49675,
          0.4976,
          0.49785,
          0.4973,
          0.4955,
          0.493,
          0.4993,
          0.49935,
          0.4995,
          0.5002,
          0.50005,
          0.50115,
          0.4982,
          0.49765,
          0.49765,
          0.4944,
          0.50165,
          0.4966,
          0.5024,
          0.4944,
          0.496,
          0.50195,
          0.49795,
          0.49705,
          0.4986,
          0.501,
          0.50105,
          0.4984,
          0.501,
          0.4914,
          0.50085,
          0.49975,
          0.50185,
          0.49245,
          0.4999,
          0.49695,
          0.49815,
          0.50145,
          0.4987,
          0.49645,
          0.49815,
          0.5012,
          0.50025,
          0.4978,
          0.4991,
          0.5018,
          0.49765,
          0.50355,
          0.49915,
          0.4991,
          0.49915,
          0.49605,
          0.50105,
          0.50645,
          0.4962,
          0.4986,
          0.498,
          0.49905,
          0.49805,
          0.50125,
          0.50325,
          0.4938,
          0.49475,
          0.4908,
          0.50155,
          0.50545,
          0.49255,
          0.49685,
          0.5001,
          0.50265,
          0.50015,
          0.501,
          0.4938,
          0.4971,
          0.49595,
          0.49975,
          0.5002,
          0.49415,
          0.49835,
          0.49475,
          0.4958,
          0.49975,
          0.50155,
          0.50125,
          0.5005,
          0.5016,
          0.50735,
          0.49735,
          0.50165,
          0.49615,
          0.4999,
          0.4959,
          0.5025,
          0.50485,
          0.4972,
          0.49395,
          0.50105,
          0.50135,
          0.49755,
          0.5002,
          0.4997,
          0.5,
          0.49515,
          0.49825,
          0.5005,
          0.4921,
          0.49905,
          0.5031,
          0.4906,
          0.49695,
          0.4997,
          0.5012,
          0.49835,
          0.4991,
          0.50385,
          0.4979,
          0.49535,
          0.497,
          0.4996,
          0.4983,
          0.4913,
          0.5003,
          0.50265,
          0.5056,
          0.5006,
          0.5033,
          0.5022,
          0.5027,
          0.4957,
          0.49725,
          0.5063,
          0.49965,
          0.4973,
          0.4996,
          0.5008,
          0.50175,
          0.4939,
          0.5019,
          0.5005,
          0.501,
          0.49725,
          0.4924,
          0.5002,
          0.49345,
          0.49755,
          0.49955,
          0.50595,
          0.4998,
          0.49855,
          0.5,
          0.50535,
          0.49755,
          0.4981,
          0.50355,
          0.49555,
          0.4939,
          0.5011,
          0.50185,
          0.4959,
          0.50225,
          0.4924,
          0.49675,
          0.5068,
          0.49885,
          0.50005,
          0.4994,
          0.4926,
          0.50615,
          0.4998,
          0.4956,
          0.49855,
          0.50325,
          0.4942,
          0.50045,
          0.4957,
          0.50195,
          0.49835,
          0.50195,
          0.50475,
          0.50525,
          0.5043,
          0.5012,
          0.5019,
          0.5067,
          0.50075,
          0.50015
         ]
        }
       ],
       "layout": {
        "annotations": [
         {
          "showarrow": false,
          "text": "BER 50%",
          "x": 0,
          "xanchor": "left",
          "xref": "x domain",
          "y": 0.5,
          "yanchor": "top",
          "yref": "y"
         }
        ],
        "height": 500,
        "legend": {
         "title": {
          "text": "Valeurs de alpha"
         }
        },
        "shapes": [
         {
          "line": {
           "color": "red",
           "dash": "dot"
          },
          "type": "line",
          "x0": 0,
          "x1": 1,
          "xref": "x domain",
          "y0": 0.5,
          "y1": 0.5,
          "yref": "y"
         }
        ],
        "template": {
         "data": {
          "bar": [
           {
            "error_x": {
             "color": "#2a3f5f"
            },
            "error_y": {
             "color": "#2a3f5f"
            },
            "marker": {
             "line": {
              "color": "#E5ECF6",
              "width": 0.5
             },
             "pattern": {
              "fillmode": "overlay",
              "size": 10,
              "solidity": 0.2
             }
            },
            "type": "bar"
           }
          ],
          "barpolar": [
           {
            "marker": {
             "line": {
              "color": "#E5ECF6",
              "width": 0.5
             },
             "pattern": {
              "fillmode": "overlay",
              "size": 10,
              "solidity": 0.2
             }
            },
            "type": "barpolar"
           }
          ],
          "carpet": [
           {
            "aaxis": {
             "endlinecolor": "#2a3f5f",
             "gridcolor": "white",
             "linecolor": "white",
             "minorgridcolor": "white",
             "startlinecolor": "#2a3f5f"
            },
            "baxis": {
             "endlinecolor": "#2a3f5f",
             "gridcolor": "white",
             "linecolor": "white",
             "minorgridcolor": "white",
             "startlinecolor": "#2a3f5f"
            },
            "type": "carpet"
           }
          ],
          "choropleth": [
           {
            "colorbar": {
             "outlinewidth": 0,
             "ticks": ""
            },
            "type": "choropleth"
           }
          ],
          "contour": [
           {
            "colorbar": {
             "outlinewidth": 0,
             "ticks": ""
            },
            "colorscale": [
             [
              0,
              "#0d0887"
             ],
             [
              0.1111111111111111,
              "#46039f"
             ],
             [
              0.2222222222222222,
              "#7201a8"
             ],
             [
              0.3333333333333333,
              "#9c179e"
             ],
             [
              0.4444444444444444,
              "#bd3786"
             ],
             [
              0.5555555555555556,
              "#d8576b"
             ],
             [
              0.6666666666666666,
              "#ed7953"
             ],
             [
              0.7777777777777778,
              "#fb9f3a"
             ],
             [
              0.8888888888888888,
              "#fdca26"
             ],
             [
              1,
              "#f0f921"
             ]
            ],
            "type": "contour"
           }
          ],
          "contourcarpet": [
           {
            "colorbar": {
             "outlinewidth": 0,
             "ticks": ""
            },
            "type": "contourcarpet"
           }
          ],
          "heatmap": [
           {
            "colorbar": {
             "outlinewidth": 0,
             "ticks": ""
            },
            "colorscale": [
             [
              0,
              "#0d0887"
             ],
             [
              0.1111111111111111,
              "#46039f"
             ],
             [
              0.2222222222222222,
              "#7201a8"
             ],
             [
              0.3333333333333333,
              "#9c179e"
             ],
             [
              0.4444444444444444,
              "#bd3786"
             ],
             [
              0.5555555555555556,
              "#d8576b"
             ],
             [
              0.6666666666666666,
              "#ed7953"
             ],
             [
              0.7777777777777778,
              "#fb9f3a"
             ],
             [
              0.8888888888888888,
              "#fdca26"
             ],
             [
              1,
              "#f0f921"
             ]
            ],
            "type": "heatmap"
           }
          ],
          "heatmapgl": [
           {
            "colorbar": {
             "outlinewidth": 0,
             "ticks": ""
            },
            "colorscale": [
             [
              0,
              "#0d0887"
             ],
             [
              0.1111111111111111,
              "#46039f"
             ],
             [
              0.2222222222222222,
              "#7201a8"
             ],
             [
              0.3333333333333333,
              "#9c179e"
             ],
             [
              0.4444444444444444,
              "#bd3786"
             ],
             [
              0.5555555555555556,
              "#d8576b"
             ],
             [
              0.6666666666666666,
              "#ed7953"
             ],
             [
              0.7777777777777778,
              "#fb9f3a"
             ],
             [
              0.8888888888888888,
              "#fdca26"
             ],
             [
              1,
              "#f0f921"
             ]
            ],
            "type": "heatmapgl"
           }
          ],
          "histogram": [
           {
            "marker": {
             "pattern": {
              "fillmode": "overlay",
              "size": 10,
              "solidity": 0.2
             }
            },
            "type": "histogram"
           }
          ],
          "histogram2d": [
           {
            "colorbar": {
             "outlinewidth": 0,
             "ticks": ""
            },
            "colorscale": [
             [
              0,
              "#0d0887"
             ],
             [
              0.1111111111111111,
              "#46039f"
             ],
             [
              0.2222222222222222,
              "#7201a8"
             ],
             [
              0.3333333333333333,
              "#9c179e"
             ],
             [
              0.4444444444444444,
              "#bd3786"
             ],
             [
              0.5555555555555556,
              "#d8576b"
             ],
             [
              0.6666666666666666,
              "#ed7953"
             ],
             [
              0.7777777777777778,
              "#fb9f3a"
             ],
             [
              0.8888888888888888,
              "#fdca26"
             ],
             [
              1,
              "#f0f921"
             ]
            ],
            "type": "histogram2d"
           }
          ],
          "histogram2dcontour": [
           {
            "colorbar": {
             "outlinewidth": 0,
             "ticks": ""
            },
            "colorscale": [
             [
              0,
              "#0d0887"
             ],
             [
              0.1111111111111111,
              "#46039f"
             ],
             [
              0.2222222222222222,
              "#7201a8"
             ],
             [
              0.3333333333333333,
              "#9c179e"
             ],
             [
              0.4444444444444444,
              "#bd3786"
             ],
             [
              0.5555555555555556,
              "#d8576b"
             ],
             [
              0.6666666666666666,
              "#ed7953"
             ],
             [
              0.7777777777777778,
              "#fb9f3a"
             ],
             [
              0.8888888888888888,
              "#fdca26"
             ],
             [
              1,
              "#f0f921"
             ]
            ],
            "type": "histogram2dcontour"
           }
          ],
          "mesh3d": [
           {
            "colorbar": {
             "outlinewidth": 0,
             "ticks": ""
            },
            "type": "mesh3d"
           }
          ],
          "parcoords": [
           {
            "line": {
             "colorbar": {
              "outlinewidth": 0,
              "ticks": ""
             }
            },
            "type": "parcoords"
           }
          ],
          "pie": [
           {
            "automargin": true,
            "type": "pie"
           }
          ],
          "scatter": [
           {
            "fillpattern": {
             "fillmode": "overlay",
             "size": 10,
             "solidity": 0.2
            },
            "type": "scatter"
           }
          ],
          "scatter3d": [
           {
            "line": {
             "colorbar": {
              "outlinewidth": 0,
              "ticks": ""
             }
            },
            "marker": {
             "colorbar": {
              "outlinewidth": 0,
              "ticks": ""
             }
            },
            "type": "scatter3d"
           }
          ],
          "scattercarpet": [
           {
            "marker": {
             "colorbar": {
              "outlinewidth": 0,
              "ticks": ""
             }
            },
            "type": "scattercarpet"
           }
          ],
          "scattergeo": [
           {
            "marker": {
             "colorbar": {
              "outlinewidth": 0,
              "ticks": ""
             }
            },
            "type": "scattergeo"
           }
          ],
          "scattergl": [
           {
            "marker": {
             "colorbar": {
              "outlinewidth": 0,
              "ticks": ""
             }
            },
            "type": "scattergl"
           }
          ],
          "scattermapbox": [
           {
            "marker": {
             "colorbar": {
              "outlinewidth": 0,
              "ticks": ""
             }
            },
            "type": "scattermapbox"
           }
          ],
          "scatterpolar": [
           {
            "marker": {
             "colorbar": {
              "outlinewidth": 0,
              "ticks": ""
             }
            },
            "type": "scatterpolar"
           }
          ],
          "scatterpolargl": [
           {
            "marker": {
             "colorbar": {
              "outlinewidth": 0,
              "ticks": ""
             }
            },
            "type": "scatterpolargl"
           }
          ],
          "scatterternary": [
           {
            "marker": {
             "colorbar": {
              "outlinewidth": 0,
              "ticks": ""
             }
            },
            "type": "scatterternary"
           }
          ],
          "surface": [
           {
            "colorbar": {
             "outlinewidth": 0,
             "ticks": ""
            },
            "colorscale": [
             [
              0,
              "#0d0887"
             ],
             [
              0.1111111111111111,
              "#46039f"
             ],
             [
              0.2222222222222222,
              "#7201a8"
             ],
             [
              0.3333333333333333,
              "#9c179e"
             ],
             [
              0.4444444444444444,
              "#bd3786"
             ],
             [
              0.5555555555555556,
              "#d8576b"
             ],
             [
              0.6666666666666666,
              "#ed7953"
             ],
             [
              0.7777777777777778,
              "#fb9f3a"
             ],
             [
              0.8888888888888888,
              "#fdca26"
             ],
             [
              1,
              "#f0f921"
             ]
            ],
            "type": "surface"
           }
          ],
          "table": [
           {
            "cells": {
             "fill": {
              "color": "#EBF0F8"
             },
             "line": {
              "color": "white"
             }
            },
            "header": {
             "fill": {
              "color": "#C8D4E3"
             },
             "line": {
              "color": "white"
             }
            },
            "type": "table"
           }
          ]
         },
         "layout": {
          "annotationdefaults": {
           "arrowcolor": "#2a3f5f",
           "arrowhead": 0,
           "arrowwidth": 1
          },
          "autotypenumbers": "strict",
          "coloraxis": {
           "colorbar": {
            "outlinewidth": 0,
            "ticks": ""
           }
          },
          "colorscale": {
           "diverging": [
            [
             0,
             "#8e0152"
            ],
            [
             0.1,
             "#c51b7d"
            ],
            [
             0.2,
             "#de77ae"
            ],
            [
             0.3,
             "#f1b6da"
            ],
            [
             0.4,
             "#fde0ef"
            ],
            [
             0.5,
             "#f7f7f7"
            ],
            [
             0.6,
             "#e6f5d0"
            ],
            [
             0.7,
             "#b8e186"
            ],
            [
             0.8,
             "#7fbc41"
            ],
            [
             0.9,
             "#4d9221"
            ],
            [
             1,
             "#276419"
            ]
           ],
           "sequential": [
            [
             0,
             "#0d0887"
            ],
            [
             0.1111111111111111,
             "#46039f"
            ],
            [
             0.2222222222222222,
             "#7201a8"
            ],
            [
             0.3333333333333333,
             "#9c179e"
            ],
            [
             0.4444444444444444,
             "#bd3786"
            ],
            [
             0.5555555555555556,
             "#d8576b"
            ],
            [
             0.6666666666666666,
             "#ed7953"
            ],
            [
             0.7777777777777778,
             "#fb9f3a"
            ],
            [
             0.8888888888888888,
             "#fdca26"
            ],
            [
             1,
             "#f0f921"
            ]
           ],
           "sequentialminus": [
            [
             0,
             "#0d0887"
            ],
            [
             0.1111111111111111,
             "#46039f"
            ],
            [
             0.2222222222222222,
             "#7201a8"
            ],
            [
             0.3333333333333333,
             "#9c179e"
            ],
            [
             0.4444444444444444,
             "#bd3786"
            ],
            [
             0.5555555555555556,
             "#d8576b"
            ],
            [
             0.6666666666666666,
             "#ed7953"
            ],
            [
             0.7777777777777778,
             "#fb9f3a"
            ],
            [
             0.8888888888888888,
             "#fdca26"
            ],
            [
             1,
             "#f0f921"
            ]
           ]
          },
          "colorway": [
           "#636efa",
           "#EF553B",
           "#00cc96",
           "#ab63fa",
           "#FFA15A",
           "#19d3f3",
           "#FF6692",
           "#B6E880",
           "#FF97FF",
           "#FECB52"
          ],
          "font": {
           "color": "#2a3f5f"
          },
          "geo": {
           "bgcolor": "white",
           "lakecolor": "white",
           "landcolor": "#E5ECF6",
           "showlakes": true,
           "showland": true,
           "subunitcolor": "white"
          },
          "hoverlabel": {
           "align": "left"
          },
          "hovermode": "closest",
          "mapbox": {
           "style": "light"
          },
          "paper_bgcolor": "white",
          "plot_bgcolor": "#E5ECF6",
          "polar": {
           "angularaxis": {
            "gridcolor": "white",
            "linecolor": "white",
            "ticks": ""
           },
           "bgcolor": "#E5ECF6",
           "radialaxis": {
            "gridcolor": "white",
            "linecolor": "white",
            "ticks": ""
           }
          },
          "scene": {
           "xaxis": {
            "backgroundcolor": "#E5ECF6",
            "gridcolor": "white",
            "gridwidth": 2,
            "linecolor": "white",
            "showbackground": true,
            "ticks": "",
            "zerolinecolor": "white"
           },
           "yaxis": {
            "backgroundcolor": "#E5ECF6",
            "gridcolor": "white",
            "gridwidth": 2,
            "linecolor": "white",
            "showbackground": true,
            "ticks": "",
            "zerolinecolor": "white"
           },
           "zaxis": {
            "backgroundcolor": "#E5ECF6",
            "gridcolor": "white",
            "gridwidth": 2,
            "linecolor": "white",
            "showbackground": true,
            "ticks": "",
            "zerolinecolor": "white"
           }
          },
          "shapedefaults": {
           "line": {
            "color": "#2a3f5f"
           }
          },
          "ternary": {
           "aaxis": {
            "gridcolor": "white",
            "linecolor": "white",
            "ticks": ""
           },
           "baxis": {
            "gridcolor": "white",
            "linecolor": "white",
            "ticks": ""
           },
           "bgcolor": "#E5ECF6",
           "caxis": {
            "gridcolor": "white",
            "linecolor": "white",
            "ticks": ""
           }
          },
          "title": {
           "x": 0.05
          },
          "xaxis": {
           "automargin": true,
           "gridcolor": "white",
           "linecolor": "white",
           "ticks": "",
           "title": {
            "standoff": 15
           },
           "zerolinecolor": "white",
           "zerolinewidth": 2
          },
          "yaxis": {
           "automargin": true,
           "gridcolor": "white",
           "linecolor": "white",
           "ticks": "",
           "title": {
            "standoff": 15
           },
           "zerolinecolor": "white",
           "zerolinewidth": 2
          }
         }
        },
        "title": {
         "text": "Impact de No et alpha sur le BER après attaque"
        },
        "width": 800,
        "xaxis": {
         "title": {
          "text": "No (Nombre d‘observations)=20000"
         }
        },
        "yaxis": {
         "title": {
          "text": "BER"
         }
        }
       }
      }
     },
     "metadata": {},
     "output_type": "display_data"
    },
    {
     "data": {
      "application/vnd.plotly.v1+json": {
       "config": {
        "plotlyServerURL": "https://plot.ly"
       },
       "data": [
        {
         "mode": "lines+markers",
         "name": "alpha = 0.2",
         "type": "scatter",
         "x": [
          100,
          200,
          300,
          400,
          500,
          600,
          700,
          800,
          900,
          1000,
          1100,
          1200,
          1300,
          1400,
          1500,
          1600,
          1700,
          1800,
          1900,
          2000,
          2100,
          2200,
          2300,
          2400,
          2500,
          2600,
          2700,
          2800,
          2900,
          3000,
          3100,
          3200,
          3300,
          3400,
          3500,
          3600,
          3700,
          3800,
          3900,
          4000,
          4100,
          4200,
          4300,
          4400,
          4500,
          4600,
          4700,
          4800,
          4900,
          5000,
          5100,
          5200,
          5300,
          5400,
          5500,
          5600,
          5700,
          5800,
          5900,
          6000,
          6100,
          6200,
          6300,
          6400,
          6500,
          6600,
          6700,
          6800,
          6900,
          7000,
          7100,
          7200,
          7300,
          7400,
          7500,
          7600,
          7700,
          7800,
          7900,
          8000,
          8100,
          8200,
          8300,
          8400,
          8500,
          8600,
          8700,
          8800,
          8900,
          9000,
          9100,
          9200,
          9300,
          9400,
          9500,
          9600,
          9700,
          9800,
          9900,
          10000,
          10100,
          10200,
          10300,
          10400,
          10500,
          10600,
          10700,
          10800,
          10900,
          11000,
          11100,
          11200,
          11300,
          11400,
          11500,
          11600,
          11700,
          11800,
          11900,
          12000,
          12100,
          12200,
          12300,
          12400,
          12500,
          12600,
          12700,
          12800,
          12900,
          13000,
          13100,
          13200,
          13300,
          13400,
          13500,
          13600,
          13700,
          13800,
          13900,
          14000,
          14100,
          14200,
          14300,
          14400,
          14500,
          14600,
          14700,
          14800,
          14900,
          15000,
          15100,
          15200,
          15300,
          15400,
          15500,
          15600,
          15700,
          15800,
          15900,
          16000,
          16100,
          16200,
          16300,
          16400,
          16500,
          16600,
          16700,
          16800,
          16900,
          17000,
          17100,
          17200,
          17300,
          17400,
          17500,
          17600,
          17700,
          17800,
          17900,
          18000,
          18100,
          18200,
          18300,
          18400,
          18500,
          18600,
          18700,
          18800,
          18900,
          19000,
          19100,
          19200,
          19300,
          19400,
          19500,
          19600,
          19700,
          19800,
          19900
         ],
         "y": [
          0.2115997600099176,
          0.41654166829433903,
          0.3542621984896311,
          0.2748321140492068,
          0.3439102981478399,
          0.46388375824196404,
          0.4768832646147869,
          0.4265384559701525,
          0.5793758621554992,
          0.6382799989382979,
          0.592529726927605,
          0.5854365826432129,
          0.616911424543988,
          0.6498246295009446,
          0.49923901493146505,
          0.5767006988717268,
          0.6788893529120408,
          0.6698454645773093,
          0.7124908600732632,
          0.6183711168363862,
          0.7152448617499096,
          0.6681551801860295,
          0.7616248986963655,
          0.683214139395399,
          0.6846529106571838,
          0.6985188990447052,
          0.6726857982275368,
          0.6964587414620371,
          0.7590936059246041,
          0.6846766616047576,
          0.7872113406448569,
          0.7284117813159519,
          0.7892219337615225,
          0.7101001822846468,
          0.790519086245975,
          0.739285768664933,
          0.7939857512255782,
          0.7339867291489047,
          0.8330448476090048,
          0.7546719436416768,
          0.7687201194277916,
          0.8156369358674711,
          0.7776196354080682,
          0.7805812341885002,
          0.8212995423021487,
          0.7947018027881029,
          0.8098746119154374,
          0.8217505754301506,
          0.7983143726033725,
          0.8295749019478568,
          0.8066970494291271,
          0.8464314168552167,
          0.865267621610935,
          0.8202477098173785,
          0.8378284854127649,
          0.836825804881611,
          0.8110591043627938,
          0.863315108166044,
          0.8337799679518146,
          0.8406062652400192,
          0.8425428129864282,
          0.8488429416474051,
          0.8537673936425534,
          0.8338710812463375,
          0.8544754101435308,
          0.8981962402887367,
          0.8476654598348168,
          0.8803611146344482,
          0.833537964425364,
          0.8018560770880447,
          0.8128805491248065,
          0.8680274729803843,
          0.8321715612426821,
          0.8784837856569151,
          0.8466156226181215,
          0.8325283237209631,
          0.8811717479726516,
          0.8683991262259285,
          0.8910419170366677,
          0.870775768641984,
          0.8545708550469013,
          0.8642585768449772,
          0.8108422343747941,
          0.8864511427673936,
          0.8662137914053796,
          0.8789094719049317,
          0.885566679698242,
          0.8988317290389203,
          0.8666894350444636,
          0.8748597418898714,
          0.8956224216265288,
          0.8716222642172298,
          0.8873848127055962,
          0.9112589440962934,
          0.9090610553502845,
          0.9221636150378295,
          0.8862612028319791,
          0.8868119879453042,
          0.911759023706213,
          0.8804345042721906,
          0.8908009015125525,
          0.8954842644495543,
          0.9000092195728405,
          0.912934532777481,
          0.9013914168722855,
          0.899305914043877,
          0.9102758499814896,
          0.9018451630469527,
          0.9144983382105658,
          0.9071070204847762,
          0.8955964564375114,
          0.9032690055130582,
          0.88957887371741,
          0.909622818764648,
          0.8875579816443671,
          0.8975897834791642,
          0.9367965575597317,
          0.9194789311433366,
          0.9037133705631111,
          0.9155423418439094,
          0.9200899304985732,
          0.9240809584512432,
          0.891633051433731,
          0.915308613253808,
          0.9118080071697419,
          0.9231905563831628,
          0.894240487628499,
          0.9327284623108608,
          0.9082090349590413,
          0.915030774849016,
          0.928383662061687,
          0.9334968579580076,
          0.9146004027768198,
          0.9138135285326221,
          0.9347847639128615,
          0.9084194857356326,
          0.8900621157233238,
          0.9294369269933525,
          0.9034669538078255,
          0.9166481475796066,
          0.9363208425548396,
          0.9021144394809112,
          0.9163601417687011,
          0.9276695346954842,
          0.9114669335215208,
          0.9300918190050238,
          0.9115088971945817,
          0.9237790202035178,
          0.9175500714108806,
          0.9354497909998243,
          0.9224187468989251,
          0.9212460224153161,
          0.9315919658406109,
          0.9204974795769203,
          0.9379351786575427,
          0.9361938742729929,
          0.9395338478995539,
          0.9392313582149762,
          0.9420962620711175,
          0.9469541387741368,
          0.9210818351341697,
          0.930603555048205,
          0.9150285403185368,
          0.938947059916258,
          0.9373023420247284,
          0.9266293969290047,
          0.9460922037736033,
          0.916620194760319,
          0.9536293632354734,
          0.9419181118027461,
          0.930291775886934,
          0.9130795089725591,
          0.9390032141757565,
          0.9087749713978208,
          0.9369566440874626,
          0.9348897861238706,
          0.928286439878456,
          0.9431229993327277,
          0.9518026759736553,
          0.9206646751879648,
          0.9310536940162751,
          0.9456122188055458,
          0.9307855245367453,
          0.9243288475796765,
          0.9343116703150954,
          0.9399697010510946,
          0.9279971197548083,
          0.942304347090272,
          0.9324582242997644,
          0.9553134600927088,
          0.9494999513538609,
          0.9327379683077308,
          0.9402436221271466,
          0.9306295005673255,
          0.9438882785231689,
          0.9350326513351188,
          0.9454881642380017,
          0.9318191247799521,
          0.9496045211039068
         ]
        },
        {
         "mode": "lines+markers",
         "name": "alpha = 0.5",
         "type": "scatter",
         "x": [
          100,
          200,
          300,
          400,
          500,
          600,
          700,
          800,
          900,
          1000,
          1100,
          1200,
          1300,
          1400,
          1500,
          1600,
          1700,
          1800,
          1900,
          2000,
          2100,
          2200,
          2300,
          2400,
          2500,
          2600,
          2700,
          2800,
          2900,
          3000,
          3100,
          3200,
          3300,
          3400,
          3500,
          3600,
          3700,
          3800,
          3900,
          4000,
          4100,
          4200,
          4300,
          4400,
          4500,
          4600,
          4700,
          4800,
          4900,
          5000,
          5100,
          5200,
          5300,
          5400,
          5500,
          5600,
          5700,
          5800,
          5900,
          6000,
          6100,
          6200,
          6300,
          6400,
          6500,
          6600,
          6700,
          6800,
          6900,
          7000,
          7100,
          7200,
          7300,
          7400,
          7500,
          7600,
          7700,
          7800,
          7900,
          8000,
          8100,
          8200,
          8300,
          8400,
          8500,
          8600,
          8700,
          8800,
          8900,
          9000,
          9100,
          9200,
          9300,
          9400,
          9500,
          9600,
          9700,
          9800,
          9900,
          10000,
          10100,
          10200,
          10300,
          10400,
          10500,
          10600,
          10700,
          10800,
          10900,
          11000,
          11100,
          11200,
          11300,
          11400,
          11500,
          11600,
          11700,
          11800,
          11900,
          12000,
          12100,
          12200,
          12300,
          12400,
          12500,
          12600,
          12700,
          12800,
          12900,
          13000,
          13100,
          13200,
          13300,
          13400,
          13500,
          13600,
          13700,
          13800,
          13900,
          14000,
          14100,
          14200,
          14300,
          14400,
          14500,
          14600,
          14700,
          14800,
          14900,
          15000,
          15100,
          15200,
          15300,
          15400,
          15500,
          15600,
          15700,
          15800,
          15900,
          16000,
          16100,
          16200,
          16300,
          16400,
          16500,
          16600,
          16700,
          16800,
          16900,
          17000,
          17100,
          17200,
          17300,
          17400,
          17500,
          17600,
          17700,
          17800,
          17900,
          18000,
          18100,
          18200,
          18300,
          18400,
          18500,
          18600,
          18700,
          18800,
          18900,
          19000,
          19100,
          19200,
          19300,
          19400,
          19500,
          19600,
          19700,
          19800,
          19900
         ],
         "y": [
          0.5161743810475564,
          0.5947233248430818,
          0.7125997766145288,
          0.7416248307508431,
          0.7591161213776764,
          0.7461676063287465,
          0.7918582739342223,
          0.7935962367161374,
          0.8223445554487366,
          0.8206756771738785,
          0.8500546578126881,
          0.849594879320914,
          0.8803757310782203,
          0.9086069820013255,
          0.8833474227136914,
          0.8611417919872516,
          0.9085191103287468,
          0.9123353714575084,
          0.9137763237818544,
          0.8989279561264569,
          0.9251680620439209,
          0.9180321895299439,
          0.9377383892460212,
          0.936376374748961,
          0.9114866053167314,
          0.9263281364720607,
          0.933841914977013,
          0.9319022409920082,
          0.9369569489041808,
          0.9328793998715947,
          0.9364340589759078,
          0.9479476715326124,
          0.9495985339363172,
          0.9380510603084894,
          0.9462795890920108,
          0.9467504710715212,
          0.9525774999408858,
          0.9449205511988079,
          0.9510278995226363,
          0.9550407898454357,
          0.9511108817308269,
          0.9592265670695274,
          0.9533740101289276,
          0.9484772056117614,
          0.948583006535574,
          0.9671885292316966,
          0.9566108143513677,
          0.9681067104369225,
          0.9701727473543122,
          0.9602870831465868,
          0.9663527930465152,
          0.9633926621628592,
          0.969167288283154,
          0.960775766646877,
          0.963918443105697,
          0.9596303007948319,
          0.9736548939432808,
          0.9675880911833096,
          0.9693650527852831,
          0.9665649283668484,
          0.9681062381610432,
          0.9692432055906302,
          0.9666016170438443,
          0.9694585063377175,
          0.9676230877286339,
          0.9711307268429656,
          0.9763143813881673,
          0.9609816642179035,
          0.9758339769618118,
          0.9711425537900824,
          0.9745439595833231,
          0.9732879127811145,
          0.9741869489518391,
          0.9813378652530486,
          0.9773409563087134,
          0.9770935044107987,
          0.9780669673915812,
          0.9773617121342308,
          0.9777507838279362,
          0.9828459011697948,
          0.9769733164184339,
          0.978863888265927,
          0.9817685615429995,
          0.9815947150125275,
          0.974531262759289,
          0.9796020031908852,
          0.9801134218308092,
          0.9794817830570899,
          0.9762837811881652,
          0.9778249314946297,
          0.9792714749550644,
          0.9740023479416392,
          0.9783430255454921,
          0.9817881693575853,
          0.9749622655677792,
          0.9830395303448304,
          0.9850676976327768,
          0.9814949038466129,
          0.9757601440203797,
          0.978139019968034,
          0.9770818001979076,
          0.9828188639570319,
          0.979509422862718,
          0.9799338447480876,
          0.9799869150969714,
          0.9825162456918738,
          0.9844280169189653,
          0.9824240034882609,
          0.9846462021232998,
          0.9839126321640084,
          0.9824477421866484,
          0.9860859713093115,
          0.9864255609744299,
          0.9841851845986833,
          0.9835560009625405,
          0.9860529553930825,
          0.9810055375116106,
          0.9832382651360396,
          0.9856335089156693,
          0.9804543372197405,
          0.9855060863996348,
          0.9798507089999089,
          0.986715129850028,
          0.9831902178092535,
          0.9871944257608514,
          0.9863641488895458,
          0.9858992135267843,
          0.9869227296190983,
          0.9870994814526601,
          0.985966150348752,
          0.9844676606401984,
          0.9847074182259301,
          0.9803214060361592,
          0.9839586176253746,
          0.9834469913342337,
          0.9875997816235874,
          0.9857657291839036,
          0.9873162772539076,
          0.9878302976918018,
          0.9861641047245037,
          0.9857197545061154,
          0.986645853264742,
          0.9867631279176237,
          0.9824674734926241,
          0.9866045723551454,
          0.9859657010180979,
          0.9889554924172516,
          0.987982133827031,
          0.989120189959164,
          0.9882728948445323,
          0.9890201653960864,
          0.9885623052681959,
          0.9859651532901117,
          0.988226744373606,
          0.9885664434712332,
          0.9894671787457759,
          0.986481051519546,
          0.9889058487885216,
          0.9848366316860182,
          0.9858626372016353,
          0.9872136100052706,
          0.9893654030365379,
          0.9917950567400827,
          0.988615692200065,
          0.986777811361359,
          0.9876709385665308,
          0.9875935744572956,
          0.9879713891836518,
          0.9897252844244941,
          0.9892652010810742,
          0.9899091007184183,
          0.9895435893748495,
          0.9873377487969259,
          0.988903297019992,
          0.989150439877847,
          0.9876985871668843,
          0.9884661168795956,
          0.9893639822305105,
          0.9895809033950097,
          0.9896173580211016,
          0.989414978000346,
          0.9880016141184418,
          0.9909441393832497,
          0.9886514316554913,
          0.9912454755870995,
          0.9930757328732697,
          0.9899487642953452,
          0.9878660841168677,
          0.9871149621121332,
          0.9920760485833516,
          0.9897658410891106,
          0.9891260261329062,
          0.9910167399468095,
          0.9911732653035923,
          0.991362262532842,
          0.9901726931483503,
          0.9904158186917231,
          0.9907450778932236,
          0.9901097599992196
         ]
        },
        {
         "mode": "lines+markers",
         "name": "alpha = 1",
         "type": "scatter",
         "x": [
          100,
          200,
          300,
          400,
          500,
          600,
          700,
          800,
          900,
          1000,
          1100,
          1200,
          1300,
          1400,
          1500,
          1600,
          1700,
          1800,
          1900,
          2000,
          2100,
          2200,
          2300,
          2400,
          2500,
          2600,
          2700,
          2800,
          2900,
          3000,
          3100,
          3200,
          3300,
          3400,
          3500,
          3600,
          3700,
          3800,
          3900,
          4000,
          4100,
          4200,
          4300,
          4400,
          4500,
          4600,
          4700,
          4800,
          4900,
          5000,
          5100,
          5200,
          5300,
          5400,
          5500,
          5600,
          5700,
          5800,
          5900,
          6000,
          6100,
          6200,
          6300,
          6400,
          6500,
          6600,
          6700,
          6800,
          6900,
          7000,
          7100,
          7200,
          7300,
          7400,
          7500,
          7600,
          7700,
          7800,
          7900,
          8000,
          8100,
          8200,
          8300,
          8400,
          8500,
          8600,
          8700,
          8800,
          8900,
          9000,
          9100,
          9200,
          9300,
          9400,
          9500,
          9600,
          9700,
          9800,
          9900,
          10000,
          10100,
          10200,
          10300,
          10400,
          10500,
          10600,
          10700,
          10800,
          10900,
          11000,
          11100,
          11200,
          11300,
          11400,
          11500,
          11600,
          11700,
          11800,
          11900,
          12000,
          12100,
          12200,
          12300,
          12400,
          12500,
          12600,
          12700,
          12800,
          12900,
          13000,
          13100,
          13200,
          13300,
          13400,
          13500,
          13600,
          13700,
          13800,
          13900,
          14000,
          14100,
          14200,
          14300,
          14400,
          14500,
          14600,
          14700,
          14800,
          14900,
          15000,
          15100,
          15200,
          15300,
          15400,
          15500,
          15600,
          15700,
          15800,
          15900,
          16000,
          16100,
          16200,
          16300,
          16400,
          16500,
          16600,
          16700,
          16800,
          16900,
          17000,
          17100,
          17200,
          17300,
          17400,
          17500,
          17600,
          17700,
          17800,
          17900,
          18000,
          18100,
          18200,
          18300,
          18400,
          18500,
          18600,
          18700,
          18800,
          18900,
          19000,
          19100,
          19200,
          19300,
          19400,
          19500,
          19600,
          19700,
          19800,
          19900
         ],
         "y": [
          0.7437216861270921,
          0.8516374908043379,
          0.8690581149068094,
          0.890440404563984,
          0.8878399752978966,
          0.9063253370869686,
          0.9303830311247826,
          0.954964473657494,
          0.9532776389058707,
          0.9620037419990866,
          0.9571796177339542,
          0.9618213366436248,
          0.9603209310620268,
          0.9611171569063924,
          0.9733745776584684,
          0.9723269556969623,
          0.9697063600072371,
          0.9731719480837362,
          0.9780213863477406,
          0.9819953910762902,
          0.9752706031952698,
          0.9788385458524607,
          0.9812316127267168,
          0.9792928663886574,
          0.982781048432022,
          0.9780291773877646,
          0.979975860438392,
          0.9816950088788171,
          0.9849474717873992,
          0.9833057039884989,
          0.9871409576072837,
          0.9864166903660134,
          0.9865999560749062,
          0.9879079373755534,
          0.9847773153533399,
          0.9856979708305014,
          0.9890379490545531,
          0.9882950595723852,
          0.985764059795902,
          0.9867045856118011,
          0.9854403436509169,
          0.9892643262939659,
          0.9881464345661766,
          0.9894912479436226,
          0.989527575856251,
          0.9910393339915305,
          0.9898692734153903,
          0.9919435828291584,
          0.9894134673593405,
          0.9889651395546286,
          0.9907454330038561,
          0.9899011383853477,
          0.9914045282179698,
          0.9939198243554563,
          0.9927529813765201,
          0.9920827822855773,
          0.9924030699776311,
          0.9911868170916299,
          0.990982686393587,
          0.9926762027103226,
          0.9923399618750924,
          0.9923043842441615,
          0.9921879867282155,
          0.991573255528926,
          0.990931305433101,
          0.9931944422363915,
          0.9921180704728229,
          0.9916568494638711,
          0.992146978588138,
          0.9914033715290356,
          0.9942713339118475,
          0.9932924555306266,
          0.9928022177372593,
          0.9938251345212331,
          0.9934214473439273,
          0.994513409093463,
          0.9935688645793898,
          0.9950915871643577,
          0.993819190777584,
          0.9953571313580356,
          0.9939377372718816,
          0.9933976004920585,
          0.995215519077951,
          0.9939862990129996,
          0.9955863456460697,
          0.9949371604373541,
          0.9931975945583296,
          0.9950074081824365,
          0.9934818149758776,
          0.9944967754667267,
          0.9940814278126897,
          0.9942809101902527,
          0.9952411180911275,
          0.9950403282864454,
          0.9941334759796924,
          0.9940210804796299,
          0.994144009915122,
          0.994809110983499,
          0.9950105008545485,
          0.9939203815763777,
          0.9949101939303961,
          0.9955071603042053,
          0.9951211102948015,
          0.9951772202975665,
          0.9953030334042259,
          0.9947617338322214,
          0.995817967205748,
          0.9959984500562773,
          0.9940502296483076,
          0.995762322171198,
          0.9953722631404748,
          0.9959537709869609,
          0.9960953195876254,
          0.9950891333790172,
          0.9963177477206283,
          0.9954993949055755,
          0.9954510680848412,
          0.9948668886677401,
          0.9952829636419486,
          0.9959114346099958,
          0.995399811272635,
          0.9957081196329904,
          0.9955313614718093,
          0.9964269491043368,
          0.9963828398463727,
          0.9960722314578835,
          0.9966158658095664,
          0.9961437544744484,
          0.996461156407745,
          0.9963215686785107,
          0.9955119386643367,
          0.9959348260631633,
          0.996150127385393,
          0.9964620426834989,
          0.9965233488114511,
          0.9956812542455915,
          0.9961399652170285,
          0.9959444821862696,
          0.9964479443667048,
          0.9963329523776673,
          0.9950822162092486,
          0.9957506002459435,
          0.997399251996574,
          0.9968379643114397,
          0.9969755257138566,
          0.9960119709343408,
          0.9970408418094632,
          0.9962963245908957,
          0.9962253364194683,
          0.9972721014277505,
          0.9967401783766873,
          0.9967342548039541,
          0.9963330199093513,
          0.996590904203447,
          0.9958716959544576,
          0.9971702629751257,
          0.996884587823564,
          0.9972026178173872,
          0.9973195657294801,
          0.9968762678760288,
          0.996750130618312,
          0.997010200839341,
          0.9974155148193121,
          0.9964413637127594,
          0.9969115339818225,
          0.9970329567972791,
          0.9972320519028671,
          0.9968792216470503,
          0.9971487674533663,
          0.9977196855279802,
          0.9969962792095707,
          0.997176620187866,
          0.9976915738864639,
          0.9971444448469845,
          0.9976261770233023,
          0.9968449719934619,
          0.996850491049593,
          0.997828663241753,
          0.9970388740314774,
          0.9975508143657755,
          0.9970861443037237,
          0.9975577375343379,
          0.9976804915556254,
          0.9979848402422286,
          0.9970802044756314,
          0.9966851881529392,
          0.996816250357709,
          0.9964349376707518,
          0.9973757308416047,
          0.9977684734249337,
          0.9976154721088778,
          0.9974461317355249,
          0.9973015272485947,
          0.9971733086900775,
          0.9971169525819013,
          0.9979570217610287,
          0.9972773665034196,
          0.9972823822102076,
          0.9973294277351495
         ]
        },
        {
         "mode": "lines+markers",
         "name": "alpha = 1.5",
         "type": "scatter",
         "x": [
          100,
          200,
          300,
          400,
          500,
          600,
          700,
          800,
          900,
          1000,
          1100,
          1200,
          1300,
          1400,
          1500,
          1600,
          1700,
          1800,
          1900,
          2000,
          2100,
          2200,
          2300,
          2400,
          2500,
          2600,
          2700,
          2800,
          2900,
          3000,
          3100,
          3200,
          3300,
          3400,
          3500,
          3600,
          3700,
          3800,
          3900,
          4000,
          4100,
          4200,
          4300,
          4400,
          4500,
          4600,
          4700,
          4800,
          4900,
          5000,
          5100,
          5200,
          5300,
          5400,
          5500,
          5600,
          5700,
          5800,
          5900,
          6000,
          6100,
          6200,
          6300,
          6400,
          6500,
          6600,
          6700,
          6800,
          6900,
          7000,
          7100,
          7200,
          7300,
          7400,
          7500,
          7600,
          7700,
          7800,
          7900,
          8000,
          8100,
          8200,
          8300,
          8400,
          8500,
          8600,
          8700,
          8800,
          8900,
          9000,
          9100,
          9200,
          9300,
          9400,
          9500,
          9600,
          9700,
          9800,
          9900,
          10000,
          10100,
          10200,
          10300,
          10400,
          10500,
          10600,
          10700,
          10800,
          10900,
          11000,
          11100,
          11200,
          11300,
          11400,
          11500,
          11600,
          11700,
          11800,
          11900,
          12000,
          12100,
          12200,
          12300,
          12400,
          12500,
          12600,
          12700,
          12800,
          12900,
          13000,
          13100,
          13200,
          13300,
          13400,
          13500,
          13600,
          13700,
          13800,
          13900,
          14000,
          14100,
          14200,
          14300,
          14400,
          14500,
          14600,
          14700,
          14800,
          14900,
          15000,
          15100,
          15200,
          15300,
          15400,
          15500,
          15600,
          15700,
          15800,
          15900,
          16000,
          16100,
          16200,
          16300,
          16400,
          16500,
          16600,
          16700,
          16800,
          16900,
          17000,
          17100,
          17200,
          17300,
          17400,
          17500,
          17600,
          17700,
          17800,
          17900,
          18000,
          18100,
          18200,
          18300,
          18400,
          18500,
          18600,
          18700,
          18800,
          18900,
          19000,
          19100,
          19200,
          19300,
          19400,
          19500,
          19600,
          19700,
          19800,
          19900
         ],
         "y": [
          0.8320020548398581,
          0.9011878116525125,
          0.9409698112339551,
          0.9494903753964629,
          0.9600381217836464,
          0.9666737042026341,
          0.9714093054766513,
          0.9707814751217205,
          0.9720879946097573,
          0.9746770132020042,
          0.9784035760402388,
          0.986495570640648,
          0.9860316443552125,
          0.9827495137116049,
          0.9849731593575388,
          0.9894973700845429,
          0.9874783306022263,
          0.9866539329536379,
          0.9867822980657395,
          0.9898167240392375,
          0.9857903898272633,
          0.992151257751914,
          0.9892654674766612,
          0.9904410572981188,
          0.9896872536760621,
          0.9911503778800484,
          0.9943689786713092,
          0.9919025376233451,
          0.9924507050482844,
          0.99263286181089,
          0.9922580650744428,
          0.9934918130859666,
          0.9933708471056836,
          0.9923657194441478,
          0.9953304088816074,
          0.9942123209055298,
          0.9941639023339518,
          0.9932612905251454,
          0.9950352929222444,
          0.9949613332930191,
          0.9953028713505156,
          0.995313889882794,
          0.9947433176818978,
          0.9965276602259288,
          0.9950028324729732,
          0.9954189456379662,
          0.9945435398878522,
          0.9957905425523902,
          0.9962894514484075,
          0.9955897842462239,
          0.9962630043843045,
          0.9959889900160471,
          0.9957831238224564,
          0.9951299463615868,
          0.9959467044528404,
          0.9949183180998069,
          0.9958428920700397,
          0.9957773143624751,
          0.9959325011194573,
          0.996070921927153,
          0.9956660763164716,
          0.9965337961234764,
          0.9965069796153373,
          0.9971864893913963,
          0.9965669845820524,
          0.9970104945244338,
          0.9965777308156114,
          0.996594122879211,
          0.9969272254240098,
          0.9974127535081901,
          0.9961501546559879,
          0.9974222562688179,
          0.9966766799119954,
          0.9968236168782947,
          0.9972041597469938,
          0.9970968336983064,
          0.9978550624556869,
          0.9975763172679001,
          0.9969708423849182,
          0.9968189536131953,
          0.997293322676616,
          0.9972853820153206,
          0.9972864415519179,
          0.9976704743365772,
          0.9972716742714264,
          0.9978319891017995,
          0.9978777169682469,
          0.9975502226799792,
          0.9977823077858058,
          0.9979783991090491,
          0.9976881120463638,
          0.9976535049935132,
          0.9977207382077646,
          0.9976980118923494,
          0.9971748251430125,
          0.9977279213838633,
          0.9983663362017088,
          0.9982344509889758,
          0.9977145923764599,
          0.9979619842731272,
          0.9979114820528705,
          0.9983473395837485,
          0.9983444582089818,
          0.9973376591947858,
          0.9971480878776964,
          0.9981337180278733,
          0.9975757398737605,
          0.9975032912659284,
          0.9978695751487993,
          0.9986759693467564,
          0.997954943891484,
          0.9981538421760142,
          0.9980178237018337,
          0.9972143353668337,
          0.9981524458561906,
          0.9982084773820568,
          0.9979031781177324,
          0.9979008749094048,
          0.9982841660617294,
          0.9975368871018194,
          0.9980424171656015,
          0.9981702607786345,
          0.9980841899917359,
          0.998283178422283,
          0.998014843397815,
          0.9986102736268447,
          0.997970324244906,
          0.9983856006480377,
          0.9985194930477526,
          0.9981789903494569,
          0.998138193359417,
          0.9983871291340807,
          0.9986235264113963,
          0.9982717745319026,
          0.9981395422744895,
          0.9984598580034454,
          0.9986910656205281,
          0.9986633028417599,
          0.9987508710859885,
          0.9985412164074647,
          0.9989166848916138,
          0.9985227797803721,
          0.9986360388989928,
          0.9983010871807796,
          0.9985701157215141,
          0.9984008296440022,
          0.9986006491678832,
          0.9985981243401889,
          0.9986371394312276,
          0.998505508962038,
          0.998556957277194,
          0.9986321678176131,
          0.9984202306229191,
          0.998488090598795,
          0.9981800993241238,
          0.9986998910426123,
          0.9984680961523389,
          0.9986507934758776,
          0.9985459800337121,
          0.9988509461024564,
          0.9987195513879371,
          0.9984598108046436,
          0.9984575331532762,
          0.9986205468323561,
          0.9985715424939219,
          0.9989259526722571,
          0.998552636213246,
          0.9982349599639689,
          0.9985382820516066,
          0.998862180143717,
          0.9988129966388323,
          0.9990187351473205,
          0.9984187379880758,
          0.9986470142653718,
          0.9986607546413593,
          0.9985238607011535,
          0.9987061695709932,
          0.9988684149787481,
          0.9987291456894454,
          0.9989369722075587,
          0.998934960559245,
          0.999012911887174,
          0.9991338275996561,
          0.9990344633598558,
          0.9987500642567089,
          0.9991464013847371,
          0.9991815896175039,
          0.9988595458013494,
          0.9989921205371325,
          0.9987420614223876,
          0.9987317578288376,
          0.998808838013998,
          0.9989604371686266,
          0.9988498915104574,
          0.9991539526479851,
          0.9986161864425145,
          0.9990038568087137,
          0.9987407994823387,
          0.9991273213597612
         ]
        },
        {
         "mode": "lines+markers",
         "name": "alpha = 2",
         "type": "scatter",
         "x": [
          100,
          200,
          300,
          400,
          500,
          600,
          700,
          800,
          900,
          1000,
          1100,
          1200,
          1300,
          1400,
          1500,
          1600,
          1700,
          1800,
          1900,
          2000,
          2100,
          2200,
          2300,
          2400,
          2500,
          2600,
          2700,
          2800,
          2900,
          3000,
          3100,
          3200,
          3300,
          3400,
          3500,
          3600,
          3700,
          3800,
          3900,
          4000,
          4100,
          4200,
          4300,
          4400,
          4500,
          4600,
          4700,
          4800,
          4900,
          5000,
          5100,
          5200,
          5300,
          5400,
          5500,
          5600,
          5700,
          5800,
          5900,
          6000,
          6100,
          6200,
          6300,
          6400,
          6500,
          6600,
          6700,
          6800,
          6900,
          7000,
          7100,
          7200,
          7300,
          7400,
          7500,
          7600,
          7700,
          7800,
          7900,
          8000,
          8100,
          8200,
          8300,
          8400,
          8500,
          8600,
          8700,
          8800,
          8900,
          9000,
          9100,
          9200,
          9300,
          9400,
          9500,
          9600,
          9700,
          9800,
          9900,
          10000,
          10100,
          10200,
          10300,
          10400,
          10500,
          10600,
          10700,
          10800,
          10900,
          11000,
          11100,
          11200,
          11300,
          11400,
          11500,
          11600,
          11700,
          11800,
          11900,
          12000,
          12100,
          12200,
          12300,
          12400,
          12500,
          12600,
          12700,
          12800,
          12900,
          13000,
          13100,
          13200,
          13300,
          13400,
          13500,
          13600,
          13700,
          13800,
          13900,
          14000,
          14100,
          14200,
          14300,
          14400,
          14500,
          14600,
          14700,
          14800,
          14900,
          15000,
          15100,
          15200,
          15300,
          15400,
          15500,
          15600,
          15700,
          15800,
          15900,
          16000,
          16100,
          16200,
          16300,
          16400,
          16500,
          16600,
          16700,
          16800,
          16900,
          17000,
          17100,
          17200,
          17300,
          17400,
          17500,
          17600,
          17700,
          17800,
          17900,
          18000,
          18100,
          18200,
          18300,
          18400,
          18500,
          18600,
          18700,
          18800,
          18900,
          19000,
          19100,
          19200,
          19300,
          19400,
          19500,
          19600,
          19700,
          19800,
          19900
         ],
         "y": [
          0.9174841512054623,
          0.9513401430853754,
          0.959888908485477,
          0.968890806801313,
          0.9749107313095923,
          0.9806036535906008,
          0.980585881365994,
          0.9865888228877515,
          0.9871325482039925,
          0.9874433602348849,
          0.9866022229842494,
          0.9891793612743551,
          0.9911694341354238,
          0.9899382596510269,
          0.9916588427841995,
          0.9902817373389303,
          0.9935809628465588,
          0.9924275175734257,
          0.9937445276308201,
          0.9923254876953423,
          0.9935465250245676,
          0.9956986475345284,
          0.9955176062109165,
          0.9946276518264164,
          0.9949779758266746,
          0.9953318123377448,
          0.9953520530810887,
          0.9958436023731486,
          0.9958537268984687,
          0.9957733136011706,
          0.9963244079317729,
          0.9957271583274794,
          0.9965812806892966,
          0.9968400815852799,
          0.9972465814263092,
          0.9969245753849867,
          0.9959295064709948,
          0.9969138640389532,
          0.9965714004767878,
          0.9968894859784488,
          0.9968318643219248,
          0.9977112636273282,
          0.9974828470476024,
          0.9968441382172125,
          0.998118590986516,
          0.9979004897028064,
          0.9974809237369275,
          0.9973138677449231,
          0.9978332536574567,
          0.9981625975661257,
          0.9975756783125094,
          0.9977837316825702,
          0.9972860474951271,
          0.9980123047335736,
          0.9970580951106492,
          0.9974915369701199,
          0.9980849024042959,
          0.9983594774292899,
          0.9978581074616968,
          0.9979153455766914,
          0.9982799722896074,
          0.9985224981765835,
          0.9979605589857113,
          0.9976133039603747,
          0.9983359161959093,
          0.9982964510190675,
          0.9981570925749834,
          0.9983485674585109,
          0.9983929017824179,
          0.997930127873433,
          0.9987447163787255,
          0.9983609480265495,
          0.9983892855738673,
          0.998261350916412,
          0.9982700768154289,
          0.9982316813274041,
          0.9982010394925496,
          0.9986158610104707,
          0.9982131210548129,
          0.9982568256503528,
          0.998489365251022,
          0.9988543590185179,
          0.9984807687816855,
          0.9986296355181918,
          0.9985607110686369,
          0.9985269370361731,
          0.9982346505298725,
          0.9985036194044562,
          0.9984170681630268,
          0.9984732407331443,
          0.9988367621008661,
          0.9986105906912469,
          0.9985222149549949,
          0.9985501073949882,
          0.9988294230174439,
          0.9985600358981687,
          0.9989134545686292,
          0.998851191787148,
          0.9989959177799315,
          0.9988412037136646,
          0.998673004491887,
          0.9989013992597044,
          0.9988804401813496,
          0.9991100433158582,
          0.9988241636878903,
          0.9987178228682623,
          0.998519089456047,
          0.9990794973830847,
          0.9990231822999673,
          0.998851497308938,
          0.9990172576676954,
          0.9989203915667476,
          0.9984950033360463,
          0.9989615568519705,
          0.9990524491411278,
          0.9990202592286717,
          0.9990427326573441,
          0.99901380306065,
          0.9988029975667888,
          0.9991392628461907,
          0.9992205663264545,
          0.9991072352819661,
          0.998901115473896,
          0.9988091257795076,
          0.9992887227531617,
          0.999010028338104,
          0.9991770186981582,
          0.9990364287509333,
          0.9991233728329221,
          0.9991067883699527,
          0.999151173227959,
          0.9990539104375049,
          0.9990852506730246,
          0.9992308894094781,
          0.9988958329847102,
          0.9990828756632898,
          0.9990040039870739,
          0.9992796421683063,
          0.9989903788590979,
          0.9992133154975213,
          0.9990332322967255,
          0.9992279345348722,
          0.9993227902959884,
          0.9992655744756646,
          0.9991176195657335,
          0.9991996175301787,
          0.9990886515644164,
          0.9989387014995553,
          0.9990011879613608,
          0.9992347422417455,
          0.9992945765414051,
          0.999238271496794,
          0.9993911830466564,
          0.9992271238425119,
          0.9993488577743762,
          0.9992242064452409,
          0.9992728297957899,
          0.9990667654726427,
          0.9991541994514874,
          0.9992789624770191,
          0.9991526610597238,
          0.9991053605827627,
          0.9991328091181129,
          0.9993302940961638,
          0.9992743850382572,
          0.9992034496734442,
          0.999126805894572,
          0.9993524364889936,
          0.9991710493959773,
          0.9991889464677076,
          0.9994283825903799,
          0.9993650507085653,
          0.9992785966891286,
          0.9993553676111242,
          0.9994851715188896,
          0.9992011646109896,
          0.9994311342352017,
          0.9993672616447564,
          0.9992823737167427,
          0.9993401803358222,
          0.9994061183371021,
          0.9994227260021034,
          0.9993892131612725,
          0.999474633346102,
          0.9994723375377436,
          0.9996116128638305,
          0.9994153375412176,
          0.9993036008901304,
          0.9994227498754874,
          0.9993775086891333,
          0.9995180354294861,
          0.9991274805595737,
          0.9994914066289816,
          0.9993283523980443,
          0.9994567591299547,
          0.9993451000519059,
          0.9993731715422373,
          0.9993930238710781,
          0.9993382670531124
         ]
        },
        {
         "mode": "lines+markers",
         "name": "alpha = 2.5",
         "type": "scatter",
         "x": [
          100,
          200,
          300,
          400,
          500,
          600,
          700,
          800,
          900,
          1000,
          1100,
          1200,
          1300,
          1400,
          1500,
          1600,
          1700,
          1800,
          1900,
          2000,
          2100,
          2200,
          2300,
          2400,
          2500,
          2600,
          2700,
          2800,
          2900,
          3000,
          3100,
          3200,
          3300,
          3400,
          3500,
          3600,
          3700,
          3800,
          3900,
          4000,
          4100,
          4200,
          4300,
          4400,
          4500,
          4600,
          4700,
          4800,
          4900,
          5000,
          5100,
          5200,
          5300,
          5400,
          5500,
          5600,
          5700,
          5800,
          5900,
          6000,
          6100,
          6200,
          6300,
          6400,
          6500,
          6600,
          6700,
          6800,
          6900,
          7000,
          7100,
          7200,
          7300,
          7400,
          7500,
          7600,
          7700,
          7800,
          7900,
          8000,
          8100,
          8200,
          8300,
          8400,
          8500,
          8600,
          8700,
          8800,
          8900,
          9000,
          9100,
          9200,
          9300,
          9400,
          9500,
          9600,
          9700,
          9800,
          9900,
          10000,
          10100,
          10200,
          10300,
          10400,
          10500,
          10600,
          10700,
          10800,
          10900,
          11000,
          11100,
          11200,
          11300,
          11400,
          11500,
          11600,
          11700,
          11800,
          11900,
          12000,
          12100,
          12200,
          12300,
          12400,
          12500,
          12600,
          12700,
          12800,
          12900,
          13000,
          13100,
          13200,
          13300,
          13400,
          13500,
          13600,
          13700,
          13800,
          13900,
          14000,
          14100,
          14200,
          14300,
          14400,
          14500,
          14600,
          14700,
          14800,
          14900,
          15000,
          15100,
          15200,
          15300,
          15400,
          15500,
          15600,
          15700,
          15800,
          15900,
          16000,
          16100,
          16200,
          16300,
          16400,
          16500,
          16600,
          16700,
          16800,
          16900,
          17000,
          17100,
          17200,
          17300,
          17400,
          17500,
          17600,
          17700,
          17800,
          17900,
          18000,
          18100,
          18200,
          18300,
          18400,
          18500,
          18600,
          18700,
          18800,
          18900,
          19000,
          19100,
          19200,
          19300,
          19400,
          19500,
          19600,
          19700,
          19800,
          19900
         ],
         "y": [
          0.9323863879344585,
          0.9639904219026645,
          0.9771011021448962,
          0.9844693243144677,
          0.9847516175438394,
          0.9865032192653913,
          0.990690031936725,
          0.9876570982606375,
          0.9896901315718034,
          0.9936433361315218,
          0.989978754887634,
          0.994932107618183,
          0.9929710391416955,
          0.9945297090653166,
          0.995350667314458,
          0.9945914343367288,
          0.9955760579817223,
          0.9958122443483121,
          0.9960626994983355,
          0.9952798831476052,
          0.9962847923180478,
          0.9961507381764738,
          0.9963798901814361,
          0.9968016978900541,
          0.9971837142528219,
          0.9968499189778498,
          0.9966648748946854,
          0.9975908584740634,
          0.9981606152933032,
          0.9970936657979261,
          0.9973446641371886,
          0.9975492308315927,
          0.9978270470110562,
          0.9973519770795088,
          0.9978519483620171,
          0.9978216458169156,
          0.998165627952782,
          0.9975844155107557,
          0.998262841078582,
          0.9979224469769119,
          0.9982023953716077,
          0.9977232957748009,
          0.9984790031292534,
          0.9980646276815025,
          0.9977548912176023,
          0.9985187512363157,
          0.9980052874970127,
          0.9982943834890251,
          0.9982658849617506,
          0.9982789254743611,
          0.9980056372944045,
          0.9979974065597339,
          0.9988789850264642,
          0.9982677769722311,
          0.9981111479395335,
          0.9987493564841546,
          0.9988368294271668,
          0.9987151016180328,
          0.9988885392598024,
          0.9985037747162587,
          0.9989748461864641,
          0.9985256608462876,
          0.9987371044879523,
          0.9983337888102165,
          0.9983455901042164,
          0.9988164418468614,
          0.9988196562496783,
          0.9989065368126356,
          0.9990910679040227,
          0.9989754415825164,
          0.9989143695107644,
          0.9990092403464608,
          0.9989406253637638,
          0.9989944479907534,
          0.9989388905220107,
          0.9988695202370321,
          0.9988052748388525,
          0.9989916805905628,
          0.9991635091192896,
          0.998749917373547,
          0.999140773734143,
          0.9989632720822306,
          0.9989197369205253,
          0.9990656613108138,
          0.999075688992352,
          0.9990615718546145,
          0.999298945662521,
          0.9991015840179409,
          0.9990029571452469,
          0.9990656120068587,
          0.998999831465876,
          0.9988913321432675,
          0.9990559571190469,
          0.999206538891074,
          0.9992660932361408,
          0.9991044353417938,
          0.9991482804286616,
          0.9990680795038247,
          0.9992390140506282,
          0.999233001750136,
          0.9990874607350073,
          0.9992510794142231,
          0.9992762768282816,
          0.9991779233258774,
          0.9992899737297133,
          0.9990829848068691,
          0.9992881038094648,
          0.9994189014435865,
          0.9994975453789228,
          0.9990927814004628,
          0.9992616095912406,
          0.9993220864019287,
          0.9992415799549393,
          0.9994964006924351,
          0.9992170201909077,
          0.9994910020216659,
          0.9994407025203302,
          0.9993517901325644,
          0.9994376109872971,
          0.9992757549711165,
          0.9994013559769688,
          0.9994003349419794,
          0.9994303357271579,
          0.9991878665213562,
          0.9993524396143626,
          0.9994159990604834,
          0.9994474681791041,
          0.9994444874981411,
          0.9992720654163546,
          0.9994770343365886,
          0.9994481836853993,
          0.9993868965328618,
          0.9994050507246568,
          0.9993319944346616,
          0.9994369780961601,
          0.9992256833756371,
          0.9994357705646758,
          0.9994067205374277,
          0.9994155179223587,
          0.9995696911074929,
          0.9995100837859222,
          0.9994808046128163,
          0.9994090735263363,
          0.999469969282281,
          0.9995250700305353,
          0.9994724742262473,
          0.9994998598094627,
          0.9994830814877604,
          0.9995099735740173,
          0.9994312053338406,
          0.9994950252659129,
          0.9994253753855371,
          0.9993857795325949,
          0.9996181091751981,
          0.999470781624243,
          0.9994740113780942,
          0.9995436719963333,
          0.9994113556020288,
          0.9996093958313053,
          0.9995356344190206,
          0.999354801466466,
          0.9994656442776872,
          0.9995347466244786,
          0.9995023811173493,
          0.9994397046228098,
          0.9995538171387637,
          0.9994696630392923,
          0.9995746519438192,
          0.999442587285422,
          0.9992946300373814,
          0.9995718786003549,
          0.999568513308341,
          0.9995242015438053,
          0.9995563019081366,
          0.9995732404119815,
          0.999537178865279,
          0.9995863477440419,
          0.999634154122408,
          0.9996168598515056,
          0.9995608957625807,
          0.9996204648025648,
          0.999602121878133,
          0.9995806698056426,
          0.9995408997365991,
          0.9994942734748522,
          0.9996674363651771,
          0.9995074472751473,
          0.9996264768431034,
          0.999710019746719,
          0.999569455119352,
          0.9995668331277896,
          0.9996250820749674,
          0.9996068924754398,
          0.9996006626073634,
          0.9996226622417959,
          0.9995996750296304,
          0.999644574664421,
          0.9995933552990295,
          0.9995856528277894
         ]
        },
        {
         "mode": "lines+markers",
         "name": "alpha = 3",
         "type": "scatter",
         "x": [
          100,
          200,
          300,
          400,
          500,
          600,
          700,
          800,
          900,
          1000,
          1100,
          1200,
          1300,
          1400,
          1500,
          1600,
          1700,
          1800,
          1900,
          2000,
          2100,
          2200,
          2300,
          2400,
          2500,
          2600,
          2700,
          2800,
          2900,
          3000,
          3100,
          3200,
          3300,
          3400,
          3500,
          3600,
          3700,
          3800,
          3900,
          4000,
          4100,
          4200,
          4300,
          4400,
          4500,
          4600,
          4700,
          4800,
          4900,
          5000,
          5100,
          5200,
          5300,
          5400,
          5500,
          5600,
          5700,
          5800,
          5900,
          6000,
          6100,
          6200,
          6300,
          6400,
          6500,
          6600,
          6700,
          6800,
          6900,
          7000,
          7100,
          7200,
          7300,
          7400,
          7500,
          7600,
          7700,
          7800,
          7900,
          8000,
          8100,
          8200,
          8300,
          8400,
          8500,
          8600,
          8700,
          8800,
          8900,
          9000,
          9100,
          9200,
          9300,
          9400,
          9500,
          9600,
          9700,
          9800,
          9900,
          10000,
          10100,
          10200,
          10300,
          10400,
          10500,
          10600,
          10700,
          10800,
          10900,
          11000,
          11100,
          11200,
          11300,
          11400,
          11500,
          11600,
          11700,
          11800,
          11900,
          12000,
          12100,
          12200,
          12300,
          12400,
          12500,
          12600,
          12700,
          12800,
          12900,
          13000,
          13100,
          13200,
          13300,
          13400,
          13500,
          13600,
          13700,
          13800,
          13900,
          14000,
          14100,
          14200,
          14300,
          14400,
          14500,
          14600,
          14700,
          14800,
          14900,
          15000,
          15100,
          15200,
          15300,
          15400,
          15500,
          15600,
          15700,
          15800,
          15900,
          16000,
          16100,
          16200,
          16300,
          16400,
          16500,
          16600,
          16700,
          16800,
          16900,
          17000,
          17100,
          17200,
          17300,
          17400,
          17500,
          17600,
          17700,
          17800,
          17900,
          18000,
          18100,
          18200,
          18300,
          18400,
          18500,
          18600,
          18700,
          18800,
          18900,
          19000,
          19100,
          19200,
          19300,
          19400,
          19500,
          19600,
          19700,
          19800,
          19900
         ],
         "y": [
          0.9538712029336206,
          0.9716571589146169,
          0.9836026118974313,
          0.9859563464704606,
          0.9905289949469781,
          0.9890514845230294,
          0.9924112686263101,
          0.9935234397311907,
          0.9945450178998565,
          0.9950686229864859,
          0.9947100131453941,
          0.9959338826051956,
          0.9950785914488226,
          0.9963014236237082,
          0.9953200422126853,
          0.9966390351386547,
          0.9964547177901406,
          0.9970661342070642,
          0.9974710936332256,
          0.9975817559433152,
          0.9970637491791446,
          0.9974268396995656,
          0.9972065555220883,
          0.9976308901246621,
          0.99769852386391,
          0.9979086038551801,
          0.9980397585988904,
          0.9982918753920283,
          0.998212996756389,
          0.9975267669012073,
          0.9983604053536272,
          0.9983376961700481,
          0.9984098944166001,
          0.9982208949624191,
          0.9980919356347515,
          0.9980171969200456,
          0.9985704219027538,
          0.9984302943370381,
          0.9980108322946499,
          0.9987937222184136,
          0.9987180438507266,
          0.9988529356442689,
          0.9986431219201769,
          0.9985937873731904,
          0.9985923848369982,
          0.9987843334604677,
          0.9989047738510547,
          0.998740960413891,
          0.9988036489358383,
          0.9987338652610782,
          0.9990719728053987,
          0.9988088005390853,
          0.9990067664377014,
          0.9988571978275204,
          0.9990272962652778,
          0.9990648231091575,
          0.9989820872202189,
          0.9988583324779907,
          0.9989040885896412,
          0.9988447657795729,
          0.9990205698122397,
          0.9990945576095167,
          0.9989514886825235,
          0.9992653766471558,
          0.9993384956700839,
          0.9991309032198127,
          0.9991613048469136,
          0.9990732614636724,
          0.9992366112635941,
          0.9992523200603391,
          0.9994287239692055,
          0.9992211400966716,
          0.999284626899448,
          0.9993267866809772,
          0.9992011782450985,
          0.9994232763376453,
          0.9991996635309404,
          0.9993136071781453,
          0.9991961561267709,
          0.9994096557737239,
          0.9993707330906365,
          0.9994852497176225,
          0.9992969968864491,
          0.9992419932379518,
          0.9993413004334043,
          0.9995290461659773,
          0.9992671014845699,
          0.9994372373156926,
          0.999497476656652,
          0.9992805376013092,
          0.9991428919699944,
          0.9993308811670037,
          0.9993296844563493,
          0.9994350460192061,
          0.9996036012860933,
          0.9993527749926466,
          0.9993729891279491,
          0.9993704709706219,
          0.9992446122248619,
          0.9994464287670016,
          0.9995231523275574,
          0.9994852798631261,
          0.9994876105959263,
          0.9995025919558613,
          0.9993455027714656,
          0.9995297082926289,
          0.9993847304673543,
          0.9995667681604649,
          0.9994658033675203,
          0.9995725802265014,
          0.9995170478833906,
          0.9993743877499915,
          0.9994473359629324,
          0.999537119852503,
          0.999487707085315,
          0.9994998207964217,
          0.9996217542171101,
          0.9994233672116073,
          0.9994164803866805,
          0.9995385768949495,
          0.9995446737632298,
          0.9995864075256434,
          0.9995092085472072,
          0.999384710047025,
          0.9995788945915801,
          0.9995696358457324,
          0.9995817850745405,
          0.999425777231543,
          0.9995023256626696,
          0.9996434580538052,
          0.9996321416373145,
          0.9995520304942124,
          0.9995776865303143,
          0.9996241896782274,
          0.9995948456783608,
          0.9995758576440096,
          0.9996621775292809,
          0.9995743957645867,
          0.9995833951534318,
          0.9995916837762036,
          0.9995779966024588,
          0.9995373074138117,
          0.9996403092546211,
          0.9996435732901543,
          0.9995308509434156,
          0.9996980087487011,
          0.9995868555640576,
          0.9997020312489929,
          0.9995799149224596,
          0.9995406293698403,
          0.9996029223037922,
          0.9995124405494216,
          0.9995348333680343,
          0.9995990818989855,
          0.999577568368238,
          0.9996904276510548,
          0.9996752403650041,
          0.999698381801416,
          0.9997184345209438,
          0.9996396014063809,
          0.9996954974667679,
          0.9996661135586651,
          0.9996706637841489,
          0.9996296499042047,
          0.9997200488453497,
          0.9996844525564912,
          0.9996365322769335,
          0.9996413426007781,
          0.9996494207960658,
          0.9996893880007572,
          0.9996894981216874,
          0.9997498223595984,
          0.9996798150978679,
          0.9997141724288784,
          0.9996703989667133,
          0.9996687694592495,
          0.9997699586105416,
          0.9997407586736269,
          0.9996506049178626,
          0.9996656257218737,
          0.9997797224101872,
          0.9997769064627009,
          0.9997764414676306,
          0.9995991457417311,
          0.9996981382024607,
          0.9996842022440964,
          0.999757547643043,
          0.9996891736427582,
          0.9996858209026618,
          0.9996490919139053,
          0.999670007308778,
          0.999673058806442,
          0.9997932219596081,
          0.9997006891953246,
          0.999757510833619,
          0.9996953781280955,
          0.999673678097134,
          0.9997522085473911,
          0.9997256949419557
         ]
        }
       ],
       "layout": {
        "annotations": [
         {
          "showarrow": false,
          "text": "Corr = 1",
          "x": 0,
          "xanchor": "left",
          "xref": "x domain",
          "y": 1,
          "yanchor": "top",
          "yref": "y"
         }
        ],
        "height": 500,
        "legend": {
         "title": {
          "text": "Valeurs de alpha"
         }
        },
        "shapes": [
         {
          "line": {
           "color": "red",
           "dash": "dot"
          },
          "type": "line",
          "x0": 0,
          "x1": 1,
          "xref": "x domain",
          "y0": 1,
          "y1": 1,
          "yref": "y"
         }
        ],
        "template": {
         "data": {
          "bar": [
           {
            "error_x": {
             "color": "#2a3f5f"
            },
            "error_y": {
             "color": "#2a3f5f"
            },
            "marker": {
             "line": {
              "color": "#E5ECF6",
              "width": 0.5
             },
             "pattern": {
              "fillmode": "overlay",
              "size": 10,
              "solidity": 0.2
             }
            },
            "type": "bar"
           }
          ],
          "barpolar": [
           {
            "marker": {
             "line": {
              "color": "#E5ECF6",
              "width": 0.5
             },
             "pattern": {
              "fillmode": "overlay",
              "size": 10,
              "solidity": 0.2
             }
            },
            "type": "barpolar"
           }
          ],
          "carpet": [
           {
            "aaxis": {
             "endlinecolor": "#2a3f5f",
             "gridcolor": "white",
             "linecolor": "white",
             "minorgridcolor": "white",
             "startlinecolor": "#2a3f5f"
            },
            "baxis": {
             "endlinecolor": "#2a3f5f",
             "gridcolor": "white",
             "linecolor": "white",
             "minorgridcolor": "white",
             "startlinecolor": "#2a3f5f"
            },
            "type": "carpet"
           }
          ],
          "choropleth": [
           {
            "colorbar": {
             "outlinewidth": 0,
             "ticks": ""
            },
            "type": "choropleth"
           }
          ],
          "contour": [
           {
            "colorbar": {
             "outlinewidth": 0,
             "ticks": ""
            },
            "colorscale": [
             [
              0,
              "#0d0887"
             ],
             [
              0.1111111111111111,
              "#46039f"
             ],
             [
              0.2222222222222222,
              "#7201a8"
             ],
             [
              0.3333333333333333,
              "#9c179e"
             ],
             [
              0.4444444444444444,
              "#bd3786"
             ],
             [
              0.5555555555555556,
              "#d8576b"
             ],
             [
              0.6666666666666666,
              "#ed7953"
             ],
             [
              0.7777777777777778,
              "#fb9f3a"
             ],
             [
              0.8888888888888888,
              "#fdca26"
             ],
             [
              1,
              "#f0f921"
             ]
            ],
            "type": "contour"
           }
          ],
          "contourcarpet": [
           {
            "colorbar": {
             "outlinewidth": 0,
             "ticks": ""
            },
            "type": "contourcarpet"
           }
          ],
          "heatmap": [
           {
            "colorbar": {
             "outlinewidth": 0,
             "ticks": ""
            },
            "colorscale": [
             [
              0,
              "#0d0887"
             ],
             [
              0.1111111111111111,
              "#46039f"
             ],
             [
              0.2222222222222222,
              "#7201a8"
             ],
             [
              0.3333333333333333,
              "#9c179e"
             ],
             [
              0.4444444444444444,
              "#bd3786"
             ],
             [
              0.5555555555555556,
              "#d8576b"
             ],
             [
              0.6666666666666666,
              "#ed7953"
             ],
             [
              0.7777777777777778,
              "#fb9f3a"
             ],
             [
              0.8888888888888888,
              "#fdca26"
             ],
             [
              1,
              "#f0f921"
             ]
            ],
            "type": "heatmap"
           }
          ],
          "heatmapgl": [
           {
            "colorbar": {
             "outlinewidth": 0,
             "ticks": ""
            },
            "colorscale": [
             [
              0,
              "#0d0887"
             ],
             [
              0.1111111111111111,
              "#46039f"
             ],
             [
              0.2222222222222222,
              "#7201a8"
             ],
             [
              0.3333333333333333,
              "#9c179e"
             ],
             [
              0.4444444444444444,
              "#bd3786"
             ],
             [
              0.5555555555555556,
              "#d8576b"
             ],
             [
              0.6666666666666666,
              "#ed7953"
             ],
             [
              0.7777777777777778,
              "#fb9f3a"
             ],
             [
              0.8888888888888888,
              "#fdca26"
             ],
             [
              1,
              "#f0f921"
             ]
            ],
            "type": "heatmapgl"
           }
          ],
          "histogram": [
           {
            "marker": {
             "pattern": {
              "fillmode": "overlay",
              "size": 10,
              "solidity": 0.2
             }
            },
            "type": "histogram"
           }
          ],
          "histogram2d": [
           {
            "colorbar": {
             "outlinewidth": 0,
             "ticks": ""
            },
            "colorscale": [
             [
              0,
              "#0d0887"
             ],
             [
              0.1111111111111111,
              "#46039f"
             ],
             [
              0.2222222222222222,
              "#7201a8"
             ],
             [
              0.3333333333333333,
              "#9c179e"
             ],
             [
              0.4444444444444444,
              "#bd3786"
             ],
             [
              0.5555555555555556,
              "#d8576b"
             ],
             [
              0.6666666666666666,
              "#ed7953"
             ],
             [
              0.7777777777777778,
              "#fb9f3a"
             ],
             [
              0.8888888888888888,
              "#fdca26"
             ],
             [
              1,
              "#f0f921"
             ]
            ],
            "type": "histogram2d"
           }
          ],
          "histogram2dcontour": [
           {
            "colorbar": {
             "outlinewidth": 0,
             "ticks": ""
            },
            "colorscale": [
             [
              0,
              "#0d0887"
             ],
             [
              0.1111111111111111,
              "#46039f"
             ],
             [
              0.2222222222222222,
              "#7201a8"
             ],
             [
              0.3333333333333333,
              "#9c179e"
             ],
             [
              0.4444444444444444,
              "#bd3786"
             ],
             [
              0.5555555555555556,
              "#d8576b"
             ],
             [
              0.6666666666666666,
              "#ed7953"
             ],
             [
              0.7777777777777778,
              "#fb9f3a"
             ],
             [
              0.8888888888888888,
              "#fdca26"
             ],
             [
              1,
              "#f0f921"
             ]
            ],
            "type": "histogram2dcontour"
           }
          ],
          "mesh3d": [
           {
            "colorbar": {
             "outlinewidth": 0,
             "ticks": ""
            },
            "type": "mesh3d"
           }
          ],
          "parcoords": [
           {
            "line": {
             "colorbar": {
              "outlinewidth": 0,
              "ticks": ""
             }
            },
            "type": "parcoords"
           }
          ],
          "pie": [
           {
            "automargin": true,
            "type": "pie"
           }
          ],
          "scatter": [
           {
            "fillpattern": {
             "fillmode": "overlay",
             "size": 10,
             "solidity": 0.2
            },
            "type": "scatter"
           }
          ],
          "scatter3d": [
           {
            "line": {
             "colorbar": {
              "outlinewidth": 0,
              "ticks": ""
             }
            },
            "marker": {
             "colorbar": {
              "outlinewidth": 0,
              "ticks": ""
             }
            },
            "type": "scatter3d"
           }
          ],
          "scattercarpet": [
           {
            "marker": {
             "colorbar": {
              "outlinewidth": 0,
              "ticks": ""
             }
            },
            "type": "scattercarpet"
           }
          ],
          "scattergeo": [
           {
            "marker": {
             "colorbar": {
              "outlinewidth": 0,
              "ticks": ""
             }
            },
            "type": "scattergeo"
           }
          ],
          "scattergl": [
           {
            "marker": {
             "colorbar": {
              "outlinewidth": 0,
              "ticks": ""
             }
            },
            "type": "scattergl"
           }
          ],
          "scattermapbox": [
           {
            "marker": {
             "colorbar": {
              "outlinewidth": 0,
              "ticks": ""
             }
            },
            "type": "scattermapbox"
           }
          ],
          "scatterpolar": [
           {
            "marker": {
             "colorbar": {
              "outlinewidth": 0,
              "ticks": ""
             }
            },
            "type": "scatterpolar"
           }
          ],
          "scatterpolargl": [
           {
            "marker": {
             "colorbar": {
              "outlinewidth": 0,
              "ticks": ""
             }
            },
            "type": "scatterpolargl"
           }
          ],
          "scatterternary": [
           {
            "marker": {
             "colorbar": {
              "outlinewidth": 0,
              "ticks": ""
             }
            },
            "type": "scatterternary"
           }
          ],
          "surface": [
           {
            "colorbar": {
             "outlinewidth": 0,
             "ticks": ""
            },
            "colorscale": [
             [
              0,
              "#0d0887"
             ],
             [
              0.1111111111111111,
              "#46039f"
             ],
             [
              0.2222222222222222,
              "#7201a8"
             ],
             [
              0.3333333333333333,
              "#9c179e"
             ],
             [
              0.4444444444444444,
              "#bd3786"
             ],
             [
              0.5555555555555556,
              "#d8576b"
             ],
             [
              0.6666666666666666,
              "#ed7953"
             ],
             [
              0.7777777777777778,
              "#fb9f3a"
             ],
             [
              0.8888888888888888,
              "#fdca26"
             ],
             [
              1,
              "#f0f921"
             ]
            ],
            "type": "surface"
           }
          ],
          "table": [
           {
            "cells": {
             "fill": {
              "color": "#EBF0F8"
             },
             "line": {
              "color": "white"
             }
            },
            "header": {
             "fill": {
              "color": "#C8D4E3"
             },
             "line": {
              "color": "white"
             }
            },
            "type": "table"
           }
          ]
         },
         "layout": {
          "annotationdefaults": {
           "arrowcolor": "#2a3f5f",
           "arrowhead": 0,
           "arrowwidth": 1
          },
          "autotypenumbers": "strict",
          "coloraxis": {
           "colorbar": {
            "outlinewidth": 0,
            "ticks": ""
           }
          },
          "colorscale": {
           "diverging": [
            [
             0,
             "#8e0152"
            ],
            [
             0.1,
             "#c51b7d"
            ],
            [
             0.2,
             "#de77ae"
            ],
            [
             0.3,
             "#f1b6da"
            ],
            [
             0.4,
             "#fde0ef"
            ],
            [
             0.5,
             "#f7f7f7"
            ],
            [
             0.6,
             "#e6f5d0"
            ],
            [
             0.7,
             "#b8e186"
            ],
            [
             0.8,
             "#7fbc41"
            ],
            [
             0.9,
             "#4d9221"
            ],
            [
             1,
             "#276419"
            ]
           ],
           "sequential": [
            [
             0,
             "#0d0887"
            ],
            [
             0.1111111111111111,
             "#46039f"
            ],
            [
             0.2222222222222222,
             "#7201a8"
            ],
            [
             0.3333333333333333,
             "#9c179e"
            ],
            [
             0.4444444444444444,
             "#bd3786"
            ],
            [
             0.5555555555555556,
             "#d8576b"
            ],
            [
             0.6666666666666666,
             "#ed7953"
            ],
            [
             0.7777777777777778,
             "#fb9f3a"
            ],
            [
             0.8888888888888888,
             "#fdca26"
            ],
            [
             1,
             "#f0f921"
            ]
           ],
           "sequentialminus": [
            [
             0,
             "#0d0887"
            ],
            [
             0.1111111111111111,
             "#46039f"
            ],
            [
             0.2222222222222222,
             "#7201a8"
            ],
            [
             0.3333333333333333,
             "#9c179e"
            ],
            [
             0.4444444444444444,
             "#bd3786"
            ],
            [
             0.5555555555555556,
             "#d8576b"
            ],
            [
             0.6666666666666666,
             "#ed7953"
            ],
            [
             0.7777777777777778,
             "#fb9f3a"
            ],
            [
             0.8888888888888888,
             "#fdca26"
            ],
            [
             1,
             "#f0f921"
            ]
           ]
          },
          "colorway": [
           "#636efa",
           "#EF553B",
           "#00cc96",
           "#ab63fa",
           "#FFA15A",
           "#19d3f3",
           "#FF6692",
           "#B6E880",
           "#FF97FF",
           "#FECB52"
          ],
          "font": {
           "color": "#2a3f5f"
          },
          "geo": {
           "bgcolor": "white",
           "lakecolor": "white",
           "landcolor": "#E5ECF6",
           "showlakes": true,
           "showland": true,
           "subunitcolor": "white"
          },
          "hoverlabel": {
           "align": "left"
          },
          "hovermode": "closest",
          "mapbox": {
           "style": "light"
          },
          "paper_bgcolor": "white",
          "plot_bgcolor": "#E5ECF6",
          "polar": {
           "angularaxis": {
            "gridcolor": "white",
            "linecolor": "white",
            "ticks": ""
           },
           "bgcolor": "#E5ECF6",
           "radialaxis": {
            "gridcolor": "white",
            "linecolor": "white",
            "ticks": ""
           }
          },
          "scene": {
           "xaxis": {
            "backgroundcolor": "#E5ECF6",
            "gridcolor": "white",
            "gridwidth": 2,
            "linecolor": "white",
            "showbackground": true,
            "ticks": "",
            "zerolinecolor": "white"
           },
           "yaxis": {
            "backgroundcolor": "#E5ECF6",
            "gridcolor": "white",
            "gridwidth": 2,
            "linecolor": "white",
            "showbackground": true,
            "ticks": "",
            "zerolinecolor": "white"
           },
           "zaxis": {
            "backgroundcolor": "#E5ECF6",
            "gridcolor": "white",
            "gridwidth": 2,
            "linecolor": "white",
            "showbackground": true,
            "ticks": "",
            "zerolinecolor": "white"
           }
          },
          "shapedefaults": {
           "line": {
            "color": "#2a3f5f"
           }
          },
          "ternary": {
           "aaxis": {
            "gridcolor": "white",
            "linecolor": "white",
            "ticks": ""
           },
           "baxis": {
            "gridcolor": "white",
            "linecolor": "white",
            "ticks": ""
           },
           "bgcolor": "#E5ECF6",
           "caxis": {
            "gridcolor": "white",
            "linecolor": "white",
            "ticks": ""
           }
          },
          "title": {
           "x": 0.05
          },
          "xaxis": {
           "automargin": true,
           "gridcolor": "white",
           "linecolor": "white",
           "ticks": "",
           "title": {
            "standoff": 15
           },
           "zerolinecolor": "white",
           "zerolinewidth": 2
          },
          "yaxis": {
           "automargin": true,
           "gridcolor": "white",
           "linecolor": "white",
           "ticks": "",
           "title": {
            "standoff": 15
           },
           "zerolinecolor": "white",
           "zerolinewidth": 2
          }
         }
        },
        "title": {
         "text": "Impact de No et alpha sur le Corr après attaque"
        },
        "width": 800,
        "xaxis": {
         "title": {
          "text": "No (Nombre d'observations)=20000"
         }
        },
        "yaxis": {
         "title": {
          "text": "Cor"
         }
        }
       }
      }
     },
     "metadata": {},
     "output_type": "display_data"
    }
   ],
   "source": [
    "alpha_values = [0.2, 0.5, 1, 1.5, 2, 2.5, 3] # Tune the power of the watermark here\n",
    "Ni_grand = 20000\n",
    "\n",
    "fig_ber = go.Figure()\n",
    "fig_corr = go.Figure()\n",
    "fig_ber.add_hline(y=0.5, line_dash=\"dot\", line_color=\"red\", annotation_text=\"BER 50%\", annotation_position=\"top left\")\n",
    "fig_corr.add_hline(y=1, line_dash=\"dot\", line_color=\"red\", annotation_text=\"Corr = 1\", annotation_position=\"top left\")\n",
    "\n",
    "for alpha in alpha_values:\n",
    "    # Réinitialisation des vecteurs pour les plots\n",
    "    ber_values = []\n",
    "    corr_values = []\n",
    "    No_values = range(100,Ni_grand,100) \n",
    "    for No in No_values:\n",
    "        ber_val, corr_val = do_process(alpha, No)\n",
    "        ber_values.append(ber_val)\n",
    "        corr_values.append(corr_val)\n",
    "    # Graphique du BER\n",
    "    fig_ber.add_trace(go.Scatter(x=list(No_values), y=ber_values, mode='lines+markers', name=f'alpha = {alpha}'))\n",
    "    # Graphique du Corr\n",
    "    fig_corr.add_trace(go.Scatter(x=list(No_values), y=corr_values, mode='lines+markers', name=f'alpha = {alpha}'))\n",
    "fig_corr.update_layout(\n",
    "    title=\"Impact de No et alpha sur le Corr après attaque\",\n",
    "    xaxis_title=f\"No (Nombre d'observations)={Ni}\",\n",
    "    yaxis_title=\"Cor\",\n",
    "    legend_title='Valeurs de alpha',\n",
    "    width=800,\n",
    "    height=500\n",
    ")\n",
    "    \n",
    "fig_ber.update_layout(\n",
    "    title='Impact de No et alpha sur le BER après attaque',\n",
    "    xaxis_title=f'No (Nombre d‘observations)={Ni}',\n",
    "    yaxis_title='BER',\n",
    "    legend_title='Valeurs de alpha',\n",
    "    width=800,\n",
    "    height=500\n",
    ")\n",
    "fig_ber.show()\n",
    "fig_corr.show()"
   ]
  },
  {
   "cell_type": "markdown",
   "metadata": {},
   "source": [
    "> En faisant varier alpha et N0, on remarque que toutes les courbes convergnet vers un BER de 0.5. Ceoendant, un alpha trop faible (comme 0.2), a plus de mal a convergé et suggère une plus grande résistance à l'attaque (car légèrement en dessous de BER = 0.5). \n",
    ">\n",
    "> Mis à part cet exemple, le fait que le BER reste autour de 0.5 pour la plupart des valeurs de α suggère que l'attaque est généralement efficace, rendant le processus de décodage presque aléatoire. L'observation d'un BER légèrement inférieur à 0.5 pour α=0.2 indique que le tatouage moins robuste est un peu plus résistant à cette attaque spécifique. Cela pourrait impliquer qu'un tatouage plus discret (moins perceptible) est légèrement plus efficace contre cette méthode d'attaque. Ces résultats soulignent un équilibre entre la robustesse et la discrétion du tatouage, indiquant qu'une augmentation de la force du tatouage ne garantit pas nécessairement une meilleure sécurité contre les attaques dans ce contexte particulier.\n",
    ">\n",
    "> (Insertion moins robuste)"
   ]
  },
  {
   "cell_type": "markdown",
   "metadata": {
    "hideCode": false,
    "hidePrompt": false
   },
   "source": [
    "## Scénario 2, Attaque à messages inconnus, 1bit\n",
    "* Note: la fonction `np.linalg.eig` peut être utilisée pour effectuer une décomposition en valeurs et vecteurs propres.\n",
    "* Note: pour effacer le message inséré, il conviendra au préalable d'estimer le \"bit\" inséré (m=-1 ou m=1), cela peut se faire via `m_est = np.sign(np.dot(Y.T,hatk))` où `hatk` est la clé estimée\n",
    "* Mettre en place l'attaque\n",
    "* Etudier l'impact de $N_{o}$ et de $\\alpha$ sur le BER après attaque"
   ]
  },
  {
   "cell_type": "code",
   "execution_count": 23,
   "metadata": {},
   "outputs": [
    {
     "name": "stdout",
     "output_type": "stream",
     "text": [
      "2nd Scenario\n"
     ]
    },
    {
     "data": {
      "application/vnd.plotly.v1+json": {
       "config": {
        "plotlyServerURL": "https://plot.ly"
       },
       "data": [
        {
         "mode": "lines+markers",
         "name": "BER après attaque",
         "type": "scatter",
         "x": [
          100,
          200,
          300,
          400,
          500,
          600,
          700,
          800,
          900,
          1000,
          1100,
          1200,
          1300,
          1400,
          1500,
          1600,
          1700,
          1800,
          1900,
          2000,
          2100,
          2200,
          2300,
          2400,
          2500,
          2600,
          2700,
          2800,
          2900,
          3000,
          3100,
          3200,
          3300,
          3400,
          3500,
          3600,
          3700,
          3800,
          3900,
          4000,
          4100,
          4200,
          4300,
          4400,
          4500,
          4600,
          4700,
          4800,
          4900,
          5000,
          5100,
          5200,
          5300,
          5400,
          5500,
          5600,
          5700,
          5800,
          5900,
          6000,
          6100,
          6200,
          6300,
          6400,
          6500,
          6600,
          6700,
          6800,
          6900,
          7000,
          7100,
          7200,
          7300,
          7400,
          7500,
          7600,
          7700,
          7800,
          7900,
          8000,
          8100,
          8200,
          8300,
          8400,
          8500,
          8600,
          8700,
          8800,
          8900,
          9000,
          9100,
          9200,
          9300,
          9400,
          9500,
          9600,
          9700,
          9800,
          9900,
          10000,
          10100,
          10200,
          10300,
          10400,
          10500,
          10600,
          10700,
          10800,
          10900,
          11000,
          11100,
          11200,
          11300,
          11400,
          11500,
          11600,
          11700,
          11800,
          11900,
          12000,
          12100,
          12200,
          12300,
          12400,
          12500,
          12600,
          12700,
          12800,
          12900,
          13000,
          13100,
          13200,
          13300,
          13400,
          13500,
          13600,
          13700,
          13800,
          13900,
          14000,
          14100,
          14200,
          14300,
          14400,
          14500,
          14600,
          14700,
          14800,
          14900,
          15000,
          15100,
          15200,
          15300,
          15400,
          15500,
          15600,
          15700,
          15800,
          15900,
          16000,
          16100,
          16200,
          16300,
          16400,
          16500,
          16600,
          16700,
          16800,
          16900,
          17000,
          17100,
          17200,
          17300,
          17400,
          17500,
          17600,
          17700,
          17800,
          17900,
          18000,
          18100,
          18200,
          18300,
          18400,
          18500,
          18600,
          18700,
          18800,
          18900,
          19000,
          19100,
          19200,
          19300,
          19400,
          19500,
          19600,
          19700,
          19800,
          19900
         ],
         "y": [
          0.3776,
          0.39805,
          0.42145,
          0.42995,
          0.44135,
          0.45685,
          0.45345,
          0.4583,
          0.4583,
          0.4579,
          0.46205,
          0.4655,
          0.4639,
          0.47035,
          0.46375,
          0.46885,
          0.4702,
          0.47825,
          0.4669,
          0.4716,
          0.469,
          0.47615,
          0.4807,
          0.472,
          0.4738,
          0.4714,
          0.47125,
          0.4787,
          0.4689,
          0.47745,
          0.4824,
          0.4686,
          0.47235,
          0.4714,
          0.47835,
          0.4748,
          0.4768,
          0.4687,
          0.47175,
          0.4764,
          0.4672,
          0.4722,
          0.47365,
          0.47695,
          0.4653,
          0.47925,
          0.47335,
          0.4733,
          0.4736,
          0.4699,
          0.4772,
          0.46935,
          0.4779,
          0.4744,
          0.4812,
          0.47675,
          0.4774,
          0.47265,
          0.47315,
          0.47355,
          0.4792,
          0.47385,
          0.47255,
          0.47565,
          0.47025,
          0.47285,
          0.47585,
          0.47125,
          0.4733,
          0.47645,
          0.48035,
          0.4808,
          0.47095,
          0.47995,
          0.47165,
          0.47635,
          0.47475,
          0.4761,
          0.47845,
          0.48245,
          0.46945,
          0.4744,
          0.4754,
          0.4753,
          0.47035,
          0.4846,
          0.47585,
          0.4802,
          0.4763,
          0.47365,
          0.47665,
          0.4774,
          0.47255,
          0.481,
          0.47475,
          0.4754,
          0.47345,
          0.4783,
          0.4723,
          0.4811,
          0.4754,
          0.47515,
          0.4715,
          0.4743,
          0.47555,
          0.47395,
          0.4636,
          0.4781,
          0.4777,
          0.47495,
          0.47585,
          0.4795,
          0.47575,
          0.48305,
          0.4805,
          0.4762,
          0.4766,
          0.47365,
          0.4775,
          0.47845,
          0.47095,
          0.47645,
          0.47365,
          0.48195,
          0.47865,
          0.4754,
          0.4734,
          0.48525,
          0.4756,
          0.4828,
          0.48185,
          0.477,
          0.4806,
          0.47775,
          0.4751,
          0.46915,
          0.4772,
          0.4777,
          0.47865,
          0.4788,
          0.4756,
          0.4738,
          0.47755,
          0.4768,
          0.4761,
          0.48085,
          0.4717,
          0.48085,
          0.46945,
          0.47555,
          0.48165,
          0.4815,
          0.4781,
          0.4779,
          0.4756,
          0.4749,
          0.47355,
          0.47985,
          0.4812,
          0.47585,
          0.47685,
          0.4781,
          0.474,
          0.4796,
          0.47345,
          0.4778,
          0.47235,
          0.48005,
          0.47595,
          0.4737,
          0.4835,
          0.4792,
          0.47595,
          0.47685,
          0.4738,
          0.4721,
          0.4753,
          0.4772,
          0.4733,
          0.4792,
          0.48005,
          0.47625,
          0.47985,
          0.46835,
          0.4781,
          0.47235,
          0.4782,
          0.47515,
          0.47765,
          0.4767,
          0.4728,
          0.4729,
          0.4752,
          0.47955,
          0.4753,
          0.4768,
          0.48355,
          0.47425,
          0.4752
         ]
        }
       ],
       "layout": {
        "annotations": [
         {
          "showarrow": false,
          "text": "BER 50%",
          "x": 0,
          "xanchor": "left",
          "xref": "x domain",
          "y": 0.5,
          "yanchor": "top",
          "yref": "y"
         }
        ],
        "height": 400,
        "shapes": [
         {
          "line": {
           "color": "red",
           "dash": "dot"
          },
          "type": "line",
          "x0": 0,
          "x1": 1,
          "xref": "x domain",
          "y0": 0.5,
          "y1": 0.5,
          "yref": "y"
         }
        ],
        "template": {
         "data": {
          "bar": [
           {
            "error_x": {
             "color": "#2a3f5f"
            },
            "error_y": {
             "color": "#2a3f5f"
            },
            "marker": {
             "line": {
              "color": "#E5ECF6",
              "width": 0.5
             },
             "pattern": {
              "fillmode": "overlay",
              "size": 10,
              "solidity": 0.2
             }
            },
            "type": "bar"
           }
          ],
          "barpolar": [
           {
            "marker": {
             "line": {
              "color": "#E5ECF6",
              "width": 0.5
             },
             "pattern": {
              "fillmode": "overlay",
              "size": 10,
              "solidity": 0.2
             }
            },
            "type": "barpolar"
           }
          ],
          "carpet": [
           {
            "aaxis": {
             "endlinecolor": "#2a3f5f",
             "gridcolor": "white",
             "linecolor": "white",
             "minorgridcolor": "white",
             "startlinecolor": "#2a3f5f"
            },
            "baxis": {
             "endlinecolor": "#2a3f5f",
             "gridcolor": "white",
             "linecolor": "white",
             "minorgridcolor": "white",
             "startlinecolor": "#2a3f5f"
            },
            "type": "carpet"
           }
          ],
          "choropleth": [
           {
            "colorbar": {
             "outlinewidth": 0,
             "ticks": ""
            },
            "type": "choropleth"
           }
          ],
          "contour": [
           {
            "colorbar": {
             "outlinewidth": 0,
             "ticks": ""
            },
            "colorscale": [
             [
              0,
              "#0d0887"
             ],
             [
              0.1111111111111111,
              "#46039f"
             ],
             [
              0.2222222222222222,
              "#7201a8"
             ],
             [
              0.3333333333333333,
              "#9c179e"
             ],
             [
              0.4444444444444444,
              "#bd3786"
             ],
             [
              0.5555555555555556,
              "#d8576b"
             ],
             [
              0.6666666666666666,
              "#ed7953"
             ],
             [
              0.7777777777777778,
              "#fb9f3a"
             ],
             [
              0.8888888888888888,
              "#fdca26"
             ],
             [
              1,
              "#f0f921"
             ]
            ],
            "type": "contour"
           }
          ],
          "contourcarpet": [
           {
            "colorbar": {
             "outlinewidth": 0,
             "ticks": ""
            },
            "type": "contourcarpet"
           }
          ],
          "heatmap": [
           {
            "colorbar": {
             "outlinewidth": 0,
             "ticks": ""
            },
            "colorscale": [
             [
              0,
              "#0d0887"
             ],
             [
              0.1111111111111111,
              "#46039f"
             ],
             [
              0.2222222222222222,
              "#7201a8"
             ],
             [
              0.3333333333333333,
              "#9c179e"
             ],
             [
              0.4444444444444444,
              "#bd3786"
             ],
             [
              0.5555555555555556,
              "#d8576b"
             ],
             [
              0.6666666666666666,
              "#ed7953"
             ],
             [
              0.7777777777777778,
              "#fb9f3a"
             ],
             [
              0.8888888888888888,
              "#fdca26"
             ],
             [
              1,
              "#f0f921"
             ]
            ],
            "type": "heatmap"
           }
          ],
          "heatmapgl": [
           {
            "colorbar": {
             "outlinewidth": 0,
             "ticks": ""
            },
            "colorscale": [
             [
              0,
              "#0d0887"
             ],
             [
              0.1111111111111111,
              "#46039f"
             ],
             [
              0.2222222222222222,
              "#7201a8"
             ],
             [
              0.3333333333333333,
              "#9c179e"
             ],
             [
              0.4444444444444444,
              "#bd3786"
             ],
             [
              0.5555555555555556,
              "#d8576b"
             ],
             [
              0.6666666666666666,
              "#ed7953"
             ],
             [
              0.7777777777777778,
              "#fb9f3a"
             ],
             [
              0.8888888888888888,
              "#fdca26"
             ],
             [
              1,
              "#f0f921"
             ]
            ],
            "type": "heatmapgl"
           }
          ],
          "histogram": [
           {
            "marker": {
             "pattern": {
              "fillmode": "overlay",
              "size": 10,
              "solidity": 0.2
             }
            },
            "type": "histogram"
           }
          ],
          "histogram2d": [
           {
            "colorbar": {
             "outlinewidth": 0,
             "ticks": ""
            },
            "colorscale": [
             [
              0,
              "#0d0887"
             ],
             [
              0.1111111111111111,
              "#46039f"
             ],
             [
              0.2222222222222222,
              "#7201a8"
             ],
             [
              0.3333333333333333,
              "#9c179e"
             ],
             [
              0.4444444444444444,
              "#bd3786"
             ],
             [
              0.5555555555555556,
              "#d8576b"
             ],
             [
              0.6666666666666666,
              "#ed7953"
             ],
             [
              0.7777777777777778,
              "#fb9f3a"
             ],
             [
              0.8888888888888888,
              "#fdca26"
             ],
             [
              1,
              "#f0f921"
             ]
            ],
            "type": "histogram2d"
           }
          ],
          "histogram2dcontour": [
           {
            "colorbar": {
             "outlinewidth": 0,
             "ticks": ""
            },
            "colorscale": [
             [
              0,
              "#0d0887"
             ],
             [
              0.1111111111111111,
              "#46039f"
             ],
             [
              0.2222222222222222,
              "#7201a8"
             ],
             [
              0.3333333333333333,
              "#9c179e"
             ],
             [
              0.4444444444444444,
              "#bd3786"
             ],
             [
              0.5555555555555556,
              "#d8576b"
             ],
             [
              0.6666666666666666,
              "#ed7953"
             ],
             [
              0.7777777777777778,
              "#fb9f3a"
             ],
             [
              0.8888888888888888,
              "#fdca26"
             ],
             [
              1,
              "#f0f921"
             ]
            ],
            "type": "histogram2dcontour"
           }
          ],
          "mesh3d": [
           {
            "colorbar": {
             "outlinewidth": 0,
             "ticks": ""
            },
            "type": "mesh3d"
           }
          ],
          "parcoords": [
           {
            "line": {
             "colorbar": {
              "outlinewidth": 0,
              "ticks": ""
             }
            },
            "type": "parcoords"
           }
          ],
          "pie": [
           {
            "automargin": true,
            "type": "pie"
           }
          ],
          "scatter": [
           {
            "fillpattern": {
             "fillmode": "overlay",
             "size": 10,
             "solidity": 0.2
            },
            "type": "scatter"
           }
          ],
          "scatter3d": [
           {
            "line": {
             "colorbar": {
              "outlinewidth": 0,
              "ticks": ""
             }
            },
            "marker": {
             "colorbar": {
              "outlinewidth": 0,
              "ticks": ""
             }
            },
            "type": "scatter3d"
           }
          ],
          "scattercarpet": [
           {
            "marker": {
             "colorbar": {
              "outlinewidth": 0,
              "ticks": ""
             }
            },
            "type": "scattercarpet"
           }
          ],
          "scattergeo": [
           {
            "marker": {
             "colorbar": {
              "outlinewidth": 0,
              "ticks": ""
             }
            },
            "type": "scattergeo"
           }
          ],
          "scattergl": [
           {
            "marker": {
             "colorbar": {
              "outlinewidth": 0,
              "ticks": ""
             }
            },
            "type": "scattergl"
           }
          ],
          "scattermapbox": [
           {
            "marker": {
             "colorbar": {
              "outlinewidth": 0,
              "ticks": ""
             }
            },
            "type": "scattermapbox"
           }
          ],
          "scatterpolar": [
           {
            "marker": {
             "colorbar": {
              "outlinewidth": 0,
              "ticks": ""
             }
            },
            "type": "scatterpolar"
           }
          ],
          "scatterpolargl": [
           {
            "marker": {
             "colorbar": {
              "outlinewidth": 0,
              "ticks": ""
             }
            },
            "type": "scatterpolargl"
           }
          ],
          "scatterternary": [
           {
            "marker": {
             "colorbar": {
              "outlinewidth": 0,
              "ticks": ""
             }
            },
            "type": "scatterternary"
           }
          ],
          "surface": [
           {
            "colorbar": {
             "outlinewidth": 0,
             "ticks": ""
            },
            "colorscale": [
             [
              0,
              "#0d0887"
             ],
             [
              0.1111111111111111,
              "#46039f"
             ],
             [
              0.2222222222222222,
              "#7201a8"
             ],
             [
              0.3333333333333333,
              "#9c179e"
             ],
             [
              0.4444444444444444,
              "#bd3786"
             ],
             [
              0.5555555555555556,
              "#d8576b"
             ],
             [
              0.6666666666666666,
              "#ed7953"
             ],
             [
              0.7777777777777778,
              "#fb9f3a"
             ],
             [
              0.8888888888888888,
              "#fdca26"
             ],
             [
              1,
              "#f0f921"
             ]
            ],
            "type": "surface"
           }
          ],
          "table": [
           {
            "cells": {
             "fill": {
              "color": "#EBF0F8"
             },
             "line": {
              "color": "white"
             }
            },
            "header": {
             "fill": {
              "color": "#C8D4E3"
             },
             "line": {
              "color": "white"
             }
            },
            "type": "table"
           }
          ]
         },
         "layout": {
          "annotationdefaults": {
           "arrowcolor": "#2a3f5f",
           "arrowhead": 0,
           "arrowwidth": 1
          },
          "autotypenumbers": "strict",
          "coloraxis": {
           "colorbar": {
            "outlinewidth": 0,
            "ticks": ""
           }
          },
          "colorscale": {
           "diverging": [
            [
             0,
             "#8e0152"
            ],
            [
             0.1,
             "#c51b7d"
            ],
            [
             0.2,
             "#de77ae"
            ],
            [
             0.3,
             "#f1b6da"
            ],
            [
             0.4,
             "#fde0ef"
            ],
            [
             0.5,
             "#f7f7f7"
            ],
            [
             0.6,
             "#e6f5d0"
            ],
            [
             0.7,
             "#b8e186"
            ],
            [
             0.8,
             "#7fbc41"
            ],
            [
             0.9,
             "#4d9221"
            ],
            [
             1,
             "#276419"
            ]
           ],
           "sequential": [
            [
             0,
             "#0d0887"
            ],
            [
             0.1111111111111111,
             "#46039f"
            ],
            [
             0.2222222222222222,
             "#7201a8"
            ],
            [
             0.3333333333333333,
             "#9c179e"
            ],
            [
             0.4444444444444444,
             "#bd3786"
            ],
            [
             0.5555555555555556,
             "#d8576b"
            ],
            [
             0.6666666666666666,
             "#ed7953"
            ],
            [
             0.7777777777777778,
             "#fb9f3a"
            ],
            [
             0.8888888888888888,
             "#fdca26"
            ],
            [
             1,
             "#f0f921"
            ]
           ],
           "sequentialminus": [
            [
             0,
             "#0d0887"
            ],
            [
             0.1111111111111111,
             "#46039f"
            ],
            [
             0.2222222222222222,
             "#7201a8"
            ],
            [
             0.3333333333333333,
             "#9c179e"
            ],
            [
             0.4444444444444444,
             "#bd3786"
            ],
            [
             0.5555555555555556,
             "#d8576b"
            ],
            [
             0.6666666666666666,
             "#ed7953"
            ],
            [
             0.7777777777777778,
             "#fb9f3a"
            ],
            [
             0.8888888888888888,
             "#fdca26"
            ],
            [
             1,
             "#f0f921"
            ]
           ]
          },
          "colorway": [
           "#636efa",
           "#EF553B",
           "#00cc96",
           "#ab63fa",
           "#FFA15A",
           "#19d3f3",
           "#FF6692",
           "#B6E880",
           "#FF97FF",
           "#FECB52"
          ],
          "font": {
           "color": "#2a3f5f"
          },
          "geo": {
           "bgcolor": "white",
           "lakecolor": "white",
           "landcolor": "#E5ECF6",
           "showlakes": true,
           "showland": true,
           "subunitcolor": "white"
          },
          "hoverlabel": {
           "align": "left"
          },
          "hovermode": "closest",
          "mapbox": {
           "style": "light"
          },
          "paper_bgcolor": "white",
          "plot_bgcolor": "#E5ECF6",
          "polar": {
           "angularaxis": {
            "gridcolor": "white",
            "linecolor": "white",
            "ticks": ""
           },
           "bgcolor": "#E5ECF6",
           "radialaxis": {
            "gridcolor": "white",
            "linecolor": "white",
            "ticks": ""
           }
          },
          "scene": {
           "xaxis": {
            "backgroundcolor": "#E5ECF6",
            "gridcolor": "white",
            "gridwidth": 2,
            "linecolor": "white",
            "showbackground": true,
            "ticks": "",
            "zerolinecolor": "white"
           },
           "yaxis": {
            "backgroundcolor": "#E5ECF6",
            "gridcolor": "white",
            "gridwidth": 2,
            "linecolor": "white",
            "showbackground": true,
            "ticks": "",
            "zerolinecolor": "white"
           },
           "zaxis": {
            "backgroundcolor": "#E5ECF6",
            "gridcolor": "white",
            "gridwidth": 2,
            "linecolor": "white",
            "showbackground": true,
            "ticks": "",
            "zerolinecolor": "white"
           }
          },
          "shapedefaults": {
           "line": {
            "color": "#2a3f5f"
           }
          },
          "ternary": {
           "aaxis": {
            "gridcolor": "white",
            "linecolor": "white",
            "ticks": ""
           },
           "baxis": {
            "gridcolor": "white",
            "linecolor": "white",
            "ticks": ""
           },
           "bgcolor": "#E5ECF6",
           "caxis": {
            "gridcolor": "white",
            "linecolor": "white",
            "ticks": ""
           }
          },
          "title": {
           "x": 0.05
          },
          "xaxis": {
           "automargin": true,
           "gridcolor": "white",
           "linecolor": "white",
           "ticks": "",
           "title": {
            "standoff": 15
           },
           "zerolinecolor": "white",
           "zerolinewidth": 2
          },
          "yaxis": {
           "automargin": true,
           "gridcolor": "white",
           "linecolor": "white",
           "ticks": "",
           "title": {
            "standoff": 15
           },
           "zerolinecolor": "white",
           "zerolinewidth": 2
          }
         }
        },
        "title": {
         "text": "BER après attaque en fonction de No"
        },
        "width": 700,
        "xaxis": {
         "title": {
          "text": "No (Nombre d'observations)"
         }
        },
        "yaxis": {
         "title": {
          "text": "BER"
         }
        }
       }
      }
     },
     "metadata": {},
     "output_type": "display_data"
    },
    {
     "data": {
      "application/vnd.plotly.v1+json": {
       "config": {
        "plotlyServerURL": "https://plot.ly"
       },
       "data": [
        {
         "mode": "lines+markers",
         "name": "Corr après attaque",
         "type": "scatter",
         "x": [
          100,
          200,
          300,
          400,
          500,
          600,
          700,
          800,
          900,
          1000,
          1100,
          1200,
          1300,
          1400,
          1500,
          1600,
          1700,
          1800,
          1900,
          2000,
          2100,
          2200,
          2300,
          2400,
          2500,
          2600,
          2700,
          2800,
          2900,
          3000,
          3100,
          3200,
          3300,
          3400,
          3500,
          3600,
          3700,
          3800,
          3900,
          4000,
          4100,
          4200,
          4300,
          4400,
          4500,
          4600,
          4700,
          4800,
          4900,
          5000,
          5100,
          5200,
          5300,
          5400,
          5500,
          5600,
          5700,
          5800,
          5900,
          6000,
          6100,
          6200,
          6300,
          6400,
          6500,
          6600,
          6700,
          6800,
          6900,
          7000,
          7100,
          7200,
          7300,
          7400,
          7500,
          7600,
          7700,
          7800,
          7900,
          8000,
          8100,
          8200,
          8300,
          8400,
          8500,
          8600,
          8700,
          8800,
          8900,
          9000,
          9100,
          9200,
          9300,
          9400,
          9500,
          9600,
          9700,
          9800,
          9900,
          10000,
          10100,
          10200,
          10300,
          10400,
          10500,
          10600,
          10700,
          10800,
          10900,
          11000,
          11100,
          11200,
          11300,
          11400,
          11500,
          11600,
          11700,
          11800,
          11900,
          12000,
          12100,
          12200,
          12300,
          12400,
          12500,
          12600,
          12700,
          12800,
          12900,
          13000,
          13100,
          13200,
          13300,
          13400,
          13500,
          13600,
          13700,
          13800,
          13900,
          14000,
          14100,
          14200,
          14300,
          14400,
          14500,
          14600,
          14700,
          14800,
          14900,
          15000,
          15100,
          15200,
          15300,
          15400,
          15500,
          15600,
          15700,
          15800,
          15900,
          16000,
          16100,
          16200,
          16300,
          16400,
          16500,
          16600,
          16700,
          16800,
          16900,
          17000,
          17100,
          17200,
          17300,
          17400,
          17500,
          17600,
          17700,
          17800,
          17900,
          18000,
          18100,
          18200,
          18300,
          18400,
          18500,
          18600,
          18700,
          18800,
          18900,
          19000,
          19100,
          19200,
          19300,
          19400,
          19500,
          19600,
          19700,
          19800,
          19900
         ],
         "y": [
          0.8885795198195335,
          0.9106153295520806,
          0.9401888039199892,
          0.955546080583056,
          0.9619453009462583,
          0.9801237745270949,
          0.9823830799735087,
          0.9837100770962458,
          0.9810218275538807,
          0.983856822506011,
          0.9858390241688897,
          0.9862364234166902,
          0.9893596481633328,
          0.9899516567004887,
          0.9888890530412036,
          0.987208184432325,
          0.9894357684808144,
          0.9914077079569866,
          0.9898529638509946,
          0.992329824681456,
          0.9937821769543593,
          0.9939417977665049,
          0.9944256426721465,
          0.9939370163191599,
          0.9944109799575851,
          0.9953909933414125,
          0.9929719415945067,
          0.9946993535277118,
          0.9947017956212962,
          0.9959898683663495,
          0.9958885893174504,
          0.9934732998183816,
          0.9959790447335374,
          0.9968937750637066,
          0.9963854231654462,
          0.9966169391368197,
          0.9968333587282259,
          0.9963869189962051,
          0.9956610352625257,
          0.9959366680282692,
          0.996407957093199,
          0.9967486986431503,
          0.9964719169076242,
          0.9960876848762544,
          0.9975039133814123,
          0.9963913331020593,
          0.9968095053107383,
          0.9967634611560023,
          0.9954494907348518,
          0.9967318006142503,
          0.9979454131678258,
          0.9965075532956936,
          0.996731171708493,
          0.9964372483277381,
          0.9969578771335454,
          0.9973614315542418,
          0.9970376591559668,
          0.9968356939824422,
          0.9970605372272883,
          0.9979262907314201,
          0.9978236372899638,
          0.9975629481632533,
          0.9969896026628747,
          0.9975122294938085,
          0.9976038102040422,
          0.9979765286444704,
          0.9978853861653656,
          0.9978369927765983,
          0.9979065055090017,
          0.9976867177458185,
          0.9976352411516389,
          0.9978082111568742,
          0.9977599214673107,
          0.9983454802663234,
          0.9982268704491399,
          0.9973289866270769,
          0.9977225475130369,
          0.997977306733521,
          0.9982365496708185,
          0.9982524699917279,
          0.9985083937693291,
          0.998589263763964,
          0.9978794234798871,
          0.9980678096636378,
          0.9981645124709341,
          0.9985298004331903,
          0.9979292753150933,
          0.9983091901338523,
          0.9985737605629146,
          0.9983485608669823,
          0.9979914939553832,
          0.9986689325202179,
          0.9983311341651201,
          0.9986012381113164,
          0.998640908232006,
          0.9985780082674153,
          0.9986489225790228,
          0.9982510763783903,
          0.9986766668391684,
          0.9985841255246377,
          0.9989078290735802,
          0.9983958514873841,
          0.9985332298535156,
          0.998563521917811,
          0.9988523155437309,
          0.998819758755447,
          0.9988339774290202,
          0.9983187662518266,
          0.9987976269387367,
          0.998697865433024,
          0.9983537279482055,
          0.9986785449834199,
          0.9984910149991191,
          0.9986801187831734,
          0.9988110527376999,
          0.9989057766184817,
          0.9983628430023057,
          0.9986884201214341,
          0.9988015794069044,
          0.9988853931871724,
          0.998977140802616,
          0.9987323700044641,
          0.9987583586368411,
          0.9989229585335885,
          0.9988703292146874,
          0.9990050147269773,
          0.9986927148401556,
          0.9987021590019065,
          0.9986231825349786,
          0.9988350321622909,
          0.998669508637805,
          0.998934556441826,
          0.9988684256286555,
          0.998759511985464,
          0.9989443203387136,
          0.9987314979144157,
          0.9988216145588147,
          0.9990100755206093,
          0.998547220764302,
          0.9988611064264187,
          0.9988467544753821,
          0.9990451116016829,
          0.99898309133691,
          0.9990980404118,
          0.9988578076186233,
          0.9987462078082942,
          0.9987320274353377,
          0.9989492694296065,
          0.999322193590947,
          0.9991087937928149,
          0.9990013910309492,
          0.9989888967170482,
          0.9986687539161871,
          0.9988992615680573,
          0.9992023910046002,
          0.9990265738526903,
          0.9989791909009382,
          0.9991983234340025,
          0.9989868766460621,
          0.9989226389750157,
          0.9989961024364322,
          0.999051345562022,
          0.9990053404978085,
          0.999153720077642,
          0.9989518177656324,
          0.9990397322887687,
          0.9988202761631969,
          0.9989448021483194,
          0.999056786729001,
          0.9991496776578559,
          0.9989266534903778,
          0.9991551935861454,
          0.9988237544547658,
          0.9990769830939231,
          0.9990967431887188,
          0.9992168849043049,
          0.9990259203266922,
          0.9991757950459077,
          0.9993097449421323,
          0.999203022176951,
          0.9990318647879615,
          0.9988744160939792,
          0.9989314766960073,
          0.9992095550019227,
          0.9992550730175616,
          0.9990341094735125,
          0.9990753363982611,
          0.999053865184766,
          0.9991242828376141,
          0.9992787149622182,
          0.9989292197365214,
          0.999298032547264,
          0.999130128333502,
          0.9990708075170383,
          0.9992577445762486,
          0.9992224837679685,
          0.999163915351395,
          0.9992116473605913,
          0.9992347885945203
         ]
        }
       ],
       "layout": {
        "annotations": [
         {
          "showarrow": false,
          "text": "Corr = 1",
          "x": 0,
          "xanchor": "left",
          "xref": "x domain",
          "y": 1,
          "yanchor": "top",
          "yref": "y"
         }
        ],
        "height": 400,
        "shapes": [
         {
          "line": {
           "color": "red",
           "dash": "dot"
          },
          "type": "line",
          "x0": 0,
          "x1": 1,
          "xref": "x domain",
          "y0": 1,
          "y1": 1,
          "yref": "y"
         }
        ],
        "template": {
         "data": {
          "bar": [
           {
            "error_x": {
             "color": "#2a3f5f"
            },
            "error_y": {
             "color": "#2a3f5f"
            },
            "marker": {
             "line": {
              "color": "#E5ECF6",
              "width": 0.5
             },
             "pattern": {
              "fillmode": "overlay",
              "size": 10,
              "solidity": 0.2
             }
            },
            "type": "bar"
           }
          ],
          "barpolar": [
           {
            "marker": {
             "line": {
              "color": "#E5ECF6",
              "width": 0.5
             },
             "pattern": {
              "fillmode": "overlay",
              "size": 10,
              "solidity": 0.2
             }
            },
            "type": "barpolar"
           }
          ],
          "carpet": [
           {
            "aaxis": {
             "endlinecolor": "#2a3f5f",
             "gridcolor": "white",
             "linecolor": "white",
             "minorgridcolor": "white",
             "startlinecolor": "#2a3f5f"
            },
            "baxis": {
             "endlinecolor": "#2a3f5f",
             "gridcolor": "white",
             "linecolor": "white",
             "minorgridcolor": "white",
             "startlinecolor": "#2a3f5f"
            },
            "type": "carpet"
           }
          ],
          "choropleth": [
           {
            "colorbar": {
             "outlinewidth": 0,
             "ticks": ""
            },
            "type": "choropleth"
           }
          ],
          "contour": [
           {
            "colorbar": {
             "outlinewidth": 0,
             "ticks": ""
            },
            "colorscale": [
             [
              0,
              "#0d0887"
             ],
             [
              0.1111111111111111,
              "#46039f"
             ],
             [
              0.2222222222222222,
              "#7201a8"
             ],
             [
              0.3333333333333333,
              "#9c179e"
             ],
             [
              0.4444444444444444,
              "#bd3786"
             ],
             [
              0.5555555555555556,
              "#d8576b"
             ],
             [
              0.6666666666666666,
              "#ed7953"
             ],
             [
              0.7777777777777778,
              "#fb9f3a"
             ],
             [
              0.8888888888888888,
              "#fdca26"
             ],
             [
              1,
              "#f0f921"
             ]
            ],
            "type": "contour"
           }
          ],
          "contourcarpet": [
           {
            "colorbar": {
             "outlinewidth": 0,
             "ticks": ""
            },
            "type": "contourcarpet"
           }
          ],
          "heatmap": [
           {
            "colorbar": {
             "outlinewidth": 0,
             "ticks": ""
            },
            "colorscale": [
             [
              0,
              "#0d0887"
             ],
             [
              0.1111111111111111,
              "#46039f"
             ],
             [
              0.2222222222222222,
              "#7201a8"
             ],
             [
              0.3333333333333333,
              "#9c179e"
             ],
             [
              0.4444444444444444,
              "#bd3786"
             ],
             [
              0.5555555555555556,
              "#d8576b"
             ],
             [
              0.6666666666666666,
              "#ed7953"
             ],
             [
              0.7777777777777778,
              "#fb9f3a"
             ],
             [
              0.8888888888888888,
              "#fdca26"
             ],
             [
              1,
              "#f0f921"
             ]
            ],
            "type": "heatmap"
           }
          ],
          "heatmapgl": [
           {
            "colorbar": {
             "outlinewidth": 0,
             "ticks": ""
            },
            "colorscale": [
             [
              0,
              "#0d0887"
             ],
             [
              0.1111111111111111,
              "#46039f"
             ],
             [
              0.2222222222222222,
              "#7201a8"
             ],
             [
              0.3333333333333333,
              "#9c179e"
             ],
             [
              0.4444444444444444,
              "#bd3786"
             ],
             [
              0.5555555555555556,
              "#d8576b"
             ],
             [
              0.6666666666666666,
              "#ed7953"
             ],
             [
              0.7777777777777778,
              "#fb9f3a"
             ],
             [
              0.8888888888888888,
              "#fdca26"
             ],
             [
              1,
              "#f0f921"
             ]
            ],
            "type": "heatmapgl"
           }
          ],
          "histogram": [
           {
            "marker": {
             "pattern": {
              "fillmode": "overlay",
              "size": 10,
              "solidity": 0.2
             }
            },
            "type": "histogram"
           }
          ],
          "histogram2d": [
           {
            "colorbar": {
             "outlinewidth": 0,
             "ticks": ""
            },
            "colorscale": [
             [
              0,
              "#0d0887"
             ],
             [
              0.1111111111111111,
              "#46039f"
             ],
             [
              0.2222222222222222,
              "#7201a8"
             ],
             [
              0.3333333333333333,
              "#9c179e"
             ],
             [
              0.4444444444444444,
              "#bd3786"
             ],
             [
              0.5555555555555556,
              "#d8576b"
             ],
             [
              0.6666666666666666,
              "#ed7953"
             ],
             [
              0.7777777777777778,
              "#fb9f3a"
             ],
             [
              0.8888888888888888,
              "#fdca26"
             ],
             [
              1,
              "#f0f921"
             ]
            ],
            "type": "histogram2d"
           }
          ],
          "histogram2dcontour": [
           {
            "colorbar": {
             "outlinewidth": 0,
             "ticks": ""
            },
            "colorscale": [
             [
              0,
              "#0d0887"
             ],
             [
              0.1111111111111111,
              "#46039f"
             ],
             [
              0.2222222222222222,
              "#7201a8"
             ],
             [
              0.3333333333333333,
              "#9c179e"
             ],
             [
              0.4444444444444444,
              "#bd3786"
             ],
             [
              0.5555555555555556,
              "#d8576b"
             ],
             [
              0.6666666666666666,
              "#ed7953"
             ],
             [
              0.7777777777777778,
              "#fb9f3a"
             ],
             [
              0.8888888888888888,
              "#fdca26"
             ],
             [
              1,
              "#f0f921"
             ]
            ],
            "type": "histogram2dcontour"
           }
          ],
          "mesh3d": [
           {
            "colorbar": {
             "outlinewidth": 0,
             "ticks": ""
            },
            "type": "mesh3d"
           }
          ],
          "parcoords": [
           {
            "line": {
             "colorbar": {
              "outlinewidth": 0,
              "ticks": ""
             }
            },
            "type": "parcoords"
           }
          ],
          "pie": [
           {
            "automargin": true,
            "type": "pie"
           }
          ],
          "scatter": [
           {
            "fillpattern": {
             "fillmode": "overlay",
             "size": 10,
             "solidity": 0.2
            },
            "type": "scatter"
           }
          ],
          "scatter3d": [
           {
            "line": {
             "colorbar": {
              "outlinewidth": 0,
              "ticks": ""
             }
            },
            "marker": {
             "colorbar": {
              "outlinewidth": 0,
              "ticks": ""
             }
            },
            "type": "scatter3d"
           }
          ],
          "scattercarpet": [
           {
            "marker": {
             "colorbar": {
              "outlinewidth": 0,
              "ticks": ""
             }
            },
            "type": "scattercarpet"
           }
          ],
          "scattergeo": [
           {
            "marker": {
             "colorbar": {
              "outlinewidth": 0,
              "ticks": ""
             }
            },
            "type": "scattergeo"
           }
          ],
          "scattergl": [
           {
            "marker": {
             "colorbar": {
              "outlinewidth": 0,
              "ticks": ""
             }
            },
            "type": "scattergl"
           }
          ],
          "scattermapbox": [
           {
            "marker": {
             "colorbar": {
              "outlinewidth": 0,
              "ticks": ""
             }
            },
            "type": "scattermapbox"
           }
          ],
          "scatterpolar": [
           {
            "marker": {
             "colorbar": {
              "outlinewidth": 0,
              "ticks": ""
             }
            },
            "type": "scatterpolar"
           }
          ],
          "scatterpolargl": [
           {
            "marker": {
             "colorbar": {
              "outlinewidth": 0,
              "ticks": ""
             }
            },
            "type": "scatterpolargl"
           }
          ],
          "scatterternary": [
           {
            "marker": {
             "colorbar": {
              "outlinewidth": 0,
              "ticks": ""
             }
            },
            "type": "scatterternary"
           }
          ],
          "surface": [
           {
            "colorbar": {
             "outlinewidth": 0,
             "ticks": ""
            },
            "colorscale": [
             [
              0,
              "#0d0887"
             ],
             [
              0.1111111111111111,
              "#46039f"
             ],
             [
              0.2222222222222222,
              "#7201a8"
             ],
             [
              0.3333333333333333,
              "#9c179e"
             ],
             [
              0.4444444444444444,
              "#bd3786"
             ],
             [
              0.5555555555555556,
              "#d8576b"
             ],
             [
              0.6666666666666666,
              "#ed7953"
             ],
             [
              0.7777777777777778,
              "#fb9f3a"
             ],
             [
              0.8888888888888888,
              "#fdca26"
             ],
             [
              1,
              "#f0f921"
             ]
            ],
            "type": "surface"
           }
          ],
          "table": [
           {
            "cells": {
             "fill": {
              "color": "#EBF0F8"
             },
             "line": {
              "color": "white"
             }
            },
            "header": {
             "fill": {
              "color": "#C8D4E3"
             },
             "line": {
              "color": "white"
             }
            },
            "type": "table"
           }
          ]
         },
         "layout": {
          "annotationdefaults": {
           "arrowcolor": "#2a3f5f",
           "arrowhead": 0,
           "arrowwidth": 1
          },
          "autotypenumbers": "strict",
          "coloraxis": {
           "colorbar": {
            "outlinewidth": 0,
            "ticks": ""
           }
          },
          "colorscale": {
           "diverging": [
            [
             0,
             "#8e0152"
            ],
            [
             0.1,
             "#c51b7d"
            ],
            [
             0.2,
             "#de77ae"
            ],
            [
             0.3,
             "#f1b6da"
            ],
            [
             0.4,
             "#fde0ef"
            ],
            [
             0.5,
             "#f7f7f7"
            ],
            [
             0.6,
             "#e6f5d0"
            ],
            [
             0.7,
             "#b8e186"
            ],
            [
             0.8,
             "#7fbc41"
            ],
            [
             0.9,
             "#4d9221"
            ],
            [
             1,
             "#276419"
            ]
           ],
           "sequential": [
            [
             0,
             "#0d0887"
            ],
            [
             0.1111111111111111,
             "#46039f"
            ],
            [
             0.2222222222222222,
             "#7201a8"
            ],
            [
             0.3333333333333333,
             "#9c179e"
            ],
            [
             0.4444444444444444,
             "#bd3786"
            ],
            [
             0.5555555555555556,
             "#d8576b"
            ],
            [
             0.6666666666666666,
             "#ed7953"
            ],
            [
             0.7777777777777778,
             "#fb9f3a"
            ],
            [
             0.8888888888888888,
             "#fdca26"
            ],
            [
             1,
             "#f0f921"
            ]
           ],
           "sequentialminus": [
            [
             0,
             "#0d0887"
            ],
            [
             0.1111111111111111,
             "#46039f"
            ],
            [
             0.2222222222222222,
             "#7201a8"
            ],
            [
             0.3333333333333333,
             "#9c179e"
            ],
            [
             0.4444444444444444,
             "#bd3786"
            ],
            [
             0.5555555555555556,
             "#d8576b"
            ],
            [
             0.6666666666666666,
             "#ed7953"
            ],
            [
             0.7777777777777778,
             "#fb9f3a"
            ],
            [
             0.8888888888888888,
             "#fdca26"
            ],
            [
             1,
             "#f0f921"
            ]
           ]
          },
          "colorway": [
           "#636efa",
           "#EF553B",
           "#00cc96",
           "#ab63fa",
           "#FFA15A",
           "#19d3f3",
           "#FF6692",
           "#B6E880",
           "#FF97FF",
           "#FECB52"
          ],
          "font": {
           "color": "#2a3f5f"
          },
          "geo": {
           "bgcolor": "white",
           "lakecolor": "white",
           "landcolor": "#E5ECF6",
           "showlakes": true,
           "showland": true,
           "subunitcolor": "white"
          },
          "hoverlabel": {
           "align": "left"
          },
          "hovermode": "closest",
          "mapbox": {
           "style": "light"
          },
          "paper_bgcolor": "white",
          "plot_bgcolor": "#E5ECF6",
          "polar": {
           "angularaxis": {
            "gridcolor": "white",
            "linecolor": "white",
            "ticks": ""
           },
           "bgcolor": "#E5ECF6",
           "radialaxis": {
            "gridcolor": "white",
            "linecolor": "white",
            "ticks": ""
           }
          },
          "scene": {
           "xaxis": {
            "backgroundcolor": "#E5ECF6",
            "gridcolor": "white",
            "gridwidth": 2,
            "linecolor": "white",
            "showbackground": true,
            "ticks": "",
            "zerolinecolor": "white"
           },
           "yaxis": {
            "backgroundcolor": "#E5ECF6",
            "gridcolor": "white",
            "gridwidth": 2,
            "linecolor": "white",
            "showbackground": true,
            "ticks": "",
            "zerolinecolor": "white"
           },
           "zaxis": {
            "backgroundcolor": "#E5ECF6",
            "gridcolor": "white",
            "gridwidth": 2,
            "linecolor": "white",
            "showbackground": true,
            "ticks": "",
            "zerolinecolor": "white"
           }
          },
          "shapedefaults": {
           "line": {
            "color": "#2a3f5f"
           }
          },
          "ternary": {
           "aaxis": {
            "gridcolor": "white",
            "linecolor": "white",
            "ticks": ""
           },
           "baxis": {
            "gridcolor": "white",
            "linecolor": "white",
            "ticks": ""
           },
           "bgcolor": "#E5ECF6",
           "caxis": {
            "gridcolor": "white",
            "linecolor": "white",
            "ticks": ""
           }
          },
          "title": {
           "x": 0.05
          },
          "xaxis": {
           "automargin": true,
           "gridcolor": "white",
           "linecolor": "white",
           "ticks": "",
           "title": {
            "standoff": 15
           },
           "zerolinecolor": "white",
           "zerolinewidth": 2
          },
          "yaxis": {
           "automargin": true,
           "gridcolor": "white",
           "linecolor": "white",
           "ticks": "",
           "title": {
            "standoff": 15
           },
           "zerolinecolor": "white",
           "zerolinewidth": 2
          }
         }
        },
        "title": {
         "text": "Corr après attaque en fonction de No"
        },
        "width": 700,
        "xaxis": {
         "title": {
          "text": "No (Nombre d'observations)"
         }
        },
        "yaxis": {
         "title": {
          "text": "Cor"
         }
        }
       }
      }
     },
     "metadata": {},
     "output_type": "display_data"
    }
   ],
   "source": [
    "# 2dn scenario, scenario with KMA \n",
    "print('2nd Scenario')\n",
    "\n",
    "def do_process(alpha,No):\n",
    "    X = np.random.randn(Nv,Ni) # Generate Ni random host vectors\n",
    "    k = np.random.randn(Nv,1) # Generate de Watermark\n",
    "    k = k / np.sqrt(np.dot(k.T,k)) # Normalize the watermark\n",
    "\n",
    "    m1 = np.sign(np.random.randn(Ni,1)) #Scenario with unknow messages, first bit\n",
    "    K = np.dot(k,m1.T) # Generate the matrix of watermarks (each column contains m1_i*k)\n",
    "    W = alpha*K\n",
    "    Y = X + W # perform embedding\n",
    "    Y_obs = Y[:,:No]\n",
    "    #hatk = TO DO\n",
    "    #get eigenvalues and eigenvectors\n",
    "    cov = np.dot(Y_obs,Y_obs.T)\n",
    "    eigvals, eigvecs = np.linalg.eig(cov)\n",
    "    #sort eigenvalues and eigenvectors\n",
    "    idx = eigvals.argsort()[::-1]\n",
    "    eigvals = eigvals[idx]\n",
    "    eigvecs = eigvecs[:,idx]\n",
    "    #get the first eigenvector\n",
    "    hatk=eigvecs[:,0]\n",
    "    \n",
    "    hatk = np.reshape(hatk,(Nv,1)) #You might need to reshape the estimated key\n",
    "\n",
    "    corrN = norm_corr(hatk,k)# To ease the writing we use the norm_corr function\n",
    "\n",
    "    #print('Normalised correlation between the true key and the estimated key')\n",
    "    #print(corrN)\n",
    "\n",
    "    #m_est = TO DO\n",
    "    #YA = TO DO \n",
    "    m_est = np.sign(np.dot(Y.T, hatk)) \n",
    "    YA = Y - alpha * np.dot(hatk, m_est.T)  # Appliquer l'attaque\n",
    "\n",
    "    #print('bit error rate after security attack')\n",
    "    #print(ber(YA,m1,k))\n",
    "    #print('\\n\\n')\n",
    "    return ber(YA, m1, k), corrN[0][0]\n",
    "\n",
    "\n",
    "alpha = 2   \n",
    "Ni = 20000 \n",
    "# Réinitialisation des vecteurs pour les plots\n",
    "ber_values = []\n",
    "corr_values = []\n",
    "No_values = range(100,Ni,100) \n",
    "\n",
    "# One example, can be used to draw plots\n",
    "for No in No_values:\n",
    "    ber_val, corr_val = do_process(alpha, No)\n",
    "    ber_values.append(ber_val)\n",
    "    corr_values.append(corr_val)\n",
    "\n",
    "\n",
    "# Graphique du BER\n",
    "fig_ber = go.Figure()\n",
    "fig_ber.add_trace(go.Scatter(x=list(No_values), y=ber_values, mode='lines+markers', name='BER après attaque'))\n",
    "fig_ber.add_hline(y=0.5, line_dash=\"dot\", line_color=\"red\", annotation_text=\"BER 50%\", annotation_position=\"bottom left\")\n",
    "fig_ber.update_layout(\n",
    "    title=\"BER après attaque en fonction de No\",\n",
    "    xaxis_title=\"No (Nombre d'observations)\",\n",
    "    yaxis_title=\"BER\",\n",
    "    width=700,\n",
    "    height=400\n",
    ")\n",
    "fig_ber.show()\n",
    "\n",
    "# Graphique du Corr\n",
    "fig_corr = go.Figure()\n",
    "fig_corr.add_trace(go.Scatter(x=list(No_values), y=corr_values, mode='lines+markers', name='Corr après attaque'))\n",
    "fig_corr.add_hline(y=1, line_dash=\"dot\", line_color=\"red\", annotation_text=\"Corr = 1\", annotation_position=\"bottom left\")\n",
    "fig_corr.update_layout(\n",
    "    title=\"Corr après attaque en fonction de No\",\n",
    "    xaxis_title=\"No (Nombre d'observations)\",\n",
    "    yaxis_title=\"Cor\",\n",
    "    width=700,\n",
    "    height=400\n",
    ")\n",
    "fig_corr.show()"
   ]
  },
  {
   "cell_type": "code",
   "execution_count": 24,
   "metadata": {},
   "outputs": [
    {
     "data": {
      "application/vnd.plotly.v1+json": {
       "config": {
        "plotlyServerURL": "https://plot.ly"
       },
       "data": [
        {
         "mode": "lines+markers",
         "name": "alpha = 0.2",
         "type": "scatter",
         "x": [
          100,
          200,
          300,
          400,
          500,
          600,
          700,
          800,
          900,
          1000,
          1100,
          1200,
          1300,
          1400,
          1500,
          1600,
          1700,
          1800,
          1900,
          2000,
          2100,
          2200,
          2300,
          2400,
          2500,
          2600,
          2700,
          2800,
          2900,
          3000,
          3100,
          3200,
          3300,
          3400,
          3500,
          3600,
          3700,
          3800,
          3900,
          4000,
          4100,
          4200,
          4300,
          4400,
          4500,
          4600,
          4700,
          4800,
          4900,
          5000,
          5100,
          5200,
          5300,
          5400,
          5500,
          5600,
          5700,
          5800,
          5900,
          6000,
          6100,
          6200,
          6300,
          6400,
          6500,
          6600,
          6700,
          6800,
          6900,
          7000,
          7100,
          7200,
          7300,
          7400,
          7500,
          7600,
          7700,
          7800,
          7900,
          8000,
          8100,
          8200,
          8300,
          8400,
          8500,
          8600,
          8700,
          8800,
          8900,
          9000,
          9100,
          9200,
          9300,
          9400,
          9500,
          9600,
          9700,
          9800,
          9900,
          10000,
          10100,
          10200,
          10300,
          10400,
          10500,
          10600,
          10700,
          10800,
          10900,
          11000,
          11100,
          11200,
          11300,
          11400,
          11500,
          11600,
          11700,
          11800,
          11900,
          12000,
          12100,
          12200,
          12300,
          12400,
          12500,
          12600,
          12700,
          12800,
          12900,
          13000,
          13100,
          13200,
          13300,
          13400,
          13500,
          13600,
          13700,
          13800,
          13900,
          14000,
          14100,
          14200,
          14300,
          14400,
          14500,
          14600,
          14700,
          14800,
          14900,
          15000,
          15100,
          15200,
          15300,
          15400,
          15500,
          15600,
          15700,
          15800,
          15900,
          16000,
          16100,
          16200,
          16300,
          16400,
          16500,
          16600,
          16700,
          16800,
          16900,
          17000,
          17100,
          17200,
          17300,
          17400,
          17500,
          17600,
          17700,
          17800,
          17900,
          18000,
          18100,
          18200,
          18300,
          18400,
          18500,
          18600,
          18700,
          18800,
          18900,
          19000,
          19100,
          19200,
          19300,
          19400,
          19500,
          19600,
          19700,
          19800,
          19900
         ],
         "y": [
          0.41765,
          0.41945,
          0.42285,
          0.4171,
          0.4111,
          0.41795,
          0.4284,
          0.42,
          0.41895,
          0.42845,
          0.4257,
          0.4144,
          0.4163,
          0.42205,
          0.42145,
          0.4218,
          0.4169,
          0.41575,
          0.42175,
          0.4187,
          0.41895,
          0.4158,
          0.42525,
          0.41895,
          0.4212,
          0.42385,
          0.41595,
          0.41965,
          0.417,
          0.4123,
          0.4174,
          0.4254,
          0.4158,
          0.4207,
          0.41985,
          0.42315,
          0.42525,
          0.4193,
          0.42745,
          0.4223,
          0.4234,
          0.4256,
          0.42325,
          0.42955,
          0.42175,
          0.42285,
          0.41785,
          0.42395,
          0.4175,
          0.4187,
          0.42015,
          0.4261,
          0.41865,
          0.4214,
          0.4216,
          0.42135,
          0.4197,
          0.42185,
          0.41955,
          0.42035,
          0.4223,
          0.4157,
          0.42305,
          0.4156,
          0.42235,
          0.4145,
          0.41955,
          0.414,
          0.42085,
          0.41255,
          0.42155,
          0.42075,
          0.41305,
          0.4196,
          0.425,
          0.4198,
          0.42255,
          0.4194,
          0.42125,
          0.4177,
          0.42325,
          0.4195,
          0.4223,
          0.4199,
          0.41855,
          0.4164,
          0.42235,
          0.4182,
          0.4196,
          0.42235,
          0.4161,
          0.4235,
          0.41675,
          0.42615,
          0.4195,
          0.41615,
          0.4123,
          0.4191,
          0.4225,
          0.41775,
          0.42355,
          0.42,
          0.42435,
          0.41795,
          0.4205,
          0.42295,
          0.41805,
          0.42585,
          0.42065,
          0.4174,
          0.42085,
          0.4286,
          0.4153,
          0.42,
          0.4276,
          0.4186,
          0.4219,
          0.42065,
          0.42505,
          0.4244,
          0.41955,
          0.4213,
          0.4194,
          0.41925,
          0.42115,
          0.423,
          0.42365,
          0.4281,
          0.422,
          0.41685,
          0.4246,
          0.4208,
          0.4192,
          0.4202,
          0.4195,
          0.42055,
          0.4234,
          0.42705,
          0.4218,
          0.4247,
          0.41515,
          0.41165,
          0.4211,
          0.4222,
          0.41735,
          0.4229,
          0.42125,
          0.42145,
          0.4204,
          0.42285,
          0.4221,
          0.41665,
          0.42085,
          0.41945,
          0.42055,
          0.4197,
          0.4173,
          0.41985,
          0.4196,
          0.41535,
          0.4212,
          0.42295,
          0.41645,
          0.42665,
          0.4271,
          0.41895,
          0.41915,
          0.42255,
          0.41725,
          0.41705,
          0.4185,
          0.41955,
          0.41975,
          0.4154,
          0.4161,
          0.4278,
          0.4268,
          0.4298,
          0.42275,
          0.4175,
          0.42285,
          0.41775,
          0.42645,
          0.4244,
          0.41425,
          0.42235,
          0.42335,
          0.42375,
          0.41765,
          0.4234,
          0.4188,
          0.42185,
          0.4224,
          0.41895,
          0.42405,
          0.42205,
          0.4229,
          0.4223,
          0.41985
         ]
        },
        {
         "mode": "lines+markers",
         "name": "alpha = 0.5",
         "type": "scatter",
         "x": [
          100,
          200,
          300,
          400,
          500,
          600,
          700,
          800,
          900,
          1000,
          1100,
          1200,
          1300,
          1400,
          1500,
          1600,
          1700,
          1800,
          1900,
          2000,
          2100,
          2200,
          2300,
          2400,
          2500,
          2600,
          2700,
          2800,
          2900,
          3000,
          3100,
          3200,
          3300,
          3400,
          3500,
          3600,
          3700,
          3800,
          3900,
          4000,
          4100,
          4200,
          4300,
          4400,
          4500,
          4600,
          4700,
          4800,
          4900,
          5000,
          5100,
          5200,
          5300,
          5400,
          5500,
          5600,
          5700,
          5800,
          5900,
          6000,
          6100,
          6200,
          6300,
          6400,
          6500,
          6600,
          6700,
          6800,
          6900,
          7000,
          7100,
          7200,
          7300,
          7400,
          7500,
          7600,
          7700,
          7800,
          7900,
          8000,
          8100,
          8200,
          8300,
          8400,
          8500,
          8600,
          8700,
          8800,
          8900,
          9000,
          9100,
          9200,
          9300,
          9400,
          9500,
          9600,
          9700,
          9800,
          9900,
          10000,
          10100,
          10200,
          10300,
          10400,
          10500,
          10600,
          10700,
          10800,
          10900,
          11000,
          11100,
          11200,
          11300,
          11400,
          11500,
          11600,
          11700,
          11800,
          11900,
          12000,
          12100,
          12200,
          12300,
          12400,
          12500,
          12600,
          12700,
          12800,
          12900,
          13000,
          13100,
          13200,
          13300,
          13400,
          13500,
          13600,
          13700,
          13800,
          13900,
          14000,
          14100,
          14200,
          14300,
          14400,
          14500,
          14600,
          14700,
          14800,
          14900,
          15000,
          15100,
          15200,
          15300,
          15400,
          15500,
          15600,
          15700,
          15800,
          15900,
          16000,
          16100,
          16200,
          16300,
          16400,
          16500,
          16600,
          16700,
          16800,
          16900,
          17000,
          17100,
          17200,
          17300,
          17400,
          17500,
          17600,
          17700,
          17800,
          17900,
          18000,
          18100,
          18200,
          18300,
          18400,
          18500,
          18600,
          18700,
          18800,
          18900,
          19000,
          19100,
          19200,
          19300,
          19400,
          19500,
          19600,
          19700,
          19800,
          19900
         ],
         "y": [
          0.3081,
          0.30825,
          0.3131,
          0.30455,
          0.3143,
          0.3068,
          0.3158,
          0.305,
          0.3064,
          0.3104,
          0.31295,
          0.3091,
          0.31205,
          0.319,
          0.3117,
          0.31135,
          0.31525,
          0.3055,
          0.31545,
          0.30765,
          0.31705,
          0.3185,
          0.3226,
          0.30665,
          0.3157,
          0.31595,
          0.322,
          0.30985,
          0.3032,
          0.3112,
          0.32825,
          0.3104,
          0.3152,
          0.3234,
          0.31615,
          0.31795,
          0.3175,
          0.32165,
          0.31855,
          0.3212,
          0.31835,
          0.3131,
          0.3224,
          0.31755,
          0.3291,
          0.32875,
          0.31685,
          0.3152,
          0.3242,
          0.31845,
          0.32905,
          0.32605,
          0.3289,
          0.32775,
          0.3299,
          0.32325,
          0.3289,
          0.3253,
          0.3301,
          0.3296,
          0.3231,
          0.3289,
          0.32955,
          0.32555,
          0.33235,
          0.3269,
          0.3291,
          0.3305,
          0.3295,
          0.33295,
          0.33525,
          0.3275,
          0.33115,
          0.33335,
          0.334,
          0.3306,
          0.3289,
          0.3283,
          0.33285,
          0.33415,
          0.33035,
          0.33435,
          0.3297,
          0.3277,
          0.3345,
          0.3338,
          0.3314,
          0.3284,
          0.3319,
          0.33245,
          0.33135,
          0.3339,
          0.3376,
          0.3361,
          0.33295,
          0.33855,
          0.3341,
          0.3319,
          0.33095,
          0.3332,
          0.3309,
          0.3322,
          0.3349,
          0.3383,
          0.3362,
          0.3378,
          0.33245,
          0.328,
          0.33385,
          0.33375,
          0.3349,
          0.3354,
          0.3437,
          0.3352,
          0.3267,
          0.33665,
          0.33045,
          0.34405,
          0.33755,
          0.3383,
          0.33595,
          0.33265,
          0.33715,
          0.3301,
          0.33665,
          0.3266,
          0.33345,
          0.3446,
          0.33205,
          0.3375,
          0.3413,
          0.33355,
          0.33815,
          0.33955,
          0.33675,
          0.338,
          0.33705,
          0.3339,
          0.3361,
          0.33065,
          0.335,
          0.32875,
          0.3392,
          0.33415,
          0.32765,
          0.3338,
          0.3358,
          0.33795,
          0.33585,
          0.33065,
          0.33405,
          0.3433,
          0.335,
          0.33755,
          0.33425,
          0.33555,
          0.33125,
          0.33785,
          0.34035,
          0.331,
          0.33975,
          0.33785,
          0.33365,
          0.33955,
          0.3385,
          0.33595,
          0.33675,
          0.33655,
          0.3362,
          0.33835,
          0.33695,
          0.333,
          0.34035,
          0.33755,
          0.3379,
          0.3387,
          0.3365,
          0.33815,
          0.34065,
          0.3393,
          0.3391,
          0.3378,
          0.3396,
          0.34375,
          0.3424,
          0.33985,
          0.34305,
          0.33975,
          0.33725,
          0.3407,
          0.33125,
          0.3401,
          0.3345,
          0.33985,
          0.33055,
          0.3361,
          0.3377,
          0.33445,
          0.3369
         ]
        },
        {
         "mode": "lines+markers",
         "name": "alpha = 1",
         "type": "scatter",
         "x": [
          100,
          200,
          300,
          400,
          500,
          600,
          700,
          800,
          900,
          1000,
          1100,
          1200,
          1300,
          1400,
          1500,
          1600,
          1700,
          1800,
          1900,
          2000,
          2100,
          2200,
          2300,
          2400,
          2500,
          2600,
          2700,
          2800,
          2900,
          3000,
          3100,
          3200,
          3300,
          3400,
          3500,
          3600,
          3700,
          3800,
          3900,
          4000,
          4100,
          4200,
          4300,
          4400,
          4500,
          4600,
          4700,
          4800,
          4900,
          5000,
          5100,
          5200,
          5300,
          5400,
          5500,
          5600,
          5700,
          5800,
          5900,
          6000,
          6100,
          6200,
          6300,
          6400,
          6500,
          6600,
          6700,
          6800,
          6900,
          7000,
          7100,
          7200,
          7300,
          7400,
          7500,
          7600,
          7700,
          7800,
          7900,
          8000,
          8100,
          8200,
          8300,
          8400,
          8500,
          8600,
          8700,
          8800,
          8900,
          9000,
          9100,
          9200,
          9300,
          9400,
          9500,
          9600,
          9700,
          9800,
          9900,
          10000,
          10100,
          10200,
          10300,
          10400,
          10500,
          10600,
          10700,
          10800,
          10900,
          11000,
          11100,
          11200,
          11300,
          11400,
          11500,
          11600,
          11700,
          11800,
          11900,
          12000,
          12100,
          12200,
          12300,
          12400,
          12500,
          12600,
          12700,
          12800,
          12900,
          13000,
          13100,
          13200,
          13300,
          13400,
          13500,
          13600,
          13700,
          13800,
          13900,
          14000,
          14100,
          14200,
          14300,
          14400,
          14500,
          14600,
          14700,
          14800,
          14900,
          15000,
          15100,
          15200,
          15300,
          15400,
          15500,
          15600,
          15700,
          15800,
          15900,
          16000,
          16100,
          16200,
          16300,
          16400,
          16500,
          16600,
          16700,
          16800,
          16900,
          17000,
          17100,
          17200,
          17300,
          17400,
          17500,
          17600,
          17700,
          17800,
          17900,
          18000,
          18100,
          18200,
          18300,
          18400,
          18500,
          18600,
          18700,
          18800,
          18900,
          19000,
          19100,
          19200,
          19300,
          19400,
          19500,
          19600,
          19700,
          19800,
          19900
         ],
         "y": [
          0.17615,
          0.1612,
          0.21215,
          0.241,
          0.2659,
          0.28225,
          0.2972,
          0.31435,
          0.30575,
          0.2982,
          0.324,
          0.3204,
          0.3223,
          0.31455,
          0.33475,
          0.33125,
          0.32895,
          0.32455,
          0.3383,
          0.3446,
          0.3273,
          0.33885,
          0.34005,
          0.34615,
          0.3353,
          0.34035,
          0.33795,
          0.34145,
          0.3541,
          0.3444,
          0.33825,
          0.3448,
          0.3492,
          0.34985,
          0.34435,
          0.3513,
          0.34435,
          0.34595,
          0.3453,
          0.35105,
          0.34935,
          0.3535,
          0.34975,
          0.3486,
          0.3558,
          0.34865,
          0.35385,
          0.35895,
          0.3498,
          0.3549,
          0.35055,
          0.3569,
          0.35205,
          0.3536,
          0.35535,
          0.3551,
          0.3562,
          0.34975,
          0.3576,
          0.35665,
          0.3504,
          0.35335,
          0.3526,
          0.3628,
          0.35495,
          0.35655,
          0.34845,
          0.35825,
          0.35995,
          0.3508,
          0.3538,
          0.3605,
          0.357,
          0.35315,
          0.35295,
          0.35805,
          0.35985,
          0.35445,
          0.3554,
          0.35995,
          0.35645,
          0.3535,
          0.35575,
          0.35585,
          0.35895,
          0.3521,
          0.3587,
          0.3542,
          0.35345,
          0.3593,
          0.3562,
          0.35705,
          0.3552,
          0.357,
          0.3529,
          0.35585,
          0.35635,
          0.3595,
          0.36275,
          0.3604,
          0.35325,
          0.36065,
          0.3565,
          0.3535,
          0.3599,
          0.35425,
          0.36565,
          0.35745,
          0.3594,
          0.3578,
          0.35915,
          0.3524,
          0.36295,
          0.3557,
          0.3539,
          0.3645,
          0.35755,
          0.35725,
          0.36035,
          0.3642,
          0.36035,
          0.35715,
          0.35465,
          0.365,
          0.3511,
          0.3556,
          0.35785,
          0.35555,
          0.35745,
          0.3548,
          0.359,
          0.35505,
          0.3569,
          0.3649,
          0.36025,
          0.36085,
          0.35455,
          0.3559,
          0.3617,
          0.36025,
          0.35695,
          0.36475,
          0.35815,
          0.3636,
          0.35805,
          0.35715,
          0.3611,
          0.3625,
          0.36085,
          0.3587,
          0.3582,
          0.361,
          0.35815,
          0.3628,
          0.3625,
          0.3629,
          0.3679,
          0.3652,
          0.35865,
          0.358,
          0.3566,
          0.3625,
          0.36265,
          0.3599,
          0.36005,
          0.35635,
          0.3586,
          0.35885,
          0.35835,
          0.3604,
          0.3599,
          0.3651,
          0.36105,
          0.3594,
          0.3653,
          0.35655,
          0.36085,
          0.36175,
          0.3614,
          0.362,
          0.3648,
          0.36085,
          0.3625,
          0.36605,
          0.36295,
          0.36415,
          0.3655,
          0.3612,
          0.35685,
          0.3607,
          0.35565,
          0.36455,
          0.36015,
          0.36075,
          0.35595,
          0.35955,
          0.3582,
          0.36705,
          0.36155
         ]
        },
        {
         "mode": "lines+markers",
         "name": "alpha = 1.5",
         "type": "scatter",
         "x": [
          100,
          200,
          300,
          400,
          500,
          600,
          700,
          800,
          900,
          1000,
          1100,
          1200,
          1300,
          1400,
          1500,
          1600,
          1700,
          1800,
          1900,
          2000,
          2100,
          2200,
          2300,
          2400,
          2500,
          2600,
          2700,
          2800,
          2900,
          3000,
          3100,
          3200,
          3300,
          3400,
          3500,
          3600,
          3700,
          3800,
          3900,
          4000,
          4100,
          4200,
          4300,
          4400,
          4500,
          4600,
          4700,
          4800,
          4900,
          5000,
          5100,
          5200,
          5300,
          5400,
          5500,
          5600,
          5700,
          5800,
          5900,
          6000,
          6100,
          6200,
          6300,
          6400,
          6500,
          6600,
          6700,
          6800,
          6900,
          7000,
          7100,
          7200,
          7300,
          7400,
          7500,
          7600,
          7700,
          7800,
          7900,
          8000,
          8100,
          8200,
          8300,
          8400,
          8500,
          8600,
          8700,
          8800,
          8900,
          9000,
          9100,
          9200,
          9300,
          9400,
          9500,
          9600,
          9700,
          9800,
          9900,
          10000,
          10100,
          10200,
          10300,
          10400,
          10500,
          10600,
          10700,
          10800,
          10900,
          11000,
          11100,
          11200,
          11300,
          11400,
          11500,
          11600,
          11700,
          11800,
          11900,
          12000,
          12100,
          12200,
          12300,
          12400,
          12500,
          12600,
          12700,
          12800,
          12900,
          13000,
          13100,
          13200,
          13300,
          13400,
          13500,
          13600,
          13700,
          13800,
          13900,
          14000,
          14100,
          14200,
          14300,
          14400,
          14500,
          14600,
          14700,
          14800,
          14900,
          15000,
          15100,
          15200,
          15300,
          15400,
          15500,
          15600,
          15700,
          15800,
          15900,
          16000,
          16100,
          16200,
          16300,
          16400,
          16500,
          16600,
          16700,
          16800,
          16900,
          17000,
          17100,
          17200,
          17300,
          17400,
          17500,
          17600,
          17700,
          17800,
          17900,
          18000,
          18100,
          18200,
          18300,
          18400,
          18500,
          18600,
          18700,
          18800,
          18900,
          19000,
          19100,
          19200,
          19300,
          19400,
          19500,
          19600,
          19700,
          19800,
          19900
         ],
         "y": [
          0.2086,
          0.30135,
          0.3607,
          0.37035,
          0.3939,
          0.39225,
          0.4042,
          0.408,
          0.4188,
          0.41055,
          0.40425,
          0.4085,
          0.4171,
          0.4168,
          0.41595,
          0.4132,
          0.4235,
          0.4244,
          0.4204,
          0.42815,
          0.43005,
          0.426,
          0.41895,
          0.4234,
          0.42045,
          0.42685,
          0.4242,
          0.42545,
          0.4187,
          0.4283,
          0.4214,
          0.42765,
          0.42425,
          0.4315,
          0.43055,
          0.4174,
          0.4323,
          0.42615,
          0.4285,
          0.42795,
          0.42795,
          0.4296,
          0.42995,
          0.4354,
          0.43045,
          0.43055,
          0.4304,
          0.4248,
          0.42765,
          0.42865,
          0.4284,
          0.4341,
          0.4303,
          0.4287,
          0.42715,
          0.4273,
          0.43525,
          0.43335,
          0.4329,
          0.43505,
          0.42815,
          0.43395,
          0.4308,
          0.43245,
          0.428,
          0.43255,
          0.43,
          0.43285,
          0.42615,
          0.4299,
          0.43135,
          0.4317,
          0.4298,
          0.42735,
          0.4293,
          0.4352,
          0.429,
          0.4346,
          0.42615,
          0.42695,
          0.4314,
          0.4382,
          0.43335,
          0.4376,
          0.4291,
          0.4326,
          0.43145,
          0.43075,
          0.43185,
          0.42755,
          0.43005,
          0.4322,
          0.43265,
          0.43175,
          0.43055,
          0.43625,
          0.43665,
          0.427,
          0.43485,
          0.43415,
          0.435,
          0.432,
          0.4287,
          0.43565,
          0.42835,
          0.42745,
          0.4322,
          0.435,
          0.4308,
          0.4336,
          0.43865,
          0.43375,
          0.43265,
          0.43315,
          0.4294,
          0.4277,
          0.4336,
          0.4258,
          0.43175,
          0.4297,
          0.4282,
          0.4349,
          0.42675,
          0.4307,
          0.43045,
          0.4321,
          0.4319,
          0.43255,
          0.43045,
          0.42755,
          0.4341,
          0.4286,
          0.4379,
          0.4337,
          0.4382,
          0.43155,
          0.4306,
          0.4313,
          0.4353,
          0.4346,
          0.43135,
          0.4327,
          0.42875,
          0.4341,
          0.4344,
          0.4294,
          0.43115,
          0.43305,
          0.42975,
          0.4357,
          0.43365,
          0.4293,
          0.435,
          0.43045,
          0.43505,
          0.435,
          0.43145,
          0.4306,
          0.4351,
          0.42975,
          0.43395,
          0.43395,
          0.42895,
          0.42715,
          0.4372,
          0.4292,
          0.429,
          0.436,
          0.42925,
          0.4348,
          0.43295,
          0.4395,
          0.44105,
          0.4254,
          0.4342,
          0.4364,
          0.43545,
          0.4341,
          0.43295,
          0.4305,
          0.434,
          0.4291,
          0.4306,
          0.4309,
          0.4332,
          0.42915,
          0.43475,
          0.43235,
          0.4413,
          0.4393,
          0.4306,
          0.4303,
          0.43545,
          0.43305,
          0.4369,
          0.43615,
          0.44055,
          0.4337,
          0.4299
         ]
        },
        {
         "mode": "lines+markers",
         "name": "alpha = 2",
         "type": "scatter",
         "x": [
          100,
          200,
          300,
          400,
          500,
          600,
          700,
          800,
          900,
          1000,
          1100,
          1200,
          1300,
          1400,
          1500,
          1600,
          1700,
          1800,
          1900,
          2000,
          2100,
          2200,
          2300,
          2400,
          2500,
          2600,
          2700,
          2800,
          2900,
          3000,
          3100,
          3200,
          3300,
          3400,
          3500,
          3600,
          3700,
          3800,
          3900,
          4000,
          4100,
          4200,
          4300,
          4400,
          4500,
          4600,
          4700,
          4800,
          4900,
          5000,
          5100,
          5200,
          5300,
          5400,
          5500,
          5600,
          5700,
          5800,
          5900,
          6000,
          6100,
          6200,
          6300,
          6400,
          6500,
          6600,
          6700,
          6800,
          6900,
          7000,
          7100,
          7200,
          7300,
          7400,
          7500,
          7600,
          7700,
          7800,
          7900,
          8000,
          8100,
          8200,
          8300,
          8400,
          8500,
          8600,
          8700,
          8800,
          8900,
          9000,
          9100,
          9200,
          9300,
          9400,
          9500,
          9600,
          9700,
          9800,
          9900,
          10000,
          10100,
          10200,
          10300,
          10400,
          10500,
          10600,
          10700,
          10800,
          10900,
          11000,
          11100,
          11200,
          11300,
          11400,
          11500,
          11600,
          11700,
          11800,
          11900,
          12000,
          12100,
          12200,
          12300,
          12400,
          12500,
          12600,
          12700,
          12800,
          12900,
          13000,
          13100,
          13200,
          13300,
          13400,
          13500,
          13600,
          13700,
          13800,
          13900,
          14000,
          14100,
          14200,
          14300,
          14400,
          14500,
          14600,
          14700,
          14800,
          14900,
          15000,
          15100,
          15200,
          15300,
          15400,
          15500,
          15600,
          15700,
          15800,
          15900,
          16000,
          16100,
          16200,
          16300,
          16400,
          16500,
          16600,
          16700,
          16800,
          16900,
          17000,
          17100,
          17200,
          17300,
          17400,
          17500,
          17600,
          17700,
          17800,
          17900,
          18000,
          18100,
          18200,
          18300,
          18400,
          18500,
          18600,
          18700,
          18800,
          18900,
          19000,
          19100,
          19200,
          19300,
          19400,
          19500,
          19600,
          19700,
          19800,
          19900
         ],
         "y": [
          0.35315,
          0.40765,
          0.425,
          0.4432,
          0.4498,
          0.45195,
          0.46275,
          0.4619,
          0.457,
          0.4604,
          0.463,
          0.46895,
          0.46665,
          0.46685,
          0.47485,
          0.4699,
          0.4703,
          0.4751,
          0.4717,
          0.4689,
          0.4725,
          0.47,
          0.47605,
          0.4732,
          0.4668,
          0.47325,
          0.4717,
          0.47005,
          0.47205,
          0.476,
          0.46995,
          0.4662,
          0.4778,
          0.4759,
          0.4717,
          0.4772,
          0.47095,
          0.478,
          0.47235,
          0.48185,
          0.47655,
          0.47495,
          0.47055,
          0.4734,
          0.47515,
          0.4811,
          0.47705,
          0.47795,
          0.4777,
          0.4758,
          0.47735,
          0.466,
          0.47615,
          0.4731,
          0.47315,
          0.4766,
          0.4733,
          0.4677,
          0.4706,
          0.48115,
          0.47765,
          0.47735,
          0.47385,
          0.4719,
          0.4741,
          0.4735,
          0.4756,
          0.4707,
          0.4724,
          0.47255,
          0.47955,
          0.4756,
          0.4767,
          0.47215,
          0.46905,
          0.47145,
          0.47305,
          0.4833,
          0.47335,
          0.47215,
          0.4781,
          0.47215,
          0.47615,
          0.47365,
          0.476,
          0.48115,
          0.47515,
          0.47575,
          0.4819,
          0.4825,
          0.4749,
          0.47415,
          0.4702,
          0.4809,
          0.47485,
          0.4727,
          0.4782,
          0.48025,
          0.4767,
          0.4789,
          0.47625,
          0.47775,
          0.4806,
          0.4807,
          0.4741,
          0.47975,
          0.4754,
          0.47725,
          0.4759,
          0.484,
          0.47325,
          0.47345,
          0.48115,
          0.4755,
          0.4734,
          0.47905,
          0.4766,
          0.47845,
          0.4762,
          0.4763,
          0.4791,
          0.4725,
          0.47695,
          0.4817,
          0.47915,
          0.4758,
          0.47515,
          0.4803,
          0.47615,
          0.4765,
          0.4813,
          0.4717,
          0.479,
          0.47975,
          0.48065,
          0.4714,
          0.47285,
          0.48145,
          0.47515,
          0.46915,
          0.47195,
          0.47685,
          0.47305,
          0.4736,
          0.47825,
          0.4774,
          0.47635,
          0.47495,
          0.4759,
          0.4755,
          0.4716,
          0.4842,
          0.47945,
          0.4835,
          0.4779,
          0.4778,
          0.47625,
          0.4809,
          0.4768,
          0.4788,
          0.4773,
          0.4701,
          0.47885,
          0.4818,
          0.47635,
          0.47665,
          0.4798,
          0.47865,
          0.4855,
          0.4719,
          0.47665,
          0.4765,
          0.4732,
          0.47215,
          0.4842,
          0.4769,
          0.4791,
          0.475,
          0.47765,
          0.48155,
          0.4777,
          0.47455,
          0.48175,
          0.4745,
          0.47455,
          0.48195,
          0.4747,
          0.4722,
          0.47615,
          0.475,
          0.48115,
          0.47225,
          0.48005,
          0.47455,
          0.47435,
          0.47555,
          0.4687,
          0.47525,
          0.479
         ]
        },
        {
         "mode": "lines+markers",
         "name": "alpha = 2.5",
         "type": "scatter",
         "x": [
          100,
          200,
          300,
          400,
          500,
          600,
          700,
          800,
          900,
          1000,
          1100,
          1200,
          1300,
          1400,
          1500,
          1600,
          1700,
          1800,
          1900,
          2000,
          2100,
          2200,
          2300,
          2400,
          2500,
          2600,
          2700,
          2800,
          2900,
          3000,
          3100,
          3200,
          3300,
          3400,
          3500,
          3600,
          3700,
          3800,
          3900,
          4000,
          4100,
          4200,
          4300,
          4400,
          4500,
          4600,
          4700,
          4800,
          4900,
          5000,
          5100,
          5200,
          5300,
          5400,
          5500,
          5600,
          5700,
          5800,
          5900,
          6000,
          6100,
          6200,
          6300,
          6400,
          6500,
          6600,
          6700,
          6800,
          6900,
          7000,
          7100,
          7200,
          7300,
          7400,
          7500,
          7600,
          7700,
          7800,
          7900,
          8000,
          8100,
          8200,
          8300,
          8400,
          8500,
          8600,
          8700,
          8800,
          8900,
          9000,
          9100,
          9200,
          9300,
          9400,
          9500,
          9600,
          9700,
          9800,
          9900,
          10000,
          10100,
          10200,
          10300,
          10400,
          10500,
          10600,
          10700,
          10800,
          10900,
          11000,
          11100,
          11200,
          11300,
          11400,
          11500,
          11600,
          11700,
          11800,
          11900,
          12000,
          12100,
          12200,
          12300,
          12400,
          12500,
          12600,
          12700,
          12800,
          12900,
          13000,
          13100,
          13200,
          13300,
          13400,
          13500,
          13600,
          13700,
          13800,
          13900,
          14000,
          14100,
          14200,
          14300,
          14400,
          14500,
          14600,
          14700,
          14800,
          14900,
          15000,
          15100,
          15200,
          15300,
          15400,
          15500,
          15600,
          15700,
          15800,
          15900,
          16000,
          16100,
          16200,
          16300,
          16400,
          16500,
          16600,
          16700,
          16800,
          16900,
          17000,
          17100,
          17200,
          17300,
          17400,
          17500,
          17600,
          17700,
          17800,
          17900,
          18000,
          18100,
          18200,
          18300,
          18400,
          18500,
          18600,
          18700,
          18800,
          18900,
          19000,
          19100,
          19200,
          19300,
          19400,
          19500,
          19600,
          19700,
          19800,
          19900
         ],
         "y": [
          0.40535,
          0.44165,
          0.4678,
          0.4686,
          0.4752,
          0.4813,
          0.4773,
          0.4806,
          0.4789,
          0.48275,
          0.4831,
          0.47645,
          0.4833,
          0.48445,
          0.48555,
          0.49115,
          0.4856,
          0.4882,
          0.4875,
          0.4837,
          0.48955,
          0.49655,
          0.49815,
          0.48615,
          0.4908,
          0.49815,
          0.4883,
          0.4914,
          0.49315,
          0.49255,
          0.48735,
          0.495,
          0.4929,
          0.4929,
          0.4883,
          0.49395,
          0.48285,
          0.49535,
          0.48835,
          0.489,
          0.4896,
          0.49065,
          0.49125,
          0.4857,
          0.48935,
          0.4943,
          0.4937,
          0.4976,
          0.4863,
          0.49175,
          0.4898,
          0.48975,
          0.48715,
          0.49285,
          0.49635,
          0.4879,
          0.4964,
          0.49095,
          0.48765,
          0.4866,
          0.49195,
          0.4902,
          0.4947,
          0.4919,
          0.4888,
          0.49415,
          0.4944,
          0.4947,
          0.4948,
          0.493,
          0.49395,
          0.4916,
          0.49505,
          0.48935,
          0.4914,
          0.491,
          0.49405,
          0.48905,
          0.4871,
          0.4949,
          0.4874,
          0.4904,
          0.492,
          0.48975,
          0.496,
          0.49465,
          0.4925,
          0.48955,
          0.48325,
          0.48765,
          0.4913,
          0.49655,
          0.48825,
          0.49415,
          0.48935,
          0.48955,
          0.49535,
          0.49015,
          0.48795,
          0.4991,
          0.4918,
          0.4907,
          0.4959,
          0.49145,
          0.4898,
          0.48855,
          0.4919,
          0.4899,
          0.49265,
          0.48795,
          0.4899,
          0.49655,
          0.49645,
          0.4928,
          0.49195,
          0.48695,
          0.49635,
          0.48905,
          0.48745,
          0.49065,
          0.49655,
          0.49545,
          0.4976,
          0.496,
          0.49055,
          0.49635,
          0.4976,
          0.49235,
          0.49165,
          0.4972,
          0.4936,
          0.4958,
          0.4928,
          0.49075,
          0.489,
          0.4879,
          0.4962,
          0.49675,
          0.49505,
          0.49675,
          0.4944,
          0.48995,
          0.48655,
          0.4902,
          0.4918,
          0.49305,
          0.49425,
          0.49115,
          0.4929,
          0.49245,
          0.49315,
          0.4927,
          0.49465,
          0.4883,
          0.49965,
          0.48975,
          0.4926,
          0.49025,
          0.48995,
          0.4881,
          0.4929,
          0.497,
          0.4902,
          0.4942,
          0.4973,
          0.49565,
          0.49695,
          0.49345,
          0.4882,
          0.4984,
          0.4932,
          0.49135,
          0.48925,
          0.4987,
          0.49165,
          0.4878,
          0.49365,
          0.4958,
          0.4986,
          0.4913,
          0.4866,
          0.49795,
          0.4915,
          0.49615,
          0.4952,
          0.4915,
          0.49345,
          0.49235,
          0.4951,
          0.49535,
          0.48855,
          0.489,
          0.49355,
          0.49615,
          0.4909,
          0.49285,
          0.49205,
          0.48975,
          0.4912
         ]
        },
        {
         "mode": "lines+markers",
         "name": "alpha = 3",
         "type": "scatter",
         "x": [
          100,
          200,
          300,
          400,
          500,
          600,
          700,
          800,
          900,
          1000,
          1100,
          1200,
          1300,
          1400,
          1500,
          1600,
          1700,
          1800,
          1900,
          2000,
          2100,
          2200,
          2300,
          2400,
          2500,
          2600,
          2700,
          2800,
          2900,
          3000,
          3100,
          3200,
          3300,
          3400,
          3500,
          3600,
          3700,
          3800,
          3900,
          4000,
          4100,
          4200,
          4300,
          4400,
          4500,
          4600,
          4700,
          4800,
          4900,
          5000,
          5100,
          5200,
          5300,
          5400,
          5500,
          5600,
          5700,
          5800,
          5900,
          6000,
          6100,
          6200,
          6300,
          6400,
          6500,
          6600,
          6700,
          6800,
          6900,
          7000,
          7100,
          7200,
          7300,
          7400,
          7500,
          7600,
          7700,
          7800,
          7900,
          8000,
          8100,
          8200,
          8300,
          8400,
          8500,
          8600,
          8700,
          8800,
          8900,
          9000,
          9100,
          9200,
          9300,
          9400,
          9500,
          9600,
          9700,
          9800,
          9900,
          10000,
          10100,
          10200,
          10300,
          10400,
          10500,
          10600,
          10700,
          10800,
          10900,
          11000,
          11100,
          11200,
          11300,
          11400,
          11500,
          11600,
          11700,
          11800,
          11900,
          12000,
          12100,
          12200,
          12300,
          12400,
          12500,
          12600,
          12700,
          12800,
          12900,
          13000,
          13100,
          13200,
          13300,
          13400,
          13500,
          13600,
          13700,
          13800,
          13900,
          14000,
          14100,
          14200,
          14300,
          14400,
          14500,
          14600,
          14700,
          14800,
          14900,
          15000,
          15100,
          15200,
          15300,
          15400,
          15500,
          15600,
          15700,
          15800,
          15900,
          16000,
          16100,
          16200,
          16300,
          16400,
          16500,
          16600,
          16700,
          16800,
          16900,
          17000,
          17100,
          17200,
          17300,
          17400,
          17500,
          17600,
          17700,
          17800,
          17900,
          18000,
          18100,
          18200,
          18300,
          18400,
          18500,
          18600,
          18700,
          18800,
          18900,
          19000,
          19100,
          19200,
          19300,
          19400,
          19500,
          19600,
          19700,
          19800,
          19900
         ],
         "y": [
          0.4494,
          0.46375,
          0.47905,
          0.46915,
          0.4888,
          0.4841,
          0.4871,
          0.4898,
          0.49285,
          0.4938,
          0.4868,
          0.49705,
          0.49875,
          0.4922,
          0.5,
          0.49765,
          0.49845,
          0.49585,
          0.4927,
          0.4951,
          0.49505,
          0.4981,
          0.4947,
          0.49405,
          0.4964,
          0.4927,
          0.5001,
          0.4965,
          0.49115,
          0.49535,
          0.4872,
          0.4926,
          0.49325,
          0.5019,
          0.4979,
          0.5036,
          0.49765,
          0.4878,
          0.4952,
          0.49655,
          0.49895,
          0.49875,
          0.49745,
          0.4975,
          0.49125,
          0.49515,
          0.49615,
          0.4991,
          0.4863,
          0.4943,
          0.4949,
          0.4962,
          0.4966,
          0.49855,
          0.5021,
          0.49585,
          0.49845,
          0.4976,
          0.4997,
          0.4993,
          0.49525,
          0.503,
          0.5029,
          0.49425,
          0.5001,
          0.49365,
          0.50035,
          0.4945,
          0.49715,
          0.50015,
          0.5014,
          0.5076,
          0.4964,
          0.50195,
          0.4955,
          0.4977,
          0.50525,
          0.502,
          0.4974,
          0.4969,
          0.5073,
          0.5002,
          0.49315,
          0.49875,
          0.49525,
          0.497,
          0.491,
          0.50085,
          0.50345,
          0.49455,
          0.4983,
          0.5015,
          0.50035,
          0.49235,
          0.50145,
          0.4978,
          0.49655,
          0.49445,
          0.50545,
          0.4998,
          0.49805,
          0.4924,
          0.4939,
          0.4963,
          0.4995,
          0.4985,
          0.49455,
          0.49765,
          0.49545,
          0.49635,
          0.50005,
          0.49135,
          0.49795,
          0.50095,
          0.49625,
          0.4953,
          0.49285,
          0.49415,
          0.50065,
          0.4938,
          0.50015,
          0.49635,
          0.50365,
          0.49625,
          0.4962,
          0.49525,
          0.49435,
          0.4953,
          0.49895,
          0.4978,
          0.49655,
          0.4949,
          0.50195,
          0.49985,
          0.49395,
          0.49265,
          0.50055,
          0.49875,
          0.49855,
          0.4959,
          0.49615,
          0.4884,
          0.4977,
          0.49805,
          0.49515,
          0.49425,
          0.4945,
          0.4961,
          0.50375,
          0.50355,
          0.4985,
          0.49985,
          0.50145,
          0.4982,
          0.5005,
          0.49495,
          0.4931,
          0.5024,
          0.49545,
          0.4985,
          0.4991,
          0.5022,
          0.4989,
          0.497,
          0.49205,
          0.4985,
          0.50105,
          0.49735,
          0.49295,
          0.4947,
          0.5038,
          0.49725,
          0.49935,
          0.4933,
          0.5025,
          0.49565,
          0.5027,
          0.49635,
          0.49895,
          0.5027,
          0.50045,
          0.4984,
          0.4946,
          0.4959,
          0.49925,
          0.4926,
          0.501,
          0.495,
          0.49485,
          0.4988,
          0.50165,
          0.49455,
          0.49775,
          0.50015,
          0.5047,
          0.49445,
          0.49725,
          0.50035,
          0.4962
         ]
        }
       ],
       "layout": {
        "annotations": [
         {
          "showarrow": false,
          "text": "BER 50%",
          "x": 0,
          "xanchor": "left",
          "xref": "x domain",
          "y": 0.5,
          "yanchor": "bottom",
          "yref": "y"
         }
        ],
        "height": 500,
        "legend": {
         "title": {
          "text": "Valeurs de alpha"
         }
        },
        "shapes": [
         {
          "line": {
           "color": "red",
           "dash": "dot"
          },
          "type": "line",
          "x0": 0,
          "x1": 1,
          "xref": "x domain",
          "y0": 0.5,
          "y1": 0.5,
          "yref": "y"
         }
        ],
        "template": {
         "data": {
          "bar": [
           {
            "error_x": {
             "color": "#2a3f5f"
            },
            "error_y": {
             "color": "#2a3f5f"
            },
            "marker": {
             "line": {
              "color": "#E5ECF6",
              "width": 0.5
             },
             "pattern": {
              "fillmode": "overlay",
              "size": 10,
              "solidity": 0.2
             }
            },
            "type": "bar"
           }
          ],
          "barpolar": [
           {
            "marker": {
             "line": {
              "color": "#E5ECF6",
              "width": 0.5
             },
             "pattern": {
              "fillmode": "overlay",
              "size": 10,
              "solidity": 0.2
             }
            },
            "type": "barpolar"
           }
          ],
          "carpet": [
           {
            "aaxis": {
             "endlinecolor": "#2a3f5f",
             "gridcolor": "white",
             "linecolor": "white",
             "minorgridcolor": "white",
             "startlinecolor": "#2a3f5f"
            },
            "baxis": {
             "endlinecolor": "#2a3f5f",
             "gridcolor": "white",
             "linecolor": "white",
             "minorgridcolor": "white",
             "startlinecolor": "#2a3f5f"
            },
            "type": "carpet"
           }
          ],
          "choropleth": [
           {
            "colorbar": {
             "outlinewidth": 0,
             "ticks": ""
            },
            "type": "choropleth"
           }
          ],
          "contour": [
           {
            "colorbar": {
             "outlinewidth": 0,
             "ticks": ""
            },
            "colorscale": [
             [
              0,
              "#0d0887"
             ],
             [
              0.1111111111111111,
              "#46039f"
             ],
             [
              0.2222222222222222,
              "#7201a8"
             ],
             [
              0.3333333333333333,
              "#9c179e"
             ],
             [
              0.4444444444444444,
              "#bd3786"
             ],
             [
              0.5555555555555556,
              "#d8576b"
             ],
             [
              0.6666666666666666,
              "#ed7953"
             ],
             [
              0.7777777777777778,
              "#fb9f3a"
             ],
             [
              0.8888888888888888,
              "#fdca26"
             ],
             [
              1,
              "#f0f921"
             ]
            ],
            "type": "contour"
           }
          ],
          "contourcarpet": [
           {
            "colorbar": {
             "outlinewidth": 0,
             "ticks": ""
            },
            "type": "contourcarpet"
           }
          ],
          "heatmap": [
           {
            "colorbar": {
             "outlinewidth": 0,
             "ticks": ""
            },
            "colorscale": [
             [
              0,
              "#0d0887"
             ],
             [
              0.1111111111111111,
              "#46039f"
             ],
             [
              0.2222222222222222,
              "#7201a8"
             ],
             [
              0.3333333333333333,
              "#9c179e"
             ],
             [
              0.4444444444444444,
              "#bd3786"
             ],
             [
              0.5555555555555556,
              "#d8576b"
             ],
             [
              0.6666666666666666,
              "#ed7953"
             ],
             [
              0.7777777777777778,
              "#fb9f3a"
             ],
             [
              0.8888888888888888,
              "#fdca26"
             ],
             [
              1,
              "#f0f921"
             ]
            ],
            "type": "heatmap"
           }
          ],
          "heatmapgl": [
           {
            "colorbar": {
             "outlinewidth": 0,
             "ticks": ""
            },
            "colorscale": [
             [
              0,
              "#0d0887"
             ],
             [
              0.1111111111111111,
              "#46039f"
             ],
             [
              0.2222222222222222,
              "#7201a8"
             ],
             [
              0.3333333333333333,
              "#9c179e"
             ],
             [
              0.4444444444444444,
              "#bd3786"
             ],
             [
              0.5555555555555556,
              "#d8576b"
             ],
             [
              0.6666666666666666,
              "#ed7953"
             ],
             [
              0.7777777777777778,
              "#fb9f3a"
             ],
             [
              0.8888888888888888,
              "#fdca26"
             ],
             [
              1,
              "#f0f921"
             ]
            ],
            "type": "heatmapgl"
           }
          ],
          "histogram": [
           {
            "marker": {
             "pattern": {
              "fillmode": "overlay",
              "size": 10,
              "solidity": 0.2
             }
            },
            "type": "histogram"
           }
          ],
          "histogram2d": [
           {
            "colorbar": {
             "outlinewidth": 0,
             "ticks": ""
            },
            "colorscale": [
             [
              0,
              "#0d0887"
             ],
             [
              0.1111111111111111,
              "#46039f"
             ],
             [
              0.2222222222222222,
              "#7201a8"
             ],
             [
              0.3333333333333333,
              "#9c179e"
             ],
             [
              0.4444444444444444,
              "#bd3786"
             ],
             [
              0.5555555555555556,
              "#d8576b"
             ],
             [
              0.6666666666666666,
              "#ed7953"
             ],
             [
              0.7777777777777778,
              "#fb9f3a"
             ],
             [
              0.8888888888888888,
              "#fdca26"
             ],
             [
              1,
              "#f0f921"
             ]
            ],
            "type": "histogram2d"
           }
          ],
          "histogram2dcontour": [
           {
            "colorbar": {
             "outlinewidth": 0,
             "ticks": ""
            },
            "colorscale": [
             [
              0,
              "#0d0887"
             ],
             [
              0.1111111111111111,
              "#46039f"
             ],
             [
              0.2222222222222222,
              "#7201a8"
             ],
             [
              0.3333333333333333,
              "#9c179e"
             ],
             [
              0.4444444444444444,
              "#bd3786"
             ],
             [
              0.5555555555555556,
              "#d8576b"
             ],
             [
              0.6666666666666666,
              "#ed7953"
             ],
             [
              0.7777777777777778,
              "#fb9f3a"
             ],
             [
              0.8888888888888888,
              "#fdca26"
             ],
             [
              1,
              "#f0f921"
             ]
            ],
            "type": "histogram2dcontour"
           }
          ],
          "mesh3d": [
           {
            "colorbar": {
             "outlinewidth": 0,
             "ticks": ""
            },
            "type": "mesh3d"
           }
          ],
          "parcoords": [
           {
            "line": {
             "colorbar": {
              "outlinewidth": 0,
              "ticks": ""
             }
            },
            "type": "parcoords"
           }
          ],
          "pie": [
           {
            "automargin": true,
            "type": "pie"
           }
          ],
          "scatter": [
           {
            "fillpattern": {
             "fillmode": "overlay",
             "size": 10,
             "solidity": 0.2
            },
            "type": "scatter"
           }
          ],
          "scatter3d": [
           {
            "line": {
             "colorbar": {
              "outlinewidth": 0,
              "ticks": ""
             }
            },
            "marker": {
             "colorbar": {
              "outlinewidth": 0,
              "ticks": ""
             }
            },
            "type": "scatter3d"
           }
          ],
          "scattercarpet": [
           {
            "marker": {
             "colorbar": {
              "outlinewidth": 0,
              "ticks": ""
             }
            },
            "type": "scattercarpet"
           }
          ],
          "scattergeo": [
           {
            "marker": {
             "colorbar": {
              "outlinewidth": 0,
              "ticks": ""
             }
            },
            "type": "scattergeo"
           }
          ],
          "scattergl": [
           {
            "marker": {
             "colorbar": {
              "outlinewidth": 0,
              "ticks": ""
             }
            },
            "type": "scattergl"
           }
          ],
          "scattermapbox": [
           {
            "marker": {
             "colorbar": {
              "outlinewidth": 0,
              "ticks": ""
             }
            },
            "type": "scattermapbox"
           }
          ],
          "scatterpolar": [
           {
            "marker": {
             "colorbar": {
              "outlinewidth": 0,
              "ticks": ""
             }
            },
            "type": "scatterpolar"
           }
          ],
          "scatterpolargl": [
           {
            "marker": {
             "colorbar": {
              "outlinewidth": 0,
              "ticks": ""
             }
            },
            "type": "scatterpolargl"
           }
          ],
          "scatterternary": [
           {
            "marker": {
             "colorbar": {
              "outlinewidth": 0,
              "ticks": ""
             }
            },
            "type": "scatterternary"
           }
          ],
          "surface": [
           {
            "colorbar": {
             "outlinewidth": 0,
             "ticks": ""
            },
            "colorscale": [
             [
              0,
              "#0d0887"
             ],
             [
              0.1111111111111111,
              "#46039f"
             ],
             [
              0.2222222222222222,
              "#7201a8"
             ],
             [
              0.3333333333333333,
              "#9c179e"
             ],
             [
              0.4444444444444444,
              "#bd3786"
             ],
             [
              0.5555555555555556,
              "#d8576b"
             ],
             [
              0.6666666666666666,
              "#ed7953"
             ],
             [
              0.7777777777777778,
              "#fb9f3a"
             ],
             [
              0.8888888888888888,
              "#fdca26"
             ],
             [
              1,
              "#f0f921"
             ]
            ],
            "type": "surface"
           }
          ],
          "table": [
           {
            "cells": {
             "fill": {
              "color": "#EBF0F8"
             },
             "line": {
              "color": "white"
             }
            },
            "header": {
             "fill": {
              "color": "#C8D4E3"
             },
             "line": {
              "color": "white"
             }
            },
            "type": "table"
           }
          ]
         },
         "layout": {
          "annotationdefaults": {
           "arrowcolor": "#2a3f5f",
           "arrowhead": 0,
           "arrowwidth": 1
          },
          "autotypenumbers": "strict",
          "coloraxis": {
           "colorbar": {
            "outlinewidth": 0,
            "ticks": ""
           }
          },
          "colorscale": {
           "diverging": [
            [
             0,
             "#8e0152"
            ],
            [
             0.1,
             "#c51b7d"
            ],
            [
             0.2,
             "#de77ae"
            ],
            [
             0.3,
             "#f1b6da"
            ],
            [
             0.4,
             "#fde0ef"
            ],
            [
             0.5,
             "#f7f7f7"
            ],
            [
             0.6,
             "#e6f5d0"
            ],
            [
             0.7,
             "#b8e186"
            ],
            [
             0.8,
             "#7fbc41"
            ],
            [
             0.9,
             "#4d9221"
            ],
            [
             1,
             "#276419"
            ]
           ],
           "sequential": [
            [
             0,
             "#0d0887"
            ],
            [
             0.1111111111111111,
             "#46039f"
            ],
            [
             0.2222222222222222,
             "#7201a8"
            ],
            [
             0.3333333333333333,
             "#9c179e"
            ],
            [
             0.4444444444444444,
             "#bd3786"
            ],
            [
             0.5555555555555556,
             "#d8576b"
            ],
            [
             0.6666666666666666,
             "#ed7953"
            ],
            [
             0.7777777777777778,
             "#fb9f3a"
            ],
            [
             0.8888888888888888,
             "#fdca26"
            ],
            [
             1,
             "#f0f921"
            ]
           ],
           "sequentialminus": [
            [
             0,
             "#0d0887"
            ],
            [
             0.1111111111111111,
             "#46039f"
            ],
            [
             0.2222222222222222,
             "#7201a8"
            ],
            [
             0.3333333333333333,
             "#9c179e"
            ],
            [
             0.4444444444444444,
             "#bd3786"
            ],
            [
             0.5555555555555556,
             "#d8576b"
            ],
            [
             0.6666666666666666,
             "#ed7953"
            ],
            [
             0.7777777777777778,
             "#fb9f3a"
            ],
            [
             0.8888888888888888,
             "#fdca26"
            ],
            [
             1,
             "#f0f921"
            ]
           ]
          },
          "colorway": [
           "#636efa",
           "#EF553B",
           "#00cc96",
           "#ab63fa",
           "#FFA15A",
           "#19d3f3",
           "#FF6692",
           "#B6E880",
           "#FF97FF",
           "#FECB52"
          ],
          "font": {
           "color": "#2a3f5f"
          },
          "geo": {
           "bgcolor": "white",
           "lakecolor": "white",
           "landcolor": "#E5ECF6",
           "showlakes": true,
           "showland": true,
           "subunitcolor": "white"
          },
          "hoverlabel": {
           "align": "left"
          },
          "hovermode": "closest",
          "mapbox": {
           "style": "light"
          },
          "paper_bgcolor": "white",
          "plot_bgcolor": "#E5ECF6",
          "polar": {
           "angularaxis": {
            "gridcolor": "white",
            "linecolor": "white",
            "ticks": ""
           },
           "bgcolor": "#E5ECF6",
           "radialaxis": {
            "gridcolor": "white",
            "linecolor": "white",
            "ticks": ""
           }
          },
          "scene": {
           "xaxis": {
            "backgroundcolor": "#E5ECF6",
            "gridcolor": "white",
            "gridwidth": 2,
            "linecolor": "white",
            "showbackground": true,
            "ticks": "",
            "zerolinecolor": "white"
           },
           "yaxis": {
            "backgroundcolor": "#E5ECF6",
            "gridcolor": "white",
            "gridwidth": 2,
            "linecolor": "white",
            "showbackground": true,
            "ticks": "",
            "zerolinecolor": "white"
           },
           "zaxis": {
            "backgroundcolor": "#E5ECF6",
            "gridcolor": "white",
            "gridwidth": 2,
            "linecolor": "white",
            "showbackground": true,
            "ticks": "",
            "zerolinecolor": "white"
           }
          },
          "shapedefaults": {
           "line": {
            "color": "#2a3f5f"
           }
          },
          "ternary": {
           "aaxis": {
            "gridcolor": "white",
            "linecolor": "white",
            "ticks": ""
           },
           "baxis": {
            "gridcolor": "white",
            "linecolor": "white",
            "ticks": ""
           },
           "bgcolor": "#E5ECF6",
           "caxis": {
            "gridcolor": "white",
            "linecolor": "white",
            "ticks": ""
           }
          },
          "title": {
           "x": 0.05
          },
          "xaxis": {
           "automargin": true,
           "gridcolor": "white",
           "linecolor": "white",
           "ticks": "",
           "title": {
            "standoff": 15
           },
           "zerolinecolor": "white",
           "zerolinewidth": 2
          },
          "yaxis": {
           "automargin": true,
           "gridcolor": "white",
           "linecolor": "white",
           "ticks": "",
           "title": {
            "standoff": 15
           },
           "zerolinecolor": "white",
           "zerolinewidth": 2
          }
         }
        },
        "title": {
         "text": "Impact de No et alpha sur le BER après attaque"
        },
        "width": 800,
        "xaxis": {
         "title": {
          "text": "No (Nombre d‘observations)=20000"
         }
        },
        "yaxis": {
         "title": {
          "text": "BER"
         }
        }
       }
      }
     },
     "metadata": {},
     "output_type": "display_data"
    },
    {
     "data": {
      "application/vnd.plotly.v1+json": {
       "config": {
        "plotlyServerURL": "https://plot.ly"
       },
       "data": [
        {
         "mode": "lines+markers",
         "name": "alpha = 0.2",
         "type": "scatter",
         "x": [
          100,
          200,
          300,
          400,
          500,
          600,
          700,
          800,
          900,
          1000,
          1100,
          1200,
          1300,
          1400,
          1500,
          1600,
          1700,
          1800,
          1900,
          2000,
          2100,
          2200,
          2300,
          2400,
          2500,
          2600,
          2700,
          2800,
          2900,
          3000,
          3100,
          3200,
          3300,
          3400,
          3500,
          3600,
          3700,
          3800,
          3900,
          4000,
          4100,
          4200,
          4300,
          4400,
          4500,
          4600,
          4700,
          4800,
          4900,
          5000,
          5100,
          5200,
          5300,
          5400,
          5500,
          5600,
          5700,
          5800,
          5900,
          6000,
          6100,
          6200,
          6300,
          6400,
          6500,
          6600,
          6700,
          6800,
          6900,
          7000,
          7100,
          7200,
          7300,
          7400,
          7500,
          7600,
          7700,
          7800,
          7900,
          8000,
          8100,
          8200,
          8300,
          8400,
          8500,
          8600,
          8700,
          8800,
          8900,
          9000,
          9100,
          9200,
          9300,
          9400,
          9500,
          9600,
          9700,
          9800,
          9900,
          10000,
          10100,
          10200,
          10300,
          10400,
          10500,
          10600,
          10700,
          10800,
          10900,
          11000,
          11100,
          11200,
          11300,
          11400,
          11500,
          11600,
          11700,
          11800,
          11900,
          12000,
          12100,
          12200,
          12300,
          12400,
          12500,
          12600,
          12700,
          12800,
          12900,
          13000,
          13100,
          13200,
          13300,
          13400,
          13500,
          13600,
          13700,
          13800,
          13900,
          14000,
          14100,
          14200,
          14300,
          14400,
          14500,
          14600,
          14700,
          14800,
          14900,
          15000,
          15100,
          15200,
          15300,
          15400,
          15500,
          15600,
          15700,
          15800,
          15900,
          16000,
          16100,
          16200,
          16300,
          16400,
          16500,
          16600,
          16700,
          16800,
          16900,
          17000,
          17100,
          17200,
          17300,
          17400,
          17500,
          17600,
          17700,
          17800,
          17900,
          18000,
          18100,
          18200,
          18300,
          18400,
          18500,
          18600,
          18700,
          18800,
          18900,
          19000,
          19100,
          19200,
          19300,
          19400,
          19500,
          19600,
          19700,
          19800,
          19900
         ],
         "y": [
          0.03690106746365946,
          0.15792209091023127,
          0.10708604403400981,
          0.26886631784550025,
          0.06343737770249738,
          0.033255817925093634,
          0.02156207540715706,
          0.17945765854774612,
          0.0009580404891704823,
          0.031662648865108944,
          0.03935472195518605,
          0.03926192597222218,
          0.04583356145353397,
          0.03525875534821548,
          0.019956188679356352,
          0.24604576561119246,
          0.137038716114431,
          0.20067517962770723,
          0.059195667110973425,
          0.04693020256663378,
          0.09221064201893847,
          0.018699314890449046,
          0.16874041993573488,
          0.07882976805534822,
          0.02238468228436756,
          0.171336140405992,
          0.1307968920791866,
          0.02779564852431795,
          0.04230884553772846,
          0.011508610410046412,
          0.00914769846618237,
          0.019880785413938742,
          0.2337311382515761,
          0.1839186030801248,
          0.13614787710222562,
          0.10110935546596181,
          0.09395750589398738,
          0.26031821128729127,
          0.1220646314633953,
          0.03315138884677285,
          0.06946229553636925,
          0.05130615119886152,
          0.2620104407428097,
          0.0008628777965745891,
          0.13396566229727558,
          0.1237117427270288,
          0.09490946700118871,
          0.2256250074729294,
          0.05418596966031669,
          0.19852768416296102,
          0.1613998284308683,
          0.15207923129362627,
          0.0502906856019596,
          0.10139750310145465,
          0.03414696475363104,
          0.1427486182554133,
          0.21547258814489464,
          0.0944218035851652,
          0.018615364872621054,
          0.28911869994936584,
          0.2555185071372345,
          0.054646623122009255,
          0.1969930613245573,
          0.014708317559791288,
          0.017436425643781034,
          0.029051325259817008,
          0.0823756737136737,
          0.19236841221305376,
          0.09396054427444642,
          0.022200113190375917,
          0.022123582580350222,
          0.1403155289479533,
          0.2672832281246621,
          0.08804992545744901,
          0.2502542519045783,
          0.13802389278682772,
          0.19383615814576402,
          0.22291396101105282,
          0.25096346215464704,
          0.09507241916986706,
          0.04637353901231635,
          0.245409751119714,
          0.24874157142475997,
          0.01007109490677451,
          0.33056278857385707,
          0.15948903529559738,
          0.14029005687259866,
          0.17403579357900323,
          0.08330651605981997,
          0.019133247023165205,
          0.13065945143067167,
          0.03634190059120985,
          0.13648974855701623,
          0.2362573919265774,
          0.17859697617033382,
          0.03847703848660856,
          0.01567733015584253,
          0.08767536058074497,
          0.11683379286011608,
          0.06867740103045296,
          0.09255475120254099,
          0.028378080940198527,
          0.02800315153387444,
          0.23922765934968537,
          0.028686640840478714,
          0.09753566736335444,
          0.1823402366259511,
          0.32310519548466077,
          0.17170311409390818,
          0.007490878968363258,
          0.12815600371643623,
          0.15759985636918777,
          0.0814280627105775,
          0.0836088182893055,
          0.3653711521495923,
          0.0703850509254152,
          0.006200760692665006,
          0.006011021169642271,
          0.08649811066838364,
          0.0794286166725926,
          0.10751226112882388,
          0.1847706588183781,
          0.12998017418390306,
          0.06844539905869441,
          0.22811202447568854,
          0.012268650834461369,
          0.16473610953935564,
          0.23006275351544433,
          0.05149739272058731,
          0.050874767551508326,
          0.09072663018378593,
          0.01583934899625103,
          0.18571236103470312,
          0.09033535762235395,
          0.13410762039552068,
          0.050568099071328705,
          0.20803499503210124,
          0.06878882927568551,
          0.04695598165790938,
          0.23452010653449068,
          0.06268587077538267,
          0.09090438627977135,
          0.06589166863391041,
          0.26553039201576967,
          0.08270930969836687,
          0.02509587326738974,
          0.06428649405296225,
          0.1475707597022382,
          0.2562549560440676,
          0.08875497400026963,
          0.26583436700946017,
          0.2897060867537418,
          0.1869560751377211,
          0.05269982172209964,
          0.1296557537929616,
          0.24400296607343414,
          0.1959503560149739,
          0.15453552899353556,
          0.14088255076594908,
          0.20480825547045722,
          0.2496965549156993,
          0.028342106000904563,
          0.3663851472229776,
          0.08443105851807395,
          0.4385438944988856,
          0.12303029344984844,
          0.03767644043530355,
          0.1518387254975399,
          0.25241866606053726,
          0.1070626587372139,
          0.006992688816801769,
          0.15971085419605438,
          0.2481921743464349,
          0.0022084036879308627,
          0.08617797869820049,
          0.1441972612107732,
          0.07163311029169292,
          0.058293022883098004,
          0.1530706697797372,
          0.03074644396956184,
          0.030308927591372638,
          0.1025468393902199,
          0.19840149518251432,
          0.3182976403816902,
          0.31801834964665876,
          0.061630210967994335,
          0.2648245093532963,
          0.1472676776547831,
          0.23272951667510292,
          0.08264353092494575,
          0.03899224229167812,
          0.08200004616139968,
          0.20218764252642024,
          0.08508667710991002,
          0.2700243462844302,
          0.04692373259810176,
          0.000015793554032514368,
          0.051413738008361715,
          0.22352526587162555
         ]
        },
        {
         "mode": "lines+markers",
         "name": "alpha = 0.5",
         "type": "scatter",
         "x": [
          100,
          200,
          300,
          400,
          500,
          600,
          700,
          800,
          900,
          1000,
          1100,
          1200,
          1300,
          1400,
          1500,
          1600,
          1700,
          1800,
          1900,
          2000,
          2100,
          2200,
          2300,
          2400,
          2500,
          2600,
          2700,
          2800,
          2900,
          3000,
          3100,
          3200,
          3300,
          3400,
          3500,
          3600,
          3700,
          3800,
          3900,
          4000,
          4100,
          4200,
          4300,
          4400,
          4500,
          4600,
          4700,
          4800,
          4900,
          5000,
          5100,
          5200,
          5300,
          5400,
          5500,
          5600,
          5700,
          5800,
          5900,
          6000,
          6100,
          6200,
          6300,
          6400,
          6500,
          6600,
          6700,
          6800,
          6900,
          7000,
          7100,
          7200,
          7300,
          7400,
          7500,
          7600,
          7700,
          7800,
          7900,
          8000,
          8100,
          8200,
          8300,
          8400,
          8500,
          8600,
          8700,
          8800,
          8900,
          9000,
          9100,
          9200,
          9300,
          9400,
          9500,
          9600,
          9700,
          9800,
          9900,
          10000,
          10100,
          10200,
          10300,
          10400,
          10500,
          10600,
          10700,
          10800,
          10900,
          11000,
          11100,
          11200,
          11300,
          11400,
          11500,
          11600,
          11700,
          11800,
          11900,
          12000,
          12100,
          12200,
          12300,
          12400,
          12500,
          12600,
          12700,
          12800,
          12900,
          13000,
          13100,
          13200,
          13300,
          13400,
          13500,
          13600,
          13700,
          13800,
          13900,
          14000,
          14100,
          14200,
          14300,
          14400,
          14500,
          14600,
          14700,
          14800,
          14900,
          15000,
          15100,
          15200,
          15300,
          15400,
          15500,
          15600,
          15700,
          15800,
          15900,
          16000,
          16100,
          16200,
          16300,
          16400,
          16500,
          16600,
          16700,
          16800,
          16900,
          17000,
          17100,
          17200,
          17300,
          17400,
          17500,
          17600,
          17700,
          17800,
          17900,
          18000,
          18100,
          18200,
          18300,
          18400,
          18500,
          18600,
          18700,
          18800,
          18900,
          19000,
          19100,
          19200,
          19300,
          19400,
          19500,
          19600,
          19700,
          19800,
          19900
         ],
         "y": [
          0.06314249713790474,
          0.2781165196935405,
          0.1313895820329965,
          0.037627001043947124,
          0.5973318817752845,
          0.010266477537823766,
          0.4244576341433282,
          0.0070640642004817025,
          0.03523469102039013,
          0.5203192801764333,
          0.17805052636321148,
          0.24664154580456993,
          0.3243906943478393,
          0.7095570812170346,
          0.17967731469358672,
          0.06371001165273905,
          0.3988136791049581,
          0.21276318703337432,
          0.38909384733870866,
          0.06714227087417705,
          0.5639675449644164,
          0.643845891815324,
          0.6787280880300401,
          0.09070900222180911,
          0.4833292388872342,
          0.3785327976071346,
          0.6112468369176364,
          0.4865926934250802,
          0.3910597364728188,
          0.5501546309843715,
          0.7252290705869755,
          0.6251546525994245,
          0.5512128169982008,
          0.671601907016404,
          0.5323651035724625,
          0.6841264879310132,
          0.6424722369713388,
          0.5589498155927525,
          0.5976161296412088,
          0.7087118015219923,
          0.7277152689103845,
          0.4840861178366046,
          0.7727789781341557,
          0.6938634744587048,
          0.7803650171893626,
          0.8047915505512839,
          0.7676133548054824,
          0.6325288834213533,
          0.7747837313333565,
          0.66655566574962,
          0.8114558347672539,
          0.792190364952746,
          0.730620381933326,
          0.7898197942675663,
          0.8287618516693835,
          0.7985430627004242,
          0.8311641324283723,
          0.7951717548442061,
          0.8440276337509373,
          0.8498051594846752,
          0.8151001691370565,
          0.8251659783708021,
          0.8284922772023129,
          0.8453176378464989,
          0.8563587117568587,
          0.8206962340895197,
          0.8717436188440943,
          0.8412524134843079,
          0.8330713992568245,
          0.8553284279905108,
          0.8544463344792977,
          0.8531679327230023,
          0.8753612866966842,
          0.877403838673678,
          0.8984923279935494,
          0.8860379126341046,
          0.875328782033544,
          0.86238128322634,
          0.8623314000505989,
          0.8825825375799193,
          0.8809563007805494,
          0.9000638495896273,
          0.8477359740358202,
          0.8623493659712327,
          0.8645768274735653,
          0.9039817053381979,
          0.8775020407142555,
          0.8512974380232574,
          0.8735321129748383,
          0.8630946502530426,
          0.8846451465749711,
          0.904157339866986,
          0.8680811353348203,
          0.9040881717507,
          0.9043173509041296,
          0.892311200812209,
          0.8836024972927021,
          0.9084683174405298,
          0.9135939087328867,
          0.889650576200705,
          0.8852465964264492,
          0.9115910028047266,
          0.8888181995327242,
          0.9142659104190584,
          0.9203743465846161,
          0.8981948268670161,
          0.9153993671980437,
          0.898101842691477,
          0.8946370829019863,
          0.8896594936950246,
          0.9188333997497846,
          0.9048838908698673,
          0.9247258200025951,
          0.8969800504890055,
          0.8652242967923209,
          0.9195288600034854,
          0.9242003569534127,
          0.9469274769140134,
          0.899121276745804,
          0.9406378116126547,
          0.9155940371834012,
          0.9206187923966751,
          0.9219138929352506,
          0.8705246832869763,
          0.9198550076837945,
          0.9301212937019523,
          0.9046263992654819,
          0.9276733969620912,
          0.9233936829153673,
          0.9090347517289546,
          0.9278679421254113,
          0.9130306014551636,
          0.924087433247164,
          0.9160267619852938,
          0.9361533121459259,
          0.9393162874931942,
          0.9219391471757559,
          0.9367743852257971,
          0.936315616163576,
          0.9460564714772671,
          0.9369601630744977,
          0.9264413496536201,
          0.9380470563796033,
          0.9265377514040337,
          0.9193859860348709,
          0.9264540840720481,
          0.9099587199635761,
          0.9304117061261126,
          0.9133009583902679,
          0.9256445859138848,
          0.941149101052338,
          0.955093858859273,
          0.9219659179023139,
          0.9278711658606182,
          0.9420674208592905,
          0.9259497802701917,
          0.9376471651045531,
          0.9429377147635488,
          0.9275555959263674,
          0.937930011173518,
          0.9260736997355483,
          0.9419856594895734,
          0.9286727879457577,
          0.9413746308499171,
          0.9361177160430899,
          0.9430099909341411,
          0.9435700242112657,
          0.9420800195017637,
          0.9400371149119069,
          0.952160555357795,
          0.9228259684579811,
          0.9409055593418043,
          0.9558779517413443,
          0.950939678584976,
          0.9331865602929806,
          0.9431184631429113,
          0.9449663017856471,
          0.9424386699891834,
          0.9410762797079124,
          0.9350161034355944,
          0.9346125781294417,
          0.9457462348777248,
          0.9520783199890085,
          0.9569970902532277,
          0.9554921963621908,
          0.9504023685554601,
          0.942670205296207,
          0.9433093516212538,
          0.9466853711289263,
          0.9367219522973471,
          0.9345750735216922,
          0.9463108063331263,
          0.9535585661986732,
          0.9607624091436751,
          0.9504546643565094,
          0.94717568425902,
          0.9416278467281715,
          0.9379347810889206,
          0.9557131373942445
         ]
        },
        {
         "mode": "lines+markers",
         "name": "alpha = 1",
         "type": "scatter",
         "x": [
          100,
          200,
          300,
          400,
          500,
          600,
          700,
          800,
          900,
          1000,
          1100,
          1200,
          1300,
          1400,
          1500,
          1600,
          1700,
          1800,
          1900,
          2000,
          2100,
          2200,
          2300,
          2400,
          2500,
          2600,
          2700,
          2800,
          2900,
          3000,
          3100,
          3200,
          3300,
          3400,
          3500,
          3600,
          3700,
          3800,
          3900,
          4000,
          4100,
          4200,
          4300,
          4400,
          4500,
          4600,
          4700,
          4800,
          4900,
          5000,
          5100,
          5200,
          5300,
          5400,
          5500,
          5600,
          5700,
          5800,
          5900,
          6000,
          6100,
          6200,
          6300,
          6400,
          6500,
          6600,
          6700,
          6800,
          6900,
          7000,
          7100,
          7200,
          7300,
          7400,
          7500,
          7600,
          7700,
          7800,
          7900,
          8000,
          8100,
          8200,
          8300,
          8400,
          8500,
          8600,
          8700,
          8800,
          8900,
          9000,
          9100,
          9200,
          9300,
          9400,
          9500,
          9600,
          9700,
          9800,
          9900,
          10000,
          10100,
          10200,
          10300,
          10400,
          10500,
          10600,
          10700,
          10800,
          10900,
          11000,
          11100,
          11200,
          11300,
          11400,
          11500,
          11600,
          11700,
          11800,
          11900,
          12000,
          12100,
          12200,
          12300,
          12400,
          12500,
          12600,
          12700,
          12800,
          12900,
          13000,
          13100,
          13200,
          13300,
          13400,
          13500,
          13600,
          13700,
          13800,
          13900,
          14000,
          14100,
          14200,
          14300,
          14400,
          14500,
          14600,
          14700,
          14800,
          14900,
          15000,
          15100,
          15200,
          15300,
          15400,
          15500,
          15600,
          15700,
          15800,
          15900,
          16000,
          16100,
          16200,
          16300,
          16400,
          16500,
          16600,
          16700,
          16800,
          16900,
          17000,
          17100,
          17200,
          17300,
          17400,
          17500,
          17600,
          17700,
          17800,
          17900,
          18000,
          18100,
          18200,
          18300,
          18400,
          18500,
          18600,
          18700,
          18800,
          18900,
          19000,
          19100,
          19200,
          19300,
          19400,
          19500,
          19600,
          19700,
          19800,
          19900
         ],
         "y": [
          0.3797252826633213,
          0.15716336655856156,
          0.6288949083695767,
          0.7177829058169819,
          0.8002553191836239,
          0.847094856294706,
          0.8876311978717807,
          0.908966380566106,
          0.8883273261767375,
          0.8821938771729871,
          0.9282509402632224,
          0.9279681496364772,
          0.9320278126467678,
          0.9137859641122268,
          0.9450648866739456,
          0.9460171975659168,
          0.9488975175888414,
          0.939508506209305,
          0.9562491138061497,
          0.9662917616355087,
          0.9459918241877471,
          0.9596315416499273,
          0.957009480409144,
          0.9670259750587917,
          0.9596677182331703,
          0.9641861638424245,
          0.9610578436743257,
          0.9599283672148896,
          0.9707529383310984,
          0.968922016005315,
          0.9647026857288304,
          0.9705816790992089,
          0.9695986661785183,
          0.9790687647837775,
          0.9678486841539018,
          0.9745351525921624,
          0.964755210674213,
          0.97778474279641,
          0.9721156785373134,
          0.9725733865611543,
          0.9735429381625744,
          0.9805310777956067,
          0.9808593970902684,
          0.9759684355457553,
          0.9767754632010079,
          0.9726248496669725,
          0.9862190754396765,
          0.9843924069969552,
          0.9763959969136856,
          0.9779400933796797,
          0.9796375940457562,
          0.9842090971524271,
          0.9803769560363821,
          0.9821221644585345,
          0.9806432608199944,
          0.9809562328434585,
          0.9838151455449936,
          0.9831671021169133,
          0.9874138325042672,
          0.9834260594714601,
          0.9838569385174339,
          0.9814572859789725,
          0.9831568261489876,
          0.9834254429309937,
          0.9837995577336146,
          0.9827610684658629,
          0.9832012253425232,
          0.9885499810685171,
          0.9870102887495688,
          0.9857799324728287,
          0.9825041770980466,
          0.9843502120565579,
          0.9865628599645895,
          0.9881131287373294,
          0.9859851566541868,
          0.9871574473816666,
          0.9857864475132173,
          0.9863839287263722,
          0.9878465961149147,
          0.9873930860126836,
          0.990125764867591,
          0.9847892707185538,
          0.9868530699587472,
          0.9889710914774109,
          0.9902193511021131,
          0.9884451114920446,
          0.9876478101717076,
          0.9885350377309619,
          0.9890343554579745,
          0.9872350282021378,
          0.9895392990133922,
          0.9870847982063842,
          0.9897576111308185,
          0.9891847740389909,
          0.9895771492720004,
          0.9894676083184601,
          0.9858459174321448,
          0.9899353211317966,
          0.9898156112943104,
          0.9890061152563496,
          0.9890291528160846,
          0.9918569536944521,
          0.9914684167365382,
          0.9907332830823411,
          0.9913697907576948,
          0.9879690791872155,
          0.9907899861456401,
          0.9894062497427052,
          0.9906294590255977,
          0.9922954468159512,
          0.9912482714872257,
          0.9921688651024517,
          0.9928377015714925,
          0.9930788018238565,
          0.9921679519821396,
          0.9915929052272288,
          0.990660833773714,
          0.9905419650841875,
          0.9924803105173088,
          0.9937413374979116,
          0.9912233575464592,
          0.9944722122646799,
          0.9912638152785209,
          0.9923179395941533,
          0.9902892684991256,
          0.9924460563613761,
          0.9930207713069806,
          0.9930722653959763,
          0.991689640182664,
          0.9927936828056353,
          0.9900344165661159,
          0.9928439246183176,
          0.9934379621053927,
          0.993022543282073,
          0.9927509711090023,
          0.9931265901787356,
          0.9932211959818835,
          0.9934755403178631,
          0.9919484980810103,
          0.9931215044611817,
          0.9925881331428495,
          0.9934242028253022,
          0.9927782238349232,
          0.9923582851039978,
          0.994608682463334,
          0.9939529608991892,
          0.991947538930027,
          0.9946372280186604,
          0.9935123391000241,
          0.9920792597348274,
          0.994500181810159,
          0.9950247070033099,
          0.9935733877520045,
          0.9933589013476231,
          0.9925877273542554,
          0.9919778851504831,
          0.9930465526101662,
          0.9935459288509115,
          0.9939509214031981,
          0.9929004406526156,
          0.9935363372377309,
          0.9937751314327344,
          0.9936393043257438,
          0.9935459760165591,
          0.992876234097382,
          0.9935931133788276,
          0.9933147224201718,
          0.9940463163950015,
          0.9946042068571087,
          0.9945923488722254,
          0.9939775960600785,
          0.9941750406663193,
          0.9943580579986933,
          0.9942493200246916,
          0.9942504189451141,
          0.9946769764374003,
          0.9951712453319624,
          0.9953451487308647,
          0.9937950779604702,
          0.9943001210564686,
          0.9956352221734068,
          0.9952775941846209,
          0.9945851259262125,
          0.9961242817769691,
          0.993431926497423,
          0.9944297172471717,
          0.9936405036979558,
          0.9949662333574767,
          0.9948054499484253,
          0.9949960018699036,
          0.9943309750073532,
          0.9926128185206773,
          0.9960783821774579,
          0.9948194434238672,
          0.9934758259481768,
          0.9954539961642442,
          0.9949131140130678,
          0.99552351740233,
          0.9945015577172074
         ]
        },
        {
         "mode": "lines+markers",
         "name": "alpha = 1.5",
         "type": "scatter",
         "x": [
          100,
          200,
          300,
          400,
          500,
          600,
          700,
          800,
          900,
          1000,
          1100,
          1200,
          1300,
          1400,
          1500,
          1600,
          1700,
          1800,
          1900,
          2000,
          2100,
          2200,
          2300,
          2400,
          2500,
          2600,
          2700,
          2800,
          2900,
          3000,
          3100,
          3200,
          3300,
          3400,
          3500,
          3600,
          3700,
          3800,
          3900,
          4000,
          4100,
          4200,
          4300,
          4400,
          4500,
          4600,
          4700,
          4800,
          4900,
          5000,
          5100,
          5200,
          5300,
          5400,
          5500,
          5600,
          5700,
          5800,
          5900,
          6000,
          6100,
          6200,
          6300,
          6400,
          6500,
          6600,
          6700,
          6800,
          6900,
          7000,
          7100,
          7200,
          7300,
          7400,
          7500,
          7600,
          7700,
          7800,
          7900,
          8000,
          8100,
          8200,
          8300,
          8400,
          8500,
          8600,
          8700,
          8800,
          8900,
          9000,
          9100,
          9200,
          9300,
          9400,
          9500,
          9600,
          9700,
          9800,
          9900,
          10000,
          10100,
          10200,
          10300,
          10400,
          10500,
          10600,
          10700,
          10800,
          10900,
          11000,
          11100,
          11200,
          11300,
          11400,
          11500,
          11600,
          11700,
          11800,
          11900,
          12000,
          12100,
          12200,
          12300,
          12400,
          12500,
          12600,
          12700,
          12800,
          12900,
          13000,
          13100,
          13200,
          13300,
          13400,
          13500,
          13600,
          13700,
          13800,
          13900,
          14000,
          14100,
          14200,
          14300,
          14400,
          14500,
          14600,
          14700,
          14800,
          14900,
          15000,
          15100,
          15200,
          15300,
          15400,
          15500,
          15600,
          15700,
          15800,
          15900,
          16000,
          16100,
          16200,
          16300,
          16400,
          16500,
          16600,
          16700,
          16800,
          16900,
          17000,
          17100,
          17200,
          17300,
          17400,
          17500,
          17600,
          17700,
          17800,
          17900,
          18000,
          18100,
          18200,
          18300,
          18400,
          18500,
          18600,
          18700,
          18800,
          18900,
          19000,
          19100,
          19200,
          19300,
          19400,
          19500,
          19600,
          19700,
          19800,
          19900
         ],
         "y": [
          0.6792820728602097,
          0.8352017340861876,
          0.9120235466223959,
          0.9168961829952589,
          0.9457197054099464,
          0.940653756491864,
          0.9570926607440444,
          0.9669463914283969,
          0.9705701415147534,
          0.9684159424938991,
          0.9624316643995215,
          0.9721765232880173,
          0.9767580781043284,
          0.9758431970099928,
          0.9789839083052809,
          0.9788695822010413,
          0.9840570302812515,
          0.9842763870352307,
          0.9854791636910132,
          0.9861621030439304,
          0.9834494052603134,
          0.9863122052498516,
          0.9836543273208873,
          0.9865634517093076,
          0.9868412409240934,
          0.9912402971894662,
          0.985696991390107,
          0.9886824785851034,
          0.9891938858710272,
          0.9918444833294155,
          0.9871495354206762,
          0.9911308772744077,
          0.9929453626940252,
          0.9901176151340935,
          0.987621729432094,
          0.9915484114117964,
          0.9926923033601115,
          0.9923226568510418,
          0.9925365450173079,
          0.9935627680092487,
          0.992950699703581,
          0.9929199143903625,
          0.9928834098763081,
          0.9931289256547999,
          0.9915381669285888,
          0.9935324573444542,
          0.993060039066545,
          0.993660680342169,
          0.9921707077064695,
          0.9925656727852842,
          0.9943052163044231,
          0.9943211430910003,
          0.9944196490796806,
          0.9947478381856896,
          0.993797521975117,
          0.994615054690659,
          0.9943488706456133,
          0.9951911581728139,
          0.9940691298500275,
          0.9953938006569477,
          0.9957288088508306,
          0.9958768407411482,
          0.9946228643779871,
          0.9937233180036524,
          0.9959130417626042,
          0.9952376626479355,
          0.9955805034876511,
          0.9965232992293833,
          0.9951246023376843,
          0.9952788955476216,
          0.9960337532554299,
          0.9960383583854331,
          0.9952650908755651,
          0.9962788247870404,
          0.9952517349337767,
          0.9961516191361692,
          0.995309503293259,
          0.9958683451325592,
          0.9965596295800467,
          0.9955972955522538,
          0.9958542232886952,
          0.9957860989309973,
          0.9965114462543503,
          0.996330937505808,
          0.9958288683442933,
          0.996265511216117,
          0.9959146561491227,
          0.9973513650380673,
          0.9973951972882364,
          0.996686816799264,
          0.9970010363995666,
          0.9969903606367914,
          0.9967889981757858,
          0.9961379013733546,
          0.9967748024357381,
          0.9968324604151774,
          0.9962947537562314,
          0.9972846752134134,
          0.9973203174179603,
          0.9969387606387385,
          0.9967449491067668,
          0.9970135986919615,
          0.9962372665095689,
          0.9969543254771234,
          0.9974923596342362,
          0.9972181688958311,
          0.9968824566228307,
          0.9966489384311304,
          0.9967588538200132,
          0.9970121508465002,
          0.9974987176285962,
          0.9981133398272883,
          0.996677398037504,
          0.9972615844421376,
          0.9965925987728864,
          0.9976713752317108,
          0.9970460253213409,
          0.9973871198634672,
          0.997780828057204,
          0.9972623890954111,
          0.9979660637886003,
          0.9968889947323336,
          0.9979079683303398,
          0.9980569108739673,
          0.9971503605608608,
          0.9973490767642704,
          0.9968088533129641,
          0.9980227529815039,
          0.9973992228271036,
          0.9977109754656466,
          0.99701457697939,
          0.9972469741125622,
          0.9976808585786778,
          0.9977294937591363,
          0.997922978088291,
          0.9980871045091804,
          0.9977866549650717,
          0.9979161348364609,
          0.9985733716961464,
          0.9976470158841411,
          0.997600604005863,
          0.9975989089598976,
          0.9972497371877208,
          0.9973805162013197,
          0.9979961727942697,
          0.9982390295460695,
          0.9979997081147276,
          0.9978552802975874,
          0.9978929104194614,
          0.9978033065173093,
          0.998092831584304,
          0.997515655156658,
          0.9976665837753422,
          0.9977683557565353,
          0.9979165696544112,
          0.9981546562765369,
          0.9980494754218662,
          0.997861587845869,
          0.9979773486410293,
          0.9979368767005342,
          0.9979082597038784,
          0.9979530884427884,
          0.9977500331029606,
          0.9980943819955586,
          0.9982139988537999,
          0.9983010883736619,
          0.9981737940526435,
          0.9982026168131628,
          0.9979483810873049,
          0.9978115051493297,
          0.9979446889891957,
          0.9978265598035312,
          0.9978154298073352,
          0.9983244631290149,
          0.9981847575816352,
          0.9978147017778753,
          0.997918366230495,
          0.9984544909897006,
          0.9982258895746756,
          0.9981913603131982,
          0.998051642856892,
          0.9984807486837213,
          0.9986075665591668,
          0.9979612872626205,
          0.9988688156710287,
          0.9981917765404483,
          0.9982165197150273,
          0.9983978246891914,
          0.9981653212474688,
          0.9980206692294089,
          0.998404054412377,
          0.9978130254479214,
          0.9985410499704956,
          0.9980628153874083,
          0.9982963140447358,
          0.998435521031337,
          0.9981010708867112,
          0.9985743706989003,
          0.998245534986534
         ]
        },
        {
         "mode": "lines+markers",
         "name": "alpha = 2",
         "type": "scatter",
         "x": [
          100,
          200,
          300,
          400,
          500,
          600,
          700,
          800,
          900,
          1000,
          1100,
          1200,
          1300,
          1400,
          1500,
          1600,
          1700,
          1800,
          1900,
          2000,
          2100,
          2200,
          2300,
          2400,
          2500,
          2600,
          2700,
          2800,
          2900,
          3000,
          3100,
          3200,
          3300,
          3400,
          3500,
          3600,
          3700,
          3800,
          3900,
          4000,
          4100,
          4200,
          4300,
          4400,
          4500,
          4600,
          4700,
          4800,
          4900,
          5000,
          5100,
          5200,
          5300,
          5400,
          5500,
          5600,
          5700,
          5800,
          5900,
          6000,
          6100,
          6200,
          6300,
          6400,
          6500,
          6600,
          6700,
          6800,
          6900,
          7000,
          7100,
          7200,
          7300,
          7400,
          7500,
          7600,
          7700,
          7800,
          7900,
          8000,
          8100,
          8200,
          8300,
          8400,
          8500,
          8600,
          8700,
          8800,
          8900,
          9000,
          9100,
          9200,
          9300,
          9400,
          9500,
          9600,
          9700,
          9800,
          9900,
          10000,
          10100,
          10200,
          10300,
          10400,
          10500,
          10600,
          10700,
          10800,
          10900,
          11000,
          11100,
          11200,
          11300,
          11400,
          11500,
          11600,
          11700,
          11800,
          11900,
          12000,
          12100,
          12200,
          12300,
          12400,
          12500,
          12600,
          12700,
          12800,
          12900,
          13000,
          13100,
          13200,
          13300,
          13400,
          13500,
          13600,
          13700,
          13800,
          13900,
          14000,
          14100,
          14200,
          14300,
          14400,
          14500,
          14600,
          14700,
          14800,
          14900,
          15000,
          15100,
          15200,
          15300,
          15400,
          15500,
          15600,
          15700,
          15800,
          15900,
          16000,
          16100,
          16200,
          16300,
          16400,
          16500,
          16600,
          16700,
          16800,
          16900,
          17000,
          17100,
          17200,
          17300,
          17400,
          17500,
          17600,
          17700,
          17800,
          17900,
          18000,
          18100,
          18200,
          18300,
          18400,
          18500,
          18600,
          18700,
          18800,
          18900,
          19000,
          19100,
          19200,
          19300,
          19400,
          19500,
          19600,
          19700,
          19800,
          19900
         ],
         "y": [
          0.8639720905172854,
          0.9306591081232615,
          0.9463159284507254,
          0.9630430527788291,
          0.9667543342526821,
          0.9707218972053846,
          0.9815789235410751,
          0.9802384659857655,
          0.9764701023627909,
          0.9862136187538053,
          0.9865032967185108,
          0.9887783548574484,
          0.9865150603997529,
          0.9901395082243406,
          0.991127529466163,
          0.9907297080812032,
          0.9911052175583344,
          0.9912329333987303,
          0.9906710172403289,
          0.9910278858590468,
          0.9920069305971986,
          0.9932566863795863,
          0.99315151928026,
          0.9941312974938562,
          0.9930309472699297,
          0.9941958331289733,
          0.9944641376626048,
          0.9943553205692037,
          0.9950302974314864,
          0.9942283257468062,
          0.99460853999766,
          0.9953047321631041,
          0.9956649294167903,
          0.9948308862506943,
          0.9956760711275284,
          0.996164200293457,
          0.9954718543737469,
          0.9957954377453355,
          0.994872486591333,
          0.9963439434532072,
          0.9962847773000562,
          0.9957760708870321,
          0.9958216533226003,
          0.9969902387777196,
          0.9963296925313195,
          0.9967011110224413,
          0.9968215643071948,
          0.9963387121613936,
          0.9967763774809193,
          0.9965378766470521,
          0.9971531235742696,
          0.9958085365696334,
          0.9966696030557952,
          0.9970478104878121,
          0.9975481949233391,
          0.9974469751295723,
          0.9977773756912669,
          0.9968172628861116,
          0.9976048335047482,
          0.9977988280986028,
          0.9976989956561008,
          0.9983009627106861,
          0.9971624146622964,
          0.9973338358286358,
          0.997676761698963,
          0.9974311373697488,
          0.9977416962849027,
          0.9978890799628795,
          0.997629671612416,
          0.997077759270862,
          0.9975961304557068,
          0.9976917707807298,
          0.9978904935303509,
          0.9982451943814062,
          0.998013628301929,
          0.9979725856403793,
          0.9981242647755624,
          0.9985016759266809,
          0.9978121241216839,
          0.9980860613949227,
          0.9977286988703694,
          0.9977345365687458,
          0.9984611133760044,
          0.9985234159267131,
          0.9981166861899275,
          0.9982992523874081,
          0.9975938328833388,
          0.9982797469626526,
          0.9988409255198804,
          0.9983937328673174,
          0.9984203788791942,
          0.9981973334503835,
          0.9982012458754317,
          0.9982504963927136,
          0.9979835023318135,
          0.9980330260037691,
          0.9983793843849441,
          0.9981830764081734,
          0.9982993476433578,
          0.9980103895054917,
          0.9981764064007671,
          0.9985715215786461,
          0.9987351619052575,
          0.9987420506827454,
          0.998462658214344,
          0.9987294748420878,
          0.9984392369014934,
          0.9985705873628361,
          0.9985751475562756,
          0.9985734032572755,
          0.9989427955815624,
          0.998544090405348,
          0.9987732788055763,
          0.9988224756204939,
          0.9985925257168057,
          0.9986993113313741,
          0.9983579338980566,
          0.9989360102181308,
          0.9983861493120001,
          0.9985419172828591,
          0.9987558289723582,
          0.9988589985231309,
          0.9985787510959163,
          0.9988253292177731,
          0.9988324453290726,
          0.9989609859262967,
          0.9987326709233769,
          0.9988825557255802,
          0.9988115775424096,
          0.9988050671170376,
          0.9988600693261831,
          0.9991186872887474,
          0.9988730059284551,
          0.9988741239726054,
          0.9986818423231567,
          0.9988827558485669,
          0.9990437710774908,
          0.9987009246810565,
          0.9991558122214186,
          0.9988889702386962,
          0.998806134293583,
          0.9986274700735326,
          0.9989705112997221,
          0.9990599912094814,
          0.9990149840417348,
          0.998963414432487,
          0.9989924797500752,
          0.9988864116441797,
          0.9988191133067421,
          0.998780369035946,
          0.9990741397697386,
          0.9988627562517304,
          0.9990067780256089,
          0.9989466741428016,
          0.9991765270590981,
          0.998941071784219,
          0.99885648075388,
          0.9990110664600347,
          0.9990865905211952,
          0.9992408352922872,
          0.9989439269625316,
          0.9991097662854479,
          0.9991657864455467,
          0.9989433483680927,
          0.9987224213374427,
          0.9990622070803978,
          0.9988861713586824,
          0.9992566671153434,
          0.9991674895943952,
          0.9990490469478991,
          0.9991034451584955,
          0.9990359536496713,
          0.999120553063024,
          0.9991365025493059,
          0.9992178373911091,
          0.9990232384811517,
          0.9989772544740715,
          0.9989944869049178,
          0.9989959084797295,
          0.9993902926798199,
          0.9992128946675114,
          0.9991653396033716,
          0.9991314782750367,
          0.9991696933858214,
          0.9993026727399592,
          0.999097059306008,
          0.9991242471063138,
          0.9993125041817222,
          0.9992100187563491,
          0.999291289322502,
          0.9992905864158041,
          0.9993142217249362,
          0.9991593999808008,
          0.9993107870330867,
          0.9992396363531287,
          0.9991251229430942,
          0.9991420332557958,
          0.9991746937193509,
          0.9991989534943069
         ]
        },
        {
         "mode": "lines+markers",
         "name": "alpha = 2.5",
         "type": "scatter",
         "x": [
          100,
          200,
          300,
          400,
          500,
          600,
          700,
          800,
          900,
          1000,
          1100,
          1200,
          1300,
          1400,
          1500,
          1600,
          1700,
          1800,
          1900,
          2000,
          2100,
          2200,
          2300,
          2400,
          2500,
          2600,
          2700,
          2800,
          2900,
          3000,
          3100,
          3200,
          3300,
          3400,
          3500,
          3600,
          3700,
          3800,
          3900,
          4000,
          4100,
          4200,
          4300,
          4400,
          4500,
          4600,
          4700,
          4800,
          4900,
          5000,
          5100,
          5200,
          5300,
          5400,
          5500,
          5600,
          5700,
          5800,
          5900,
          6000,
          6100,
          6200,
          6300,
          6400,
          6500,
          6600,
          6700,
          6800,
          6900,
          7000,
          7100,
          7200,
          7300,
          7400,
          7500,
          7600,
          7700,
          7800,
          7900,
          8000,
          8100,
          8200,
          8300,
          8400,
          8500,
          8600,
          8700,
          8800,
          8900,
          9000,
          9100,
          9200,
          9300,
          9400,
          9500,
          9600,
          9700,
          9800,
          9900,
          10000,
          10100,
          10200,
          10300,
          10400,
          10500,
          10600,
          10700,
          10800,
          10900,
          11000,
          11100,
          11200,
          11300,
          11400,
          11500,
          11600,
          11700,
          11800,
          11900,
          12000,
          12100,
          12200,
          12300,
          12400,
          12500,
          12600,
          12700,
          12800,
          12900,
          13000,
          13100,
          13200,
          13300,
          13400,
          13500,
          13600,
          13700,
          13800,
          13900,
          14000,
          14100,
          14200,
          14300,
          14400,
          14500,
          14600,
          14700,
          14800,
          14900,
          15000,
          15100,
          15200,
          15300,
          15400,
          15500,
          15600,
          15700,
          15800,
          15900,
          16000,
          16100,
          16200,
          16300,
          16400,
          16500,
          16600,
          16700,
          16800,
          16900,
          17000,
          17100,
          17200,
          17300,
          17400,
          17500,
          17600,
          17700,
          17800,
          17900,
          18000,
          18100,
          18200,
          18300,
          18400,
          18500,
          18600,
          18700,
          18800,
          18900,
          19000,
          19100,
          19200,
          19300,
          19400,
          19500,
          19600,
          19700,
          19800,
          19900
         ],
         "y": [
          0.914605382069926,
          0.9547652832235125,
          0.9718630252092838,
          0.9791600207066384,
          0.9810654285403313,
          0.9857990035451205,
          0.986537869290965,
          0.9898445454737799,
          0.9920130588255438,
          0.9914378099464479,
          0.9917573510711708,
          0.993796629377939,
          0.9927106136186923,
          0.9929189760634087,
          0.9933367482123179,
          0.9946492457985338,
          0.9943289400773146,
          0.9957774097970552,
          0.9948658337542013,
          0.9957926054323898,
          0.9938086852711994,
          0.9944849484694457,
          0.9957003029178078,
          0.9959675575128601,
          0.9955543843902546,
          0.9963107004338769,
          0.9968753804184757,
          0.9974065759719102,
          0.9970622356303226,
          0.9971808314883249,
          0.9975235718473775,
          0.9962329301858696,
          0.9982357434593094,
          0.9978651698646767,
          0.9973567102660345,
          0.9976807791380189,
          0.9968562260257039,
          0.9980811542599041,
          0.9978074334077646,
          0.9971570690176546,
          0.9975312098291883,
          0.9979664565199526,
          0.9970056820949271,
          0.9977405862196086,
          0.9973835815171694,
          0.9983273600885402,
          0.9979039091961639,
          0.9980474668313762,
          0.9978492259660718,
          0.9981812065090738,
          0.9980187048266513,
          0.9984847918171494,
          0.9979987876387973,
          0.9983091214930231,
          0.9983352238950753,
          0.9987474966693979,
          0.9984364553966895,
          0.9984911756365784,
          0.9984372417646544,
          0.9985494347259096,
          0.998564215171973,
          0.9987424914996581,
          0.9989686967282005,
          0.9986388331817648,
          0.9985694968052405,
          0.9985796640539732,
          0.9989397269230269,
          0.9984389634475712,
          0.9988650872686201,
          0.9987106395255938,
          0.9986260691569016,
          0.9985904289470987,
          0.998630939740669,
          0.9987454830081302,
          0.9986944642629205,
          0.9988766002322131,
          0.9988382950826404,
          0.9987391353273545,
          0.9986873091897444,
          0.9988155911453327,
          0.9987963642796017,
          0.9988328269988226,
          0.9990488785720382,
          0.9990379621888654,
          0.9990142479052415,
          0.9990630047351192,
          0.9991090529310056,
          0.9988851886678914,
          0.9990332095275355,
          0.9988977511396933,
          0.9988559740986775,
          0.999105467620664,
          0.998974398007769,
          0.9990862251859486,
          0.9989030504604853,
          0.9989778375286065,
          0.9989088851181385,
          0.9990470792040121,
          0.9991452110366661,
          0.999082275875255,
          0.9991897867586638,
          0.9988296787691501,
          0.9989717972663561,
          0.9989753441889664,
          0.9992022371860868,
          0.9992157104237025,
          0.9991618267363118,
          0.9991139808259727,
          0.9988497404382575,
          0.9992026020993344,
          0.9990157919794581,
          0.9992822465031042,
          0.9992184301053921,
          0.999098577810186,
          0.9991920961917288,
          0.9992123762732271,
          0.9995048170269896,
          0.9990553068898452,
          0.9993367424691357,
          0.9991848693410237,
          0.9993319331597356,
          0.9990808978782795,
          0.9991254959675169,
          0.9993845958603409,
          0.999076935199046,
          0.9993990094451536,
          0.9992731066715702,
          0.9991963518578851,
          0.999313232752422,
          0.9993801022697917,
          0.9992699252195149,
          0.9992950293072953,
          0.99929242632103,
          0.9993891092022085,
          0.9992820265104593,
          0.999385614973899,
          0.9992163963577236,
          0.9994515047555972,
          0.9992105623924971,
          0.9994500081903581,
          0.9993578996536288,
          0.99942911406831,
          0.9992944287274437,
          0.9993487388860193,
          0.9993239884444677,
          0.9993749608440992,
          0.9993620744303044,
          0.9994259570424594,
          0.9994791360411462,
          0.9995427648182309,
          0.999267393728138,
          0.9994749831643535,
          0.99929785808231,
          0.9993476386100144,
          0.9995028625381717,
          0.9994796148043116,
          0.9994450850150429,
          0.9994560002842372,
          0.9994616383247732,
          0.9992950728124531,
          0.9994701647750027,
          0.9994223038004257,
          0.9993343776377257,
          0.9995170253027705,
          0.9995752196606276,
          0.9995593919472603,
          0.9994907485048133,
          0.9995751734689087,
          0.9994513812866261,
          0.9995444053088276,
          0.9993817910120428,
          0.9995208009789318,
          0.9994736095898027,
          0.9995386401913778,
          0.9994538462369594,
          0.9995399911768491,
          0.9994947648018243,
          0.9994616812068732,
          0.9995235919141573,
          0.9994639925999004,
          0.9996223416678139,
          0.9994544022979539,
          0.9994386740733985,
          0.9994793717142082,
          0.999446514417163,
          0.999547927606109,
          0.999589272193088,
          0.9995076958034372,
          0.9995604107612185,
          0.9994191635656028,
          0.9995256675608386,
          0.9995047394488128,
          0.9994640029088958,
          0.9995381301988933,
          0.9995749491468038,
          0.9996365564969949,
          0.9994545293242616,
          0.9995038480080951,
          0.9994940891216184
         ]
        },
        {
         "mode": "lines+markers",
         "name": "alpha = 3",
         "type": "scatter",
         "x": [
          100,
          200,
          300,
          400,
          500,
          600,
          700,
          800,
          900,
          1000,
          1100,
          1200,
          1300,
          1400,
          1500,
          1600,
          1700,
          1800,
          1900,
          2000,
          2100,
          2200,
          2300,
          2400,
          2500,
          2600,
          2700,
          2800,
          2900,
          3000,
          3100,
          3200,
          3300,
          3400,
          3500,
          3600,
          3700,
          3800,
          3900,
          4000,
          4100,
          4200,
          4300,
          4400,
          4500,
          4600,
          4700,
          4800,
          4900,
          5000,
          5100,
          5200,
          5300,
          5400,
          5500,
          5600,
          5700,
          5800,
          5900,
          6000,
          6100,
          6200,
          6300,
          6400,
          6500,
          6600,
          6700,
          6800,
          6900,
          7000,
          7100,
          7200,
          7300,
          7400,
          7500,
          7600,
          7700,
          7800,
          7900,
          8000,
          8100,
          8200,
          8300,
          8400,
          8500,
          8600,
          8700,
          8800,
          8900,
          9000,
          9100,
          9200,
          9300,
          9400,
          9500,
          9600,
          9700,
          9800,
          9900,
          10000,
          10100,
          10200,
          10300,
          10400,
          10500,
          10600,
          10700,
          10800,
          10900,
          11000,
          11100,
          11200,
          11300,
          11400,
          11500,
          11600,
          11700,
          11800,
          11900,
          12000,
          12100,
          12200,
          12300,
          12400,
          12500,
          12600,
          12700,
          12800,
          12900,
          13000,
          13100,
          13200,
          13300,
          13400,
          13500,
          13600,
          13700,
          13800,
          13900,
          14000,
          14100,
          14200,
          14300,
          14400,
          14500,
          14600,
          14700,
          14800,
          14900,
          15000,
          15100,
          15200,
          15300,
          15400,
          15500,
          15600,
          15700,
          15800,
          15900,
          16000,
          16100,
          16200,
          16300,
          16400,
          16500,
          16600,
          16700,
          16800,
          16900,
          17000,
          17100,
          17200,
          17300,
          17400,
          17500,
          17600,
          17700,
          17800,
          17900,
          18000,
          18100,
          18200,
          18300,
          18400,
          18500,
          18600,
          18700,
          18800,
          18900,
          19000,
          19100,
          19200,
          19300,
          19400,
          19500,
          19600,
          19700,
          19800,
          19900
         ],
         "y": [
          0.9597888589940369,
          0.9739966057852888,
          0.9828913876546153,
          0.9814854729904313,
          0.98809440954194,
          0.9887924375143267,
          0.9902137043353741,
          0.9930487779423527,
          0.9930183641870334,
          0.9946647482898336,
          0.9938761242873249,
          0.9956669484463299,
          0.9945123463609962,
          0.9956083739964617,
          0.9959544758201677,
          0.9961664607365821,
          0.9961192517212687,
          0.9962627724776931,
          0.9968207261623684,
          0.9970101869466033,
          0.9965923487635111,
          0.9969981718914446,
          0.9968258945839775,
          0.997620840496709,
          0.9974287315682807,
          0.9977778916741018,
          0.9980311415166665,
          0.9979747013722051,
          0.998118374732898,
          0.997931631398178,
          0.9978413238344481,
          0.9978450327248634,
          0.9982502776132247,
          0.997981195369413,
          0.9981724860739712,
          0.9984462015392785,
          0.9982054342841711,
          0.9981748423063944,
          0.9985968534369788,
          0.9985952852318852,
          0.9982680974172707,
          0.998404335475843,
          0.9987460931150268,
          0.9989036242527849,
          0.9987078752749945,
          0.9982046987469161,
          0.9984983286877404,
          0.9988351714210402,
          0.9988099631198757,
          0.9985823770138753,
          0.9986717868636692,
          0.9987983034890513,
          0.998825554254168,
          0.9988718786344868,
          0.9990415559893231,
          0.9987850949630352,
          0.9989916614150082,
          0.9990242173189149,
          0.9988217442804485,
          0.9990662748970851,
          0.9988755242328582,
          0.9991275160367615,
          0.9989850336356441,
          0.9992620972081043,
          0.9990968484975149,
          0.9987527193713446,
          0.9990587134384225,
          0.9990341095692918,
          0.9989175658574946,
          0.9991073628621364,
          0.9992751037480305,
          0.9989598393902056,
          0.9992975536021156,
          0.9992982141040181,
          0.9992626863117213,
          0.9993030720959413,
          0.999033357726407,
          0.9992807281503151,
          0.9991763217946162,
          0.9992681013489237,
          0.9991526230311834,
          0.9991953467640505,
          0.9991064611061309,
          0.999230152261979,
          0.9993280599519697,
          0.9992621315669113,
          0.9993161770450083,
          0.9993077957710708,
          0.9991488424338396,
          0.9992321986305733,
          0.9993844443513951,
          0.999420452038638,
          0.9991124410599306,
          0.9991911764481433,
          0.9994493447245452,
          0.9991517052411318,
          0.9993775415426215,
          0.9994126165149184,
          0.999205648730401,
          0.9992169807668777,
          0.9994982735957384,
          0.9994155717942869,
          0.9994055628832316,
          0.9994342246978167,
          0.9994205053867946,
          0.9993687852185198,
          0.9994411619206177,
          0.9996112405893347,
          0.9995467893328882,
          0.9994801751681301,
          0.9994787919853668,
          0.9993823775933052,
          0.999455408464905,
          0.9994965204975758,
          0.9994470957885052,
          0.9994262111794305,
          0.9995678403607451,
          0.9995319777675341,
          0.9994587141183213,
          0.9994586081987693,
          0.9993847280435302,
          0.9995489005596712,
          0.9994532890886985,
          0.9993568870477791,
          0.9995435211172439,
          0.9993138871193975,
          0.9995709310723202,
          0.9995217338269962,
          0.99951605771497,
          0.9995471284325872,
          0.999636849558033,
          0.9995726999884607,
          0.99947412917116,
          0.9995394010429093,
          0.9994465484072282,
          0.9994898300267766,
          0.9995022742001941,
          0.9996899318701891,
          0.9995240536987984,
          0.9995925958208888,
          0.9995399238226172,
          0.9996399663435885,
          0.9996083197010444,
          0.9995801403742952,
          0.9995525646736466,
          0.9996451497626957,
          0.9996254031278958,
          0.9995975597446086,
          0.9996504924562796,
          0.9995824179776901,
          0.9995074350156525,
          0.9996685233260965,
          0.9996362003118096,
          0.9996412229274938,
          0.9995274670618475,
          0.9996159764313518,
          0.9996382917890458,
          0.9996200966283976,
          0.9996171597431471,
          0.9996232277672797,
          0.9996462435659751,
          0.9995673380270385,
          0.9996002089398212,
          0.999638349204097,
          0.9996213878567812,
          0.9995800944014676,
          0.9995164425029704,
          0.9996408858151451,
          0.9996132403733461,
          0.9996885193323304,
          0.9996444109810723,
          0.9995774975297052,
          0.9996802604521144,
          0.9996179393761071,
          0.9995956632192552,
          0.9996445317665358,
          0.9996720442384099,
          0.9996177766451871,
          0.9996748535924778,
          0.9996405850668844,
          0.9996943080138678,
          0.9995095533528027,
          0.9996813004942964,
          0.9998004981872035,
          0.999696561530565,
          0.9996941471739016,
          0.9996574161137,
          0.999648562945995,
          0.9996620413958168,
          0.999697940133164,
          0.9996702425292815,
          0.9996523501357368,
          0.9996299824985436,
          0.9996129779945437,
          0.999638810554438,
          0.9996858761956412,
          0.9996365498797568,
          0.9996834765831492,
          0.9996374721557091
         ]
        }
       ],
       "layout": {
        "annotations": [
         {
          "showarrow": false,
          "text": "Corr = 1",
          "x": 0,
          "xanchor": "left",
          "xref": "x domain",
          "y": 1,
          "yanchor": "bottom",
          "yref": "y"
         }
        ],
        "height": 500,
        "legend": {
         "title": {
          "text": "Valeurs de alpha"
         }
        },
        "shapes": [
         {
          "line": {
           "color": "red",
           "dash": "dot"
          },
          "type": "line",
          "x0": 0,
          "x1": 1,
          "xref": "x domain",
          "y0": 1,
          "y1": 1,
          "yref": "y"
         }
        ],
        "template": {
         "data": {
          "bar": [
           {
            "error_x": {
             "color": "#2a3f5f"
            },
            "error_y": {
             "color": "#2a3f5f"
            },
            "marker": {
             "line": {
              "color": "#E5ECF6",
              "width": 0.5
             },
             "pattern": {
              "fillmode": "overlay",
              "size": 10,
              "solidity": 0.2
             }
            },
            "type": "bar"
           }
          ],
          "barpolar": [
           {
            "marker": {
             "line": {
              "color": "#E5ECF6",
              "width": 0.5
             },
             "pattern": {
              "fillmode": "overlay",
              "size": 10,
              "solidity": 0.2
             }
            },
            "type": "barpolar"
           }
          ],
          "carpet": [
           {
            "aaxis": {
             "endlinecolor": "#2a3f5f",
             "gridcolor": "white",
             "linecolor": "white",
             "minorgridcolor": "white",
             "startlinecolor": "#2a3f5f"
            },
            "baxis": {
             "endlinecolor": "#2a3f5f",
             "gridcolor": "white",
             "linecolor": "white",
             "minorgridcolor": "white",
             "startlinecolor": "#2a3f5f"
            },
            "type": "carpet"
           }
          ],
          "choropleth": [
           {
            "colorbar": {
             "outlinewidth": 0,
             "ticks": ""
            },
            "type": "choropleth"
           }
          ],
          "contour": [
           {
            "colorbar": {
             "outlinewidth": 0,
             "ticks": ""
            },
            "colorscale": [
             [
              0,
              "#0d0887"
             ],
             [
              0.1111111111111111,
              "#46039f"
             ],
             [
              0.2222222222222222,
              "#7201a8"
             ],
             [
              0.3333333333333333,
              "#9c179e"
             ],
             [
              0.4444444444444444,
              "#bd3786"
             ],
             [
              0.5555555555555556,
              "#d8576b"
             ],
             [
              0.6666666666666666,
              "#ed7953"
             ],
             [
              0.7777777777777778,
              "#fb9f3a"
             ],
             [
              0.8888888888888888,
              "#fdca26"
             ],
             [
              1,
              "#f0f921"
             ]
            ],
            "type": "contour"
           }
          ],
          "contourcarpet": [
           {
            "colorbar": {
             "outlinewidth": 0,
             "ticks": ""
            },
            "type": "contourcarpet"
           }
          ],
          "heatmap": [
           {
            "colorbar": {
             "outlinewidth": 0,
             "ticks": ""
            },
            "colorscale": [
             [
              0,
              "#0d0887"
             ],
             [
              0.1111111111111111,
              "#46039f"
             ],
             [
              0.2222222222222222,
              "#7201a8"
             ],
             [
              0.3333333333333333,
              "#9c179e"
             ],
             [
              0.4444444444444444,
              "#bd3786"
             ],
             [
              0.5555555555555556,
              "#d8576b"
             ],
             [
              0.6666666666666666,
              "#ed7953"
             ],
             [
              0.7777777777777778,
              "#fb9f3a"
             ],
             [
              0.8888888888888888,
              "#fdca26"
             ],
             [
              1,
              "#f0f921"
             ]
            ],
            "type": "heatmap"
           }
          ],
          "heatmapgl": [
           {
            "colorbar": {
             "outlinewidth": 0,
             "ticks": ""
            },
            "colorscale": [
             [
              0,
              "#0d0887"
             ],
             [
              0.1111111111111111,
              "#46039f"
             ],
             [
              0.2222222222222222,
              "#7201a8"
             ],
             [
              0.3333333333333333,
              "#9c179e"
             ],
             [
              0.4444444444444444,
              "#bd3786"
             ],
             [
              0.5555555555555556,
              "#d8576b"
             ],
             [
              0.6666666666666666,
              "#ed7953"
             ],
             [
              0.7777777777777778,
              "#fb9f3a"
             ],
             [
              0.8888888888888888,
              "#fdca26"
             ],
             [
              1,
              "#f0f921"
             ]
            ],
            "type": "heatmapgl"
           }
          ],
          "histogram": [
           {
            "marker": {
             "pattern": {
              "fillmode": "overlay",
              "size": 10,
              "solidity": 0.2
             }
            },
            "type": "histogram"
           }
          ],
          "histogram2d": [
           {
            "colorbar": {
             "outlinewidth": 0,
             "ticks": ""
            },
            "colorscale": [
             [
              0,
              "#0d0887"
             ],
             [
              0.1111111111111111,
              "#46039f"
             ],
             [
              0.2222222222222222,
              "#7201a8"
             ],
             [
              0.3333333333333333,
              "#9c179e"
             ],
             [
              0.4444444444444444,
              "#bd3786"
             ],
             [
              0.5555555555555556,
              "#d8576b"
             ],
             [
              0.6666666666666666,
              "#ed7953"
             ],
             [
              0.7777777777777778,
              "#fb9f3a"
             ],
             [
              0.8888888888888888,
              "#fdca26"
             ],
             [
              1,
              "#f0f921"
             ]
            ],
            "type": "histogram2d"
           }
          ],
          "histogram2dcontour": [
           {
            "colorbar": {
             "outlinewidth": 0,
             "ticks": ""
            },
            "colorscale": [
             [
              0,
              "#0d0887"
             ],
             [
              0.1111111111111111,
              "#46039f"
             ],
             [
              0.2222222222222222,
              "#7201a8"
             ],
             [
              0.3333333333333333,
              "#9c179e"
             ],
             [
              0.4444444444444444,
              "#bd3786"
             ],
             [
              0.5555555555555556,
              "#d8576b"
             ],
             [
              0.6666666666666666,
              "#ed7953"
             ],
             [
              0.7777777777777778,
              "#fb9f3a"
             ],
             [
              0.8888888888888888,
              "#fdca26"
             ],
             [
              1,
              "#f0f921"
             ]
            ],
            "type": "histogram2dcontour"
           }
          ],
          "mesh3d": [
           {
            "colorbar": {
             "outlinewidth": 0,
             "ticks": ""
            },
            "type": "mesh3d"
           }
          ],
          "parcoords": [
           {
            "line": {
             "colorbar": {
              "outlinewidth": 0,
              "ticks": ""
             }
            },
            "type": "parcoords"
           }
          ],
          "pie": [
           {
            "automargin": true,
            "type": "pie"
           }
          ],
          "scatter": [
           {
            "fillpattern": {
             "fillmode": "overlay",
             "size": 10,
             "solidity": 0.2
            },
            "type": "scatter"
           }
          ],
          "scatter3d": [
           {
            "line": {
             "colorbar": {
              "outlinewidth": 0,
              "ticks": ""
             }
            },
            "marker": {
             "colorbar": {
              "outlinewidth": 0,
              "ticks": ""
             }
            },
            "type": "scatter3d"
           }
          ],
          "scattercarpet": [
           {
            "marker": {
             "colorbar": {
              "outlinewidth": 0,
              "ticks": ""
             }
            },
            "type": "scattercarpet"
           }
          ],
          "scattergeo": [
           {
            "marker": {
             "colorbar": {
              "outlinewidth": 0,
              "ticks": ""
             }
            },
            "type": "scattergeo"
           }
          ],
          "scattergl": [
           {
            "marker": {
             "colorbar": {
              "outlinewidth": 0,
              "ticks": ""
             }
            },
            "type": "scattergl"
           }
          ],
          "scattermapbox": [
           {
            "marker": {
             "colorbar": {
              "outlinewidth": 0,
              "ticks": ""
             }
            },
            "type": "scattermapbox"
           }
          ],
          "scatterpolar": [
           {
            "marker": {
             "colorbar": {
              "outlinewidth": 0,
              "ticks": ""
             }
            },
            "type": "scatterpolar"
           }
          ],
          "scatterpolargl": [
           {
            "marker": {
             "colorbar": {
              "outlinewidth": 0,
              "ticks": ""
             }
            },
            "type": "scatterpolargl"
           }
          ],
          "scatterternary": [
           {
            "marker": {
             "colorbar": {
              "outlinewidth": 0,
              "ticks": ""
             }
            },
            "type": "scatterternary"
           }
          ],
          "surface": [
           {
            "colorbar": {
             "outlinewidth": 0,
             "ticks": ""
            },
            "colorscale": [
             [
              0,
              "#0d0887"
             ],
             [
              0.1111111111111111,
              "#46039f"
             ],
             [
              0.2222222222222222,
              "#7201a8"
             ],
             [
              0.3333333333333333,
              "#9c179e"
             ],
             [
              0.4444444444444444,
              "#bd3786"
             ],
             [
              0.5555555555555556,
              "#d8576b"
             ],
             [
              0.6666666666666666,
              "#ed7953"
             ],
             [
              0.7777777777777778,
              "#fb9f3a"
             ],
             [
              0.8888888888888888,
              "#fdca26"
             ],
             [
              1,
              "#f0f921"
             ]
            ],
            "type": "surface"
           }
          ],
          "table": [
           {
            "cells": {
             "fill": {
              "color": "#EBF0F8"
             },
             "line": {
              "color": "white"
             }
            },
            "header": {
             "fill": {
              "color": "#C8D4E3"
             },
             "line": {
              "color": "white"
             }
            },
            "type": "table"
           }
          ]
         },
         "layout": {
          "annotationdefaults": {
           "arrowcolor": "#2a3f5f",
           "arrowhead": 0,
           "arrowwidth": 1
          },
          "autotypenumbers": "strict",
          "coloraxis": {
           "colorbar": {
            "outlinewidth": 0,
            "ticks": ""
           }
          },
          "colorscale": {
           "diverging": [
            [
             0,
             "#8e0152"
            ],
            [
             0.1,
             "#c51b7d"
            ],
            [
             0.2,
             "#de77ae"
            ],
            [
             0.3,
             "#f1b6da"
            ],
            [
             0.4,
             "#fde0ef"
            ],
            [
             0.5,
             "#f7f7f7"
            ],
            [
             0.6,
             "#e6f5d0"
            ],
            [
             0.7,
             "#b8e186"
            ],
            [
             0.8,
             "#7fbc41"
            ],
            [
             0.9,
             "#4d9221"
            ],
            [
             1,
             "#276419"
            ]
           ],
           "sequential": [
            [
             0,
             "#0d0887"
            ],
            [
             0.1111111111111111,
             "#46039f"
            ],
            [
             0.2222222222222222,
             "#7201a8"
            ],
            [
             0.3333333333333333,
             "#9c179e"
            ],
            [
             0.4444444444444444,
             "#bd3786"
            ],
            [
             0.5555555555555556,
             "#d8576b"
            ],
            [
             0.6666666666666666,
             "#ed7953"
            ],
            [
             0.7777777777777778,
             "#fb9f3a"
            ],
            [
             0.8888888888888888,
             "#fdca26"
            ],
            [
             1,
             "#f0f921"
            ]
           ],
           "sequentialminus": [
            [
             0,
             "#0d0887"
            ],
            [
             0.1111111111111111,
             "#46039f"
            ],
            [
             0.2222222222222222,
             "#7201a8"
            ],
            [
             0.3333333333333333,
             "#9c179e"
            ],
            [
             0.4444444444444444,
             "#bd3786"
            ],
            [
             0.5555555555555556,
             "#d8576b"
            ],
            [
             0.6666666666666666,
             "#ed7953"
            ],
            [
             0.7777777777777778,
             "#fb9f3a"
            ],
            [
             0.8888888888888888,
             "#fdca26"
            ],
            [
             1,
             "#f0f921"
            ]
           ]
          },
          "colorway": [
           "#636efa",
           "#EF553B",
           "#00cc96",
           "#ab63fa",
           "#FFA15A",
           "#19d3f3",
           "#FF6692",
           "#B6E880",
           "#FF97FF",
           "#FECB52"
          ],
          "font": {
           "color": "#2a3f5f"
          },
          "geo": {
           "bgcolor": "white",
           "lakecolor": "white",
           "landcolor": "#E5ECF6",
           "showlakes": true,
           "showland": true,
           "subunitcolor": "white"
          },
          "hoverlabel": {
           "align": "left"
          },
          "hovermode": "closest",
          "mapbox": {
           "style": "light"
          },
          "paper_bgcolor": "white",
          "plot_bgcolor": "#E5ECF6",
          "polar": {
           "angularaxis": {
            "gridcolor": "white",
            "linecolor": "white",
            "ticks": ""
           },
           "bgcolor": "#E5ECF6",
           "radialaxis": {
            "gridcolor": "white",
            "linecolor": "white",
            "ticks": ""
           }
          },
          "scene": {
           "xaxis": {
            "backgroundcolor": "#E5ECF6",
            "gridcolor": "white",
            "gridwidth": 2,
            "linecolor": "white",
            "showbackground": true,
            "ticks": "",
            "zerolinecolor": "white"
           },
           "yaxis": {
            "backgroundcolor": "#E5ECF6",
            "gridcolor": "white",
            "gridwidth": 2,
            "linecolor": "white",
            "showbackground": true,
            "ticks": "",
            "zerolinecolor": "white"
           },
           "zaxis": {
            "backgroundcolor": "#E5ECF6",
            "gridcolor": "white",
            "gridwidth": 2,
            "linecolor": "white",
            "showbackground": true,
            "ticks": "",
            "zerolinecolor": "white"
           }
          },
          "shapedefaults": {
           "line": {
            "color": "#2a3f5f"
           }
          },
          "ternary": {
           "aaxis": {
            "gridcolor": "white",
            "linecolor": "white",
            "ticks": ""
           },
           "baxis": {
            "gridcolor": "white",
            "linecolor": "white",
            "ticks": ""
           },
           "bgcolor": "#E5ECF6",
           "caxis": {
            "gridcolor": "white",
            "linecolor": "white",
            "ticks": ""
           }
          },
          "title": {
           "x": 0.05
          },
          "xaxis": {
           "automargin": true,
           "gridcolor": "white",
           "linecolor": "white",
           "ticks": "",
           "title": {
            "standoff": 15
           },
           "zerolinecolor": "white",
           "zerolinewidth": 2
          },
          "yaxis": {
           "automargin": true,
           "gridcolor": "white",
           "linecolor": "white",
           "ticks": "",
           "title": {
            "standoff": 15
           },
           "zerolinecolor": "white",
           "zerolinewidth": 2
          }
         }
        },
        "title": {
         "text": "Impact de No et alpha sur le Corr après attaque"
        },
        "width": 800,
        "xaxis": {
         "title": {
          "text": "No (Nombre d'observations)=20000"
         }
        },
        "yaxis": {
         "title": {
          "text": "Cor"
         }
        }
       }
      }
     },
     "metadata": {},
     "output_type": "display_data"
    }
   ],
   "source": [
    "alpha_values = [0.2, 0.5, 1, 1.5, 2, 2.5, 3] # Tune the power of the watermark here\n",
    "Ni_grand = 20000\n",
    "\n",
    "fig_ber = go.Figure()\n",
    "fig_corr = go.Figure()\n",
    "fig_ber.add_hline(y=0.5, line_dash=\"dot\", line_color=\"red\", annotation_text=\"BER 50%\", annotation_position=\"top left\")\n",
    "fig_corr.add_hline(y=1, line_dash=\"dot\", line_color=\"red\", annotation_text=\"Corr = 1\", annotation_position=\"top left\")\n",
    "\n",
    "for alpha in alpha_values:\n",
    "    # Réinitialisation des vecteurs pour les plots\n",
    "    ber_values = []\n",
    "    corr_values = []\n",
    "    No_values = range(100,Ni_grand,100) \n",
    "    for No in No_values:\n",
    "        ber_val, corr_val = do_process(alpha, No)\n",
    "        ber_values.append(ber_val)\n",
    "        corr_values.append(corr_val)\n",
    "    # Graphique du BER\n",
    "    fig_ber.add_trace(go.Scatter(x=list(No_values), y=ber_values, mode='lines+markers', name=f'alpha = {alpha}'))\n",
    "    # Graphique du Corr\n",
    "    fig_corr.add_trace(go.Scatter(x=list(No_values), y=corr_values, mode='lines+markers', name=f'alpha = {alpha}'))\n",
    "fig_corr.update_layout(\n",
    "    title=\"Impact de No et alpha sur le Corr après attaque\",\n",
    "    xaxis_title=f\"No (Nombre d'observations)={Ni}\",\n",
    "    yaxis_title=\"Cor\",\n",
    "    legend_title='Valeurs de alpha',\n",
    "    width=800,\n",
    "    height=500\n",
    ")\n",
    "    \n",
    "fig_ber.update_layout(\n",
    "    title='Impact de No et alpha sur le BER après attaque',\n",
    "    xaxis_title=f'No (Nombre d‘observations)={Ni}',\n",
    "    yaxis_title='BER',\n",
    "    legend_title='Valeurs de alpha',\n",
    "    width=800,\n",
    "    height=500\n",
    ")\n",
    "fig_ber.show()\n",
    "fig_corr.show()"
   ]
  },
  {
   "cell_type": "markdown",
   "metadata": {
    "hideCode": false,
    "hidePrompt": false
   },
   "source": [
    "## Scénario 3: Attaque à messages inconnus, 2 bits\n",
    "* Vérifier que l'attaque précédente ne permet pas d'estimer les deux clés. \n",
    "* Estimer au moins l'une des clés utilisée\n",
    "    * Note: on pourra utiliser l'algorithme `FastICA` pour estimer les deux composantes indépendantes \n",
    "    * Pour cela on pourra appeler la fonction fastica en spécifiant que l'analyse en composantes indépendantes s'effectuera sur un sous espace engendré par les *deux premières composantes principales* (`n_components=2`), et en récupérant les colonnes de la matrice de mélange A (obtenue via `ica.mixing_`) estimé par l'algorithme.\n",
    "    * Vérifier, à l'aide de la corrélation normalisée, que cette méthode permet d'estimer la clé `k1`\n",
    "* Mettre en place l'attaque qui permet les deux bits\n",
    "* Etudier l'impact de $N_{o}$ et de $\\alpha$ sur le BER après attaque"
   ]
  },
  {
   "cell_type": "code",
   "execution_count": null,
   "metadata": {},
   "outputs": [],
   "source": [
    "# 3rd scenario, 2 bits\n",
    "print('3rd scenario, 2bits')\n",
    "\n",
    "m1 = np.sign(np.random.randn(Ni,1))#Scenario with unknow messages, first bit\n",
    "m2 = np.sign(np.random.randn(Ni,1))#Scenario with unknow messages, second bit\n",
    "\n",
    "k1 = np.random.randn(Nv,1) # Generate de Watermark\n",
    "k1 = k1 / np.sqrt(np.dot(k1.T,k1)) # Normalize the watermark\n",
    "\n",
    "k2 = np.random.randn(Nv,1) # Generate de Watermark\n",
    "k2 = k2 / np.sqrt(np.dot(k2.T,k2)) # Normalize the watermark\n",
    "\n",
    "def do_process(alpha,No):\n",
    "    #print('alpha: ',alpha)\n",
    "    #print('No: ',No)\n",
    "\n",
    "    X = np.random.randn(Nv,Ni) # Generate Ni random host vectors\n",
    "    K = np.dot(k1,m1.T) + np.dot(k2,m2.T) # Generate the matrix of watermarks (each column contains m1_i*k)\n",
    "    W = alpha*K\n",
    "    Y = X + W # perform embedding\n",
    "    Y_obs = Y[:,:No]\n",
    "    # TO DO\n",
    "    \n",
    "    # hatk_1 = TO DO\n",
    "    hatk_1 =FastICA(n_components=2).fit(Y_obs.T).mixing_[:,0]\n",
    "    hatk_1 = np.reshape(hatk_1,(Nv,1))\n",
    "\n",
    "    corrN_1 = norm_corr(hatk_1,k1) # Compute the Normalised correlation\n",
    "    print('Normalised correlation between the estimated key and k1')\n",
    "    print(corrN_1)\n",
    "\n",
    "    corrN_2 = norm_corr(hatk_1,k2) # Compute the Normalised correlation\n",
    "    print('Normalised correlation between the estimated key and k2')\n",
    "    print(corrN_2)\n",
    "\n",
    "    # Perform the attack\n",
    "    # To do\n",
    "    YA_1 =  Y - alpha*np.dot(hatk_1,m1.T)\n",
    "    \n",
    "    return ber\n",
    "\n",
    "\n",
    "alpha = 2 # Tune the power of the watermark here\n",
    "\n",
    "# One example, can be used to draw plots\n",
    "for No in range(100,2000,100):\n",
    "    do_process(alpha,No)"
   ]
  },
  {
   "cell_type": "markdown",
   "metadata": {
    "hideCode": false,
    "hideOutput": true,
    "hidePrompt": false
   },
   "source": [
    "## Etude de la robustesse\n",
    "* Calculer le taux d'erreur (BER pour Bit Error Rate) théorique après ajout de bruit (voir cours)\n",
    "* Etudier l'évolution de la robustesse (via le BER) en fonction de la distortion (via le paramètre $\\alpha$) \n"
   ]
  },
  {
   "cell_type": "code",
   "execution_count": null,
   "metadata": {},
   "outputs": [],
   "source": []
  },
  {
   "cell_type": "markdown",
   "metadata": {},
   "source": [
    "## Conclusions\n",
    "* Pourquoi un compromis entre la robustesse et la sécurité est-il inévitable ?"
   ]
  },
  {
   "cell_type": "markdown",
   "metadata": {},
   "source": []
  }
 ],
 "metadata": {
  "hide_code_all_hidden": false,
  "kernelspec": {
   "display_name": "Python 3",
   "language": "python",
   "name": "python3"
  },
  "language_info": {
   "codemirror_mode": {
    "name": "ipython",
    "version": 3
   },
   "file_extension": ".py",
   "mimetype": "text/x-python",
   "name": "python",
   "nbconvert_exporter": "python",
   "pygments_lexer": "ipython3",
   "version": "3.9.12"
  }
 },
 "nbformat": 4,
 "nbformat_minor": 2
}
