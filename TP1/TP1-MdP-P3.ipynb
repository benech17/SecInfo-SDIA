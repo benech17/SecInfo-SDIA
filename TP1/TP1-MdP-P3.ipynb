{
 "cells": [
  {
   "cell_type": "markdown",
   "metadata": {},
   "source": [
    "> Noms du binome: BENICHOU - BONNEFOY\n",
    ">\n",
    "> Prénoms du binome: Yaniv - Nicolas\n",
    ">\n",
    "> Note: exporter le compte rendu basé sur le notebook au format pdf\n"
   ]
  },
  {
   "cell_type": "markdown",
   "metadata": {},
   "source": [
    "# Entropie et génération de mots de passe\n",
    "* L'objectif de ce tp est de continuer à se familiariser avec la notion d'entropie, mais aussi de comprendre le lien qu'il existe entre cette mesure informationelle et la sécurité d'un générateur (humain ou executable) de mots de passes\n",
    "* Ainsi, nous proposons d'étudier l'entropie d'un tel générateur, et ce en fonction du modèle probabiliste considéré pour le modéliser (contruit à partir d'une lettre, de deux lettres, de 4 lettres, ...). A l'aide de tirrages aléatoires, nous estimerons également le temps moyen nécessaire pour trouver un mot de passe à partir de ce modèle.\n",
    "* A la fin de ce TP, nous considérerons un générateur de mots de passe spécifique qui générera un mot de passe en prennant **4 lettres consécutives dans un texte** (sans se soucier des espaces). Ces lettres peuvent faire parti d'un ou de plusieurs mots consécutifs.\n",
    "* Nous faisons l'hypothèse que le texte n'est composé que des 26 lettres de l'alphabet, sans majuscules ni accents\n",
    "\n",
    "Nous chercherons aussi à comprendre (voir dernière question):\n",
    "- les bonnes pratiques pour le défenseur, i.e. la personne cherchant à générer/construire un système de génération de mots de passe.\n",
    "- les bonnes pratiques pour l'attaquant, i.e. la personne essayant de trouver le mot de passe.\n",
    "\n",
    "**Il est important de commenter vos réponses, en utilisant des cellules markdown**\n"
   ]
  },
  {
   "cell_type": "code",
   "execution_count": 2,
   "metadata": {},
   "outputs": [],
   "source": [
    "import numpy as np\n",
    "\n",
    "from numpy import genfromtxt\n",
    "from pandas import read_csv\n",
    "import pandas as pd\n",
    "import time"
   ]
  },
  {
   "cell_type": "markdown",
   "metadata": {},
   "source": [
    "#### Modèle monogramme (une lettre) : le générateur génère des mots de passe à partir des occurences des monogrammes\n",
    "* On récupére des données composées de [lettre,frequence d'apparition de la lettre] (voir fichier csv pour [comma-separated-value](https://en.wikipedia.org/wiki/Comma-separated_values)) "
   ]
  },
  {
   "cell_type": "code",
   "execution_count": 47,
   "metadata": {},
   "outputs": [
    {
     "name": "stdout",
     "output_type": "stream",
     "text": [
      "   letters  frequency\n",
      "0        E     0.1776\n",
      "1        S     0.0823\n",
      "2        A     0.0768\n",
      "3        N     0.0761\n",
      "4        T     0.0730\n",
      "5        I     0.0723\n",
      "6        R     0.0681\n",
      "7        U     0.0605\n",
      "8        L     0.0589\n",
      "9        O     0.0534\n",
      "10       D     0.0360\n",
      "11       C     0.0332\n",
      "12       P     0.0324\n",
      "13       M     0.0272\n",
      "14       Q     0.0134\n",
      "15       V     0.0127\n",
      "16       G     0.0110\n",
      "17       F     0.0106\n",
      "18       B     0.0080\n",
      "19       H     0.0064\n",
      "20       X     0.0054\n",
      "21       Y     0.0021\n",
      "22       J     0.0019\n",
      "23       Z     0.0007\n",
      "24       K     0.0000\n",
      "25       W     0.0000\n"
     ]
    }
   ],
   "source": [
    "import pandas as pd\n",
    "monogramme = pd.read_csv('monogramme.csv')\n",
    "freq_mono = (monogramme['frequency']).values\n",
    "letters_mono = (monogramme['letters']).values\n",
    "print(monogramme)"
   ]
  },
  {
   "cell_type": "markdown",
   "metadata": {},
   "source": [
    "Q: Quelles sont les 5 lettres les plus représentées ?"
   ]
  },
  {
   "cell_type": "code",
   "execution_count": 4,
   "metadata": {},
   "outputs": [
    {
     "data": {
      "text/html": [
       "<div>\n",
       "<style scoped>\n",
       "    .dataframe tbody tr th:only-of-type {\n",
       "        vertical-align: middle;\n",
       "    }\n",
       "\n",
       "    .dataframe tbody tr th {\n",
       "        vertical-align: top;\n",
       "    }\n",
       "\n",
       "    .dataframe thead th {\n",
       "        text-align: right;\n",
       "    }\n",
       "</style>\n",
       "<table border=\"1\" class=\"dataframe\">\n",
       "  <thead>\n",
       "    <tr style=\"text-align: right;\">\n",
       "      <th></th>\n",
       "      <th>letters</th>\n",
       "      <th>frequency</th>\n",
       "    </tr>\n",
       "  </thead>\n",
       "  <tbody>\n",
       "    <tr>\n",
       "      <th>0</th>\n",
       "      <td>E</td>\n",
       "      <td>0.1776</td>\n",
       "    </tr>\n",
       "    <tr>\n",
       "      <th>1</th>\n",
       "      <td>S</td>\n",
       "      <td>0.0823</td>\n",
       "    </tr>\n",
       "    <tr>\n",
       "      <th>2</th>\n",
       "      <td>A</td>\n",
       "      <td>0.0768</td>\n",
       "    </tr>\n",
       "    <tr>\n",
       "      <th>3</th>\n",
       "      <td>N</td>\n",
       "      <td>0.0761</td>\n",
       "    </tr>\n",
       "    <tr>\n",
       "      <th>4</th>\n",
       "      <td>T</td>\n",
       "      <td>0.0730</td>\n",
       "    </tr>\n",
       "  </tbody>\n",
       "</table>\n",
       "</div>"
      ],
      "text/plain": [
       "  letters  frequency\n",
       "0       E     0.1776\n",
       "1       S     0.0823\n",
       "2       A     0.0768\n",
       "3       N     0.0761\n",
       "4       T     0.0730"
      ]
     },
     "execution_count": 4,
     "metadata": {},
     "output_type": "execute_result"
    }
   ],
   "source": [
    "monogramme.head()"
   ]
  },
  {
   "cell_type": "markdown",
   "metadata": {},
   "source": [
    "Ecrire une fonction qui calcule l'entropie à partir d'un vecteur constitué de probabilités empiriques (note, il est important de bien *gérer* le cas ou la probabilité est nulle)."
   ]
  },
  {
   "cell_type": "code",
   "execution_count": 36,
   "metadata": {},
   "outputs": [],
   "source": [
    "def entropie(freq):\n",
    "    # Filtrer les probabilités nulles pour éviter les erreurs de calcul\n",
    "    proba_non_nulles = freq[freq > 0]\n",
    "\n",
    "    # Calcul de l'entropie\n",
    "    ent = -np.sum(proba_non_nulles * np.log2(proba_non_nulles))\n",
    "    return ent"
   ]
  },
  {
   "cell_type": "markdown",
   "metadata": {},
   "source": [
    "Q: en utilisant ce modèle probabiliste pour générer un mot de passe, quelle est l'entropie d'un mot de passe de 8 lettres ?"
   ]
  },
  {
   "cell_type": "code",
   "execution_count": 54,
   "metadata": {},
   "outputs": [
    {
     "data": {
      "text/plain": [
       "31.676242429778334"
      ]
     },
     "execution_count": 54,
     "metadata": {},
     "output_type": "execute_result"
    }
   ],
   "source": [
    "entropie_mono_8 = entropie(monogramme['frequency'])*8\n",
    "print(f\"L'entropie d'un mot de passe de 8 lettres est de : {entropie_mono_8:.3f} bits.\")\n"
   ]
  },
  {
   "cell_type": "markdown",
   "metadata": {},
   "source": [
    "Q: A l'aide de la fonction `np.random.choice()`, estimer le temps nécessaire en secondes pour tirer 100 000 mots de passes en utilisant ce générateur ? (note: ici le tirage n'est pas forcemment réaliste, car aléatoire, mais l'idée est surtout de mesurer le temps minimal nécessaire pour générer N mots de passes)."
   ]
  },
  {
   "cell_type": "code",
   "execution_count": 85,
   "metadata": {},
   "outputs": [
    {
     "name": "stdout",
     "output_type": "stream",
     "text": [
      "Temps total pour générer 100 000 mots de passe de 8 lettres (monogrammes): 0.144 secondes.\n"
     ]
    }
   ],
   "source": [
    "# Génère plusieurs mots de passe en utilisant des monogrammes de manière optimisée.\n",
    "\n",
    "def generer_mdp_mono(n_lettres, monogrammes, frequences, nb_mdp):\n",
    "    # Génération de tous les monogrammes nécessaires en une seule opération\n",
    "    all_monogrammes = np.random.choice(monogrammes, n_lettres * nb_mdp, p=frequences)\n",
    "\n",
    "    # Regroupement des monogrammes en mots de passe\n",
    "    mots_passe = [''.join(all_monogrammes[i:i + n_lettres]) for i in range(0, n_lettres * nb_mdp, n_lettres)]\n",
    "    return mots_passe\n",
    "\n",
    "nb_lettres = 8\n",
    "nb_mdp = 100000\n",
    "\n",
    "t = time.time()\n",
    "mots_de_passe_mono = generer_mdp_mono(8, letters_mono, freq_mono, nb_mdp)\n",
    "t_mono_100000 = time.time() - t\n",
    "#print(mots_de_passe_mono)\n",
    "print(f\"Temps total pour générer 100 000 mots de passe de 8 lettres (monogrammes): {t_mono_100000:.3f} secondes.\")\n"
   ]
  },
  {
   "cell_type": "markdown",
   "metadata": {},
   "source": [
    "Nous definissons l'\"entropie du devin\" G (guessing entropie) comme le **nombre moyen d'essais successif nécessaires pour trouver un mot de passe à partir de notre générateur**.\n",
    "    On peut montrer que $G\\geq 2^H/4+1$ où $H$ est l'entropie de la source (voir le papier Password_Entropy_and_Password_Quality.pdf )"
   ]
  },
  {
   "cell_type": "markdown",
   "metadata": {},
   "source": [
    "Q: calculer le minorant de $G$ pour ce modèle"
   ]
  },
  {
   "cell_type": "code",
   "execution_count": 86,
   "metadata": {},
   "outputs": [
    {
     "name": "stdout",
     "output_type": "stream",
     "text": [
      "Le minorant de G pour les monogrammes est d'environ 857904864.68 essais.\n"
     ]
    }
   ],
   "source": [
    "G_minorant_mono = 2**entropie_mono_8 / 4 + 1\n",
    "print(f\"Le minorant de G pour les monogrammes est d'environ {G_minorant_mono:.2f} essais.\")\n"
   ]
  },
  {
   "cell_type": "markdown",
   "metadata": {},
   "source": [
    "> En moyenne, un minimum d'environ 858 millions d'essais successifs seraient nécessaires pour trouver un mot de passe généré par ce modèle, en utilisant une stratégie d'attaque optimale. \n",
    ">\n",
    "> Ce calcul illustre la difficulté théorique de deviner un mot de passe généré par ce système, en se basant sur son entropie."
   ]
  },
  {
   "cell_type": "markdown",
   "metadata": {},
   "source": [
    "Q: combien de temps cela prendra-t-il pour trouver un mot de passe si l'on suppose qu'il est possible de prendre le générateur codé précédemment ? (en minutes)"
   ]
  },
  {
   "cell_type": "code",
   "execution_count": 87,
   "metadata": {},
   "outputs": [
    {
     "name": "stdout",
     "output_type": "stream",
     "text": [
      "Temps total estimé pour trouver un mot de passe (monogrammes) : 18.12 minutes\n"
     ]
    }
   ],
   "source": [
    "# Calcul du temps nécessaire pour trouver un mot de passe en se basant sur le minorant de G et sur le temps pris pour générer 100000 mots de passe\n",
    "\n",
    "# Estimation du temps pour un seul mot de passe\n",
    "temps_1_mdp = t_mono_100000 / nb_mdp\n",
    "\n",
    "# Temps total estimé pour trouver un mot de passe (en secondes)\n",
    "temps_total_pour_trouver_mdp = G_minorant_mono * temps_1_mdp\n",
    "\n",
    "# Convertir le temps en minutes\n",
    "temps_total_pour_trouver_mdp_minutes = temps_total_pour_trouver_mdp / 60\n",
    "\n",
    "print(f\"Temps total estimé pour trouver un mot de passe (monogrammes) : {temps_total_pour_trouver_mdp_minutes:.2f} minutes\")"
   ]
  },
  {
   "cell_type": "markdown",
   "metadata": {},
   "source": [
    "On propose maintenant d'utiliser un modèle plus évolué qui est construit à partir de la probabilité conjointe de deux lettres successives (bigramme)"
   ]
  },
  {
   "cell_type": "code",
   "execution_count": 88,
   "metadata": {},
   "outputs": [],
   "source": [
    "\n",
    "bigramme = read_csv('bigramme.csv',keep_default_na=False)\n",
    "freq_bi = (bigramme['frequency']).values\n",
    "letters_bi = (bigramme['letters']).values"
   ]
  },
  {
   "cell_type": "markdown",
   "metadata": {},
   "source": [
    "Q: Quelles sont les 5 couples de lettres les plus représentés ?"
   ]
  },
  {
   "cell_type": "code",
   "execution_count": 89,
   "metadata": {},
   "outputs": [
    {
     "data": {
      "text/html": [
       "<div>\n",
       "<style scoped>\n",
       "    .dataframe tbody tr th:only-of-type {\n",
       "        vertical-align: middle;\n",
       "    }\n",
       "\n",
       "    .dataframe tbody tr th {\n",
       "        vertical-align: top;\n",
       "    }\n",
       "\n",
       "    .dataframe thead th {\n",
       "        text-align: right;\n",
       "    }\n",
       "</style>\n",
       "<table border=\"1\" class=\"dataframe\">\n",
       "  <thead>\n",
       "    <tr style=\"text-align: right;\">\n",
       "      <th></th>\n",
       "      <th>letters</th>\n",
       "      <th>frequency</th>\n",
       "    </tr>\n",
       "  </thead>\n",
       "  <tbody>\n",
       "    <tr>\n",
       "      <th>122</th>\n",
       "      <td>ES</td>\n",
       "      <td>0.023809</td>\n",
       "    </tr>\n",
       "    <tr>\n",
       "      <th>117</th>\n",
       "      <td>EN</td>\n",
       "      <td>0.021248</td>\n",
       "    </tr>\n",
       "    <tr>\n",
       "      <th>82</th>\n",
       "      <td>DE</td>\n",
       "      <td>0.019570</td>\n",
       "    </tr>\n",
       "    <tr>\n",
       "      <th>290</th>\n",
       "      <td>LE</td>\n",
       "      <td>0.018845</td>\n",
       "    </tr>\n",
       "    <tr>\n",
       "      <th>357</th>\n",
       "      <td>NT</td>\n",
       "      <td>0.017009</td>\n",
       "    </tr>\n",
       "  </tbody>\n",
       "</table>\n",
       "</div>"
      ],
      "text/plain": [
       "    letters  frequency\n",
       "122      ES   0.023809\n",
       "117      EN   0.021248\n",
       "82       DE   0.019570\n",
       "290      LE   0.018845\n",
       "357      NT   0.017009"
      ]
     },
     "execution_count": 89,
     "metadata": {},
     "output_type": "execute_result"
    }
   ],
   "source": [
    "# Contrairement aux monogrames, les fréquences ne sont pas triés \n",
    "bigramme.sort_values(by=['frequency'], ascending=False).head()\n"
   ]
  },
  {
   "cell_type": "markdown",
   "metadata": {},
   "source": [
    "Q: en utilisant ce modèle probabiliste pour générer un mot de passe, quelle est l'entropie d'un mot de passe de 8 lettres ?"
   ]
  },
  {
   "cell_type": "code",
   "execution_count": 90,
   "metadata": {},
   "outputs": [
    {
     "name": "stdout",
     "output_type": "stream",
     "text": [
      "L'entropie d'un mot de passe de 8 lettres est de : 30.142 bits.\n"
     ]
    }
   ],
   "source": [
    "# Calcul de l'entropie pour un mot de passe de 8 lettres contenant donc 4 bigrammes\n",
    "entropie_bi_8  = entropie(freq_bi) * 4\n",
    "\n",
    "print(f\"L'entropie d'un mot de passe de 8 lettres est de : {entropie_bi_8:.3f} bits.\")\n",
    "\n"
   ]
  },
  {
   "cell_type": "markdown",
   "metadata": {},
   "source": [
    "Q: Pourquoi cette entropie est-elle inférieure à celle du modèle construit sur des monogrammes ? Quelle propriété théorique de l'entropie peut justifier ce constat  ?\n"
   ]
  },
  {
   "cell_type": "markdown",
   "metadata": {},
   "source": [
    "# WARNING \n",
    "\n",
    "> Dans le modèle de bigrammes, la probabilité de chaque lettre dépend de la lettre précédente. Cette dépendance réduit la variabilité et l'imprévisibilité par rapport aux monogrammes, où chaque lettre est choisie indépendamment. Moins de variabilité signifie moins d'entropie.\n",
    ">\n",
    "> L'entropie est une mesure de l'incertitude ou de l'imprévisibilité. Dans le cas des bigrammes, l'entropie mesure l'incertitude de deux lettres consécutives. Si certaines combinaisons de lettres sont beaucoup plus probables que d'autres, cela réduit l'incertitude globale par rapport à un modèle où chaque lettre est choisie indépendamment et avec une distribution de probabilité plus uniforme.\n",
    ">\n",
    ">  Pour les monogrammes, si chaque lettre a une probabilité relativement égale d'être choisie, cela maximise l'entropie. En revanche, pour les bigrammes, la distribution des probabilités n'est pas aussi uniforme en raison des fréquences relatives des différentes paires de lettres, ce qui entraîne une entropie globalement inférieure."
   ]
  },
  {
   "cell_type": "markdown",
   "metadata": {},
   "source": [
    "Q: A l'aide de la fonction `np.random.choice()`, calculer le temps nécessaire en secondes pour tirer 100 000 mots de passes en utilisant ce générateur ?"
   ]
  },
  {
   "cell_type": "code",
   "execution_count": 91,
   "metadata": {},
   "outputs": [
    {
     "name": "stdout",
     "output_type": "stream",
     "text": [
      "Temps total pour générer 100 000 mots de passe de 8 lettres (monogrammes): 0.127 secondes.\n"
     ]
    }
   ],
   "source": [
    "# Génère plusieurs mots de passe en utilisant des monogrammes de manière optimisée.\n",
    "\n",
    "def generer_mdp_mono(n_lettres, monogrammes, frequences, nb_mdp):\n",
    "    # Génération de tous les monogrammes nécessaires en une seule opération\n",
    "    all_monogrammes = np.random.choice(monogrammes, n_lettres * nb_mdp, p=frequences)\n",
    "\n",
    "    # Regroupement des monogrammes en mots de passe\n",
    "    mots_passe = [''.join(all_monogrammes[i:i + n_lettres]) for i in range(0, n_lettres * nb_mdp, n_lettres)]\n",
    "    return mots_passe\n",
    "\n",
    "nb_lettres = 4\n",
    "nb_mdp = 100000\n",
    "\n",
    "t = time.time()\n",
    "mots_de_passe_bi = generer_mdp_mono(4, letters_bi, freq_bi, nb_mdp)\n",
    "t_bi_100000 = time.time() - t\n",
    "#print(mots_de_passe_bi)\n",
    "print(f\"Temps total pour générer 100 000 mots de passe de 8 lettres (bigrammes): {t_bi_100000:.3f} secondes.\")"
   ]
  },
  {
   "cell_type": "markdown",
   "metadata": {},
   "source": [
    "Q: calculer le minorant de $G$ pour ce modèle"
   ]
  },
  {
   "cell_type": "code",
   "execution_count": 92,
   "metadata": {},
   "outputs": [
    {
     "name": "stdout",
     "output_type": "stream",
     "text": [
      "Le minorant de G pour les bigrammes est d'environ 296254956.70 essais.\n"
     ]
    }
   ],
   "source": [
    "H_bigramme = entropie_bi_8\n",
    "G_minorant_bi = (2**H_bigramme)/4 + 1\n",
    "print(f\"Le minorant de G pour les bigrammes est d'environ {G_minorant_bi:.2f} essais.\")\n"
   ]
  },
  {
   "cell_type": "markdown",
   "metadata": {},
   "source": [
    "> En moyenne, un minimum d'environ 296 millions d'essais successifs seraient nécessaires pour trouver un mot de passe généré par ce modèle, en utilisant une stratégie d'attaque optimale. \n",
    ">\n",
    "> Ce calcul illustre la difficulté théorique de deviner un mot de passe généré par ce système, en se basant sur son entropie."
   ]
  },
  {
   "cell_type": "markdown",
   "metadata": {},
   "source": [
    "Q: combien de temps cela prendra-t-il pour trouver un mot de passe si l'on suppose qu'il est possible de prendre le générateur codé précédemment ? (en minutes)"
   ]
  },
  {
   "cell_type": "code",
   "execution_count": 93,
   "metadata": {},
   "outputs": [
    {
     "name": "stdout",
     "output_type": "stream",
     "text": [
      "Temps total estimé pour trouver un mot de passe (bigrammes) : 6.26 minutes\n"
     ]
    }
   ],
   "source": [
    "# Calcul du temps nécessaire pour trouver un mot de passe en se basant sur le minorant de G et sur le temps pris pour générer 100000 mots de passe\n",
    "\n",
    "# Estimation du temps pour un seul mot de passe\n",
    "temps_1_mdp = t_bi_100000 / nb_mdp\n",
    "\n",
    "# Temps total estimé pour trouver un mot de passe (en secondes)\n",
    "temps_total_pour_trouver_mdp = G_minorant_bi * temps_1_mdp\n",
    "\n",
    "# Convertir le temps en minutes\n",
    "temps_total_pour_trouver_mdp_minutes = temps_total_pour_trouver_mdp / 60\n",
    "\n",
    "print(f\"Temps total estimé pour trouver un mot de passe (bigrammes) : {temps_total_pour_trouver_mdp_minutes:.2f} minutes\")"
   ]
  },
  {
   "cell_type": "markdown",
   "metadata": {},
   "source": [
    "Q: **Modèle Uniforme:** si maintenant on change de stratégie et on tire aléatoirement chaque lettre de l'alphabet de façon uniforme, quelle est l'entropie de ce nouveau générateur ?"
   ]
  },
  {
   "cell_type": "code",
   "execution_count": 94,
   "metadata": {},
   "outputs": [
    {
     "data": {
      "text/plain": [
       "4.700439718141092"
      ]
     },
     "execution_count": 94,
     "metadata": {},
     "output_type": "execute_result"
    }
   ],
   "source": [
    "import math\n",
    "n_letters = 26\n",
    "entropy_uniform_model = math.log2(n_letters)\n",
    "entropy_uniform_model"
   ]
  },
  {
   "cell_type": "markdown",
   "metadata": {},
   "source": [
    "Q: A l'aide de la fonction `np.random.choice()`, calculer le temps nécessaire en secondes pour tirer 100 000 mots de passes en utilisant ce générateur ?"
   ]
  },
  {
   "cell_type": "code",
   "execution_count": 97,
   "metadata": {},
   "outputs": [
    {
     "name": "stdout",
     "output_type": "stream",
     "text": [
      "Time taken to generate 100000 passwords of length 8: 1.37 seconds\n"
     ]
    }
   ],
   "source": [
    "def generate_passwords(n_passwords, password_length):\n",
    "    alphabet = list('ABCDEFGHIJKLMNOPQRSTUVWXYZ')  \n",
    "    for _ in range(n_passwords):\n",
    "        password = np.random.choice(alphabet, size=password_length)\n",
    "    return  password\n",
    "\n",
    "# Example usage\n",
    "n_passwords = 100000\n",
    "password_length = 8\n",
    "start_time = time.time()  # Start timing\n",
    "passwords = generate_passwords(n_passwords, password_length)\n",
    "t_uni_100000 = time.time()  - start_time  \n",
    "print(f\"Time taken to generate {n_passwords} passwords of length {password_length}: {t_uni_100000:.2f} seconds\")"
   ]
  },
  {
   "cell_type": "markdown",
   "metadata": {},
   "source": [
    "Q: calculer le minorant de $G$ pour ce modèle"
   ]
  },
  {
   "cell_type": "code",
   "execution_count": 18,
   "metadata": {},
   "outputs": [],
   "source": [
    "# TO DO"
   ]
  },
  {
   "cell_type": "markdown",
   "metadata": {},
   "source": [
    "Q: dans ce cas précis, quelle est la valeur exacte de $G$?"
   ]
  },
  {
   "cell_type": "code",
   "execution_count": 98,
   "metadata": {},
   "outputs": [
    {
     "data": {
      "text/plain": [
       "37.603517745128734"
      ]
     },
     "execution_count": 98,
     "metadata": {},
     "output_type": "execute_result"
    }
   ],
   "source": [
    "password_length_example = 8\n",
    "G_value = math.log2(26 ** password_length_example)\n",
    "G_value"
   ]
  },
  {
   "cell_type": "markdown",
   "metadata": {},
   "source": [
    "Q: combien de temps cela prendra-t-il pour trouver un mot de passe en utilisant le générateur codé précédemment ? (en minutes)"
   ]
  },
  {
   "cell_type": "code",
   "execution_count": 20,
   "metadata": {},
   "outputs": [],
   "source": [
    "# TO DO"
   ]
  },
  {
   "cell_type": "markdown",
   "metadata": {},
   "source": [
    "Q: implémenter une attaque pratique qui consiste à:\n",
    "1. **pour le défenseur: (la personne qui génère le mot de passe)** tirer un mot de passe de 4 lettres consécutives à partir de ce texte de Victor Hugo (texteFrancais.txt) tiré des Misérables.  \n",
    "2. **pour l'attaquant:** utiliser le modèle bigramme pour générer des mots de passe et minimiser le nombre d'essais. Pour cela on pourra :\n",
    "    * dans un premier temps pré-calculer un **dictionnaire**, qui contriendra un nombre de MdP générés classés dans l'ordre du plus probable au moins probable et qui ne contient pas de doublons \n",
    "    * dans un deuxième temps appeler ce dictionnaire pour comparer chacune de ses entrées au mot de passe généré.\n",
    "3. Il faudra faire ses tests plusieurs fois afin de d'obtenir un nombre moyens d'appel au dictionnaire nécessaire\n",
    "4. Il sera intéressant de comparer le nombre trouvé à la valeur de G (qui est une borne inférieure)\n",
    "5. Question annexe: Par un simple calcul, si le générateur utilisé n'est plus ce générateur mais un générateur qui tire chaque lettre de façon équiprobable, rappeler la valeur de G. Comparer cette valeur avec la valeur trouvée en utilisant la stratégie \"des 4 lettres consécutives\"."
   ]
  },
  {
   "cell_type": "code",
   "execution_count": 21,
   "metadata": {},
   "outputs": [],
   "source": [
    "## Fonction générant un mot de passe\n",
    "def get_passwd():\n",
    "    text_hugo = open(\"texteFrancais.txt\",\"r\")\n",
    "    str_hugo = str(text_hugo.read())\n",
    "\n",
    "    # On remplace des lettres avec accent avec des lettres sans accent\n",
    "    str_hugo = str_hugo.replace(\"Â\", \"A\")\n",
    "    str_hugo = str_hugo.replace(\"Ù\", \"U\")\n",
    "    str_hugo = str_hugo.replace(\"Ô\", \"O\")\n",
    "    size_txt = len(str_hugo)\n",
    "\n",
    "    idx_rand = np.random.randint(size_txt-4)\n",
    "    #print(idx_rand)\n",
    "\n",
    "    psswd = str_hugo[idx_rand:idx_rand+4]\n",
    "    return(psswd)"
   ]
  },
  {
   "cell_type": "code",
   "execution_count": 22,
   "metadata": {},
   "outputs": [],
   "source": [
    "# Génération du dictionnaire\n",
    "tab_passwd = []\n",
    "# To do ..."
   ]
  },
  {
   "cell_type": "code",
   "execution_count": 23,
   "metadata": {},
   "outputs": [],
   "source": [
    "# Calcul des fréquences d'apparition de  chaque mot du dictionnaire\n",
    "\n",
    "# To do\n"
   ]
  },
  {
   "cell_type": "code",
   "execution_count": 24,
   "metadata": {},
   "outputs": [],
   "source": [
    "# Tri des fréquences d'apparition"
   ]
  },
  {
   "cell_type": "code",
   "execution_count": 25,
   "metadata": {},
   "outputs": [],
   "source": [
    "# Attaques sur 1000 mots de passes\n",
    "\n",
    "nb_trial = 1000\n",
    "vec_nb_trials = np.zeros(nb_trial)\n",
    "tab_passwd = np.array(tab_passwd)\n",
    "\n",
    "# To do"
   ]
  },
  {
   "cell_type": "code",
   "execution_count": 26,
   "metadata": {},
   "outputs": [],
   "source": [
    "# Comparaison avec la valeur de G\n",
    "\n",
    "# To do"
   ]
  },
  {
   "cell_type": "markdown",
   "metadata": {},
   "source": [
    "## Conclusions \n",
    "\n",
    "- Définir des bonnes pratiques pour le défenseur, i.e. la personne cherchant à concevoir un système de génération de mots de passe ? \n",
    "- Définior des bonnes pratiques pour l'attaquant, i.e. la personne essayant de trouver le mot de passe ?"
   ]
  },
  {
   "cell_type": "markdown",
   "metadata": {},
   "source": [
    "**To do**"
   ]
  },
  {
   "cell_type": "markdown",
   "metadata": {},
   "source": [
    "## Un peu de lecture\n",
    "Cet article montre comment des hackers, à partir de leaks de bases de mots de passes, peuvent rapidement arriver à trouver le votre:\n",
    "https://arstechnica.com/information-technology/2013/05/how-crackers-make-minced-meat-out-of-your-passwords/\n"
   ]
  }
 ],
 "metadata": {
  "kernelspec": {
   "display_name": "Python 3",
   "language": "python",
   "name": "python3"
  },
  "language_info": {
   "codemirror_mode": {
    "name": "ipython",
    "version": 3
   },
   "file_extension": ".py",
   "mimetype": "text/x-python",
   "name": "python",
   "nbconvert_exporter": "python",
   "pygments_lexer": "ipython3",
   "version": "3.9.12"
  }
 },
 "nbformat": 4,
 "nbformat_minor": 2
}
