{
 "cells": [
  {
   "cell_type": "markdown",
   "metadata": {},
   "source": [
    "> Noms du binome: BENICHOU - BONNEFOY\n",
    ">\n",
    "> Prénoms du binome: Yaniv - Nicolas\n",
    ">\n",
    "> Note: exporter le compte rendu basé sur le notebook au format pdf\n"
   ]
  },
  {
   "cell_type": "markdown",
   "metadata": {},
   "source": [
    "# Entropie et génération de mots de passe\n",
    "* L'objectif de ce tp est de continuer à se familiariser avec la notion d'entropie, mais aussi de comprendre le lien qu'il existe entre cette mesure informationelle et la sécurité d'un générateur (humain ou executable) de mots de passes\n",
    "* Ainsi, nous proposons d'étudier l'entropie d'un tel générateur, et ce en fonction du modèle probabiliste considéré pour le modéliser (contruit à partir d'une lettre, de deux lettres, de 4 lettres, ...). A l'aide de tirrages aléatoires, nous estimerons également le temps moyen nécessaire pour trouver un mot de passe à partir de ce modèle.\n",
    "* A la fin de ce TP, nous considérerons un générateur de mots de passe spécifique qui générera un mot de passe en prennant **4 lettres consécutives dans un texte** (sans se soucier des espaces). Ces lettres peuvent faire parti d'un ou de plusieurs mots consécutifs.\n",
    "* Nous faisons l'hypothèse que le texte n'est composé que des 26 lettres de l'alphabet, sans majuscules ni accents\n",
    "\n",
    "Nous chercherons aussi à comprendre (voir dernière question):\n",
    "- les bonnes pratiques pour le défenseur, i.e. la personne cherchant à générer/construire un système de génération de mots de passe.\n",
    "- les bonnes pratiques pour l'attaquant, i.e. la personne essayant de trouver le mot de passe.\n",
    "\n",
    "**Il est important de commenter vos réponses, en utilisant des cellules markdown**\n"
   ]
  },
  {
   "cell_type": "code",
   "execution_count": 41,
   "metadata": {},
   "outputs": [],
   "source": [
    "import numpy as np\n",
    "\n",
    "from numpy import genfromtxt\n",
    "from pandas import read_csv\n",
    "import pandas as pd\n",
    "import time"
   ]
  },
  {
   "cell_type": "markdown",
   "metadata": {},
   "source": [
    "#### Modèle monogramme (une lettre) : le générateur génère des mots de passe à partir des occurences des monogrammes\n",
    "* On récupére des données composées de [lettre,frequence d'apparition de la lettre] (voir fichier csv pour [comma-separated-value](https://en.wikipedia.org/wiki/Comma-separated_values)) "
   ]
  },
  {
   "cell_type": "code",
   "execution_count": 42,
   "metadata": {},
   "outputs": [
    {
     "name": "stdout",
     "output_type": "stream",
     "text": [
      "   letters  frequency\n",
      "0        E     0.1776\n",
      "1        S     0.0823\n",
      "2        A     0.0768\n",
      "3        N     0.0761\n",
      "4        T     0.0730\n",
      "5        I     0.0723\n",
      "6        R     0.0681\n",
      "7        U     0.0605\n",
      "8        L     0.0589\n",
      "9        O     0.0534\n",
      "10       D     0.0360\n",
      "11       C     0.0332\n",
      "12       P     0.0324\n",
      "13       M     0.0272\n",
      "14       Q     0.0134\n",
      "15       V     0.0127\n",
      "16       G     0.0110\n",
      "17       F     0.0106\n",
      "18       B     0.0080\n",
      "19       H     0.0064\n",
      "20       X     0.0054\n",
      "21       Y     0.0021\n",
      "22       J     0.0019\n",
      "23       Z     0.0007\n",
      "24       K     0.0000\n",
      "25       W     0.0000\n"
     ]
    }
   ],
   "source": [
    "import pandas as pd\n",
    "monogramme = pd.read_csv('monogramme.csv')\n",
    "freq_mono = (monogramme['frequency']).values\n",
    "letters_mono = (monogramme['letters']).values\n",
    "print(monogramme)"
   ]
  },
  {
   "cell_type": "markdown",
   "metadata": {},
   "source": [
    "Q: Quelles sont les 5 lettres les plus représentées ?"
   ]
  },
  {
   "cell_type": "code",
   "execution_count": 43,
   "metadata": {},
   "outputs": [
    {
     "data": {
      "text/html": [
       "<div>\n",
       "<style scoped>\n",
       "    .dataframe tbody tr th:only-of-type {\n",
       "        vertical-align: middle;\n",
       "    }\n",
       "\n",
       "    .dataframe tbody tr th {\n",
       "        vertical-align: top;\n",
       "    }\n",
       "\n",
       "    .dataframe thead th {\n",
       "        text-align: right;\n",
       "    }\n",
       "</style>\n",
       "<table border=\"1\" class=\"dataframe\">\n",
       "  <thead>\n",
       "    <tr style=\"text-align: right;\">\n",
       "      <th></th>\n",
       "      <th>letters</th>\n",
       "      <th>frequency</th>\n",
       "    </tr>\n",
       "  </thead>\n",
       "  <tbody>\n",
       "    <tr>\n",
       "      <th>0</th>\n",
       "      <td>E</td>\n",
       "      <td>0.1776</td>\n",
       "    </tr>\n",
       "    <tr>\n",
       "      <th>1</th>\n",
       "      <td>S</td>\n",
       "      <td>0.0823</td>\n",
       "    </tr>\n",
       "    <tr>\n",
       "      <th>2</th>\n",
       "      <td>A</td>\n",
       "      <td>0.0768</td>\n",
       "    </tr>\n",
       "    <tr>\n",
       "      <th>3</th>\n",
       "      <td>N</td>\n",
       "      <td>0.0761</td>\n",
       "    </tr>\n",
       "    <tr>\n",
       "      <th>4</th>\n",
       "      <td>T</td>\n",
       "      <td>0.0730</td>\n",
       "    </tr>\n",
       "  </tbody>\n",
       "</table>\n",
       "</div>"
      ],
      "text/plain": [
       "  letters  frequency\n",
       "0       E     0.1776\n",
       "1       S     0.0823\n",
       "2       A     0.0768\n",
       "3       N     0.0761\n",
       "4       T     0.0730"
      ]
     },
     "execution_count": 43,
     "metadata": {},
     "output_type": "execute_result"
    }
   ],
   "source": [
    "monogramme.head()"
   ]
  },
  {
   "cell_type": "markdown",
   "metadata": {},
   "source": [
    "Ecrire une fonction qui calcule l'entropie à partir d'un vecteur constitué de probabilités empiriques (note, il est important de bien *gérer* le cas ou la probabilité est nulle)."
   ]
  },
  {
   "cell_type": "code",
   "execution_count": 44,
   "metadata": {},
   "outputs": [],
   "source": [
    "def entropie(freq):\n",
    "    # Filtrer les probabilités nulles pour éviter les erreurs de calcul\n",
    "    proba_non_nulles = freq[freq > 0]\n",
    "\n",
    "    # Calcul de l'entropie\n",
    "    ent = -np.sum(proba_non_nulles * np.log2(proba_non_nulles))\n",
    "    return ent"
   ]
  },
  {
   "cell_type": "markdown",
   "metadata": {},
   "source": [
    "Q: en utilisant ce modèle probabiliste pour générer un mot de passe, quelle est l'entropie d'un mot de passe de 8 lettres ?"
   ]
  },
  {
   "cell_type": "code",
   "execution_count": 45,
   "metadata": {},
   "outputs": [
    {
     "name": "stdout",
     "output_type": "stream",
     "text": [
      "L'entropie d'un mot de passe de 8 lettres est de : 31.676 bits.\n"
     ]
    }
   ],
   "source": [
    "entropie_mono_8 = entropie(monogramme['frequency'])*8\n",
    "print(f\"L'entropie d'un mot de passe de 8 lettres est de : {entropie_mono_8:.3f} bits.\")\n"
   ]
  },
  {
   "cell_type": "markdown",
   "metadata": {},
   "source": [
    "Q: A l'aide de la fonction `np.random.choice()`, estimer le temps nécessaire en secondes pour tirer 100 000 mots de passes en utilisant ce générateur ? (note: ici le tirage n'est pas forcemment réaliste, car aléatoire, mais l'idée est surtout de mesurer le temps minimal nécessaire pour générer N mots de passes)."
   ]
  },
  {
   "cell_type": "code",
   "execution_count": 46,
   "metadata": {},
   "outputs": [
    {
     "name": "stdout",
     "output_type": "stream",
     "text": [
      "Temps total pour générer 100 000 mots de passe de 8 lettres (monogrammes): 0.171 secondes.\n",
      "On serait beaucoup plus efficace et rapide si on ne faisait pas le .join mais les mots de passes seraient moins réalistes dans ce cas.\n"
     ]
    }
   ],
   "source": [
    "# Génère plusieurs mots de passe en utilisant des monogrammes de manière optimisée.\n",
    "\n",
    "def generer_mdp_mono(n_lettres, monogrammes, frequences, nb_mdp):\n",
    "    # Génération de tous les monogrammes nécessaires en une seule opération\n",
    "    all_monogrammes = np.random.choice(monogrammes, n_lettres * nb_mdp, p=frequences)\n",
    "\n",
    "    # Regroupement des monogrammes en mots de passe\n",
    "    mots_passe = [''.join(all_monogrammes[i:i + n_lettres]) for i in range(0, n_lettres * nb_mdp, n_lettres)]\n",
    "    return mots_passe\n",
    "\n",
    "nb_lettres = 8\n",
    "nb_mdp = 100000\n",
    "\n",
    "t = time.time()\n",
    "mots_de_passe_mono = generer_mdp_mono(8, letters_mono, freq_mono, nb_mdp)\n",
    "t_mono_100000 = time.time() - t\n",
    "#print(mots_de_passe_mono)\n",
    "print(f\"Temps total pour générer 100 000 mots de passe de 8 lettres (monogrammes): {t_mono_100000:.3f} secondes.\")\n",
    "print(\"On serait beaucoup plus efficace et rapide si on ne faisait pas le .join mais les mots de passes seraient moins réalistes dans ce cas.\")"
   ]
  },
  {
   "cell_type": "markdown",
   "metadata": {},
   "source": [
    "Nous definissons l'\"entropie du devin\" G (guessing entropie) comme le **nombre moyen d'essais successif nécessaires pour trouver un mot de passe à partir de notre générateur**.\n",
    "    On peut montrer que $G\\geq 2^H/4+1$ où $H$ est l'entropie de la source (voir le papier Password_Entropy_and_Password_Quality.pdf )"
   ]
  },
  {
   "cell_type": "markdown",
   "metadata": {},
   "source": [
    "Q: calculer le minorant de $G$ pour ce modèle"
   ]
  },
  {
   "cell_type": "code",
   "execution_count": 47,
   "metadata": {},
   "outputs": [
    {
     "name": "stdout",
     "output_type": "stream",
     "text": [
      "Le minorant de G pour les monogrammes est d'environ 857904864.68 essais.\n"
     ]
    }
   ],
   "source": [
    "G_minorant_mono = 2**entropie_mono_8 / 4 + 1\n",
    "print(f\"Le minorant de G pour les monogrammes est d'environ {G_minorant_mono:.2f} essais.\")\n"
   ]
  },
  {
   "cell_type": "markdown",
   "metadata": {},
   "source": [
    "> En moyenne, un minimum d'environ 858 millions d'essais successifs seraient nécessaires pour trouver un mot de passe généré par ce modèle, en utilisant une stratégie d'attaque optimale. \n",
    ">\n",
    "> Ce calcul illustre la difficulté théorique de deviner un mot de passe généré par ce système, en se basant sur son entropie."
   ]
  },
  {
   "cell_type": "markdown",
   "metadata": {},
   "source": [
    "Q: combien de temps cela prendra-t-il pour trouver un mot de passe si l'on suppose qu'il est possible de prendre le générateur codé précédemment ? (en minutes)"
   ]
  },
  {
   "cell_type": "code",
   "execution_count": 48,
   "metadata": {},
   "outputs": [
    {
     "name": "stdout",
     "output_type": "stream",
     "text": [
      "Temps total estimé pour trouver un mot de passe (monogrammes) : 24.38 minutes\n"
     ]
    }
   ],
   "source": [
    "# Calcul du temps nécessaire pour trouver un mot de passe en se basant sur le minorant de G et sur le temps pris pour générer 100000 mots de passe\n",
    "\n",
    "# Estimation du temps pour un seul mot de passe\n",
    "temps_1_mdp = t_mono_100000 / nb_mdp\n",
    "\n",
    "# Temps total estimé pour trouver un mot de passe (en secondes)\n",
    "temps_total_pour_trouver_mdp = G_minorant_mono * temps_1_mdp\n",
    "\n",
    "# Convertir le temps en minutes\n",
    "temps_total_pour_trouver_mdp_minutes = temps_total_pour_trouver_mdp / 60\n",
    "\n",
    "print(f\"Temps total estimé pour trouver un mot de passe (monogrammes) : {temps_total_pour_trouver_mdp_minutes:.2f} minutes\")"
   ]
  },
  {
   "cell_type": "markdown",
   "metadata": {},
   "source": [
    "On propose maintenant d'utiliser un modèle plus évolué qui est construit à partir de la probabilité conjointe de deux lettres successives (bigramme)"
   ]
  },
  {
   "cell_type": "code",
   "execution_count": 49,
   "metadata": {},
   "outputs": [],
   "source": [
    "\n",
    "bigramme = read_csv('bigramme.csv',keep_default_na=False)\n",
    "freq_bi = (bigramme['frequency']).values\n",
    "letters_bi = (bigramme['letters']).values"
   ]
  },
  {
   "cell_type": "markdown",
   "metadata": {},
   "source": [
    "Q: Quelles sont les 5 couples de lettres les plus représentés ?"
   ]
  },
  {
   "cell_type": "code",
   "execution_count": 50,
   "metadata": {},
   "outputs": [
    {
     "data": {
      "text/html": [
       "<div>\n",
       "<style scoped>\n",
       "    .dataframe tbody tr th:only-of-type {\n",
       "        vertical-align: middle;\n",
       "    }\n",
       "\n",
       "    .dataframe tbody tr th {\n",
       "        vertical-align: top;\n",
       "    }\n",
       "\n",
       "    .dataframe thead th {\n",
       "        text-align: right;\n",
       "    }\n",
       "</style>\n",
       "<table border=\"1\" class=\"dataframe\">\n",
       "  <thead>\n",
       "    <tr style=\"text-align: right;\">\n",
       "      <th></th>\n",
       "      <th>letters</th>\n",
       "      <th>frequency</th>\n",
       "    </tr>\n",
       "  </thead>\n",
       "  <tbody>\n",
       "    <tr>\n",
       "      <th>122</th>\n",
       "      <td>ES</td>\n",
       "      <td>0.023809</td>\n",
       "    </tr>\n",
       "    <tr>\n",
       "      <th>117</th>\n",
       "      <td>EN</td>\n",
       "      <td>0.021248</td>\n",
       "    </tr>\n",
       "    <tr>\n",
       "      <th>82</th>\n",
       "      <td>DE</td>\n",
       "      <td>0.019570</td>\n",
       "    </tr>\n",
       "    <tr>\n",
       "      <th>290</th>\n",
       "      <td>LE</td>\n",
       "      <td>0.018845</td>\n",
       "    </tr>\n",
       "    <tr>\n",
       "      <th>357</th>\n",
       "      <td>NT</td>\n",
       "      <td>0.017009</td>\n",
       "    </tr>\n",
       "  </tbody>\n",
       "</table>\n",
       "</div>"
      ],
      "text/plain": [
       "    letters  frequency\n",
       "122      ES   0.023809\n",
       "117      EN   0.021248\n",
       "82       DE   0.019570\n",
       "290      LE   0.018845\n",
       "357      NT   0.017009"
      ]
     },
     "execution_count": 50,
     "metadata": {},
     "output_type": "execute_result"
    }
   ],
   "source": [
    "# Contrairement aux monogrames, les fréquences ne sont pas triés \n",
    "bigramme.sort_values(by=['frequency'], ascending=False).head()\n"
   ]
  },
  {
   "cell_type": "markdown",
   "metadata": {},
   "source": [
    "Q: en utilisant ce modèle probabiliste pour générer un mot de passe, quelle est l'entropie d'un mot de passe de 8 lettres ?"
   ]
  },
  {
   "cell_type": "code",
   "execution_count": 51,
   "metadata": {},
   "outputs": [
    {
     "name": "stdout",
     "output_type": "stream",
     "text": [
      "L'entropie d'un mot de passe de 8 lettres est de : 30.142 bits.\n"
     ]
    }
   ],
   "source": [
    "# Calcul de l'entropie pour un mot de passe de 8 lettres contenant donc 4 bigrammes\n",
    "entropie_bi_8  = entropie(freq_bi) * 4\n",
    "\n",
    "print(f\"L'entropie d'un mot de passe de 8 lettres est de : {entropie_bi_8:.3f} bits.\")\n"
   ]
  },
  {
   "cell_type": "markdown",
   "metadata": {},
   "source": [
    "Q: Pourquoi cette entropie est-elle inférieure à celle du modèle construit sur des monogrammes ? Quelle propriété théorique de l'entropie peut justifier ce constat  ?\n"
   ]
  },
  {
   "cell_type": "markdown",
   "metadata": {},
   "source": [
    "\n",
    "> Les monogrammes, sélectionnés indépendamment, maximisent la variabilité et l'imprévisibilité, conduisant à une entropie élevée. En revanche, les bigrammes, avec leur dépendance entre lettres consécutives, présentent une variabilité réduite. Bien que les bigrammes offrent plus de combinaisons et une complexité accrue, la distribution inégale des probabilités (certains bigrammes étant plus fréquents que d'autres) diminue l'entropie globale. \n",
    "> \n",
    "> Ainsi, malgré une plus grande complexité théorique des bigrammes, la distribution déséquilibrée des probabilités mène à une entropie inférieure, reflétant une prévisibilité accrue par rapport à un modèle de monogrammes où chaque lettre a une chance relativement égale d'être choisie.\n",
    ">\n",
    "> La propriété théorique de l'entropie qui justifie ce constat est donc la dépendance entre les événements dans le modèle de bigrammes. L'entropie, en tant que mesure de l'incertitude ou de l'imprévisibilité, est influencée par la manière dont les événements (ou les lettres, dans ce cas) sont reliés les uns aux autres.\n",
    ">\n",
    "> De plus, d'après le cours sur l'entropie conditionnelle, on a :\n",
    "> \n",
    "> $H(X) \\leq H(X) + H(Y)$ \n",
    ">\n",
    "> Ainsi, on a $H(X,X) \\leq 2*H(X)$,\n",
    ">\n",
    "> d'où $4*H(X,X) \\leq 8*H(X)$"
   ]
  },
  {
   "cell_type": "markdown",
   "metadata": {},
   "source": [
    "Q: A l'aide de la fonction `np.random.choice()`, calculer le temps nécessaire en secondes pour tirer 100 000 mots de passes en utilisant ce générateur ?"
   ]
  },
  {
   "cell_type": "code",
   "execution_count": 52,
   "metadata": {},
   "outputs": [
    {
     "name": "stdout",
     "output_type": "stream",
     "text": [
      "Temps total pour générer 100 000 mots de passe de 8 lettres (bigrammes): 0.147 secondes.\n"
     ]
    }
   ],
   "source": [
    "# Génère plusieurs mots de passe en utilisant des monogrammes de manière optimisée.\n",
    "\n",
    "def generer_mdp_mono(n_lettres, monogrammes, frequences, nb_mdp):\n",
    "    # Génération de tous les monogrammes nécessaires en une seule opération\n",
    "    all_monogrammes = np.random.choice(monogrammes, n_lettres * nb_mdp, p=frequences)\n",
    "\n",
    "    # Regroupement des monogrammes en mots de passe\n",
    "    mots_passe = [''.join(all_monogrammes[i:i + n_lettres]) for i in range(0, n_lettres * nb_mdp, n_lettres)]\n",
    "    return mots_passe\n",
    "\n",
    "nb_lettres = 4\n",
    "nb_mdp = 100000\n",
    "\n",
    "t = time.time()\n",
    "mots_de_passe_bi = generer_mdp_mono(4, letters_bi, freq_bi, nb_mdp)\n",
    "t_bi_100000 = time.time() - t\n",
    "#print(mots_de_passe_bi)\n",
    "print(f\"Temps total pour générer 100 000 mots de passe de 8 lettres (bigrammes): {t_bi_100000:.3f} secondes.\")"
   ]
  },
  {
   "cell_type": "markdown",
   "metadata": {},
   "source": [
    "Q: calculer le minorant de $G$ pour ce modèle"
   ]
  },
  {
   "cell_type": "code",
   "execution_count": 53,
   "metadata": {},
   "outputs": [
    {
     "name": "stdout",
     "output_type": "stream",
     "text": [
      "Le minorant de G pour les bigrammes est d'environ 296254956.70 essais.\n"
     ]
    }
   ],
   "source": [
    "H_bigramme = entropie_bi_8\n",
    "G_minorant_bi = (2**H_bigramme)/4 + 1\n",
    "print(f\"Le minorant de G pour les bigrammes est d'environ {G_minorant_bi:.2f} essais.\")\n"
   ]
  },
  {
   "cell_type": "markdown",
   "metadata": {},
   "source": [
    "> En moyenne, un minimum d'environ 296 millions d'essais successifs seraient nécessaires pour trouver un mot de passe généré par ce modèle, en utilisant une stratégie d'attaque optimale. \n",
    ">\n",
    "> Ce calcul illustre la difficulté théorique de deviner un mot de passe généré par ce système, en se basant sur son entropie."
   ]
  },
  {
   "cell_type": "markdown",
   "metadata": {},
   "source": [
    "Q: combien de temps cela prendra-t-il pour trouver un mot de passe si l'on suppose qu'il est possible de prendre le générateur codé précédemment ? (en minutes)"
   ]
  },
  {
   "cell_type": "code",
   "execution_count": 54,
   "metadata": {},
   "outputs": [
    {
     "name": "stdout",
     "output_type": "stream",
     "text": [
      "Temps total estimé pour trouver un mot de passe (bigrammes) : 7.27 minutes\n"
     ]
    }
   ],
   "source": [
    "# Calcul du temps nécessaire pour trouver un mot de passe en se basant sur le minorant de G et sur le temps pris pour générer 100000 mots de passe\n",
    "\n",
    "# Estimation du temps pour un seul mot de passe\n",
    "temps_1_mdp = t_bi_100000 / nb_mdp\n",
    "\n",
    "# Temps total estimé pour trouver un mot de passe (en secondes)\n",
    "temps_total_pour_trouver_mdp = G_minorant_bi * temps_1_mdp\n",
    "\n",
    "# Convertir le temps en minutes\n",
    "temps_total_pour_trouver_mdp_minutes = temps_total_pour_trouver_mdp / 60\n",
    "\n",
    "print(f\"Temps total estimé pour trouver un mot de passe (bigrammes) : {temps_total_pour_trouver_mdp_minutes:.2f} minutes\")"
   ]
  },
  {
   "cell_type": "markdown",
   "metadata": {},
   "source": [
    "Q: **Modèle Uniforme:** si maintenant on change de stratégie et on tire aléatoirement chaque lettre de l'alphabet de façon uniforme, quelle est l'entropie de ce nouveau générateur ?"
   ]
  },
  {
   "cell_type": "code",
   "execution_count": 55,
   "metadata": {},
   "outputs": [
    {
     "name": "stdout",
     "output_type": "stream",
     "text": [
      "L'entropie d'un générateur uniforme de mots de passe est de 4.7 bits.\n"
     ]
    }
   ],
   "source": [
    "import math\n",
    "n_letters = 26\n",
    "entropy_uniform_model = round(math.log2(n_letters),3)\n",
    "\n",
    "print(f\"L'entropie d'un générateur uniforme de mots de passe est de {entropy_uniform_model} bits.\")"
   ]
  },
  {
   "cell_type": "markdown",
   "metadata": {},
   "source": [
    "Q: A l'aide de la fonction `np.random.choice()`, calculer le temps nécessaire en secondes pour tirer 100 000 mots de passes en utilisant ce générateur ?"
   ]
  },
  {
   "cell_type": "code",
   "execution_count": 56,
   "metadata": {},
   "outputs": [
    {
     "name": "stdout",
     "output_type": "stream",
     "text": [
      "Temps total pour générer 100000 mots de passe de 8 lettres (uniforme): 1.452 secondes.\n"
     ]
    }
   ],
   "source": [
    "def generate_passwords(n_passwords, password_length):\n",
    "    alphabet = list('ABCDEFGHIJKLMNOPQRSTUVWXYZ')  \n",
    "    for _ in range(n_passwords):\n",
    "        password = np.random.choice(alphabet, size=password_length)\n",
    "    return  password\n",
    "\n",
    "# Example usage\n",
    "n_passwords = 100000\n",
    "password_length = 8\n",
    "start_time = time.time()  # Start timing\n",
    "passwords = generate_passwords(n_passwords, password_length)\n",
    "t_uni_100000 = time.time()  - start_time  \n",
    "print(f\"Temps total pour générer {n_passwords} mots de passe de {password_length} lettres (uniforme): {t_uni_100000:.3f} secondes.\")\n"
   ]
  },
  {
   "cell_type": "markdown",
   "metadata": {},
   "source": [
    "Q: calculer le minorant de $G$ pour ce modèle"
   ]
  },
  {
   "cell_type": "code",
   "execution_count": 57,
   "metadata": {},
   "outputs": [
    {
     "name": "stdout",
     "output_type": "stream",
     "text": [
      "Minorant de G calculé à partir de l'entropie pour un mot de passe de 8 lettres : 208318498661.3624 essais.\n"
     ]
    }
   ],
   "source": [
    "# Calcul du minorant de G à partir de l'entropie\n",
    "G_minorant_uniform = 2 ** (password_length * entropy_uniform_model)\n",
    "\n",
    "print(f\"Minorant de G calculé à partir de l'entropie pour un mot de passe de 8 lettres : {G_minorant_uniform} essais.\")"
   ]
  },
  {
   "cell_type": "markdown",
   "metadata": {},
   "source": [
    "Q: dans ce cas précis, quelle est la valeur exacte de $G$?"
   ]
  },
  {
   "cell_type": "code",
   "execution_count": 58,
   "metadata": {},
   "outputs": [
    {
     "name": "stdout",
     "output_type": "stream",
     "text": [
      "La valeur exacte de G pour un mot de passe de 8 lettres (modèle uniforme) : 208827064576 combinaisons possibles.\n"
     ]
    }
   ],
   "source": [
    "G_exact = 26 ** password_length\n",
    "print(f\"La valeur exacte de G pour un mot de passe de 8 lettres (modèle uniforme) : {G_exact} combinaisons possibles.\")"
   ]
  },
  {
   "cell_type": "markdown",
   "metadata": {},
   "source": [
    "Q: combien de temps cela prendra-t-il pour trouver un mot de passe en utilisant le générateur codé précédemment ? (en minutes)"
   ]
  },
  {
   "cell_type": "code",
   "execution_count": 59,
   "metadata": {},
   "outputs": [
    {
     "name": "stdout",
     "output_type": "stream",
     "text": [
      "Temps total estimé pour trouver un mot de passe (uniforme) : 50402.70 minutes\n"
     ]
    }
   ],
   "source": [
    "# Calcul du temps nécessaire pour trouver un mot de passe en se basant sur le minorant de G et sur le temps pris pour générer 100000 mots de passe\n",
    "\n",
    "# Estimation du temps pour un seul mot de passe\n",
    "temps_1_mdp = t_uni_100000 / nb_mdp\n",
    "\n",
    "# Temps total estimé pour trouver un mot de passe (en secondes)\n",
    "temps_total_pour_trouver_mdp = G_minorant_uniform * temps_1_mdp\n",
    "\n",
    "# Convertir le temps en minutes\n",
    "temps_total_pour_trouver_mdp_minutes = temps_total_pour_trouver_mdp / 60\n",
    "\n",
    "print(f\"Temps total estimé pour trouver un mot de passe (uniforme) : {temps_total_pour_trouver_mdp_minutes:.2f} minutes\")"
   ]
  },
  {
   "cell_type": "markdown",
   "metadata": {},
   "source": [
    "Q: implémenter une attaque pratique qui consiste à:\n",
    "1. **pour le défenseur: (la personne qui génère le mot de passe)** tirer un mot de passe de 4 lettres consécutives à partir de ce texte de Victor Hugo (texteFrancais.txt) tiré des Misérables.  \n",
    "2. **pour l'attaquant:** utiliser le modèle bigramme pour générer des mots de passe et minimiser le nombre d'essais. Pour cela on pourra :\n",
    "    * dans un premier temps pré-calculer un **dictionnaire**, qui contriendra un nombre de MdP générés classés dans l'ordre du plus probable au moins probable et qui ne contient pas de doublons \n",
    "    * dans un deuxième temps appeler ce dictionnaire pour comparer chacune de ses entrées au mot de passe généré.\n",
    "3. Il faudra faire ses tests plusieurs fois afin de d'obtenir un nombre moyens d'appel au dictionnaire nécessaire\n",
    "4. Il sera intéressant de comparer le nombre trouvé à la valeur de G (qui est une borne inférieure)\n",
    "5. Question annexe: Par un simple calcul, si le générateur utilisé n'est plus ce générateur mais un générateur qui tire chaque lettre de façon équiprobable, rappeler la valeur de G. Comparer cette valeur avec la valeur trouvée en utilisant la stratégie \"des 4 lettres consécutives\"."
   ]
  },
  {
   "cell_type": "code",
   "execution_count": 60,
   "metadata": {},
   "outputs": [],
   "source": [
    "## Fonction générant un mot de passe\n",
    "def get_passwd():\n",
    "    text_hugo = open(\"texteFrancais.txt\",\"r\")\n",
    "    str_hugo = str(text_hugo.read())\n",
    "\n",
    "    # On remplace des lettres avec accent avec des lettres sans accent\n",
    "    str_hugo = str_hugo.replace(\"Â\", \"A\")\n",
    "    str_hugo = str_hugo.replace(\"Ù\", \"U\")\n",
    "    str_hugo = str_hugo.replace(\"Ô\", \"O\")\n",
    "    size_txt = len(str_hugo)\n",
    "\n",
    "    idx_rand = np.random.randint(size_txt-4)\n",
    "    #print(idx_rand)\n",
    "\n",
    "    psswd = str_hugo[idx_rand:idx_rand+4]\n",
    "    return(psswd)"
   ]
  },
  {
   "cell_type": "code",
   "execution_count": 61,
   "metadata": {},
   "outputs": [
    {
     "data": {
      "text/html": [
       "<div>\n",
       "<style scoped>\n",
       "    .dataframe tbody tr th:only-of-type {\n",
       "        vertical-align: middle;\n",
       "    }\n",
       "\n",
       "    .dataframe tbody tr th {\n",
       "        vertical-align: top;\n",
       "    }\n",
       "\n",
       "    .dataframe thead th {\n",
       "        text-align: right;\n",
       "    }\n",
       "</style>\n",
       "<table border=\"1\" class=\"dataframe\">\n",
       "  <thead>\n",
       "    <tr style=\"text-align: right;\">\n",
       "      <th></th>\n",
       "      <th>mdp</th>\n",
       "      <th>frequency</th>\n",
       "    </tr>\n",
       "  </thead>\n",
       "  <tbody>\n",
       "    <tr>\n",
       "      <th>0</th>\n",
       "      <td>ESES</td>\n",
       "      <td>0.000567</td>\n",
       "    </tr>\n",
       "    <tr>\n",
       "      <th>1</th>\n",
       "      <td>ENES</td>\n",
       "      <td>0.000506</td>\n",
       "    </tr>\n",
       "    <tr>\n",
       "      <th>2</th>\n",
       "      <td>ESEN</td>\n",
       "      <td>0.000506</td>\n",
       "    </tr>\n",
       "    <tr>\n",
       "      <th>3</th>\n",
       "      <td>DEES</td>\n",
       "      <td>0.000466</td>\n",
       "    </tr>\n",
       "    <tr>\n",
       "      <th>4</th>\n",
       "      <td>ESDE</td>\n",
       "      <td>0.000466</td>\n",
       "    </tr>\n",
       "    <tr>\n",
       "      <th>...</th>\n",
       "      <td>...</td>\n",
       "      <td>...</td>\n",
       "    </tr>\n",
       "    <tr>\n",
       "      <th>456971</th>\n",
       "      <td>SIQD</td>\n",
       "      <td>0.000000</td>\n",
       "    </tr>\n",
       "    <tr>\n",
       "      <th>456972</th>\n",
       "      <td>SIQE</td>\n",
       "      <td>0.000000</td>\n",
       "    </tr>\n",
       "    <tr>\n",
       "      <th>456973</th>\n",
       "      <td>HFCF</td>\n",
       "      <td>0.000000</td>\n",
       "    </tr>\n",
       "    <tr>\n",
       "      <th>456974</th>\n",
       "      <td>SIQG</td>\n",
       "      <td>0.000000</td>\n",
       "    </tr>\n",
       "    <tr>\n",
       "      <th>456975</th>\n",
       "      <td>ZZZZ</td>\n",
       "      <td>0.000000</td>\n",
       "    </tr>\n",
       "  </tbody>\n",
       "</table>\n",
       "<p>456976 rows × 2 columns</p>\n",
       "</div>"
      ],
      "text/plain": [
       "         mdp  frequency\n",
       "0       ESES   0.000567\n",
       "1       ENES   0.000506\n",
       "2       ESEN   0.000506\n",
       "3       DEES   0.000466\n",
       "4       ESDE   0.000466\n",
       "...      ...        ...\n",
       "456971  SIQD   0.000000\n",
       "456972  SIQE   0.000000\n",
       "456973  HFCF   0.000000\n",
       "456974  SIQG   0.000000\n",
       "456975  ZZZZ   0.000000\n",
       "\n",
       "[456976 rows x 2 columns]"
      ]
     },
     "execution_count": 61,
     "metadata": {},
     "output_type": "execute_result"
    }
   ],
   "source": [
    "import itertools\n",
    "import pandas as pd\n",
    "\n",
    "# Génération du dictionnaire\n",
    "def generate_mdp_dictionary(password_length=4):\n",
    "    # Produit cartésien des bigrammes pour tenir compte de toutes les combinaisons possibles\n",
    "    couples = list(itertools.product(bigramme.letters.tolist(), repeat=2))\n",
    "    probs = list(itertools.product(bigramme.frequency.tolist(), repeat=2))\n",
    "\n",
    "    # Dictionnaire pour stocker les mots de passe et leurs probabilités\n",
    "    mdp_dict = {}\n",
    "\n",
    "    for c, p in zip(couples, probs):\n",
    "        # Générer des mots de passe de 4 lettres et calculer leurs probabilités\n",
    "        password = c[0][:2] + c[1][:2]\n",
    "        proba = p[0] * p[1]\n",
    "        \n",
    "        if len(password) == password_length:\n",
    "            if password not in mdp_dict or mdp_dict[password] < proba:\n",
    "                mdp_dict[password] = proba\n",
    "\n",
    "    # Création d'un DataFrame plutot qu'une liste pour trier les mots de passe\n",
    "    df_dictionary = pd.DataFrame(list(mdp_dict.items()), columns=['mdp', 'frequency'])\n",
    "    df_dictionary = df_dictionary.sort_values(by='frequency', ascending=False, ignore_index=True)\n",
    "\n",
    "    return df_dictionary\n",
    "\n",
    "df_dictionary = generate_mdp_dictionary()\n",
    "df_dictionary"
   ]
  },
  {
   "cell_type": "code",
   "execution_count": 62,
   "metadata": {},
   "outputs": [],
   "source": [
    "# Attaques sur 1000 mots de passes\n",
    "\n",
    "nb_trial = 1000\n",
    "vec_nb_trials = np.full(nb_trial, -1)\n",
    "for i in range(nb_trial):\n",
    "    password = get_passwd() #génération du mdp\n",
    "    try:\n",
    "        index = df_dictionary[df_dictionary['mdp'] ==password].index.tolist()[0]\n",
    "        vec_nb_trials[i] = index\n",
    "    except:\n",
    "        print(password)"
   ]
  },
  {
   "cell_type": "code",
   "execution_count": 63,
   "metadata": {},
   "outputs": [
    {
     "name": "stdout",
     "output_type": "stream",
     "text": [
      "En moyenne, il y a 13912.408 appels.\n",
      "21294.297629967987\n"
     ]
    }
   ],
   "source": [
    "# Comparaison avec la valeur de G\n",
    "\n",
    "print(f\"En moyenne, il y a {np.mean(vec_nb_trials)} appels.\")\n",
    "print(G_minorant_bi/np.mean(vec_nb_trials))"
   ]
  },
  {
   "cell_type": "markdown",
   "metadata": {},
   "source": [
    "## Conclusions "
   ]
  },
  {
   "cell_type": "markdown",
   "metadata": {},
   "source": [
    "- ##### Définir des bonnes pratiques pour le défenseur, i.e. la personne cherchant à concevoir un système de génération de mots de passe ? \n",
    "> L'entropie étant maximale dans le cas d'un tirage uniforme, c'est le meilleur moyen de générer un mot de passe robuste. Il faut ensuite travailler avec la longueur du mot de passe. Une longueur de 8 lettres n'est pas suffisant car le mot de passe est crackable en environ 13h. En passant à 12 lettres nous arrivons à 1000 ans ce qui rend le mot de passe non crackable. En rajoutant les lettres majuscules, les chiffres et les caractères spéciaux, on obtient un mot de passe parfait bien mieux que le mot de passe caramel par exemple.\n",
    "\n",
    "- ##### Définir des bonnes pratiques pour l'attaquant, i.e. la personne essayant de trouver le mot de passe ? \n",
    "> Pour réduire le nombre d'appels avant de décoder un mot de passe, l'attanquant doit chercher à exploiter les aprioris que l'on peut faire sur un mot de passe à savoir : La plupart des gens vont utiliser des mots de passe facile à retenir donc des mots de leur langue ou présent dans des dictionnaires de mots de passe. Construire sa recherche de mot de passe autour de cet apriori probabiliste permet de tester en priorité les combinaisons les plus probables. Dans le cadre de ce TP nous nous limitons à l'association de lettres."
   ]
  },
  {
   "cell_type": "markdown",
   "metadata": {},
   "source": [
    "## Un peu de lecture\n",
    "Cet article montre comment des hackers, à partir de leaks de bases de mots de passes, peuvent rapidement arriver à trouver le votre:\n",
    "https://arstechnica.com/information-technology/2013/05/how-crackers-make-minced-meat-out-of-your-passwords/\n"
   ]
  }
 ],
 "metadata": {
  "kernelspec": {
   "display_name": "Python 3",
   "language": "python",
   "name": "python3"
  },
  "language_info": {
   "codemirror_mode": {
    "name": "ipython",
    "version": 3
   },
   "file_extension": ".py",
   "mimetype": "text/x-python",
   "name": "python",
   "nbconvert_exporter": "python",
   "pygments_lexer": "ipython3",
   "version": "3.9.12"
  }
 },
 "nbformat": 4,
 "nbformat_minor": 2
}
