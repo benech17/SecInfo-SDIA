{
 "cells": [
  {
   "cell_type": "markdown",
   "metadata": {
    "hideCode": false,
    "hidePrompt": false
   },
   "source": [
    "### Noms et Prénoms du binome: BENICHOU Yaniv - BONNEFOY Nicolas\n",
    "\n",
    "---"
   ]
  },
  {
   "cell_type": "markdown",
   "metadata": {
    "hideCode": false,
    "hidePrompt": false
   },
   "source": [
    "# TP en Watermarking et Stéganographie\n",
    "\n",
    "---\n",
    "\n",
    "## Patrick Bas, CNRS, CRIStAL\n",
    "\n",
    "---\n",
    "\n",
    "\n",
    " "
   ]
  },
  {
   "cell_type": "markdown",
   "metadata": {
    "hideCode": false,
    "hidePrompt": false
   },
   "source": [
    "## Tatouage par également de spectre et attaques de sécurité\n",
    "\n",
    "### Notations et rappels:\n",
    "\n",
    "Les notations sont identiques à celles vues en cours. Le procédé d'insertion est le schéma par étalement de spectre vu en cours.\n",
    "\n",
    "* X = matrice de $N_{i}$ vecteurs originaux de taille $N_{v}$ ($N_{i}$ colonnes, $N_{v}$ lignes). $N_{i}$ représente par exemple le nombre de contenu traités, et $N_{v}$ le nombre de composantes tatouées par contenu. **Note**: chaque colonne de X peut par exemple représenter des composantes d'une image.\n",
    "* $N_{o}$ représente le nombre de contenus tatoués observés par l'adversaire et utilisés pour construire son attaque\n",
    "* $N_{i}$ représente le nombre de contenus tatoués utilisés pour calculer pratiquement le taux d'erreur (voir BER)\n",
    "* Y = matrice de contenus tatoués\n",
    "* Z = matrice de contenus tatoués et perturbés\n",
    "* k clé secrète de norme unitaire\n",
    "* $m_{1}$: bit inséré, converti en +1, -1 \n",
    "* $\\alpha$: paramètre de distorsion\n",
    "* BER: Bit Error Rate, taux d'erreur binaire ou encore probabilité d'erreur empirique de décodage\n",
    "\n",
    "#### Rappels:\n",
    "* L'objectif du récepteur et de bien décoder $m_{1}$, possiblement en ayant une distortion qui ne soit pas trop importante\n",
    "* Ici, les objectifs de l'adversaire sont d'estimer une version k ou +/-k puis d'effacer le message inséré. Pour s'assurer que l'adversaire a bien réussi à estimer k ou +/-k, il calculera la correlation normalisée entre le vecteur k et son estimation.\n",
    "\n",
    "**N'oubliez pas d'exporter votre TP en pdf de préférence ou éventuellement en html lors de sa remise**\n",
    "\n"
   ]
  },
  {
   "cell_type": "code",
   "execution_count": 1,
   "metadata": {
    "hideCode": false,
    "hidePrompt": false
   },
   "outputs": [],
   "source": [
    "%matplotlib inline  \n",
    "\n",
    "import numpy as np\n",
    "import matplotlib.pyplot as plt\n",
    "\n",
    "import plotly.graph_objects as go\n",
    "from scipy.special import erf\n",
    "from sklearn.decomposition import FastICA"
   ]
  },
  {
   "cell_type": "markdown",
   "metadata": {
    "hideCode": false,
    "hideOutput": true,
    "hidePrompt": false
   },
   "source": [
    "## Scénario 1: Attaque à Messages connus, 1 bit\n",
    "* Mise en route: Quel est le BER cible de l'adversaire ?\n",
    "* Mettre en place l'attaque liée à ce scénario\n",
    "* Etudier l'impact de $N_{o}$ et de $\\alpha$ sur le BER après attaque"
   ]
  },
  {
   "cell_type": "markdown",
   "metadata": {},
   "source": [
    "> Le BER cible de l'adversaire est de 50% pour que le décodage du message tatoué devient aussi aléatoire qu'un tirage à pile ou face, rendant le message indéchiffrable et atteignant ainsi l'objectif de l'adversaire de neutraliser efficacement le tatouage.\n"
   ]
  },
  {
   "cell_type": "code",
   "execution_count": 2,
   "metadata": {
    "hideCode": false,
    "hidePrompt": false
   },
   "outputs": [],
   "source": [
    "Nv = 100 # Size of the vector\n",
    "Ni = 10000 # Max number of observations"
   ]
  },
  {
   "cell_type": "code",
   "execution_count": 3,
   "metadata": {
    "hideCode": false,
    "hidePrompt": false
   },
   "outputs": [
    {
     "data": {
      "application/vnd.plotly.v1+json": {
       "config": {
        "plotlyServerURL": "https://plot.ly"
       },
       "data": [
        {
         "mode": "lines+markers",
         "name": "BER après attaque",
         "type": "scatter",
         "x": [
          100,
          200,
          300,
          400,
          500,
          600,
          700,
          800,
          900,
          1000,
          1100,
          1200,
          1300,
          1400,
          1500,
          1600,
          1700,
          1800,
          1900,
          2000,
          2100,
          2200,
          2300,
          2400,
          2500,
          2600,
          2700,
          2800,
          2900,
          3000,
          3100,
          3200,
          3300,
          3400,
          3500,
          3600,
          3700,
          3800,
          3900,
          4000,
          4100,
          4200,
          4300,
          4400,
          4500,
          4600,
          4700,
          4800,
          4900,
          5000,
          5100,
          5200,
          5300,
          5400,
          5500,
          5600,
          5700,
          5800,
          5900,
          6000,
          6100,
          6200,
          6300,
          6400,
          6500,
          6600,
          6700,
          6800,
          6900,
          7000,
          7100,
          7200,
          7300,
          7400,
          7500,
          7600,
          7700,
          7800,
          7900,
          8000,
          8100,
          8200,
          8300,
          8400,
          8500,
          8600,
          8700,
          8800,
          8900,
          9000,
          9100,
          9200,
          9300,
          9400,
          9500,
          9600,
          9700,
          9800,
          9900
         ],
         "y": [
          0.4294,
          0.4539,
          0.4577,
          0.4838,
          0.4745,
          0.4724,
          0.4828,
          0.4886,
          0.5004,
          0.4893,
          0.4773,
          0.4957,
          0.4939,
          0.485,
          0.4977,
          0.4901,
          0.5013,
          0.4886,
          0.4908,
          0.4863,
          0.4979,
          0.4974,
          0.494,
          0.4924,
          0.4899,
          0.4968,
          0.4981,
          0.4994,
          0.4974,
          0.4969,
          0.5068,
          0.4981,
          0.4905,
          0.499,
          0.496,
          0.5002,
          0.4957,
          0.498,
          0.5012,
          0.4931,
          0.4941,
          0.5034,
          0.4997,
          0.4959,
          0.495,
          0.493,
          0.4924,
          0.4934,
          0.4978,
          0.5024,
          0.496,
          0.5022,
          0.4987,
          0.4955,
          0.4838,
          0.5019,
          0.503,
          0.4988,
          0.4928,
          0.4979,
          0.5059,
          0.5003,
          0.4976,
          0.4967,
          0.4965,
          0.4884,
          0.4988,
          0.503,
          0.4925,
          0.4969,
          0.492,
          0.4974,
          0.4933,
          0.5072,
          0.502,
          0.5087,
          0.4992,
          0.5034,
          0.5024,
          0.4995,
          0.4914,
          0.4958,
          0.5074,
          0.5004,
          0.4984,
          0.4996,
          0.5043,
          0.5026,
          0.4997,
          0.4969,
          0.5009,
          0.4985,
          0.5004,
          0.4985,
          0.498,
          0.4864,
          0.491,
          0.4932,
          0.4973
         ]
        }
       ],
       "layout": {
        "annotations": [
         {
          "showarrow": false,
          "text": "BER 50%",
          "x": 0,
          "xanchor": "left",
          "xref": "x domain",
          "y": 0.5,
          "yanchor": "top",
          "yref": "y"
         }
        ],
        "height": 400,
        "shapes": [
         {
          "line": {
           "color": "red",
           "dash": "dot"
          },
          "type": "line",
          "x0": 0,
          "x1": 1,
          "xref": "x domain",
          "y0": 0.5,
          "y1": 0.5,
          "yref": "y"
         }
        ],
        "template": {
         "data": {
          "bar": [
           {
            "error_x": {
             "color": "#2a3f5f"
            },
            "error_y": {
             "color": "#2a3f5f"
            },
            "marker": {
             "line": {
              "color": "#E5ECF6",
              "width": 0.5
             },
             "pattern": {
              "fillmode": "overlay",
              "size": 10,
              "solidity": 0.2
             }
            },
            "type": "bar"
           }
          ],
          "barpolar": [
           {
            "marker": {
             "line": {
              "color": "#E5ECF6",
              "width": 0.5
             },
             "pattern": {
              "fillmode": "overlay",
              "size": 10,
              "solidity": 0.2
             }
            },
            "type": "barpolar"
           }
          ],
          "carpet": [
           {
            "aaxis": {
             "endlinecolor": "#2a3f5f",
             "gridcolor": "white",
             "linecolor": "white",
             "minorgridcolor": "white",
             "startlinecolor": "#2a3f5f"
            },
            "baxis": {
             "endlinecolor": "#2a3f5f",
             "gridcolor": "white",
             "linecolor": "white",
             "minorgridcolor": "white",
             "startlinecolor": "#2a3f5f"
            },
            "type": "carpet"
           }
          ],
          "choropleth": [
           {
            "colorbar": {
             "outlinewidth": 0,
             "ticks": ""
            },
            "type": "choropleth"
           }
          ],
          "contour": [
           {
            "colorbar": {
             "outlinewidth": 0,
             "ticks": ""
            },
            "colorscale": [
             [
              0,
              "#0d0887"
             ],
             [
              0.1111111111111111,
              "#46039f"
             ],
             [
              0.2222222222222222,
              "#7201a8"
             ],
             [
              0.3333333333333333,
              "#9c179e"
             ],
             [
              0.4444444444444444,
              "#bd3786"
             ],
             [
              0.5555555555555556,
              "#d8576b"
             ],
             [
              0.6666666666666666,
              "#ed7953"
             ],
             [
              0.7777777777777778,
              "#fb9f3a"
             ],
             [
              0.8888888888888888,
              "#fdca26"
             ],
             [
              1,
              "#f0f921"
             ]
            ],
            "type": "contour"
           }
          ],
          "contourcarpet": [
           {
            "colorbar": {
             "outlinewidth": 0,
             "ticks": ""
            },
            "type": "contourcarpet"
           }
          ],
          "heatmap": [
           {
            "colorbar": {
             "outlinewidth": 0,
             "ticks": ""
            },
            "colorscale": [
             [
              0,
              "#0d0887"
             ],
             [
              0.1111111111111111,
              "#46039f"
             ],
             [
              0.2222222222222222,
              "#7201a8"
             ],
             [
              0.3333333333333333,
              "#9c179e"
             ],
             [
              0.4444444444444444,
              "#bd3786"
             ],
             [
              0.5555555555555556,
              "#d8576b"
             ],
             [
              0.6666666666666666,
              "#ed7953"
             ],
             [
              0.7777777777777778,
              "#fb9f3a"
             ],
             [
              0.8888888888888888,
              "#fdca26"
             ],
             [
              1,
              "#f0f921"
             ]
            ],
            "type": "heatmap"
           }
          ],
          "heatmapgl": [
           {
            "colorbar": {
             "outlinewidth": 0,
             "ticks": ""
            },
            "colorscale": [
             [
              0,
              "#0d0887"
             ],
             [
              0.1111111111111111,
              "#46039f"
             ],
             [
              0.2222222222222222,
              "#7201a8"
             ],
             [
              0.3333333333333333,
              "#9c179e"
             ],
             [
              0.4444444444444444,
              "#bd3786"
             ],
             [
              0.5555555555555556,
              "#d8576b"
             ],
             [
              0.6666666666666666,
              "#ed7953"
             ],
             [
              0.7777777777777778,
              "#fb9f3a"
             ],
             [
              0.8888888888888888,
              "#fdca26"
             ],
             [
              1,
              "#f0f921"
             ]
            ],
            "type": "heatmapgl"
           }
          ],
          "histogram": [
           {
            "marker": {
             "pattern": {
              "fillmode": "overlay",
              "size": 10,
              "solidity": 0.2
             }
            },
            "type": "histogram"
           }
          ],
          "histogram2d": [
           {
            "colorbar": {
             "outlinewidth": 0,
             "ticks": ""
            },
            "colorscale": [
             [
              0,
              "#0d0887"
             ],
             [
              0.1111111111111111,
              "#46039f"
             ],
             [
              0.2222222222222222,
              "#7201a8"
             ],
             [
              0.3333333333333333,
              "#9c179e"
             ],
             [
              0.4444444444444444,
              "#bd3786"
             ],
             [
              0.5555555555555556,
              "#d8576b"
             ],
             [
              0.6666666666666666,
              "#ed7953"
             ],
             [
              0.7777777777777778,
              "#fb9f3a"
             ],
             [
              0.8888888888888888,
              "#fdca26"
             ],
             [
              1,
              "#f0f921"
             ]
            ],
            "type": "histogram2d"
           }
          ],
          "histogram2dcontour": [
           {
            "colorbar": {
             "outlinewidth": 0,
             "ticks": ""
            },
            "colorscale": [
             [
              0,
              "#0d0887"
             ],
             [
              0.1111111111111111,
              "#46039f"
             ],
             [
              0.2222222222222222,
              "#7201a8"
             ],
             [
              0.3333333333333333,
              "#9c179e"
             ],
             [
              0.4444444444444444,
              "#bd3786"
             ],
             [
              0.5555555555555556,
              "#d8576b"
             ],
             [
              0.6666666666666666,
              "#ed7953"
             ],
             [
              0.7777777777777778,
              "#fb9f3a"
             ],
             [
              0.8888888888888888,
              "#fdca26"
             ],
             [
              1,
              "#f0f921"
             ]
            ],
            "type": "histogram2dcontour"
           }
          ],
          "mesh3d": [
           {
            "colorbar": {
             "outlinewidth": 0,
             "ticks": ""
            },
            "type": "mesh3d"
           }
          ],
          "parcoords": [
           {
            "line": {
             "colorbar": {
              "outlinewidth": 0,
              "ticks": ""
             }
            },
            "type": "parcoords"
           }
          ],
          "pie": [
           {
            "automargin": true,
            "type": "pie"
           }
          ],
          "scatter": [
           {
            "fillpattern": {
             "fillmode": "overlay",
             "size": 10,
             "solidity": 0.2
            },
            "type": "scatter"
           }
          ],
          "scatter3d": [
           {
            "line": {
             "colorbar": {
              "outlinewidth": 0,
              "ticks": ""
             }
            },
            "marker": {
             "colorbar": {
              "outlinewidth": 0,
              "ticks": ""
             }
            },
            "type": "scatter3d"
           }
          ],
          "scattercarpet": [
           {
            "marker": {
             "colorbar": {
              "outlinewidth": 0,
              "ticks": ""
             }
            },
            "type": "scattercarpet"
           }
          ],
          "scattergeo": [
           {
            "marker": {
             "colorbar": {
              "outlinewidth": 0,
              "ticks": ""
             }
            },
            "type": "scattergeo"
           }
          ],
          "scattergl": [
           {
            "marker": {
             "colorbar": {
              "outlinewidth": 0,
              "ticks": ""
             }
            },
            "type": "scattergl"
           }
          ],
          "scattermapbox": [
           {
            "marker": {
             "colorbar": {
              "outlinewidth": 0,
              "ticks": ""
             }
            },
            "type": "scattermapbox"
           }
          ],
          "scatterpolar": [
           {
            "marker": {
             "colorbar": {
              "outlinewidth": 0,
              "ticks": ""
             }
            },
            "type": "scatterpolar"
           }
          ],
          "scatterpolargl": [
           {
            "marker": {
             "colorbar": {
              "outlinewidth": 0,
              "ticks": ""
             }
            },
            "type": "scatterpolargl"
           }
          ],
          "scatterternary": [
           {
            "marker": {
             "colorbar": {
              "outlinewidth": 0,
              "ticks": ""
             }
            },
            "type": "scatterternary"
           }
          ],
          "surface": [
           {
            "colorbar": {
             "outlinewidth": 0,
             "ticks": ""
            },
            "colorscale": [
             [
              0,
              "#0d0887"
             ],
             [
              0.1111111111111111,
              "#46039f"
             ],
             [
              0.2222222222222222,
              "#7201a8"
             ],
             [
              0.3333333333333333,
              "#9c179e"
             ],
             [
              0.4444444444444444,
              "#bd3786"
             ],
             [
              0.5555555555555556,
              "#d8576b"
             ],
             [
              0.6666666666666666,
              "#ed7953"
             ],
             [
              0.7777777777777778,
              "#fb9f3a"
             ],
             [
              0.8888888888888888,
              "#fdca26"
             ],
             [
              1,
              "#f0f921"
             ]
            ],
            "type": "surface"
           }
          ],
          "table": [
           {
            "cells": {
             "fill": {
              "color": "#EBF0F8"
             },
             "line": {
              "color": "white"
             }
            },
            "header": {
             "fill": {
              "color": "#C8D4E3"
             },
             "line": {
              "color": "white"
             }
            },
            "type": "table"
           }
          ]
         },
         "layout": {
          "annotationdefaults": {
           "arrowcolor": "#2a3f5f",
           "arrowhead": 0,
           "arrowwidth": 1
          },
          "autotypenumbers": "strict",
          "coloraxis": {
           "colorbar": {
            "outlinewidth": 0,
            "ticks": ""
           }
          },
          "colorscale": {
           "diverging": [
            [
             0,
             "#8e0152"
            ],
            [
             0.1,
             "#c51b7d"
            ],
            [
             0.2,
             "#de77ae"
            ],
            [
             0.3,
             "#f1b6da"
            ],
            [
             0.4,
             "#fde0ef"
            ],
            [
             0.5,
             "#f7f7f7"
            ],
            [
             0.6,
             "#e6f5d0"
            ],
            [
             0.7,
             "#b8e186"
            ],
            [
             0.8,
             "#7fbc41"
            ],
            [
             0.9,
             "#4d9221"
            ],
            [
             1,
             "#276419"
            ]
           ],
           "sequential": [
            [
             0,
             "#0d0887"
            ],
            [
             0.1111111111111111,
             "#46039f"
            ],
            [
             0.2222222222222222,
             "#7201a8"
            ],
            [
             0.3333333333333333,
             "#9c179e"
            ],
            [
             0.4444444444444444,
             "#bd3786"
            ],
            [
             0.5555555555555556,
             "#d8576b"
            ],
            [
             0.6666666666666666,
             "#ed7953"
            ],
            [
             0.7777777777777778,
             "#fb9f3a"
            ],
            [
             0.8888888888888888,
             "#fdca26"
            ],
            [
             1,
             "#f0f921"
            ]
           ],
           "sequentialminus": [
            [
             0,
             "#0d0887"
            ],
            [
             0.1111111111111111,
             "#46039f"
            ],
            [
             0.2222222222222222,
             "#7201a8"
            ],
            [
             0.3333333333333333,
             "#9c179e"
            ],
            [
             0.4444444444444444,
             "#bd3786"
            ],
            [
             0.5555555555555556,
             "#d8576b"
            ],
            [
             0.6666666666666666,
             "#ed7953"
            ],
            [
             0.7777777777777778,
             "#fb9f3a"
            ],
            [
             0.8888888888888888,
             "#fdca26"
            ],
            [
             1,
             "#f0f921"
            ]
           ]
          },
          "colorway": [
           "#636efa",
           "#EF553B",
           "#00cc96",
           "#ab63fa",
           "#FFA15A",
           "#19d3f3",
           "#FF6692",
           "#B6E880",
           "#FF97FF",
           "#FECB52"
          ],
          "font": {
           "color": "#2a3f5f"
          },
          "geo": {
           "bgcolor": "white",
           "lakecolor": "white",
           "landcolor": "#E5ECF6",
           "showlakes": true,
           "showland": true,
           "subunitcolor": "white"
          },
          "hoverlabel": {
           "align": "left"
          },
          "hovermode": "closest",
          "mapbox": {
           "style": "light"
          },
          "paper_bgcolor": "white",
          "plot_bgcolor": "#E5ECF6",
          "polar": {
           "angularaxis": {
            "gridcolor": "white",
            "linecolor": "white",
            "ticks": ""
           },
           "bgcolor": "#E5ECF6",
           "radialaxis": {
            "gridcolor": "white",
            "linecolor": "white",
            "ticks": ""
           }
          },
          "scene": {
           "xaxis": {
            "backgroundcolor": "#E5ECF6",
            "gridcolor": "white",
            "gridwidth": 2,
            "linecolor": "white",
            "showbackground": true,
            "ticks": "",
            "zerolinecolor": "white"
           },
           "yaxis": {
            "backgroundcolor": "#E5ECF6",
            "gridcolor": "white",
            "gridwidth": 2,
            "linecolor": "white",
            "showbackground": true,
            "ticks": "",
            "zerolinecolor": "white"
           },
           "zaxis": {
            "backgroundcolor": "#E5ECF6",
            "gridcolor": "white",
            "gridwidth": 2,
            "linecolor": "white",
            "showbackground": true,
            "ticks": "",
            "zerolinecolor": "white"
           }
          },
          "shapedefaults": {
           "line": {
            "color": "#2a3f5f"
           }
          },
          "ternary": {
           "aaxis": {
            "gridcolor": "white",
            "linecolor": "white",
            "ticks": ""
           },
           "baxis": {
            "gridcolor": "white",
            "linecolor": "white",
            "ticks": ""
           },
           "bgcolor": "#E5ECF6",
           "caxis": {
            "gridcolor": "white",
            "linecolor": "white",
            "ticks": ""
           }
          },
          "title": {
           "x": 0.05
          },
          "xaxis": {
           "automargin": true,
           "gridcolor": "white",
           "linecolor": "white",
           "ticks": "",
           "title": {
            "standoff": 15
           },
           "zerolinecolor": "white",
           "zerolinewidth": 2
          },
          "yaxis": {
           "automargin": true,
           "gridcolor": "white",
           "linecolor": "white",
           "ticks": "",
           "title": {
            "standoff": 15
           },
           "zerolinecolor": "white",
           "zerolinewidth": 2
          }
         }
        },
        "title": {
         "text": "BER après attaque en fonction de No"
        },
        "width": 700,
        "xaxis": {
         "title": {
          "text": "No (Nombre d'observations)"
         }
        },
        "yaxis": {
         "title": {
          "text": "BER"
         }
        }
       }
      }
     },
     "metadata": {},
     "output_type": "display_data"
    },
    {
     "data": {
      "application/vnd.plotly.v1+json": {
       "config": {
        "plotlyServerURL": "https://plot.ly"
       },
       "data": [
        {
         "mode": "lines+markers",
         "name": "Corr après attaque",
         "type": "scatter",
         "x": [
          100,
          200,
          300,
          400,
          500,
          600,
          700,
          800,
          900,
          1000,
          1100,
          1200,
          1300,
          1400,
          1500,
          1600,
          1700,
          1800,
          1900,
          2000,
          2100,
          2200,
          2300,
          2400,
          2500,
          2600,
          2700,
          2800,
          2900,
          3000,
          3100,
          3200,
          3300,
          3400,
          3500,
          3600,
          3700,
          3800,
          3900,
          4000,
          4100,
          4200,
          4300,
          4400,
          4500,
          4600,
          4700,
          4800,
          4900,
          5000,
          5100,
          5200,
          5300,
          5400,
          5500,
          5600,
          5700,
          5800,
          5900,
          6000,
          6100,
          6200,
          6300,
          6400,
          6500,
          6600,
          6700,
          6800,
          6900,
          7000,
          7100,
          7200,
          7300,
          7400,
          7500,
          7600,
          7700,
          7800,
          7900,
          8000,
          8100,
          8200,
          8300,
          8400,
          8500,
          8600,
          8700,
          8800,
          8900,
          9000,
          9100,
          9200,
          9300,
          9400,
          9500,
          9600,
          9700,
          9800,
          9900
         ],
         "y": [
          0.9131961841630245,
          0.9479130106784236,
          0.9472122846144471,
          0.9755419552286323,
          0.9714036268067069,
          0.9816999275437495,
          0.9800602771912827,
          0.9871231996280067,
          0.9850011267177928,
          0.9882146007787997,
          0.9880110285707165,
          0.988633201794316,
          0.9874506987595053,
          0.9921942583583305,
          0.9925561859658542,
          0.9922992735686873,
          0.992840855983738,
          0.9902482607026042,
          0.9927454672655717,
          0.9945013733756417,
          0.9954372725428796,
          0.9955078889750462,
          0.995001992129782,
          0.996129269922151,
          0.9949203243475161,
          0.9953884527930098,
          0.9952563974589762,
          0.9951657883246685,
          0.9962146084831072,
          0.9955896677230763,
          0.9965234302878897,
          0.9968623097778898,
          0.99676098367793,
          0.9966537770633453,
          0.9967512147397887,
          0.9964448082598736,
          0.9966158880328502,
          0.9972556506684166,
          0.9969401825886408,
          0.9969697471230881,
          0.9968400720390962,
          0.9976487645899013,
          0.9968979409388223,
          0.9974456579852945,
          0.996946574433388,
          0.9973500660901254,
          0.9970007512831214,
          0.9974971887337304,
          0.9972289961064897,
          0.9974049205463529,
          0.9977266935147482,
          0.9979443516435834,
          0.9979975205809123,
          0.9978576077632156,
          0.9981618789827503,
          0.9979213645100055,
          0.9978521400388208,
          0.9976085616146626,
          0.9976532030787024,
          0.9980461290192596,
          0.9985044949815934,
          0.9983084209746024,
          0.998262147448651,
          0.9979261586574825,
          0.9979227833091688,
          0.998233154862039,
          0.9980199015858604,
          0.9977547156454267,
          0.9981760468896876,
          0.9981420279210328,
          0.9982570524767289,
          0.9982086599911878,
          0.9981181792806085,
          0.9982273778926357,
          0.9985710286555209,
          0.9986002086252076,
          0.998594433949568,
          0.998624971651427,
          0.9986500883340882,
          0.99861022785886,
          0.9984662593936577,
          0.9985017223381861,
          0.998161980821482,
          0.9989075628660665,
          0.9981886314281869,
          0.9984144193613943,
          0.9989199212348473,
          0.9986628509032738,
          0.9986104542799599,
          0.9984452401968178,
          0.9987842283266763,
          0.9984493158295739,
          0.9985835411616143,
          0.9986058477895969,
          0.9985954023404823,
          0.9987545508308564,
          0.9985541591019816,
          0.9988037844017739,
          0.9988663638795859
         ]
        }
       ],
       "layout": {
        "annotations": [
         {
          "showarrow": false,
          "text": "Corr = 1",
          "x": 0,
          "xanchor": "left",
          "xref": "x domain",
          "y": 1,
          "yanchor": "top",
          "yref": "y"
         }
        ],
        "height": 400,
        "shapes": [
         {
          "line": {
           "color": "red",
           "dash": "dot"
          },
          "type": "line",
          "x0": 0,
          "x1": 1,
          "xref": "x domain",
          "y0": 1,
          "y1": 1,
          "yref": "y"
         }
        ],
        "template": {
         "data": {
          "bar": [
           {
            "error_x": {
             "color": "#2a3f5f"
            },
            "error_y": {
             "color": "#2a3f5f"
            },
            "marker": {
             "line": {
              "color": "#E5ECF6",
              "width": 0.5
             },
             "pattern": {
              "fillmode": "overlay",
              "size": 10,
              "solidity": 0.2
             }
            },
            "type": "bar"
           }
          ],
          "barpolar": [
           {
            "marker": {
             "line": {
              "color": "#E5ECF6",
              "width": 0.5
             },
             "pattern": {
              "fillmode": "overlay",
              "size": 10,
              "solidity": 0.2
             }
            },
            "type": "barpolar"
           }
          ],
          "carpet": [
           {
            "aaxis": {
             "endlinecolor": "#2a3f5f",
             "gridcolor": "white",
             "linecolor": "white",
             "minorgridcolor": "white",
             "startlinecolor": "#2a3f5f"
            },
            "baxis": {
             "endlinecolor": "#2a3f5f",
             "gridcolor": "white",
             "linecolor": "white",
             "minorgridcolor": "white",
             "startlinecolor": "#2a3f5f"
            },
            "type": "carpet"
           }
          ],
          "choropleth": [
           {
            "colorbar": {
             "outlinewidth": 0,
             "ticks": ""
            },
            "type": "choropleth"
           }
          ],
          "contour": [
           {
            "colorbar": {
             "outlinewidth": 0,
             "ticks": ""
            },
            "colorscale": [
             [
              0,
              "#0d0887"
             ],
             [
              0.1111111111111111,
              "#46039f"
             ],
             [
              0.2222222222222222,
              "#7201a8"
             ],
             [
              0.3333333333333333,
              "#9c179e"
             ],
             [
              0.4444444444444444,
              "#bd3786"
             ],
             [
              0.5555555555555556,
              "#d8576b"
             ],
             [
              0.6666666666666666,
              "#ed7953"
             ],
             [
              0.7777777777777778,
              "#fb9f3a"
             ],
             [
              0.8888888888888888,
              "#fdca26"
             ],
             [
              1,
              "#f0f921"
             ]
            ],
            "type": "contour"
           }
          ],
          "contourcarpet": [
           {
            "colorbar": {
             "outlinewidth": 0,
             "ticks": ""
            },
            "type": "contourcarpet"
           }
          ],
          "heatmap": [
           {
            "colorbar": {
             "outlinewidth": 0,
             "ticks": ""
            },
            "colorscale": [
             [
              0,
              "#0d0887"
             ],
             [
              0.1111111111111111,
              "#46039f"
             ],
             [
              0.2222222222222222,
              "#7201a8"
             ],
             [
              0.3333333333333333,
              "#9c179e"
             ],
             [
              0.4444444444444444,
              "#bd3786"
             ],
             [
              0.5555555555555556,
              "#d8576b"
             ],
             [
              0.6666666666666666,
              "#ed7953"
             ],
             [
              0.7777777777777778,
              "#fb9f3a"
             ],
             [
              0.8888888888888888,
              "#fdca26"
             ],
             [
              1,
              "#f0f921"
             ]
            ],
            "type": "heatmap"
           }
          ],
          "heatmapgl": [
           {
            "colorbar": {
             "outlinewidth": 0,
             "ticks": ""
            },
            "colorscale": [
             [
              0,
              "#0d0887"
             ],
             [
              0.1111111111111111,
              "#46039f"
             ],
             [
              0.2222222222222222,
              "#7201a8"
             ],
             [
              0.3333333333333333,
              "#9c179e"
             ],
             [
              0.4444444444444444,
              "#bd3786"
             ],
             [
              0.5555555555555556,
              "#d8576b"
             ],
             [
              0.6666666666666666,
              "#ed7953"
             ],
             [
              0.7777777777777778,
              "#fb9f3a"
             ],
             [
              0.8888888888888888,
              "#fdca26"
             ],
             [
              1,
              "#f0f921"
             ]
            ],
            "type": "heatmapgl"
           }
          ],
          "histogram": [
           {
            "marker": {
             "pattern": {
              "fillmode": "overlay",
              "size": 10,
              "solidity": 0.2
             }
            },
            "type": "histogram"
           }
          ],
          "histogram2d": [
           {
            "colorbar": {
             "outlinewidth": 0,
             "ticks": ""
            },
            "colorscale": [
             [
              0,
              "#0d0887"
             ],
             [
              0.1111111111111111,
              "#46039f"
             ],
             [
              0.2222222222222222,
              "#7201a8"
             ],
             [
              0.3333333333333333,
              "#9c179e"
             ],
             [
              0.4444444444444444,
              "#bd3786"
             ],
             [
              0.5555555555555556,
              "#d8576b"
             ],
             [
              0.6666666666666666,
              "#ed7953"
             ],
             [
              0.7777777777777778,
              "#fb9f3a"
             ],
             [
              0.8888888888888888,
              "#fdca26"
             ],
             [
              1,
              "#f0f921"
             ]
            ],
            "type": "histogram2d"
           }
          ],
          "histogram2dcontour": [
           {
            "colorbar": {
             "outlinewidth": 0,
             "ticks": ""
            },
            "colorscale": [
             [
              0,
              "#0d0887"
             ],
             [
              0.1111111111111111,
              "#46039f"
             ],
             [
              0.2222222222222222,
              "#7201a8"
             ],
             [
              0.3333333333333333,
              "#9c179e"
             ],
             [
              0.4444444444444444,
              "#bd3786"
             ],
             [
              0.5555555555555556,
              "#d8576b"
             ],
             [
              0.6666666666666666,
              "#ed7953"
             ],
             [
              0.7777777777777778,
              "#fb9f3a"
             ],
             [
              0.8888888888888888,
              "#fdca26"
             ],
             [
              1,
              "#f0f921"
             ]
            ],
            "type": "histogram2dcontour"
           }
          ],
          "mesh3d": [
           {
            "colorbar": {
             "outlinewidth": 0,
             "ticks": ""
            },
            "type": "mesh3d"
           }
          ],
          "parcoords": [
           {
            "line": {
             "colorbar": {
              "outlinewidth": 0,
              "ticks": ""
             }
            },
            "type": "parcoords"
           }
          ],
          "pie": [
           {
            "automargin": true,
            "type": "pie"
           }
          ],
          "scatter": [
           {
            "fillpattern": {
             "fillmode": "overlay",
             "size": 10,
             "solidity": 0.2
            },
            "type": "scatter"
           }
          ],
          "scatter3d": [
           {
            "line": {
             "colorbar": {
              "outlinewidth": 0,
              "ticks": ""
             }
            },
            "marker": {
             "colorbar": {
              "outlinewidth": 0,
              "ticks": ""
             }
            },
            "type": "scatter3d"
           }
          ],
          "scattercarpet": [
           {
            "marker": {
             "colorbar": {
              "outlinewidth": 0,
              "ticks": ""
             }
            },
            "type": "scattercarpet"
           }
          ],
          "scattergeo": [
           {
            "marker": {
             "colorbar": {
              "outlinewidth": 0,
              "ticks": ""
             }
            },
            "type": "scattergeo"
           }
          ],
          "scattergl": [
           {
            "marker": {
             "colorbar": {
              "outlinewidth": 0,
              "ticks": ""
             }
            },
            "type": "scattergl"
           }
          ],
          "scattermapbox": [
           {
            "marker": {
             "colorbar": {
              "outlinewidth": 0,
              "ticks": ""
             }
            },
            "type": "scattermapbox"
           }
          ],
          "scatterpolar": [
           {
            "marker": {
             "colorbar": {
              "outlinewidth": 0,
              "ticks": ""
             }
            },
            "type": "scatterpolar"
           }
          ],
          "scatterpolargl": [
           {
            "marker": {
             "colorbar": {
              "outlinewidth": 0,
              "ticks": ""
             }
            },
            "type": "scatterpolargl"
           }
          ],
          "scatterternary": [
           {
            "marker": {
             "colorbar": {
              "outlinewidth": 0,
              "ticks": ""
             }
            },
            "type": "scatterternary"
           }
          ],
          "surface": [
           {
            "colorbar": {
             "outlinewidth": 0,
             "ticks": ""
            },
            "colorscale": [
             [
              0,
              "#0d0887"
             ],
             [
              0.1111111111111111,
              "#46039f"
             ],
             [
              0.2222222222222222,
              "#7201a8"
             ],
             [
              0.3333333333333333,
              "#9c179e"
             ],
             [
              0.4444444444444444,
              "#bd3786"
             ],
             [
              0.5555555555555556,
              "#d8576b"
             ],
             [
              0.6666666666666666,
              "#ed7953"
             ],
             [
              0.7777777777777778,
              "#fb9f3a"
             ],
             [
              0.8888888888888888,
              "#fdca26"
             ],
             [
              1,
              "#f0f921"
             ]
            ],
            "type": "surface"
           }
          ],
          "table": [
           {
            "cells": {
             "fill": {
              "color": "#EBF0F8"
             },
             "line": {
              "color": "white"
             }
            },
            "header": {
             "fill": {
              "color": "#C8D4E3"
             },
             "line": {
              "color": "white"
             }
            },
            "type": "table"
           }
          ]
         },
         "layout": {
          "annotationdefaults": {
           "arrowcolor": "#2a3f5f",
           "arrowhead": 0,
           "arrowwidth": 1
          },
          "autotypenumbers": "strict",
          "coloraxis": {
           "colorbar": {
            "outlinewidth": 0,
            "ticks": ""
           }
          },
          "colorscale": {
           "diverging": [
            [
             0,
             "#8e0152"
            ],
            [
             0.1,
             "#c51b7d"
            ],
            [
             0.2,
             "#de77ae"
            ],
            [
             0.3,
             "#f1b6da"
            ],
            [
             0.4,
             "#fde0ef"
            ],
            [
             0.5,
             "#f7f7f7"
            ],
            [
             0.6,
             "#e6f5d0"
            ],
            [
             0.7,
             "#b8e186"
            ],
            [
             0.8,
             "#7fbc41"
            ],
            [
             0.9,
             "#4d9221"
            ],
            [
             1,
             "#276419"
            ]
           ],
           "sequential": [
            [
             0,
             "#0d0887"
            ],
            [
             0.1111111111111111,
             "#46039f"
            ],
            [
             0.2222222222222222,
             "#7201a8"
            ],
            [
             0.3333333333333333,
             "#9c179e"
            ],
            [
             0.4444444444444444,
             "#bd3786"
            ],
            [
             0.5555555555555556,
             "#d8576b"
            ],
            [
             0.6666666666666666,
             "#ed7953"
            ],
            [
             0.7777777777777778,
             "#fb9f3a"
            ],
            [
             0.8888888888888888,
             "#fdca26"
            ],
            [
             1,
             "#f0f921"
            ]
           ],
           "sequentialminus": [
            [
             0,
             "#0d0887"
            ],
            [
             0.1111111111111111,
             "#46039f"
            ],
            [
             0.2222222222222222,
             "#7201a8"
            ],
            [
             0.3333333333333333,
             "#9c179e"
            ],
            [
             0.4444444444444444,
             "#bd3786"
            ],
            [
             0.5555555555555556,
             "#d8576b"
            ],
            [
             0.6666666666666666,
             "#ed7953"
            ],
            [
             0.7777777777777778,
             "#fb9f3a"
            ],
            [
             0.8888888888888888,
             "#fdca26"
            ],
            [
             1,
             "#f0f921"
            ]
           ]
          },
          "colorway": [
           "#636efa",
           "#EF553B",
           "#00cc96",
           "#ab63fa",
           "#FFA15A",
           "#19d3f3",
           "#FF6692",
           "#B6E880",
           "#FF97FF",
           "#FECB52"
          ],
          "font": {
           "color": "#2a3f5f"
          },
          "geo": {
           "bgcolor": "white",
           "lakecolor": "white",
           "landcolor": "#E5ECF6",
           "showlakes": true,
           "showland": true,
           "subunitcolor": "white"
          },
          "hoverlabel": {
           "align": "left"
          },
          "hovermode": "closest",
          "mapbox": {
           "style": "light"
          },
          "paper_bgcolor": "white",
          "plot_bgcolor": "#E5ECF6",
          "polar": {
           "angularaxis": {
            "gridcolor": "white",
            "linecolor": "white",
            "ticks": ""
           },
           "bgcolor": "#E5ECF6",
           "radialaxis": {
            "gridcolor": "white",
            "linecolor": "white",
            "ticks": ""
           }
          },
          "scene": {
           "xaxis": {
            "backgroundcolor": "#E5ECF6",
            "gridcolor": "white",
            "gridwidth": 2,
            "linecolor": "white",
            "showbackground": true,
            "ticks": "",
            "zerolinecolor": "white"
           },
           "yaxis": {
            "backgroundcolor": "#E5ECF6",
            "gridcolor": "white",
            "gridwidth": 2,
            "linecolor": "white",
            "showbackground": true,
            "ticks": "",
            "zerolinecolor": "white"
           },
           "zaxis": {
            "backgroundcolor": "#E5ECF6",
            "gridcolor": "white",
            "gridwidth": 2,
            "linecolor": "white",
            "showbackground": true,
            "ticks": "",
            "zerolinecolor": "white"
           }
          },
          "shapedefaults": {
           "line": {
            "color": "#2a3f5f"
           }
          },
          "ternary": {
           "aaxis": {
            "gridcolor": "white",
            "linecolor": "white",
            "ticks": ""
           },
           "baxis": {
            "gridcolor": "white",
            "linecolor": "white",
            "ticks": ""
           },
           "bgcolor": "#E5ECF6",
           "caxis": {
            "gridcolor": "white",
            "linecolor": "white",
            "ticks": ""
           }
          },
          "title": {
           "x": 0.05
          },
          "xaxis": {
           "automargin": true,
           "gridcolor": "white",
           "linecolor": "white",
           "ticks": "",
           "title": {
            "standoff": 15
           },
           "zerolinecolor": "white",
           "zerolinewidth": 2
          },
          "yaxis": {
           "automargin": true,
           "gridcolor": "white",
           "linecolor": "white",
           "ticks": "",
           "title": {
            "standoff": 15
           },
           "zerolinecolor": "white",
           "zerolinewidth": 2
          }
         }
        },
        "title": {
         "text": "Corr après attaque en fonction de No"
        },
        "width": 700,
        "xaxis": {
         "title": {
          "text": "No (Nombre d'observations)"
         }
        },
        "yaxis": {
         "title": {
          "text": "Cor"
         }
        }
       }
      }
     },
     "metadata": {},
     "output_type": "display_data"
    }
   ],
   "source": [
    "# Compute the Bit Error Rate between message m and the extracted message from Y using key k\n",
    "def ber(Y,m,k):\n",
    "    c = np.sign(np.dot(Y.T,k))\n",
    "    return np.sum(c != m)/float(Ni)\n",
    "\n",
    "# Compute the Normalised correlation\n",
    "def norm_corr(hatk,k):\n",
    "    hatk = hatk / np.sqrt(np.dot(hatk.T,hatk)) # Normalize\n",
    "    corrN = np.abs(np.dot(hatk.T,k))/(np.linalg.norm(hatk)*np.linalg.norm(k)) \n",
    "    return corrN\n",
    "\n",
    "def do_process(alpha,No):\n",
    "    #print(f'alpha: {alpha}, No: {No}')\n",
    "    X = np.random.randn(Nv,Ni) # Generate Ni random host vectors\n",
    "    k = np.random.randn(Nv,1) # Generate de Watermark\n",
    "    k = k / np.sqrt(np.dot(k.T,k)) # Normalize the watermark\n",
    "\n",
    "    m1 = np.ones((Ni,1)) #Scenario with Known Messages: generate only ones\n",
    "    K = np.dot(k,m1.T) # Generate the matrix of watermarks (each column contains m1_i*k)\n",
    "    W = alpha*K\n",
    "    Y = X + W # perform embedding\n",
    "\n",
    "\n",
    "    #cY = np.sign(np.dot(Y.T,k)) # Computation of the decoded 'bits' (here -1 or +1)\n",
    "    #print('practical bit error rate:')\n",
    "    #print(np.sum(cY != m1)/np.float(Ni)) \n",
    "\n",
    "    Y_obs = Y[:,:No]\n",
    "    # To Do: implement the attack on No observation, i.e. on Y[:,:No]\n",
    "    \n",
    "    hatk = np.mean(Y_obs, axis=1)\n",
    "    hatk = hatk / np.sqrt(np.dot(hatk.T,hatk)) # We need to Normalize\n",
    "    \n",
    "    corrN = np.abs(np.dot(hatk.T,k))/(np.linalg.norm(hatk)*np.linalg.norm(k)) # Compute the Normalised correlation\n",
    "    #print('Normalised correlation between the true key and the estimated key')\n",
    "    #print(corrN)\n",
    "\n",
    "    hatk = np.reshape(hatk,(Nv,1))# We need to reshape\n",
    "\n",
    "    YA = Y - alpha*np.dot(hatk,m1.T) # perform the removal attack\n",
    "    #print('BER après attaque:', ber(YA, m1, k))\n",
    "    #print('\\n\\n')\n",
    "    return ber(YA, m1, k), corrN[0]\n",
    "\n",
    "    \n",
    "alpha = 2 # Tune the power of the watermark here\n",
    "\n",
    "# Réinitialisation des vecteurs pour les plots\n",
    "ber_values = []\n",
    "corr_values = []\n",
    "No_values = range(100,Ni,100) \n",
    "\n",
    "# One example, can be used to draw plots\n",
    "for No in No_values:\n",
    "    ber_val, corr_val = do_process(alpha, No)\n",
    "    ber_values.append(ber_val)\n",
    "    corr_values.append(corr_val)\n",
    "\n",
    "\n",
    "# Graphique du BER\n",
    "fig_ber = go.Figure()\n",
    "fig_ber.add_trace(go.Scatter(x=list(No_values), y=ber_values, mode='lines+markers', name='BER après attaque'))\n",
    "fig_ber.add_hline(y=0.5, line_dash=\"dot\", line_color=\"red\", annotation_text=\"BER 50%\", annotation_position=\"bottom left\")\n",
    "fig_ber.update_layout(\n",
    "    title=\"BER après attaque en fonction de No\",\n",
    "    xaxis_title=\"No (Nombre d'observations)\",\n",
    "    yaxis_title=\"BER\",\n",
    "    width=700,\n",
    "    height=400\n",
    ")\n",
    "fig_ber.show()\n",
    "\n",
    "# Graphique du Corr\n",
    "fig_corr = go.Figure()\n",
    "fig_corr.add_trace(go.Scatter(x=list(No_values), y=corr_values, mode='lines+markers', name='Corr après attaque'))\n",
    "fig_corr.add_hline(y=1, line_dash=\"dot\", line_color=\"red\", annotation_text=\"Corr = 1\", annotation_position=\"bottom left\")\n",
    "fig_corr.update_layout(\n",
    "    title=\"Corr après attaque en fonction de No\",\n",
    "    xaxis_title=\"No (Nombre d'observations)\",\n",
    "    yaxis_title=\"Cor\",\n",
    "    width=700,\n",
    "    height=400\n",
    ")\n",
    "fig_corr.show()"
   ]
  },
  {
   "cell_type": "code",
   "execution_count": 4,
   "metadata": {},
   "outputs": [
    {
     "data": {
      "application/vnd.plotly.v1+json": {
       "config": {
        "plotlyServerURL": "https://plot.ly"
       },
       "data": [
        {
         "mode": "lines+markers",
         "name": "alpha = 0.2",
         "type": "scatter",
         "x": [
          100,
          200,
          300,
          400,
          500,
          600,
          700,
          800,
          900,
          1000,
          1100,
          1200,
          1300,
          1400,
          1500,
          1600,
          1700,
          1800,
          1900,
          2000,
          2100,
          2200,
          2300,
          2400,
          2500,
          2600,
          2700,
          2800,
          2900,
          3000,
          3100,
          3200,
          3300,
          3400,
          3500,
          3600,
          3700,
          3800,
          3900,
          4000,
          4100,
          4200,
          4300,
          4400,
          4500,
          4600,
          4700,
          4800,
          4900,
          5000,
          5100,
          5200,
          5300,
          5400,
          5500,
          5600,
          5700,
          5800,
          5900,
          6000,
          6100,
          6200,
          6300,
          6400,
          6500,
          6600,
          6700,
          6800,
          6900,
          7000,
          7100,
          7200,
          7300,
          7400,
          7500,
          7600,
          7700,
          7800,
          7900,
          8000,
          8100,
          8200,
          8300,
          8400,
          8500,
          8600,
          8700,
          8800,
          8900,
          9000,
          9100,
          9200,
          9300,
          9400,
          9500,
          9600,
          9700,
          9800,
          9900,
          10000,
          10100,
          10200,
          10300,
          10400,
          10500,
          10600,
          10700,
          10800,
          10900,
          11000,
          11100,
          11200,
          11300,
          11400,
          11500,
          11600,
          11700,
          11800,
          11900,
          12000,
          12100,
          12200,
          12300,
          12400,
          12500,
          12600,
          12700,
          12800,
          12900,
          13000,
          13100,
          13200,
          13300,
          13400,
          13500,
          13600,
          13700,
          13800,
          13900,
          14000,
          14100,
          14200,
          14300,
          14400,
          14500,
          14600,
          14700,
          14800,
          14900,
          15000,
          15100,
          15200,
          15300,
          15400,
          15500,
          15600,
          15700,
          15800,
          15900,
          16000,
          16100,
          16200,
          16300,
          16400,
          16500,
          16600,
          16700,
          16800,
          16900,
          17000,
          17100,
          17200,
          17300,
          17400,
          17500,
          17600,
          17700,
          17800,
          17900,
          18000,
          18100,
          18200,
          18300,
          18400,
          18500,
          18600,
          18700,
          18800,
          18900,
          19000,
          19100,
          19200,
          19300,
          19400,
          19500,
          19600,
          19700,
          19800,
          19900
         ],
         "y": [
          0.4331,
          0.4359,
          0.4372,
          0.4558,
          0.4369,
          0.4527,
          0.4452,
          0.4712,
          0.4533,
          0.4633,
          0.4572,
          0.4668,
          0.4593,
          0.4618,
          0.4742,
          0.4813,
          0.4734,
          0.4666,
          0.4739,
          0.4665,
          0.4711,
          0.4796,
          0.4691,
          0.4762,
          0.4842,
          0.4758,
          0.4812,
          0.4761,
          0.4836,
          0.4787,
          0.48,
          0.4828,
          0.4765,
          0.4764,
          0.4772,
          0.4831,
          0.4777,
          0.4794,
          0.4844,
          0.4841,
          0.4837,
          0.4913,
          0.4813,
          0.4885,
          0.4754,
          0.4837,
          0.4882,
          0.4867,
          0.486,
          0.4853,
          0.4842,
          0.4875,
          0.4851,
          0.4765,
          0.485,
          0.4867,
          0.4875,
          0.4904,
          0.4841,
          0.4891,
          0.4841,
          0.488,
          0.4852,
          0.4965,
          0.4858,
          0.4908,
          0.4931,
          0.4924,
          0.4883,
          0.4925,
          0.4845,
          0.4934,
          0.4853,
          0.4881,
          0.4871,
          0.4943,
          0.4972,
          0.5017,
          0.4876,
          0.4796,
          0.4913,
          0.4932,
          0.4925,
          0.4931,
          0.4864,
          0.4916,
          0.4945,
          0.4895,
          0.4842,
          0.4928,
          0.4946,
          0.4938,
          0.4846,
          0.491,
          0.493,
          0.4946,
          0.5005,
          0.494,
          0.4899,
          0.4916,
          0.4884,
          0.4932,
          0.5016,
          0.4997,
          0.4823,
          0.4896,
          0.4875,
          0.4892,
          0.4907,
          0.4909,
          0.4907,
          0.494,
          0.4961,
          0.4934,
          0.499,
          0.4983,
          0.4884,
          0.4916,
          0.4939,
          0.4848,
          0.4895,
          0.5015,
          0.4944,
          0.4911,
          0.4899,
          0.489,
          0.4914,
          0.4975,
          0.4915,
          0.4896,
          0.5015,
          0.4924,
          0.5001,
          0.4916,
          0.4927,
          0.493,
          0.4958,
          0.4935,
          0.489,
          0.4915,
          0.4845,
          0.4921,
          0.49,
          0.4904,
          0.492,
          0.4932,
          0.4878,
          0.4869,
          0.4984,
          0.4945,
          0.4883,
          0.4818,
          0.4835,
          0.4921,
          0.4944,
          0.4954,
          0.4928,
          0.4887,
          0.4803,
          0.5007,
          0.4885,
          0.476,
          0.4866,
          0.4884,
          0.4931,
          0.4916,
          0.4919,
          0.4862,
          0.4951,
          0.4917,
          0.4944,
          0.4964,
          0.4847,
          0.4925,
          0.4929,
          0.4812,
          0.4916,
          0.491,
          0.4854,
          0.491,
          0.4926,
          0.4938,
          0.4845,
          0.4948,
          0.4882,
          0.4953,
          0.496,
          0.4919,
          0.4906,
          0.489,
          0.4878,
          0.4917,
          0.4853,
          0.4914,
          0.4885,
          0.4905,
          0.4899,
          0.4936,
          0.494
         ]
        },
        {
         "mode": "lines+markers",
         "name": "alpha = 0.5",
         "type": "scatter",
         "x": [
          100,
          200,
          300,
          400,
          500,
          600,
          700,
          800,
          900,
          1000,
          1100,
          1200,
          1300,
          1400,
          1500,
          1600,
          1700,
          1800,
          1900,
          2000,
          2100,
          2200,
          2300,
          2400,
          2500,
          2600,
          2700,
          2800,
          2900,
          3000,
          3100,
          3200,
          3300,
          3400,
          3500,
          3600,
          3700,
          3800,
          3900,
          4000,
          4100,
          4200,
          4300,
          4400,
          4500,
          4600,
          4700,
          4800,
          4900,
          5000,
          5100,
          5200,
          5300,
          5400,
          5500,
          5600,
          5700,
          5800,
          5900,
          6000,
          6100,
          6200,
          6300,
          6400,
          6500,
          6600,
          6700,
          6800,
          6900,
          7000,
          7100,
          7200,
          7300,
          7400,
          7500,
          7600,
          7700,
          7800,
          7900,
          8000,
          8100,
          8200,
          8300,
          8400,
          8500,
          8600,
          8700,
          8800,
          8900,
          9000,
          9100,
          9200,
          9300,
          9400,
          9500,
          9600,
          9700,
          9800,
          9900,
          10000,
          10100,
          10200,
          10300,
          10400,
          10500,
          10600,
          10700,
          10800,
          10900,
          11000,
          11100,
          11200,
          11300,
          11400,
          11500,
          11600,
          11700,
          11800,
          11900,
          12000,
          12100,
          12200,
          12300,
          12400,
          12500,
          12600,
          12700,
          12800,
          12900,
          13000,
          13100,
          13200,
          13300,
          13400,
          13500,
          13600,
          13700,
          13800,
          13900,
          14000,
          14100,
          14200,
          14300,
          14400,
          14500,
          14600,
          14700,
          14800,
          14900,
          15000,
          15100,
          15200,
          15300,
          15400,
          15500,
          15600,
          15700,
          15800,
          15900,
          16000,
          16100,
          16200,
          16300,
          16400,
          16500,
          16600,
          16700,
          16800,
          16900,
          17000,
          17100,
          17200,
          17300,
          17400,
          17500,
          17600,
          17700,
          17800,
          17900,
          18000,
          18100,
          18200,
          18300,
          18400,
          18500,
          18600,
          18700,
          18800,
          18900,
          19000,
          19100,
          19200,
          19300,
          19400,
          19500,
          19600,
          19700,
          19800,
          19900
         ],
         "y": [
          0.3927,
          0.4309,
          0.4234,
          0.4337,
          0.4703,
          0.4478,
          0.461,
          0.4711,
          0.4648,
          0.4699,
          0.477,
          0.4732,
          0.4707,
          0.4695,
          0.4936,
          0.4792,
          0.4816,
          0.487,
          0.4856,
          0.4899,
          0.482,
          0.4779,
          0.4841,
          0.4959,
          0.4911,
          0.4828,
          0.4894,
          0.4804,
          0.4771,
          0.492,
          0.4901,
          0.4907,
          0.4894,
          0.4836,
          0.4938,
          0.49,
          0.4962,
          0.4958,
          0.4882,
          0.4867,
          0.4905,
          0.4903,
          0.4936,
          0.4962,
          0.485,
          0.4923,
          0.4928,
          0.4965,
          0.4893,
          0.4943,
          0.4901,
          0.4981,
          0.4857,
          0.4959,
          0.4848,
          0.4939,
          0.495,
          0.4932,
          0.4965,
          0.5,
          0.4899,
          0.4941,
          0.5028,
          0.498,
          0.4912,
          0.505,
          0.4922,
          0.4925,
          0.489,
          0.4934,
          0.4995,
          0.496,
          0.4955,
          0.492,
          0.4995,
          0.4935,
          0.4969,
          0.4901,
          0.4985,
          0.489,
          0.5009,
          0.4944,
          0.4925,
          0.5022,
          0.4933,
          0.4871,
          0.4928,
          0.4984,
          0.5012,
          0.4864,
          0.4926,
          0.5067,
          0.4933,
          0.4955,
          0.4991,
          0.4926,
          0.4942,
          0.493,
          0.4967,
          0.5038,
          0.5014,
          0.4969,
          0.4973,
          0.4933,
          0.4978,
          0.4945,
          0.4948,
          0.4939,
          0.4861,
          0.494,
          0.4982,
          0.4999,
          0.4983,
          0.4977,
          0.4902,
          0.4969,
          0.4993,
          0.4915,
          0.5043,
          0.4926,
          0.5019,
          0.5002,
          0.4931,
          0.4979,
          0.4894,
          0.4949,
          0.4906,
          0.4968,
          0.4944,
          0.4968,
          0.4971,
          0.4974,
          0.4991,
          0.4998,
          0.4943,
          0.4985,
          0.4912,
          0.4904,
          0.4944,
          0.5025,
          0.502,
          0.4939,
          0.4938,
          0.4952,
          0.4947,
          0.4893,
          0.4956,
          0.492,
          0.493,
          0.491,
          0.498,
          0.4957,
          0.5017,
          0.5061,
          0.4887,
          0.4925,
          0.4975,
          0.4973,
          0.499,
          0.4966,
          0.4967,
          0.4995,
          0.4922,
          0.496,
          0.5032,
          0.4938,
          0.4886,
          0.4932,
          0.496,
          0.4958,
          0.4993,
          0.5004,
          0.4935,
          0.4922,
          0.4972,
          0.4959,
          0.4862,
          0.5012,
          0.5001,
          0.5043,
          0.5011,
          0.487,
          0.4967,
          0.4887,
          0.4978,
          0.4982,
          0.4987,
          0.5002,
          0.4872,
          0.4947,
          0.4991,
          0.4947,
          0.4905,
          0.5014,
          0.4936,
          0.4969,
          0.4948,
          0.4834,
          0.5049
         ]
        },
        {
         "mode": "lines+markers",
         "name": "alpha = 1",
         "type": "scatter",
         "x": [
          100,
          200,
          300,
          400,
          500,
          600,
          700,
          800,
          900,
          1000,
          1100,
          1200,
          1300,
          1400,
          1500,
          1600,
          1700,
          1800,
          1900,
          2000,
          2100,
          2200,
          2300,
          2400,
          2500,
          2600,
          2700,
          2800,
          2900,
          3000,
          3100,
          3200,
          3300,
          3400,
          3500,
          3600,
          3700,
          3800,
          3900,
          4000,
          4100,
          4200,
          4300,
          4400,
          4500,
          4600,
          4700,
          4800,
          4900,
          5000,
          5100,
          5200,
          5300,
          5400,
          5500,
          5600,
          5700,
          5800,
          5900,
          6000,
          6100,
          6200,
          6300,
          6400,
          6500,
          6600,
          6700,
          6800,
          6900,
          7000,
          7100,
          7200,
          7300,
          7400,
          7500,
          7600,
          7700,
          7800,
          7900,
          8000,
          8100,
          8200,
          8300,
          8400,
          8500,
          8600,
          8700,
          8800,
          8900,
          9000,
          9100,
          9200,
          9300,
          9400,
          9500,
          9600,
          9700,
          9800,
          9900,
          10000,
          10100,
          10200,
          10300,
          10400,
          10500,
          10600,
          10700,
          10800,
          10900,
          11000,
          11100,
          11200,
          11300,
          11400,
          11500,
          11600,
          11700,
          11800,
          11900,
          12000,
          12100,
          12200,
          12300,
          12400,
          12500,
          12600,
          12700,
          12800,
          12900,
          13000,
          13100,
          13200,
          13300,
          13400,
          13500,
          13600,
          13700,
          13800,
          13900,
          14000,
          14100,
          14200,
          14300,
          14400,
          14500,
          14600,
          14700,
          14800,
          14900,
          15000,
          15100,
          15200,
          15300,
          15400,
          15500,
          15600,
          15700,
          15800,
          15900,
          16000,
          16100,
          16200,
          16300,
          16400,
          16500,
          16600,
          16700,
          16800,
          16900,
          17000,
          17100,
          17200,
          17300,
          17400,
          17500,
          17600,
          17700,
          17800,
          17900,
          18000,
          18100,
          18200,
          18300,
          18400,
          18500,
          18600,
          18700,
          18800,
          18900,
          19000,
          19100,
          19200,
          19300,
          19400,
          19500,
          19600,
          19700,
          19800,
          19900
         ],
         "y": [
          0.3809,
          0.4272,
          0.45,
          0.4547,
          0.4682,
          0.4606,
          0.4775,
          0.4702,
          0.4763,
          0.4768,
          0.4845,
          0.489,
          0.4877,
          0.4855,
          0.4963,
          0.4877,
          0.4859,
          0.4802,
          0.4883,
          0.508,
          0.4854,
          0.4944,
          0.491,
          0.4869,
          0.4935,
          0.4891,
          0.4851,
          0.4997,
          0.4904,
          0.4951,
          0.4969,
          0.4955,
          0.4977,
          0.4927,
          0.5016,
          0.5007,
          0.4973,
          0.4941,
          0.4892,
          0.5033,
          0.4933,
          0.5013,
          0.5051,
          0.4934,
          0.4947,
          0.5011,
          0.4989,
          0.4935,
          0.4977,
          0.4974,
          0.4998,
          0.4957,
          0.4977,
          0.4996,
          0.4969,
          0.4969,
          0.4949,
          0.5011,
          0.4911,
          0.4918,
          0.499,
          0.4974,
          0.4891,
          0.4949,
          0.4981,
          0.4925,
          0.501,
          0.4967,
          0.4962,
          0.4922,
          0.4923,
          0.5005,
          0.5063,
          0.4917,
          0.4987,
          0.5018,
          0.4968,
          0.4992,
          0.4999,
          0.4907,
          0.4968,
          0.5027,
          0.4941,
          0.4948,
          0.5031,
          0.4992,
          0.4963,
          0.495,
          0.4995,
          0.5001,
          0.4955,
          0.4985,
          0.4938,
          0.5,
          0.4974,
          0.4935,
          0.5025,
          0.5003,
          0.4897,
          0.5005,
          0.4965,
          0.4965,
          0.4957,
          0.4929,
          0.5037,
          0.5022,
          0.4956,
          0.4982,
          0.4972,
          0.4943,
          0.4917,
          0.5001,
          0.4974,
          0.5025,
          0.4995,
          0.4981,
          0.4978,
          0.4973,
          0.4936,
          0.5038,
          0.493,
          0.5061,
          0.491,
          0.4969,
          0.5028,
          0.4979,
          0.5043,
          0.4963,
          0.4959,
          0.4931,
          0.5053,
          0.5005,
          0.5006,
          0.4979,
          0.5015,
          0.4917,
          0.4977,
          0.4998,
          0.5043,
          0.493,
          0.497,
          0.5004,
          0.5033,
          0.5094,
          0.4929,
          0.5026,
          0.5,
          0.5095,
          0.4938,
          0.5011,
          0.5015,
          0.4976,
          0.5013,
          0.495,
          0.495,
          0.4953,
          0.499,
          0.4983,
          0.5008,
          0.5022,
          0.4991,
          0.5007,
          0.4965,
          0.4931,
          0.4929,
          0.5052,
          0.4934,
          0.5034,
          0.4958,
          0.5,
          0.4928,
          0.5014,
          0.4942,
          0.5033,
          0.4994,
          0.4993,
          0.495,
          0.4979,
          0.4965,
          0.5004,
          0.5061,
          0.4936,
          0.4989,
          0.4972,
          0.5004,
          0.4909,
          0.5003,
          0.5012,
          0.4998,
          0.4979,
          0.4959,
          0.5028,
          0.4861,
          0.5047,
          0.4905,
          0.4843,
          0.5042,
          0.498,
          0.4985
         ]
        },
        {
         "mode": "lines+markers",
         "name": "alpha = 1.5",
         "type": "scatter",
         "x": [
          100,
          200,
          300,
          400,
          500,
          600,
          700,
          800,
          900,
          1000,
          1100,
          1200,
          1300,
          1400,
          1500,
          1600,
          1700,
          1800,
          1900,
          2000,
          2100,
          2200,
          2300,
          2400,
          2500,
          2600,
          2700,
          2800,
          2900,
          3000,
          3100,
          3200,
          3300,
          3400,
          3500,
          3600,
          3700,
          3800,
          3900,
          4000,
          4100,
          4200,
          4300,
          4400,
          4500,
          4600,
          4700,
          4800,
          4900,
          5000,
          5100,
          5200,
          5300,
          5400,
          5500,
          5600,
          5700,
          5800,
          5900,
          6000,
          6100,
          6200,
          6300,
          6400,
          6500,
          6600,
          6700,
          6800,
          6900,
          7000,
          7100,
          7200,
          7300,
          7400,
          7500,
          7600,
          7700,
          7800,
          7900,
          8000,
          8100,
          8200,
          8300,
          8400,
          8500,
          8600,
          8700,
          8800,
          8900,
          9000,
          9100,
          9200,
          9300,
          9400,
          9500,
          9600,
          9700,
          9800,
          9900,
          10000,
          10100,
          10200,
          10300,
          10400,
          10500,
          10600,
          10700,
          10800,
          10900,
          11000,
          11100,
          11200,
          11300,
          11400,
          11500,
          11600,
          11700,
          11800,
          11900,
          12000,
          12100,
          12200,
          12300,
          12400,
          12500,
          12600,
          12700,
          12800,
          12900,
          13000,
          13100,
          13200,
          13300,
          13400,
          13500,
          13600,
          13700,
          13800,
          13900,
          14000,
          14100,
          14200,
          14300,
          14400,
          14500,
          14600,
          14700,
          14800,
          14900,
          15000,
          15100,
          15200,
          15300,
          15400,
          15500,
          15600,
          15700,
          15800,
          15900,
          16000,
          16100,
          16200,
          16300,
          16400,
          16500,
          16600,
          16700,
          16800,
          16900,
          17000,
          17100,
          17200,
          17300,
          17400,
          17500,
          17600,
          17700,
          17800,
          17900,
          18000,
          18100,
          18200,
          18300,
          18400,
          18500,
          18600,
          18700,
          18800,
          18900,
          19000,
          19100,
          19200,
          19300,
          19400,
          19500,
          19600,
          19700,
          19800,
          19900
         ],
         "y": [
          0.4111,
          0.4462,
          0.4653,
          0.4731,
          0.474,
          0.4876,
          0.4753,
          0.4925,
          0.4865,
          0.477,
          0.4886,
          0.4915,
          0.4918,
          0.4871,
          0.4879,
          0.4938,
          0.5043,
          0.4968,
          0.4891,
          0.496,
          0.4985,
          0.4989,
          0.4918,
          0.4885,
          0.4909,
          0.4885,
          0.4961,
          0.4982,
          0.4867,
          0.4914,
          0.5019,
          0.4982,
          0.4956,
          0.5043,
          0.4894,
          0.4981,
          0.4975,
          0.4937,
          0.4988,
          0.4981,
          0.5007,
          0.494,
          0.4926,
          0.4978,
          0.4948,
          0.4947,
          0.4946,
          0.4915,
          0.498,
          0.5001,
          0.4993,
          0.5029,
          0.5008,
          0.4991,
          0.5083,
          0.4926,
          0.4928,
          0.5017,
          0.5005,
          0.5049,
          0.4978,
          0.5045,
          0.4924,
          0.4951,
          0.4927,
          0.4913,
          0.4926,
          0.5032,
          0.5019,
          0.4966,
          0.5056,
          0.4975,
          0.4951,
          0.4995,
          0.4964,
          0.4957,
          0.4985,
          0.4956,
          0.5009,
          0.5024,
          0.504,
          0.4918,
          0.5041,
          0.5022,
          0.4978,
          0.4923,
          0.5058,
          0.4938,
          0.4987,
          0.4966,
          0.5055,
          0.496,
          0.4919,
          0.4903,
          0.4932,
          0.4965,
          0.5029,
          0.4908,
          0.4923,
          0.4997,
          0.5017,
          0.4967,
          0.4992,
          0.5044,
          0.5086,
          0.4939,
          0.4967,
          0.5005,
          0.5,
          0.5011,
          0.4921,
          0.4971,
          0.4973,
          0.497,
          0.5051,
          0.5013,
          0.5004,
          0.4999,
          0.5008,
          0.5028,
          0.4962,
          0.4881,
          0.4933,
          0.5003,
          0.4944,
          0.4942,
          0.5024,
          0.4942,
          0.5007,
          0.4931,
          0.5127,
          0.4891,
          0.4991,
          0.5018,
          0.5001,
          0.4894,
          0.4868,
          0.5061,
          0.4958,
          0.4955,
          0.5012,
          0.5116,
          0.504,
          0.5058,
          0.4946,
          0.5012,
          0.4924,
          0.5013,
          0.4988,
          0.5045,
          0.5039,
          0.5007,
          0.4921,
          0.4952,
          0.4942,
          0.4917,
          0.5026,
          0.499,
          0.5016,
          0.4997,
          0.4973,
          0.4903,
          0.5008,
          0.501,
          0.4889,
          0.5052,
          0.5049,
          0.4941,
          0.4975,
          0.5075,
          0.4979,
          0.5031,
          0.5049,
          0.4937,
          0.5087,
          0.5011,
          0.4971,
          0.4999,
          0.4938,
          0.5014,
          0.5044,
          0.5001,
          0.4904,
          0.504,
          0.4929,
          0.4938,
          0.5017,
          0.5041,
          0.4988,
          0.4889,
          0.4959,
          0.4984,
          0.4953,
          0.5002,
          0.4999,
          0.5043,
          0.5057,
          0.5036,
          0.4986
         ]
        },
        {
         "mode": "lines+markers",
         "name": "alpha = 2",
         "type": "scatter",
         "x": [
          100,
          200,
          300,
          400,
          500,
          600,
          700,
          800,
          900,
          1000,
          1100,
          1200,
          1300,
          1400,
          1500,
          1600,
          1700,
          1800,
          1900,
          2000,
          2100,
          2200,
          2300,
          2400,
          2500,
          2600,
          2700,
          2800,
          2900,
          3000,
          3100,
          3200,
          3300,
          3400,
          3500,
          3600,
          3700,
          3800,
          3900,
          4000,
          4100,
          4200,
          4300,
          4400,
          4500,
          4600,
          4700,
          4800,
          4900,
          5000,
          5100,
          5200,
          5300,
          5400,
          5500,
          5600,
          5700,
          5800,
          5900,
          6000,
          6100,
          6200,
          6300,
          6400,
          6500,
          6600,
          6700,
          6800,
          6900,
          7000,
          7100,
          7200,
          7300,
          7400,
          7500,
          7600,
          7700,
          7800,
          7900,
          8000,
          8100,
          8200,
          8300,
          8400,
          8500,
          8600,
          8700,
          8800,
          8900,
          9000,
          9100,
          9200,
          9300,
          9400,
          9500,
          9600,
          9700,
          9800,
          9900,
          10000,
          10100,
          10200,
          10300,
          10400,
          10500,
          10600,
          10700,
          10800,
          10900,
          11000,
          11100,
          11200,
          11300,
          11400,
          11500,
          11600,
          11700,
          11800,
          11900,
          12000,
          12100,
          12200,
          12300,
          12400,
          12500,
          12600,
          12700,
          12800,
          12900,
          13000,
          13100,
          13200,
          13300,
          13400,
          13500,
          13600,
          13700,
          13800,
          13900,
          14000,
          14100,
          14200,
          14300,
          14400,
          14500,
          14600,
          14700,
          14800,
          14900,
          15000,
          15100,
          15200,
          15300,
          15400,
          15500,
          15600,
          15700,
          15800,
          15900,
          16000,
          16100,
          16200,
          16300,
          16400,
          16500,
          16600,
          16700,
          16800,
          16900,
          17000,
          17100,
          17200,
          17300,
          17400,
          17500,
          17600,
          17700,
          17800,
          17900,
          18000,
          18100,
          18200,
          18300,
          18400,
          18500,
          18600,
          18700,
          18800,
          18900,
          19000,
          19100,
          19200,
          19300,
          19400,
          19500,
          19600,
          19700,
          19800,
          19900
         ],
         "y": [
          0.4184,
          0.4699,
          0.4725,
          0.4769,
          0.4814,
          0.484,
          0.478,
          0.4852,
          0.4906,
          0.4919,
          0.4977,
          0.4967,
          0.4968,
          0.4924,
          0.4933,
          0.4921,
          0.4959,
          0.4896,
          0.4958,
          0.4938,
          0.5017,
          0.5006,
          0.5025,
          0.4986,
          0.4976,
          0.5043,
          0.4946,
          0.4933,
          0.4921,
          0.5019,
          0.4894,
          0.4986,
          0.493,
          0.4986,
          0.496,
          0.4962,
          0.4969,
          0.4914,
          0.5028,
          0.5146,
          0.4976,
          0.5009,
          0.5071,
          0.4951,
          0.5099,
          0.4988,
          0.4995,
          0.5014,
          0.5043,
          0.4997,
          0.4946,
          0.494,
          0.4942,
          0.4956,
          0.4969,
          0.505,
          0.4952,
          0.4991,
          0.4987,
          0.4994,
          0.4919,
          0.5014,
          0.4942,
          0.5054,
          0.4961,
          0.4928,
          0.5009,
          0.4979,
          0.503,
          0.4885,
          0.4913,
          0.504,
          0.506,
          0.505,
          0.499,
          0.5041,
          0.5071,
          0.4934,
          0.5039,
          0.4999,
          0.4983,
          0.4966,
          0.4959,
          0.4959,
          0.4956,
          0.5012,
          0.5001,
          0.4952,
          0.5002,
          0.5018,
          0.4987,
          0.4946,
          0.5014,
          0.5049,
          0.5074,
          0.498,
          0.5082,
          0.4963,
          0.4992,
          0.4945,
          0.5057,
          0.4894,
          0.4999,
          0.4972,
          0.4886,
          0.4982,
          0.4982,
          0.4974,
          0.5066,
          0.5,
          0.4954,
          0.4923,
          0.5072,
          0.4946,
          0.5154,
          0.4906,
          0.4991,
          0.4932,
          0.4966,
          0.4987,
          0.4997,
          0.4995,
          0.4933,
          0.4964,
          0.4983,
          0.4969,
          0.5011,
          0.4985,
          0.5004,
          0.4956,
          0.4948,
          0.4892,
          0.4991,
          0.4998,
          0.5001,
          0.4968,
          0.5026,
          0.493,
          0.4946,
          0.4955,
          0.4979,
          0.4968,
          0.4991,
          0.4964,
          0.4933,
          0.4968,
          0.5006,
          0.4995,
          0.5035,
          0.5058,
          0.5052,
          0.4938,
          0.4994,
          0.5042,
          0.4931,
          0.4927,
          0.5048,
          0.4998,
          0.4972,
          0.5108,
          0.4988,
          0.5093,
          0.5018,
          0.5034,
          0.5022,
          0.4936,
          0.4952,
          0.5015,
          0.5057,
          0.4986,
          0.4967,
          0.5028,
          0.5003,
          0.5037,
          0.4952,
          0.5043,
          0.4868,
          0.4961,
          0.494,
          0.498,
          0.5028,
          0.5115,
          0.5019,
          0.5067,
          0.5005,
          0.5009,
          0.4942,
          0.4985,
          0.4957,
          0.4963,
          0.4961,
          0.5041,
          0.4981,
          0.5026,
          0.4956,
          0.4956,
          0.5046,
          0.5057,
          0.494
         ]
        },
        {
         "mode": "lines+markers",
         "name": "alpha = 2.5",
         "type": "scatter",
         "x": [
          100,
          200,
          300,
          400,
          500,
          600,
          700,
          800,
          900,
          1000,
          1100,
          1200,
          1300,
          1400,
          1500,
          1600,
          1700,
          1800,
          1900,
          2000,
          2100,
          2200,
          2300,
          2400,
          2500,
          2600,
          2700,
          2800,
          2900,
          3000,
          3100,
          3200,
          3300,
          3400,
          3500,
          3600,
          3700,
          3800,
          3900,
          4000,
          4100,
          4200,
          4300,
          4400,
          4500,
          4600,
          4700,
          4800,
          4900,
          5000,
          5100,
          5200,
          5300,
          5400,
          5500,
          5600,
          5700,
          5800,
          5900,
          6000,
          6100,
          6200,
          6300,
          6400,
          6500,
          6600,
          6700,
          6800,
          6900,
          7000,
          7100,
          7200,
          7300,
          7400,
          7500,
          7600,
          7700,
          7800,
          7900,
          8000,
          8100,
          8200,
          8300,
          8400,
          8500,
          8600,
          8700,
          8800,
          8900,
          9000,
          9100,
          9200,
          9300,
          9400,
          9500,
          9600,
          9700,
          9800,
          9900,
          10000,
          10100,
          10200,
          10300,
          10400,
          10500,
          10600,
          10700,
          10800,
          10900,
          11000,
          11100,
          11200,
          11300,
          11400,
          11500,
          11600,
          11700,
          11800,
          11900,
          12000,
          12100,
          12200,
          12300,
          12400,
          12500,
          12600,
          12700,
          12800,
          12900,
          13000,
          13100,
          13200,
          13300,
          13400,
          13500,
          13600,
          13700,
          13800,
          13900,
          14000,
          14100,
          14200,
          14300,
          14400,
          14500,
          14600,
          14700,
          14800,
          14900,
          15000,
          15100,
          15200,
          15300,
          15400,
          15500,
          15600,
          15700,
          15800,
          15900,
          16000,
          16100,
          16200,
          16300,
          16400,
          16500,
          16600,
          16700,
          16800,
          16900,
          17000,
          17100,
          17200,
          17300,
          17400,
          17500,
          17600,
          17700,
          17800,
          17900,
          18000,
          18100,
          18200,
          18300,
          18400,
          18500,
          18600,
          18700,
          18800,
          18900,
          19000,
          19100,
          19200,
          19300,
          19400,
          19500,
          19600,
          19700,
          19800,
          19900
         ],
         "y": [
          0.4481,
          0.4575,
          0.4847,
          0.4861,
          0.478,
          0.4947,
          0.4839,
          0.4939,
          0.4889,
          0.4926,
          0.4917,
          0.4845,
          0.505,
          0.4923,
          0.4977,
          0.4927,
          0.5039,
          0.4926,
          0.496,
          0.501,
          0.4941,
          0.4912,
          0.5021,
          0.5037,
          0.4976,
          0.4942,
          0.5057,
          0.497,
          0.4909,
          0.5022,
          0.4989,
          0.5,
          0.505,
          0.4866,
          0.4967,
          0.502,
          0.4878,
          0.4962,
          0.5033,
          0.4935,
          0.4965,
          0.501,
          0.4969,
          0.4986,
          0.4999,
          0.5014,
          0.4966,
          0.5024,
          0.4909,
          0.4913,
          0.4982,
          0.4958,
          0.5004,
          0.5021,
          0.4991,
          0.4994,
          0.5005,
          0.4946,
          0.4843,
          0.498,
          0.4961,
          0.5003,
          0.4949,
          0.5018,
          0.5011,
          0.4949,
          0.5022,
          0.4999,
          0.4921,
          0.5001,
          0.4983,
          0.4999,
          0.4937,
          0.5105,
          0.5,
          0.4999,
          0.5053,
          0.4935,
          0.4945,
          0.4943,
          0.4941,
          0.5048,
          0.5048,
          0.5036,
          0.4963,
          0.5045,
          0.5051,
          0.4901,
          0.4971,
          0.4924,
          0.4948,
          0.4924,
          0.4959,
          0.4987,
          0.509,
          0.4956,
          0.4988,
          0.4925,
          0.4964,
          0.4931,
          0.5032,
          0.4954,
          0.4928,
          0.4945,
          0.4985,
          0.5059,
          0.4917,
          0.4955,
          0.4997,
          0.4978,
          0.5068,
          0.5071,
          0.4966,
          0.4991,
          0.5054,
          0.4955,
          0.4966,
          0.498,
          0.5028,
          0.5022,
          0.503,
          0.5017,
          0.5002,
          0.4983,
          0.5068,
          0.4995,
          0.5009,
          0.4963,
          0.4936,
          0.4941,
          0.4942,
          0.5072,
          0.5063,
          0.4954,
          0.5021,
          0.5,
          0.5018,
          0.5032,
          0.507,
          0.5025,
          0.4998,
          0.5078,
          0.4911,
          0.4965,
          0.4988,
          0.5059,
          0.5006,
          0.5007,
          0.5015,
          0.4973,
          0.5074,
          0.5052,
          0.51,
          0.5022,
          0.5048,
          0.501,
          0.5005,
          0.5059,
          0.492,
          0.4981,
          0.4934,
          0.4953,
          0.4965,
          0.5105,
          0.5037,
          0.4994,
          0.4958,
          0.4992,
          0.4976,
          0.5015,
          0.4972,
          0.5021,
          0.4966,
          0.5023,
          0.4989,
          0.5036,
          0.5023,
          0.4958,
          0.5066,
          0.5059,
          0.5029,
          0.5033,
          0.5059,
          0.4994,
          0.5031,
          0.4976,
          0.4969,
          0.4985,
          0.5055,
          0.5025,
          0.5033,
          0.5016,
          0.5079,
          0.4892,
          0.4964,
          0.5066,
          0.5022,
          0.4981,
          0.4955
         ]
        },
        {
         "mode": "lines+markers",
         "name": "alpha = 3",
         "type": "scatter",
         "x": [
          100,
          200,
          300,
          400,
          500,
          600,
          700,
          800,
          900,
          1000,
          1100,
          1200,
          1300,
          1400,
          1500,
          1600,
          1700,
          1800,
          1900,
          2000,
          2100,
          2200,
          2300,
          2400,
          2500,
          2600,
          2700,
          2800,
          2900,
          3000,
          3100,
          3200,
          3300,
          3400,
          3500,
          3600,
          3700,
          3800,
          3900,
          4000,
          4100,
          4200,
          4300,
          4400,
          4500,
          4600,
          4700,
          4800,
          4900,
          5000,
          5100,
          5200,
          5300,
          5400,
          5500,
          5600,
          5700,
          5800,
          5900,
          6000,
          6100,
          6200,
          6300,
          6400,
          6500,
          6600,
          6700,
          6800,
          6900,
          7000,
          7100,
          7200,
          7300,
          7400,
          7500,
          7600,
          7700,
          7800,
          7900,
          8000,
          8100,
          8200,
          8300,
          8400,
          8500,
          8600,
          8700,
          8800,
          8900,
          9000,
          9100,
          9200,
          9300,
          9400,
          9500,
          9600,
          9700,
          9800,
          9900,
          10000,
          10100,
          10200,
          10300,
          10400,
          10500,
          10600,
          10700,
          10800,
          10900,
          11000,
          11100,
          11200,
          11300,
          11400,
          11500,
          11600,
          11700,
          11800,
          11900,
          12000,
          12100,
          12200,
          12300,
          12400,
          12500,
          12600,
          12700,
          12800,
          12900,
          13000,
          13100,
          13200,
          13300,
          13400,
          13500,
          13600,
          13700,
          13800,
          13900,
          14000,
          14100,
          14200,
          14300,
          14400,
          14500,
          14600,
          14700,
          14800,
          14900,
          15000,
          15100,
          15200,
          15300,
          15400,
          15500,
          15600,
          15700,
          15800,
          15900,
          16000,
          16100,
          16200,
          16300,
          16400,
          16500,
          16600,
          16700,
          16800,
          16900,
          17000,
          17100,
          17200,
          17300,
          17400,
          17500,
          17600,
          17700,
          17800,
          17900,
          18000,
          18100,
          18200,
          18300,
          18400,
          18500,
          18600,
          18700,
          18800,
          18900,
          19000,
          19100,
          19200,
          19300,
          19400,
          19500,
          19600,
          19700,
          19800,
          19900
         ],
         "y": [
          0.4406,
          0.4781,
          0.4801,
          0.4917,
          0.4897,
          0.4891,
          0.4903,
          0.4892,
          0.4976,
          0.4941,
          0.4902,
          0.4913,
          0.4906,
          0.4895,
          0.5012,
          0.5004,
          0.4937,
          0.4968,
          0.4944,
          0.4909,
          0.5014,
          0.4953,
          0.4899,
          0.4954,
          0.5008,
          0.4928,
          0.4996,
          0.4907,
          0.5006,
          0.4983,
          0.4933,
          0.493,
          0.4921,
          0.5004,
          0.5025,
          0.5043,
          0.4981,
          0.5005,
          0.5042,
          0.4922,
          0.5003,
          0.4881,
          0.4981,
          0.4969,
          0.5056,
          0.5023,
          0.4945,
          0.5012,
          0.4995,
          0.5029,
          0.5032,
          0.4969,
          0.49,
          0.4895,
          0.4967,
          0.5055,
          0.4913,
          0.5013,
          0.4979,
          0.505,
          0.5065,
          0.4966,
          0.5053,
          0.5044,
          0.5007,
          0.4996,
          0.4935,
          0.4936,
          0.5105,
          0.5,
          0.4984,
          0.4993,
          0.4938,
          0.4959,
          0.4978,
          0.5004,
          0.4982,
          0.4971,
          0.4884,
          0.4985,
          0.4982,
          0.4983,
          0.4974,
          0.4922,
          0.4959,
          0.4991,
          0.5074,
          0.507,
          0.4965,
          0.4928,
          0.4918,
          0.5051,
          0.5051,
          0.5032,
          0.4999,
          0.4932,
          0.4973,
          0.5003,
          0.5067,
          0.5048,
          0.4944,
          0.4912,
          0.5032,
          0.4909,
          0.5044,
          0.499,
          0.4963,
          0.4926,
          0.4984,
          0.497,
          0.4981,
          0.5071,
          0.5005,
          0.5016,
          0.5066,
          0.5032,
          0.5008,
          0.4899,
          0.4946,
          0.5062,
          0.4942,
          0.51,
          0.4971,
          0.4976,
          0.5038,
          0.4917,
          0.4966,
          0.5015,
          0.5008,
          0.4946,
          0.4965,
          0.4988,
          0.5017,
          0.4968,
          0.5058,
          0.5015,
          0.5022,
          0.5016,
          0.495,
          0.4947,
          0.4957,
          0.4951,
          0.5116,
          0.5022,
          0.5084,
          0.4917,
          0.5011,
          0.4995,
          0.4911,
          0.4943,
          0.5057,
          0.5062,
          0.4995,
          0.498,
          0.5063,
          0.4892,
          0.5063,
          0.501,
          0.5026,
          0.4886,
          0.4936,
          0.5025,
          0.5021,
          0.504,
          0.5051,
          0.4912,
          0.5001,
          0.5021,
          0.4984,
          0.5059,
          0.5066,
          0.4976,
          0.5025,
          0.5036,
          0.4992,
          0.4964,
          0.5016,
          0.5013,
          0.4955,
          0.4951,
          0.496,
          0.5022,
          0.4975,
          0.4957,
          0.4936,
          0.5031,
          0.5054,
          0.4959,
          0.4984,
          0.4993,
          0.496,
          0.494,
          0.5076,
          0.5055,
          0.503,
          0.4996,
          0.4966,
          0.5073,
          0.5032
         ]
        }
       ],
       "layout": {
        "annotations": [
         {
          "showarrow": false,
          "text": "BER 50%",
          "x": 0,
          "xanchor": "left",
          "xref": "x domain",
          "y": 0.5,
          "yanchor": "bottom",
          "yref": "y"
         }
        ],
        "height": 500,
        "legend": {
         "title": {
          "text": "Valeurs de alpha"
         }
        },
        "shapes": [
         {
          "line": {
           "color": "red",
           "dash": "dot"
          },
          "type": "line",
          "x0": 0,
          "x1": 1,
          "xref": "x domain",
          "y0": 0.5,
          "y1": 0.5,
          "yref": "y"
         }
        ],
        "template": {
         "data": {
          "bar": [
           {
            "error_x": {
             "color": "#2a3f5f"
            },
            "error_y": {
             "color": "#2a3f5f"
            },
            "marker": {
             "line": {
              "color": "#E5ECF6",
              "width": 0.5
             },
             "pattern": {
              "fillmode": "overlay",
              "size": 10,
              "solidity": 0.2
             }
            },
            "type": "bar"
           }
          ],
          "barpolar": [
           {
            "marker": {
             "line": {
              "color": "#E5ECF6",
              "width": 0.5
             },
             "pattern": {
              "fillmode": "overlay",
              "size": 10,
              "solidity": 0.2
             }
            },
            "type": "barpolar"
           }
          ],
          "carpet": [
           {
            "aaxis": {
             "endlinecolor": "#2a3f5f",
             "gridcolor": "white",
             "linecolor": "white",
             "minorgridcolor": "white",
             "startlinecolor": "#2a3f5f"
            },
            "baxis": {
             "endlinecolor": "#2a3f5f",
             "gridcolor": "white",
             "linecolor": "white",
             "minorgridcolor": "white",
             "startlinecolor": "#2a3f5f"
            },
            "type": "carpet"
           }
          ],
          "choropleth": [
           {
            "colorbar": {
             "outlinewidth": 0,
             "ticks": ""
            },
            "type": "choropleth"
           }
          ],
          "contour": [
           {
            "colorbar": {
             "outlinewidth": 0,
             "ticks": ""
            },
            "colorscale": [
             [
              0,
              "#0d0887"
             ],
             [
              0.1111111111111111,
              "#46039f"
             ],
             [
              0.2222222222222222,
              "#7201a8"
             ],
             [
              0.3333333333333333,
              "#9c179e"
             ],
             [
              0.4444444444444444,
              "#bd3786"
             ],
             [
              0.5555555555555556,
              "#d8576b"
             ],
             [
              0.6666666666666666,
              "#ed7953"
             ],
             [
              0.7777777777777778,
              "#fb9f3a"
             ],
             [
              0.8888888888888888,
              "#fdca26"
             ],
             [
              1,
              "#f0f921"
             ]
            ],
            "type": "contour"
           }
          ],
          "contourcarpet": [
           {
            "colorbar": {
             "outlinewidth": 0,
             "ticks": ""
            },
            "type": "contourcarpet"
           }
          ],
          "heatmap": [
           {
            "colorbar": {
             "outlinewidth": 0,
             "ticks": ""
            },
            "colorscale": [
             [
              0,
              "#0d0887"
             ],
             [
              0.1111111111111111,
              "#46039f"
             ],
             [
              0.2222222222222222,
              "#7201a8"
             ],
             [
              0.3333333333333333,
              "#9c179e"
             ],
             [
              0.4444444444444444,
              "#bd3786"
             ],
             [
              0.5555555555555556,
              "#d8576b"
             ],
             [
              0.6666666666666666,
              "#ed7953"
             ],
             [
              0.7777777777777778,
              "#fb9f3a"
             ],
             [
              0.8888888888888888,
              "#fdca26"
             ],
             [
              1,
              "#f0f921"
             ]
            ],
            "type": "heatmap"
           }
          ],
          "heatmapgl": [
           {
            "colorbar": {
             "outlinewidth": 0,
             "ticks": ""
            },
            "colorscale": [
             [
              0,
              "#0d0887"
             ],
             [
              0.1111111111111111,
              "#46039f"
             ],
             [
              0.2222222222222222,
              "#7201a8"
             ],
             [
              0.3333333333333333,
              "#9c179e"
             ],
             [
              0.4444444444444444,
              "#bd3786"
             ],
             [
              0.5555555555555556,
              "#d8576b"
             ],
             [
              0.6666666666666666,
              "#ed7953"
             ],
             [
              0.7777777777777778,
              "#fb9f3a"
             ],
             [
              0.8888888888888888,
              "#fdca26"
             ],
             [
              1,
              "#f0f921"
             ]
            ],
            "type": "heatmapgl"
           }
          ],
          "histogram": [
           {
            "marker": {
             "pattern": {
              "fillmode": "overlay",
              "size": 10,
              "solidity": 0.2
             }
            },
            "type": "histogram"
           }
          ],
          "histogram2d": [
           {
            "colorbar": {
             "outlinewidth": 0,
             "ticks": ""
            },
            "colorscale": [
             [
              0,
              "#0d0887"
             ],
             [
              0.1111111111111111,
              "#46039f"
             ],
             [
              0.2222222222222222,
              "#7201a8"
             ],
             [
              0.3333333333333333,
              "#9c179e"
             ],
             [
              0.4444444444444444,
              "#bd3786"
             ],
             [
              0.5555555555555556,
              "#d8576b"
             ],
             [
              0.6666666666666666,
              "#ed7953"
             ],
             [
              0.7777777777777778,
              "#fb9f3a"
             ],
             [
              0.8888888888888888,
              "#fdca26"
             ],
             [
              1,
              "#f0f921"
             ]
            ],
            "type": "histogram2d"
           }
          ],
          "histogram2dcontour": [
           {
            "colorbar": {
             "outlinewidth": 0,
             "ticks": ""
            },
            "colorscale": [
             [
              0,
              "#0d0887"
             ],
             [
              0.1111111111111111,
              "#46039f"
             ],
             [
              0.2222222222222222,
              "#7201a8"
             ],
             [
              0.3333333333333333,
              "#9c179e"
             ],
             [
              0.4444444444444444,
              "#bd3786"
             ],
             [
              0.5555555555555556,
              "#d8576b"
             ],
             [
              0.6666666666666666,
              "#ed7953"
             ],
             [
              0.7777777777777778,
              "#fb9f3a"
             ],
             [
              0.8888888888888888,
              "#fdca26"
             ],
             [
              1,
              "#f0f921"
             ]
            ],
            "type": "histogram2dcontour"
           }
          ],
          "mesh3d": [
           {
            "colorbar": {
             "outlinewidth": 0,
             "ticks": ""
            },
            "type": "mesh3d"
           }
          ],
          "parcoords": [
           {
            "line": {
             "colorbar": {
              "outlinewidth": 0,
              "ticks": ""
             }
            },
            "type": "parcoords"
           }
          ],
          "pie": [
           {
            "automargin": true,
            "type": "pie"
           }
          ],
          "scatter": [
           {
            "fillpattern": {
             "fillmode": "overlay",
             "size": 10,
             "solidity": 0.2
            },
            "type": "scatter"
           }
          ],
          "scatter3d": [
           {
            "line": {
             "colorbar": {
              "outlinewidth": 0,
              "ticks": ""
             }
            },
            "marker": {
             "colorbar": {
              "outlinewidth": 0,
              "ticks": ""
             }
            },
            "type": "scatter3d"
           }
          ],
          "scattercarpet": [
           {
            "marker": {
             "colorbar": {
              "outlinewidth": 0,
              "ticks": ""
             }
            },
            "type": "scattercarpet"
           }
          ],
          "scattergeo": [
           {
            "marker": {
             "colorbar": {
              "outlinewidth": 0,
              "ticks": ""
             }
            },
            "type": "scattergeo"
           }
          ],
          "scattergl": [
           {
            "marker": {
             "colorbar": {
              "outlinewidth": 0,
              "ticks": ""
             }
            },
            "type": "scattergl"
           }
          ],
          "scattermapbox": [
           {
            "marker": {
             "colorbar": {
              "outlinewidth": 0,
              "ticks": ""
             }
            },
            "type": "scattermapbox"
           }
          ],
          "scatterpolar": [
           {
            "marker": {
             "colorbar": {
              "outlinewidth": 0,
              "ticks": ""
             }
            },
            "type": "scatterpolar"
           }
          ],
          "scatterpolargl": [
           {
            "marker": {
             "colorbar": {
              "outlinewidth": 0,
              "ticks": ""
             }
            },
            "type": "scatterpolargl"
           }
          ],
          "scatterternary": [
           {
            "marker": {
             "colorbar": {
              "outlinewidth": 0,
              "ticks": ""
             }
            },
            "type": "scatterternary"
           }
          ],
          "surface": [
           {
            "colorbar": {
             "outlinewidth": 0,
             "ticks": ""
            },
            "colorscale": [
             [
              0,
              "#0d0887"
             ],
             [
              0.1111111111111111,
              "#46039f"
             ],
             [
              0.2222222222222222,
              "#7201a8"
             ],
             [
              0.3333333333333333,
              "#9c179e"
             ],
             [
              0.4444444444444444,
              "#bd3786"
             ],
             [
              0.5555555555555556,
              "#d8576b"
             ],
             [
              0.6666666666666666,
              "#ed7953"
             ],
             [
              0.7777777777777778,
              "#fb9f3a"
             ],
             [
              0.8888888888888888,
              "#fdca26"
             ],
             [
              1,
              "#f0f921"
             ]
            ],
            "type": "surface"
           }
          ],
          "table": [
           {
            "cells": {
             "fill": {
              "color": "#EBF0F8"
             },
             "line": {
              "color": "white"
             }
            },
            "header": {
             "fill": {
              "color": "#C8D4E3"
             },
             "line": {
              "color": "white"
             }
            },
            "type": "table"
           }
          ]
         },
         "layout": {
          "annotationdefaults": {
           "arrowcolor": "#2a3f5f",
           "arrowhead": 0,
           "arrowwidth": 1
          },
          "autotypenumbers": "strict",
          "coloraxis": {
           "colorbar": {
            "outlinewidth": 0,
            "ticks": ""
           }
          },
          "colorscale": {
           "diverging": [
            [
             0,
             "#8e0152"
            ],
            [
             0.1,
             "#c51b7d"
            ],
            [
             0.2,
             "#de77ae"
            ],
            [
             0.3,
             "#f1b6da"
            ],
            [
             0.4,
             "#fde0ef"
            ],
            [
             0.5,
             "#f7f7f7"
            ],
            [
             0.6,
             "#e6f5d0"
            ],
            [
             0.7,
             "#b8e186"
            ],
            [
             0.8,
             "#7fbc41"
            ],
            [
             0.9,
             "#4d9221"
            ],
            [
             1,
             "#276419"
            ]
           ],
           "sequential": [
            [
             0,
             "#0d0887"
            ],
            [
             0.1111111111111111,
             "#46039f"
            ],
            [
             0.2222222222222222,
             "#7201a8"
            ],
            [
             0.3333333333333333,
             "#9c179e"
            ],
            [
             0.4444444444444444,
             "#bd3786"
            ],
            [
             0.5555555555555556,
             "#d8576b"
            ],
            [
             0.6666666666666666,
             "#ed7953"
            ],
            [
             0.7777777777777778,
             "#fb9f3a"
            ],
            [
             0.8888888888888888,
             "#fdca26"
            ],
            [
             1,
             "#f0f921"
            ]
           ],
           "sequentialminus": [
            [
             0,
             "#0d0887"
            ],
            [
             0.1111111111111111,
             "#46039f"
            ],
            [
             0.2222222222222222,
             "#7201a8"
            ],
            [
             0.3333333333333333,
             "#9c179e"
            ],
            [
             0.4444444444444444,
             "#bd3786"
            ],
            [
             0.5555555555555556,
             "#d8576b"
            ],
            [
             0.6666666666666666,
             "#ed7953"
            ],
            [
             0.7777777777777778,
             "#fb9f3a"
            ],
            [
             0.8888888888888888,
             "#fdca26"
            ],
            [
             1,
             "#f0f921"
            ]
           ]
          },
          "colorway": [
           "#636efa",
           "#EF553B",
           "#00cc96",
           "#ab63fa",
           "#FFA15A",
           "#19d3f3",
           "#FF6692",
           "#B6E880",
           "#FF97FF",
           "#FECB52"
          ],
          "font": {
           "color": "#2a3f5f"
          },
          "geo": {
           "bgcolor": "white",
           "lakecolor": "white",
           "landcolor": "#E5ECF6",
           "showlakes": true,
           "showland": true,
           "subunitcolor": "white"
          },
          "hoverlabel": {
           "align": "left"
          },
          "hovermode": "closest",
          "mapbox": {
           "style": "light"
          },
          "paper_bgcolor": "white",
          "plot_bgcolor": "#E5ECF6",
          "polar": {
           "angularaxis": {
            "gridcolor": "white",
            "linecolor": "white",
            "ticks": ""
           },
           "bgcolor": "#E5ECF6",
           "radialaxis": {
            "gridcolor": "white",
            "linecolor": "white",
            "ticks": ""
           }
          },
          "scene": {
           "xaxis": {
            "backgroundcolor": "#E5ECF6",
            "gridcolor": "white",
            "gridwidth": 2,
            "linecolor": "white",
            "showbackground": true,
            "ticks": "",
            "zerolinecolor": "white"
           },
           "yaxis": {
            "backgroundcolor": "#E5ECF6",
            "gridcolor": "white",
            "gridwidth": 2,
            "linecolor": "white",
            "showbackground": true,
            "ticks": "",
            "zerolinecolor": "white"
           },
           "zaxis": {
            "backgroundcolor": "#E5ECF6",
            "gridcolor": "white",
            "gridwidth": 2,
            "linecolor": "white",
            "showbackground": true,
            "ticks": "",
            "zerolinecolor": "white"
           }
          },
          "shapedefaults": {
           "line": {
            "color": "#2a3f5f"
           }
          },
          "ternary": {
           "aaxis": {
            "gridcolor": "white",
            "linecolor": "white",
            "ticks": ""
           },
           "baxis": {
            "gridcolor": "white",
            "linecolor": "white",
            "ticks": ""
           },
           "bgcolor": "#E5ECF6",
           "caxis": {
            "gridcolor": "white",
            "linecolor": "white",
            "ticks": ""
           }
          },
          "title": {
           "x": 0.05
          },
          "xaxis": {
           "automargin": true,
           "gridcolor": "white",
           "linecolor": "white",
           "ticks": "",
           "title": {
            "standoff": 15
           },
           "zerolinecolor": "white",
           "zerolinewidth": 2
          },
          "yaxis": {
           "automargin": true,
           "gridcolor": "white",
           "linecolor": "white",
           "ticks": "",
           "title": {
            "standoff": 15
           },
           "zerolinecolor": "white",
           "zerolinewidth": 2
          }
         }
        },
        "title": {
         "text": "Impact de No et alpha sur le BER après attaque"
        },
        "width": 800,
        "xaxis": {
         "title": {
          "text": "No (Nombre d‘observations)=10000"
         }
        },
        "yaxis": {
         "title": {
          "text": "BER"
         }
        }
       }
      }
     },
     "metadata": {},
     "output_type": "display_data"
    },
    {
     "data": {
      "application/vnd.plotly.v1+json": {
       "config": {
        "plotlyServerURL": "https://plot.ly"
       },
       "data": [
        {
         "mode": "lines+markers",
         "name": "alpha = 0.2",
         "type": "scatter",
         "x": [
          100,
          200,
          300,
          400,
          500,
          600,
          700,
          800,
          900,
          1000,
          1100,
          1200,
          1300,
          1400,
          1500,
          1600,
          1700,
          1800,
          1900,
          2000,
          2100,
          2200,
          2300,
          2400,
          2500,
          2600,
          2700,
          2800,
          2900,
          3000,
          3100,
          3200,
          3300,
          3400,
          3500,
          3600,
          3700,
          3800,
          3900,
          4000,
          4100,
          4200,
          4300,
          4400,
          4500,
          4600,
          4700,
          4800,
          4900,
          5000,
          5100,
          5200,
          5300,
          5400,
          5500,
          5600,
          5700,
          5800,
          5900,
          6000,
          6100,
          6200,
          6300,
          6400,
          6500,
          6600,
          6700,
          6800,
          6900,
          7000,
          7100,
          7200,
          7300,
          7400,
          7500,
          7600,
          7700,
          7800,
          7900,
          8000,
          8100,
          8200,
          8300,
          8400,
          8500,
          8600,
          8700,
          8800,
          8900,
          9000,
          9100,
          9200,
          9300,
          9400,
          9500,
          9600,
          9700,
          9800,
          9900,
          10000,
          10100,
          10200,
          10300,
          10400,
          10500,
          10600,
          10700,
          10800,
          10900,
          11000,
          11100,
          11200,
          11300,
          11400,
          11500,
          11600,
          11700,
          11800,
          11900,
          12000,
          12100,
          12200,
          12300,
          12400,
          12500,
          12600,
          12700,
          12800,
          12900,
          13000,
          13100,
          13200,
          13300,
          13400,
          13500,
          13600,
          13700,
          13800,
          13900,
          14000,
          14100,
          14200,
          14300,
          14400,
          14500,
          14600,
          14700,
          14800,
          14900,
          15000,
          15100,
          15200,
          15300,
          15400,
          15500,
          15600,
          15700,
          15800,
          15900,
          16000,
          16100,
          16200,
          16300,
          16400,
          16500,
          16600,
          16700,
          16800,
          16900,
          17000,
          17100,
          17200,
          17300,
          17400,
          17500,
          17600,
          17700,
          17800,
          17900,
          18000,
          18100,
          18200,
          18300,
          18400,
          18500,
          18600,
          18700,
          18800,
          18900,
          19000,
          19100,
          19200,
          19300,
          19400,
          19500,
          19600,
          19700,
          19800,
          19900
         ],
         "y": [
          0.14247294901807409,
          0.1986088084828656,
          0.24598654585457308,
          0.35715499516292865,
          0.28311953049766797,
          0.46477198076584414,
          0.3662418426022403,
          0.5682841019634283,
          0.4112567461033196,
          0.5092535184083005,
          0.43065190934675845,
          0.5750719540508067,
          0.5588030762567484,
          0.5601709296816388,
          0.7325146521540252,
          0.6929101969187951,
          0.7464926685959231,
          0.5825879307969001,
          0.6724168547879359,
          0.6739782519698698,
          0.673079282587091,
          0.7130238317111036,
          0.663639744390511,
          0.772093746244353,
          0.7681382430686833,
          0.712000912578779,
          0.7750193425881123,
          0.7305025923859365,
          0.7659059525223646,
          0.7402973840052038,
          0.8212947720429389,
          0.779818871330712,
          0.7945965064634387,
          0.729240977031452,
          0.6025861114447185,
          0.8197232305801543,
          0.7885570969993636,
          0.7831747030105,
          0.7153777598987663,
          0.7816726997826436,
          0.7155260705105226,
          0.7988807245919481,
          0.7784609147275162,
          0.8247264024788811,
          0.7516028711170978,
          0.758119860160324,
          0.7946914687583998,
          0.8325285692610569,
          0.7549510384609092,
          0.8141643247206772,
          0.7999345382770232,
          0.8416685410247245,
          0.8027077529834992,
          0.8724944742551929,
          0.8534797747565961,
          0.8419416318032806,
          0.841163272445026,
          0.8242222707128986,
          0.8551929988304408,
          0.8596113596137852,
          0.8389451989941317,
          0.8412761387009332,
          0.8513379096807887,
          0.8489026520826375,
          0.8464493065319643,
          0.8545430847438031,
          0.8582530346655406,
          0.8407240461737384,
          0.840084079062844,
          0.8797174563776029,
          0.8444595563249147,
          0.8502953633090475,
          0.8398243697436478,
          0.8723609992205862,
          0.8896432788014983,
          0.8450685366775366,
          0.8703868096209418,
          0.8786695749080553,
          0.8763343933597164,
          0.8957209653121757,
          0.8874133921124907,
          0.8875660644544745,
          0.8786159420171502,
          0.906626202676013,
          0.8972920340061503,
          0.901360741682355,
          0.8855487161834236,
          0.8828361814656108,
          0.9083870528097728,
          0.8712028696255029,
          0.8917163589471702,
          0.8840878171951025,
          0.8967876869660588,
          0.8855784991989678,
          0.8847456241767965,
          0.9059019525700351,
          0.8596156339891616,
          0.9020649431391837,
          0.8844263162672834,
          0.8773893432821461,
          0.9052546073413712,
          0.8992399378051187,
          0.8777735734340077,
          0.9023395191320953,
          0.9249797129261081,
          0.9035653835721357,
          0.8768623944671423,
          0.8955444731129251,
          0.8830334569977236,
          0.8939895826594445,
          0.9000455246806124,
          0.8992172728026239,
          0.8909868603270223,
          0.8652630533051472,
          0.8687439204006735,
          0.8796166177874841,
          0.901344366995117,
          0.8962043552150615,
          0.863751348704222,
          0.9026003285132617,
          0.8854621128827496,
          0.8804648026696552,
          0.9088700979388684,
          0.9120529498411137,
          0.8944562055636508,
          0.9061030870133228,
          0.9061994692742935,
          0.9161865747338745,
          0.9106500956859741,
          0.8897894333977288,
          0.9336609179094079,
          0.9068520505058267,
          0.8597998867420796,
          0.8879752382366372,
          0.8955677196519357,
          0.8923768375280855,
          0.919501664805117,
          0.8837714373006618,
          0.9055386395456477,
          0.890037439486679,
          0.9162423464109458,
          0.8907910122042176,
          0.909240534291776,
          0.9105800917840546,
          0.8793132412180354,
          0.8982878876448326,
          0.8991996530723839,
          0.8906273620030443,
          0.9083148331303087,
          0.9030540967810816,
          0.9153785513876749,
          0.8969404089074341,
          0.8804471869848082,
          0.895875452784524,
          0.8481738291289762,
          0.8839011876756813,
          0.9211924376491742,
          0.9026769453888144,
          0.8914902683094054,
          0.8571584995491479,
          0.91129330047831,
          0.9000619852787178,
          0.8705394067760762,
          0.9051527865485202,
          0.9018003219883372,
          0.9188367498382836,
          0.8704373170621876,
          0.9088979239612733,
          0.9002877689866587,
          0.8861595424055769,
          0.9069051991042221,
          0.8992207468090279,
          0.8936365756155077,
          0.8903917375166152,
          0.8909654837655988,
          0.9079271858474065,
          0.8942665634697308,
          0.9121105648882845,
          0.8962179984682551,
          0.9013756729914877,
          0.8905009939199261,
          0.9166434441631361,
          0.895094143135506,
          0.9000457277228661,
          0.8855975644425669,
          0.9138455549729836,
          0.877905848806412,
          0.913656031560217,
          0.9103827308682748,
          0.8999596098531683,
          0.9123578698503788,
          0.90275114349325,
          0.9210255794971723,
          0.8926576039634266,
          0.9113242777958115,
          0.8720163448843408,
          0.9025558335582258,
          0.8568951974242566,
          0.8997314562774787
         ]
        },
        {
         "mode": "lines+markers",
         "name": "alpha = 0.5",
         "type": "scatter",
         "x": [
          100,
          200,
          300,
          400,
          500,
          600,
          700,
          800,
          900,
          1000,
          1100,
          1200,
          1300,
          1400,
          1500,
          1600,
          1700,
          1800,
          1900,
          2000,
          2100,
          2200,
          2300,
          2400,
          2500,
          2600,
          2700,
          2800,
          2900,
          3000,
          3100,
          3200,
          3300,
          3400,
          3500,
          3600,
          3700,
          3800,
          3900,
          4000,
          4100,
          4200,
          4300,
          4400,
          4500,
          4600,
          4700,
          4800,
          4900,
          5000,
          5100,
          5200,
          5300,
          5400,
          5500,
          5600,
          5700,
          5800,
          5900,
          6000,
          6100,
          6200,
          6300,
          6400,
          6500,
          6600,
          6700,
          6800,
          6900,
          7000,
          7100,
          7200,
          7300,
          7400,
          7500,
          7600,
          7700,
          7800,
          7900,
          8000,
          8100,
          8200,
          8300,
          8400,
          8500,
          8600,
          8700,
          8800,
          8900,
          9000,
          9100,
          9200,
          9300,
          9400,
          9500,
          9600,
          9700,
          9800,
          9900,
          10000,
          10100,
          10200,
          10300,
          10400,
          10500,
          10600,
          10700,
          10800,
          10900,
          11000,
          11100,
          11200,
          11300,
          11400,
          11500,
          11600,
          11700,
          11800,
          11900,
          12000,
          12100,
          12200,
          12300,
          12400,
          12500,
          12600,
          12700,
          12800,
          12900,
          13000,
          13100,
          13200,
          13300,
          13400,
          13500,
          13600,
          13700,
          13800,
          13900,
          14000,
          14100,
          14200,
          14300,
          14400,
          14500,
          14600,
          14700,
          14800,
          14900,
          15000,
          15100,
          15200,
          15300,
          15400,
          15500,
          15600,
          15700,
          15800,
          15900,
          16000,
          16100,
          16200,
          16300,
          16400,
          16500,
          16600,
          16700,
          16800,
          16900,
          17000,
          17100,
          17200,
          17300,
          17400,
          17500,
          17600,
          17700,
          17800,
          17900,
          18000,
          18100,
          18200,
          18300,
          18400,
          18500,
          18600,
          18700,
          18800,
          18900,
          19000,
          19100,
          19200,
          19300,
          19400,
          19500,
          19600,
          19700,
          19800,
          19900
         ],
         "y": [
          0.4654799280386108,
          0.6529188859329901,
          0.643720777427473,
          0.6950933526383034,
          0.8034675985070706,
          0.7444244708981469,
          0.7978344130785742,
          0.8650811265070946,
          0.8269360991237007,
          0.8323829990953675,
          0.8890210012136028,
          0.8723458094804407,
          0.869995948192808,
          0.8464567183249586,
          0.9157010138154957,
          0.8949499099426605,
          0.8958988190457604,
          0.9338095747823016,
          0.9149019421087408,
          0.9156160539658715,
          0.9125825835605713,
          0.9361380006275636,
          0.940149516535676,
          0.9330595297653115,
          0.9258336896363255,
          0.9431675465849525,
          0.9458992138898195,
          0.9340929778497084,
          0.9457365217875465,
          0.9564667097558683,
          0.9509121779379663,
          0.9458452231649419,
          0.9549926133576,
          0.9479307343587271,
          0.9356365838621249,
          0.9371246891636107,
          0.9483568165796243,
          0.9415343980385877,
          0.9639733189199159,
          0.9462988315360639,
          0.9627950980031246,
          0.9502196154429732,
          0.960555708037715,
          0.9483820357620499,
          0.9483610877546769,
          0.955796605246519,
          0.9549654435797094,
          0.9745668846664426,
          0.9619349052797169,
          0.9677846662647801,
          0.9674162563240076,
          0.9610278042738057,
          0.9708885744571659,
          0.9663745431239453,
          0.9688171021005045,
          0.9663156083280074,
          0.9652617244805061,
          0.9656812290634906,
          0.9744332220526148,
          0.9713816779368274,
          0.9686190400577583,
          0.9710626031627762,
          0.9730375988154537,
          0.9766237616758705,
          0.9665265341188617,
          0.9657461481567408,
          0.9775667275326714,
          0.9668837745309434,
          0.9787996920958938,
          0.9714054126567035,
          0.9718115195235465,
          0.9752946954705088,
          0.9752739317559541,
          0.9809175013243363,
          0.972647609216729,
          0.9821858028375939,
          0.975838836946383,
          0.9806964527577456,
          0.9712342459511766,
          0.9724402428828004,
          0.9767920793806733,
          0.9771465537048626,
          0.9711004963109932,
          0.979230005110216,
          0.9752830120009279,
          0.9811652306879146,
          0.9737067812666532,
          0.9785054676647462,
          0.9783521534208902,
          0.9796888755931633,
          0.9792546096746065,
          0.9805760980970297,
          0.98388832992473,
          0.9755796659936857,
          0.9793140514779494,
          0.9822617871946374,
          0.9764654471706554,
          0.9764213452512477,
          0.9803852401899413,
          0.9800237465082509,
          0.9795817557656271,
          0.9813468073061969,
          0.9830211134618208,
          0.9793518003853522,
          0.9759002162479841,
          0.9817958876427347,
          0.9840054753914778,
          0.9776119834720595,
          0.9802069993150958,
          0.9817383897846546,
          0.9763315658909334,
          0.9812655457756833,
          0.9772699912166599,
          0.9841222938586923,
          0.9792081874912459,
          0.9815097097307827,
          0.9844933521285091,
          0.9805823937813517,
          0.9805500790334262,
          0.9822002414228289,
          0.9813191320781656,
          0.9816842706264236,
          0.9844385577589945,
          0.9798414902819523,
          0.9795221561906255,
          0.9815205085810752,
          0.9831895163625382,
          0.981082908583582,
          0.9767471940111194,
          0.9808417130465427,
          0.9830265650727447,
          0.9805530452414669,
          0.9817016303055649,
          0.9875899525136357,
          0.982424899490936,
          0.9818971134720126,
          0.9813219423308301,
          0.9820095291182515,
          0.9817533032261799,
          0.9837592604973956,
          0.9843228702082247,
          0.976885626254819,
          0.9794862028798434,
          0.9829241540135778,
          0.9824655238035939,
          0.9810334990157616,
          0.9826424379190106,
          0.9834977731901184,
          0.9835919245747836,
          0.9816968802985153,
          0.9806903346813587,
          0.9798183642983742,
          0.9802689271155247,
          0.9832056092299613,
          0.9804939044112229,
          0.9826482555847903,
          0.9829573293776527,
          0.9746142419198709,
          0.9801929844485435,
          0.9780695093197223,
          0.9843295004611663,
          0.9836973040640463,
          0.9833097487609395,
          0.9797553453473866,
          0.9762337672179859,
          0.9788277944863492,
          0.9844312751365351,
          0.9809651812042969,
          0.97757458265015,
          0.9809611191219443,
          0.9795802822036817,
          0.9827792940301752,
          0.9793343043776482,
          0.9786805241038794,
          0.980201240337739,
          0.9791586832375118,
          0.9785438321212101,
          0.980979922380204,
          0.9805437083102694,
          0.9815474150867298,
          0.9792621915698543,
          0.9798300042804381,
          0.9838470221416075,
          0.98579856548947,
          0.9777092089017876,
          0.9828517687539139,
          0.9788506082236913,
          0.9822025952104264,
          0.9809812071663684,
          0.979534682425465,
          0.9824018202693071,
          0.9837539766188566,
          0.9871355462035384,
          0.9819606789075132,
          0.9832799550615948,
          0.9801933307089776,
          0.9833626335418623,
          0.9813619823173996,
          0.9783658453256887
         ]
        },
        {
         "mode": "lines+markers",
         "name": "alpha = 1",
         "type": "scatter",
         "x": [
          100,
          200,
          300,
          400,
          500,
          600,
          700,
          800,
          900,
          1000,
          1100,
          1200,
          1300,
          1400,
          1500,
          1600,
          1700,
          1800,
          1900,
          2000,
          2100,
          2200,
          2300,
          2400,
          2500,
          2600,
          2700,
          2800,
          2900,
          3000,
          3100,
          3200,
          3300,
          3400,
          3500,
          3600,
          3700,
          3800,
          3900,
          4000,
          4100,
          4200,
          4300,
          4400,
          4500,
          4600,
          4700,
          4800,
          4900,
          5000,
          5100,
          5200,
          5300,
          5400,
          5500,
          5600,
          5700,
          5800,
          5900,
          6000,
          6100,
          6200,
          6300,
          6400,
          6500,
          6600,
          6700,
          6800,
          6900,
          7000,
          7100,
          7200,
          7300,
          7400,
          7500,
          7600,
          7700,
          7800,
          7900,
          8000,
          8100,
          8200,
          8300,
          8400,
          8500,
          8600,
          8700,
          8800,
          8900,
          9000,
          9100,
          9200,
          9300,
          9400,
          9500,
          9600,
          9700,
          9800,
          9900,
          10000,
          10100,
          10200,
          10300,
          10400,
          10500,
          10600,
          10700,
          10800,
          10900,
          11000,
          11100,
          11200,
          11300,
          11400,
          11500,
          11600,
          11700,
          11800,
          11900,
          12000,
          12100,
          12200,
          12300,
          12400,
          12500,
          12600,
          12700,
          12800,
          12900,
          13000,
          13100,
          13200,
          13300,
          13400,
          13500,
          13600,
          13700,
          13800,
          13900,
          14000,
          14100,
          14200,
          14300,
          14400,
          14500,
          14600,
          14700,
          14800,
          14900,
          15000,
          15100,
          15200,
          15300,
          15400,
          15500,
          15600,
          15700,
          15800,
          15900,
          16000,
          16100,
          16200,
          16300,
          16400,
          16500,
          16600,
          16700,
          16800,
          16900,
          17000,
          17100,
          17200,
          17300,
          17400,
          17500,
          17600,
          17700,
          17800,
          17900,
          18000,
          18100,
          18200,
          18300,
          18400,
          18500,
          18600,
          18700,
          18800,
          18900,
          19000,
          19100,
          19200,
          19300,
          19400,
          19500,
          19600,
          19700,
          19800,
          19900
         ],
         "y": [
          0.7070344641806848,
          0.800875352798013,
          0.8699206225867576,
          0.8900160042785573,
          0.9159882592984838,
          0.913348425878089,
          0.9475630649338829,
          0.938635447660659,
          0.9414008505638368,
          0.9507511423730883,
          0.9552175143099717,
          0.9658812851144764,
          0.9599429824205784,
          0.9703895757314145,
          0.9741298193558433,
          0.9660550474854288,
          0.9609541522843411,
          0.9724857060902777,
          0.9746763000414979,
          0.9798728066225747,
          0.9790713734399967,
          0.9820510665425494,
          0.9782752158431585,
          0.9809273618007774,
          0.9871186261750028,
          0.9757805182320012,
          0.9759842150289456,
          0.9820707341677162,
          0.9860372790005378,
          0.9824345305498794,
          0.9880250885630532,
          0.9834532932223848,
          0.9848652014557157,
          0.9812104735787313,
          0.9856582749103822,
          0.9844113913399656,
          0.9891125542319418,
          0.9879339358159405,
          0.9874045344262502,
          0.9895665735008996,
          0.9902613252847468,
          0.9891216729019496,
          0.9882245852293633,
          0.989318632979745,
          0.9860313314225838,
          0.988791719403048,
          0.9876297417286115,
          0.9897959816188227,
          0.9885566854490618,
          0.9871645013319587,
          0.9905102598966563,
          0.9898004150502518,
          0.9927591621207339,
          0.990252134908439,
          0.9928327669815075,
          0.9912934136669531,
          0.9926612777510442,
          0.9915219510855111,
          0.992829566030887,
          0.9929456753494493,
          0.9912786255806587,
          0.9910829156414541,
          0.9909136544756583,
          0.9929795694203457,
          0.992124694177589,
          0.9931740615800639,
          0.9931104226249304,
          0.9934784232183687,
          0.9950866411186485,
          0.992128759240145,
          0.9928732264000092,
          0.9946266386902249,
          0.9936934721418793,
          0.9922217293328734,
          0.9936718714291193,
          0.9938830545879486,
          0.9932623404599918,
          0.9937351398436748,
          0.9937683861612565,
          0.9944234139822331,
          0.993446443398092,
          0.9932264183724354,
          0.9935573872963549,
          0.9938006045215452,
          0.9942904241030116,
          0.9937573983089637,
          0.9949095091083218,
          0.993325546887248,
          0.99512358479735,
          0.9945574781002361,
          0.9958638769793277,
          0.9950663404416416,
          0.9958607059850547,
          0.9948183048006729,
          0.9945795803106228,
          0.9960602835391685,
          0.9944226957087474,
          0.9948397952485483,
          0.9950761081838001,
          0.9941550806096224,
          0.995808507398614,
          0.9959633995878452,
          0.994546159594311,
          0.9954337023616235,
          0.9948632335726769,
          0.9954887415298426,
          0.9946935585052175,
          0.9947991741243264,
          0.9956038723817338,
          0.9959944436155718,
          0.9944513657846367,
          0.9959351336777827,
          0.9952194936150021,
          0.9952769677814789,
          0.9955598139445421,
          0.9949096039227648,
          0.9948210969585043,
          0.995614430186108,
          0.9942099282780739,
          0.9955010917077671,
          0.9949217138529814,
          0.9946628729516412,
          0.9944738740447009,
          0.9948283346333224,
          0.9949516987819957,
          0.9955122149258411,
          0.9949508664921464,
          0.9959217970945985,
          0.9958079630012229,
          0.9960593370872516,
          0.9947731059423772,
          0.9957796316895775,
          0.9964120758466712,
          0.9955865047857435,
          0.9942937651836661,
          0.9954270344351277,
          0.9946008420657593,
          0.9950518990217331,
          0.9955542908584251,
          0.9956974525419702,
          0.996025944365668,
          0.9947649972919628,
          0.9950830287170824,
          0.9949454005180255,
          0.9955976263542763,
          0.9964028998674995,
          0.9940777184742453,
          0.993748270060199,
          0.9947816943284596,
          0.995655678325854,
          0.9950501910649326,
          0.9956680704855991,
          0.9953889151806862,
          0.9953860676551157,
          0.9956671641550419,
          0.9959399940758233,
          0.9948367150200929,
          0.9951427951932682,
          0.9947883295706917,
          0.9938583824247378,
          0.9943382446302769,
          0.9953075626888686,
          0.9948568259965056,
          0.9945396800266508,
          0.9954424089657533,
          0.9951983367308934,
          0.9940824083242512,
          0.9942870494116467,
          0.993802306670935,
          0.9952879618852437,
          0.9959032613681711,
          0.995594329021844,
          0.9954842620188858,
          0.9939657829398103,
          0.9962683371811674,
          0.9959939936031545,
          0.9948065582000865,
          0.9956499499018012,
          0.9963556894902648,
          0.9947566062913735,
          0.993054448495121,
          0.9957857376371186,
          0.9946201684298251,
          0.995458841389717,
          0.9949794050574216,
          0.9958860714649407,
          0.9958564675962644,
          0.9961649726724543,
          0.9965904728983834,
          0.9961143651485048,
          0.9950759811674922,
          0.9944889829881332,
          0.9956775634564901,
          0.9940861520878903,
          0.9959213287571416,
          0.9951481549033693,
          0.9953431633828508,
          0.9949071673655772,
          0.9946018187489322
         ]
        },
        {
         "mode": "lines+markers",
         "name": "alpha = 1.5",
         "type": "scatter",
         "x": [
          100,
          200,
          300,
          400,
          500,
          600,
          700,
          800,
          900,
          1000,
          1100,
          1200,
          1300,
          1400,
          1500,
          1600,
          1700,
          1800,
          1900,
          2000,
          2100,
          2200,
          2300,
          2400,
          2500,
          2600,
          2700,
          2800,
          2900,
          3000,
          3100,
          3200,
          3300,
          3400,
          3500,
          3600,
          3700,
          3800,
          3900,
          4000,
          4100,
          4200,
          4300,
          4400,
          4500,
          4600,
          4700,
          4800,
          4900,
          5000,
          5100,
          5200,
          5300,
          5400,
          5500,
          5600,
          5700,
          5800,
          5900,
          6000,
          6100,
          6200,
          6300,
          6400,
          6500,
          6600,
          6700,
          6800,
          6900,
          7000,
          7100,
          7200,
          7300,
          7400,
          7500,
          7600,
          7700,
          7800,
          7900,
          8000,
          8100,
          8200,
          8300,
          8400,
          8500,
          8600,
          8700,
          8800,
          8900,
          9000,
          9100,
          9200,
          9300,
          9400,
          9500,
          9600,
          9700,
          9800,
          9900,
          10000,
          10100,
          10200,
          10300,
          10400,
          10500,
          10600,
          10700,
          10800,
          10900,
          11000,
          11100,
          11200,
          11300,
          11400,
          11500,
          11600,
          11700,
          11800,
          11900,
          12000,
          12100,
          12200,
          12300,
          12400,
          12500,
          12600,
          12700,
          12800,
          12900,
          13000,
          13100,
          13200,
          13300,
          13400,
          13500,
          13600,
          13700,
          13800,
          13900,
          14000,
          14100,
          14200,
          14300,
          14400,
          14500,
          14600,
          14700,
          14800,
          14900,
          15000,
          15100,
          15200,
          15300,
          15400,
          15500,
          15600,
          15700,
          15800,
          15900,
          16000,
          16100,
          16200,
          16300,
          16400,
          16500,
          16600,
          16700,
          16800,
          16900,
          17000,
          17100,
          17200,
          17300,
          17400,
          17500,
          17600,
          17700,
          17800,
          17900,
          18000,
          18100,
          18200,
          18300,
          18400,
          18500,
          18600,
          18700,
          18800,
          18900,
          19000,
          19100,
          19200,
          19300,
          19400,
          19500,
          19600,
          19700,
          19800,
          19900
         ],
         "y": [
          0.8467535902774285,
          0.9020724440619243,
          0.9328201837406928,
          0.9610007974157633,
          0.9624497602278772,
          0.9699828062735097,
          0.973460834132772,
          0.9783614243201447,
          0.9793957682395518,
          0.9784983122658932,
          0.9846541297382223,
          0.9802162707438346,
          0.9853040476826226,
          0.9837713032143831,
          0.9821245157020669,
          0.9866994905898856,
          0.9895653757580711,
          0.9849119549042582,
          0.9886487479791416,
          0.9886776500633196,
          0.9887447960927169,
          0.9888010025020944,
          0.9903101184643994,
          0.9910596817486859,
          0.9901374769473258,
          0.992478103672974,
          0.9932005558158742,
          0.9911992797261612,
          0.9911016662356578,
          0.993522216689814,
          0.9928927204654638,
          0.9934751873276552,
          0.9932338150203115,
          0.9947002676701073,
          0.9930091567092832,
          0.9934773384813992,
          0.9942883747500504,
          0.9926753512142775,
          0.9951636815608661,
          0.9928865444280958,
          0.9947757404612255,
          0.9951013699214745,
          0.9953071678507828,
          0.9946174080549222,
          0.9957762891730828,
          0.9945511318823486,
          0.995490442529549,
          0.9952173546686343,
          0.9953022437984148,
          0.9948212560814037,
          0.9962881262655309,
          0.9949708522137549,
          0.9956758440577144,
          0.9956378326216639,
          0.9958549895000582,
          0.9961981343930362,
          0.9956023926993198,
          0.995826611071674,
          0.9957897869594153,
          0.9964533076609025,
          0.9968679970489595,
          0.9965091671986144,
          0.9972438045208613,
          0.9956005517789861,
          0.9969522505652896,
          0.9972525463128219,
          0.9967410113646371,
          0.9962851434094308,
          0.9965110495365568,
          0.9957676957285366,
          0.9979214723729114,
          0.9972544363732261,
          0.9967867638473177,
          0.9974302227170038,
          0.997153341627788,
          0.9977567449170929,
          0.9972370716996984,
          0.9971887213459005,
          0.9965235468555307,
          0.9975179530185331,
          0.9974461163071723,
          0.9966455163516652,
          0.9969596938554385,
          0.9973656092127102,
          0.9975278898375464,
          0.9972448787441134,
          0.99778735493365,
          0.9973689120812111,
          0.997837229154753,
          0.9976358357518709,
          0.9973742347290593,
          0.9980205046323675,
          0.9974425345979375,
          0.9978111054229755,
          0.9975266606402085,
          0.9974565715232312,
          0.9973725133896886,
          0.9977463523741349,
          0.9976601315458054,
          0.9977825922432374,
          0.9977000022759058,
          0.9982128318942464,
          0.997974525000183,
          0.9975083428379007,
          0.9971072311703226,
          0.9979781619045308,
          0.9981480279698142,
          0.9979942138204998,
          0.9977794290544826,
          0.9980458298299254,
          0.9977268293577742,
          0.9981499313156587,
          0.997862456017366,
          0.9981079468771028,
          0.9976769020844215,
          0.9983198735804737,
          0.9976587829989062,
          0.9978743281830079,
          0.9976160429897961,
          0.9981738784561209,
          0.9978217617652928,
          0.9976709983985148,
          0.9979298926442103,
          0.997389115868637,
          0.9980700341508528,
          0.9974691016859399,
          0.9976326412730219,
          0.9980151525328403,
          0.9977944109243065,
          0.9981876736445815,
          0.9982439187380502,
          0.9980819503378023,
          0.9977784510564198,
          0.9977677716868035,
          0.9979022319414433,
          0.9982347805831102,
          0.9978843642977422,
          0.998333680410839,
          0.9974769624347565,
          0.9976099853489923,
          0.998092974567594,
          0.9979023348590158,
          0.9978632424998302,
          0.9977933265779456,
          0.9974155857312111,
          0.9980782769785322,
          0.9978994500203598,
          0.9976864114089599,
          0.9978140485904607,
          0.9978297370485308,
          0.9981652058690323,
          0.9979087459322274,
          0.9976950218302532,
          0.997690233318874,
          0.9981989141728104,
          0.9970659178587677,
          0.9977097977136463,
          0.9982901016246902,
          0.9975214667333776,
          0.9974987061247501,
          0.9982302609704484,
          0.9975736818613934,
          0.997706430736703,
          0.9976000098934188,
          0.9981377788407164,
          0.9970692177340428,
          0.9978455919888651,
          0.9979211444278058,
          0.9975226769851185,
          0.997648535701045,
          0.9975487838823309,
          0.9979890607757821,
          0.9979722063269026,
          0.997464561346372,
          0.9984395940841803,
          0.9980861022026773,
          0.998241308491035,
          0.9977050086315006,
          0.9982358625993603,
          0.9974042351293073,
          0.9977777608361545,
          0.9976445937290579,
          0.9977080600430384,
          0.9982499303393868,
          0.9978282563634757,
          0.9975910262697689,
          0.9981305256458444,
          0.9981019392177459,
          0.9976350336732708,
          0.9977682762768448,
          0.9978458627728556,
          0.9982132892853658,
          0.9977595994845264,
          0.9979300795372921,
          0.9978446434761614,
          0.9972927516905385,
          0.9972527997559024,
          0.9976684947714407,
          0.9981645153041302
         ]
        },
        {
         "mode": "lines+markers",
         "name": "alpha = 2",
         "type": "scatter",
         "x": [
          100,
          200,
          300,
          400,
          500,
          600,
          700,
          800,
          900,
          1000,
          1100,
          1200,
          1300,
          1400,
          1500,
          1600,
          1700,
          1800,
          1900,
          2000,
          2100,
          2200,
          2300,
          2400,
          2500,
          2600,
          2700,
          2800,
          2900,
          3000,
          3100,
          3200,
          3300,
          3400,
          3500,
          3600,
          3700,
          3800,
          3900,
          4000,
          4100,
          4200,
          4300,
          4400,
          4500,
          4600,
          4700,
          4800,
          4900,
          5000,
          5100,
          5200,
          5300,
          5400,
          5500,
          5600,
          5700,
          5800,
          5900,
          6000,
          6100,
          6200,
          6300,
          6400,
          6500,
          6600,
          6700,
          6800,
          6900,
          7000,
          7100,
          7200,
          7300,
          7400,
          7500,
          7600,
          7700,
          7800,
          7900,
          8000,
          8100,
          8200,
          8300,
          8400,
          8500,
          8600,
          8700,
          8800,
          8900,
          9000,
          9100,
          9200,
          9300,
          9400,
          9500,
          9600,
          9700,
          9800,
          9900,
          10000,
          10100,
          10200,
          10300,
          10400,
          10500,
          10600,
          10700,
          10800,
          10900,
          11000,
          11100,
          11200,
          11300,
          11400,
          11500,
          11600,
          11700,
          11800,
          11900,
          12000,
          12100,
          12200,
          12300,
          12400,
          12500,
          12600,
          12700,
          12800,
          12900,
          13000,
          13100,
          13200,
          13300,
          13400,
          13500,
          13600,
          13700,
          13800,
          13900,
          14000,
          14100,
          14200,
          14300,
          14400,
          14500,
          14600,
          14700,
          14800,
          14900,
          15000,
          15100,
          15200,
          15300,
          15400,
          15500,
          15600,
          15700,
          15800,
          15900,
          16000,
          16100,
          16200,
          16300,
          16400,
          16500,
          16600,
          16700,
          16800,
          16900,
          17000,
          17100,
          17200,
          17300,
          17400,
          17500,
          17600,
          17700,
          17800,
          17900,
          18000,
          18100,
          18200,
          18300,
          18400,
          18500,
          18600,
          18700,
          18800,
          18900,
          19000,
          19100,
          19200,
          19300,
          19400,
          19500,
          19600,
          19700,
          19800,
          19900
         ],
         "y": [
          0.9078144921273157,
          0.9512681615803265,
          0.9594809324359912,
          0.9717736409554152,
          0.9773100101153097,
          0.9815735377853421,
          0.9813056404816362,
          0.9819486933964464,
          0.9864220841722359,
          0.985174592143897,
          0.9871852251757098,
          0.9913361043311295,
          0.9896664881605295,
          0.9934200962336251,
          0.9914239062071712,
          0.9925455682011778,
          0.9925063050348442,
          0.9927236493986782,
          0.9943874858873503,
          0.9947379968676004,
          0.9925285028631816,
          0.9951851114045807,
          0.995312796132556,
          0.9947344075996517,
          0.9950707496763816,
          0.9950571282746322,
          0.9952581961737228,
          0.9959959708716463,
          0.9961805734976396,
          0.9958333791193693,
          0.9959220829275339,
          0.9967421349552011,
          0.9959905976280075,
          0.9965463153445753,
          0.9968064055584731,
          0.9963527544070914,
          0.9965494801512588,
          0.9969566209148788,
          0.9972476154633861,
          0.9972233327121233,
          0.9977940724466156,
          0.9969788191454881,
          0.9977274238634742,
          0.9963078735483294,
          0.9974491144438374,
          0.9972522856251586,
          0.9976440330392388,
          0.9977657213967716,
          0.9976697968253702,
          0.9979457594088548,
          0.9977442699495042,
          0.9979213047797106,
          0.9977362826535595,
          0.9975099627957416,
          0.9977392615354267,
          0.9974259009207554,
          0.9981062508781718,
          0.9981106273808609,
          0.9981265889769191,
          0.9976818955045391,
          0.9982549611870714,
          0.9976477531534015,
          0.9982271068774482,
          0.9976969968488182,
          0.9974780553388982,
          0.9984102977704028,
          0.9980100740041757,
          0.9975998704173079,
          0.9984510472274563,
          0.9978875343283061,
          0.9985546143758489,
          0.998383379015729,
          0.9982585984075056,
          0.998295826327137,
          0.9983845173739821,
          0.9986439951980876,
          0.9984925955814185,
          0.9983868403436914,
          0.9984125613708488,
          0.9982400079049475,
          0.998644479923875,
          0.9986475152173585,
          0.9981477738507112,
          0.9985358888090499,
          0.998334204775492,
          0.9985247748918104,
          0.9985324722435241,
          0.9986251210098366,
          0.998659921881674,
          0.9987251475287022,
          0.9986364885923609,
          0.9982944685291895,
          0.9988751639201241,
          0.9985815290865956,
          0.9986042004704857,
          0.9989347414200089,
          0.998379260178775,
          0.9987442881684991,
          0.9989765409954396,
          0.998677249361637,
          0.9985775386428712,
          0.9983768670813749,
          0.9985718616415501,
          0.9983680597523833,
          0.9987950225733855,
          0.9987574264138203,
          0.9988622218885405,
          0.998684476874225,
          0.998839337528548,
          0.9985724023762148,
          0.9988148481596232,
          0.9989923698889224,
          0.9986040911609536,
          0.9986405934213788,
          0.9986473272351045,
          0.9986680643115599,
          0.9989915766872471,
          0.998572660982325,
          0.9986068231282099,
          0.9986944942500998,
          0.9988682299806942,
          0.9989329168194667,
          0.9990347313597876,
          0.9987519279482676,
          0.9991979442139907,
          0.9987172446712318,
          0.9988764246119439,
          0.9984262719953151,
          0.9985066173676563,
          0.9988642505405312,
          0.9985431109749707,
          0.9988571285186368,
          0.9985556549159849,
          0.9987115368023247,
          0.9987539176421153,
          0.9986673252487381,
          0.9986881061650403,
          0.9989718562128413,
          0.9987428933071747,
          0.9985339212066382,
          0.9985299978125632,
          0.9986445442828817,
          0.9988422738821143,
          0.9989282303732276,
          0.9989516903116581,
          0.998540511489235,
          0.9984995978811402,
          0.9988588701407355,
          0.9987217725271563,
          0.9986954573084011,
          0.9986949394338025,
          0.9988810316005108,
          0.9986804363637879,
          0.9986609901050186,
          0.9988314109422761,
          0.9984842326564001,
          0.9988581508861426,
          0.9990175708347228,
          0.9987461048566536,
          0.9988395217140114,
          0.9986647693972527,
          0.998827567193939,
          0.9985924331673385,
          0.9988813001105173,
          0.9984184920479388,
          0.9986435679774559,
          0.9988457988374497,
          0.9987268055095609,
          0.9987864475247911,
          0.9987014529018275,
          0.9987853902512117,
          0.9985417096761987,
          0.9987031131226879,
          0.9985332688782579,
          0.9986248027431777,
          0.9987980514908305,
          0.9990567024081891,
          0.9990037970906049,
          0.9985508566991673,
          0.9988357924338979,
          0.998964298868531,
          0.9987411282244892,
          0.998299855546899,
          0.9986720393166039,
          0.9989072538252112,
          0.9988923281741787,
          0.9986543573793435,
          0.9989490353803264,
          0.9984736913384998,
          0.9986021553398671,
          0.9985532097007804,
          0.9989098689487461,
          0.998704785088136,
          0.9988137103017043,
          0.9986513284904294,
          0.9985727903604711,
          0.9986218452976348,
          0.9985873582474574,
          0.9988967678117779
         ]
        },
        {
         "mode": "lines+markers",
         "name": "alpha = 2.5",
         "type": "scatter",
         "x": [
          100,
          200,
          300,
          400,
          500,
          600,
          700,
          800,
          900,
          1000,
          1100,
          1200,
          1300,
          1400,
          1500,
          1600,
          1700,
          1800,
          1900,
          2000,
          2100,
          2200,
          2300,
          2400,
          2500,
          2600,
          2700,
          2800,
          2900,
          3000,
          3100,
          3200,
          3300,
          3400,
          3500,
          3600,
          3700,
          3800,
          3900,
          4000,
          4100,
          4200,
          4300,
          4400,
          4500,
          4600,
          4700,
          4800,
          4900,
          5000,
          5100,
          5200,
          5300,
          5400,
          5500,
          5600,
          5700,
          5800,
          5900,
          6000,
          6100,
          6200,
          6300,
          6400,
          6500,
          6600,
          6700,
          6800,
          6900,
          7000,
          7100,
          7200,
          7300,
          7400,
          7500,
          7600,
          7700,
          7800,
          7900,
          8000,
          8100,
          8200,
          8300,
          8400,
          8500,
          8600,
          8700,
          8800,
          8900,
          9000,
          9100,
          9200,
          9300,
          9400,
          9500,
          9600,
          9700,
          9800,
          9900,
          10000,
          10100,
          10200,
          10300,
          10400,
          10500,
          10600,
          10700,
          10800,
          10900,
          11000,
          11100,
          11200,
          11300,
          11400,
          11500,
          11600,
          11700,
          11800,
          11900,
          12000,
          12100,
          12200,
          12300,
          12400,
          12500,
          12600,
          12700,
          12800,
          12900,
          13000,
          13100,
          13200,
          13300,
          13400,
          13500,
          13600,
          13700,
          13800,
          13900,
          14000,
          14100,
          14200,
          14300,
          14400,
          14500,
          14600,
          14700,
          14800,
          14900,
          15000,
          15100,
          15200,
          15300,
          15400,
          15500,
          15600,
          15700,
          15800,
          15900,
          16000,
          16100,
          16200,
          16300,
          16400,
          16500,
          16600,
          16700,
          16800,
          16900,
          17000,
          17100,
          17200,
          17300,
          17400,
          17500,
          17600,
          17700,
          17800,
          17900,
          18000,
          18100,
          18200,
          18300,
          18400,
          18500,
          18600,
          18700,
          18800,
          18900,
          19000,
          19100,
          19200,
          19300,
          19400,
          19500,
          19600,
          19700,
          19800,
          19900
         ],
         "y": [
          0.9538358212682254,
          0.964058982183253,
          0.9806548979936994,
          0.978773230238494,
          0.9865266218652498,
          0.9911281327849422,
          0.9898797127433311,
          0.9881542677792468,
          0.9910264738881149,
          0.9923995467504424,
          0.9931493519555823,
          0.9941107637069159,
          0.9948193596778988,
          0.994438270850597,
          0.9948581371462207,
          0.9954376660224764,
          0.995236890744231,
          0.9950115699219723,
          0.9959004918750989,
          0.9969431557948485,
          0.9970513463597379,
          0.9970182908955395,
          0.9965938588428366,
          0.9965385440601341,
          0.9968816501651648,
          0.9967663587630257,
          0.997692656742519,
          0.9969111530257119,
          0.9979850376108721,
          0.9972576233937053,
          0.9974015835262552,
          0.997581462286484,
          0.997749530313847,
          0.998236135830183,
          0.9977250798553428,
          0.9978566647455492,
          0.9978912165005815,
          0.9978896402741231,
          0.9981120519357118,
          0.9984856764446178,
          0.9977747151596884,
          0.9979111206886855,
          0.9982596414497398,
          0.9983738186914545,
          0.9980849513946604,
          0.997949336826968,
          0.9985197092335023,
          0.998515321389347,
          0.9984723968579056,
          0.9986124821541958,
          0.9983533340666723,
          0.9986407503659129,
          0.9987591250366025,
          0.9986043864031262,
          0.9980217420867656,
          0.9984818475057543,
          0.9988144828115786,
          0.9988555712560344,
          0.9984629774525171,
          0.9990253791919537,
          0.9989981222921278,
          0.998696971813309,
          0.9986628406096485,
          0.9987447128086182,
          0.998841719245675,
          0.9987169787331378,
          0.9985708171913804,
          0.9989124442220507,
          0.9989259550129594,
          0.999046836418211,
          0.9988614904434003,
          0.9988943096906701,
          0.9988624818918712,
          0.9989830874197786,
          0.9989771087071767,
          0.9990353161614935,
          0.9991873528015177,
          0.9988956342746236,
          0.9990717641247001,
          0.9991508375346628,
          0.9990641359707614,
          0.9991039201809634,
          0.9991227338853548,
          0.9991821868403653,
          0.9991547458970612,
          0.9990632723588809,
          0.9989126425514321,
          0.9991509524363008,
          0.9991901880842267,
          0.9989825881942151,
          0.9993288817927366,
          0.9992888569564455,
          0.9992628502127223,
          0.9990953583543304,
          0.9989222668319659,
          0.999267312736735,
          0.9991036021524421,
          0.9991743336853613,
          0.9991933387218805,
          0.9992560857546688,
          0.9991820498046835,
          0.9991983193543222,
          0.9994169207085416,
          0.9991840705614984,
          0.9990054552175609,
          0.9990776498956103,
          0.9993454667100165,
          0.9991479451599347,
          0.9992645416144095,
          0.9992599296693038,
          0.9992144324827167,
          0.9992595966410378,
          0.9993704800966065,
          0.9993543499183037,
          0.9993058315248948,
          0.9991714255667633,
          0.9991183020354579,
          0.9992465771780262,
          0.9994226988310924,
          0.9992499611614512,
          0.9989067498660481,
          0.9992862067175857,
          0.999075370161451,
          0.9990809158158694,
          0.9990534539128786,
          0.9991918015596937,
          0.9992225026101075,
          0.9991832996235813,
          0.999276703814206,
          0.9993032539665218,
          0.999019576480038,
          0.9991289247121687,
          0.9994155636203121,
          0.9992895231079313,
          0.999164682626538,
          0.9991986999604374,
          0.9991888097495724,
          0.9992214669618179,
          0.9992365356281296,
          0.9991220925289171,
          0.9993432722572732,
          0.9991332092102265,
          0.9992740714980832,
          0.9992748218288869,
          0.999273051502938,
          0.9991763457115689,
          0.9990410179347523,
          0.9993079327076745,
          0.9990350295283398,
          0.9992032886601844,
          0.9991383071594556,
          0.9990003667169933,
          0.9992319261713852,
          0.9991878766989492,
          0.9993173189598926,
          0.9991919988881095,
          0.9991510098299581,
          0.9990325346207278,
          0.9990643450137552,
          0.9991849460793064,
          0.999249088990032,
          0.9991684760179582,
          0.9991270864622142,
          0.9992022011514425,
          0.9992079546112224,
          0.9992259332662072,
          0.9991257554033695,
          0.9992086853621485,
          0.9993855554780401,
          0.9989912570550823,
          0.9992079722351359,
          0.9991935463785258,
          0.9991116611967821,
          0.9993110328171857,
          0.9991800140292411,
          0.9990971458926384,
          0.9992317244771572,
          0.9990723534537522,
          0.9989636785985464,
          0.9992516538666214,
          0.9991743493077111,
          0.9991970461163989,
          0.9993222452181897,
          0.9991131523043147,
          0.9992601140410527,
          0.9992430339731427,
          0.9992141568625212,
          0.9992333820779014,
          0.9990482869626475,
          0.999303339153965,
          0.9994254153983413,
          0.9990996429919686,
          0.9992292214611654,
          0.9993026561142752,
          0.9991111410486879,
          0.999307636219769,
          0.9991730727956607,
          0.9992639633624754,
          0.9992814052222914
         ]
        },
        {
         "mode": "lines+markers",
         "name": "alpha = 3",
         "type": "scatter",
         "x": [
          100,
          200,
          300,
          400,
          500,
          600,
          700,
          800,
          900,
          1000,
          1100,
          1200,
          1300,
          1400,
          1500,
          1600,
          1700,
          1800,
          1900,
          2000,
          2100,
          2200,
          2300,
          2400,
          2500,
          2600,
          2700,
          2800,
          2900,
          3000,
          3100,
          3200,
          3300,
          3400,
          3500,
          3600,
          3700,
          3800,
          3900,
          4000,
          4100,
          4200,
          4300,
          4400,
          4500,
          4600,
          4700,
          4800,
          4900,
          5000,
          5100,
          5200,
          5300,
          5400,
          5500,
          5600,
          5700,
          5800,
          5900,
          6000,
          6100,
          6200,
          6300,
          6400,
          6500,
          6600,
          6700,
          6800,
          6900,
          7000,
          7100,
          7200,
          7300,
          7400,
          7500,
          7600,
          7700,
          7800,
          7900,
          8000,
          8100,
          8200,
          8300,
          8400,
          8500,
          8600,
          8700,
          8800,
          8900,
          9000,
          9100,
          9200,
          9300,
          9400,
          9500,
          9600,
          9700,
          9800,
          9900,
          10000,
          10100,
          10200,
          10300,
          10400,
          10500,
          10600,
          10700,
          10800,
          10900,
          11000,
          11100,
          11200,
          11300,
          11400,
          11500,
          11600,
          11700,
          11800,
          11900,
          12000,
          12100,
          12200,
          12300,
          12400,
          12500,
          12600,
          12700,
          12800,
          12900,
          13000,
          13100,
          13200,
          13300,
          13400,
          13500,
          13600,
          13700,
          13800,
          13900,
          14000,
          14100,
          14200,
          14300,
          14400,
          14500,
          14600,
          14700,
          14800,
          14900,
          15000,
          15100,
          15200,
          15300,
          15400,
          15500,
          15600,
          15700,
          15800,
          15900,
          16000,
          16100,
          16200,
          16300,
          16400,
          16500,
          16600,
          16700,
          16800,
          16900,
          17000,
          17100,
          17200,
          17300,
          17400,
          17500,
          17600,
          17700,
          17800,
          17900,
          18000,
          18100,
          18200,
          18300,
          18400,
          18500,
          18600,
          18700,
          18800,
          18900,
          19000,
          19100,
          19200,
          19300,
          19400,
          19500,
          19600,
          19700,
          19800,
          19900
         ],
         "y": [
          0.9512507983833819,
          0.9811620244246435,
          0.9831331760163387,
          0.9898179531611254,
          0.9911422373119203,
          0.991489921510592,
          0.9929484142699606,
          0.9930258853521835,
          0.99294532027634,
          0.9958483094452809,
          0.9951971899249212,
          0.9947655620236862,
          0.9949584065648791,
          0.9961039174953387,
          0.997242176786599,
          0.9961591484749729,
          0.9960821106412359,
          0.9969117050032292,
          0.9974797362198283,
          0.997867198319714,
          0.9967331709470494,
          0.9975347717582034,
          0.9975125304764189,
          0.997451467778045,
          0.997491248052102,
          0.9983461384376474,
          0.9984031277143005,
          0.9983895134531143,
          0.9983821050638589,
          0.9975048762693529,
          0.9978786695082295,
          0.9985560052558643,
          0.9981612615583234,
          0.998445122153775,
          0.9983982808705112,
          0.9983420333376037,
          0.9986469073443232,
          0.998793019001405,
          0.9989107979992196,
          0.9988297640735515,
          0.9989511128648054,
          0.9987725653797945,
          0.9987731203299055,
          0.998862320416306,
          0.9983661544162353,
          0.9986389117994554,
          0.9988188434575087,
          0.9989502964948817,
          0.9985807227829357,
          0.9989499867273519,
          0.9987584252249366,
          0.9988095829901061,
          0.9990574380735312,
          0.9992229099065371,
          0.9991430150952472,
          0.9993695224388802,
          0.999024273636764,
          0.9990501335507271,
          0.9990453879764737,
          0.9989878120862263,
          0.9994630477903119,
          0.998992663003183,
          0.999217907542296,
          0.9989513455824682,
          0.9990807116703319,
          0.9990735724300238,
          0.9992362141109219,
          0.9989564654270109,
          0.9991636414831573,
          0.9991197297600347,
          0.9991874842269775,
          0.9990532935502205,
          0.9991374800890125,
          0.9990027661769157,
          0.9991967677145178,
          0.9993247666072615,
          0.9991934306348846,
          0.9993665395280754,
          0.9993414044033433,
          0.999261339058159,
          0.9992753848901978,
          0.9994903006712593,
          0.9993629851412432,
          0.9994003615904582,
          0.9992108413142249,
          0.9994969751125037,
          0.9993746157150565,
          0.9995237801410273,
          0.9994317662024461,
          0.999413928967087,
          0.9993269752145111,
          0.9995294836329887,
          0.9994809802515479,
          0.9995205037742734,
          0.9993498363116214,
          0.9993713522200697,
          0.9994416218068798,
          0.9994674208122879,
          0.9993947240551916,
          0.999310359845058,
          0.9994854624750984,
          0.9995130320181943,
          0.9994835361487223,
          0.99946517424769,
          0.9992609695793505,
          0.9994263499100096,
          0.9993856260004076,
          0.999487816915051,
          0.9995322244646673,
          0.999411856777936,
          0.9994761333035665,
          0.9994300057768633,
          0.9994069617198517,
          0.9994344620721597,
          0.9994557997174421,
          0.999377737456695,
          0.9994186270493279,
          0.9994168603366215,
          0.9993659324136659,
          0.9994181182442317,
          0.9994138051813569,
          0.9993640337875443,
          0.9992246351977356,
          0.9993142121650636,
          0.9993112719989353,
          0.9993314336275947,
          0.9994478082224342,
          0.9995438432228597,
          0.999449499286797,
          0.9993795712418247,
          0.9995439969578503,
          0.9994882123180018,
          0.999527512606003,
          0.9994810988248328,
          0.9994458869313189,
          0.9993488974363715,
          0.9995178608731952,
          0.9994309454777817,
          0.9993635783645382,
          0.9995212543451935,
          0.9994097758696058,
          0.9995232070011411,
          0.9995262554494487,
          0.9995549318073229,
          0.9994789992467218,
          0.9993319590548376,
          0.9993725787203123,
          0.9994186380132096,
          0.9993977055170175,
          0.999507130216531,
          0.9995332175127094,
          0.9994821403594386,
          0.999441747408459,
          0.9993412900446221,
          0.9994496500573268,
          0.999415630288405,
          0.9993091670695985,
          0.9995058809539786,
          0.9993345548280361,
          0.999593739089587,
          0.9994158836412412,
          0.9995881127363077,
          0.9995019442962803,
          0.9994678701451815,
          0.9993773318812685,
          0.9995132788234755,
          0.9993728911990576,
          0.9993338339322603,
          0.9993804265440652,
          0.9995223050559321,
          0.9994842700980661,
          0.9994146042063882,
          0.9993382835599922,
          0.9993292168661762,
          0.9994948690509733,
          0.9994914593904239,
          0.9995190112236337,
          0.9993407891936613,
          0.9994092755615865,
          0.9994649989966737,
          0.9994434834135115,
          0.9994358848583074,
          0.9994261758260965,
          0.9993314628316302,
          0.9993536136838735,
          0.9994868112801188,
          0.9994638254205639,
          0.9995239588312437,
          0.9994760515592521,
          0.99927237749932,
          0.9994353346875806,
          0.9995193770622564,
          0.99938533206834,
          0.9993590081446647,
          0.999447621224509,
          0.9995617948104526,
          0.9994480374145036,
          0.999442635063333,
          0.9993673383280719
         ]
        }
       ],
       "layout": {
        "annotations": [
         {
          "showarrow": false,
          "text": "Corr = 1",
          "x": 0,
          "xanchor": "left",
          "xref": "x domain",
          "y": 1,
          "yanchor": "bottom",
          "yref": "y"
         }
        ],
        "height": 500,
        "legend": {
         "title": {
          "text": "Valeurs de alpha"
         }
        },
        "shapes": [
         {
          "line": {
           "color": "red",
           "dash": "dot"
          },
          "type": "line",
          "x0": 0,
          "x1": 1,
          "xref": "x domain",
          "y0": 1,
          "y1": 1,
          "yref": "y"
         }
        ],
        "template": {
         "data": {
          "bar": [
           {
            "error_x": {
             "color": "#2a3f5f"
            },
            "error_y": {
             "color": "#2a3f5f"
            },
            "marker": {
             "line": {
              "color": "#E5ECF6",
              "width": 0.5
             },
             "pattern": {
              "fillmode": "overlay",
              "size": 10,
              "solidity": 0.2
             }
            },
            "type": "bar"
           }
          ],
          "barpolar": [
           {
            "marker": {
             "line": {
              "color": "#E5ECF6",
              "width": 0.5
             },
             "pattern": {
              "fillmode": "overlay",
              "size": 10,
              "solidity": 0.2
             }
            },
            "type": "barpolar"
           }
          ],
          "carpet": [
           {
            "aaxis": {
             "endlinecolor": "#2a3f5f",
             "gridcolor": "white",
             "linecolor": "white",
             "minorgridcolor": "white",
             "startlinecolor": "#2a3f5f"
            },
            "baxis": {
             "endlinecolor": "#2a3f5f",
             "gridcolor": "white",
             "linecolor": "white",
             "minorgridcolor": "white",
             "startlinecolor": "#2a3f5f"
            },
            "type": "carpet"
           }
          ],
          "choropleth": [
           {
            "colorbar": {
             "outlinewidth": 0,
             "ticks": ""
            },
            "type": "choropleth"
           }
          ],
          "contour": [
           {
            "colorbar": {
             "outlinewidth": 0,
             "ticks": ""
            },
            "colorscale": [
             [
              0,
              "#0d0887"
             ],
             [
              0.1111111111111111,
              "#46039f"
             ],
             [
              0.2222222222222222,
              "#7201a8"
             ],
             [
              0.3333333333333333,
              "#9c179e"
             ],
             [
              0.4444444444444444,
              "#bd3786"
             ],
             [
              0.5555555555555556,
              "#d8576b"
             ],
             [
              0.6666666666666666,
              "#ed7953"
             ],
             [
              0.7777777777777778,
              "#fb9f3a"
             ],
             [
              0.8888888888888888,
              "#fdca26"
             ],
             [
              1,
              "#f0f921"
             ]
            ],
            "type": "contour"
           }
          ],
          "contourcarpet": [
           {
            "colorbar": {
             "outlinewidth": 0,
             "ticks": ""
            },
            "type": "contourcarpet"
           }
          ],
          "heatmap": [
           {
            "colorbar": {
             "outlinewidth": 0,
             "ticks": ""
            },
            "colorscale": [
             [
              0,
              "#0d0887"
             ],
             [
              0.1111111111111111,
              "#46039f"
             ],
             [
              0.2222222222222222,
              "#7201a8"
             ],
             [
              0.3333333333333333,
              "#9c179e"
             ],
             [
              0.4444444444444444,
              "#bd3786"
             ],
             [
              0.5555555555555556,
              "#d8576b"
             ],
             [
              0.6666666666666666,
              "#ed7953"
             ],
             [
              0.7777777777777778,
              "#fb9f3a"
             ],
             [
              0.8888888888888888,
              "#fdca26"
             ],
             [
              1,
              "#f0f921"
             ]
            ],
            "type": "heatmap"
           }
          ],
          "heatmapgl": [
           {
            "colorbar": {
             "outlinewidth": 0,
             "ticks": ""
            },
            "colorscale": [
             [
              0,
              "#0d0887"
             ],
             [
              0.1111111111111111,
              "#46039f"
             ],
             [
              0.2222222222222222,
              "#7201a8"
             ],
             [
              0.3333333333333333,
              "#9c179e"
             ],
             [
              0.4444444444444444,
              "#bd3786"
             ],
             [
              0.5555555555555556,
              "#d8576b"
             ],
             [
              0.6666666666666666,
              "#ed7953"
             ],
             [
              0.7777777777777778,
              "#fb9f3a"
             ],
             [
              0.8888888888888888,
              "#fdca26"
             ],
             [
              1,
              "#f0f921"
             ]
            ],
            "type": "heatmapgl"
           }
          ],
          "histogram": [
           {
            "marker": {
             "pattern": {
              "fillmode": "overlay",
              "size": 10,
              "solidity": 0.2
             }
            },
            "type": "histogram"
           }
          ],
          "histogram2d": [
           {
            "colorbar": {
             "outlinewidth": 0,
             "ticks": ""
            },
            "colorscale": [
             [
              0,
              "#0d0887"
             ],
             [
              0.1111111111111111,
              "#46039f"
             ],
             [
              0.2222222222222222,
              "#7201a8"
             ],
             [
              0.3333333333333333,
              "#9c179e"
             ],
             [
              0.4444444444444444,
              "#bd3786"
             ],
             [
              0.5555555555555556,
              "#d8576b"
             ],
             [
              0.6666666666666666,
              "#ed7953"
             ],
             [
              0.7777777777777778,
              "#fb9f3a"
             ],
             [
              0.8888888888888888,
              "#fdca26"
             ],
             [
              1,
              "#f0f921"
             ]
            ],
            "type": "histogram2d"
           }
          ],
          "histogram2dcontour": [
           {
            "colorbar": {
             "outlinewidth": 0,
             "ticks": ""
            },
            "colorscale": [
             [
              0,
              "#0d0887"
             ],
             [
              0.1111111111111111,
              "#46039f"
             ],
             [
              0.2222222222222222,
              "#7201a8"
             ],
             [
              0.3333333333333333,
              "#9c179e"
             ],
             [
              0.4444444444444444,
              "#bd3786"
             ],
             [
              0.5555555555555556,
              "#d8576b"
             ],
             [
              0.6666666666666666,
              "#ed7953"
             ],
             [
              0.7777777777777778,
              "#fb9f3a"
             ],
             [
              0.8888888888888888,
              "#fdca26"
             ],
             [
              1,
              "#f0f921"
             ]
            ],
            "type": "histogram2dcontour"
           }
          ],
          "mesh3d": [
           {
            "colorbar": {
             "outlinewidth": 0,
             "ticks": ""
            },
            "type": "mesh3d"
           }
          ],
          "parcoords": [
           {
            "line": {
             "colorbar": {
              "outlinewidth": 0,
              "ticks": ""
             }
            },
            "type": "parcoords"
           }
          ],
          "pie": [
           {
            "automargin": true,
            "type": "pie"
           }
          ],
          "scatter": [
           {
            "fillpattern": {
             "fillmode": "overlay",
             "size": 10,
             "solidity": 0.2
            },
            "type": "scatter"
           }
          ],
          "scatter3d": [
           {
            "line": {
             "colorbar": {
              "outlinewidth": 0,
              "ticks": ""
             }
            },
            "marker": {
             "colorbar": {
              "outlinewidth": 0,
              "ticks": ""
             }
            },
            "type": "scatter3d"
           }
          ],
          "scattercarpet": [
           {
            "marker": {
             "colorbar": {
              "outlinewidth": 0,
              "ticks": ""
             }
            },
            "type": "scattercarpet"
           }
          ],
          "scattergeo": [
           {
            "marker": {
             "colorbar": {
              "outlinewidth": 0,
              "ticks": ""
             }
            },
            "type": "scattergeo"
           }
          ],
          "scattergl": [
           {
            "marker": {
             "colorbar": {
              "outlinewidth": 0,
              "ticks": ""
             }
            },
            "type": "scattergl"
           }
          ],
          "scattermapbox": [
           {
            "marker": {
             "colorbar": {
              "outlinewidth": 0,
              "ticks": ""
             }
            },
            "type": "scattermapbox"
           }
          ],
          "scatterpolar": [
           {
            "marker": {
             "colorbar": {
              "outlinewidth": 0,
              "ticks": ""
             }
            },
            "type": "scatterpolar"
           }
          ],
          "scatterpolargl": [
           {
            "marker": {
             "colorbar": {
              "outlinewidth": 0,
              "ticks": ""
             }
            },
            "type": "scatterpolargl"
           }
          ],
          "scatterternary": [
           {
            "marker": {
             "colorbar": {
              "outlinewidth": 0,
              "ticks": ""
             }
            },
            "type": "scatterternary"
           }
          ],
          "surface": [
           {
            "colorbar": {
             "outlinewidth": 0,
             "ticks": ""
            },
            "colorscale": [
             [
              0,
              "#0d0887"
             ],
             [
              0.1111111111111111,
              "#46039f"
             ],
             [
              0.2222222222222222,
              "#7201a8"
             ],
             [
              0.3333333333333333,
              "#9c179e"
             ],
             [
              0.4444444444444444,
              "#bd3786"
             ],
             [
              0.5555555555555556,
              "#d8576b"
             ],
             [
              0.6666666666666666,
              "#ed7953"
             ],
             [
              0.7777777777777778,
              "#fb9f3a"
             ],
             [
              0.8888888888888888,
              "#fdca26"
             ],
             [
              1,
              "#f0f921"
             ]
            ],
            "type": "surface"
           }
          ],
          "table": [
           {
            "cells": {
             "fill": {
              "color": "#EBF0F8"
             },
             "line": {
              "color": "white"
             }
            },
            "header": {
             "fill": {
              "color": "#C8D4E3"
             },
             "line": {
              "color": "white"
             }
            },
            "type": "table"
           }
          ]
         },
         "layout": {
          "annotationdefaults": {
           "arrowcolor": "#2a3f5f",
           "arrowhead": 0,
           "arrowwidth": 1
          },
          "autotypenumbers": "strict",
          "coloraxis": {
           "colorbar": {
            "outlinewidth": 0,
            "ticks": ""
           }
          },
          "colorscale": {
           "diverging": [
            [
             0,
             "#8e0152"
            ],
            [
             0.1,
             "#c51b7d"
            ],
            [
             0.2,
             "#de77ae"
            ],
            [
             0.3,
             "#f1b6da"
            ],
            [
             0.4,
             "#fde0ef"
            ],
            [
             0.5,
             "#f7f7f7"
            ],
            [
             0.6,
             "#e6f5d0"
            ],
            [
             0.7,
             "#b8e186"
            ],
            [
             0.8,
             "#7fbc41"
            ],
            [
             0.9,
             "#4d9221"
            ],
            [
             1,
             "#276419"
            ]
           ],
           "sequential": [
            [
             0,
             "#0d0887"
            ],
            [
             0.1111111111111111,
             "#46039f"
            ],
            [
             0.2222222222222222,
             "#7201a8"
            ],
            [
             0.3333333333333333,
             "#9c179e"
            ],
            [
             0.4444444444444444,
             "#bd3786"
            ],
            [
             0.5555555555555556,
             "#d8576b"
            ],
            [
             0.6666666666666666,
             "#ed7953"
            ],
            [
             0.7777777777777778,
             "#fb9f3a"
            ],
            [
             0.8888888888888888,
             "#fdca26"
            ],
            [
             1,
             "#f0f921"
            ]
           ],
           "sequentialminus": [
            [
             0,
             "#0d0887"
            ],
            [
             0.1111111111111111,
             "#46039f"
            ],
            [
             0.2222222222222222,
             "#7201a8"
            ],
            [
             0.3333333333333333,
             "#9c179e"
            ],
            [
             0.4444444444444444,
             "#bd3786"
            ],
            [
             0.5555555555555556,
             "#d8576b"
            ],
            [
             0.6666666666666666,
             "#ed7953"
            ],
            [
             0.7777777777777778,
             "#fb9f3a"
            ],
            [
             0.8888888888888888,
             "#fdca26"
            ],
            [
             1,
             "#f0f921"
            ]
           ]
          },
          "colorway": [
           "#636efa",
           "#EF553B",
           "#00cc96",
           "#ab63fa",
           "#FFA15A",
           "#19d3f3",
           "#FF6692",
           "#B6E880",
           "#FF97FF",
           "#FECB52"
          ],
          "font": {
           "color": "#2a3f5f"
          },
          "geo": {
           "bgcolor": "white",
           "lakecolor": "white",
           "landcolor": "#E5ECF6",
           "showlakes": true,
           "showland": true,
           "subunitcolor": "white"
          },
          "hoverlabel": {
           "align": "left"
          },
          "hovermode": "closest",
          "mapbox": {
           "style": "light"
          },
          "paper_bgcolor": "white",
          "plot_bgcolor": "#E5ECF6",
          "polar": {
           "angularaxis": {
            "gridcolor": "white",
            "linecolor": "white",
            "ticks": ""
           },
           "bgcolor": "#E5ECF6",
           "radialaxis": {
            "gridcolor": "white",
            "linecolor": "white",
            "ticks": ""
           }
          },
          "scene": {
           "xaxis": {
            "backgroundcolor": "#E5ECF6",
            "gridcolor": "white",
            "gridwidth": 2,
            "linecolor": "white",
            "showbackground": true,
            "ticks": "",
            "zerolinecolor": "white"
           },
           "yaxis": {
            "backgroundcolor": "#E5ECF6",
            "gridcolor": "white",
            "gridwidth": 2,
            "linecolor": "white",
            "showbackground": true,
            "ticks": "",
            "zerolinecolor": "white"
           },
           "zaxis": {
            "backgroundcolor": "#E5ECF6",
            "gridcolor": "white",
            "gridwidth": 2,
            "linecolor": "white",
            "showbackground": true,
            "ticks": "",
            "zerolinecolor": "white"
           }
          },
          "shapedefaults": {
           "line": {
            "color": "#2a3f5f"
           }
          },
          "ternary": {
           "aaxis": {
            "gridcolor": "white",
            "linecolor": "white",
            "ticks": ""
           },
           "baxis": {
            "gridcolor": "white",
            "linecolor": "white",
            "ticks": ""
           },
           "bgcolor": "#E5ECF6",
           "caxis": {
            "gridcolor": "white",
            "linecolor": "white",
            "ticks": ""
           }
          },
          "title": {
           "x": 0.05
          },
          "xaxis": {
           "automargin": true,
           "gridcolor": "white",
           "linecolor": "white",
           "ticks": "",
           "title": {
            "standoff": 15
           },
           "zerolinecolor": "white",
           "zerolinewidth": 2
          },
          "yaxis": {
           "automargin": true,
           "gridcolor": "white",
           "linecolor": "white",
           "ticks": "",
           "title": {
            "standoff": 15
           },
           "zerolinecolor": "white",
           "zerolinewidth": 2
          }
         }
        },
        "title": {
         "text": "Impact de No et alpha sur le Corr après attaque"
        },
        "width": 800,
        "xaxis": {
         "title": {
          "text": "No (Nombre d'observations)=10000"
         }
        },
        "yaxis": {
         "title": {
          "text": "Cor"
         }
        }
       }
      }
     },
     "metadata": {},
     "output_type": "display_data"
    }
   ],
   "source": [
    "alpha_values = [0.2, 0.5, 1, 1.5, 2, 2.5, 3] # Tune the power of the watermark here\n",
    "Ni_grand = 20000\n",
    "\n",
    "fig_ber = go.Figure()\n",
    "fig_corr = go.Figure()\n",
    "fig_ber.add_hline(y=0.5, line_dash=\"dot\", line_color=\"red\", annotation_text=\"BER 50%\", annotation_position=\"top left\")\n",
    "fig_corr.add_hline(y=1, line_dash=\"dot\", line_color=\"red\", annotation_text=\"Corr = 1\", annotation_position=\"top left\")\n",
    "\n",
    "for alpha in alpha_values:\n",
    "    # Réinitialisation des vecteurs pour les plots\n",
    "    ber_values = []\n",
    "    corr_values = []\n",
    "    No_values = range(100,Ni_grand,100) \n",
    "    for No in No_values:\n",
    "        ber_val, corr_val = do_process(alpha, No)\n",
    "        ber_values.append(ber_val)\n",
    "        corr_values.append(corr_val)\n",
    "    # Graphique du BER\n",
    "    fig_ber.add_trace(go.Scatter(x=list(No_values), y=ber_values, mode='lines+markers', name=f'alpha = {alpha}'))\n",
    "    # Graphique du Corr\n",
    "    fig_corr.add_trace(go.Scatter(x=list(No_values), y=corr_values, mode='lines+markers', name=f'alpha = {alpha}'))\n",
    "fig_corr.update_layout(\n",
    "    title=\"Impact de No et alpha sur le Corr après attaque\",\n",
    "    xaxis_title=f\"No (Nombre d'observations)={Ni}\",\n",
    "    yaxis_title=\"Cor\",\n",
    "    legend_title='Valeurs de alpha',\n",
    "    width=800,\n",
    "    height=500\n",
    ")\n",
    "    \n",
    "fig_ber.update_layout(\n",
    "    title='Impact de No et alpha sur le BER après attaque',\n",
    "    xaxis_title=f'No (Nombre d‘observations)={Ni}',\n",
    "    yaxis_title='BER',\n",
    "    legend_title='Valeurs de alpha',\n",
    "    width=800,\n",
    "    height=500\n",
    ")\n",
    "fig_ber.show()\n",
    "fig_corr.show()"
   ]
  },
  {
   "cell_type": "markdown",
   "metadata": {},
   "source": [
    "> En faisant varier alpha et N0, on remarque que toutes les courbes convergnet vers un BER de 0.5. Ceoendant, un alpha trop faible (comme 0.2), a plus de mal a convergé et suggère une plus grande résistance à l'attaque (car légèrement en dessous de BER = 0.5). \n",
    ">\n",
    "> Mis à part cet exemple, le fait que le BER reste autour de 0.5 pour la plupart des valeurs de α suggère que l'attaque est généralement efficace, rendant le processus de décodage presque aléatoire. L'observation d'un BER légèrement inférieur à 0.5 pour α=0.2 indique que le tatouage moins robuste est un peu plus résistant à cette attaque spécifique. Cela pourrait impliquer qu'un tatouage plus discret (moins perceptible) est légèrement plus efficace contre cette méthode d'attaque. Ces résultats soulignent un équilibre entre la robustesse et la discrétion du tatouage, indiquant qu'une augmentation de la force du tatouage ne garantit pas nécessairement une meilleure sécurité contre les attaques dans ce contexte particulier.\n",
    ">\n",
    "> (Insertion moins robuste)"
   ]
  },
  {
   "cell_type": "markdown",
   "metadata": {
    "hideCode": false,
    "hidePrompt": false
   },
   "source": [
    "## Scénario 2, Attaque à messages inconnus, 1bit\n",
    "* Note: la fonction `np.linalg.eig` peut être utilisée pour effectuer une décomposition en valeurs et vecteurs propres.\n",
    "* Note: pour effacer le message inséré, il conviendra au préalable d'estimer le \"bit\" inséré (m=-1 ou m=1), cela peut se faire via `m_est = np.sign(np.dot(Y.T,hatk))` où `hatk` est la clé estimée\n",
    "* Mettre en place l'attaque\n",
    "* Etudier l'impact de $N_{o}$ et de $\\alpha$ sur le BER après attaque"
   ]
  },
  {
   "cell_type": "code",
   "execution_count": 5,
   "metadata": {},
   "outputs": [
    {
     "name": "stdout",
     "output_type": "stream",
     "text": [
      "2nd Scenario\n"
     ]
    },
    {
     "data": {
      "application/vnd.plotly.v1+json": {
       "config": {
        "plotlyServerURL": "https://plot.ly"
       },
       "data": [
        {
         "mode": "lines+markers",
         "name": "BER après attaque",
         "type": "scatter",
         "x": [
          100,
          200,
          300,
          400,
          500,
          600,
          700,
          800,
          900,
          1000,
          1100,
          1200,
          1300,
          1400,
          1500,
          1600,
          1700,
          1800,
          1900,
          2000,
          2100,
          2200,
          2300,
          2400,
          2500,
          2600,
          2700,
          2800,
          2900,
          3000,
          3100,
          3200,
          3300,
          3400,
          3500,
          3600,
          3700,
          3800,
          3900,
          4000,
          4100,
          4200,
          4300,
          4400,
          4500,
          4600,
          4700,
          4800,
          4900,
          5000,
          5100,
          5200,
          5300,
          5400,
          5500,
          5600,
          5700,
          5800,
          5900,
          6000,
          6100,
          6200,
          6300,
          6400,
          6500,
          6600,
          6700,
          6800,
          6900,
          7000,
          7100,
          7200,
          7300,
          7400,
          7500,
          7600,
          7700,
          7800,
          7900,
          8000,
          8100,
          8200,
          8300,
          8400,
          8500,
          8600,
          8700,
          8800,
          8900,
          9000,
          9100,
          9200,
          9300,
          9400,
          9500,
          9600,
          9700,
          9800,
          9900,
          10000,
          10100,
          10200,
          10300,
          10400,
          10500,
          10600,
          10700,
          10800,
          10900,
          11000,
          11100,
          11200,
          11300,
          11400,
          11500,
          11600,
          11700,
          11800,
          11900,
          12000,
          12100,
          12200,
          12300,
          12400,
          12500,
          12600,
          12700,
          12800,
          12900,
          13000,
          13100,
          13200,
          13300,
          13400,
          13500,
          13600,
          13700,
          13800,
          13900,
          14000,
          14100,
          14200,
          14300,
          14400,
          14500,
          14600,
          14700,
          14800,
          14900,
          15000,
          15100,
          15200,
          15300,
          15400,
          15500,
          15600,
          15700,
          15800,
          15900,
          16000,
          16100,
          16200,
          16300,
          16400,
          16500,
          16600,
          16700,
          16800,
          16900,
          17000,
          17100,
          17200,
          17300,
          17400,
          17500,
          17600,
          17700,
          17800,
          17900,
          18000,
          18100,
          18200,
          18300,
          18400,
          18500,
          18600,
          18700,
          18800,
          18900,
          19000,
          19100,
          19200,
          19300,
          19400,
          19500,
          19600,
          19700,
          19800,
          19900
         ],
         "y": [
          0.3301,
          0.40695,
          0.4382,
          0.444,
          0.4583,
          0.45805,
          0.46075,
          0.4603,
          0.4643,
          0.4649,
          0.46045,
          0.46275,
          0.46535,
          0.46335,
          0.4692,
          0.46685,
          0.46705,
          0.47045,
          0.4694,
          0.47645,
          0.47435,
          0.4746,
          0.4685,
          0.47285,
          0.4728,
          0.4715,
          0.4748,
          0.472,
          0.47115,
          0.4735,
          0.4771,
          0.4721,
          0.47115,
          0.4716,
          0.4719,
          0.4751,
          0.4713,
          0.4753,
          0.4745,
          0.4821,
          0.47345,
          0.47375,
          0.47495,
          0.48145,
          0.47255,
          0.4709,
          0.47375,
          0.4804,
          0.47625,
          0.4765,
          0.4792,
          0.47395,
          0.4714,
          0.4755,
          0.4792,
          0.4753,
          0.47655,
          0.4759,
          0.4722,
          0.47245,
          0.47735,
          0.4738,
          0.4748,
          0.4766,
          0.48,
          0.47525,
          0.468,
          0.47285,
          0.4732,
          0.47515,
          0.47425,
          0.4672,
          0.47705,
          0.47875,
          0.4771,
          0.4758,
          0.4727,
          0.4735,
          0.4734,
          0.4725,
          0.47355,
          0.476,
          0.47865,
          0.47985,
          0.48345,
          0.4775,
          0.4773,
          0.4833,
          0.4739,
          0.4839,
          0.4822,
          0.47165,
          0.47855,
          0.4815,
          0.4757,
          0.47415,
          0.47485,
          0.4754,
          0.47785,
          0.47355,
          0.48565,
          0.4709,
          0.47605,
          0.4851,
          0.47165,
          0.4782,
          0.47935,
          0.4774,
          0.4782,
          0.478,
          0.48405,
          0.48165,
          0.4762,
          0.47975,
          0.479,
          0.4714,
          0.4815,
          0.47525,
          0.47255,
          0.4737,
          0.47235,
          0.4743,
          0.4814,
          0.478,
          0.47955,
          0.47785,
          0.4831,
          0.4728,
          0.4693,
          0.4767,
          0.47105,
          0.47945,
          0.4724,
          0.48055,
          0.4704,
          0.4783,
          0.47725,
          0.4718,
          0.47455,
          0.47495,
          0.4701,
          0.46715,
          0.47575,
          0.4735,
          0.47955,
          0.48145,
          0.4778,
          0.47215,
          0.4745,
          0.4805,
          0.47395,
          0.47355,
          0.47765,
          0.47045,
          0.47825,
          0.4729,
          0.47675,
          0.4752,
          0.47645,
          0.47665,
          0.47915,
          0.4787,
          0.4764,
          0.4786,
          0.47245,
          0.4775,
          0.4783,
          0.479,
          0.47215,
          0.47225,
          0.47495,
          0.4782,
          0.4818,
          0.4778,
          0.4819,
          0.47485,
          0.48025,
          0.47265,
          0.4741,
          0.478,
          0.47305,
          0.478,
          0.4754,
          0.4692,
          0.4759,
          0.48025,
          0.4758,
          0.4777,
          0.47335,
          0.47595,
          0.4778,
          0.4696,
          0.4775,
          0.4733,
          0.47485,
          0.47775,
          0.4752,
          0.48115,
          0.4813
         ]
        }
       ],
       "layout": {
        "annotations": [
         {
          "showarrow": false,
          "text": "BER 50%",
          "x": 0,
          "xanchor": "left",
          "xref": "x domain",
          "y": 0.5,
          "yanchor": "top",
          "yref": "y"
         }
        ],
        "height": 400,
        "shapes": [
         {
          "line": {
           "color": "red",
           "dash": "dot"
          },
          "type": "line",
          "x0": 0,
          "x1": 1,
          "xref": "x domain",
          "y0": 0.5,
          "y1": 0.5,
          "yref": "y"
         }
        ],
        "template": {
         "data": {
          "bar": [
           {
            "error_x": {
             "color": "#2a3f5f"
            },
            "error_y": {
             "color": "#2a3f5f"
            },
            "marker": {
             "line": {
              "color": "#E5ECF6",
              "width": 0.5
             },
             "pattern": {
              "fillmode": "overlay",
              "size": 10,
              "solidity": 0.2
             }
            },
            "type": "bar"
           }
          ],
          "barpolar": [
           {
            "marker": {
             "line": {
              "color": "#E5ECF6",
              "width": 0.5
             },
             "pattern": {
              "fillmode": "overlay",
              "size": 10,
              "solidity": 0.2
             }
            },
            "type": "barpolar"
           }
          ],
          "carpet": [
           {
            "aaxis": {
             "endlinecolor": "#2a3f5f",
             "gridcolor": "white",
             "linecolor": "white",
             "minorgridcolor": "white",
             "startlinecolor": "#2a3f5f"
            },
            "baxis": {
             "endlinecolor": "#2a3f5f",
             "gridcolor": "white",
             "linecolor": "white",
             "minorgridcolor": "white",
             "startlinecolor": "#2a3f5f"
            },
            "type": "carpet"
           }
          ],
          "choropleth": [
           {
            "colorbar": {
             "outlinewidth": 0,
             "ticks": ""
            },
            "type": "choropleth"
           }
          ],
          "contour": [
           {
            "colorbar": {
             "outlinewidth": 0,
             "ticks": ""
            },
            "colorscale": [
             [
              0,
              "#0d0887"
             ],
             [
              0.1111111111111111,
              "#46039f"
             ],
             [
              0.2222222222222222,
              "#7201a8"
             ],
             [
              0.3333333333333333,
              "#9c179e"
             ],
             [
              0.4444444444444444,
              "#bd3786"
             ],
             [
              0.5555555555555556,
              "#d8576b"
             ],
             [
              0.6666666666666666,
              "#ed7953"
             ],
             [
              0.7777777777777778,
              "#fb9f3a"
             ],
             [
              0.8888888888888888,
              "#fdca26"
             ],
             [
              1,
              "#f0f921"
             ]
            ],
            "type": "contour"
           }
          ],
          "contourcarpet": [
           {
            "colorbar": {
             "outlinewidth": 0,
             "ticks": ""
            },
            "type": "contourcarpet"
           }
          ],
          "heatmap": [
           {
            "colorbar": {
             "outlinewidth": 0,
             "ticks": ""
            },
            "colorscale": [
             [
              0,
              "#0d0887"
             ],
             [
              0.1111111111111111,
              "#46039f"
             ],
             [
              0.2222222222222222,
              "#7201a8"
             ],
             [
              0.3333333333333333,
              "#9c179e"
             ],
             [
              0.4444444444444444,
              "#bd3786"
             ],
             [
              0.5555555555555556,
              "#d8576b"
             ],
             [
              0.6666666666666666,
              "#ed7953"
             ],
             [
              0.7777777777777778,
              "#fb9f3a"
             ],
             [
              0.8888888888888888,
              "#fdca26"
             ],
             [
              1,
              "#f0f921"
             ]
            ],
            "type": "heatmap"
           }
          ],
          "heatmapgl": [
           {
            "colorbar": {
             "outlinewidth": 0,
             "ticks": ""
            },
            "colorscale": [
             [
              0,
              "#0d0887"
             ],
             [
              0.1111111111111111,
              "#46039f"
             ],
             [
              0.2222222222222222,
              "#7201a8"
             ],
             [
              0.3333333333333333,
              "#9c179e"
             ],
             [
              0.4444444444444444,
              "#bd3786"
             ],
             [
              0.5555555555555556,
              "#d8576b"
             ],
             [
              0.6666666666666666,
              "#ed7953"
             ],
             [
              0.7777777777777778,
              "#fb9f3a"
             ],
             [
              0.8888888888888888,
              "#fdca26"
             ],
             [
              1,
              "#f0f921"
             ]
            ],
            "type": "heatmapgl"
           }
          ],
          "histogram": [
           {
            "marker": {
             "pattern": {
              "fillmode": "overlay",
              "size": 10,
              "solidity": 0.2
             }
            },
            "type": "histogram"
           }
          ],
          "histogram2d": [
           {
            "colorbar": {
             "outlinewidth": 0,
             "ticks": ""
            },
            "colorscale": [
             [
              0,
              "#0d0887"
             ],
             [
              0.1111111111111111,
              "#46039f"
             ],
             [
              0.2222222222222222,
              "#7201a8"
             ],
             [
              0.3333333333333333,
              "#9c179e"
             ],
             [
              0.4444444444444444,
              "#bd3786"
             ],
             [
              0.5555555555555556,
              "#d8576b"
             ],
             [
              0.6666666666666666,
              "#ed7953"
             ],
             [
              0.7777777777777778,
              "#fb9f3a"
             ],
             [
              0.8888888888888888,
              "#fdca26"
             ],
             [
              1,
              "#f0f921"
             ]
            ],
            "type": "histogram2d"
           }
          ],
          "histogram2dcontour": [
           {
            "colorbar": {
             "outlinewidth": 0,
             "ticks": ""
            },
            "colorscale": [
             [
              0,
              "#0d0887"
             ],
             [
              0.1111111111111111,
              "#46039f"
             ],
             [
              0.2222222222222222,
              "#7201a8"
             ],
             [
              0.3333333333333333,
              "#9c179e"
             ],
             [
              0.4444444444444444,
              "#bd3786"
             ],
             [
              0.5555555555555556,
              "#d8576b"
             ],
             [
              0.6666666666666666,
              "#ed7953"
             ],
             [
              0.7777777777777778,
              "#fb9f3a"
             ],
             [
              0.8888888888888888,
              "#fdca26"
             ],
             [
              1,
              "#f0f921"
             ]
            ],
            "type": "histogram2dcontour"
           }
          ],
          "mesh3d": [
           {
            "colorbar": {
             "outlinewidth": 0,
             "ticks": ""
            },
            "type": "mesh3d"
           }
          ],
          "parcoords": [
           {
            "line": {
             "colorbar": {
              "outlinewidth": 0,
              "ticks": ""
             }
            },
            "type": "parcoords"
           }
          ],
          "pie": [
           {
            "automargin": true,
            "type": "pie"
           }
          ],
          "scatter": [
           {
            "fillpattern": {
             "fillmode": "overlay",
             "size": 10,
             "solidity": 0.2
            },
            "type": "scatter"
           }
          ],
          "scatter3d": [
           {
            "line": {
             "colorbar": {
              "outlinewidth": 0,
              "ticks": ""
             }
            },
            "marker": {
             "colorbar": {
              "outlinewidth": 0,
              "ticks": ""
             }
            },
            "type": "scatter3d"
           }
          ],
          "scattercarpet": [
           {
            "marker": {
             "colorbar": {
              "outlinewidth": 0,
              "ticks": ""
             }
            },
            "type": "scattercarpet"
           }
          ],
          "scattergeo": [
           {
            "marker": {
             "colorbar": {
              "outlinewidth": 0,
              "ticks": ""
             }
            },
            "type": "scattergeo"
           }
          ],
          "scattergl": [
           {
            "marker": {
             "colorbar": {
              "outlinewidth": 0,
              "ticks": ""
             }
            },
            "type": "scattergl"
           }
          ],
          "scattermapbox": [
           {
            "marker": {
             "colorbar": {
              "outlinewidth": 0,
              "ticks": ""
             }
            },
            "type": "scattermapbox"
           }
          ],
          "scatterpolar": [
           {
            "marker": {
             "colorbar": {
              "outlinewidth": 0,
              "ticks": ""
             }
            },
            "type": "scatterpolar"
           }
          ],
          "scatterpolargl": [
           {
            "marker": {
             "colorbar": {
              "outlinewidth": 0,
              "ticks": ""
             }
            },
            "type": "scatterpolargl"
           }
          ],
          "scatterternary": [
           {
            "marker": {
             "colorbar": {
              "outlinewidth": 0,
              "ticks": ""
             }
            },
            "type": "scatterternary"
           }
          ],
          "surface": [
           {
            "colorbar": {
             "outlinewidth": 0,
             "ticks": ""
            },
            "colorscale": [
             [
              0,
              "#0d0887"
             ],
             [
              0.1111111111111111,
              "#46039f"
             ],
             [
              0.2222222222222222,
              "#7201a8"
             ],
             [
              0.3333333333333333,
              "#9c179e"
             ],
             [
              0.4444444444444444,
              "#bd3786"
             ],
             [
              0.5555555555555556,
              "#d8576b"
             ],
             [
              0.6666666666666666,
              "#ed7953"
             ],
             [
              0.7777777777777778,
              "#fb9f3a"
             ],
             [
              0.8888888888888888,
              "#fdca26"
             ],
             [
              1,
              "#f0f921"
             ]
            ],
            "type": "surface"
           }
          ],
          "table": [
           {
            "cells": {
             "fill": {
              "color": "#EBF0F8"
             },
             "line": {
              "color": "white"
             }
            },
            "header": {
             "fill": {
              "color": "#C8D4E3"
             },
             "line": {
              "color": "white"
             }
            },
            "type": "table"
           }
          ]
         },
         "layout": {
          "annotationdefaults": {
           "arrowcolor": "#2a3f5f",
           "arrowhead": 0,
           "arrowwidth": 1
          },
          "autotypenumbers": "strict",
          "coloraxis": {
           "colorbar": {
            "outlinewidth": 0,
            "ticks": ""
           }
          },
          "colorscale": {
           "diverging": [
            [
             0,
             "#8e0152"
            ],
            [
             0.1,
             "#c51b7d"
            ],
            [
             0.2,
             "#de77ae"
            ],
            [
             0.3,
             "#f1b6da"
            ],
            [
             0.4,
             "#fde0ef"
            ],
            [
             0.5,
             "#f7f7f7"
            ],
            [
             0.6,
             "#e6f5d0"
            ],
            [
             0.7,
             "#b8e186"
            ],
            [
             0.8,
             "#7fbc41"
            ],
            [
             0.9,
             "#4d9221"
            ],
            [
             1,
             "#276419"
            ]
           ],
           "sequential": [
            [
             0,
             "#0d0887"
            ],
            [
             0.1111111111111111,
             "#46039f"
            ],
            [
             0.2222222222222222,
             "#7201a8"
            ],
            [
             0.3333333333333333,
             "#9c179e"
            ],
            [
             0.4444444444444444,
             "#bd3786"
            ],
            [
             0.5555555555555556,
             "#d8576b"
            ],
            [
             0.6666666666666666,
             "#ed7953"
            ],
            [
             0.7777777777777778,
             "#fb9f3a"
            ],
            [
             0.8888888888888888,
             "#fdca26"
            ],
            [
             1,
             "#f0f921"
            ]
           ],
           "sequentialminus": [
            [
             0,
             "#0d0887"
            ],
            [
             0.1111111111111111,
             "#46039f"
            ],
            [
             0.2222222222222222,
             "#7201a8"
            ],
            [
             0.3333333333333333,
             "#9c179e"
            ],
            [
             0.4444444444444444,
             "#bd3786"
            ],
            [
             0.5555555555555556,
             "#d8576b"
            ],
            [
             0.6666666666666666,
             "#ed7953"
            ],
            [
             0.7777777777777778,
             "#fb9f3a"
            ],
            [
             0.8888888888888888,
             "#fdca26"
            ],
            [
             1,
             "#f0f921"
            ]
           ]
          },
          "colorway": [
           "#636efa",
           "#EF553B",
           "#00cc96",
           "#ab63fa",
           "#FFA15A",
           "#19d3f3",
           "#FF6692",
           "#B6E880",
           "#FF97FF",
           "#FECB52"
          ],
          "font": {
           "color": "#2a3f5f"
          },
          "geo": {
           "bgcolor": "white",
           "lakecolor": "white",
           "landcolor": "#E5ECF6",
           "showlakes": true,
           "showland": true,
           "subunitcolor": "white"
          },
          "hoverlabel": {
           "align": "left"
          },
          "hovermode": "closest",
          "mapbox": {
           "style": "light"
          },
          "paper_bgcolor": "white",
          "plot_bgcolor": "#E5ECF6",
          "polar": {
           "angularaxis": {
            "gridcolor": "white",
            "linecolor": "white",
            "ticks": ""
           },
           "bgcolor": "#E5ECF6",
           "radialaxis": {
            "gridcolor": "white",
            "linecolor": "white",
            "ticks": ""
           }
          },
          "scene": {
           "xaxis": {
            "backgroundcolor": "#E5ECF6",
            "gridcolor": "white",
            "gridwidth": 2,
            "linecolor": "white",
            "showbackground": true,
            "ticks": "",
            "zerolinecolor": "white"
           },
           "yaxis": {
            "backgroundcolor": "#E5ECF6",
            "gridcolor": "white",
            "gridwidth": 2,
            "linecolor": "white",
            "showbackground": true,
            "ticks": "",
            "zerolinecolor": "white"
           },
           "zaxis": {
            "backgroundcolor": "#E5ECF6",
            "gridcolor": "white",
            "gridwidth": 2,
            "linecolor": "white",
            "showbackground": true,
            "ticks": "",
            "zerolinecolor": "white"
           }
          },
          "shapedefaults": {
           "line": {
            "color": "#2a3f5f"
           }
          },
          "ternary": {
           "aaxis": {
            "gridcolor": "white",
            "linecolor": "white",
            "ticks": ""
           },
           "baxis": {
            "gridcolor": "white",
            "linecolor": "white",
            "ticks": ""
           },
           "bgcolor": "#E5ECF6",
           "caxis": {
            "gridcolor": "white",
            "linecolor": "white",
            "ticks": ""
           }
          },
          "title": {
           "x": 0.05
          },
          "xaxis": {
           "automargin": true,
           "gridcolor": "white",
           "linecolor": "white",
           "ticks": "",
           "title": {
            "standoff": 15
           },
           "zerolinecolor": "white",
           "zerolinewidth": 2
          },
          "yaxis": {
           "automargin": true,
           "gridcolor": "white",
           "linecolor": "white",
           "ticks": "",
           "title": {
            "standoff": 15
           },
           "zerolinecolor": "white",
           "zerolinewidth": 2
          }
         }
        },
        "title": {
         "text": "BER après attaque en fonction de No"
        },
        "width": 700,
        "xaxis": {
         "title": {
          "text": "No (Nombre d'observations)"
         }
        },
        "yaxis": {
         "title": {
          "text": "BER"
         }
        }
       }
      }
     },
     "metadata": {},
     "output_type": "display_data"
    },
    {
     "data": {
      "application/vnd.plotly.v1+json": {
       "config": {
        "plotlyServerURL": "https://plot.ly"
       },
       "data": [
        {
         "mode": "lines+markers",
         "name": "Corr après attaque",
         "type": "scatter",
         "x": [
          100,
          200,
          300,
          400,
          500,
          600,
          700,
          800,
          900,
          1000,
          1100,
          1200,
          1300,
          1400,
          1500,
          1600,
          1700,
          1800,
          1900,
          2000,
          2100,
          2200,
          2300,
          2400,
          2500,
          2600,
          2700,
          2800,
          2900,
          3000,
          3100,
          3200,
          3300,
          3400,
          3500,
          3600,
          3700,
          3800,
          3900,
          4000,
          4100,
          4200,
          4300,
          4400,
          4500,
          4600,
          4700,
          4800,
          4900,
          5000,
          5100,
          5200,
          5300,
          5400,
          5500,
          5600,
          5700,
          5800,
          5900,
          6000,
          6100,
          6200,
          6300,
          6400,
          6500,
          6600,
          6700,
          6800,
          6900,
          7000,
          7100,
          7200,
          7300,
          7400,
          7500,
          7600,
          7700,
          7800,
          7900,
          8000,
          8100,
          8200,
          8300,
          8400,
          8500,
          8600,
          8700,
          8800,
          8900,
          9000,
          9100,
          9200,
          9300,
          9400,
          9500,
          9600,
          9700,
          9800,
          9900,
          10000,
          10100,
          10200,
          10300,
          10400,
          10500,
          10600,
          10700,
          10800,
          10900,
          11000,
          11100,
          11200,
          11300,
          11400,
          11500,
          11600,
          11700,
          11800,
          11900,
          12000,
          12100,
          12200,
          12300,
          12400,
          12500,
          12600,
          12700,
          12800,
          12900,
          13000,
          13100,
          13200,
          13300,
          13400,
          13500,
          13600,
          13700,
          13800,
          13900,
          14000,
          14100,
          14200,
          14300,
          14400,
          14500,
          14600,
          14700,
          14800,
          14900,
          15000,
          15100,
          15200,
          15300,
          15400,
          15500,
          15600,
          15700,
          15800,
          15900,
          16000,
          16100,
          16200,
          16300,
          16400,
          16500,
          16600,
          16700,
          16800,
          16900,
          17000,
          17100,
          17200,
          17300,
          17400,
          17500,
          17600,
          17700,
          17800,
          17900,
          18000,
          18100,
          18200,
          18300,
          18400,
          18500,
          18600,
          18700,
          18800,
          18900,
          19000,
          19100,
          19200,
          19300,
          19400,
          19500,
          19600,
          19700,
          19800,
          19900
         ],
         "y": [
          0.8419610507823997,
          0.9246553066316551,
          0.9528016179442949,
          0.959727504895258,
          0.9769223053598173,
          0.9772538139400996,
          0.9809452848064654,
          0.9802431801410202,
          0.9820974472421824,
          0.9851309223447521,
          0.9863820086333499,
          0.9842213284461464,
          0.9890850573905771,
          0.9887921623010759,
          0.9894645098192282,
          0.9885222542892755,
          0.9915428898466293,
          0.9912660287328137,
          0.9909297218222033,
          0.9926515958422383,
          0.9917069580693147,
          0.9930722705989945,
          0.9932025891708969,
          0.9945491847973308,
          0.9941972853492785,
          0.995088308726204,
          0.9943424863574126,
          0.9950490110253943,
          0.9952112171371464,
          0.9948612784011457,
          0.995925937172585,
          0.9957014996461562,
          0.9959275875073116,
          0.9957887282893617,
          0.995894655777436,
          0.995486594718176,
          0.9963095160927014,
          0.9959509626504733,
          0.9956743319022738,
          0.9967458677565771,
          0.9967276712410896,
          0.9954014397460869,
          0.9964095732667796,
          0.9965642893335664,
          0.9967216382737912,
          0.9971368700760668,
          0.996305247383542,
          0.9967683880280288,
          0.9964521142893759,
          0.9970607143339995,
          0.9968493524466056,
          0.9963379008630936,
          0.9962154239047635,
          0.9964243428386919,
          0.9971248426319723,
          0.996962924908011,
          0.9973466818681183,
          0.9965482877128345,
          0.9971696195573739,
          0.9970204451314679,
          0.9981094709706975,
          0.9976675560735183,
          0.998053755961176,
          0.9978482368980349,
          0.9976531413922292,
          0.997738043288502,
          0.9982805800062278,
          0.9979799877993223,
          0.9976860052923358,
          0.9978786601036403,
          0.9977698154248986,
          0.9980850748652026,
          0.9969916656242961,
          0.99776200730011,
          0.9981579864791083,
          0.9977093169311712,
          0.9979766414708854,
          0.9980515244121381,
          0.9979745958226975,
          0.9981287191805222,
          0.9983541278591785,
          0.9977834761262948,
          0.9978885786359654,
          0.9981309516137992,
          0.9986469160497099,
          0.9984764478997581,
          0.9986530309221212,
          0.9979158703233901,
          0.9980594110109748,
          0.9985881617067904,
          0.9979588096808177,
          0.9981992715209597,
          0.9987164645617237,
          0.9983715799230533,
          0.9977345897858555,
          0.9983153965137405,
          0.9984598631991323,
          0.998893389672762,
          0.9982921531189237,
          0.9985655554555743,
          0.9985346107352207,
          0.9985390356433982,
          0.9987594289757328,
          0.9987639119704348,
          0.998692527119634,
          0.9981397305737191,
          0.998234923524568,
          0.9985160381902614,
          0.9987281210713934,
          0.9985992463682909,
          0.9988398772675753,
          0.998580415196444,
          0.9986490139807163,
          0.9985885842013306,
          0.998636749817676,
          0.998836217609645,
          0.9986980341202427,
          0.9982343860837575,
          0.9989988055422803,
          0.9985382485225578,
          0.9985103513682182,
          0.9988377794681726,
          0.9985129945320753,
          0.9987640430304571,
          0.9989508823446946,
          0.9988623398167891,
          0.998787001007833,
          0.9986277787010986,
          0.9989317590857479,
          0.9988160828985821,
          0.9987990778349614,
          0.9990636989290379,
          0.9988911598274122,
          0.9988362717781809,
          0.9985588052236383,
          0.998816111249913,
          0.9989044031859154,
          0.9990269048358166,
          0.9989000718829951,
          0.9991146998593858,
          0.9989407236834132,
          0.9988745709613427,
          0.9988442045001118,
          0.9989858761676128,
          0.9987692202956804,
          0.9990355558216304,
          0.9990568403528607,
          0.9989281995954489,
          0.9989009698260257,
          0.9988617319527759,
          0.9991695021237287,
          0.999048802124195,
          0.9989293817044496,
          0.9991243352758947,
          0.9990512932777925,
          0.9991195264541731,
          0.9990930021579623,
          0.9990167485183473,
          0.9989790524801034,
          0.9990616551946119,
          0.9990737296610104,
          0.9989530918652838,
          0.9991470675549395,
          0.9989610148973697,
          0.999228709019729,
          0.9992661088631364,
          0.9990626463583967,
          0.9990334646257051,
          0.9991266898897341,
          0.9989772916284433,
          0.9990178528911529,
          0.9992740098584084,
          0.9993271163517459,
          0.9990306605461805,
          0.9991838705781427,
          0.9992266361454093,
          0.999069252171217,
          0.9991548099038485,
          0.9992643121273911,
          0.9992082976754134,
          0.9990644882100075,
          0.9989134308300909,
          0.9993248073908956,
          0.9990640130501613,
          0.9991991649437608,
          0.9992092714451485,
          0.9989790708858989,
          0.9991543132445674,
          0.9991163250961947,
          0.999074608237114,
          0.999173116219916,
          0.9991258995883255,
          0.9991698247760187,
          0.9992551294661958,
          0.9992982705826456,
          0.9992279418399282,
          0.9993024740550401,
          0.9991418192848827,
          0.9991714246344999
         ]
        }
       ],
       "layout": {
        "annotations": [
         {
          "showarrow": false,
          "text": "Corr = 1",
          "x": 0,
          "xanchor": "left",
          "xref": "x domain",
          "y": 1,
          "yanchor": "top",
          "yref": "y"
         }
        ],
        "height": 400,
        "shapes": [
         {
          "line": {
           "color": "red",
           "dash": "dot"
          },
          "type": "line",
          "x0": 0,
          "x1": 1,
          "xref": "x domain",
          "y0": 1,
          "y1": 1,
          "yref": "y"
         }
        ],
        "template": {
         "data": {
          "bar": [
           {
            "error_x": {
             "color": "#2a3f5f"
            },
            "error_y": {
             "color": "#2a3f5f"
            },
            "marker": {
             "line": {
              "color": "#E5ECF6",
              "width": 0.5
             },
             "pattern": {
              "fillmode": "overlay",
              "size": 10,
              "solidity": 0.2
             }
            },
            "type": "bar"
           }
          ],
          "barpolar": [
           {
            "marker": {
             "line": {
              "color": "#E5ECF6",
              "width": 0.5
             },
             "pattern": {
              "fillmode": "overlay",
              "size": 10,
              "solidity": 0.2
             }
            },
            "type": "barpolar"
           }
          ],
          "carpet": [
           {
            "aaxis": {
             "endlinecolor": "#2a3f5f",
             "gridcolor": "white",
             "linecolor": "white",
             "minorgridcolor": "white",
             "startlinecolor": "#2a3f5f"
            },
            "baxis": {
             "endlinecolor": "#2a3f5f",
             "gridcolor": "white",
             "linecolor": "white",
             "minorgridcolor": "white",
             "startlinecolor": "#2a3f5f"
            },
            "type": "carpet"
           }
          ],
          "choropleth": [
           {
            "colorbar": {
             "outlinewidth": 0,
             "ticks": ""
            },
            "type": "choropleth"
           }
          ],
          "contour": [
           {
            "colorbar": {
             "outlinewidth": 0,
             "ticks": ""
            },
            "colorscale": [
             [
              0,
              "#0d0887"
             ],
             [
              0.1111111111111111,
              "#46039f"
             ],
             [
              0.2222222222222222,
              "#7201a8"
             ],
             [
              0.3333333333333333,
              "#9c179e"
             ],
             [
              0.4444444444444444,
              "#bd3786"
             ],
             [
              0.5555555555555556,
              "#d8576b"
             ],
             [
              0.6666666666666666,
              "#ed7953"
             ],
             [
              0.7777777777777778,
              "#fb9f3a"
             ],
             [
              0.8888888888888888,
              "#fdca26"
             ],
             [
              1,
              "#f0f921"
             ]
            ],
            "type": "contour"
           }
          ],
          "contourcarpet": [
           {
            "colorbar": {
             "outlinewidth": 0,
             "ticks": ""
            },
            "type": "contourcarpet"
           }
          ],
          "heatmap": [
           {
            "colorbar": {
             "outlinewidth": 0,
             "ticks": ""
            },
            "colorscale": [
             [
              0,
              "#0d0887"
             ],
             [
              0.1111111111111111,
              "#46039f"
             ],
             [
              0.2222222222222222,
              "#7201a8"
             ],
             [
              0.3333333333333333,
              "#9c179e"
             ],
             [
              0.4444444444444444,
              "#bd3786"
             ],
             [
              0.5555555555555556,
              "#d8576b"
             ],
             [
              0.6666666666666666,
              "#ed7953"
             ],
             [
              0.7777777777777778,
              "#fb9f3a"
             ],
             [
              0.8888888888888888,
              "#fdca26"
             ],
             [
              1,
              "#f0f921"
             ]
            ],
            "type": "heatmap"
           }
          ],
          "heatmapgl": [
           {
            "colorbar": {
             "outlinewidth": 0,
             "ticks": ""
            },
            "colorscale": [
             [
              0,
              "#0d0887"
             ],
             [
              0.1111111111111111,
              "#46039f"
             ],
             [
              0.2222222222222222,
              "#7201a8"
             ],
             [
              0.3333333333333333,
              "#9c179e"
             ],
             [
              0.4444444444444444,
              "#bd3786"
             ],
             [
              0.5555555555555556,
              "#d8576b"
             ],
             [
              0.6666666666666666,
              "#ed7953"
             ],
             [
              0.7777777777777778,
              "#fb9f3a"
             ],
             [
              0.8888888888888888,
              "#fdca26"
             ],
             [
              1,
              "#f0f921"
             ]
            ],
            "type": "heatmapgl"
           }
          ],
          "histogram": [
           {
            "marker": {
             "pattern": {
              "fillmode": "overlay",
              "size": 10,
              "solidity": 0.2
             }
            },
            "type": "histogram"
           }
          ],
          "histogram2d": [
           {
            "colorbar": {
             "outlinewidth": 0,
             "ticks": ""
            },
            "colorscale": [
             [
              0,
              "#0d0887"
             ],
             [
              0.1111111111111111,
              "#46039f"
             ],
             [
              0.2222222222222222,
              "#7201a8"
             ],
             [
              0.3333333333333333,
              "#9c179e"
             ],
             [
              0.4444444444444444,
              "#bd3786"
             ],
             [
              0.5555555555555556,
              "#d8576b"
             ],
             [
              0.6666666666666666,
              "#ed7953"
             ],
             [
              0.7777777777777778,
              "#fb9f3a"
             ],
             [
              0.8888888888888888,
              "#fdca26"
             ],
             [
              1,
              "#f0f921"
             ]
            ],
            "type": "histogram2d"
           }
          ],
          "histogram2dcontour": [
           {
            "colorbar": {
             "outlinewidth": 0,
             "ticks": ""
            },
            "colorscale": [
             [
              0,
              "#0d0887"
             ],
             [
              0.1111111111111111,
              "#46039f"
             ],
             [
              0.2222222222222222,
              "#7201a8"
             ],
             [
              0.3333333333333333,
              "#9c179e"
             ],
             [
              0.4444444444444444,
              "#bd3786"
             ],
             [
              0.5555555555555556,
              "#d8576b"
             ],
             [
              0.6666666666666666,
              "#ed7953"
             ],
             [
              0.7777777777777778,
              "#fb9f3a"
             ],
             [
              0.8888888888888888,
              "#fdca26"
             ],
             [
              1,
              "#f0f921"
             ]
            ],
            "type": "histogram2dcontour"
           }
          ],
          "mesh3d": [
           {
            "colorbar": {
             "outlinewidth": 0,
             "ticks": ""
            },
            "type": "mesh3d"
           }
          ],
          "parcoords": [
           {
            "line": {
             "colorbar": {
              "outlinewidth": 0,
              "ticks": ""
             }
            },
            "type": "parcoords"
           }
          ],
          "pie": [
           {
            "automargin": true,
            "type": "pie"
           }
          ],
          "scatter": [
           {
            "fillpattern": {
             "fillmode": "overlay",
             "size": 10,
             "solidity": 0.2
            },
            "type": "scatter"
           }
          ],
          "scatter3d": [
           {
            "line": {
             "colorbar": {
              "outlinewidth": 0,
              "ticks": ""
             }
            },
            "marker": {
             "colorbar": {
              "outlinewidth": 0,
              "ticks": ""
             }
            },
            "type": "scatter3d"
           }
          ],
          "scattercarpet": [
           {
            "marker": {
             "colorbar": {
              "outlinewidth": 0,
              "ticks": ""
             }
            },
            "type": "scattercarpet"
           }
          ],
          "scattergeo": [
           {
            "marker": {
             "colorbar": {
              "outlinewidth": 0,
              "ticks": ""
             }
            },
            "type": "scattergeo"
           }
          ],
          "scattergl": [
           {
            "marker": {
             "colorbar": {
              "outlinewidth": 0,
              "ticks": ""
             }
            },
            "type": "scattergl"
           }
          ],
          "scattermapbox": [
           {
            "marker": {
             "colorbar": {
              "outlinewidth": 0,
              "ticks": ""
             }
            },
            "type": "scattermapbox"
           }
          ],
          "scatterpolar": [
           {
            "marker": {
             "colorbar": {
              "outlinewidth": 0,
              "ticks": ""
             }
            },
            "type": "scatterpolar"
           }
          ],
          "scatterpolargl": [
           {
            "marker": {
             "colorbar": {
              "outlinewidth": 0,
              "ticks": ""
             }
            },
            "type": "scatterpolargl"
           }
          ],
          "scatterternary": [
           {
            "marker": {
             "colorbar": {
              "outlinewidth": 0,
              "ticks": ""
             }
            },
            "type": "scatterternary"
           }
          ],
          "surface": [
           {
            "colorbar": {
             "outlinewidth": 0,
             "ticks": ""
            },
            "colorscale": [
             [
              0,
              "#0d0887"
             ],
             [
              0.1111111111111111,
              "#46039f"
             ],
             [
              0.2222222222222222,
              "#7201a8"
             ],
             [
              0.3333333333333333,
              "#9c179e"
             ],
             [
              0.4444444444444444,
              "#bd3786"
             ],
             [
              0.5555555555555556,
              "#d8576b"
             ],
             [
              0.6666666666666666,
              "#ed7953"
             ],
             [
              0.7777777777777778,
              "#fb9f3a"
             ],
             [
              0.8888888888888888,
              "#fdca26"
             ],
             [
              1,
              "#f0f921"
             ]
            ],
            "type": "surface"
           }
          ],
          "table": [
           {
            "cells": {
             "fill": {
              "color": "#EBF0F8"
             },
             "line": {
              "color": "white"
             }
            },
            "header": {
             "fill": {
              "color": "#C8D4E3"
             },
             "line": {
              "color": "white"
             }
            },
            "type": "table"
           }
          ]
         },
         "layout": {
          "annotationdefaults": {
           "arrowcolor": "#2a3f5f",
           "arrowhead": 0,
           "arrowwidth": 1
          },
          "autotypenumbers": "strict",
          "coloraxis": {
           "colorbar": {
            "outlinewidth": 0,
            "ticks": ""
           }
          },
          "colorscale": {
           "diverging": [
            [
             0,
             "#8e0152"
            ],
            [
             0.1,
             "#c51b7d"
            ],
            [
             0.2,
             "#de77ae"
            ],
            [
             0.3,
             "#f1b6da"
            ],
            [
             0.4,
             "#fde0ef"
            ],
            [
             0.5,
             "#f7f7f7"
            ],
            [
             0.6,
             "#e6f5d0"
            ],
            [
             0.7,
             "#b8e186"
            ],
            [
             0.8,
             "#7fbc41"
            ],
            [
             0.9,
             "#4d9221"
            ],
            [
             1,
             "#276419"
            ]
           ],
           "sequential": [
            [
             0,
             "#0d0887"
            ],
            [
             0.1111111111111111,
             "#46039f"
            ],
            [
             0.2222222222222222,
             "#7201a8"
            ],
            [
             0.3333333333333333,
             "#9c179e"
            ],
            [
             0.4444444444444444,
             "#bd3786"
            ],
            [
             0.5555555555555556,
             "#d8576b"
            ],
            [
             0.6666666666666666,
             "#ed7953"
            ],
            [
             0.7777777777777778,
             "#fb9f3a"
            ],
            [
             0.8888888888888888,
             "#fdca26"
            ],
            [
             1,
             "#f0f921"
            ]
           ],
           "sequentialminus": [
            [
             0,
             "#0d0887"
            ],
            [
             0.1111111111111111,
             "#46039f"
            ],
            [
             0.2222222222222222,
             "#7201a8"
            ],
            [
             0.3333333333333333,
             "#9c179e"
            ],
            [
             0.4444444444444444,
             "#bd3786"
            ],
            [
             0.5555555555555556,
             "#d8576b"
            ],
            [
             0.6666666666666666,
             "#ed7953"
            ],
            [
             0.7777777777777778,
             "#fb9f3a"
            ],
            [
             0.8888888888888888,
             "#fdca26"
            ],
            [
             1,
             "#f0f921"
            ]
           ]
          },
          "colorway": [
           "#636efa",
           "#EF553B",
           "#00cc96",
           "#ab63fa",
           "#FFA15A",
           "#19d3f3",
           "#FF6692",
           "#B6E880",
           "#FF97FF",
           "#FECB52"
          ],
          "font": {
           "color": "#2a3f5f"
          },
          "geo": {
           "bgcolor": "white",
           "lakecolor": "white",
           "landcolor": "#E5ECF6",
           "showlakes": true,
           "showland": true,
           "subunitcolor": "white"
          },
          "hoverlabel": {
           "align": "left"
          },
          "hovermode": "closest",
          "mapbox": {
           "style": "light"
          },
          "paper_bgcolor": "white",
          "plot_bgcolor": "#E5ECF6",
          "polar": {
           "angularaxis": {
            "gridcolor": "white",
            "linecolor": "white",
            "ticks": ""
           },
           "bgcolor": "#E5ECF6",
           "radialaxis": {
            "gridcolor": "white",
            "linecolor": "white",
            "ticks": ""
           }
          },
          "scene": {
           "xaxis": {
            "backgroundcolor": "#E5ECF6",
            "gridcolor": "white",
            "gridwidth": 2,
            "linecolor": "white",
            "showbackground": true,
            "ticks": "",
            "zerolinecolor": "white"
           },
           "yaxis": {
            "backgroundcolor": "#E5ECF6",
            "gridcolor": "white",
            "gridwidth": 2,
            "linecolor": "white",
            "showbackground": true,
            "ticks": "",
            "zerolinecolor": "white"
           },
           "zaxis": {
            "backgroundcolor": "#E5ECF6",
            "gridcolor": "white",
            "gridwidth": 2,
            "linecolor": "white",
            "showbackground": true,
            "ticks": "",
            "zerolinecolor": "white"
           }
          },
          "shapedefaults": {
           "line": {
            "color": "#2a3f5f"
           }
          },
          "ternary": {
           "aaxis": {
            "gridcolor": "white",
            "linecolor": "white",
            "ticks": ""
           },
           "baxis": {
            "gridcolor": "white",
            "linecolor": "white",
            "ticks": ""
           },
           "bgcolor": "#E5ECF6",
           "caxis": {
            "gridcolor": "white",
            "linecolor": "white",
            "ticks": ""
           }
          },
          "title": {
           "x": 0.05
          },
          "xaxis": {
           "automargin": true,
           "gridcolor": "white",
           "linecolor": "white",
           "ticks": "",
           "title": {
            "standoff": 15
           },
           "zerolinecolor": "white",
           "zerolinewidth": 2
          },
          "yaxis": {
           "automargin": true,
           "gridcolor": "white",
           "linecolor": "white",
           "ticks": "",
           "title": {
            "standoff": 15
           },
           "zerolinecolor": "white",
           "zerolinewidth": 2
          }
         }
        },
        "title": {
         "text": "Corr après attaque en fonction de No"
        },
        "width": 700,
        "xaxis": {
         "title": {
          "text": "No (Nombre d'observations)"
         }
        },
        "yaxis": {
         "title": {
          "text": "Cor"
         }
        }
       }
      }
     },
     "metadata": {},
     "output_type": "display_data"
    }
   ],
   "source": [
    "# 2dn scenario, scenario with KMA \n",
    "print('2nd Scenario')\n",
    "\n",
    "def do_process(alpha,No):\n",
    "    X = np.random.randn(Nv,Ni) # Generate Ni random host vectors\n",
    "    k = np.random.randn(Nv,1) # Generate de Watermark\n",
    "    k = k / np.sqrt(np.dot(k.T,k)) # Normalize the watermark\n",
    "\n",
    "    m1 = np.sign(np.random.randn(Ni,1)) #Scenario with unknow messages, first bit\n",
    "    K = np.dot(k,m1.T) # Generate the matrix of watermarks (each column contains m1_i*k)\n",
    "    W = alpha*K\n",
    "    Y = X + W # perform embedding\n",
    "    Y_obs = Y[:,:No]\n",
    "    #hatk = TO DO\n",
    "    #get eigenvalues and eigenvectors\n",
    "    cov = np.dot(Y_obs,Y_obs.T)\n",
    "    eigvals, eigvecs = np.linalg.eig(cov)\n",
    "    #sort eigenvalues and eigenvectors\n",
    "    idx = eigvals.argsort()[::-1]\n",
    "    eigvals = eigvals[idx]\n",
    "    eigvecs = eigvecs[:,idx]\n",
    "    #get the first eigenvector\n",
    "    hatk=eigvecs[:,0]\n",
    "    \n",
    "    hatk = np.reshape(hatk,(Nv,1)) #You might need to reshape the estimated key\n",
    "\n",
    "    corrN = norm_corr(hatk,k)# To ease the writing we use the norm_corr function\n",
    "\n",
    "    #print('Normalised correlation between the true key and the estimated key')\n",
    "    #print(corrN)\n",
    "\n",
    "    #m_est = TO DO\n",
    "    #YA = TO DO \n",
    "    m_est = np.sign(np.dot(Y.T, hatk)) \n",
    "    YA = Y - alpha * np.dot(hatk, m_est.T)  # Appliquer l'attaque\n",
    "\n",
    "    #print('bit error rate after security attack')\n",
    "    #print(ber(YA,m1,k))\n",
    "    #print('\\n\\n')\n",
    "    return ber(YA, m1, k), corrN[0][0]\n",
    "\n",
    "\n",
    "alpha = 2   \n",
    "Ni = 20000 \n",
    "# Réinitialisation des vecteurs pour les plots\n",
    "ber_values = []\n",
    "corr_values = []\n",
    "No_values = range(100,Ni,100) \n",
    "\n",
    "# One example, can be used to draw plots\n",
    "for No in No_values:\n",
    "    ber_val, corr_val = do_process(alpha, No)\n",
    "    ber_values.append(ber_val)\n",
    "    corr_values.append(corr_val)\n",
    "\n",
    "\n",
    "# Graphique du BER\n",
    "fig_ber = go.Figure()\n",
    "fig_ber.add_trace(go.Scatter(x=list(No_values), y=ber_values, mode='lines+markers', name='BER après attaque'))\n",
    "fig_ber.add_hline(y=0.5, line_dash=\"dot\", line_color=\"red\", annotation_text=\"BER 50%\", annotation_position=\"bottom left\")\n",
    "fig_ber.update_layout(\n",
    "    title=\"BER après attaque en fonction de No\",\n",
    "    xaxis_title=\"No (Nombre d'observations)\",\n",
    "    yaxis_title=\"BER\",\n",
    "    width=700,\n",
    "    height=400\n",
    ")\n",
    "fig_ber.show()\n",
    "\n",
    "# Graphique du Corr\n",
    "fig_corr = go.Figure()\n",
    "fig_corr.add_trace(go.Scatter(x=list(No_values), y=corr_values, mode='lines+markers', name='Corr après attaque'))\n",
    "fig_corr.add_hline(y=1, line_dash=\"dot\", line_color=\"red\", annotation_text=\"Corr = 1\", annotation_position=\"bottom left\")\n",
    "fig_corr.update_layout(\n",
    "    title=\"Corr après attaque en fonction de No\",\n",
    "    xaxis_title=\"No (Nombre d'observations)\",\n",
    "    yaxis_title=\"Cor\",\n",
    "    width=700,\n",
    "    height=400\n",
    ")\n",
    "fig_corr.show()"
   ]
  },
  {
   "cell_type": "code",
   "execution_count": 6,
   "metadata": {},
   "outputs": [
    {
     "data": {
      "application/vnd.plotly.v1+json": {
       "config": {
        "plotlyServerURL": "https://plot.ly"
       },
       "data": [
        {
         "mode": "lines+markers",
         "name": "alpha = 0.2",
         "type": "scatter",
         "x": [
          100,
          200,
          300,
          400,
          500,
          600,
          700,
          800,
          900,
          1000,
          1100,
          1200,
          1300,
          1400,
          1500,
          1600,
          1700,
          1800,
          1900,
          2000,
          2100,
          2200,
          2300,
          2400,
          2500,
          2600,
          2700,
          2800,
          2900,
          3000,
          3100,
          3200,
          3300,
          3400,
          3500,
          3600,
          3700,
          3800,
          3900,
          4000,
          4100,
          4200,
          4300,
          4400,
          4500,
          4600,
          4700,
          4800,
          4900,
          5000,
          5100,
          5200,
          5300,
          5400,
          5500,
          5600,
          5700,
          5800,
          5900,
          6000,
          6100,
          6200,
          6300,
          6400,
          6500,
          6600,
          6700,
          6800,
          6900,
          7000,
          7100,
          7200,
          7300,
          7400,
          7500,
          7600,
          7700,
          7800,
          7900,
          8000,
          8100,
          8200,
          8300,
          8400,
          8500,
          8600,
          8700,
          8800,
          8900,
          9000,
          9100,
          9200,
          9300,
          9400,
          9500,
          9600,
          9700,
          9800,
          9900,
          10000,
          10100,
          10200,
          10300,
          10400,
          10500,
          10600,
          10700,
          10800,
          10900,
          11000,
          11100,
          11200,
          11300,
          11400,
          11500,
          11600,
          11700,
          11800,
          11900,
          12000,
          12100,
          12200,
          12300,
          12400,
          12500,
          12600,
          12700,
          12800,
          12900,
          13000,
          13100,
          13200,
          13300,
          13400,
          13500,
          13600,
          13700,
          13800,
          13900,
          14000,
          14100,
          14200,
          14300,
          14400,
          14500,
          14600,
          14700,
          14800,
          14900,
          15000,
          15100,
          15200,
          15300,
          15400,
          15500,
          15600,
          15700,
          15800,
          15900,
          16000,
          16100,
          16200,
          16300,
          16400,
          16500,
          16600,
          16700,
          16800,
          16900,
          17000,
          17100,
          17200,
          17300,
          17400,
          17500,
          17600,
          17700,
          17800,
          17900,
          18000,
          18100,
          18200,
          18300,
          18400,
          18500,
          18600,
          18700,
          18800,
          18900,
          19000,
          19100,
          19200,
          19300,
          19400,
          19500,
          19600,
          19700,
          19800,
          19900
         ],
         "y": [
          0.42115,
          0.4223,
          0.41785,
          0.41605,
          0.4195,
          0.42625,
          0.4177,
          0.42,
          0.4183,
          0.4212,
          0.4179,
          0.41615,
          0.41605,
          0.42335,
          0.4294,
          0.42265,
          0.42275,
          0.4194,
          0.415,
          0.41835,
          0.42225,
          0.41765,
          0.4139,
          0.4283,
          0.4194,
          0.41735,
          0.42385,
          0.41705,
          0.4248,
          0.4217,
          0.41585,
          0.42135,
          0.4215,
          0.41935,
          0.42525,
          0.4152,
          0.42715,
          0.4219,
          0.4234,
          0.4235,
          0.4211,
          0.42405,
          0.4222,
          0.4214,
          0.4201,
          0.41365,
          0.425,
          0.42565,
          0.4139,
          0.41535,
          0.42045,
          0.4185,
          0.41825,
          0.41645,
          0.4226,
          0.4212,
          0.41665,
          0.42015,
          0.4206,
          0.4236,
          0.4196,
          0.42555,
          0.4202,
          0.4252,
          0.42165,
          0.4254,
          0.4233,
          0.4161,
          0.42255,
          0.4151,
          0.42435,
          0.4152,
          0.42385,
          0.4238,
          0.42195,
          0.4221,
          0.4272,
          0.42375,
          0.4172,
          0.42095,
          0.41825,
          0.4212,
          0.42,
          0.4237,
          0.42535,
          0.4212,
          0.4288,
          0.42905,
          0.42845,
          0.42315,
          0.42025,
          0.41925,
          0.4222,
          0.42695,
          0.4202,
          0.42165,
          0.4164,
          0.42055,
          0.41995,
          0.4184,
          0.41975,
          0.42105,
          0.4207,
          0.41305,
          0.4231,
          0.4262,
          0.41975,
          0.4203,
          0.41775,
          0.42855,
          0.42075,
          0.41945,
          0.41675,
          0.4192,
          0.4207,
          0.42365,
          0.42025,
          0.4187,
          0.42005,
          0.4228,
          0.42135,
          0.41985,
          0.4128,
          0.4185,
          0.41865,
          0.42375,
          0.4205,
          0.42105,
          0.4241,
          0.4196,
          0.42045,
          0.4256,
          0.4243,
          0.42425,
          0.4216,
          0.42265,
          0.41565,
          0.4163,
          0.4209,
          0.4195,
          0.4228,
          0.41955,
          0.41475,
          0.42135,
          0.41975,
          0.4206,
          0.42945,
          0.4213,
          0.4232,
          0.42195,
          0.41795,
          0.4222,
          0.4225,
          0.42105,
          0.42065,
          0.4137,
          0.4157,
          0.4158,
          0.4228,
          0.4179,
          0.42795,
          0.4148,
          0.42105,
          0.41795,
          0.41755,
          0.4243,
          0.4261,
          0.4204,
          0.4153,
          0.4234,
          0.4206,
          0.4251,
          0.4288,
          0.4196,
          0.41915,
          0.41225,
          0.41475,
          0.41805,
          0.4187,
          0.4207,
          0.42145,
          0.41285,
          0.42615,
          0.4198,
          0.4225,
          0.4206,
          0.4234,
          0.4142,
          0.4232,
          0.41915,
          0.4219,
          0.41995,
          0.4245,
          0.4222,
          0.4247,
          0.42095,
          0.42415,
          0.4224,
          0.4186
         ]
        },
        {
         "mode": "lines+markers",
         "name": "alpha = 0.5",
         "type": "scatter",
         "x": [
          100,
          200,
          300,
          400,
          500,
          600,
          700,
          800,
          900,
          1000,
          1100,
          1200,
          1300,
          1400,
          1500,
          1600,
          1700,
          1800,
          1900,
          2000,
          2100,
          2200,
          2300,
          2400,
          2500,
          2600,
          2700,
          2800,
          2900,
          3000,
          3100,
          3200,
          3300,
          3400,
          3500,
          3600,
          3700,
          3800,
          3900,
          4000,
          4100,
          4200,
          4300,
          4400,
          4500,
          4600,
          4700,
          4800,
          4900,
          5000,
          5100,
          5200,
          5300,
          5400,
          5500,
          5600,
          5700,
          5800,
          5900,
          6000,
          6100,
          6200,
          6300,
          6400,
          6500,
          6600,
          6700,
          6800,
          6900,
          7000,
          7100,
          7200,
          7300,
          7400,
          7500,
          7600,
          7700,
          7800,
          7900,
          8000,
          8100,
          8200,
          8300,
          8400,
          8500,
          8600,
          8700,
          8800,
          8900,
          9000,
          9100,
          9200,
          9300,
          9400,
          9500,
          9600,
          9700,
          9800,
          9900,
          10000,
          10100,
          10200,
          10300,
          10400,
          10500,
          10600,
          10700,
          10800,
          10900,
          11000,
          11100,
          11200,
          11300,
          11400,
          11500,
          11600,
          11700,
          11800,
          11900,
          12000,
          12100,
          12200,
          12300,
          12400,
          12500,
          12600,
          12700,
          12800,
          12900,
          13000,
          13100,
          13200,
          13300,
          13400,
          13500,
          13600,
          13700,
          13800,
          13900,
          14000,
          14100,
          14200,
          14300,
          14400,
          14500,
          14600,
          14700,
          14800,
          14900,
          15000,
          15100,
          15200,
          15300,
          15400,
          15500,
          15600,
          15700,
          15800,
          15900,
          16000,
          16100,
          16200,
          16300,
          16400,
          16500,
          16600,
          16700,
          16800,
          16900,
          17000,
          17100,
          17200,
          17300,
          17400,
          17500,
          17600,
          17700,
          17800,
          17900,
          18000,
          18100,
          18200,
          18300,
          18400,
          18500,
          18600,
          18700,
          18800,
          18900,
          19000,
          19100,
          19200,
          19300,
          19400,
          19500,
          19600,
          19700,
          19800,
          19900
         ],
         "y": [
          0.3049,
          0.31005,
          0.3056,
          0.3093,
          0.31065,
          0.30575,
          0.3068,
          0.30915,
          0.31115,
          0.30795,
          0.3101,
          0.3126,
          0.313,
          0.3121,
          0.3129,
          0.3068,
          0.307,
          0.31945,
          0.3086,
          0.3146,
          0.31515,
          0.31145,
          0.31525,
          0.31835,
          0.31865,
          0.3209,
          0.32035,
          0.32505,
          0.32155,
          0.32615,
          0.3154,
          0.32795,
          0.32655,
          0.31605,
          0.32285,
          0.3246,
          0.30785,
          0.3217,
          0.32155,
          0.32175,
          0.3198,
          0.3266,
          0.32505,
          0.31635,
          0.32485,
          0.3281,
          0.32475,
          0.3247,
          0.3189,
          0.32375,
          0.32815,
          0.32165,
          0.3216,
          0.32735,
          0.32505,
          0.33635,
          0.33315,
          0.3209,
          0.32695,
          0.3261,
          0.33255,
          0.3299,
          0.32945,
          0.3259,
          0.3287,
          0.3305,
          0.3275,
          0.3295,
          0.33345,
          0.3318,
          0.32795,
          0.3247,
          0.32525,
          0.3314,
          0.3257,
          0.3302,
          0.3346,
          0.32855,
          0.33055,
          0.33205,
          0.33175,
          0.32985,
          0.3362,
          0.3249,
          0.33315,
          0.3274,
          0.3297,
          0.32945,
          0.33035,
          0.33125,
          0.33385,
          0.3321,
          0.33645,
          0.32765,
          0.33245,
          0.32765,
          0.3287,
          0.3334,
          0.3316,
          0.32895,
          0.33605,
          0.33375,
          0.3386,
          0.32865,
          0.3383,
          0.3377,
          0.34155,
          0.32975,
          0.3294,
          0.3317,
          0.3411,
          0.3299,
          0.34115,
          0.3359,
          0.33595,
          0.33205,
          0.33465,
          0.3324,
          0.34155,
          0.3353,
          0.33575,
          0.3346,
          0.33385,
          0.3347,
          0.33455,
          0.33375,
          0.33665,
          0.33705,
          0.33245,
          0.3389,
          0.3319,
          0.33345,
          0.33215,
          0.33705,
          0.3323,
          0.33705,
          0.33085,
          0.33385,
          0.33395,
          0.3405,
          0.33395,
          0.3321,
          0.33395,
          0.3371,
          0.33245,
          0.33925,
          0.3422,
          0.33715,
          0.3393,
          0.3357,
          0.34205,
          0.3349,
          0.3408,
          0.34335,
          0.34125,
          0.33765,
          0.33625,
          0.3408,
          0.3395,
          0.34165,
          0.3355,
          0.342,
          0.339,
          0.33775,
          0.3339,
          0.33965,
          0.3417,
          0.3392,
          0.34065,
          0.3382,
          0.3377,
          0.3385,
          0.34055,
          0.34195,
          0.33535,
          0.33825,
          0.34285,
          0.33935,
          0.33605,
          0.33625,
          0.34365,
          0.334,
          0.3351,
          0.3389,
          0.3368,
          0.34535,
          0.3376,
          0.3347,
          0.3376,
          0.339,
          0.3368,
          0.34075,
          0.33975,
          0.336,
          0.3362,
          0.33745,
          0.33735,
          0.3465,
          0.3404
         ]
        },
        {
         "mode": "lines+markers",
         "name": "alpha = 1",
         "type": "scatter",
         "x": [
          100,
          200,
          300,
          400,
          500,
          600,
          700,
          800,
          900,
          1000,
          1100,
          1200,
          1300,
          1400,
          1500,
          1600,
          1700,
          1800,
          1900,
          2000,
          2100,
          2200,
          2300,
          2400,
          2500,
          2600,
          2700,
          2800,
          2900,
          3000,
          3100,
          3200,
          3300,
          3400,
          3500,
          3600,
          3700,
          3800,
          3900,
          4000,
          4100,
          4200,
          4300,
          4400,
          4500,
          4600,
          4700,
          4800,
          4900,
          5000,
          5100,
          5200,
          5300,
          5400,
          5500,
          5600,
          5700,
          5800,
          5900,
          6000,
          6100,
          6200,
          6300,
          6400,
          6500,
          6600,
          6700,
          6800,
          6900,
          7000,
          7100,
          7200,
          7300,
          7400,
          7500,
          7600,
          7700,
          7800,
          7900,
          8000,
          8100,
          8200,
          8300,
          8400,
          8500,
          8600,
          8700,
          8800,
          8900,
          9000,
          9100,
          9200,
          9300,
          9400,
          9500,
          9600,
          9700,
          9800,
          9900,
          10000,
          10100,
          10200,
          10300,
          10400,
          10500,
          10600,
          10700,
          10800,
          10900,
          11000,
          11100,
          11200,
          11300,
          11400,
          11500,
          11600,
          11700,
          11800,
          11900,
          12000,
          12100,
          12200,
          12300,
          12400,
          12500,
          12600,
          12700,
          12800,
          12900,
          13000,
          13100,
          13200,
          13300,
          13400,
          13500,
          13600,
          13700,
          13800,
          13900,
          14000,
          14100,
          14200,
          14300,
          14400,
          14500,
          14600,
          14700,
          14800,
          14900,
          15000,
          15100,
          15200,
          15300,
          15400,
          15500,
          15600,
          15700,
          15800,
          15900,
          16000,
          16100,
          16200,
          16300,
          16400,
          16500,
          16600,
          16700,
          16800,
          16900,
          17000,
          17100,
          17200,
          17300,
          17400,
          17500,
          17600,
          17700,
          17800,
          17900,
          18000,
          18100,
          18200,
          18300,
          18400,
          18500,
          18600,
          18700,
          18800,
          18900,
          19000,
          19100,
          19200,
          19300,
          19400,
          19500,
          19600,
          19700,
          19800,
          19900
         ],
         "y": [
          0.1688,
          0.21425,
          0.2409,
          0.26135,
          0.2503,
          0.27265,
          0.28315,
          0.29795,
          0.2933,
          0.3139,
          0.3205,
          0.3132,
          0.30685,
          0.3189,
          0.3271,
          0.3319,
          0.33085,
          0.3366,
          0.3366,
          0.33595,
          0.3375,
          0.34435,
          0.33175,
          0.3373,
          0.3418,
          0.3371,
          0.3367,
          0.3506,
          0.34665,
          0.35345,
          0.3429,
          0.34395,
          0.3465,
          0.3442,
          0.3496,
          0.34665,
          0.3471,
          0.3496,
          0.34815,
          0.34645,
          0.35195,
          0.34965,
          0.34695,
          0.3539,
          0.3502,
          0.34905,
          0.35485,
          0.35575,
          0.35175,
          0.35965,
          0.3569,
          0.35345,
          0.35735,
          0.34965,
          0.34875,
          0.3592,
          0.35595,
          0.35035,
          0.357,
          0.3537,
          0.3515,
          0.35205,
          0.36255,
          0.356,
          0.3497,
          0.357,
          0.3551,
          0.35805,
          0.3576,
          0.35275,
          0.35455,
          0.3628,
          0.35435,
          0.3578,
          0.3568,
          0.36065,
          0.357,
          0.35915,
          0.35355,
          0.35765,
          0.3565,
          0.3507,
          0.35735,
          0.3622,
          0.3587,
          0.3621,
          0.35815,
          0.35355,
          0.35335,
          0.35425,
          0.3608,
          0.35715,
          0.36065,
          0.3567,
          0.35745,
          0.36005,
          0.35845,
          0.36285,
          0.35985,
          0.357,
          0.35955,
          0.35455,
          0.3622,
          0.3609,
          0.3617,
          0.3598,
          0.36045,
          0.36615,
          0.3629,
          0.35845,
          0.3598,
          0.3688,
          0.3591,
          0.36285,
          0.35815,
          0.3622,
          0.35875,
          0.3603,
          0.35975,
          0.36125,
          0.36185,
          0.36375,
          0.35385,
          0.36545,
          0.36215,
          0.3568,
          0.3646,
          0.3581,
          0.36275,
          0.3644,
          0.35825,
          0.3615,
          0.3613,
          0.3642,
          0.3576,
          0.3573,
          0.36285,
          0.36605,
          0.36235,
          0.3587,
          0.355,
          0.35895,
          0.36205,
          0.3578,
          0.36515,
          0.3582,
          0.3614,
          0.35845,
          0.36115,
          0.35485,
          0.35265,
          0.36525,
          0.3581,
          0.3663,
          0.36585,
          0.3589,
          0.36725,
          0.36425,
          0.35895,
          0.36005,
          0.3598,
          0.36165,
          0.3661,
          0.3643,
          0.35835,
          0.36165,
          0.3555,
          0.3668,
          0.3648,
          0.36015,
          0.3613,
          0.36235,
          0.35425,
          0.3639,
          0.365,
          0.3647,
          0.3616,
          0.35685,
          0.361,
          0.35875,
          0.36045,
          0.3602,
          0.34865,
          0.3615,
          0.3585,
          0.35775,
          0.3637,
          0.35865,
          0.36365,
          0.36385,
          0.36055,
          0.3665,
          0.36025,
          0.35895,
          0.3585,
          0.3627,
          0.36075,
          0.35885,
          0.3721
         ]
        },
        {
         "mode": "lines+markers",
         "name": "alpha = 1.5",
         "type": "scatter",
         "x": [
          100,
          200,
          300,
          400,
          500,
          600,
          700,
          800,
          900,
          1000,
          1100,
          1200,
          1300,
          1400,
          1500,
          1600,
          1700,
          1800,
          1900,
          2000,
          2100,
          2200,
          2300,
          2400,
          2500,
          2600,
          2700,
          2800,
          2900,
          3000,
          3100,
          3200,
          3300,
          3400,
          3500,
          3600,
          3700,
          3800,
          3900,
          4000,
          4100,
          4200,
          4300,
          4400,
          4500,
          4600,
          4700,
          4800,
          4900,
          5000,
          5100,
          5200,
          5300,
          5400,
          5500,
          5600,
          5700,
          5800,
          5900,
          6000,
          6100,
          6200,
          6300,
          6400,
          6500,
          6600,
          6700,
          6800,
          6900,
          7000,
          7100,
          7200,
          7300,
          7400,
          7500,
          7600,
          7700,
          7800,
          7900,
          8000,
          8100,
          8200,
          8300,
          8400,
          8500,
          8600,
          8700,
          8800,
          8900,
          9000,
          9100,
          9200,
          9300,
          9400,
          9500,
          9600,
          9700,
          9800,
          9900,
          10000,
          10100,
          10200,
          10300,
          10400,
          10500,
          10600,
          10700,
          10800,
          10900,
          11000,
          11100,
          11200,
          11300,
          11400,
          11500,
          11600,
          11700,
          11800,
          11900,
          12000,
          12100,
          12200,
          12300,
          12400,
          12500,
          12600,
          12700,
          12800,
          12900,
          13000,
          13100,
          13200,
          13300,
          13400,
          13500,
          13600,
          13700,
          13800,
          13900,
          14000,
          14100,
          14200,
          14300,
          14400,
          14500,
          14600,
          14700,
          14800,
          14900,
          15000,
          15100,
          15200,
          15300,
          15400,
          15500,
          15600,
          15700,
          15800,
          15900,
          16000,
          16100,
          16200,
          16300,
          16400,
          16500,
          16600,
          16700,
          16800,
          16900,
          17000,
          17100,
          17200,
          17300,
          17400,
          17500,
          17600,
          17700,
          17800,
          17900,
          18000,
          18100,
          18200,
          18300,
          18400,
          18500,
          18600,
          18700,
          18800,
          18900,
          19000,
          19100,
          19200,
          19300,
          19400,
          19500,
          19600,
          19700,
          19800,
          19900
         ],
         "y": [
          0.2033,
          0.2923,
          0.37035,
          0.36855,
          0.3932,
          0.39525,
          0.38865,
          0.4021,
          0.40565,
          0.4173,
          0.4101,
          0.41825,
          0.41685,
          0.4215,
          0.4288,
          0.42305,
          0.41965,
          0.42365,
          0.43305,
          0.4249,
          0.4251,
          0.4197,
          0.4288,
          0.4263,
          0.42535,
          0.4217,
          0.4235,
          0.43155,
          0.42595,
          0.42255,
          0.42315,
          0.4329,
          0.4312,
          0.42665,
          0.42865,
          0.4261,
          0.43415,
          0.43,
          0.43135,
          0.4251,
          0.429,
          0.42305,
          0.43315,
          0.4268,
          0.42135,
          0.43195,
          0.4333,
          0.4261,
          0.43285,
          0.4272,
          0.42835,
          0.4258,
          0.4242,
          0.42595,
          0.4277,
          0.43195,
          0.42705,
          0.42875,
          0.4303,
          0.42435,
          0.4252,
          0.42735,
          0.42815,
          0.43525,
          0.43845,
          0.43,
          0.43015,
          0.4377,
          0.43195,
          0.4339,
          0.43485,
          0.42915,
          0.4236,
          0.4339,
          0.42935,
          0.43,
          0.42955,
          0.4312,
          0.4411,
          0.43355,
          0.4355,
          0.43635,
          0.43025,
          0.4269,
          0.4338,
          0.4341,
          0.42865,
          0.43165,
          0.42595,
          0.42785,
          0.4322,
          0.43325,
          0.43175,
          0.435,
          0.43165,
          0.4326,
          0.43525,
          0.4312,
          0.4316,
          0.42515,
          0.43565,
          0.4309,
          0.4325,
          0.4322,
          0.43215,
          0.43465,
          0.4303,
          0.43675,
          0.43165,
          0.4361,
          0.43545,
          0.43355,
          0.42925,
          0.43385,
          0.4338,
          0.42965,
          0.4318,
          0.42935,
          0.42975,
          0.42925,
          0.43015,
          0.4356,
          0.4363,
          0.4309,
          0.43255,
          0.43375,
          0.43775,
          0.43325,
          0.4302,
          0.43155,
          0.42855,
          0.43545,
          0.4328,
          0.4296,
          0.4323,
          0.43695,
          0.434,
          0.43665,
          0.44025,
          0.4305,
          0.43475,
          0.43535,
          0.43845,
          0.43495,
          0.43395,
          0.43385,
          0.43645,
          0.43745,
          0.42985,
          0.43355,
          0.432,
          0.4314,
          0.43835,
          0.4315,
          0.42995,
          0.4343,
          0.4328,
          0.4323,
          0.4294,
          0.4276,
          0.4348,
          0.42935,
          0.43385,
          0.42825,
          0.4403,
          0.4391,
          0.43285,
          0.433,
          0.4335,
          0.4329,
          0.4368,
          0.43835,
          0.43595,
          0.43265,
          0.43375,
          0.43605,
          0.43375,
          0.4289,
          0.4317,
          0.43315,
          0.42915,
          0.43115,
          0.4361,
          0.4318,
          0.4277,
          0.4329,
          0.43515,
          0.4301,
          0.4341,
          0.43965,
          0.43285,
          0.42835,
          0.43085,
          0.43235,
          0.4341,
          0.4293,
          0.43565,
          0.43195,
          0.42795
         ]
        },
        {
         "mode": "lines+markers",
         "name": "alpha = 2",
         "type": "scatter",
         "x": [
          100,
          200,
          300,
          400,
          500,
          600,
          700,
          800,
          900,
          1000,
          1100,
          1200,
          1300,
          1400,
          1500,
          1600,
          1700,
          1800,
          1900,
          2000,
          2100,
          2200,
          2300,
          2400,
          2500,
          2600,
          2700,
          2800,
          2900,
          3000,
          3100,
          3200,
          3300,
          3400,
          3500,
          3600,
          3700,
          3800,
          3900,
          4000,
          4100,
          4200,
          4300,
          4400,
          4500,
          4600,
          4700,
          4800,
          4900,
          5000,
          5100,
          5200,
          5300,
          5400,
          5500,
          5600,
          5700,
          5800,
          5900,
          6000,
          6100,
          6200,
          6300,
          6400,
          6500,
          6600,
          6700,
          6800,
          6900,
          7000,
          7100,
          7200,
          7300,
          7400,
          7500,
          7600,
          7700,
          7800,
          7900,
          8000,
          8100,
          8200,
          8300,
          8400,
          8500,
          8600,
          8700,
          8800,
          8900,
          9000,
          9100,
          9200,
          9300,
          9400,
          9500,
          9600,
          9700,
          9800,
          9900,
          10000,
          10100,
          10200,
          10300,
          10400,
          10500,
          10600,
          10700,
          10800,
          10900,
          11000,
          11100,
          11200,
          11300,
          11400,
          11500,
          11600,
          11700,
          11800,
          11900,
          12000,
          12100,
          12200,
          12300,
          12400,
          12500,
          12600,
          12700,
          12800,
          12900,
          13000,
          13100,
          13200,
          13300,
          13400,
          13500,
          13600,
          13700,
          13800,
          13900,
          14000,
          14100,
          14200,
          14300,
          14400,
          14500,
          14600,
          14700,
          14800,
          14900,
          15000,
          15100,
          15200,
          15300,
          15400,
          15500,
          15600,
          15700,
          15800,
          15900,
          16000,
          16100,
          16200,
          16300,
          16400,
          16500,
          16600,
          16700,
          16800,
          16900,
          17000,
          17100,
          17200,
          17300,
          17400,
          17500,
          17600,
          17700,
          17800,
          17900,
          18000,
          18100,
          18200,
          18300,
          18400,
          18500,
          18600,
          18700,
          18800,
          18900,
          19000,
          19100,
          19200,
          19300,
          19400,
          19500,
          19600,
          19700,
          19800,
          19900
         ],
         "y": [
          0.3625,
          0.415,
          0.44265,
          0.4408,
          0.45035,
          0.45925,
          0.45045,
          0.45695,
          0.4565,
          0.46565,
          0.4695,
          0.47165,
          0.46675,
          0.46425,
          0.4747,
          0.47125,
          0.47495,
          0.47105,
          0.468,
          0.4709,
          0.4763,
          0.4719,
          0.47345,
          0.47705,
          0.47175,
          0.4688,
          0.4789,
          0.4715,
          0.4709,
          0.47235,
          0.4724,
          0.47025,
          0.472,
          0.47955,
          0.47205,
          0.47585,
          0.4775,
          0.47475,
          0.477,
          0.46965,
          0.4713,
          0.47815,
          0.47595,
          0.47345,
          0.47265,
          0.4771,
          0.4755,
          0.4727,
          0.4691,
          0.475,
          0.47665,
          0.4709,
          0.4799,
          0.4768,
          0.47665,
          0.4738,
          0.4727,
          0.47375,
          0.47615,
          0.4734,
          0.47435,
          0.47025,
          0.476,
          0.47115,
          0.47155,
          0.4717,
          0.4737,
          0.47795,
          0.4749,
          0.4729,
          0.47125,
          0.47095,
          0.4728,
          0.4731,
          0.4776,
          0.47795,
          0.47455,
          0.4757,
          0.4758,
          0.4753,
          0.47705,
          0.4677,
          0.47705,
          0.47875,
          0.47625,
          0.4722,
          0.47355,
          0.4775,
          0.4727,
          0.4782,
          0.4786,
          0.47635,
          0.4725,
          0.47955,
          0.4788,
          0.47155,
          0.4789,
          0.48415,
          0.47235,
          0.47625,
          0.47855,
          0.46925,
          0.4747,
          0.47675,
          0.47945,
          0.4755,
          0.47425,
          0.47685,
          0.4736,
          0.4745,
          0.47845,
          0.4799,
          0.47445,
          0.47395,
          0.47525,
          0.4737,
          0.4811,
          0.4768,
          0.4755,
          0.47595,
          0.47885,
          0.47265,
          0.4797,
          0.47715,
          0.4795,
          0.4668,
          0.47205,
          0.4816,
          0.4791,
          0.47225,
          0.47665,
          0.47105,
          0.47755,
          0.4718,
          0.47415,
          0.47585,
          0.47715,
          0.47625,
          0.4692,
          0.46745,
          0.47355,
          0.46855,
          0.4767,
          0.475,
          0.48235,
          0.4689,
          0.47645,
          0.47435,
          0.47775,
          0.4737,
          0.4754,
          0.4721,
          0.4739,
          0.48205,
          0.47565,
          0.4779,
          0.4742,
          0.4807,
          0.4756,
          0.47135,
          0.4798,
          0.4678,
          0.47595,
          0.48145,
          0.4799,
          0.46885,
          0.47675,
          0.4761,
          0.47765,
          0.4774,
          0.4812,
          0.47185,
          0.4798,
          0.4792,
          0.47545,
          0.4785,
          0.47835,
          0.48045,
          0.4747,
          0.47795,
          0.4724,
          0.4701,
          0.48,
          0.4741,
          0.48175,
          0.4791,
          0.47355,
          0.48335,
          0.4788,
          0.47985,
          0.4766,
          0.47495,
          0.4709,
          0.47115,
          0.47525,
          0.4752,
          0.47595,
          0.47655,
          0.4739
         ]
        },
        {
         "mode": "lines+markers",
         "name": "alpha = 2.5",
         "type": "scatter",
         "x": [
          100,
          200,
          300,
          400,
          500,
          600,
          700,
          800,
          900,
          1000,
          1100,
          1200,
          1300,
          1400,
          1500,
          1600,
          1700,
          1800,
          1900,
          2000,
          2100,
          2200,
          2300,
          2400,
          2500,
          2600,
          2700,
          2800,
          2900,
          3000,
          3100,
          3200,
          3300,
          3400,
          3500,
          3600,
          3700,
          3800,
          3900,
          4000,
          4100,
          4200,
          4300,
          4400,
          4500,
          4600,
          4700,
          4800,
          4900,
          5000,
          5100,
          5200,
          5300,
          5400,
          5500,
          5600,
          5700,
          5800,
          5900,
          6000,
          6100,
          6200,
          6300,
          6400,
          6500,
          6600,
          6700,
          6800,
          6900,
          7000,
          7100,
          7200,
          7300,
          7400,
          7500,
          7600,
          7700,
          7800,
          7900,
          8000,
          8100,
          8200,
          8300,
          8400,
          8500,
          8600,
          8700,
          8800,
          8900,
          9000,
          9100,
          9200,
          9300,
          9400,
          9500,
          9600,
          9700,
          9800,
          9900,
          10000,
          10100,
          10200,
          10300,
          10400,
          10500,
          10600,
          10700,
          10800,
          10900,
          11000,
          11100,
          11200,
          11300,
          11400,
          11500,
          11600,
          11700,
          11800,
          11900,
          12000,
          12100,
          12200,
          12300,
          12400,
          12500,
          12600,
          12700,
          12800,
          12900,
          13000,
          13100,
          13200,
          13300,
          13400,
          13500,
          13600,
          13700,
          13800,
          13900,
          14000,
          14100,
          14200,
          14300,
          14400,
          14500,
          14600,
          14700,
          14800,
          14900,
          15000,
          15100,
          15200,
          15300,
          15400,
          15500,
          15600,
          15700,
          15800,
          15900,
          16000,
          16100,
          16200,
          16300,
          16400,
          16500,
          16600,
          16700,
          16800,
          16900,
          17000,
          17100,
          17200,
          17300,
          17400,
          17500,
          17600,
          17700,
          17800,
          17900,
          18000,
          18100,
          18200,
          18300,
          18400,
          18500,
          18600,
          18700,
          18800,
          18900,
          19000,
          19100,
          19200,
          19300,
          19400,
          19500,
          19600,
          19700,
          19800,
          19900
         ],
         "y": [
          0.4239,
          0.45155,
          0.47165,
          0.47445,
          0.47695,
          0.4818,
          0.48335,
          0.47245,
          0.4835,
          0.4864,
          0.49155,
          0.48985,
          0.49045,
          0.49195,
          0.4824,
          0.4938,
          0.4895,
          0.4919,
          0.4927,
          0.48765,
          0.48845,
          0.4966,
          0.4946,
          0.4908,
          0.48815,
          0.48885,
          0.4872,
          0.4928,
          0.48405,
          0.49285,
          0.492,
          0.48925,
          0.49715,
          0.4825,
          0.4987,
          0.49065,
          0.4946,
          0.49065,
          0.4857,
          0.49015,
          0.4906,
          0.49345,
          0.48855,
          0.4948,
          0.49375,
          0.49065,
          0.48865,
          0.49415,
          0.488,
          0.4953,
          0.48755,
          0.4951,
          0.49455,
          0.48685,
          0.4887,
          0.49525,
          0.49765,
          0.49195,
          0.4887,
          0.49285,
          0.48875,
          0.4955,
          0.49075,
          0.49515,
          0.49795,
          0.48525,
          0.4943,
          0.4975,
          0.48885,
          0.48785,
          0.4923,
          0.4928,
          0.4937,
          0.48695,
          0.4922,
          0.4905,
          0.48745,
          0.49465,
          0.4932,
          0.49885,
          0.491,
          0.4935,
          0.4953,
          0.4923,
          0.49115,
          0.49095,
          0.49555,
          0.48975,
          0.48355,
          0.49095,
          0.4949,
          0.4887,
          0.4855,
          0.49035,
          0.49055,
          0.48685,
          0.4895,
          0.4996,
          0.48905,
          0.4904,
          0.49575,
          0.4924,
          0.4956,
          0.49525,
          0.48695,
          0.4876,
          0.4953,
          0.4908,
          0.49295,
          0.49255,
          0.4993,
          0.49535,
          0.4921,
          0.495,
          0.4932,
          0.4937,
          0.49985,
          0.503,
          0.4922,
          0.4945,
          0.49665,
          0.4944,
          0.4907,
          0.49535,
          0.48465,
          0.4934,
          0.48895,
          0.49395,
          0.4964,
          0.49215,
          0.49345,
          0.49735,
          0.49595,
          0.50095,
          0.4928,
          0.4951,
          0.4963,
          0.4883,
          0.4993,
          0.4925,
          0.4915,
          0.4903,
          0.48885,
          0.4889,
          0.4884,
          0.49285,
          0.49285,
          0.4949,
          0.49285,
          0.4989,
          0.49225,
          0.4941,
          0.49105,
          0.4903,
          0.49445,
          0.49015,
          0.49095,
          0.49145,
          0.49535,
          0.4909,
          0.48725,
          0.49015,
          0.48785,
          0.49435,
          0.48745,
          0.49915,
          0.49635,
          0.49195,
          0.48975,
          0.4996,
          0.49095,
          0.49585,
          0.49475,
          0.49425,
          0.4941,
          0.4907,
          0.49425,
          0.4917,
          0.50195,
          0.4876,
          0.4926,
          0.4927,
          0.49645,
          0.501,
          0.4941,
          0.49855,
          0.48675,
          0.4929,
          0.4882,
          0.49475,
          0.49375,
          0.4909,
          0.49335,
          0.5016,
          0.4925,
          0.50365,
          0.4986,
          0.4829,
          0.49375
         ]
        },
        {
         "mode": "lines+markers",
         "name": "alpha = 3",
         "type": "scatter",
         "x": [
          100,
          200,
          300,
          400,
          500,
          600,
          700,
          800,
          900,
          1000,
          1100,
          1200,
          1300,
          1400,
          1500,
          1600,
          1700,
          1800,
          1900,
          2000,
          2100,
          2200,
          2300,
          2400,
          2500,
          2600,
          2700,
          2800,
          2900,
          3000,
          3100,
          3200,
          3300,
          3400,
          3500,
          3600,
          3700,
          3800,
          3900,
          4000,
          4100,
          4200,
          4300,
          4400,
          4500,
          4600,
          4700,
          4800,
          4900,
          5000,
          5100,
          5200,
          5300,
          5400,
          5500,
          5600,
          5700,
          5800,
          5900,
          6000,
          6100,
          6200,
          6300,
          6400,
          6500,
          6600,
          6700,
          6800,
          6900,
          7000,
          7100,
          7200,
          7300,
          7400,
          7500,
          7600,
          7700,
          7800,
          7900,
          8000,
          8100,
          8200,
          8300,
          8400,
          8500,
          8600,
          8700,
          8800,
          8900,
          9000,
          9100,
          9200,
          9300,
          9400,
          9500,
          9600,
          9700,
          9800,
          9900,
          10000,
          10100,
          10200,
          10300,
          10400,
          10500,
          10600,
          10700,
          10800,
          10900,
          11000,
          11100,
          11200,
          11300,
          11400,
          11500,
          11600,
          11700,
          11800,
          11900,
          12000,
          12100,
          12200,
          12300,
          12400,
          12500,
          12600,
          12700,
          12800,
          12900,
          13000,
          13100,
          13200,
          13300,
          13400,
          13500,
          13600,
          13700,
          13800,
          13900,
          14000,
          14100,
          14200,
          14300,
          14400,
          14500,
          14600,
          14700,
          14800,
          14900,
          15000,
          15100,
          15200,
          15300,
          15400,
          15500,
          15600,
          15700,
          15800,
          15900,
          16000,
          16100,
          16200,
          16300,
          16400,
          16500,
          16600,
          16700,
          16800,
          16900,
          17000,
          17100,
          17200,
          17300,
          17400,
          17500,
          17600,
          17700,
          17800,
          17900,
          18000,
          18100,
          18200,
          18300,
          18400,
          18500,
          18600,
          18700,
          18800,
          18900,
          19000,
          19100,
          19200,
          19300,
          19400,
          19500,
          19600,
          19700,
          19800,
          19900
         ],
         "y": [
          0.4229,
          0.45835,
          0.47795,
          0.4759,
          0.4831,
          0.49115,
          0.48555,
          0.49265,
          0.49805,
          0.49815,
          0.49375,
          0.4929,
          0.4882,
          0.4974,
          0.4954,
          0.49725,
          0.498,
          0.49635,
          0.499,
          0.49955,
          0.4998,
          0.4887,
          0.4999,
          0.49375,
          0.48945,
          0.4996,
          0.49575,
          0.49535,
          0.49375,
          0.49365,
          0.49395,
          0.4973,
          0.4927,
          0.49355,
          0.49435,
          0.49845,
          0.5001,
          0.50065,
          0.49555,
          0.4936,
          0.498,
          0.49515,
          0.4992,
          0.5003,
          0.4906,
          0.4933,
          0.5038,
          0.4992,
          0.4945,
          0.4966,
          0.4987,
          0.49695,
          0.4892,
          0.49525,
          0.495,
          0.4999,
          0.5009,
          0.4972,
          0.48775,
          0.49535,
          0.4993,
          0.4963,
          0.49835,
          0.4971,
          0.49235,
          0.49815,
          0.5002,
          0.5002,
          0.4904,
          0.4995,
          0.50355,
          0.4948,
          0.4992,
          0.49655,
          0.49305,
          0.4925,
          0.501,
          0.49685,
          0.50045,
          0.4999,
          0.49345,
          0.49945,
          0.4996,
          0.5055,
          0.49825,
          0.49775,
          0.49935,
          0.49375,
          0.50025,
          0.503,
          0.5034,
          0.4964,
          0.50465,
          0.497,
          0.4982,
          0.50205,
          0.50115,
          0.49465,
          0.49385,
          0.49835,
          0.49565,
          0.50235,
          0.49365,
          0.50135,
          0.4935,
          0.501,
          0.50505,
          0.49695,
          0.50025,
          0.4953,
          0.5021,
          0.4961,
          0.49845,
          0.49695,
          0.50675,
          0.48855,
          0.50295,
          0.49595,
          0.50215,
          0.4985,
          0.4974,
          0.5021,
          0.49955,
          0.5065,
          0.4992,
          0.49835,
          0.5024,
          0.49,
          0.4979,
          0.5015,
          0.4996,
          0.49965,
          0.49755,
          0.49645,
          0.4964,
          0.4966,
          0.49885,
          0.49685,
          0.5011,
          0.49745,
          0.4916,
          0.49835,
          0.5,
          0.49605,
          0.4981,
          0.4942,
          0.4982,
          0.49555,
          0.4955,
          0.4997,
          0.4988,
          0.49775,
          0.4987,
          0.4935,
          0.4908,
          0.49345,
          0.49965,
          0.4995,
          0.5,
          0.5017,
          0.4958,
          0.49285,
          0.4942,
          0.50435,
          0.5005,
          0.4929,
          0.497,
          0.5039,
          0.49985,
          0.49825,
          0.49685,
          0.49575,
          0.4965,
          0.5006,
          0.50015,
          0.5002,
          0.4951,
          0.49955,
          0.50025,
          0.49525,
          0.4922,
          0.50175,
          0.49735,
          0.4993,
          0.49635,
          0.50055,
          0.4985,
          0.49115,
          0.496,
          0.4928,
          0.4969,
          0.49775,
          0.49535,
          0.50575,
          0.4956,
          0.4993,
          0.50115,
          0.50515,
          0.49575
         ]
        }
       ],
       "layout": {
        "annotations": [
         {
          "showarrow": false,
          "text": "BER 50%",
          "x": 0,
          "xanchor": "left",
          "xref": "x domain",
          "y": 0.5,
          "yanchor": "bottom",
          "yref": "y"
         }
        ],
        "height": 500,
        "legend": {
         "title": {
          "text": "Valeurs de alpha"
         }
        },
        "shapes": [
         {
          "line": {
           "color": "red",
           "dash": "dot"
          },
          "type": "line",
          "x0": 0,
          "x1": 1,
          "xref": "x domain",
          "y0": 0.5,
          "y1": 0.5,
          "yref": "y"
         }
        ],
        "template": {
         "data": {
          "bar": [
           {
            "error_x": {
             "color": "#2a3f5f"
            },
            "error_y": {
             "color": "#2a3f5f"
            },
            "marker": {
             "line": {
              "color": "#E5ECF6",
              "width": 0.5
             },
             "pattern": {
              "fillmode": "overlay",
              "size": 10,
              "solidity": 0.2
             }
            },
            "type": "bar"
           }
          ],
          "barpolar": [
           {
            "marker": {
             "line": {
              "color": "#E5ECF6",
              "width": 0.5
             },
             "pattern": {
              "fillmode": "overlay",
              "size": 10,
              "solidity": 0.2
             }
            },
            "type": "barpolar"
           }
          ],
          "carpet": [
           {
            "aaxis": {
             "endlinecolor": "#2a3f5f",
             "gridcolor": "white",
             "linecolor": "white",
             "minorgridcolor": "white",
             "startlinecolor": "#2a3f5f"
            },
            "baxis": {
             "endlinecolor": "#2a3f5f",
             "gridcolor": "white",
             "linecolor": "white",
             "minorgridcolor": "white",
             "startlinecolor": "#2a3f5f"
            },
            "type": "carpet"
           }
          ],
          "choropleth": [
           {
            "colorbar": {
             "outlinewidth": 0,
             "ticks": ""
            },
            "type": "choropleth"
           }
          ],
          "contour": [
           {
            "colorbar": {
             "outlinewidth": 0,
             "ticks": ""
            },
            "colorscale": [
             [
              0,
              "#0d0887"
             ],
             [
              0.1111111111111111,
              "#46039f"
             ],
             [
              0.2222222222222222,
              "#7201a8"
             ],
             [
              0.3333333333333333,
              "#9c179e"
             ],
             [
              0.4444444444444444,
              "#bd3786"
             ],
             [
              0.5555555555555556,
              "#d8576b"
             ],
             [
              0.6666666666666666,
              "#ed7953"
             ],
             [
              0.7777777777777778,
              "#fb9f3a"
             ],
             [
              0.8888888888888888,
              "#fdca26"
             ],
             [
              1,
              "#f0f921"
             ]
            ],
            "type": "contour"
           }
          ],
          "contourcarpet": [
           {
            "colorbar": {
             "outlinewidth": 0,
             "ticks": ""
            },
            "type": "contourcarpet"
           }
          ],
          "heatmap": [
           {
            "colorbar": {
             "outlinewidth": 0,
             "ticks": ""
            },
            "colorscale": [
             [
              0,
              "#0d0887"
             ],
             [
              0.1111111111111111,
              "#46039f"
             ],
             [
              0.2222222222222222,
              "#7201a8"
             ],
             [
              0.3333333333333333,
              "#9c179e"
             ],
             [
              0.4444444444444444,
              "#bd3786"
             ],
             [
              0.5555555555555556,
              "#d8576b"
             ],
             [
              0.6666666666666666,
              "#ed7953"
             ],
             [
              0.7777777777777778,
              "#fb9f3a"
             ],
             [
              0.8888888888888888,
              "#fdca26"
             ],
             [
              1,
              "#f0f921"
             ]
            ],
            "type": "heatmap"
           }
          ],
          "heatmapgl": [
           {
            "colorbar": {
             "outlinewidth": 0,
             "ticks": ""
            },
            "colorscale": [
             [
              0,
              "#0d0887"
             ],
             [
              0.1111111111111111,
              "#46039f"
             ],
             [
              0.2222222222222222,
              "#7201a8"
             ],
             [
              0.3333333333333333,
              "#9c179e"
             ],
             [
              0.4444444444444444,
              "#bd3786"
             ],
             [
              0.5555555555555556,
              "#d8576b"
             ],
             [
              0.6666666666666666,
              "#ed7953"
             ],
             [
              0.7777777777777778,
              "#fb9f3a"
             ],
             [
              0.8888888888888888,
              "#fdca26"
             ],
             [
              1,
              "#f0f921"
             ]
            ],
            "type": "heatmapgl"
           }
          ],
          "histogram": [
           {
            "marker": {
             "pattern": {
              "fillmode": "overlay",
              "size": 10,
              "solidity": 0.2
             }
            },
            "type": "histogram"
           }
          ],
          "histogram2d": [
           {
            "colorbar": {
             "outlinewidth": 0,
             "ticks": ""
            },
            "colorscale": [
             [
              0,
              "#0d0887"
             ],
             [
              0.1111111111111111,
              "#46039f"
             ],
             [
              0.2222222222222222,
              "#7201a8"
             ],
             [
              0.3333333333333333,
              "#9c179e"
             ],
             [
              0.4444444444444444,
              "#bd3786"
             ],
             [
              0.5555555555555556,
              "#d8576b"
             ],
             [
              0.6666666666666666,
              "#ed7953"
             ],
             [
              0.7777777777777778,
              "#fb9f3a"
             ],
             [
              0.8888888888888888,
              "#fdca26"
             ],
             [
              1,
              "#f0f921"
             ]
            ],
            "type": "histogram2d"
           }
          ],
          "histogram2dcontour": [
           {
            "colorbar": {
             "outlinewidth": 0,
             "ticks": ""
            },
            "colorscale": [
             [
              0,
              "#0d0887"
             ],
             [
              0.1111111111111111,
              "#46039f"
             ],
             [
              0.2222222222222222,
              "#7201a8"
             ],
             [
              0.3333333333333333,
              "#9c179e"
             ],
             [
              0.4444444444444444,
              "#bd3786"
             ],
             [
              0.5555555555555556,
              "#d8576b"
             ],
             [
              0.6666666666666666,
              "#ed7953"
             ],
             [
              0.7777777777777778,
              "#fb9f3a"
             ],
             [
              0.8888888888888888,
              "#fdca26"
             ],
             [
              1,
              "#f0f921"
             ]
            ],
            "type": "histogram2dcontour"
           }
          ],
          "mesh3d": [
           {
            "colorbar": {
             "outlinewidth": 0,
             "ticks": ""
            },
            "type": "mesh3d"
           }
          ],
          "parcoords": [
           {
            "line": {
             "colorbar": {
              "outlinewidth": 0,
              "ticks": ""
             }
            },
            "type": "parcoords"
           }
          ],
          "pie": [
           {
            "automargin": true,
            "type": "pie"
           }
          ],
          "scatter": [
           {
            "fillpattern": {
             "fillmode": "overlay",
             "size": 10,
             "solidity": 0.2
            },
            "type": "scatter"
           }
          ],
          "scatter3d": [
           {
            "line": {
             "colorbar": {
              "outlinewidth": 0,
              "ticks": ""
             }
            },
            "marker": {
             "colorbar": {
              "outlinewidth": 0,
              "ticks": ""
             }
            },
            "type": "scatter3d"
           }
          ],
          "scattercarpet": [
           {
            "marker": {
             "colorbar": {
              "outlinewidth": 0,
              "ticks": ""
             }
            },
            "type": "scattercarpet"
           }
          ],
          "scattergeo": [
           {
            "marker": {
             "colorbar": {
              "outlinewidth": 0,
              "ticks": ""
             }
            },
            "type": "scattergeo"
           }
          ],
          "scattergl": [
           {
            "marker": {
             "colorbar": {
              "outlinewidth": 0,
              "ticks": ""
             }
            },
            "type": "scattergl"
           }
          ],
          "scattermapbox": [
           {
            "marker": {
             "colorbar": {
              "outlinewidth": 0,
              "ticks": ""
             }
            },
            "type": "scattermapbox"
           }
          ],
          "scatterpolar": [
           {
            "marker": {
             "colorbar": {
              "outlinewidth": 0,
              "ticks": ""
             }
            },
            "type": "scatterpolar"
           }
          ],
          "scatterpolargl": [
           {
            "marker": {
             "colorbar": {
              "outlinewidth": 0,
              "ticks": ""
             }
            },
            "type": "scatterpolargl"
           }
          ],
          "scatterternary": [
           {
            "marker": {
             "colorbar": {
              "outlinewidth": 0,
              "ticks": ""
             }
            },
            "type": "scatterternary"
           }
          ],
          "surface": [
           {
            "colorbar": {
             "outlinewidth": 0,
             "ticks": ""
            },
            "colorscale": [
             [
              0,
              "#0d0887"
             ],
             [
              0.1111111111111111,
              "#46039f"
             ],
             [
              0.2222222222222222,
              "#7201a8"
             ],
             [
              0.3333333333333333,
              "#9c179e"
             ],
             [
              0.4444444444444444,
              "#bd3786"
             ],
             [
              0.5555555555555556,
              "#d8576b"
             ],
             [
              0.6666666666666666,
              "#ed7953"
             ],
             [
              0.7777777777777778,
              "#fb9f3a"
             ],
             [
              0.8888888888888888,
              "#fdca26"
             ],
             [
              1,
              "#f0f921"
             ]
            ],
            "type": "surface"
           }
          ],
          "table": [
           {
            "cells": {
             "fill": {
              "color": "#EBF0F8"
             },
             "line": {
              "color": "white"
             }
            },
            "header": {
             "fill": {
              "color": "#C8D4E3"
             },
             "line": {
              "color": "white"
             }
            },
            "type": "table"
           }
          ]
         },
         "layout": {
          "annotationdefaults": {
           "arrowcolor": "#2a3f5f",
           "arrowhead": 0,
           "arrowwidth": 1
          },
          "autotypenumbers": "strict",
          "coloraxis": {
           "colorbar": {
            "outlinewidth": 0,
            "ticks": ""
           }
          },
          "colorscale": {
           "diverging": [
            [
             0,
             "#8e0152"
            ],
            [
             0.1,
             "#c51b7d"
            ],
            [
             0.2,
             "#de77ae"
            ],
            [
             0.3,
             "#f1b6da"
            ],
            [
             0.4,
             "#fde0ef"
            ],
            [
             0.5,
             "#f7f7f7"
            ],
            [
             0.6,
             "#e6f5d0"
            ],
            [
             0.7,
             "#b8e186"
            ],
            [
             0.8,
             "#7fbc41"
            ],
            [
             0.9,
             "#4d9221"
            ],
            [
             1,
             "#276419"
            ]
           ],
           "sequential": [
            [
             0,
             "#0d0887"
            ],
            [
             0.1111111111111111,
             "#46039f"
            ],
            [
             0.2222222222222222,
             "#7201a8"
            ],
            [
             0.3333333333333333,
             "#9c179e"
            ],
            [
             0.4444444444444444,
             "#bd3786"
            ],
            [
             0.5555555555555556,
             "#d8576b"
            ],
            [
             0.6666666666666666,
             "#ed7953"
            ],
            [
             0.7777777777777778,
             "#fb9f3a"
            ],
            [
             0.8888888888888888,
             "#fdca26"
            ],
            [
             1,
             "#f0f921"
            ]
           ],
           "sequentialminus": [
            [
             0,
             "#0d0887"
            ],
            [
             0.1111111111111111,
             "#46039f"
            ],
            [
             0.2222222222222222,
             "#7201a8"
            ],
            [
             0.3333333333333333,
             "#9c179e"
            ],
            [
             0.4444444444444444,
             "#bd3786"
            ],
            [
             0.5555555555555556,
             "#d8576b"
            ],
            [
             0.6666666666666666,
             "#ed7953"
            ],
            [
             0.7777777777777778,
             "#fb9f3a"
            ],
            [
             0.8888888888888888,
             "#fdca26"
            ],
            [
             1,
             "#f0f921"
            ]
           ]
          },
          "colorway": [
           "#636efa",
           "#EF553B",
           "#00cc96",
           "#ab63fa",
           "#FFA15A",
           "#19d3f3",
           "#FF6692",
           "#B6E880",
           "#FF97FF",
           "#FECB52"
          ],
          "font": {
           "color": "#2a3f5f"
          },
          "geo": {
           "bgcolor": "white",
           "lakecolor": "white",
           "landcolor": "#E5ECF6",
           "showlakes": true,
           "showland": true,
           "subunitcolor": "white"
          },
          "hoverlabel": {
           "align": "left"
          },
          "hovermode": "closest",
          "mapbox": {
           "style": "light"
          },
          "paper_bgcolor": "white",
          "plot_bgcolor": "#E5ECF6",
          "polar": {
           "angularaxis": {
            "gridcolor": "white",
            "linecolor": "white",
            "ticks": ""
           },
           "bgcolor": "#E5ECF6",
           "radialaxis": {
            "gridcolor": "white",
            "linecolor": "white",
            "ticks": ""
           }
          },
          "scene": {
           "xaxis": {
            "backgroundcolor": "#E5ECF6",
            "gridcolor": "white",
            "gridwidth": 2,
            "linecolor": "white",
            "showbackground": true,
            "ticks": "",
            "zerolinecolor": "white"
           },
           "yaxis": {
            "backgroundcolor": "#E5ECF6",
            "gridcolor": "white",
            "gridwidth": 2,
            "linecolor": "white",
            "showbackground": true,
            "ticks": "",
            "zerolinecolor": "white"
           },
           "zaxis": {
            "backgroundcolor": "#E5ECF6",
            "gridcolor": "white",
            "gridwidth": 2,
            "linecolor": "white",
            "showbackground": true,
            "ticks": "",
            "zerolinecolor": "white"
           }
          },
          "shapedefaults": {
           "line": {
            "color": "#2a3f5f"
           }
          },
          "ternary": {
           "aaxis": {
            "gridcolor": "white",
            "linecolor": "white",
            "ticks": ""
           },
           "baxis": {
            "gridcolor": "white",
            "linecolor": "white",
            "ticks": ""
           },
           "bgcolor": "#E5ECF6",
           "caxis": {
            "gridcolor": "white",
            "linecolor": "white",
            "ticks": ""
           }
          },
          "title": {
           "x": 0.05
          },
          "xaxis": {
           "automargin": true,
           "gridcolor": "white",
           "linecolor": "white",
           "ticks": "",
           "title": {
            "standoff": 15
           },
           "zerolinecolor": "white",
           "zerolinewidth": 2
          },
          "yaxis": {
           "automargin": true,
           "gridcolor": "white",
           "linecolor": "white",
           "ticks": "",
           "title": {
            "standoff": 15
           },
           "zerolinecolor": "white",
           "zerolinewidth": 2
          }
         }
        },
        "title": {
         "text": "Impact de No et alpha sur le BER après attaque"
        },
        "width": 800,
        "xaxis": {
         "title": {
          "text": "No (Nombre d‘observations)=20000"
         }
        },
        "yaxis": {
         "title": {
          "text": "BER"
         }
        }
       }
      }
     },
     "metadata": {},
     "output_type": "display_data"
    },
    {
     "data": {
      "application/vnd.plotly.v1+json": {
       "config": {
        "plotlyServerURL": "https://plot.ly"
       },
       "data": [
        {
         "mode": "lines+markers",
         "name": "alpha = 0.2",
         "type": "scatter",
         "x": [
          100,
          200,
          300,
          400,
          500,
          600,
          700,
          800,
          900,
          1000,
          1100,
          1200,
          1300,
          1400,
          1500,
          1600,
          1700,
          1800,
          1900,
          2000,
          2100,
          2200,
          2300,
          2400,
          2500,
          2600,
          2700,
          2800,
          2900,
          3000,
          3100,
          3200,
          3300,
          3400,
          3500,
          3600,
          3700,
          3800,
          3900,
          4000,
          4100,
          4200,
          4300,
          4400,
          4500,
          4600,
          4700,
          4800,
          4900,
          5000,
          5100,
          5200,
          5300,
          5400,
          5500,
          5600,
          5700,
          5800,
          5900,
          6000,
          6100,
          6200,
          6300,
          6400,
          6500,
          6600,
          6700,
          6800,
          6900,
          7000,
          7100,
          7200,
          7300,
          7400,
          7500,
          7600,
          7700,
          7800,
          7900,
          8000,
          8100,
          8200,
          8300,
          8400,
          8500,
          8600,
          8700,
          8800,
          8900,
          9000,
          9100,
          9200,
          9300,
          9400,
          9500,
          9600,
          9700,
          9800,
          9900,
          10000,
          10100,
          10200,
          10300,
          10400,
          10500,
          10600,
          10700,
          10800,
          10900,
          11000,
          11100,
          11200,
          11300,
          11400,
          11500,
          11600,
          11700,
          11800,
          11900,
          12000,
          12100,
          12200,
          12300,
          12400,
          12500,
          12600,
          12700,
          12800,
          12900,
          13000,
          13100,
          13200,
          13300,
          13400,
          13500,
          13600,
          13700,
          13800,
          13900,
          14000,
          14100,
          14200,
          14300,
          14400,
          14500,
          14600,
          14700,
          14800,
          14900,
          15000,
          15100,
          15200,
          15300,
          15400,
          15500,
          15600,
          15700,
          15800,
          15900,
          16000,
          16100,
          16200,
          16300,
          16400,
          16500,
          16600,
          16700,
          16800,
          16900,
          17000,
          17100,
          17200,
          17300,
          17400,
          17500,
          17600,
          17700,
          17800,
          17900,
          18000,
          18100,
          18200,
          18300,
          18400,
          18500,
          18600,
          18700,
          18800,
          18900,
          19000,
          19100,
          19200,
          19300,
          19400,
          19500,
          19600,
          19700,
          19800,
          19900
         ],
         "y": [
          0.12284143982833251,
          0.10278443193380815,
          0.16491202655728543,
          0.11916079890632006,
          0.01862774388087571,
          0.03898019183855803,
          0.06932564942673165,
          0.2038718954632034,
          0.2067477024250492,
          0.06748673684122813,
          0.015433755951218167,
          0.058704656009410015,
          0.0249525299350463,
          0.013056026523650345,
          0.06248269398542442,
          0.22782148266796454,
          0.05663933508070437,
          0.06875772128826027,
          0.010383244325352944,
          0.026061183930968762,
          0.03688174417125708,
          0.1140059334015116,
          0.08635247216390497,
          0.04987616836999318,
          0.07628263754999164,
          0.1589243463546117,
          0.10391867040176897,
          0.11880287138478768,
          0.06351994015426293,
          0.013853301412432722,
          0.29495729367883994,
          0.043395668010968766,
          0.0968887273171828,
          0.05761032333230844,
          0.15576775939190476,
          0.3306686163553107,
          0.03668273261897406,
          0.02974656820704689,
          0.15382554990110453,
          0.023438388692283835,
          0.09769128133137066,
          0.06031849772982884,
          0.28304681995819597,
          0.15919785227460057,
          0.20079552947677892,
          0.15033424375195775,
          0.10846261207723379,
          0.04727772694369546,
          0.015143123618315369,
          0.06102886835069475,
          0.13916063109590732,
          0.08140516978376067,
          0.048023768422894735,
          0.09322194654180434,
          0.01615364897772996,
          0.20365187453197658,
          0.2107638794987662,
          0.099013073932745,
          0.013126588962750848,
          0.2421916757374286,
          0.16202596251997195,
          0.12368812323839785,
          0.045755341516310735,
          0.02163911637128059,
          0.22045712170292514,
          0.10018184009199615,
          0.20861188616161272,
          0.21030536778200004,
          0.028892504970448457,
          0.005601774731967532,
          0.0008441564649160077,
          0.022074484802797622,
          0.10001006085913652,
          0.02393135739508701,
          0.1622019574467741,
          0.3252886105991927,
          0.1227547509161137,
          0.028521473038279097,
          0.13106949404330917,
          0.13418012312292252,
          0.020380543012715274,
          0.1909221454215282,
          0.04381515954076948,
          0.03096535074578029,
          0.050301529334907086,
          0.23459990892112562,
          0.14340410370828682,
          0.02760886513711086,
          0.05922666546585689,
          0.01662813214668317,
          0.09333501051210923,
          0.11699667929870566,
          0.0575848842130935,
          0.10697802884981078,
          0.01609874179048004,
          0.02974040239976023,
          0.1044006405699822,
          0.11734725259472706,
          0.12857208777048784,
          0.16565176646233162,
          0.0588148338830037,
          0.28243478453427284,
          0.04166553633595594,
          0.022847274815490266,
          0.1636393553803029,
          0.05617432002693841,
          0.11782548112455526,
          0.002872827766131339,
          0.03937648870004946,
          0.22406553645979982,
          0.057737811742980774,
          0.15323838654532518,
          0.3082962068166542,
          0.3058176002371168,
          0.09238852213819444,
          0.1610675951608011,
          0.030286809410740814,
          0.16153845075028536,
          0.035066227417723056,
          0.02719822033578764,
          0.1000517497846239,
          0.08044304746789488,
          0.008356979965640271,
          0.23384267734092326,
          0.046283952187456234,
          0.00508221963397449,
          0.16768996814373935,
          0.07172640977539016,
          0.35047533380289186,
          0.10135338009813691,
          0.004516131586780747,
          0.033280052290817756,
          0.14138636097673943,
          0.3461866753006081,
          0.1870255684403781,
          0.0699195384426636,
          0.07348673514356084,
          0.1345822550668779,
          0.1736020883859791,
          0.1467096545830723,
          0.0964986335865942,
          0.26712879468262957,
          0.32787068549853304,
          0.05545275274190417,
          0.06973242878308643,
          0.15869449992077544,
          0.3377873843888895,
          0.16005272691754033,
          0.11928691244390993,
          0.33941490807386326,
          0.23590797613641346,
          0.07477458366902685,
          0.002604457380137584,
          0.22800424228199137,
          0.11296841267201575,
          0.12331242937573211,
          0.08692671435815132,
          0.3265084615712239,
          0.3664428682902805,
          0.1119510883192632,
          0.06352917254059787,
          0.1390456351063543,
          0.22703697661701203,
          0.32400147368487914,
          0.17650870177517236,
          0.4274265743482552,
          0.25357268278979095,
          0.14872056656338278,
          0.022981160158691224,
          0.03368369878273385,
          0.0649863547746459,
          0.28255345331017284,
          0.45501896385598484,
          0.01695009091863212,
          0.3848732109844503,
          0.45766964011091815,
          0.04597180777785797,
          0.3286604460195031,
          0.030776035672128017,
          0.0258613963051679,
          0.00432105813684722,
          0.16063958753304802,
          0.173239257857505,
          0.23493879889259628,
          0.04015364727720082,
          0.2667660627947045,
          0.011712906162046982,
          0.08331205201332623,
          0.1295482660940573,
          0.38570626280599635,
          0.04650720195721035,
          0.23633257360533289,
          0.3356377458570522,
          0.20260150632049817,
          0.08791525636786293,
          0.13481757278875683,
          0.16705044424627918,
          0.06707614622763444,
          0.2611574063379298
         ]
        },
        {
         "mode": "lines+markers",
         "name": "alpha = 0.5",
         "type": "scatter",
         "x": [
          100,
          200,
          300,
          400,
          500,
          600,
          700,
          800,
          900,
          1000,
          1100,
          1200,
          1300,
          1400,
          1500,
          1600,
          1700,
          1800,
          1900,
          2000,
          2100,
          2200,
          2300,
          2400,
          2500,
          2600,
          2700,
          2800,
          2900,
          3000,
          3100,
          3200,
          3300,
          3400,
          3500,
          3600,
          3700,
          3800,
          3900,
          4000,
          4100,
          4200,
          4300,
          4400,
          4500,
          4600,
          4700,
          4800,
          4900,
          5000,
          5100,
          5200,
          5300,
          5400,
          5500,
          5600,
          5700,
          5800,
          5900,
          6000,
          6100,
          6200,
          6300,
          6400,
          6500,
          6600,
          6700,
          6800,
          6900,
          7000,
          7100,
          7200,
          7300,
          7400,
          7500,
          7600,
          7700,
          7800,
          7900,
          8000,
          8100,
          8200,
          8300,
          8400,
          8500,
          8600,
          8700,
          8800,
          8900,
          9000,
          9100,
          9200,
          9300,
          9400,
          9500,
          9600,
          9700,
          9800,
          9900,
          10000,
          10100,
          10200,
          10300,
          10400,
          10500,
          10600,
          10700,
          10800,
          10900,
          11000,
          11100,
          11200,
          11300,
          11400,
          11500,
          11600,
          11700,
          11800,
          11900,
          12000,
          12100,
          12200,
          12300,
          12400,
          12500,
          12600,
          12700,
          12800,
          12900,
          13000,
          13100,
          13200,
          13300,
          13400,
          13500,
          13600,
          13700,
          13800,
          13900,
          14000,
          14100,
          14200,
          14300,
          14400,
          14500,
          14600,
          14700,
          14800,
          14900,
          15000,
          15100,
          15200,
          15300,
          15400,
          15500,
          15600,
          15700,
          15800,
          15900,
          16000,
          16100,
          16200,
          16300,
          16400,
          16500,
          16600,
          16700,
          16800,
          16900,
          17000,
          17100,
          17200,
          17300,
          17400,
          17500,
          17600,
          17700,
          17800,
          17900,
          18000,
          18100,
          18200,
          18300,
          18400,
          18500,
          18600,
          18700,
          18800,
          18900,
          19000,
          19100,
          19200,
          19300,
          19400,
          19500,
          19600,
          19700,
          19800,
          19900
         ],
         "y": [
          0.13363666783053316,
          0.2650685962624208,
          0.036145515149973516,
          0.07800075405583665,
          0.3181388266753064,
          0.24913751252212218,
          0.07711266362256426,
          0.17579349352527376,
          0.15621513725603212,
          0.229270915416951,
          0.08523868972127359,
          0.48055324788268,
          0.27222169594481893,
          0.506073467553896,
          0.579104911184482,
          0.3078432711369248,
          0.4105368208254989,
          0.6448288655672946,
          0.334044779870859,
          0.3696015198333545,
          0.6529349814973127,
          0.3135660566251081,
          0.6349117062883244,
          0.5809660891209727,
          0.6085351587359742,
          0.6318587880112565,
          0.6811538860280602,
          0.7279460146369738,
          0.6401287872631127,
          0.7913392636677357,
          0.6152147896416081,
          0.8339547402746283,
          0.7587490937790324,
          0.6762810791788612,
          0.7997390577956959,
          0.6833420915470775,
          0.0915117877340067,
          0.6847103783137465,
          0.7328334609480985,
          0.7436207977740532,
          0.7975770650048432,
          0.8024768513098475,
          0.8318625378824318,
          0.7145577683536737,
          0.7557291990469159,
          0.7960635347641395,
          0.8501960433875326,
          0.7980743848496595,
          0.8024121349713494,
          0.79132369942114,
          0.7450765866599091,
          0.7625957983598463,
          0.7602336170163599,
          0.8314833786563454,
          0.8813421116197525,
          0.8185319682664018,
          0.8523457043620721,
          0.7164486836856452,
          0.827123606459527,
          0.8515515885718349,
          0.8287710808876383,
          0.778587784740405,
          0.8469628022911779,
          0.7910137241559468,
          0.8238773982341665,
          0.8334642693678408,
          0.7590563965455287,
          0.879003253598732,
          0.8572600536376199,
          0.8336324342286128,
          0.8693260698327314,
          0.8405500368872887,
          0.8437441891214401,
          0.8060149056294439,
          0.8591694534504315,
          0.9022028697398934,
          0.8879039533534777,
          0.8296461130196802,
          0.879540486393545,
          0.9035417406309229,
          0.8222831121442294,
          0.8760218555365581,
          0.888880822508911,
          0.85836518463046,
          0.8574458579937769,
          0.8569891893884289,
          0.8623761463042676,
          0.9112032944875063,
          0.912664388461136,
          0.850923229929227,
          0.8804956220203214,
          0.9140777287257563,
          0.9002018046873445,
          0.9203552141429626,
          0.8715165321046856,
          0.909020464583632,
          0.8784389468749512,
          0.8707179703493749,
          0.8729397219694461,
          0.8860901238976601,
          0.8884358309263949,
          0.9099120145329487,
          0.9055917784479695,
          0.9037426581534354,
          0.9131249048139626,
          0.9237350559594656,
          0.9351692221483634,
          0.911183675114946,
          0.9177671217249408,
          0.8846416795106157,
          0.9370311297749816,
          0.9180838926762416,
          0.9177721561332436,
          0.9219794566025551,
          0.8965694412466301,
          0.9168893536946833,
          0.9144775238583136,
          0.9142920329409163,
          0.9198921997292782,
          0.8824477337170249,
          0.9177866621503892,
          0.9088071500700629,
          0.9378133109835157,
          0.9341857518380311,
          0.9161752353515845,
          0.9213556017501451,
          0.9165859847407869,
          0.8881589272586686,
          0.9493001458119709,
          0.9158276758498126,
          0.9058066025119653,
          0.9148620415603551,
          0.9166901647615249,
          0.936020274805711,
          0.9215693312214465,
          0.9349431028014031,
          0.9197933895513781,
          0.9227234649827818,
          0.9216794275688458,
          0.9326238975692452,
          0.9041923656647127,
          0.9102988783637606,
          0.9476185105431704,
          0.9325886016750127,
          0.9448399699888611,
          0.926751078526755,
          0.930826512437618,
          0.9351015920286275,
          0.9431133172534686,
          0.9442771706050095,
          0.9279489255160799,
          0.9361545037694404,
          0.9347317147581571,
          0.9518332078101079,
          0.9320645148286315,
          0.9436894017614641,
          0.9440506982800023,
          0.9484898306205791,
          0.9210617396697502,
          0.9196766314539498,
          0.948556083816805,
          0.9280566975808799,
          0.9379365525649992,
          0.9491799967526027,
          0.922255923514762,
          0.9355842606464717,
          0.9493846222046513,
          0.9351642620402602,
          0.948768759778135,
          0.9555910684255078,
          0.9333675037146042,
          0.9310842736969885,
          0.9577399138043856,
          0.9400142743873673,
          0.9441730344510635,
          0.9380374490579338,
          0.9491967479539152,
          0.9389705949604407,
          0.9421006966978984,
          0.9489024862927385,
          0.9417964400202328,
          0.941905240841517,
          0.95367272791168,
          0.9424743927359361,
          0.9420204453002117,
          0.951382607752808,
          0.9505161848067122,
          0.9600325864361179,
          0.9549909775964259,
          0.9379598524856625,
          0.9338856039300121,
          0.9553660392179604,
          0.9521998126802022,
          0.9468948871430566,
          0.950210970192809,
          0.9509837998458902,
          0.9429323572960295,
          0.9557676858032846,
          0.9346850126635758
         ]
        },
        {
         "mode": "lines+markers",
         "name": "alpha = 1",
         "type": "scatter",
         "x": [
          100,
          200,
          300,
          400,
          500,
          600,
          700,
          800,
          900,
          1000,
          1100,
          1200,
          1300,
          1400,
          1500,
          1600,
          1700,
          1800,
          1900,
          2000,
          2100,
          2200,
          2300,
          2400,
          2500,
          2600,
          2700,
          2800,
          2900,
          3000,
          3100,
          3200,
          3300,
          3400,
          3500,
          3600,
          3700,
          3800,
          3900,
          4000,
          4100,
          4200,
          4300,
          4400,
          4500,
          4600,
          4700,
          4800,
          4900,
          5000,
          5100,
          5200,
          5300,
          5400,
          5500,
          5600,
          5700,
          5800,
          5900,
          6000,
          6100,
          6200,
          6300,
          6400,
          6500,
          6600,
          6700,
          6800,
          6900,
          7000,
          7100,
          7200,
          7300,
          7400,
          7500,
          7600,
          7700,
          7800,
          7900,
          8000,
          8100,
          8200,
          8300,
          8400,
          8500,
          8600,
          8700,
          8800,
          8900,
          9000,
          9100,
          9200,
          9300,
          9400,
          9500,
          9600,
          9700,
          9800,
          9900,
          10000,
          10100,
          10200,
          10300,
          10400,
          10500,
          10600,
          10700,
          10800,
          10900,
          11000,
          11100,
          11200,
          11300,
          11400,
          11500,
          11600,
          11700,
          11800,
          11900,
          12000,
          12100,
          12200,
          12300,
          12400,
          12500,
          12600,
          12700,
          12800,
          12900,
          13000,
          13100,
          13200,
          13300,
          13400,
          13500,
          13600,
          13700,
          13800,
          13900,
          14000,
          14100,
          14200,
          14300,
          14400,
          14500,
          14600,
          14700,
          14800,
          14900,
          15000,
          15100,
          15200,
          15300,
          15400,
          15500,
          15600,
          15700,
          15800,
          15900,
          16000,
          16100,
          16200,
          16300,
          16400,
          16500,
          16600,
          16700,
          16800,
          16900,
          17000,
          17100,
          17200,
          17300,
          17400,
          17500,
          17600,
          17700,
          17800,
          17900,
          18000,
          18100,
          18200,
          18300,
          18400,
          18500,
          18600,
          18700,
          18800,
          18900,
          19000,
          19100,
          19200,
          19300,
          19400,
          19500,
          19600,
          19700,
          19800,
          19900
         ],
         "y": [
          0.2748753085732254,
          0.6231763979496113,
          0.7129366301371534,
          0.7850127102101204,
          0.7624071598878963,
          0.8337432751007734,
          0.8469202394979854,
          0.8857375481340446,
          0.876760875696775,
          0.9158293518851954,
          0.9182148642271921,
          0.9122488458190224,
          0.899923560021329,
          0.925433895488674,
          0.9447642081801519,
          0.9452684035554199,
          0.9421111200687248,
          0.9529094509256902,
          0.9525503195270852,
          0.9663706989340999,
          0.9489993695418333,
          0.9657950099696944,
          0.9473197852995958,
          0.9554539340711318,
          0.9570551384087753,
          0.9595627820857482,
          0.9512417487455638,
          0.9746325058902684,
          0.9684366587139562,
          0.9719848592155552,
          0.9584934784035735,
          0.9636168716816701,
          0.9628290901252193,
          0.968596021666157,
          0.9665417880135072,
          0.9772049335755416,
          0.9789431586870102,
          0.9740866663411575,
          0.9736904718162703,
          0.9710055359726463,
          0.9702901226783844,
          0.9787633668159419,
          0.9717897666519296,
          0.9819081403330012,
          0.9753064875825682,
          0.9822183240397767,
          0.9797418428552315,
          0.9782552031476386,
          0.9811044421141445,
          0.98485980392458,
          0.9829732372238701,
          0.9805236380775109,
          0.9809477182675904,
          0.982931868352351,
          0.9846510952851857,
          0.9810854530342468,
          0.9859049266512651,
          0.9788485543257203,
          0.9853119700092261,
          0.9844599791313802,
          0.9889951459156222,
          0.9841375982053847,
          0.9864573014342767,
          0.98871856383533,
          0.9855264537388078,
          0.9860875642752117,
          0.9835021529527629,
          0.9854674981697499,
          0.9885940805583189,
          0.9828166152378249,
          0.9819047008503075,
          0.986110950157245,
          0.9854643267142688,
          0.9874083222231751,
          0.9894758022548927,
          0.9879498182488027,
          0.9892839221204193,
          0.9877771145158993,
          0.9852504093918585,
          0.988594494765926,
          0.9894516274715699,
          0.9861121848477196,
          0.9869877524289499,
          0.9869205259361556,
          0.9858688305421925,
          0.9905318181765856,
          0.9910653055738899,
          0.9890450504475221,
          0.9871082549393451,
          0.9871004263447721,
          0.9859543298496634,
          0.9881917367515618,
          0.9892452252762638,
          0.9906149704422494,
          0.9890600730631908,
          0.9908231878176488,
          0.988923658726302,
          0.9915296031739306,
          0.9891111997776622,
          0.9917924858288251,
          0.9912433278552483,
          0.9910706337402767,
          0.9912499650689908,
          0.9903686835622345,
          0.9902156761835034,
          0.9902016679296414,
          0.9913565841375896,
          0.9929655974995977,
          0.9919988920451592,
          0.9902589110854828,
          0.9897056861316906,
          0.9919903002263152,
          0.9906778931403635,
          0.990779287547816,
          0.9912297224228669,
          0.9898727135770732,
          0.9913170669223519,
          0.9915578651778558,
          0.9921439245529275,
          0.9924148791185439,
          0.9940094137716478,
          0.9930573866101062,
          0.9934454224193655,
          0.9915654588228662,
          0.9917818803777568,
          0.9896029205732357,
          0.9932246506804103,
          0.991178465583299,
          0.9914890861796244,
          0.9923354792459606,
          0.9931977485532955,
          0.9918346647498028,
          0.9934116540038098,
          0.9926479154758748,
          0.9921667089608192,
          0.9943741409781583,
          0.9941944971759981,
          0.9914967106639575,
          0.9915109894294136,
          0.9928095238857589,
          0.9938024947203148,
          0.9931717882823425,
          0.9943750321711843,
          0.9949463986427556,
          0.9934430095606912,
          0.992990392793441,
          0.992708562393054,
          0.9932452327666373,
          0.9937287888419265,
          0.9923615099029934,
          0.9929876524141995,
          0.9941538606394383,
          0.9925273236582346,
          0.993869957094321,
          0.9947155757889198,
          0.9935758801749143,
          0.9937150839647784,
          0.9937400114739028,
          0.9951371204237233,
          0.9950811687035985,
          0.9936987158020203,
          0.9943333537425473,
          0.9946604467459711,
          0.9937965534509529,
          0.9934004845295176,
          0.9943299054837003,
          0.9933824954185976,
          0.9929377277677289,
          0.9939707688336654,
          0.9941041902920552,
          0.9946588205931226,
          0.9934081039677152,
          0.9950700862356308,
          0.9935960028104477,
          0.9938002951018785,
          0.9953321359401295,
          0.9953993421520345,
          0.9952075498634925,
          0.9939592516870881,
          0.993518174602181,
          0.995326679230435,
          0.9962200405001266,
          0.9949129777198805,
          0.9934514271414444,
          0.9947147095864208,
          0.9945902460440832,
          0.9953766215891949,
          0.9951915254021022,
          0.9954930809514042,
          0.9945866970950074,
          0.9952008586466847,
          0.9943476686473353,
          0.9952250792526008,
          0.9941379974466199,
          0.9957630592023394,
          0.9952669845124864,
          0.9957646206351088,
          0.995394064789026,
          0.9948750948300514
         ]
        },
        {
         "mode": "lines+markers",
         "name": "alpha = 1.5",
         "type": "scatter",
         "x": [
          100,
          200,
          300,
          400,
          500,
          600,
          700,
          800,
          900,
          1000,
          1100,
          1200,
          1300,
          1400,
          1500,
          1600,
          1700,
          1800,
          1900,
          2000,
          2100,
          2200,
          2300,
          2400,
          2500,
          2600,
          2700,
          2800,
          2900,
          3000,
          3100,
          3200,
          3300,
          3400,
          3500,
          3600,
          3700,
          3800,
          3900,
          4000,
          4100,
          4200,
          4300,
          4400,
          4500,
          4600,
          4700,
          4800,
          4900,
          5000,
          5100,
          5200,
          5300,
          5400,
          5500,
          5600,
          5700,
          5800,
          5900,
          6000,
          6100,
          6200,
          6300,
          6400,
          6500,
          6600,
          6700,
          6800,
          6900,
          7000,
          7100,
          7200,
          7300,
          7400,
          7500,
          7600,
          7700,
          7800,
          7900,
          8000,
          8100,
          8200,
          8300,
          8400,
          8500,
          8600,
          8700,
          8800,
          8900,
          9000,
          9100,
          9200,
          9300,
          9400,
          9500,
          9600,
          9700,
          9800,
          9900,
          10000,
          10100,
          10200,
          10300,
          10400,
          10500,
          10600,
          10700,
          10800,
          10900,
          11000,
          11100,
          11200,
          11300,
          11400,
          11500,
          11600,
          11700,
          11800,
          11900,
          12000,
          12100,
          12200,
          12300,
          12400,
          12500,
          12600,
          12700,
          12800,
          12900,
          13000,
          13100,
          13200,
          13300,
          13400,
          13500,
          13600,
          13700,
          13800,
          13900,
          14000,
          14100,
          14200,
          14300,
          14400,
          14500,
          14600,
          14700,
          14800,
          14900,
          15000,
          15100,
          15200,
          15300,
          15400,
          15500,
          15600,
          15700,
          15800,
          15900,
          16000,
          16100,
          16200,
          16300,
          16400,
          16500,
          16600,
          16700,
          16800,
          16900,
          17000,
          17100,
          17200,
          17300,
          17400,
          17500,
          17600,
          17700,
          17800,
          17900,
          18000,
          18100,
          18200,
          18300,
          18400,
          18500,
          18600,
          18700,
          18800,
          18900,
          19000,
          19100,
          19200,
          19300,
          19400,
          19500,
          19600,
          19700,
          19800,
          19900
         ],
         "y": [
          0.6709061428327457,
          0.8164334393188817,
          0.9233104855017136,
          0.91801972988979,
          0.9445599566614121,
          0.9537373392859239,
          0.9547292689778285,
          0.9573970949238185,
          0.9590408652946566,
          0.9758823886164403,
          0.9718303239018321,
          0.9725949951142574,
          0.9795721128463102,
          0.9750645944597878,
          0.9846801027155088,
          0.9807914593737767,
          0.9838436456142478,
          0.9886753405618571,
          0.9866577851103512,
          0.9860385664814174,
          0.9856157737936507,
          0.9881704414632866,
          0.9882638159515288,
          0.9877660636443791,
          0.989048072258283,
          0.9878228219902618,
          0.9873558556735899,
          0.988017759541214,
          0.9903892438125473,
          0.9881232349380543,
          0.9905183349873137,
          0.9901245422935343,
          0.9898728145115827,
          0.9922276126002741,
          0.9895786985825226,
          0.9919329676083243,
          0.9930594974707878,
          0.9927015342130314,
          0.9924875640779685,
          0.9920906625263605,
          0.9903480843830469,
          0.9928800806320734,
          0.9915528864529564,
          0.9927565228346271,
          0.9912108692274004,
          0.9928319429195959,
          0.9931536833968355,
          0.9925529540358606,
          0.9941311896263464,
          0.9941096901646197,
          0.995056721066411,
          0.9930243040003965,
          0.9942013087091679,
          0.994661914892286,
          0.9937604322284787,
          0.9948533545174129,
          0.9939443937775234,
          0.9959151200246307,
          0.9946966891085834,
          0.9946672102378025,
          0.9949380233445684,
          0.9949680273739242,
          0.9947428875764887,
          0.995268836977606,
          0.9965812537585502,
          0.9957155614180612,
          0.9945251460273803,
          0.9957179210323462,
          0.9952805346029451,
          0.995127626407718,
          0.9950166795493406,
          0.9957216340730205,
          0.9953190952545458,
          0.9959237963587063,
          0.9954591570919832,
          0.9960588298108202,
          0.9961267589045735,
          0.9955350905563726,
          0.9960598629190229,
          0.9957769879734385,
          0.9962396571370731,
          0.9964550571219077,
          0.9961093044758781,
          0.9963433331526712,
          0.9971874317925934,
          0.9964143218651662,
          0.9958838899085144,
          0.9970525697150624,
          0.9958399331738172,
          0.9962067024254098,
          0.9967317280833548,
          0.9965623890280279,
          0.9960098969507232,
          0.9971581927014909,
          0.995879437708569,
          0.9963063526636524,
          0.9969283320847,
          0.9964510495879406,
          0.9972893343053904,
          0.996671257586984,
          0.997614794059038,
          0.9975103261382606,
          0.9969087231136962,
          0.9966139247079447,
          0.9962538859938024,
          0.9975014900288623,
          0.9975891363984295,
          0.9972903756601248,
          0.9971019218857939,
          0.9967450800136911,
          0.9970665498000206,
          0.9973309951575727,
          0.9975899150086276,
          0.9965257779054184,
          0.9975495072309059,
          0.997062492290541,
          0.9972589117053535,
          0.9972673735148644,
          0.996590943156232,
          0.9976373526054211,
          0.9976065113047926,
          0.9971988760726709,
          0.9976834663738918,
          0.997239052433992,
          0.9975747424102396,
          0.9974343094127065,
          0.9974934010428884,
          0.9978274486066804,
          0.9972857829130797,
          0.9974489586065841,
          0.9975621609570425,
          0.9977157893229776,
          0.9979932128285894,
          0.9978842953511169,
          0.9977268978473989,
          0.9975781607359567,
          0.997924153586588,
          0.9975887971215395,
          0.9977908997409695,
          0.9983007432155847,
          0.9975941964486655,
          0.9979929304092707,
          0.9978136749058278,
          0.9978180326614243,
          0.9975756279635637,
          0.9977789193459092,
          0.9974321673085625,
          0.9982994339094714,
          0.9980959832719168,
          0.9980549368427118,
          0.9972058400410994,
          0.9975683357106024,
          0.9981422771723003,
          0.9979019974594063,
          0.9976748999151575,
          0.9982340489397364,
          0.9979288288466349,
          0.997994009876615,
          0.9981903207686585,
          0.9980836851336236,
          0.9978458451837394,
          0.9979042125995676,
          0.998308594907931,
          0.9979322112025973,
          0.9982892825384067,
          0.9979745058119527,
          0.9985018600002313,
          0.9982048383547898,
          0.9985776993380402,
          0.9980947605957311,
          0.9980600855892214,
          0.998590051789679,
          0.9981750357807612,
          0.9980464365878677,
          0.9980897890028352,
          0.9984671913606972,
          0.99836982243344,
          0.9984350682128312,
          0.9980968696320182,
          0.9982797170696638,
          0.9979144938437883,
          0.9983872669914625,
          0.9983869604927554,
          0.9983917719592218,
          0.9980699898865948,
          0.9983061770494125,
          0.9986021047885022,
          0.9980539659107286,
          0.9984389376880815,
          0.9985166656787999,
          0.9977125338464767,
          0.9983064015424674,
          0.9982167777845433,
          0.9983141506127509,
          0.9981251207236334,
          0.9982546496674353,
          0.9986872195543525,
          0.9981130553202026,
          0.9986322851905615
         ]
        },
        {
         "mode": "lines+markers",
         "name": "alpha = 2",
         "type": "scatter",
         "x": [
          100,
          200,
          300,
          400,
          500,
          600,
          700,
          800,
          900,
          1000,
          1100,
          1200,
          1300,
          1400,
          1500,
          1600,
          1700,
          1800,
          1900,
          2000,
          2100,
          2200,
          2300,
          2400,
          2500,
          2600,
          2700,
          2800,
          2900,
          3000,
          3100,
          3200,
          3300,
          3400,
          3500,
          3600,
          3700,
          3800,
          3900,
          4000,
          4100,
          4200,
          4300,
          4400,
          4500,
          4600,
          4700,
          4800,
          4900,
          5000,
          5100,
          5200,
          5300,
          5400,
          5500,
          5600,
          5700,
          5800,
          5900,
          6000,
          6100,
          6200,
          6300,
          6400,
          6500,
          6600,
          6700,
          6800,
          6900,
          7000,
          7100,
          7200,
          7300,
          7400,
          7500,
          7600,
          7700,
          7800,
          7900,
          8000,
          8100,
          8200,
          8300,
          8400,
          8500,
          8600,
          8700,
          8800,
          8900,
          9000,
          9100,
          9200,
          9300,
          9400,
          9500,
          9600,
          9700,
          9800,
          9900,
          10000,
          10100,
          10200,
          10300,
          10400,
          10500,
          10600,
          10700,
          10800,
          10900,
          11000,
          11100,
          11200,
          11300,
          11400,
          11500,
          11600,
          11700,
          11800,
          11900,
          12000,
          12100,
          12200,
          12300,
          12400,
          12500,
          12600,
          12700,
          12800,
          12900,
          13000,
          13100,
          13200,
          13300,
          13400,
          13500,
          13600,
          13700,
          13800,
          13900,
          14000,
          14100,
          14200,
          14300,
          14400,
          14500,
          14600,
          14700,
          14800,
          14900,
          15000,
          15100,
          15200,
          15300,
          15400,
          15500,
          15600,
          15700,
          15800,
          15900,
          16000,
          16100,
          16200,
          16300,
          16400,
          16500,
          16600,
          16700,
          16800,
          16900,
          17000,
          17100,
          17200,
          17300,
          17400,
          17500,
          17600,
          17700,
          17800,
          17900,
          18000,
          18100,
          18200,
          18300,
          18400,
          18500,
          18600,
          18700,
          18800,
          18900,
          19000,
          19100,
          19200,
          19300,
          19400,
          19500,
          19600,
          19700,
          19800,
          19900
         ],
         "y": [
          0.8780315194880975,
          0.9276607769959757,
          0.9553676198046195,
          0.9637100317798192,
          0.9704820060946846,
          0.9802638178386468,
          0.9747277035712274,
          0.9803363611942223,
          0.9826216364724758,
          0.9867688384931405,
          0.98774452377752,
          0.986985731821788,
          0.9898503412573383,
          0.9903551573150187,
          0.9887334034247068,
          0.9923620699345813,
          0.9907300000215488,
          0.9902044134318394,
          0.992929606211435,
          0.9935441213034234,
          0.9931989887487783,
          0.9937138621818078,
          0.9943172021058433,
          0.9941065633172368,
          0.9939186691501051,
          0.9932372465834424,
          0.9954368445620632,
          0.9938552063394028,
          0.9951262485294353,
          0.9954694745180158,
          0.9941625390665664,
          0.9961083239890951,
          0.9946847893174897,
          0.9952463141509604,
          0.9961026023859999,
          0.994956740612141,
          0.9959933934197883,
          0.9954620037213099,
          0.9952189872751623,
          0.9951361517427433,
          0.9965345295870012,
          0.9964768291215763,
          0.9970627975048826,
          0.9962048775321258,
          0.9965289526433295,
          0.9963152683355369,
          0.9966879235906451,
          0.9974108975351078,
          0.9974309673150142,
          0.9961065491081373,
          0.9961345591833645,
          0.9970727481031221,
          0.9971480316455847,
          0.9975567128100279,
          0.9970975635648335,
          0.997670570385497,
          0.9973718660067767,
          0.9969444669210301,
          0.9978079834140222,
          0.997711481838891,
          0.9973483119201506,
          0.9966920224016501,
          0.9976378009979248,
          0.9976059888947267,
          0.997459617681717,
          0.9977122679588455,
          0.9979796594943049,
          0.9975383947279631,
          0.9976281236362742,
          0.9980258796163574,
          0.998205974523139,
          0.9984342937554538,
          0.9978632250624329,
          0.9979375774481976,
          0.9978336644063284,
          0.9982226477010624,
          0.9982357681490008,
          0.9978407136624529,
          0.9981511800914191,
          0.9981990729164184,
          0.9986075661635638,
          0.9982243081864778,
          0.9984112870958826,
          0.9978619416396102,
          0.998327477581418,
          0.9979687543315069,
          0.9983094161494909,
          0.99802264756698,
          0.9982024488343938,
          0.9983588796126903,
          0.9979722296649344,
          0.9985519805834283,
          0.9985444380612009,
          0.9982380418754276,
          0.9989896568190287,
          0.9983555604671618,
          0.9982859289823827,
          0.9987081467597201,
          0.9987281209154115,
          0.9985936190715791,
          0.9983889723626319,
          0.9982452520863487,
          0.9985509637769046,
          0.9987754018838678,
          0.998173570404354,
          0.9987498081726681,
          0.998413632912777,
          0.9986306719358782,
          0.9988158489904752,
          0.9987876640068728,
          0.9984231458556683,
          0.9988800200253668,
          0.9986044050361501,
          0.9983934161644532,
          0.998431223198945,
          0.9982277848882477,
          0.9988839123849999,
          0.998532218229714,
          0.9988281720595378,
          0.9987785058124238,
          0.9989795752745649,
          0.9989500276094125,
          0.9989589541907671,
          0.9984846915901885,
          0.998909052776426,
          0.9987309693862974,
          0.9987545638458136,
          0.9989381383503922,
          0.998929948622415,
          0.9987472460811901,
          0.9988644266942834,
          0.9989819636988369,
          0.9987768945900333,
          0.9989206596748563,
          0.9985151611366252,
          0.998659500625422,
          0.9989650210381137,
          0.9990146222360187,
          0.9991321058477352,
          0.9988174966867337,
          0.9989547206181403,
          0.9989247858080601,
          0.9990263228719779,
          0.9988905747905612,
          0.9987991143477963,
          0.9990137432788796,
          0.9989852271741031,
          0.9986693487703122,
          0.9989129347808804,
          0.9990068538575814,
          0.9990726793068768,
          0.999055467778988,
          0.9990331959403109,
          0.9988882084014388,
          0.9990423669817458,
          0.9990731250958538,
          0.9988976616552717,
          0.9990887579008362,
          0.9990864113789285,
          0.9990892914224072,
          0.9990349136185567,
          0.9991689242352795,
          0.9991226567926916,
          0.9991748496857003,
          0.9989653922868033,
          0.9992519902970044,
          0.9988196230518925,
          0.9989203085843597,
          0.9987916278530713,
          0.9988384709661347,
          0.9991014485158932,
          0.9991106199824766,
          0.999032328096266,
          0.9991424744879808,
          0.9992999184567675,
          0.9990199526571077,
          0.9994494862311073,
          0.9992866303049808,
          0.9990380761654608,
          0.999345503723713,
          0.999142117122031,
          0.9992342647475121,
          0.998987318591451,
          0.9992698121384676,
          0.9990649208606247,
          0.9991448958670057,
          0.9991670973684345,
          0.9989723053467777,
          0.9992692801657562,
          0.9992196770940709,
          0.9992544418578031,
          0.9993399346187524,
          0.9991203874189601,
          0.9992525732927245,
          0.9991581275102763,
          0.9990558581484462,
          0.9991189871630157,
          0.999279115733101,
          0.9993830733691107
         ]
        },
        {
         "mode": "lines+markers",
         "name": "alpha = 2.5",
         "type": "scatter",
         "x": [
          100,
          200,
          300,
          400,
          500,
          600,
          700,
          800,
          900,
          1000,
          1100,
          1200,
          1300,
          1400,
          1500,
          1600,
          1700,
          1800,
          1900,
          2000,
          2100,
          2200,
          2300,
          2400,
          2500,
          2600,
          2700,
          2800,
          2900,
          3000,
          3100,
          3200,
          3300,
          3400,
          3500,
          3600,
          3700,
          3800,
          3900,
          4000,
          4100,
          4200,
          4300,
          4400,
          4500,
          4600,
          4700,
          4800,
          4900,
          5000,
          5100,
          5200,
          5300,
          5400,
          5500,
          5600,
          5700,
          5800,
          5900,
          6000,
          6100,
          6200,
          6300,
          6400,
          6500,
          6600,
          6700,
          6800,
          6900,
          7000,
          7100,
          7200,
          7300,
          7400,
          7500,
          7600,
          7700,
          7800,
          7900,
          8000,
          8100,
          8200,
          8300,
          8400,
          8500,
          8600,
          8700,
          8800,
          8900,
          9000,
          9100,
          9200,
          9300,
          9400,
          9500,
          9600,
          9700,
          9800,
          9900,
          10000,
          10100,
          10200,
          10300,
          10400,
          10500,
          10600,
          10700,
          10800,
          10900,
          11000,
          11100,
          11200,
          11300,
          11400,
          11500,
          11600,
          11700,
          11800,
          11900,
          12000,
          12100,
          12200,
          12300,
          12400,
          12500,
          12600,
          12700,
          12800,
          12900,
          13000,
          13100,
          13200,
          13300,
          13400,
          13500,
          13600,
          13700,
          13800,
          13900,
          14000,
          14100,
          14200,
          14300,
          14400,
          14500,
          14600,
          14700,
          14800,
          14900,
          15000,
          15100,
          15200,
          15300,
          15400,
          15500,
          15600,
          15700,
          15800,
          15900,
          16000,
          16100,
          16200,
          16300,
          16400,
          16500,
          16600,
          16700,
          16800,
          16900,
          17000,
          17100,
          17200,
          17300,
          17400,
          17500,
          17600,
          17700,
          17800,
          17900,
          18000,
          18100,
          18200,
          18300,
          18400,
          18500,
          18600,
          18700,
          18800,
          18900,
          19000,
          19100,
          19200,
          19300,
          19400,
          19500,
          19600,
          19700,
          19800,
          19900
         ],
         "y": [
          0.9365429011464794,
          0.9638946696636419,
          0.971433803133394,
          0.9848372124192406,
          0.9790908484918056,
          0.9856677648195025,
          0.9876304102004694,
          0.9837077493253809,
          0.9890003940679791,
          0.9905256505834649,
          0.992568766968255,
          0.9923818993917781,
          0.9942804619089146,
          0.9937969922622538,
          0.9934930769155288,
          0.9937563692955605,
          0.9934232114549435,
          0.9965626269725492,
          0.9946169343446329,
          0.9949333872105863,
          0.9949640187224861,
          0.9969475430734237,
          0.9964818148926201,
          0.9965871896334483,
          0.9957801704428947,
          0.996718115906909,
          0.9970739368696718,
          0.996875196011534,
          0.9963327825267951,
          0.9965353192897813,
          0.9972368818432595,
          0.9962205193714119,
          0.9977224586763124,
          0.9976327200536642,
          0.9969106576039536,
          0.9981107670909567,
          0.9974182883745145,
          0.9968095356983377,
          0.997245529725287,
          0.9979326538389068,
          0.9968931605813716,
          0.9977373313372605,
          0.9979002387082148,
          0.9978250772499653,
          0.9976885954892613,
          0.9977385797900933,
          0.9979051274059375,
          0.9981543135555216,
          0.9983339040203653,
          0.9980565749096136,
          0.9980622581101914,
          0.9983069991809715,
          0.9985454487505806,
          0.9983233673046894,
          0.9981406195953648,
          0.9982634695392912,
          0.9984776035006954,
          0.9985272993564577,
          0.9982425440584242,
          0.9986012453588847,
          0.9983539132235849,
          0.9987388266472788,
          0.9984691294573576,
          0.9988150676904308,
          0.9985084448175501,
          0.9985880258291585,
          0.9986272561269742,
          0.9988509241870137,
          0.9988334764858104,
          0.9985028220368773,
          0.9988521801407066,
          0.9986614797847099,
          0.9988163592863347,
          0.9986283470971107,
          0.9988848065204529,
          0.9989437092254594,
          0.9988366406197139,
          0.9987715923134888,
          0.9985496260587474,
          0.998762039745783,
          0.9988211421983546,
          0.9992052648740681,
          0.998569615161539,
          0.9990219034610105,
          0.9990378066874722,
          0.9992619263274378,
          0.9987496262980357,
          0.9988891666700229,
          0.9990650517748587,
          0.9990421680411338,
          0.998931666671313,
          0.999208780470424,
          0.9989533084589152,
          0.9991162846478921,
          0.9990937930058368,
          0.9989741569610651,
          0.9986844601778208,
          0.9990078469947704,
          0.9989222482062442,
          0.9989643227672564,
          0.9989905439457698,
          0.9992906911445829,
          0.9992204607266864,
          0.999215447472839,
          0.9993189565734214,
          0.9992519377243949,
          0.9992021100822179,
          0.9990461798791529,
          0.9992206984128772,
          0.9991660192866532,
          0.9990883022977463,
          0.9990184289888591,
          0.9992571561180841,
          0.9993514937983088,
          0.9992330075941167,
          0.9992152342030092,
          0.9992976032291058,
          0.9992147373635646,
          0.9992739461416916,
          0.9991056976655848,
          0.9993956650433353,
          0.9992309112019522,
          0.9992523284857696,
          0.9991433403608164,
          0.9993704931457825,
          0.9992640561846436,
          0.9993552648993705,
          0.998986199962924,
          0.9993638181016274,
          0.9994253895400186,
          0.9992461657211947,
          0.9993338056380202,
          0.9993927373861695,
          0.9993140430643767,
          0.9993648163762507,
          0.9994260912681243,
          0.9994831858882139,
          0.9993847096237277,
          0.9994150375721567,
          0.9995479419674945,
          0.9993405873803156,
          0.9993465003224903,
          0.9992832817848356,
          0.9995088917329898,
          0.9994605354500959,
          0.999417046157234,
          0.9994106152841161,
          0.9994732457743368,
          0.9993824232318441,
          0.9994487483250876,
          0.9993883735944354,
          0.9994322541710098,
          0.999241883952647,
          0.9995802919862709,
          0.9993757081007985,
          0.9994042788169938,
          0.999374763584873,
          0.999410476551864,
          0.9994611924138648,
          0.9993190209436693,
          0.9994606418048311,
          0.999487584619284,
          0.9994851793215187,
          0.9993041669994172,
          0.9993119845136317,
          0.999421902459627,
          0.9996192887219938,
          0.9993882299828416,
          0.9994812814395209,
          0.9994799970222045,
          0.9994778325116374,
          0.9995343214384877,
          0.9993836195338861,
          0.9993427378460157,
          0.9994447141891507,
          0.9994280287247019,
          0.9994876242520664,
          0.9994040413461707,
          0.9994207078103864,
          0.9995143950518491,
          0.9995477434755684,
          0.9994274584945465,
          0.999473404628847,
          0.9995830757787173,
          0.9994672953464944,
          0.999572080544738,
          0.9996348290346323,
          0.9993707319829869,
          0.9995486759244935,
          0.9995759822057235,
          0.9994769552259695,
          0.9995962335731318,
          0.9994773171282871,
          0.9996091109049301,
          0.9996210816272434,
          0.999523785846877,
          0.9994508587106128,
          0.9995708750874007,
          0.9995697595924928
         ]
        },
        {
         "mode": "lines+markers",
         "name": "alpha = 3",
         "type": "scatter",
         "x": [
          100,
          200,
          300,
          400,
          500,
          600,
          700,
          800,
          900,
          1000,
          1100,
          1200,
          1300,
          1400,
          1500,
          1600,
          1700,
          1800,
          1900,
          2000,
          2100,
          2200,
          2300,
          2400,
          2500,
          2600,
          2700,
          2800,
          2900,
          3000,
          3100,
          3200,
          3300,
          3400,
          3500,
          3600,
          3700,
          3800,
          3900,
          4000,
          4100,
          4200,
          4300,
          4400,
          4500,
          4600,
          4700,
          4800,
          4900,
          5000,
          5100,
          5200,
          5300,
          5400,
          5500,
          5600,
          5700,
          5800,
          5900,
          6000,
          6100,
          6200,
          6300,
          6400,
          6500,
          6600,
          6700,
          6800,
          6900,
          7000,
          7100,
          7200,
          7300,
          7400,
          7500,
          7600,
          7700,
          7800,
          7900,
          8000,
          8100,
          8200,
          8300,
          8400,
          8500,
          8600,
          8700,
          8800,
          8900,
          9000,
          9100,
          9200,
          9300,
          9400,
          9500,
          9600,
          9700,
          9800,
          9900,
          10000,
          10100,
          10200,
          10300,
          10400,
          10500,
          10600,
          10700,
          10800,
          10900,
          11000,
          11100,
          11200,
          11300,
          11400,
          11500,
          11600,
          11700,
          11800,
          11900,
          12000,
          12100,
          12200,
          12300,
          12400,
          12500,
          12600,
          12700,
          12800,
          12900,
          13000,
          13100,
          13200,
          13300,
          13400,
          13500,
          13600,
          13700,
          13800,
          13900,
          14000,
          14100,
          14200,
          14300,
          14400,
          14500,
          14600,
          14700,
          14800,
          14900,
          15000,
          15100,
          15200,
          15300,
          15400,
          15500,
          15600,
          15700,
          15800,
          15900,
          16000,
          16100,
          16200,
          16300,
          16400,
          16500,
          16600,
          16700,
          16800,
          16900,
          17000,
          17100,
          17200,
          17300,
          17400,
          17500,
          17600,
          17700,
          17800,
          17900,
          18000,
          18100,
          18200,
          18300,
          18400,
          18500,
          18600,
          18700,
          18800,
          18900,
          19000,
          19100,
          19200,
          19300,
          19400,
          19500,
          19600,
          19700,
          19800,
          19900
         ],
         "y": [
          0.9413953398477682,
          0.9667244118450149,
          0.978223143893651,
          0.9827962607903937,
          0.9877761153279017,
          0.9915521750980463,
          0.9914035898706522,
          0.9926177253877316,
          0.9940112300715567,
          0.9946673276415677,
          0.9946936405216954,
          0.9946736401038908,
          0.9947319060471344,
          0.9964680575264766,
          0.9965986901459969,
          0.9962111354007664,
          0.9962127244490658,
          0.9964643263298555,
          0.9972421060005355,
          0.9975655207059706,
          0.9972449276645977,
          0.9972649453459828,
          0.9979672544825218,
          0.9978709670077088,
          0.9978569572019274,
          0.9982123095637766,
          0.9970182877811508,
          0.9971136432962562,
          0.9981856795627042,
          0.9981450492994024,
          0.9984072184723403,
          0.9976244813003562,
          0.9978685732057476,
          0.9979453240849079,
          0.9986569388887413,
          0.9980416563137066,
          0.9981709606305906,
          0.9983538514295917,
          0.9983123360509422,
          0.9984900380618585,
          0.998282663173292,
          0.9985422020873184,
          0.9988196355850572,
          0.9986193303598851,
          0.9986759533281175,
          0.9986549614679507,
          0.9986196736766049,
          0.9984166798220053,
          0.9987850000027512,
          0.998787822418174,
          0.9989536266602537,
          0.9988293850628551,
          0.998518902038505,
          0.9990436396508968,
          0.9989735742082644,
          0.999023825949119,
          0.9987509724927397,
          0.9989853993292742,
          0.9987667934172633,
          0.9989749781342185,
          0.999187301542745,
          0.9991157102182269,
          0.9990424934448983,
          0.9989741269986465,
          0.9989651502588478,
          0.9990252001760945,
          0.9989241553221446,
          0.9989878130781897,
          0.9991590050538891,
          0.999118020662465,
          0.9992262044159063,
          0.9991081201168825,
          0.999375578233837,
          0.9990019626645823,
          0.9992274539363313,
          0.9991709414849722,
          0.9990783582711069,
          0.9991362740485946,
          0.9991537863437182,
          0.9992410436456488,
          0.9992645398910459,
          0.9991633231429947,
          0.999298219297035,
          0.9995125553617715,
          0.9992185821874655,
          0.9993355660368931,
          0.9992974156658133,
          0.9992811529434577,
          0.9993320225275644,
          0.9993562971302625,
          0.9994785273614495,
          0.9994439241085181,
          0.9992885647648947,
          0.9993159811491222,
          0.99953692821681,
          0.9994001609980864,
          0.9992858976362968,
          0.9993310361771186,
          0.9993678304534437,
          0.9994101369781343,
          0.9995273618796102,
          0.9994611531371053,
          0.9994101915517785,
          0.9992982075389607,
          0.9994086353019893,
          0.9992693239119477,
          0.9993000268974093,
          0.9994146568270476,
          0.9994664707064371,
          0.9994557133652441,
          0.999417372835348,
          0.999379428288952,
          0.9993355137275333,
          0.9992739520784891,
          0.9995955356863588,
          0.9994829578112457,
          0.9994358719074266,
          0.9995616390042151,
          0.9995052293903786,
          0.9994491706191507,
          0.9994520344893659,
          0.9994067372662251,
          0.9994775037740479,
          0.9995433625048179,
          0.9995500727267018,
          0.9995804584410509,
          0.9993967199896266,
          0.9994951267482337,
          0.999637599703053,
          0.999503318996622,
          0.9995513126325996,
          0.9996356025162348,
          0.9995121486813532,
          0.9995557741160298,
          0.9995340495022078,
          0.999598144123305,
          0.9995307149364668,
          0.9995760372596952,
          0.9996206631362884,
          0.9995529745864336,
          0.999644042001618,
          0.9994767485274824,
          0.999557498084004,
          0.9996524446776476,
          0.9996010807793321,
          0.9996730720118793,
          0.9994996544404419,
          0.9995458162042501,
          0.999597189862256,
          0.9995081657243172,
          0.9995176519749,
          0.9996331671004128,
          0.9995435124291093,
          0.9996391470245798,
          0.9996682923496649,
          0.999572582466891,
          0.9996037837319109,
          0.99965008447427,
          0.9995476045680035,
          0.9996104310929858,
          0.9995942571584895,
          0.999726961843004,
          0.9996643424421102,
          0.9996396667986233,
          0.999684586796106,
          0.9996633117390833,
          0.9996639876377361,
          0.9995528587489453,
          0.9996880876773282,
          0.9996668466030451,
          0.9996009649423346,
          0.9996775163826864,
          0.999552236001759,
          0.9996717182014976,
          0.9996014254806603,
          0.999661005693354,
          0.9997169480359626,
          0.9997371446608811,
          0.9997301691807476,
          0.9995268291775242,
          0.9996720793037738,
          0.9995753824416166,
          0.9996340479717268,
          0.999697480994381,
          0.9996782688978608,
          0.9997287355950166,
          0.9996628419682274,
          0.9996648104218633,
          0.9997232676465243,
          0.9996590410044034,
          0.9997264491959912,
          0.9997331525958115,
          0.9996450767579873,
          0.9996565993181664,
          0.9997350336912697,
          0.9997246969731476,
          0.9997015017866607,
          0.9996453094783027,
          0.9997413200610816
         ]
        }
       ],
       "layout": {
        "annotations": [
         {
          "showarrow": false,
          "text": "Corr = 1",
          "x": 0,
          "xanchor": "left",
          "xref": "x domain",
          "y": 1,
          "yanchor": "bottom",
          "yref": "y"
         }
        ],
        "height": 500,
        "legend": {
         "title": {
          "text": "Valeurs de alpha"
         }
        },
        "shapes": [
         {
          "line": {
           "color": "red",
           "dash": "dot"
          },
          "type": "line",
          "x0": 0,
          "x1": 1,
          "xref": "x domain",
          "y0": 1,
          "y1": 1,
          "yref": "y"
         }
        ],
        "template": {
         "data": {
          "bar": [
           {
            "error_x": {
             "color": "#2a3f5f"
            },
            "error_y": {
             "color": "#2a3f5f"
            },
            "marker": {
             "line": {
              "color": "#E5ECF6",
              "width": 0.5
             },
             "pattern": {
              "fillmode": "overlay",
              "size": 10,
              "solidity": 0.2
             }
            },
            "type": "bar"
           }
          ],
          "barpolar": [
           {
            "marker": {
             "line": {
              "color": "#E5ECF6",
              "width": 0.5
             },
             "pattern": {
              "fillmode": "overlay",
              "size": 10,
              "solidity": 0.2
             }
            },
            "type": "barpolar"
           }
          ],
          "carpet": [
           {
            "aaxis": {
             "endlinecolor": "#2a3f5f",
             "gridcolor": "white",
             "linecolor": "white",
             "minorgridcolor": "white",
             "startlinecolor": "#2a3f5f"
            },
            "baxis": {
             "endlinecolor": "#2a3f5f",
             "gridcolor": "white",
             "linecolor": "white",
             "minorgridcolor": "white",
             "startlinecolor": "#2a3f5f"
            },
            "type": "carpet"
           }
          ],
          "choropleth": [
           {
            "colorbar": {
             "outlinewidth": 0,
             "ticks": ""
            },
            "type": "choropleth"
           }
          ],
          "contour": [
           {
            "colorbar": {
             "outlinewidth": 0,
             "ticks": ""
            },
            "colorscale": [
             [
              0,
              "#0d0887"
             ],
             [
              0.1111111111111111,
              "#46039f"
             ],
             [
              0.2222222222222222,
              "#7201a8"
             ],
             [
              0.3333333333333333,
              "#9c179e"
             ],
             [
              0.4444444444444444,
              "#bd3786"
             ],
             [
              0.5555555555555556,
              "#d8576b"
             ],
             [
              0.6666666666666666,
              "#ed7953"
             ],
             [
              0.7777777777777778,
              "#fb9f3a"
             ],
             [
              0.8888888888888888,
              "#fdca26"
             ],
             [
              1,
              "#f0f921"
             ]
            ],
            "type": "contour"
           }
          ],
          "contourcarpet": [
           {
            "colorbar": {
             "outlinewidth": 0,
             "ticks": ""
            },
            "type": "contourcarpet"
           }
          ],
          "heatmap": [
           {
            "colorbar": {
             "outlinewidth": 0,
             "ticks": ""
            },
            "colorscale": [
             [
              0,
              "#0d0887"
             ],
             [
              0.1111111111111111,
              "#46039f"
             ],
             [
              0.2222222222222222,
              "#7201a8"
             ],
             [
              0.3333333333333333,
              "#9c179e"
             ],
             [
              0.4444444444444444,
              "#bd3786"
             ],
             [
              0.5555555555555556,
              "#d8576b"
             ],
             [
              0.6666666666666666,
              "#ed7953"
             ],
             [
              0.7777777777777778,
              "#fb9f3a"
             ],
             [
              0.8888888888888888,
              "#fdca26"
             ],
             [
              1,
              "#f0f921"
             ]
            ],
            "type": "heatmap"
           }
          ],
          "heatmapgl": [
           {
            "colorbar": {
             "outlinewidth": 0,
             "ticks": ""
            },
            "colorscale": [
             [
              0,
              "#0d0887"
             ],
             [
              0.1111111111111111,
              "#46039f"
             ],
             [
              0.2222222222222222,
              "#7201a8"
             ],
             [
              0.3333333333333333,
              "#9c179e"
             ],
             [
              0.4444444444444444,
              "#bd3786"
             ],
             [
              0.5555555555555556,
              "#d8576b"
             ],
             [
              0.6666666666666666,
              "#ed7953"
             ],
             [
              0.7777777777777778,
              "#fb9f3a"
             ],
             [
              0.8888888888888888,
              "#fdca26"
             ],
             [
              1,
              "#f0f921"
             ]
            ],
            "type": "heatmapgl"
           }
          ],
          "histogram": [
           {
            "marker": {
             "pattern": {
              "fillmode": "overlay",
              "size": 10,
              "solidity": 0.2
             }
            },
            "type": "histogram"
           }
          ],
          "histogram2d": [
           {
            "colorbar": {
             "outlinewidth": 0,
             "ticks": ""
            },
            "colorscale": [
             [
              0,
              "#0d0887"
             ],
             [
              0.1111111111111111,
              "#46039f"
             ],
             [
              0.2222222222222222,
              "#7201a8"
             ],
             [
              0.3333333333333333,
              "#9c179e"
             ],
             [
              0.4444444444444444,
              "#bd3786"
             ],
             [
              0.5555555555555556,
              "#d8576b"
             ],
             [
              0.6666666666666666,
              "#ed7953"
             ],
             [
              0.7777777777777778,
              "#fb9f3a"
             ],
             [
              0.8888888888888888,
              "#fdca26"
             ],
             [
              1,
              "#f0f921"
             ]
            ],
            "type": "histogram2d"
           }
          ],
          "histogram2dcontour": [
           {
            "colorbar": {
             "outlinewidth": 0,
             "ticks": ""
            },
            "colorscale": [
             [
              0,
              "#0d0887"
             ],
             [
              0.1111111111111111,
              "#46039f"
             ],
             [
              0.2222222222222222,
              "#7201a8"
             ],
             [
              0.3333333333333333,
              "#9c179e"
             ],
             [
              0.4444444444444444,
              "#bd3786"
             ],
             [
              0.5555555555555556,
              "#d8576b"
             ],
             [
              0.6666666666666666,
              "#ed7953"
             ],
             [
              0.7777777777777778,
              "#fb9f3a"
             ],
             [
              0.8888888888888888,
              "#fdca26"
             ],
             [
              1,
              "#f0f921"
             ]
            ],
            "type": "histogram2dcontour"
           }
          ],
          "mesh3d": [
           {
            "colorbar": {
             "outlinewidth": 0,
             "ticks": ""
            },
            "type": "mesh3d"
           }
          ],
          "parcoords": [
           {
            "line": {
             "colorbar": {
              "outlinewidth": 0,
              "ticks": ""
             }
            },
            "type": "parcoords"
           }
          ],
          "pie": [
           {
            "automargin": true,
            "type": "pie"
           }
          ],
          "scatter": [
           {
            "fillpattern": {
             "fillmode": "overlay",
             "size": 10,
             "solidity": 0.2
            },
            "type": "scatter"
           }
          ],
          "scatter3d": [
           {
            "line": {
             "colorbar": {
              "outlinewidth": 0,
              "ticks": ""
             }
            },
            "marker": {
             "colorbar": {
              "outlinewidth": 0,
              "ticks": ""
             }
            },
            "type": "scatter3d"
           }
          ],
          "scattercarpet": [
           {
            "marker": {
             "colorbar": {
              "outlinewidth": 0,
              "ticks": ""
             }
            },
            "type": "scattercarpet"
           }
          ],
          "scattergeo": [
           {
            "marker": {
             "colorbar": {
              "outlinewidth": 0,
              "ticks": ""
             }
            },
            "type": "scattergeo"
           }
          ],
          "scattergl": [
           {
            "marker": {
             "colorbar": {
              "outlinewidth": 0,
              "ticks": ""
             }
            },
            "type": "scattergl"
           }
          ],
          "scattermapbox": [
           {
            "marker": {
             "colorbar": {
              "outlinewidth": 0,
              "ticks": ""
             }
            },
            "type": "scattermapbox"
           }
          ],
          "scatterpolar": [
           {
            "marker": {
             "colorbar": {
              "outlinewidth": 0,
              "ticks": ""
             }
            },
            "type": "scatterpolar"
           }
          ],
          "scatterpolargl": [
           {
            "marker": {
             "colorbar": {
              "outlinewidth": 0,
              "ticks": ""
             }
            },
            "type": "scatterpolargl"
           }
          ],
          "scatterternary": [
           {
            "marker": {
             "colorbar": {
              "outlinewidth": 0,
              "ticks": ""
             }
            },
            "type": "scatterternary"
           }
          ],
          "surface": [
           {
            "colorbar": {
             "outlinewidth": 0,
             "ticks": ""
            },
            "colorscale": [
             [
              0,
              "#0d0887"
             ],
             [
              0.1111111111111111,
              "#46039f"
             ],
             [
              0.2222222222222222,
              "#7201a8"
             ],
             [
              0.3333333333333333,
              "#9c179e"
             ],
             [
              0.4444444444444444,
              "#bd3786"
             ],
             [
              0.5555555555555556,
              "#d8576b"
             ],
             [
              0.6666666666666666,
              "#ed7953"
             ],
             [
              0.7777777777777778,
              "#fb9f3a"
             ],
             [
              0.8888888888888888,
              "#fdca26"
             ],
             [
              1,
              "#f0f921"
             ]
            ],
            "type": "surface"
           }
          ],
          "table": [
           {
            "cells": {
             "fill": {
              "color": "#EBF0F8"
             },
             "line": {
              "color": "white"
             }
            },
            "header": {
             "fill": {
              "color": "#C8D4E3"
             },
             "line": {
              "color": "white"
             }
            },
            "type": "table"
           }
          ]
         },
         "layout": {
          "annotationdefaults": {
           "arrowcolor": "#2a3f5f",
           "arrowhead": 0,
           "arrowwidth": 1
          },
          "autotypenumbers": "strict",
          "coloraxis": {
           "colorbar": {
            "outlinewidth": 0,
            "ticks": ""
           }
          },
          "colorscale": {
           "diverging": [
            [
             0,
             "#8e0152"
            ],
            [
             0.1,
             "#c51b7d"
            ],
            [
             0.2,
             "#de77ae"
            ],
            [
             0.3,
             "#f1b6da"
            ],
            [
             0.4,
             "#fde0ef"
            ],
            [
             0.5,
             "#f7f7f7"
            ],
            [
             0.6,
             "#e6f5d0"
            ],
            [
             0.7,
             "#b8e186"
            ],
            [
             0.8,
             "#7fbc41"
            ],
            [
             0.9,
             "#4d9221"
            ],
            [
             1,
             "#276419"
            ]
           ],
           "sequential": [
            [
             0,
             "#0d0887"
            ],
            [
             0.1111111111111111,
             "#46039f"
            ],
            [
             0.2222222222222222,
             "#7201a8"
            ],
            [
             0.3333333333333333,
             "#9c179e"
            ],
            [
             0.4444444444444444,
             "#bd3786"
            ],
            [
             0.5555555555555556,
             "#d8576b"
            ],
            [
             0.6666666666666666,
             "#ed7953"
            ],
            [
             0.7777777777777778,
             "#fb9f3a"
            ],
            [
             0.8888888888888888,
             "#fdca26"
            ],
            [
             1,
             "#f0f921"
            ]
           ],
           "sequentialminus": [
            [
             0,
             "#0d0887"
            ],
            [
             0.1111111111111111,
             "#46039f"
            ],
            [
             0.2222222222222222,
             "#7201a8"
            ],
            [
             0.3333333333333333,
             "#9c179e"
            ],
            [
             0.4444444444444444,
             "#bd3786"
            ],
            [
             0.5555555555555556,
             "#d8576b"
            ],
            [
             0.6666666666666666,
             "#ed7953"
            ],
            [
             0.7777777777777778,
             "#fb9f3a"
            ],
            [
             0.8888888888888888,
             "#fdca26"
            ],
            [
             1,
             "#f0f921"
            ]
           ]
          },
          "colorway": [
           "#636efa",
           "#EF553B",
           "#00cc96",
           "#ab63fa",
           "#FFA15A",
           "#19d3f3",
           "#FF6692",
           "#B6E880",
           "#FF97FF",
           "#FECB52"
          ],
          "font": {
           "color": "#2a3f5f"
          },
          "geo": {
           "bgcolor": "white",
           "lakecolor": "white",
           "landcolor": "#E5ECF6",
           "showlakes": true,
           "showland": true,
           "subunitcolor": "white"
          },
          "hoverlabel": {
           "align": "left"
          },
          "hovermode": "closest",
          "mapbox": {
           "style": "light"
          },
          "paper_bgcolor": "white",
          "plot_bgcolor": "#E5ECF6",
          "polar": {
           "angularaxis": {
            "gridcolor": "white",
            "linecolor": "white",
            "ticks": ""
           },
           "bgcolor": "#E5ECF6",
           "radialaxis": {
            "gridcolor": "white",
            "linecolor": "white",
            "ticks": ""
           }
          },
          "scene": {
           "xaxis": {
            "backgroundcolor": "#E5ECF6",
            "gridcolor": "white",
            "gridwidth": 2,
            "linecolor": "white",
            "showbackground": true,
            "ticks": "",
            "zerolinecolor": "white"
           },
           "yaxis": {
            "backgroundcolor": "#E5ECF6",
            "gridcolor": "white",
            "gridwidth": 2,
            "linecolor": "white",
            "showbackground": true,
            "ticks": "",
            "zerolinecolor": "white"
           },
           "zaxis": {
            "backgroundcolor": "#E5ECF6",
            "gridcolor": "white",
            "gridwidth": 2,
            "linecolor": "white",
            "showbackground": true,
            "ticks": "",
            "zerolinecolor": "white"
           }
          },
          "shapedefaults": {
           "line": {
            "color": "#2a3f5f"
           }
          },
          "ternary": {
           "aaxis": {
            "gridcolor": "white",
            "linecolor": "white",
            "ticks": ""
           },
           "baxis": {
            "gridcolor": "white",
            "linecolor": "white",
            "ticks": ""
           },
           "bgcolor": "#E5ECF6",
           "caxis": {
            "gridcolor": "white",
            "linecolor": "white",
            "ticks": ""
           }
          },
          "title": {
           "x": 0.05
          },
          "xaxis": {
           "automargin": true,
           "gridcolor": "white",
           "linecolor": "white",
           "ticks": "",
           "title": {
            "standoff": 15
           },
           "zerolinecolor": "white",
           "zerolinewidth": 2
          },
          "yaxis": {
           "automargin": true,
           "gridcolor": "white",
           "linecolor": "white",
           "ticks": "",
           "title": {
            "standoff": 15
           },
           "zerolinecolor": "white",
           "zerolinewidth": 2
          }
         }
        },
        "title": {
         "text": "Impact de No et alpha sur le Corr après attaque"
        },
        "width": 800,
        "xaxis": {
         "title": {
          "text": "No (Nombre d'observations)=20000"
         }
        },
        "yaxis": {
         "title": {
          "text": "Cor"
         }
        }
       }
      }
     },
     "metadata": {},
     "output_type": "display_data"
    }
   ],
   "source": [
    "alpha_values = [0.2, 0.5, 1, 1.5, 2, 2.5, 3] # Tune the power of the watermark here\n",
    "Ni_grand = 20000\n",
    "\n",
    "fig_ber = go.Figure()\n",
    "fig_corr = go.Figure()\n",
    "fig_ber.add_hline(y=0.5, line_dash=\"dot\", line_color=\"red\", annotation_text=\"BER 50%\", annotation_position=\"top left\")\n",
    "fig_corr.add_hline(y=1, line_dash=\"dot\", line_color=\"red\", annotation_text=\"Corr = 1\", annotation_position=\"top left\")\n",
    "\n",
    "for alpha in alpha_values:\n",
    "    # Réinitialisation des vecteurs pour les plots\n",
    "    ber_values = []\n",
    "    corr_values = []\n",
    "    No_values = range(100,Ni_grand,100) \n",
    "    for No in No_values:\n",
    "        ber_val, corr_val = do_process(alpha, No)\n",
    "        ber_values.append(ber_val)\n",
    "        corr_values.append(corr_val)\n",
    "    # Graphique du BER\n",
    "    fig_ber.add_trace(go.Scatter(x=list(No_values), y=ber_values, mode='lines+markers', name=f'alpha = {alpha}'))\n",
    "    # Graphique du Corr\n",
    "    fig_corr.add_trace(go.Scatter(x=list(No_values), y=corr_values, mode='lines+markers', name=f'alpha = {alpha}'))\n",
    "fig_corr.update_layout(\n",
    "    title=\"Impact de No et alpha sur le Corr après attaque\",\n",
    "    xaxis_title=f\"No (Nombre d'observations)={Ni}\",\n",
    "    yaxis_title=\"Cor\",\n",
    "    legend_title='Valeurs de alpha',\n",
    "    width=800,\n",
    "    height=500\n",
    ")\n",
    "    \n",
    "fig_ber.update_layout(\n",
    "    title='Impact de No et alpha sur le BER après attaque',\n",
    "    xaxis_title=f'No (Nombre d‘observations)={Ni}',\n",
    "    yaxis_title='BER',\n",
    "    legend_title='Valeurs de alpha',\n",
    "    width=800,\n",
    "    height=500\n",
    ")\n",
    "fig_ber.show()\n",
    "fig_corr.show()"
   ]
  },
  {
   "cell_type": "markdown",
   "metadata": {
    "hideCode": false,
    "hidePrompt": false
   },
   "source": [
    "## Scénario 3: Attaque à messages inconnus, 2 bits\n",
    "* Vérifier que l'attaque précédente ne permet pas d'estimer les deux clés. \n",
    "* Estimer au moins l'une des clés utilisée\n",
    "    * Note: on pourra utiliser l'algorithme `FastICA` pour estimer les deux composantes indépendantes \n",
    "    * Pour cela on pourra appeler la fonction fastica en spécifiant que l'analyse en composantes indépendantes s'effectuera sur un sous espace engendré par les *deux premières composantes principales* (`n_components=2`), et en récupérant les colonnes de la matrice de mélange A (obtenue via `ica.mixing_`) estimé par l'algorithme.\n",
    "    * Vérifier, à l'aide de la corrélation normalisée, que cette méthode permet d'estimer la clé `k1`\n",
    "* Mettre en place l'attaque qui permet les deux bits\n",
    "* Etudier l'impact de $N_{o}$ et de $\\alpha$ sur le BER après attaque"
   ]
  },
  {
   "cell_type": "code",
   "execution_count": 24,
   "metadata": {},
   "outputs": [
    {
     "name": "stdout",
     "output_type": "stream",
     "text": [
      "3rd scenario, 2bits\n"
     ]
    },
    {
     "data": {
      "application/vnd.plotly.v1+json": {
       "config": {
        "plotlyServerURL": "https://plot.ly"
       },
       "data": [
        {
         "mode": "lines+markers",
         "name": "BER après attaque",
         "type": "scatter",
         "x": [
          100,
          200,
          300,
          400,
          500,
          600,
          700,
          800,
          900,
          1000,
          1100,
          1200,
          1300,
          1400,
          1500,
          1600,
          1700,
          1800,
          1900,
          2000,
          2100,
          2200,
          2300,
          2400,
          2500,
          2600,
          2700,
          2800,
          2900,
          3000,
          3100,
          3200,
          3300,
          3400,
          3500,
          3600,
          3700,
          3800,
          3900,
          4000,
          4100,
          4200,
          4300,
          4400,
          4500,
          4600,
          4700,
          4800,
          4900,
          5000,
          5100,
          5200,
          5300,
          5400,
          5500,
          5600,
          5700,
          5800,
          5900,
          6000,
          6100,
          6200,
          6300,
          6400,
          6500,
          6600,
          6700,
          6800,
          6900,
          7000,
          7100,
          7200,
          7300,
          7400,
          7500,
          7600,
          7700,
          7800,
          7900,
          8000,
          8100,
          8200,
          8300,
          8400,
          8500,
          8600,
          8700,
          8800,
          8900,
          9000,
          9100,
          9200,
          9300,
          9400,
          9500,
          9600,
          9700,
          9800,
          9900,
          10000,
          10100,
          10200,
          10300,
          10400,
          10500,
          10600,
          10700,
          10800,
          10900,
          11000,
          11100,
          11200,
          11300,
          11400,
          11500,
          11600,
          11700,
          11800,
          11900,
          12000,
          12100,
          12200,
          12300,
          12400,
          12500,
          12600,
          12700,
          12800,
          12900,
          13000,
          13100,
          13200,
          13300,
          13400,
          13500,
          13600,
          13700,
          13800,
          13900,
          14000,
          14100,
          14200,
          14300,
          14400,
          14500,
          14600,
          14700,
          14800,
          14900,
          15000,
          15100,
          15200,
          15300,
          15400,
          15500,
          15600,
          15700,
          15800,
          15900,
          16000,
          16100,
          16200,
          16300,
          16400,
          16500,
          16600,
          16700,
          16800,
          16900,
          17000,
          17100,
          17200,
          17300,
          17400,
          17500,
          17600,
          17700,
          17800,
          17900,
          18000,
          18100,
          18200,
          18300,
          18400,
          18500,
          18600,
          18700,
          18800,
          18900,
          19000,
          19100,
          19200,
          19300,
          19400,
          19500,
          19600,
          19700,
          19800,
          19900
         ],
         "y": [
          0.48875,
          0.49405,
          0.4975,
          0.49875,
          0.49215,
          0.497,
          0.4972,
          0.4982,
          0.4942,
          0.49755,
          0.4926,
          0.49795,
          0.49845,
          0.49405,
          0.49845,
          0.49375,
          0.49795,
          0.49285,
          0.4974,
          0.4929,
          0.4934,
          0.4945,
          0.49855,
          0.4984,
          0.49815,
          0.49805,
          0.49885,
          0.4939,
          0.4945,
          0.49775,
          0.494,
          0.49845,
          0.49375,
          0.49295,
          0.4939,
          0.494,
          0.4982,
          0.49785,
          0.49825,
          0.49865,
          0.49435,
          0.49365,
          0.49785,
          0.49825,
          0.4944,
          0.4982,
          0.4984,
          0.4987,
          0.49465,
          0.49775,
          0.49455,
          0.4978,
          0.49455,
          0.4938,
          0.49325,
          0.4981,
          0.49805,
          0.49825,
          0.4934,
          0.49805,
          0.4939,
          0.4975,
          0.4929,
          0.49805,
          0.4935,
          0.49845,
          0.4945,
          0.49825,
          0.4786,
          0.4942,
          0.4935,
          0.49425,
          0.49805,
          0.49385,
          0.49415,
          0.4952,
          0.49415,
          0.49815,
          0.49775,
          0.4945,
          0.498,
          0.4971,
          0.49435,
          0.49415,
          0.49805,
          0.49825,
          0.495,
          0.498,
          0.4942,
          0.498,
          0.4933,
          0.4935,
          0.4981,
          0.4948,
          0.49785,
          0.4925,
          0.4975,
          0.49425,
          0.49395,
          0.4945,
          0.4935,
          0.4952,
          0.49345,
          0.4984,
          0.49755,
          0.49845,
          0.4942,
          0.4981,
          0.49775,
          0.49765,
          0.4983,
          0.498,
          0.4987,
          0.4989,
          0.49335,
          0.4941,
          0.49805,
          0.4938,
          0.49805,
          0.49485,
          0.49535,
          0.4986,
          0.49375,
          0.4985,
          0.498,
          0.4984,
          0.4983,
          0.4986,
          0.4977,
          0.4946,
          0.4979,
          0.49465,
          0.4981,
          0.49355,
          0.4953,
          0.4932,
          0.49375,
          0.4937,
          0.4942,
          0.4943,
          0.49425,
          0.498,
          0.494,
          0.498,
          0.49825,
          0.49725,
          0.49395,
          0.49855,
          0.49815,
          0.49475,
          0.49345,
          0.494,
          0.4946,
          0.4936,
          0.4936,
          0.4934,
          0.498,
          0.4944,
          0.49505,
          0.49805,
          0.4943,
          0.4983,
          0.4978,
          0.4978,
          0.4945,
          0.4982,
          0.4941,
          0.49385,
          0.4987,
          0.49435,
          0.4983,
          0.4944,
          0.4981,
          0.4977,
          0.49455,
          0.4939,
          0.4977,
          0.4982,
          0.4933,
          0.49395,
          0.4932,
          0.4936,
          0.49505,
          0.4981,
          0.49395,
          0.4982,
          0.49825,
          0.49805,
          0.4936,
          0.49845,
          0.494,
          0.49485,
          0.4942,
          0.4979,
          0.49805,
          0.4987,
          0.49815,
          0.49845,
          0.49275
         ]
        }
       ],
       "layout": {
        "annotations": [
         {
          "showarrow": false,
          "text": "BER 50%",
          "x": 0,
          "xanchor": "left",
          "xref": "x domain",
          "y": 0.5,
          "yanchor": "top",
          "yref": "y"
         }
        ],
        "height": 400,
        "shapes": [
         {
          "line": {
           "color": "red",
           "dash": "dot"
          },
          "type": "line",
          "x0": 0,
          "x1": 1,
          "xref": "x domain",
          "y0": 0.5,
          "y1": 0.5,
          "yref": "y"
         }
        ],
        "template": {
         "data": {
          "bar": [
           {
            "error_x": {
             "color": "#2a3f5f"
            },
            "error_y": {
             "color": "#2a3f5f"
            },
            "marker": {
             "line": {
              "color": "#E5ECF6",
              "width": 0.5
             },
             "pattern": {
              "fillmode": "overlay",
              "size": 10,
              "solidity": 0.2
             }
            },
            "type": "bar"
           }
          ],
          "barpolar": [
           {
            "marker": {
             "line": {
              "color": "#E5ECF6",
              "width": 0.5
             },
             "pattern": {
              "fillmode": "overlay",
              "size": 10,
              "solidity": 0.2
             }
            },
            "type": "barpolar"
           }
          ],
          "carpet": [
           {
            "aaxis": {
             "endlinecolor": "#2a3f5f",
             "gridcolor": "white",
             "linecolor": "white",
             "minorgridcolor": "white",
             "startlinecolor": "#2a3f5f"
            },
            "baxis": {
             "endlinecolor": "#2a3f5f",
             "gridcolor": "white",
             "linecolor": "white",
             "minorgridcolor": "white",
             "startlinecolor": "#2a3f5f"
            },
            "type": "carpet"
           }
          ],
          "choropleth": [
           {
            "colorbar": {
             "outlinewidth": 0,
             "ticks": ""
            },
            "type": "choropleth"
           }
          ],
          "contour": [
           {
            "colorbar": {
             "outlinewidth": 0,
             "ticks": ""
            },
            "colorscale": [
             [
              0,
              "#0d0887"
             ],
             [
              0.1111111111111111,
              "#46039f"
             ],
             [
              0.2222222222222222,
              "#7201a8"
             ],
             [
              0.3333333333333333,
              "#9c179e"
             ],
             [
              0.4444444444444444,
              "#bd3786"
             ],
             [
              0.5555555555555556,
              "#d8576b"
             ],
             [
              0.6666666666666666,
              "#ed7953"
             ],
             [
              0.7777777777777778,
              "#fb9f3a"
             ],
             [
              0.8888888888888888,
              "#fdca26"
             ],
             [
              1,
              "#f0f921"
             ]
            ],
            "type": "contour"
           }
          ],
          "contourcarpet": [
           {
            "colorbar": {
             "outlinewidth": 0,
             "ticks": ""
            },
            "type": "contourcarpet"
           }
          ],
          "heatmap": [
           {
            "colorbar": {
             "outlinewidth": 0,
             "ticks": ""
            },
            "colorscale": [
             [
              0,
              "#0d0887"
             ],
             [
              0.1111111111111111,
              "#46039f"
             ],
             [
              0.2222222222222222,
              "#7201a8"
             ],
             [
              0.3333333333333333,
              "#9c179e"
             ],
             [
              0.4444444444444444,
              "#bd3786"
             ],
             [
              0.5555555555555556,
              "#d8576b"
             ],
             [
              0.6666666666666666,
              "#ed7953"
             ],
             [
              0.7777777777777778,
              "#fb9f3a"
             ],
             [
              0.8888888888888888,
              "#fdca26"
             ],
             [
              1,
              "#f0f921"
             ]
            ],
            "type": "heatmap"
           }
          ],
          "heatmapgl": [
           {
            "colorbar": {
             "outlinewidth": 0,
             "ticks": ""
            },
            "colorscale": [
             [
              0,
              "#0d0887"
             ],
             [
              0.1111111111111111,
              "#46039f"
             ],
             [
              0.2222222222222222,
              "#7201a8"
             ],
             [
              0.3333333333333333,
              "#9c179e"
             ],
             [
              0.4444444444444444,
              "#bd3786"
             ],
             [
              0.5555555555555556,
              "#d8576b"
             ],
             [
              0.6666666666666666,
              "#ed7953"
             ],
             [
              0.7777777777777778,
              "#fb9f3a"
             ],
             [
              0.8888888888888888,
              "#fdca26"
             ],
             [
              1,
              "#f0f921"
             ]
            ],
            "type": "heatmapgl"
           }
          ],
          "histogram": [
           {
            "marker": {
             "pattern": {
              "fillmode": "overlay",
              "size": 10,
              "solidity": 0.2
             }
            },
            "type": "histogram"
           }
          ],
          "histogram2d": [
           {
            "colorbar": {
             "outlinewidth": 0,
             "ticks": ""
            },
            "colorscale": [
             [
              0,
              "#0d0887"
             ],
             [
              0.1111111111111111,
              "#46039f"
             ],
             [
              0.2222222222222222,
              "#7201a8"
             ],
             [
              0.3333333333333333,
              "#9c179e"
             ],
             [
              0.4444444444444444,
              "#bd3786"
             ],
             [
              0.5555555555555556,
              "#d8576b"
             ],
             [
              0.6666666666666666,
              "#ed7953"
             ],
             [
              0.7777777777777778,
              "#fb9f3a"
             ],
             [
              0.8888888888888888,
              "#fdca26"
             ],
             [
              1,
              "#f0f921"
             ]
            ],
            "type": "histogram2d"
           }
          ],
          "histogram2dcontour": [
           {
            "colorbar": {
             "outlinewidth": 0,
             "ticks": ""
            },
            "colorscale": [
             [
              0,
              "#0d0887"
             ],
             [
              0.1111111111111111,
              "#46039f"
             ],
             [
              0.2222222222222222,
              "#7201a8"
             ],
             [
              0.3333333333333333,
              "#9c179e"
             ],
             [
              0.4444444444444444,
              "#bd3786"
             ],
             [
              0.5555555555555556,
              "#d8576b"
             ],
             [
              0.6666666666666666,
              "#ed7953"
             ],
             [
              0.7777777777777778,
              "#fb9f3a"
             ],
             [
              0.8888888888888888,
              "#fdca26"
             ],
             [
              1,
              "#f0f921"
             ]
            ],
            "type": "histogram2dcontour"
           }
          ],
          "mesh3d": [
           {
            "colorbar": {
             "outlinewidth": 0,
             "ticks": ""
            },
            "type": "mesh3d"
           }
          ],
          "parcoords": [
           {
            "line": {
             "colorbar": {
              "outlinewidth": 0,
              "ticks": ""
             }
            },
            "type": "parcoords"
           }
          ],
          "pie": [
           {
            "automargin": true,
            "type": "pie"
           }
          ],
          "scatter": [
           {
            "fillpattern": {
             "fillmode": "overlay",
             "size": 10,
             "solidity": 0.2
            },
            "type": "scatter"
           }
          ],
          "scatter3d": [
           {
            "line": {
             "colorbar": {
              "outlinewidth": 0,
              "ticks": ""
             }
            },
            "marker": {
             "colorbar": {
              "outlinewidth": 0,
              "ticks": ""
             }
            },
            "type": "scatter3d"
           }
          ],
          "scattercarpet": [
           {
            "marker": {
             "colorbar": {
              "outlinewidth": 0,
              "ticks": ""
             }
            },
            "type": "scattercarpet"
           }
          ],
          "scattergeo": [
           {
            "marker": {
             "colorbar": {
              "outlinewidth": 0,
              "ticks": ""
             }
            },
            "type": "scattergeo"
           }
          ],
          "scattergl": [
           {
            "marker": {
             "colorbar": {
              "outlinewidth": 0,
              "ticks": ""
             }
            },
            "type": "scattergl"
           }
          ],
          "scattermapbox": [
           {
            "marker": {
             "colorbar": {
              "outlinewidth": 0,
              "ticks": ""
             }
            },
            "type": "scattermapbox"
           }
          ],
          "scatterpolar": [
           {
            "marker": {
             "colorbar": {
              "outlinewidth": 0,
              "ticks": ""
             }
            },
            "type": "scatterpolar"
           }
          ],
          "scatterpolargl": [
           {
            "marker": {
             "colorbar": {
              "outlinewidth": 0,
              "ticks": ""
             }
            },
            "type": "scatterpolargl"
           }
          ],
          "scatterternary": [
           {
            "marker": {
             "colorbar": {
              "outlinewidth": 0,
              "ticks": ""
             }
            },
            "type": "scatterternary"
           }
          ],
          "surface": [
           {
            "colorbar": {
             "outlinewidth": 0,
             "ticks": ""
            },
            "colorscale": [
             [
              0,
              "#0d0887"
             ],
             [
              0.1111111111111111,
              "#46039f"
             ],
             [
              0.2222222222222222,
              "#7201a8"
             ],
             [
              0.3333333333333333,
              "#9c179e"
             ],
             [
              0.4444444444444444,
              "#bd3786"
             ],
             [
              0.5555555555555556,
              "#d8576b"
             ],
             [
              0.6666666666666666,
              "#ed7953"
             ],
             [
              0.7777777777777778,
              "#fb9f3a"
             ],
             [
              0.8888888888888888,
              "#fdca26"
             ],
             [
              1,
              "#f0f921"
             ]
            ],
            "type": "surface"
           }
          ],
          "table": [
           {
            "cells": {
             "fill": {
              "color": "#EBF0F8"
             },
             "line": {
              "color": "white"
             }
            },
            "header": {
             "fill": {
              "color": "#C8D4E3"
             },
             "line": {
              "color": "white"
             }
            },
            "type": "table"
           }
          ]
         },
         "layout": {
          "annotationdefaults": {
           "arrowcolor": "#2a3f5f",
           "arrowhead": 0,
           "arrowwidth": 1
          },
          "autotypenumbers": "strict",
          "coloraxis": {
           "colorbar": {
            "outlinewidth": 0,
            "ticks": ""
           }
          },
          "colorscale": {
           "diverging": [
            [
             0,
             "#8e0152"
            ],
            [
             0.1,
             "#c51b7d"
            ],
            [
             0.2,
             "#de77ae"
            ],
            [
             0.3,
             "#f1b6da"
            ],
            [
             0.4,
             "#fde0ef"
            ],
            [
             0.5,
             "#f7f7f7"
            ],
            [
             0.6,
             "#e6f5d0"
            ],
            [
             0.7,
             "#b8e186"
            ],
            [
             0.8,
             "#7fbc41"
            ],
            [
             0.9,
             "#4d9221"
            ],
            [
             1,
             "#276419"
            ]
           ],
           "sequential": [
            [
             0,
             "#0d0887"
            ],
            [
             0.1111111111111111,
             "#46039f"
            ],
            [
             0.2222222222222222,
             "#7201a8"
            ],
            [
             0.3333333333333333,
             "#9c179e"
            ],
            [
             0.4444444444444444,
             "#bd3786"
            ],
            [
             0.5555555555555556,
             "#d8576b"
            ],
            [
             0.6666666666666666,
             "#ed7953"
            ],
            [
             0.7777777777777778,
             "#fb9f3a"
            ],
            [
             0.8888888888888888,
             "#fdca26"
            ],
            [
             1,
             "#f0f921"
            ]
           ],
           "sequentialminus": [
            [
             0,
             "#0d0887"
            ],
            [
             0.1111111111111111,
             "#46039f"
            ],
            [
             0.2222222222222222,
             "#7201a8"
            ],
            [
             0.3333333333333333,
             "#9c179e"
            ],
            [
             0.4444444444444444,
             "#bd3786"
            ],
            [
             0.5555555555555556,
             "#d8576b"
            ],
            [
             0.6666666666666666,
             "#ed7953"
            ],
            [
             0.7777777777777778,
             "#fb9f3a"
            ],
            [
             0.8888888888888888,
             "#fdca26"
            ],
            [
             1,
             "#f0f921"
            ]
           ]
          },
          "colorway": [
           "#636efa",
           "#EF553B",
           "#00cc96",
           "#ab63fa",
           "#FFA15A",
           "#19d3f3",
           "#FF6692",
           "#B6E880",
           "#FF97FF",
           "#FECB52"
          ],
          "font": {
           "color": "#2a3f5f"
          },
          "geo": {
           "bgcolor": "white",
           "lakecolor": "white",
           "landcolor": "#E5ECF6",
           "showlakes": true,
           "showland": true,
           "subunitcolor": "white"
          },
          "hoverlabel": {
           "align": "left"
          },
          "hovermode": "closest",
          "mapbox": {
           "style": "light"
          },
          "paper_bgcolor": "white",
          "plot_bgcolor": "#E5ECF6",
          "polar": {
           "angularaxis": {
            "gridcolor": "white",
            "linecolor": "white",
            "ticks": ""
           },
           "bgcolor": "#E5ECF6",
           "radialaxis": {
            "gridcolor": "white",
            "linecolor": "white",
            "ticks": ""
           }
          },
          "scene": {
           "xaxis": {
            "backgroundcolor": "#E5ECF6",
            "gridcolor": "white",
            "gridwidth": 2,
            "linecolor": "white",
            "showbackground": true,
            "ticks": "",
            "zerolinecolor": "white"
           },
           "yaxis": {
            "backgroundcolor": "#E5ECF6",
            "gridcolor": "white",
            "gridwidth": 2,
            "linecolor": "white",
            "showbackground": true,
            "ticks": "",
            "zerolinecolor": "white"
           },
           "zaxis": {
            "backgroundcolor": "#E5ECF6",
            "gridcolor": "white",
            "gridwidth": 2,
            "linecolor": "white",
            "showbackground": true,
            "ticks": "",
            "zerolinecolor": "white"
           }
          },
          "shapedefaults": {
           "line": {
            "color": "#2a3f5f"
           }
          },
          "ternary": {
           "aaxis": {
            "gridcolor": "white",
            "linecolor": "white",
            "ticks": ""
           },
           "baxis": {
            "gridcolor": "white",
            "linecolor": "white",
            "ticks": ""
           },
           "bgcolor": "#E5ECF6",
           "caxis": {
            "gridcolor": "white",
            "linecolor": "white",
            "ticks": ""
           }
          },
          "title": {
           "x": 0.05
          },
          "xaxis": {
           "automargin": true,
           "gridcolor": "white",
           "linecolor": "white",
           "ticks": "",
           "title": {
            "standoff": 15
           },
           "zerolinecolor": "white",
           "zerolinewidth": 2
          },
          "yaxis": {
           "automargin": true,
           "gridcolor": "white",
           "linecolor": "white",
           "ticks": "",
           "title": {
            "standoff": 15
           },
           "zerolinecolor": "white",
           "zerolinewidth": 2
          }
         }
        },
        "title": {
         "text": "BER après attaque en fonction de No"
        },
        "width": 700,
        "xaxis": {
         "title": {
          "text": "No (Nombre d'observations)"
         }
        },
        "yaxis": {
         "title": {
          "text": "BER"
         }
        }
       }
      }
     },
     "metadata": {},
     "output_type": "display_data"
    },
    {
     "data": {
      "application/vnd.plotly.v1+json": {
       "config": {
        "plotlyServerURL": "https://plot.ly"
       },
       "data": [
        {
         "mode": "lines+markers",
         "name": "Corr après attaque",
         "type": "scatter",
         "x": [
          100,
          200,
          300,
          400,
          500,
          600,
          700,
          800,
          900,
          1000,
          1100,
          1200,
          1300,
          1400,
          1500,
          1600,
          1700,
          1800,
          1900,
          2000,
          2100,
          2200,
          2300,
          2400,
          2500,
          2600,
          2700,
          2800,
          2900,
          3000,
          3100,
          3200,
          3300,
          3400,
          3500,
          3600,
          3700,
          3800,
          3900,
          4000,
          4100,
          4200,
          4300,
          4400,
          4500,
          4600,
          4700,
          4800,
          4900,
          5000,
          5100,
          5200,
          5300,
          5400,
          5500,
          5600,
          5700,
          5800,
          5900,
          6000,
          6100,
          6200,
          6300,
          6400,
          6500,
          6600,
          6700,
          6800,
          6900,
          7000,
          7100,
          7200,
          7300,
          7400,
          7500,
          7600,
          7700,
          7800,
          7900,
          8000,
          8100,
          8200,
          8300,
          8400,
          8500,
          8600,
          8700,
          8800,
          8900,
          9000,
          9100,
          9200,
          9300,
          9400,
          9500,
          9600,
          9700,
          9800,
          9900,
          10000,
          10100,
          10200,
          10300,
          10400,
          10500,
          10600,
          10700,
          10800,
          10900,
          11000,
          11100,
          11200,
          11300,
          11400,
          11500,
          11600,
          11700,
          11800,
          11900,
          12000,
          12100,
          12200,
          12300,
          12400,
          12500,
          12600,
          12700,
          12800,
          12900,
          13000,
          13100,
          13200,
          13300,
          13400,
          13500,
          13600,
          13700,
          13800,
          13900,
          14000,
          14100,
          14200,
          14300,
          14400,
          14500,
          14600,
          14700,
          14800,
          14900,
          15000,
          15100,
          15200,
          15300,
          15400,
          15500,
          15600,
          15700,
          15800,
          15900,
          16000,
          16100,
          16200,
          16300,
          16400,
          16500,
          16600,
          16700,
          16800,
          16900,
          17000,
          17100,
          17200,
          17300,
          17400,
          17500,
          17600,
          17700,
          17800,
          17900,
          18000,
          18100,
          18200,
          18300,
          18400,
          18500,
          18600,
          18700,
          18800,
          18900,
          19000,
          19100,
          19200,
          19300,
          19400,
          19500,
          19600,
          19700,
          19800,
          19900
         ],
         "y": [
          0.8584135197882351,
          0.9306166007351323,
          0.9463454085460993,
          0.9717065311171683,
          0.9743730318985052,
          0.9759669997759401,
          0.9775672072706469,
          0.9780111462260569,
          0.9812481580354828,
          0.9835735088092383,
          0.9845878436547569,
          0.9872196403450605,
          0.9853166402012367,
          0.9875607146914966,
          0.9888778488859683,
          0.9908444611838085,
          0.9912193481544977,
          0.9895741969833707,
          0.9919193469806526,
          0.9918865775029007,
          0.9918143384368759,
          0.9931398008099565,
          0.9933372610486231,
          0.9946709152053118,
          0.9955689660116054,
          0.9942091190988094,
          0.9939707213545455,
          0.9941970888153177,
          0.9936307092577226,
          0.995145825391546,
          0.9952198797623532,
          0.9956478911489576,
          0.9947933148057826,
          0.9953029254806987,
          0.9950781272513662,
          0.9960707806545085,
          0.996313825861684,
          0.9962421949473219,
          0.9954659553246827,
          0.9974622933136011,
          0.9963717365567749,
          0.9960857113702065,
          0.995210746214714,
          0.9956406061347051,
          0.9954051442682192,
          0.9966817708279099,
          0.9971388581935204,
          0.9959308376302158,
          0.9962788376485193,
          0.9971727650365988,
          0.9970086073853673,
          0.9966946617520716,
          0.9968782822041734,
          0.9971454230368848,
          0.9973814047969802,
          0.9965922753052062,
          0.9976248503618774,
          0.9967294211362457,
          0.9976700528598282,
          0.9976423991596829,
          0.9970850225852677,
          0.997374326965424,
          0.9974677300351085,
          0.9974351568465782,
          0.9969127451455183,
          0.9976664998174539,
          0.9977720716973179,
          0.9979890865393157,
          0.7448601896080199,
          0.9978109498755211,
          0.9977644142451744,
          0.9977382958443605,
          0.9977156232174376,
          0.9977494110519067,
          0.9984772499757938,
          0.998079893797725,
          0.9980285264701227,
          0.9973643214132935,
          0.9982582050838283,
          0.9977640758446236,
          0.9981125143501248,
          0.9980736025259762,
          0.9982508913270338,
          0.9981921002491372,
          0.9980069346443391,
          0.9979554582006801,
          0.998360360131132,
          0.9982633689627749,
          0.9985339580510408,
          0.9981617900805339,
          0.9981028224883194,
          0.9979716678256342,
          0.99794465703604,
          0.9986169856435898,
          0.9986483114929202,
          0.9979879637121216,
          0.9984451160532991,
          0.998238001300677,
          0.998373758411227,
          0.9985780940962742,
          0.9987547762699559,
          0.9986452998307509,
          0.9982550761338073,
          0.9981286203809786,
          0.9983550941908239,
          0.9982803173103064,
          0.9982311437639643,
          0.998104365303803,
          0.9983698074022769,
          0.9985950517584599,
          0.998382752393226,
          0.9984229488472842,
          0.9985501491721974,
          0.9987058446226166,
          0.9985842665678396,
          0.9985141547671957,
          0.9987465749379631,
          0.9985446790634279,
          0.9984622357039165,
          0.9985941527238172,
          0.9987891568066781,
          0.9987396097872399,
          0.9985385085213482,
          0.9986136025267229,
          0.9990465623670888,
          0.9990521090937515,
          0.9984915254055033,
          0.9986069009537545,
          0.9988496082377348,
          0.9987391063890753,
          0.9988285629296566,
          0.9988578444706555,
          0.9987907393313964,
          0.9985081460837114,
          0.9988866020401939,
          0.9989696483245267,
          0.9987625527823599,
          0.9987558558848699,
          0.9988680717108267,
          0.9991901043485409,
          0.9989740332282955,
          0.9989327691505567,
          0.9986978181198665,
          0.9989711287340163,
          0.9986493384290985,
          0.9988688277256956,
          0.998862295544006,
          0.9987371162526731,
          0.9991212328540445,
          0.99898930377977,
          0.9987803997287257,
          0.9992202281594782,
          0.9987810990181846,
          0.9989650778254237,
          0.9990267884827421,
          0.998852524427928,
          0.9990498606673802,
          0.999031041622858,
          0.9990905305197935,
          0.998916138980038,
          0.9988216080386498,
          0.9989107060175481,
          0.9988803261119369,
          0.9987530367154874,
          0.9989694013242145,
          0.9987585842860784,
          0.998847935888892,
          0.9990501593807475,
          0.9991183975546708,
          0.9989749134197755,
          0.9990304225156837,
          0.9990397438948687,
          0.9990083384355165,
          0.9989450908429884,
          0.9991247524123593,
          0.9991170839749528,
          0.9990966275983588,
          0.9991060866640604,
          0.998794118601064,
          0.9990515707266819,
          0.9990330916029121,
          0.9989594770799859,
          0.9992419143005132,
          0.9992385590084598,
          0.9990804067747983,
          0.9990685564322851,
          0.9990244646516099,
          0.9992750592749813,
          0.9990827715381869,
          0.9988118939613773,
          0.9992425577332905,
          0.9991601534611791,
          0.9990993550651682,
          0.9990574438152221,
          0.9989050469678447,
          0.99895118574631,
          0.9992337153344941,
          0.9991299635956266,
          0.9990189774478483
         ]
        }
       ],
       "layout": {
        "annotations": [
         {
          "showarrow": false,
          "text": "Corr = 1",
          "x": 0,
          "xanchor": "left",
          "xref": "x domain",
          "y": 1,
          "yanchor": "top",
          "yref": "y"
         }
        ],
        "height": 400,
        "shapes": [
         {
          "line": {
           "color": "red",
           "dash": "dot"
          },
          "type": "line",
          "x0": 0,
          "x1": 1,
          "xref": "x domain",
          "y0": 1,
          "y1": 1,
          "yref": "y"
         }
        ],
        "template": {
         "data": {
          "bar": [
           {
            "error_x": {
             "color": "#2a3f5f"
            },
            "error_y": {
             "color": "#2a3f5f"
            },
            "marker": {
             "line": {
              "color": "#E5ECF6",
              "width": 0.5
             },
             "pattern": {
              "fillmode": "overlay",
              "size": 10,
              "solidity": 0.2
             }
            },
            "type": "bar"
           }
          ],
          "barpolar": [
           {
            "marker": {
             "line": {
              "color": "#E5ECF6",
              "width": 0.5
             },
             "pattern": {
              "fillmode": "overlay",
              "size": 10,
              "solidity": 0.2
             }
            },
            "type": "barpolar"
           }
          ],
          "carpet": [
           {
            "aaxis": {
             "endlinecolor": "#2a3f5f",
             "gridcolor": "white",
             "linecolor": "white",
             "minorgridcolor": "white",
             "startlinecolor": "#2a3f5f"
            },
            "baxis": {
             "endlinecolor": "#2a3f5f",
             "gridcolor": "white",
             "linecolor": "white",
             "minorgridcolor": "white",
             "startlinecolor": "#2a3f5f"
            },
            "type": "carpet"
           }
          ],
          "choropleth": [
           {
            "colorbar": {
             "outlinewidth": 0,
             "ticks": ""
            },
            "type": "choropleth"
           }
          ],
          "contour": [
           {
            "colorbar": {
             "outlinewidth": 0,
             "ticks": ""
            },
            "colorscale": [
             [
              0,
              "#0d0887"
             ],
             [
              0.1111111111111111,
              "#46039f"
             ],
             [
              0.2222222222222222,
              "#7201a8"
             ],
             [
              0.3333333333333333,
              "#9c179e"
             ],
             [
              0.4444444444444444,
              "#bd3786"
             ],
             [
              0.5555555555555556,
              "#d8576b"
             ],
             [
              0.6666666666666666,
              "#ed7953"
             ],
             [
              0.7777777777777778,
              "#fb9f3a"
             ],
             [
              0.8888888888888888,
              "#fdca26"
             ],
             [
              1,
              "#f0f921"
             ]
            ],
            "type": "contour"
           }
          ],
          "contourcarpet": [
           {
            "colorbar": {
             "outlinewidth": 0,
             "ticks": ""
            },
            "type": "contourcarpet"
           }
          ],
          "heatmap": [
           {
            "colorbar": {
             "outlinewidth": 0,
             "ticks": ""
            },
            "colorscale": [
             [
              0,
              "#0d0887"
             ],
             [
              0.1111111111111111,
              "#46039f"
             ],
             [
              0.2222222222222222,
              "#7201a8"
             ],
             [
              0.3333333333333333,
              "#9c179e"
             ],
             [
              0.4444444444444444,
              "#bd3786"
             ],
             [
              0.5555555555555556,
              "#d8576b"
             ],
             [
              0.6666666666666666,
              "#ed7953"
             ],
             [
              0.7777777777777778,
              "#fb9f3a"
             ],
             [
              0.8888888888888888,
              "#fdca26"
             ],
             [
              1,
              "#f0f921"
             ]
            ],
            "type": "heatmap"
           }
          ],
          "heatmapgl": [
           {
            "colorbar": {
             "outlinewidth": 0,
             "ticks": ""
            },
            "colorscale": [
             [
              0,
              "#0d0887"
             ],
             [
              0.1111111111111111,
              "#46039f"
             ],
             [
              0.2222222222222222,
              "#7201a8"
             ],
             [
              0.3333333333333333,
              "#9c179e"
             ],
             [
              0.4444444444444444,
              "#bd3786"
             ],
             [
              0.5555555555555556,
              "#d8576b"
             ],
             [
              0.6666666666666666,
              "#ed7953"
             ],
             [
              0.7777777777777778,
              "#fb9f3a"
             ],
             [
              0.8888888888888888,
              "#fdca26"
             ],
             [
              1,
              "#f0f921"
             ]
            ],
            "type": "heatmapgl"
           }
          ],
          "histogram": [
           {
            "marker": {
             "pattern": {
              "fillmode": "overlay",
              "size": 10,
              "solidity": 0.2
             }
            },
            "type": "histogram"
           }
          ],
          "histogram2d": [
           {
            "colorbar": {
             "outlinewidth": 0,
             "ticks": ""
            },
            "colorscale": [
             [
              0,
              "#0d0887"
             ],
             [
              0.1111111111111111,
              "#46039f"
             ],
             [
              0.2222222222222222,
              "#7201a8"
             ],
             [
              0.3333333333333333,
              "#9c179e"
             ],
             [
              0.4444444444444444,
              "#bd3786"
             ],
             [
              0.5555555555555556,
              "#d8576b"
             ],
             [
              0.6666666666666666,
              "#ed7953"
             ],
             [
              0.7777777777777778,
              "#fb9f3a"
             ],
             [
              0.8888888888888888,
              "#fdca26"
             ],
             [
              1,
              "#f0f921"
             ]
            ],
            "type": "histogram2d"
           }
          ],
          "histogram2dcontour": [
           {
            "colorbar": {
             "outlinewidth": 0,
             "ticks": ""
            },
            "colorscale": [
             [
              0,
              "#0d0887"
             ],
             [
              0.1111111111111111,
              "#46039f"
             ],
             [
              0.2222222222222222,
              "#7201a8"
             ],
             [
              0.3333333333333333,
              "#9c179e"
             ],
             [
              0.4444444444444444,
              "#bd3786"
             ],
             [
              0.5555555555555556,
              "#d8576b"
             ],
             [
              0.6666666666666666,
              "#ed7953"
             ],
             [
              0.7777777777777778,
              "#fb9f3a"
             ],
             [
              0.8888888888888888,
              "#fdca26"
             ],
             [
              1,
              "#f0f921"
             ]
            ],
            "type": "histogram2dcontour"
           }
          ],
          "mesh3d": [
           {
            "colorbar": {
             "outlinewidth": 0,
             "ticks": ""
            },
            "type": "mesh3d"
           }
          ],
          "parcoords": [
           {
            "line": {
             "colorbar": {
              "outlinewidth": 0,
              "ticks": ""
             }
            },
            "type": "parcoords"
           }
          ],
          "pie": [
           {
            "automargin": true,
            "type": "pie"
           }
          ],
          "scatter": [
           {
            "fillpattern": {
             "fillmode": "overlay",
             "size": 10,
             "solidity": 0.2
            },
            "type": "scatter"
           }
          ],
          "scatter3d": [
           {
            "line": {
             "colorbar": {
              "outlinewidth": 0,
              "ticks": ""
             }
            },
            "marker": {
             "colorbar": {
              "outlinewidth": 0,
              "ticks": ""
             }
            },
            "type": "scatter3d"
           }
          ],
          "scattercarpet": [
           {
            "marker": {
             "colorbar": {
              "outlinewidth": 0,
              "ticks": ""
             }
            },
            "type": "scattercarpet"
           }
          ],
          "scattergeo": [
           {
            "marker": {
             "colorbar": {
              "outlinewidth": 0,
              "ticks": ""
             }
            },
            "type": "scattergeo"
           }
          ],
          "scattergl": [
           {
            "marker": {
             "colorbar": {
              "outlinewidth": 0,
              "ticks": ""
             }
            },
            "type": "scattergl"
           }
          ],
          "scattermapbox": [
           {
            "marker": {
             "colorbar": {
              "outlinewidth": 0,
              "ticks": ""
             }
            },
            "type": "scattermapbox"
           }
          ],
          "scatterpolar": [
           {
            "marker": {
             "colorbar": {
              "outlinewidth": 0,
              "ticks": ""
             }
            },
            "type": "scatterpolar"
           }
          ],
          "scatterpolargl": [
           {
            "marker": {
             "colorbar": {
              "outlinewidth": 0,
              "ticks": ""
             }
            },
            "type": "scatterpolargl"
           }
          ],
          "scatterternary": [
           {
            "marker": {
             "colorbar": {
              "outlinewidth": 0,
              "ticks": ""
             }
            },
            "type": "scatterternary"
           }
          ],
          "surface": [
           {
            "colorbar": {
             "outlinewidth": 0,
             "ticks": ""
            },
            "colorscale": [
             [
              0,
              "#0d0887"
             ],
             [
              0.1111111111111111,
              "#46039f"
             ],
             [
              0.2222222222222222,
              "#7201a8"
             ],
             [
              0.3333333333333333,
              "#9c179e"
             ],
             [
              0.4444444444444444,
              "#bd3786"
             ],
             [
              0.5555555555555556,
              "#d8576b"
             ],
             [
              0.6666666666666666,
              "#ed7953"
             ],
             [
              0.7777777777777778,
              "#fb9f3a"
             ],
             [
              0.8888888888888888,
              "#fdca26"
             ],
             [
              1,
              "#f0f921"
             ]
            ],
            "type": "surface"
           }
          ],
          "table": [
           {
            "cells": {
             "fill": {
              "color": "#EBF0F8"
             },
             "line": {
              "color": "white"
             }
            },
            "header": {
             "fill": {
              "color": "#C8D4E3"
             },
             "line": {
              "color": "white"
             }
            },
            "type": "table"
           }
          ]
         },
         "layout": {
          "annotationdefaults": {
           "arrowcolor": "#2a3f5f",
           "arrowhead": 0,
           "arrowwidth": 1
          },
          "autotypenumbers": "strict",
          "coloraxis": {
           "colorbar": {
            "outlinewidth": 0,
            "ticks": ""
           }
          },
          "colorscale": {
           "diverging": [
            [
             0,
             "#8e0152"
            ],
            [
             0.1,
             "#c51b7d"
            ],
            [
             0.2,
             "#de77ae"
            ],
            [
             0.3,
             "#f1b6da"
            ],
            [
             0.4,
             "#fde0ef"
            ],
            [
             0.5,
             "#f7f7f7"
            ],
            [
             0.6,
             "#e6f5d0"
            ],
            [
             0.7,
             "#b8e186"
            ],
            [
             0.8,
             "#7fbc41"
            ],
            [
             0.9,
             "#4d9221"
            ],
            [
             1,
             "#276419"
            ]
           ],
           "sequential": [
            [
             0,
             "#0d0887"
            ],
            [
             0.1111111111111111,
             "#46039f"
            ],
            [
             0.2222222222222222,
             "#7201a8"
            ],
            [
             0.3333333333333333,
             "#9c179e"
            ],
            [
             0.4444444444444444,
             "#bd3786"
            ],
            [
             0.5555555555555556,
             "#d8576b"
            ],
            [
             0.6666666666666666,
             "#ed7953"
            ],
            [
             0.7777777777777778,
             "#fb9f3a"
            ],
            [
             0.8888888888888888,
             "#fdca26"
            ],
            [
             1,
             "#f0f921"
            ]
           ],
           "sequentialminus": [
            [
             0,
             "#0d0887"
            ],
            [
             0.1111111111111111,
             "#46039f"
            ],
            [
             0.2222222222222222,
             "#7201a8"
            ],
            [
             0.3333333333333333,
             "#9c179e"
            ],
            [
             0.4444444444444444,
             "#bd3786"
            ],
            [
             0.5555555555555556,
             "#d8576b"
            ],
            [
             0.6666666666666666,
             "#ed7953"
            ],
            [
             0.7777777777777778,
             "#fb9f3a"
            ],
            [
             0.8888888888888888,
             "#fdca26"
            ],
            [
             1,
             "#f0f921"
            ]
           ]
          },
          "colorway": [
           "#636efa",
           "#EF553B",
           "#00cc96",
           "#ab63fa",
           "#FFA15A",
           "#19d3f3",
           "#FF6692",
           "#B6E880",
           "#FF97FF",
           "#FECB52"
          ],
          "font": {
           "color": "#2a3f5f"
          },
          "geo": {
           "bgcolor": "white",
           "lakecolor": "white",
           "landcolor": "#E5ECF6",
           "showlakes": true,
           "showland": true,
           "subunitcolor": "white"
          },
          "hoverlabel": {
           "align": "left"
          },
          "hovermode": "closest",
          "mapbox": {
           "style": "light"
          },
          "paper_bgcolor": "white",
          "plot_bgcolor": "#E5ECF6",
          "polar": {
           "angularaxis": {
            "gridcolor": "white",
            "linecolor": "white",
            "ticks": ""
           },
           "bgcolor": "#E5ECF6",
           "radialaxis": {
            "gridcolor": "white",
            "linecolor": "white",
            "ticks": ""
           }
          },
          "scene": {
           "xaxis": {
            "backgroundcolor": "#E5ECF6",
            "gridcolor": "white",
            "gridwidth": 2,
            "linecolor": "white",
            "showbackground": true,
            "ticks": "",
            "zerolinecolor": "white"
           },
           "yaxis": {
            "backgroundcolor": "#E5ECF6",
            "gridcolor": "white",
            "gridwidth": 2,
            "linecolor": "white",
            "showbackground": true,
            "ticks": "",
            "zerolinecolor": "white"
           },
           "zaxis": {
            "backgroundcolor": "#E5ECF6",
            "gridcolor": "white",
            "gridwidth": 2,
            "linecolor": "white",
            "showbackground": true,
            "ticks": "",
            "zerolinecolor": "white"
           }
          },
          "shapedefaults": {
           "line": {
            "color": "#2a3f5f"
           }
          },
          "ternary": {
           "aaxis": {
            "gridcolor": "white",
            "linecolor": "white",
            "ticks": ""
           },
           "baxis": {
            "gridcolor": "white",
            "linecolor": "white",
            "ticks": ""
           },
           "bgcolor": "#E5ECF6",
           "caxis": {
            "gridcolor": "white",
            "linecolor": "white",
            "ticks": ""
           }
          },
          "title": {
           "x": 0.05
          },
          "xaxis": {
           "automargin": true,
           "gridcolor": "white",
           "linecolor": "white",
           "ticks": "",
           "title": {
            "standoff": 15
           },
           "zerolinecolor": "white",
           "zerolinewidth": 2
          },
          "yaxis": {
           "automargin": true,
           "gridcolor": "white",
           "linecolor": "white",
           "ticks": "",
           "title": {
            "standoff": 15
           },
           "zerolinecolor": "white",
           "zerolinewidth": 2
          }
         }
        },
        "title": {
         "text": "Corr après attaque en fonction de No"
        },
        "width": 700,
        "xaxis": {
         "title": {
          "text": "No (Nombre d'observations)"
         }
        },
        "yaxis": {
         "title": {
          "text": "Cor"
         }
        }
       }
      }
     },
     "metadata": {},
     "output_type": "display_data"
    }
   ],
   "source": [
    "# 3rd scenario, 2 bits\n",
    "print('3rd scenario, 2bits')\n",
    "\n",
    "m1 = np.sign(np.random.randn(Ni,1))#Scenario with unknow messages, first bit\n",
    "m2 = np.sign(np.random.randn(Ni,1))#Scenario with unknow messages, second bit\n",
    "\n",
    "k1 = np.random.randn(Nv,1) # Generate de Watermark\n",
    "k1 = k1 / np.sqrt(np.dot(k1.T,k1)) # Normalize the watermark\n",
    "\n",
    "k2 = np.random.randn(Nv,1) # Generate de Watermark\n",
    "k2 = k2 / np.sqrt(np.dot(k2.T,k2)) # Normalize the watermark\n",
    "\n",
    "def do_process(alpha,No):\n",
    "    #print('alpha: ',alpha)\n",
    "    #print('No: ',No)\n",
    "\n",
    "    X = np.random.randn(Nv,Ni) # Generate Ni random host vectors\n",
    "    K = np.dot(k1,m1.T) + np.dot(k2,m2.T) # Generate the matrix of watermarks (each column contains m1_i*k)\n",
    "    W = alpha*K\n",
    "    Y = X + W # perform embedding\n",
    "    Y_obs = Y[:,:No]\n",
    "    # TO DO\n",
    "    \n",
    "    # hatk_1 = TO DO\n",
    "    hatk_1 =FastICA(n_components=2).fit(Y_obs.T).mixing_[:,0]\n",
    "    hatk_1 = np.reshape(hatk_1,(Nv,1))\n",
    "\n",
    "    corrN_1 = norm_corr(hatk_1,k1) # Compute the Normalised correlation\n",
    "    \n",
    "\n",
    "    corrN_2 = norm_corr(hatk_1,k2) # Compute the Normalised correlation\n",
    "    \n",
    "\n",
    "    # Perform the attack\n",
    "    # To do\n",
    "    YA_1 =  Y - alpha*np.dot(hatk_1,m1.T)\n",
    "    YA_2 =  Y - alpha*np.dot(hatk_1,m2.T)\n",
    "    return max(ber(YA_2, m1, k1),ber(YA_1, m2, k2)), np.max([corrN_1[0][0], corrN_2[0][0]])\n",
    "\n",
    "\n",
    "alpha = 2   \n",
    "Ni = 20000 \n",
    "# Réinitialisation des vecteurs pour les plots\n",
    "ber_values = []\n",
    "corr_values = []\n",
    "No_values = range(100,Ni,100) \n",
    "\n",
    "# One example, can be used to draw plots\n",
    "for No in No_values:\n",
    "    ber_val, corr_val = do_process(alpha, No)\n",
    "    ber_values.append(ber_val)\n",
    "    corr_values.append(corr_val)\n",
    "\n",
    "\n",
    "# Graphique du BER\n",
    "fig_ber = go.Figure()\n",
    "fig_ber.add_trace(go.Scatter(x=list(No_values), y=ber_values, mode='lines+markers', name='BER après attaque'))\n",
    "fig_ber.add_hline(y=0.5, line_dash=\"dot\", line_color=\"red\", annotation_text=\"BER 50%\", annotation_position=\"bottom left\")\n",
    "fig_ber.update_layout(\n",
    "    title=\"BER après attaque en fonction de No\",\n",
    "    xaxis_title=\"No (Nombre d'observations)\",\n",
    "    yaxis_title=\"BER\",\n",
    "    width=700,\n",
    "    height=400\n",
    ")\n",
    "fig_ber.show()\n",
    "\n",
    "# Graphique du Corr\n",
    "fig_corr = go.Figure()\n",
    "fig_corr.add_trace(go.Scatter(x=list(No_values), y=corr_values, mode='lines+markers', name='Corr après attaque'))\n",
    "fig_corr.add_hline(y=1, line_dash=\"dot\", line_color=\"red\", annotation_text=\"Corr = 1\", annotation_position=\"bottom left\")\n",
    "fig_corr.update_layout(\n",
    "    title=\"Corr après attaque en fonction de No\",\n",
    "    xaxis_title=\"No (Nombre d'observations)\",\n",
    "    yaxis_title=\"Cor\",\n",
    "    width=700,\n",
    "    height=400\n",
    ")\n",
    "fig_corr.show()\n"
   ]
  },
  {
   "cell_type": "code",
   "execution_count": 25,
   "metadata": {},
   "outputs": [
    {
     "name": "stderr",
     "output_type": "stream",
     "text": [
      "C:\\Users\\NICOLAS\\AppData\\Roaming\\Python\\Python39\\site-packages\\sklearn\\decomposition\\_fastica.py:128: ConvergenceWarning:\n",
      "\n",
      "FastICA did not converge. Consider increasing tolerance or the maximum number of iterations.\n",
      "\n",
      "C:\\Users\\NICOLAS\\AppData\\Roaming\\Python\\Python39\\site-packages\\sklearn\\decomposition\\_fastica.py:128: ConvergenceWarning:\n",
      "\n",
      "FastICA did not converge. Consider increasing tolerance or the maximum number of iterations.\n",
      "\n",
      "C:\\Users\\NICOLAS\\AppData\\Roaming\\Python\\Python39\\site-packages\\sklearn\\decomposition\\_fastica.py:128: ConvergenceWarning:\n",
      "\n",
      "FastICA did not converge. Consider increasing tolerance or the maximum number of iterations.\n",
      "\n",
      "C:\\Users\\NICOLAS\\AppData\\Roaming\\Python\\Python39\\site-packages\\sklearn\\decomposition\\_fastica.py:128: ConvergenceWarning:\n",
      "\n",
      "FastICA did not converge. Consider increasing tolerance or the maximum number of iterations.\n",
      "\n",
      "C:\\Users\\NICOLAS\\AppData\\Roaming\\Python\\Python39\\site-packages\\sklearn\\decomposition\\_fastica.py:128: ConvergenceWarning:\n",
      "\n",
      "FastICA did not converge. Consider increasing tolerance or the maximum number of iterations.\n",
      "\n",
      "C:\\Users\\NICOLAS\\AppData\\Roaming\\Python\\Python39\\site-packages\\sklearn\\decomposition\\_fastica.py:128: ConvergenceWarning:\n",
      "\n",
      "FastICA did not converge. Consider increasing tolerance or the maximum number of iterations.\n",
      "\n",
      "C:\\Users\\NICOLAS\\AppData\\Roaming\\Python\\Python39\\site-packages\\sklearn\\decomposition\\_fastica.py:128: ConvergenceWarning:\n",
      "\n",
      "FastICA did not converge. Consider increasing tolerance or the maximum number of iterations.\n",
      "\n",
      "C:\\Users\\NICOLAS\\AppData\\Roaming\\Python\\Python39\\site-packages\\sklearn\\decomposition\\_fastica.py:128: ConvergenceWarning:\n",
      "\n",
      "FastICA did not converge. Consider increasing tolerance or the maximum number of iterations.\n",
      "\n",
      "C:\\Users\\NICOLAS\\AppData\\Roaming\\Python\\Python39\\site-packages\\sklearn\\decomposition\\_fastica.py:128: ConvergenceWarning:\n",
      "\n",
      "FastICA did not converge. Consider increasing tolerance or the maximum number of iterations.\n",
      "\n",
      "C:\\Users\\NICOLAS\\AppData\\Roaming\\Python\\Python39\\site-packages\\sklearn\\decomposition\\_fastica.py:128: ConvergenceWarning:\n",
      "\n",
      "FastICA did not converge. Consider increasing tolerance or the maximum number of iterations.\n",
      "\n",
      "C:\\Users\\NICOLAS\\AppData\\Roaming\\Python\\Python39\\site-packages\\sklearn\\decomposition\\_fastica.py:128: ConvergenceWarning:\n",
      "\n",
      "FastICA did not converge. Consider increasing tolerance or the maximum number of iterations.\n",
      "\n",
      "C:\\Users\\NICOLAS\\AppData\\Roaming\\Python\\Python39\\site-packages\\sklearn\\decomposition\\_fastica.py:128: ConvergenceWarning:\n",
      "\n",
      "FastICA did not converge. Consider increasing tolerance or the maximum number of iterations.\n",
      "\n",
      "C:\\Users\\NICOLAS\\AppData\\Roaming\\Python\\Python39\\site-packages\\sklearn\\decomposition\\_fastica.py:128: ConvergenceWarning:\n",
      "\n",
      "FastICA did not converge. Consider increasing tolerance or the maximum number of iterations.\n",
      "\n",
      "C:\\Users\\NICOLAS\\AppData\\Roaming\\Python\\Python39\\site-packages\\sklearn\\decomposition\\_fastica.py:128: ConvergenceWarning:\n",
      "\n",
      "FastICA did not converge. Consider increasing tolerance or the maximum number of iterations.\n",
      "\n",
      "C:\\Users\\NICOLAS\\AppData\\Roaming\\Python\\Python39\\site-packages\\sklearn\\decomposition\\_fastica.py:128: ConvergenceWarning:\n",
      "\n",
      "FastICA did not converge. Consider increasing tolerance or the maximum number of iterations.\n",
      "\n",
      "C:\\Users\\NICOLAS\\AppData\\Roaming\\Python\\Python39\\site-packages\\sklearn\\decomposition\\_fastica.py:128: ConvergenceWarning:\n",
      "\n",
      "FastICA did not converge. Consider increasing tolerance or the maximum number of iterations.\n",
      "\n",
      "C:\\Users\\NICOLAS\\AppData\\Roaming\\Python\\Python39\\site-packages\\sklearn\\decomposition\\_fastica.py:128: ConvergenceWarning:\n",
      "\n",
      "FastICA did not converge. Consider increasing tolerance or the maximum number of iterations.\n",
      "\n",
      "C:\\Users\\NICOLAS\\AppData\\Roaming\\Python\\Python39\\site-packages\\sklearn\\decomposition\\_fastica.py:128: ConvergenceWarning:\n",
      "\n",
      "FastICA did not converge. Consider increasing tolerance or the maximum number of iterations.\n",
      "\n",
      "C:\\Users\\NICOLAS\\AppData\\Roaming\\Python\\Python39\\site-packages\\sklearn\\decomposition\\_fastica.py:128: ConvergenceWarning:\n",
      "\n",
      "FastICA did not converge. Consider increasing tolerance or the maximum number of iterations.\n",
      "\n",
      "C:\\Users\\NICOLAS\\AppData\\Roaming\\Python\\Python39\\site-packages\\sklearn\\decomposition\\_fastica.py:128: ConvergenceWarning:\n",
      "\n",
      "FastICA did not converge. Consider increasing tolerance or the maximum number of iterations.\n",
      "\n",
      "C:\\Users\\NICOLAS\\AppData\\Roaming\\Python\\Python39\\site-packages\\sklearn\\decomposition\\_fastica.py:128: ConvergenceWarning:\n",
      "\n",
      "FastICA did not converge. Consider increasing tolerance or the maximum number of iterations.\n",
      "\n",
      "C:\\Users\\NICOLAS\\AppData\\Roaming\\Python\\Python39\\site-packages\\sklearn\\decomposition\\_fastica.py:128: ConvergenceWarning:\n",
      "\n",
      "FastICA did not converge. Consider increasing tolerance or the maximum number of iterations.\n",
      "\n",
      "C:\\Users\\NICOLAS\\AppData\\Roaming\\Python\\Python39\\site-packages\\sklearn\\decomposition\\_fastica.py:128: ConvergenceWarning:\n",
      "\n",
      "FastICA did not converge. Consider increasing tolerance or the maximum number of iterations.\n",
      "\n",
      "C:\\Users\\NICOLAS\\AppData\\Roaming\\Python\\Python39\\site-packages\\sklearn\\decomposition\\_fastica.py:128: ConvergenceWarning:\n",
      "\n",
      "FastICA did not converge. Consider increasing tolerance or the maximum number of iterations.\n",
      "\n",
      "C:\\Users\\NICOLAS\\AppData\\Roaming\\Python\\Python39\\site-packages\\sklearn\\decomposition\\_fastica.py:128: ConvergenceWarning:\n",
      "\n",
      "FastICA did not converge. Consider increasing tolerance or the maximum number of iterations.\n",
      "\n",
      "C:\\Users\\NICOLAS\\AppData\\Roaming\\Python\\Python39\\site-packages\\sklearn\\decomposition\\_fastica.py:128: ConvergenceWarning:\n",
      "\n",
      "FastICA did not converge. Consider increasing tolerance or the maximum number of iterations.\n",
      "\n",
      "C:\\Users\\NICOLAS\\AppData\\Roaming\\Python\\Python39\\site-packages\\sklearn\\decomposition\\_fastica.py:128: ConvergenceWarning:\n",
      "\n",
      "FastICA did not converge. Consider increasing tolerance or the maximum number of iterations.\n",
      "\n",
      "C:\\Users\\NICOLAS\\AppData\\Roaming\\Python\\Python39\\site-packages\\sklearn\\decomposition\\_fastica.py:128: ConvergenceWarning:\n",
      "\n",
      "FastICA did not converge. Consider increasing tolerance or the maximum number of iterations.\n",
      "\n"
     ]
    },
    {
     "data": {
      "application/vnd.plotly.v1+json": {
       "config": {
        "plotlyServerURL": "https://plot.ly"
       },
       "data": [
        {
         "mode": "lines+markers",
         "name": "alpha = 0.2",
         "type": "scatter",
         "x": [
          100,
          200,
          300,
          400,
          500,
          600,
          700,
          800,
          900,
          1000,
          1100,
          1200,
          1300,
          1400,
          1500,
          1600,
          1700,
          1800,
          1900,
          2000,
          2100,
          2200,
          2300,
          2400,
          2500,
          2600,
          2700,
          2800,
          2900,
          3000,
          3100,
          3200,
          3300,
          3400,
          3500,
          3600,
          3700,
          3800,
          3900,
          4000,
          4100,
          4200,
          4300,
          4400,
          4500,
          4600,
          4700,
          4800,
          4900,
          5000,
          5100,
          5200,
          5300,
          5400,
          5500,
          5600,
          5700,
          5800,
          5900,
          6000,
          6100,
          6200,
          6300,
          6400,
          6500,
          6600,
          6700,
          6800,
          6900,
          7000,
          7100,
          7200,
          7300,
          7400,
          7500,
          7600,
          7700,
          7800,
          7900,
          8000,
          8100,
          8200,
          8300,
          8400,
          8500,
          8600,
          8700,
          8800,
          8900,
          9000,
          9100,
          9200,
          9300,
          9400,
          9500,
          9600,
          9700,
          9800,
          9900,
          10000,
          10100,
          10200,
          10300,
          10400,
          10500,
          10600,
          10700,
          10800,
          10900,
          11000,
          11100,
          11200,
          11300,
          11400,
          11500,
          11600,
          11700,
          11800,
          11900,
          12000,
          12100,
          12200,
          12300,
          12400,
          12500,
          12600,
          12700,
          12800,
          12900,
          13000,
          13100,
          13200,
          13300,
          13400,
          13500,
          13600,
          13700,
          13800,
          13900,
          14000,
          14100,
          14200,
          14300,
          14400,
          14500,
          14600,
          14700,
          14800,
          14900,
          15000,
          15100,
          15200,
          15300,
          15400,
          15500,
          15600,
          15700,
          15800,
          15900,
          16000,
          16100,
          16200,
          16300,
          16400,
          16500,
          16600,
          16700,
          16800,
          16900,
          17000,
          17100,
          17200,
          17300,
          17400,
          17500,
          17600,
          17700,
          17800,
          17900,
          18000,
          18100,
          18200,
          18300,
          18400,
          18500,
          18600,
          18700,
          18800,
          18900,
          19000,
          19100,
          19200,
          19300,
          19400,
          19500,
          19600,
          19700,
          19800,
          19900
         ],
         "y": [
          0.41955,
          0.41825,
          0.4273,
          0.4242,
          0.4238,
          0.4218,
          0.41785,
          0.42735,
          0.4169,
          0.4217,
          0.4222,
          0.4223,
          0.41995,
          0.4233,
          0.4267,
          0.4208,
          0.4242,
          0.4234,
          0.41865,
          0.4228,
          0.41905,
          0.4178,
          0.4241,
          0.4256,
          0.41805,
          0.42885,
          0.4231,
          0.42255,
          0.4197,
          0.42015,
          0.42365,
          0.4235,
          0.4311,
          0.41875,
          0.4234,
          0.42105,
          0.42415,
          0.4217,
          0.42415,
          0.41715,
          0.42445,
          0.42435,
          0.42055,
          0.4274,
          0.4235,
          0.42545,
          0.41835,
          0.4206,
          0.4236,
          0.41985,
          0.42015,
          0.42275,
          0.4263,
          0.4215,
          0.42165,
          0.42395,
          0.42335,
          0.42555,
          0.41845,
          0.4188,
          0.4211,
          0.41815,
          0.425,
          0.42345,
          0.4267,
          0.42335,
          0.42495,
          0.4253,
          0.4192,
          0.42265,
          0.42645,
          0.424,
          0.42575,
          0.42095,
          0.4243,
          0.4237,
          0.4214,
          0.42085,
          0.4201,
          0.4219,
          0.42535,
          0.42525,
          0.4212,
          0.4256,
          0.42085,
          0.4237,
          0.4231,
          0.42,
          0.4247,
          0.4226,
          0.41915,
          0.4236,
          0.42585,
          0.4218,
          0.42165,
          0.42915,
          0.4193,
          0.41865,
          0.4231,
          0.4227,
          0.4278,
          0.42705,
          0.42075,
          0.42225,
          0.4203,
          0.4246,
          0.425,
          0.4234,
          0.42555,
          0.421,
          0.42245,
          0.41895,
          0.42375,
          0.42605,
          0.4251,
          0.4214,
          0.4234,
          0.41885,
          0.4231,
          0.42815,
          0.4239,
          0.42305,
          0.42025,
          0.42285,
          0.429,
          0.42585,
          0.419,
          0.42215,
          0.4225,
          0.42495,
          0.4233,
          0.42295,
          0.4248,
          0.422,
          0.422,
          0.4266,
          0.41895,
          0.4177,
          0.42235,
          0.4224,
          0.42485,
          0.42015,
          0.42335,
          0.42385,
          0.42205,
          0.4199,
          0.4277,
          0.4267,
          0.4186,
          0.42455,
          0.4201,
          0.42105,
          0.4229,
          0.4246,
          0.42525,
          0.4215,
          0.42215,
          0.42425,
          0.4285,
          0.417,
          0.4186,
          0.42015,
          0.42245,
          0.42445,
          0.42245,
          0.41855,
          0.42215,
          0.42575,
          0.42905,
          0.42125,
          0.4188,
          0.42405,
          0.41795,
          0.4203,
          0.42145,
          0.4209,
          0.4245,
          0.4225,
          0.42835,
          0.4157,
          0.41845,
          0.41795,
          0.4271,
          0.41905,
          0.4186,
          0.422,
          0.42455,
          0.4235,
          0.42495,
          0.4209,
          0.42285,
          0.42805,
          0.42,
          0.4179,
          0.4233,
          0.42265,
          0.41835,
          0.41995,
          0.42175
         ]
        },
        {
         "mode": "lines+markers",
         "name": "alpha = 0.5",
         "type": "scatter",
         "x": [
          100,
          200,
          300,
          400,
          500,
          600,
          700,
          800,
          900,
          1000,
          1100,
          1200,
          1300,
          1400,
          1500,
          1600,
          1700,
          1800,
          1900,
          2000,
          2100,
          2200,
          2300,
          2400,
          2500,
          2600,
          2700,
          2800,
          2900,
          3000,
          3100,
          3200,
          3300,
          3400,
          3500,
          3600,
          3700,
          3800,
          3900,
          4000,
          4100,
          4200,
          4300,
          4400,
          4500,
          4600,
          4700,
          4800,
          4900,
          5000,
          5100,
          5200,
          5300,
          5400,
          5500,
          5600,
          5700,
          5800,
          5900,
          6000,
          6100,
          6200,
          6300,
          6400,
          6500,
          6600,
          6700,
          6800,
          6900,
          7000,
          7100,
          7200,
          7300,
          7400,
          7500,
          7600,
          7700,
          7800,
          7900,
          8000,
          8100,
          8200,
          8300,
          8400,
          8500,
          8600,
          8700,
          8800,
          8900,
          9000,
          9100,
          9200,
          9300,
          9400,
          9500,
          9600,
          9700,
          9800,
          9900,
          10000,
          10100,
          10200,
          10300,
          10400,
          10500,
          10600,
          10700,
          10800,
          10900,
          11000,
          11100,
          11200,
          11300,
          11400,
          11500,
          11600,
          11700,
          11800,
          11900,
          12000,
          12100,
          12200,
          12300,
          12400,
          12500,
          12600,
          12700,
          12800,
          12900,
          13000,
          13100,
          13200,
          13300,
          13400,
          13500,
          13600,
          13700,
          13800,
          13900,
          14000,
          14100,
          14200,
          14300,
          14400,
          14500,
          14600,
          14700,
          14800,
          14900,
          15000,
          15100,
          15200,
          15300,
          15400,
          15500,
          15600,
          15700,
          15800,
          15900,
          16000,
          16100,
          16200,
          16300,
          16400,
          16500,
          16600,
          16700,
          16800,
          16900,
          17000,
          17100,
          17200,
          17300,
          17400,
          17500,
          17600,
          17700,
          17800,
          17900,
          18000,
          18100,
          18200,
          18300,
          18400,
          18500,
          18600,
          18700,
          18800,
          18900,
          19000,
          19100,
          19200,
          19300,
          19400,
          19500,
          19600,
          19700,
          19800,
          19900
         ],
         "y": [
          0.30865,
          0.31195,
          0.31665,
          0.3101,
          0.3094,
          0.31435,
          0.31235,
          0.31315,
          0.3117,
          0.31315,
          0.32385,
          0.31175,
          0.31395,
          0.3086,
          0.31895,
          0.32085,
          0.3136,
          0.31815,
          0.31755,
          0.3144,
          0.3126,
          0.3134,
          0.3163,
          0.323,
          0.3145,
          0.3147,
          0.33245,
          0.31595,
          0.32315,
          0.31435,
          0.3258,
          0.3233,
          0.3286,
          0.3246,
          0.32295,
          0.316,
          0.31325,
          0.3109,
          0.32105,
          0.31615,
          0.3232,
          0.32415,
          0.32725,
          0.31675,
          0.32555,
          0.3244,
          0.3222,
          0.3208,
          0.32455,
          0.32495,
          0.3343,
          0.3248,
          0.31795,
          0.3241,
          0.32955,
          0.31695,
          0.3205,
          0.31805,
          0.31735,
          0.3258,
          0.3364,
          0.3236,
          0.31785,
          0.3242,
          0.3236,
          0.3289,
          0.3196,
          0.31995,
          0.318,
          0.3253,
          0.3241,
          0.3185,
          0.32905,
          0.3322,
          0.3221,
          0.32965,
          0.33185,
          0.33255,
          0.3238,
          0.3294,
          0.31645,
          0.3244,
          0.3344,
          0.32385,
          0.3225,
          0.3244,
          0.3198,
          0.3261,
          0.32745,
          0.32235,
          0.33125,
          0.3245,
          0.31455,
          0.33325,
          0.33875,
          0.33885,
          0.33365,
          0.3249,
          0.32205,
          0.3331,
          0.32575,
          0.3164,
          0.314,
          0.3321,
          0.32425,
          0.33865,
          0.32575,
          0.32385,
          0.3206,
          0.3244,
          0.3338,
          0.3159,
          0.3216,
          0.3335,
          0.3329,
          0.3252,
          0.32785,
          0.3267,
          0.3329,
          0.33585,
          0.32855,
          0.33645,
          0.3261,
          0.3272,
          0.3329,
          0.326,
          0.31805,
          0.32735,
          0.327,
          0.3304,
          0.3272,
          0.32955,
          0.3263,
          0.327,
          0.32875,
          0.3365,
          0.32375,
          0.33265,
          0.32255,
          0.33615,
          0.3262,
          0.32595,
          0.3391,
          0.3217,
          0.32855,
          0.32865,
          0.3328,
          0.33265,
          0.33205,
          0.33535,
          0.3287,
          0.3374,
          0.34035,
          0.3317,
          0.3352,
          0.33565,
          0.3292,
          0.33755,
          0.33385,
          0.33435,
          0.3311,
          0.32845,
          0.3258,
          0.32205,
          0.33575,
          0.3298,
          0.32915,
          0.3299,
          0.33545,
          0.32335,
          0.32365,
          0.34215,
          0.3251,
          0.3372,
          0.3308,
          0.32835,
          0.33535,
          0.32985,
          0.3183,
          0.32365,
          0.33,
          0.3273,
          0.3383,
          0.32835,
          0.3245,
          0.3329,
          0.3326,
          0.3387,
          0.32375,
          0.33685,
          0.3334,
          0.326,
          0.3351,
          0.3268,
          0.32655,
          0.32975,
          0.31805,
          0.32635,
          0.33295
         ]
        },
        {
         "mode": "lines+markers",
         "name": "alpha = 1",
         "type": "scatter",
         "x": [
          100,
          200,
          300,
          400,
          500,
          600,
          700,
          800,
          900,
          1000,
          1100,
          1200,
          1300,
          1400,
          1500,
          1600,
          1700,
          1800,
          1900,
          2000,
          2100,
          2200,
          2300,
          2400,
          2500,
          2600,
          2700,
          2800,
          2900,
          3000,
          3100,
          3200,
          3300,
          3400,
          3500,
          3600,
          3700,
          3800,
          3900,
          4000,
          4100,
          4200,
          4300,
          4400,
          4500,
          4600,
          4700,
          4800,
          4900,
          5000,
          5100,
          5200,
          5300,
          5400,
          5500,
          5600,
          5700,
          5800,
          5900,
          6000,
          6100,
          6200,
          6300,
          6400,
          6500,
          6600,
          6700,
          6800,
          6900,
          7000,
          7100,
          7200,
          7300,
          7400,
          7500,
          7600,
          7700,
          7800,
          7900,
          8000,
          8100,
          8200,
          8300,
          8400,
          8500,
          8600,
          8700,
          8800,
          8900,
          9000,
          9100,
          9200,
          9300,
          9400,
          9500,
          9600,
          9700,
          9800,
          9900,
          10000,
          10100,
          10200,
          10300,
          10400,
          10500,
          10600,
          10700,
          10800,
          10900,
          11000,
          11100,
          11200,
          11300,
          11400,
          11500,
          11600,
          11700,
          11800,
          11900,
          12000,
          12100,
          12200,
          12300,
          12400,
          12500,
          12600,
          12700,
          12800,
          12900,
          13000,
          13100,
          13200,
          13300,
          13400,
          13500,
          13600,
          13700,
          13800,
          13900,
          14000,
          14100,
          14200,
          14300,
          14400,
          14500,
          14600,
          14700,
          14800,
          14900,
          15000,
          15100,
          15200,
          15300,
          15400,
          15500,
          15600,
          15700,
          15800,
          15900,
          16000,
          16100,
          16200,
          16300,
          16400,
          16500,
          16600,
          16700,
          16800,
          16900,
          17000,
          17100,
          17200,
          17300,
          17400,
          17500,
          17600,
          17700,
          17800,
          17900,
          18000,
          18100,
          18200,
          18300,
          18400,
          18500,
          18600,
          18700,
          18800,
          18900,
          19000,
          19100,
          19200,
          19300,
          19400,
          19500,
          19600,
          19700,
          19800,
          19900
         ],
         "y": [
          0.2345,
          0.2559,
          0.2799,
          0.28235,
          0.33765,
          0.2389,
          0.29465,
          0.28635,
          0.31055,
          0.3052,
          0.3495,
          0.2988,
          0.3321,
          0.34685,
          0.3125,
          0.30945,
          0.3133,
          0.35245,
          0.35525,
          0.3056,
          0.31325,
          0.30125,
          0.30745,
          0.3137,
          0.3414,
          0.3136,
          0.3087,
          0.3515,
          0.3119,
          0.35015,
          0.35205,
          0.30575,
          0.3035,
          0.30975,
          0.31255,
          0.34635,
          0.3508,
          0.3496,
          0.34725,
          0.30725,
          0.30815,
          0.30775,
          0.3119,
          0.31285,
          0.34755,
          0.31045,
          0.34865,
          0.316,
          0.35205,
          0.3103,
          0.353,
          0.30675,
          0.3491,
          0.34995,
          0.35245,
          0.3494,
          0.34995,
          0.3128,
          0.31035,
          0.35025,
          0.31365,
          0.30765,
          0.3076,
          0.3086,
          0.3509,
          0.3514,
          0.31885,
          0.3568,
          0.3519,
          0.3521,
          0.3113,
          0.31145,
          0.30935,
          0.34715,
          0.354,
          0.31495,
          0.31425,
          0.34935,
          0.3122,
          0.3512,
          0.3143,
          0.35165,
          0.3176,
          0.3119,
          0.31705,
          0.35295,
          0.309,
          0.31165,
          0.31895,
          0.3126,
          0.35145,
          0.3496,
          0.31125,
          0.3124,
          0.315,
          0.34765,
          0.35055,
          0.31525,
          0.31125,
          0.31715,
          0.34825,
          0.3499,
          0.35125,
          0.31405,
          0.3546,
          0.34935,
          0.3512,
          0.3558,
          0.35245,
          0.3097,
          0.3517,
          0.3471,
          0.3116,
          0.3185,
          0.34925,
          0.35,
          0.3165,
          0.30925,
          0.3079,
          0.3538,
          0.355,
          0.3147,
          0.3505,
          0.3105,
          0.3514,
          0.31045,
          0.31285,
          0.35145,
          0.35135,
          0.3485,
          0.35015,
          0.35165,
          0.31545,
          0.35085,
          0.31175,
          0.34745,
          0.31215,
          0.35015,
          0.3116,
          0.3524,
          0.35195,
          0.3513,
          0.353,
          0.3126,
          0.3536,
          0.31365,
          0.3156,
          0.3486,
          0.3097,
          0.3097,
          0.3135,
          0.3144,
          0.35205,
          0.3517,
          0.3156,
          0.3509,
          0.31335,
          0.3527,
          0.31155,
          0.35325,
          0.31845,
          0.31465,
          0.35255,
          0.3495,
          0.31605,
          0.31285,
          0.3129,
          0.3499,
          0.3535,
          0.3141,
          0.35545,
          0.31825,
          0.31345,
          0.31625,
          0.31045,
          0.3105,
          0.31555,
          0.3173,
          0.35185,
          0.31395,
          0.35265,
          0.31645,
          0.31745,
          0.31625,
          0.31105,
          0.35465,
          0.31465,
          0.35015,
          0.35255,
          0.3178,
          0.31215,
          0.35125,
          0.35425,
          0.3125,
          0.3514,
          0.3162,
          0.3518,
          0.3123,
          0.316
         ]
        },
        {
         "mode": "lines+markers",
         "name": "alpha = 1.5",
         "type": "scatter",
         "x": [
          100,
          200,
          300,
          400,
          500,
          600,
          700,
          800,
          900,
          1000,
          1100,
          1200,
          1300,
          1400,
          1500,
          1600,
          1700,
          1800,
          1900,
          2000,
          2100,
          2200,
          2300,
          2400,
          2500,
          2600,
          2700,
          2800,
          2900,
          3000,
          3100,
          3200,
          3300,
          3400,
          3500,
          3600,
          3700,
          3800,
          3900,
          4000,
          4100,
          4200,
          4300,
          4400,
          4500,
          4600,
          4700,
          4800,
          4900,
          5000,
          5100,
          5200,
          5300,
          5400,
          5500,
          5600,
          5700,
          5800,
          5900,
          6000,
          6100,
          6200,
          6300,
          6400,
          6500,
          6600,
          6700,
          6800,
          6900,
          7000,
          7100,
          7200,
          7300,
          7400,
          7500,
          7600,
          7700,
          7800,
          7900,
          8000,
          8100,
          8200,
          8300,
          8400,
          8500,
          8600,
          8700,
          8800,
          8900,
          9000,
          9100,
          9200,
          9300,
          9400,
          9500,
          9600,
          9700,
          9800,
          9900,
          10000,
          10100,
          10200,
          10300,
          10400,
          10500,
          10600,
          10700,
          10800,
          10900,
          11000,
          11100,
          11200,
          11300,
          11400,
          11500,
          11600,
          11700,
          11800,
          11900,
          12000,
          12100,
          12200,
          12300,
          12400,
          12500,
          12600,
          12700,
          12800,
          12900,
          13000,
          13100,
          13200,
          13300,
          13400,
          13500,
          13600,
          13700,
          13800,
          13900,
          14000,
          14100,
          14200,
          14300,
          14400,
          14500,
          14600,
          14700,
          14800,
          14900,
          15000,
          15100,
          15200,
          15300,
          15400,
          15500,
          15600,
          15700,
          15800,
          15900,
          16000,
          16100,
          16200,
          16300,
          16400,
          16500,
          16600,
          16700,
          16800,
          16900,
          17000,
          17100,
          17200,
          17300,
          17400,
          17500,
          17600,
          17700,
          17800,
          17900,
          18000,
          18100,
          18200,
          18300,
          18400,
          18500,
          18600,
          18700,
          18800,
          18900,
          19000,
          19100,
          19200,
          19300,
          19400,
          19500,
          19600,
          19700,
          19800,
          19900
         ],
         "y": [
          0.3741,
          0.4181,
          0.45205,
          0.46135,
          0.4104,
          0.45135,
          0.40845,
          0.42275,
          0.45555,
          0.4223,
          0.45645,
          0.4567,
          0.4262,
          0.45845,
          0.4583,
          0.4521,
          0.42895,
          0.41425,
          0.4513,
          0.45695,
          0.45605,
          0.4553,
          0.41865,
          0.45425,
          0.45895,
          0.4257,
          0.45855,
          0.45645,
          0.4236,
          0.4179,
          0.42525,
          0.45955,
          0.42915,
          0.4544,
          0.4534,
          0.45485,
          0.45705,
          0.456,
          0.45325,
          0.45575,
          0.4291,
          0.4265,
          0.4219,
          0.42885,
          0.4281,
          0.4269,
          0.42325,
          0.42725,
          0.4578,
          0.4294,
          0.4583,
          0.4243,
          0.4577,
          0.4587,
          0.42455,
          0.4567,
          0.4576,
          0.42485,
          0.3943,
          0.42225,
          0.4254,
          0.4249,
          0.4257,
          0.45365,
          0.426,
          0.4568,
          0.4262,
          0.42435,
          0.42755,
          0.4574,
          0.42555,
          0.4567,
          0.4578,
          0.42265,
          0.4261,
          0.45795,
          0.45905,
          0.4239,
          0.45705,
          0.42565,
          0.45595,
          0.42695,
          0.42285,
          0.4549,
          0.45905,
          0.4548,
          0.427,
          0.45845,
          0.425,
          0.45765,
          0.4575,
          0.45575,
          0.42635,
          0.4252,
          0.42645,
          0.4589,
          0.42555,
          0.4536,
          0.4568,
          0.4582,
          0.42385,
          0.42595,
          0.45595,
          0.45685,
          0.4592,
          0.45635,
          0.4566,
          0.42385,
          0.4275,
          0.42555,
          0.42265,
          0.4266,
          0.4242,
          0.4239,
          0.42645,
          0.4239,
          0.4278,
          0.457,
          0.42665,
          0.3238,
          0.45595,
          0.45705,
          0.42435,
          0.4567,
          0.4248,
          0.422,
          0.4258,
          0.4285,
          0.45755,
          0.42335,
          0.4576,
          0.45725,
          0.45855,
          0.4232,
          0.42215,
          0.4244,
          0.45565,
          0.45735,
          0.4572,
          0.42615,
          0.4588,
          0.4261,
          0.45665,
          0.45505,
          0.4568,
          0.422,
          0.4253,
          0.4277,
          0.42525,
          0.42595,
          0.424,
          0.4572,
          0.45555,
          0.42575,
          0.4227,
          0.4242,
          0.4247,
          0.4572,
          0.4239,
          0.45605,
          0.45705,
          0.42175,
          0.4258,
          0.4272,
          0.42735,
          0.42545,
          0.42695,
          0.42785,
          0.45575,
          0.4583,
          0.4582,
          0.42875,
          0.45565,
          0.4208,
          0.45635,
          0.426,
          0.4554,
          0.45625,
          0.4572,
          0.45585,
          0.45725,
          0.4259,
          0.4586,
          0.426,
          0.42475,
          0.4257,
          0.4258,
          0.4573,
          0.4242,
          0.42455,
          0.45805,
          0.45685,
          0.4568,
          0.42695,
          0.42715,
          0.45645,
          0.45765,
          0.45785,
          0.4252
         ]
        },
        {
         "mode": "lines+markers",
         "name": "alpha = 2",
         "type": "scatter",
         "x": [
          100,
          200,
          300,
          400,
          500,
          600,
          700,
          800,
          900,
          1000,
          1100,
          1200,
          1300,
          1400,
          1500,
          1600,
          1700,
          1800,
          1900,
          2000,
          2100,
          2200,
          2300,
          2400,
          2500,
          2600,
          2700,
          2800,
          2900,
          3000,
          3100,
          3200,
          3300,
          3400,
          3500,
          3600,
          3700,
          3800,
          3900,
          4000,
          4100,
          4200,
          4300,
          4400,
          4500,
          4600,
          4700,
          4800,
          4900,
          5000,
          5100,
          5200,
          5300,
          5400,
          5500,
          5600,
          5700,
          5800,
          5900,
          6000,
          6100,
          6200,
          6300,
          6400,
          6500,
          6600,
          6700,
          6800,
          6900,
          7000,
          7100,
          7200,
          7300,
          7400,
          7500,
          7600,
          7700,
          7800,
          7900,
          8000,
          8100,
          8200,
          8300,
          8400,
          8500,
          8600,
          8700,
          8800,
          8900,
          9000,
          9100,
          9200,
          9300,
          9400,
          9500,
          9600,
          9700,
          9800,
          9900,
          10000,
          10100,
          10200,
          10300,
          10400,
          10500,
          10600,
          10700,
          10800,
          10900,
          11000,
          11100,
          11200,
          11300,
          11400,
          11500,
          11600,
          11700,
          11800,
          11900,
          12000,
          12100,
          12200,
          12300,
          12400,
          12500,
          12600,
          12700,
          12800,
          12900,
          13000,
          13100,
          13200,
          13300,
          13400,
          13500,
          13600,
          13700,
          13800,
          13900,
          14000,
          14100,
          14200,
          14300,
          14400,
          14500,
          14600,
          14700,
          14800,
          14900,
          15000,
          15100,
          15200,
          15300,
          15400,
          15500,
          15600,
          15700,
          15800,
          15900,
          16000,
          16100,
          16200,
          16300,
          16400,
          16500,
          16600,
          16700,
          16800,
          16900,
          17000,
          17100,
          17200,
          17300,
          17400,
          17500,
          17600,
          17700,
          17800,
          17900,
          18000,
          18100,
          18200,
          18300,
          18400,
          18500,
          18600,
          18700,
          18800,
          18900,
          19000,
          19100,
          19200,
          19300,
          19400,
          19500,
          19600,
          19700,
          19800,
          19900
         ],
         "y": [
          0.4969,
          0.4966,
          0.49575,
          0.49655,
          0.49865,
          0.49815,
          0.49795,
          0.49775,
          0.4934,
          0.49825,
          0.49475,
          0.4983,
          0.4935,
          0.4981,
          0.4952,
          0.49865,
          0.4943,
          0.4976,
          0.49795,
          0.4944,
          0.4938,
          0.4939,
          0.498,
          0.4981,
          0.49815,
          0.49395,
          0.49445,
          0.4985,
          0.49815,
          0.49425,
          0.49785,
          0.49525,
          0.4944,
          0.4982,
          0.49285,
          0.4982,
          0.4932,
          0.49365,
          0.49365,
          0.49785,
          0.49355,
          0.49805,
          0.498,
          0.495,
          0.49775,
          0.4944,
          0.4982,
          0.4935,
          0.4926,
          0.49505,
          0.49465,
          0.4933,
          0.49835,
          0.49375,
          0.49805,
          0.4949,
          0.49845,
          0.4981,
          0.498,
          0.49785,
          0.4978,
          0.4937,
          0.4979,
          0.4976,
          0.4934,
          0.4982,
          0.49395,
          0.4981,
          0.49815,
          0.49455,
          0.49385,
          0.49285,
          0.4976,
          0.4973,
          0.4937,
          0.4979,
          0.4974,
          0.49815,
          0.4934,
          0.49765,
          0.49825,
          0.4947,
          0.4938,
          0.49385,
          0.4943,
          0.49835,
          0.49485,
          0.49415,
          0.49805,
          0.49325,
          0.49795,
          0.49835,
          0.49835,
          0.4942,
          0.49365,
          0.4973,
          0.4973,
          0.4942,
          0.4934,
          0.4983,
          0.49805,
          0.4975,
          0.49775,
          0.4982,
          0.49305,
          0.4982,
          0.49495,
          0.49855,
          0.4944,
          0.49805,
          0.4979,
          0.49455,
          0.49435,
          0.4982,
          0.4983,
          0.4941,
          0.4983,
          0.4938,
          0.49825,
          0.49805,
          0.498,
          0.49405,
          0.4979,
          0.49495,
          0.4935,
          0.49395,
          0.498,
          0.49215,
          0.49425,
          0.49475,
          0.498,
          0.4982,
          0.4939,
          0.49475,
          0.4938,
          0.4941,
          0.49315,
          0.49435,
          0.493,
          0.49465,
          0.49755,
          0.4952,
          0.49415,
          0.49365,
          0.49415,
          0.4976,
          0.49445,
          0.49425,
          0.4982,
          0.49395,
          0.49475,
          0.498,
          0.49775,
          0.49405,
          0.49415,
          0.4984,
          0.49395,
          0.4979,
          0.498,
          0.4934,
          0.4978,
          0.49475,
          0.49445,
          0.49785,
          0.4938,
          0.49335,
          0.49815,
          0.4978,
          0.45115,
          0.49805,
          0.49425,
          0.49785,
          0.49765,
          0.49395,
          0.49815,
          0.4982,
          0.49835,
          0.4943,
          0.4983,
          0.49825,
          0.4979,
          0.4977,
          0.4933,
          0.49365,
          0.4941,
          0.4938,
          0.4944,
          0.4937,
          0.4978,
          0.4952,
          0.49415,
          0.4974,
          0.49385,
          0.4944,
          0.4976,
          0.4928,
          0.4939,
          0.4985,
          0.49415
         ]
        },
        {
         "mode": "lines+markers",
         "name": "alpha = 2.5",
         "type": "scatter",
         "x": [
          100,
          200,
          300,
          400,
          500,
          600,
          700,
          800,
          900,
          1000,
          1100,
          1200,
          1300,
          1400,
          1500,
          1600,
          1700,
          1800,
          1900,
          2000,
          2100,
          2200,
          2300,
          2400,
          2500,
          2600,
          2700,
          2800,
          2900,
          3000,
          3100,
          3200,
          3300,
          3400,
          3500,
          3600,
          3700,
          3800,
          3900,
          4000,
          4100,
          4200,
          4300,
          4400,
          4500,
          4600,
          4700,
          4800,
          4900,
          5000,
          5100,
          5200,
          5300,
          5400,
          5500,
          5600,
          5700,
          5800,
          5900,
          6000,
          6100,
          6200,
          6300,
          6400,
          6500,
          6600,
          6700,
          6800,
          6900,
          7000,
          7100,
          7200,
          7300,
          7400,
          7500,
          7600,
          7700,
          7800,
          7900,
          8000,
          8100,
          8200,
          8300,
          8400,
          8500,
          8600,
          8700,
          8800,
          8900,
          9000,
          9100,
          9200,
          9300,
          9400,
          9500,
          9600,
          9700,
          9800,
          9900,
          10000,
          10100,
          10200,
          10300,
          10400,
          10500,
          10600,
          10700,
          10800,
          10900,
          11000,
          11100,
          11200,
          11300,
          11400,
          11500,
          11600,
          11700,
          11800,
          11900,
          12000,
          12100,
          12200,
          12300,
          12400,
          12500,
          12600,
          12700,
          12800,
          12900,
          13000,
          13100,
          13200,
          13300,
          13400,
          13500,
          13600,
          13700,
          13800,
          13900,
          14000,
          14100,
          14200,
          14300,
          14400,
          14500,
          14600,
          14700,
          14800,
          14900,
          15000,
          15100,
          15200,
          15300,
          15400,
          15500,
          15600,
          15700,
          15800,
          15900,
          16000,
          16100,
          16200,
          16300,
          16400,
          16500,
          16600,
          16700,
          16800,
          16900,
          17000,
          17100,
          17200,
          17300,
          17400,
          17500,
          17600,
          17700,
          17800,
          17900,
          18000,
          18100,
          18200,
          18300,
          18400,
          18500,
          18600,
          18700,
          18800,
          18900,
          19000,
          19100,
          19200,
          19300,
          19400,
          19500,
          19600,
          19700,
          19800,
          19900
         ],
         "y": [
          0.49985,
          0.49985,
          0.50015,
          0.50015,
          0.50015,
          0.50015,
          0.5001,
          0.50015,
          0.4998,
          0.50015,
          0.49985,
          0.49985,
          0.50015,
          0.49985,
          0.50015,
          0.49985,
          0.50015,
          0.50005,
          0.49985,
          0.50015,
          0.49985,
          0.49985,
          0.49985,
          0.50015,
          0.5001,
          0.49985,
          0.49985,
          0.50015,
          0.49985,
          0.49985,
          0.5001,
          0.50015,
          0.49985,
          0.49985,
          0.49985,
          0.50015,
          0.49985,
          0.49985,
          0.50015,
          0.49985,
          0.49985,
          0.50015,
          0.5001,
          0.50015,
          0.50015,
          0.50015,
          0.50015,
          0.49985,
          0.49985,
          0.5001,
          0.49985,
          0.5001,
          0.49985,
          0.49985,
          0.49985,
          0.50015,
          0.49985,
          0.49985,
          0.50005,
          0.49985,
          0.49985,
          0.49985,
          0.5001,
          0.49985,
          0.49985,
          0.49985,
          0.49985,
          0.49985,
          0.49985,
          0.5001,
          0.49985,
          0.49985,
          0.49985,
          0.49985,
          0.50015,
          0.49985,
          0.49985,
          0.49985,
          0.49985,
          0.50015,
          0.49985,
          0.49985,
          0.50015,
          0.49985,
          0.49985,
          0.49985,
          0.49985,
          0.49985,
          0.49985,
          0.49985,
          0.50015,
          0.49985,
          0.49985,
          0.50015,
          0.49985,
          0.5001,
          0.50015,
          0.49985,
          0.50015,
          0.49985,
          0.5,
          0.49985,
          0.49985,
          0.49985,
          0.49985,
          0.5001,
          0.50015,
          0.49985,
          0.49985,
          0.50015,
          0.49985,
          0.49985,
          0.50015,
          0.49985,
          0.50015,
          0.50015,
          0.50015,
          0.50015,
          0.50015,
          0.49985,
          0.50015,
          0.49985,
          0.50015,
          0.50015,
          0.49985,
          0.49985,
          0.50015,
          0.49985,
          0.49985,
          0.50015,
          0.49985,
          0.49985,
          0.49985,
          0.5001,
          0.50015,
          0.49985,
          0.49985,
          0.49985,
          0.50015,
          0.49985,
          0.50015,
          0.49985,
          0.50015,
          0.49985,
          0.49985,
          0.50015,
          0.49985,
          0.50015,
          0.49985,
          0.50015,
          0.49985,
          0.49985,
          0.50015,
          0.49985,
          0.49985,
          0.4998,
          0.49985,
          0.5001,
          0.49985,
          0.49985,
          0.5001,
          0.50015,
          0.49985,
          0.49985,
          0.50015,
          0.50015,
          0.50015,
          0.49985,
          0.50015,
          0.50005,
          0.49985,
          0.5001,
          0.50015,
          0.49985,
          0.50015,
          0.49985,
          0.4998,
          0.49985,
          0.5001,
          0.5001,
          0.49985,
          0.49985,
          0.5001,
          0.49985,
          0.49985,
          0.49985,
          0.50015,
          0.50015,
          0.50015,
          0.49985,
          0.49985,
          0.49985,
          0.50015,
          0.49985,
          0.49985,
          0.49985,
          0.49985,
          0.49985,
          0.50015
         ]
        },
        {
         "mode": "lines+markers",
         "name": "alpha = 3",
         "type": "scatter",
         "x": [
          100,
          200,
          300,
          400,
          500,
          600,
          700,
          800,
          900,
          1000,
          1100,
          1200,
          1300,
          1400,
          1500,
          1600,
          1700,
          1800,
          1900,
          2000,
          2100,
          2200,
          2300,
          2400,
          2500,
          2600,
          2700,
          2800,
          2900,
          3000,
          3100,
          3200,
          3300,
          3400,
          3500,
          3600,
          3700,
          3800,
          3900,
          4000,
          4100,
          4200,
          4300,
          4400,
          4500,
          4600,
          4700,
          4800,
          4900,
          5000,
          5100,
          5200,
          5300,
          5400,
          5500,
          5600,
          5700,
          5800,
          5900,
          6000,
          6100,
          6200,
          6300,
          6400,
          6500,
          6600,
          6700,
          6800,
          6900,
          7000,
          7100,
          7200,
          7300,
          7400,
          7500,
          7600,
          7700,
          7800,
          7900,
          8000,
          8100,
          8200,
          8300,
          8400,
          8500,
          8600,
          8700,
          8800,
          8900,
          9000,
          9100,
          9200,
          9300,
          9400,
          9500,
          9600,
          9700,
          9800,
          9900,
          10000,
          10100,
          10200,
          10300,
          10400,
          10500,
          10600,
          10700,
          10800,
          10900,
          11000,
          11100,
          11200,
          11300,
          11400,
          11500,
          11600,
          11700,
          11800,
          11900,
          12000,
          12100,
          12200,
          12300,
          12400,
          12500,
          12600,
          12700,
          12800,
          12900,
          13000,
          13100,
          13200,
          13300,
          13400,
          13500,
          13600,
          13700,
          13800,
          13900,
          14000,
          14100,
          14200,
          14300,
          14400,
          14500,
          14600,
          14700,
          14800,
          14900,
          15000,
          15100,
          15200,
          15300,
          15400,
          15500,
          15600,
          15700,
          15800,
          15900,
          16000,
          16100,
          16200,
          16300,
          16400,
          16500,
          16600,
          16700,
          16800,
          16900,
          17000,
          17100,
          17200,
          17300,
          17400,
          17500,
          17600,
          17700,
          17800,
          17900,
          18000,
          18100,
          18200,
          18300,
          18400,
          18500,
          18600,
          18700,
          18800,
          18900,
          19000,
          19100,
          19200,
          19300,
          19400,
          19500,
          19600,
          19700,
          19800,
          19900
         ],
         "y": [
          0.49985,
          0.49985,
          0.50015,
          0.50015,
          0.50015,
          0.50015,
          0.49985,
          0.49985,
          0.50015,
          0.50015,
          0.50015,
          0.49985,
          0.49985,
          0.49985,
          0.49985,
          0.50015,
          0.49985,
          0.50015,
          0.49985,
          0.50015,
          0.49985,
          0.50015,
          0.49985,
          0.49985,
          0.50015,
          0.50015,
          0.49985,
          0.49985,
          0.50015,
          0.50015,
          0.50015,
          0.49985,
          0.50015,
          0.50015,
          0.49985,
          0.49985,
          0.49985,
          0.49985,
          0.50015,
          0.50015,
          0.49985,
          0.49985,
          0.49985,
          0.50015,
          0.49985,
          0.50015,
          0.49985,
          0.50015,
          0.49985,
          0.50015,
          0.49985,
          0.49985,
          0.50015,
          0.50015,
          0.50015,
          0.50015,
          0.50015,
          0.49985,
          0.50015,
          0.50015,
          0.49985,
          0.50015,
          0.49985,
          0.49985,
          0.50015,
          0.49985,
          0.50015,
          0.50015,
          0.50015,
          0.50015,
          0.49985,
          0.50015,
          0.50015,
          0.50015,
          0.49985,
          0.50015,
          0.50015,
          0.49985,
          0.49985,
          0.50015,
          0.50015,
          0.50015,
          0.49985,
          0.49985,
          0.50015,
          0.50015,
          0.50015,
          0.50015,
          0.49985,
          0.49985,
          0.50015,
          0.50015,
          0.50015,
          0.49985,
          0.50015,
          0.49985,
          0.49985,
          0.50015,
          0.49985,
          0.50015,
          0.49985,
          0.50015,
          0.50015,
          0.50015,
          0.50015,
          0.49985,
          0.49985,
          0.49985,
          0.49985,
          0.49985,
          0.50015,
          0.49985,
          0.50015,
          0.50015,
          0.50015,
          0.49985,
          0.50015,
          0.50015,
          0.50015,
          0.49985,
          0.49985,
          0.49985,
          0.49985,
          0.50015,
          0.50015,
          0.49985,
          0.49985,
          0.49985,
          0.50015,
          0.49985,
          0.50015,
          0.50015,
          0.50015,
          0.49985,
          0.50015,
          0.49985,
          0.49985,
          0.49985,
          0.50015,
          0.49985,
          0.49985,
          0.49985,
          0.49985,
          0.50015,
          0.50015,
          0.49985,
          0.49985,
          0.49985,
          0.49985,
          0.49985,
          0.50015,
          0.49985,
          0.49985,
          0.50015,
          0.50015,
          0.49985,
          0.50015,
          0.50015,
          0.49985,
          0.49985,
          0.49985,
          0.49985,
          0.50015,
          0.50015,
          0.49985,
          0.49985,
          0.49985,
          0.50015,
          0.50015,
          0.50015,
          0.50015,
          0.50015,
          0.49985,
          0.49985,
          0.49985,
          0.49985,
          0.50015,
          0.49985,
          0.50015,
          0.49985,
          0.50015,
          0.49985,
          0.49985,
          0.49985,
          0.49985,
          0.49985,
          0.50015,
          0.49985,
          0.49985,
          0.50015,
          0.50015,
          0.49985,
          0.50015,
          0.49985,
          0.49985,
          0.50015,
          0.50015,
          0.50015,
          0.50015
         ]
        }
       ],
       "layout": {
        "annotations": [
         {
          "showarrow": false,
          "text": "BER 50%",
          "x": 0,
          "xanchor": "left",
          "xref": "x domain",
          "y": 0.5,
          "yanchor": "bottom",
          "yref": "y"
         }
        ],
        "height": 500,
        "legend": {
         "title": {
          "text": "Valeurs de alpha"
         }
        },
        "shapes": [
         {
          "line": {
           "color": "red",
           "dash": "dot"
          },
          "type": "line",
          "x0": 0,
          "x1": 1,
          "xref": "x domain",
          "y0": 0.5,
          "y1": 0.5,
          "yref": "y"
         }
        ],
        "template": {
         "data": {
          "bar": [
           {
            "error_x": {
             "color": "#2a3f5f"
            },
            "error_y": {
             "color": "#2a3f5f"
            },
            "marker": {
             "line": {
              "color": "#E5ECF6",
              "width": 0.5
             },
             "pattern": {
              "fillmode": "overlay",
              "size": 10,
              "solidity": 0.2
             }
            },
            "type": "bar"
           }
          ],
          "barpolar": [
           {
            "marker": {
             "line": {
              "color": "#E5ECF6",
              "width": 0.5
             },
             "pattern": {
              "fillmode": "overlay",
              "size": 10,
              "solidity": 0.2
             }
            },
            "type": "barpolar"
           }
          ],
          "carpet": [
           {
            "aaxis": {
             "endlinecolor": "#2a3f5f",
             "gridcolor": "white",
             "linecolor": "white",
             "minorgridcolor": "white",
             "startlinecolor": "#2a3f5f"
            },
            "baxis": {
             "endlinecolor": "#2a3f5f",
             "gridcolor": "white",
             "linecolor": "white",
             "minorgridcolor": "white",
             "startlinecolor": "#2a3f5f"
            },
            "type": "carpet"
           }
          ],
          "choropleth": [
           {
            "colorbar": {
             "outlinewidth": 0,
             "ticks": ""
            },
            "type": "choropleth"
           }
          ],
          "contour": [
           {
            "colorbar": {
             "outlinewidth": 0,
             "ticks": ""
            },
            "colorscale": [
             [
              0,
              "#0d0887"
             ],
             [
              0.1111111111111111,
              "#46039f"
             ],
             [
              0.2222222222222222,
              "#7201a8"
             ],
             [
              0.3333333333333333,
              "#9c179e"
             ],
             [
              0.4444444444444444,
              "#bd3786"
             ],
             [
              0.5555555555555556,
              "#d8576b"
             ],
             [
              0.6666666666666666,
              "#ed7953"
             ],
             [
              0.7777777777777778,
              "#fb9f3a"
             ],
             [
              0.8888888888888888,
              "#fdca26"
             ],
             [
              1,
              "#f0f921"
             ]
            ],
            "type": "contour"
           }
          ],
          "contourcarpet": [
           {
            "colorbar": {
             "outlinewidth": 0,
             "ticks": ""
            },
            "type": "contourcarpet"
           }
          ],
          "heatmap": [
           {
            "colorbar": {
             "outlinewidth": 0,
             "ticks": ""
            },
            "colorscale": [
             [
              0,
              "#0d0887"
             ],
             [
              0.1111111111111111,
              "#46039f"
             ],
             [
              0.2222222222222222,
              "#7201a8"
             ],
             [
              0.3333333333333333,
              "#9c179e"
             ],
             [
              0.4444444444444444,
              "#bd3786"
             ],
             [
              0.5555555555555556,
              "#d8576b"
             ],
             [
              0.6666666666666666,
              "#ed7953"
             ],
             [
              0.7777777777777778,
              "#fb9f3a"
             ],
             [
              0.8888888888888888,
              "#fdca26"
             ],
             [
              1,
              "#f0f921"
             ]
            ],
            "type": "heatmap"
           }
          ],
          "heatmapgl": [
           {
            "colorbar": {
             "outlinewidth": 0,
             "ticks": ""
            },
            "colorscale": [
             [
              0,
              "#0d0887"
             ],
             [
              0.1111111111111111,
              "#46039f"
             ],
             [
              0.2222222222222222,
              "#7201a8"
             ],
             [
              0.3333333333333333,
              "#9c179e"
             ],
             [
              0.4444444444444444,
              "#bd3786"
             ],
             [
              0.5555555555555556,
              "#d8576b"
             ],
             [
              0.6666666666666666,
              "#ed7953"
             ],
             [
              0.7777777777777778,
              "#fb9f3a"
             ],
             [
              0.8888888888888888,
              "#fdca26"
             ],
             [
              1,
              "#f0f921"
             ]
            ],
            "type": "heatmapgl"
           }
          ],
          "histogram": [
           {
            "marker": {
             "pattern": {
              "fillmode": "overlay",
              "size": 10,
              "solidity": 0.2
             }
            },
            "type": "histogram"
           }
          ],
          "histogram2d": [
           {
            "colorbar": {
             "outlinewidth": 0,
             "ticks": ""
            },
            "colorscale": [
             [
              0,
              "#0d0887"
             ],
             [
              0.1111111111111111,
              "#46039f"
             ],
             [
              0.2222222222222222,
              "#7201a8"
             ],
             [
              0.3333333333333333,
              "#9c179e"
             ],
             [
              0.4444444444444444,
              "#bd3786"
             ],
             [
              0.5555555555555556,
              "#d8576b"
             ],
             [
              0.6666666666666666,
              "#ed7953"
             ],
             [
              0.7777777777777778,
              "#fb9f3a"
             ],
             [
              0.8888888888888888,
              "#fdca26"
             ],
             [
              1,
              "#f0f921"
             ]
            ],
            "type": "histogram2d"
           }
          ],
          "histogram2dcontour": [
           {
            "colorbar": {
             "outlinewidth": 0,
             "ticks": ""
            },
            "colorscale": [
             [
              0,
              "#0d0887"
             ],
             [
              0.1111111111111111,
              "#46039f"
             ],
             [
              0.2222222222222222,
              "#7201a8"
             ],
             [
              0.3333333333333333,
              "#9c179e"
             ],
             [
              0.4444444444444444,
              "#bd3786"
             ],
             [
              0.5555555555555556,
              "#d8576b"
             ],
             [
              0.6666666666666666,
              "#ed7953"
             ],
             [
              0.7777777777777778,
              "#fb9f3a"
             ],
             [
              0.8888888888888888,
              "#fdca26"
             ],
             [
              1,
              "#f0f921"
             ]
            ],
            "type": "histogram2dcontour"
           }
          ],
          "mesh3d": [
           {
            "colorbar": {
             "outlinewidth": 0,
             "ticks": ""
            },
            "type": "mesh3d"
           }
          ],
          "parcoords": [
           {
            "line": {
             "colorbar": {
              "outlinewidth": 0,
              "ticks": ""
             }
            },
            "type": "parcoords"
           }
          ],
          "pie": [
           {
            "automargin": true,
            "type": "pie"
           }
          ],
          "scatter": [
           {
            "fillpattern": {
             "fillmode": "overlay",
             "size": 10,
             "solidity": 0.2
            },
            "type": "scatter"
           }
          ],
          "scatter3d": [
           {
            "line": {
             "colorbar": {
              "outlinewidth": 0,
              "ticks": ""
             }
            },
            "marker": {
             "colorbar": {
              "outlinewidth": 0,
              "ticks": ""
             }
            },
            "type": "scatter3d"
           }
          ],
          "scattercarpet": [
           {
            "marker": {
             "colorbar": {
              "outlinewidth": 0,
              "ticks": ""
             }
            },
            "type": "scattercarpet"
           }
          ],
          "scattergeo": [
           {
            "marker": {
             "colorbar": {
              "outlinewidth": 0,
              "ticks": ""
             }
            },
            "type": "scattergeo"
           }
          ],
          "scattergl": [
           {
            "marker": {
             "colorbar": {
              "outlinewidth": 0,
              "ticks": ""
             }
            },
            "type": "scattergl"
           }
          ],
          "scattermapbox": [
           {
            "marker": {
             "colorbar": {
              "outlinewidth": 0,
              "ticks": ""
             }
            },
            "type": "scattermapbox"
           }
          ],
          "scatterpolar": [
           {
            "marker": {
             "colorbar": {
              "outlinewidth": 0,
              "ticks": ""
             }
            },
            "type": "scatterpolar"
           }
          ],
          "scatterpolargl": [
           {
            "marker": {
             "colorbar": {
              "outlinewidth": 0,
              "ticks": ""
             }
            },
            "type": "scatterpolargl"
           }
          ],
          "scatterternary": [
           {
            "marker": {
             "colorbar": {
              "outlinewidth": 0,
              "ticks": ""
             }
            },
            "type": "scatterternary"
           }
          ],
          "surface": [
           {
            "colorbar": {
             "outlinewidth": 0,
             "ticks": ""
            },
            "colorscale": [
             [
              0,
              "#0d0887"
             ],
             [
              0.1111111111111111,
              "#46039f"
             ],
             [
              0.2222222222222222,
              "#7201a8"
             ],
             [
              0.3333333333333333,
              "#9c179e"
             ],
             [
              0.4444444444444444,
              "#bd3786"
             ],
             [
              0.5555555555555556,
              "#d8576b"
             ],
             [
              0.6666666666666666,
              "#ed7953"
             ],
             [
              0.7777777777777778,
              "#fb9f3a"
             ],
             [
              0.8888888888888888,
              "#fdca26"
             ],
             [
              1,
              "#f0f921"
             ]
            ],
            "type": "surface"
           }
          ],
          "table": [
           {
            "cells": {
             "fill": {
              "color": "#EBF0F8"
             },
             "line": {
              "color": "white"
             }
            },
            "header": {
             "fill": {
              "color": "#C8D4E3"
             },
             "line": {
              "color": "white"
             }
            },
            "type": "table"
           }
          ]
         },
         "layout": {
          "annotationdefaults": {
           "arrowcolor": "#2a3f5f",
           "arrowhead": 0,
           "arrowwidth": 1
          },
          "autotypenumbers": "strict",
          "coloraxis": {
           "colorbar": {
            "outlinewidth": 0,
            "ticks": ""
           }
          },
          "colorscale": {
           "diverging": [
            [
             0,
             "#8e0152"
            ],
            [
             0.1,
             "#c51b7d"
            ],
            [
             0.2,
             "#de77ae"
            ],
            [
             0.3,
             "#f1b6da"
            ],
            [
             0.4,
             "#fde0ef"
            ],
            [
             0.5,
             "#f7f7f7"
            ],
            [
             0.6,
             "#e6f5d0"
            ],
            [
             0.7,
             "#b8e186"
            ],
            [
             0.8,
             "#7fbc41"
            ],
            [
             0.9,
             "#4d9221"
            ],
            [
             1,
             "#276419"
            ]
           ],
           "sequential": [
            [
             0,
             "#0d0887"
            ],
            [
             0.1111111111111111,
             "#46039f"
            ],
            [
             0.2222222222222222,
             "#7201a8"
            ],
            [
             0.3333333333333333,
             "#9c179e"
            ],
            [
             0.4444444444444444,
             "#bd3786"
            ],
            [
             0.5555555555555556,
             "#d8576b"
            ],
            [
             0.6666666666666666,
             "#ed7953"
            ],
            [
             0.7777777777777778,
             "#fb9f3a"
            ],
            [
             0.8888888888888888,
             "#fdca26"
            ],
            [
             1,
             "#f0f921"
            ]
           ],
           "sequentialminus": [
            [
             0,
             "#0d0887"
            ],
            [
             0.1111111111111111,
             "#46039f"
            ],
            [
             0.2222222222222222,
             "#7201a8"
            ],
            [
             0.3333333333333333,
             "#9c179e"
            ],
            [
             0.4444444444444444,
             "#bd3786"
            ],
            [
             0.5555555555555556,
             "#d8576b"
            ],
            [
             0.6666666666666666,
             "#ed7953"
            ],
            [
             0.7777777777777778,
             "#fb9f3a"
            ],
            [
             0.8888888888888888,
             "#fdca26"
            ],
            [
             1,
             "#f0f921"
            ]
           ]
          },
          "colorway": [
           "#636efa",
           "#EF553B",
           "#00cc96",
           "#ab63fa",
           "#FFA15A",
           "#19d3f3",
           "#FF6692",
           "#B6E880",
           "#FF97FF",
           "#FECB52"
          ],
          "font": {
           "color": "#2a3f5f"
          },
          "geo": {
           "bgcolor": "white",
           "lakecolor": "white",
           "landcolor": "#E5ECF6",
           "showlakes": true,
           "showland": true,
           "subunitcolor": "white"
          },
          "hoverlabel": {
           "align": "left"
          },
          "hovermode": "closest",
          "mapbox": {
           "style": "light"
          },
          "paper_bgcolor": "white",
          "plot_bgcolor": "#E5ECF6",
          "polar": {
           "angularaxis": {
            "gridcolor": "white",
            "linecolor": "white",
            "ticks": ""
           },
           "bgcolor": "#E5ECF6",
           "radialaxis": {
            "gridcolor": "white",
            "linecolor": "white",
            "ticks": ""
           }
          },
          "scene": {
           "xaxis": {
            "backgroundcolor": "#E5ECF6",
            "gridcolor": "white",
            "gridwidth": 2,
            "linecolor": "white",
            "showbackground": true,
            "ticks": "",
            "zerolinecolor": "white"
           },
           "yaxis": {
            "backgroundcolor": "#E5ECF6",
            "gridcolor": "white",
            "gridwidth": 2,
            "linecolor": "white",
            "showbackground": true,
            "ticks": "",
            "zerolinecolor": "white"
           },
           "zaxis": {
            "backgroundcolor": "#E5ECF6",
            "gridcolor": "white",
            "gridwidth": 2,
            "linecolor": "white",
            "showbackground": true,
            "ticks": "",
            "zerolinecolor": "white"
           }
          },
          "shapedefaults": {
           "line": {
            "color": "#2a3f5f"
           }
          },
          "ternary": {
           "aaxis": {
            "gridcolor": "white",
            "linecolor": "white",
            "ticks": ""
           },
           "baxis": {
            "gridcolor": "white",
            "linecolor": "white",
            "ticks": ""
           },
           "bgcolor": "#E5ECF6",
           "caxis": {
            "gridcolor": "white",
            "linecolor": "white",
            "ticks": ""
           }
          },
          "title": {
           "x": 0.05
          },
          "xaxis": {
           "automargin": true,
           "gridcolor": "white",
           "linecolor": "white",
           "ticks": "",
           "title": {
            "standoff": 15
           },
           "zerolinecolor": "white",
           "zerolinewidth": 2
          },
          "yaxis": {
           "automargin": true,
           "gridcolor": "white",
           "linecolor": "white",
           "ticks": "",
           "title": {
            "standoff": 15
           },
           "zerolinecolor": "white",
           "zerolinewidth": 2
          }
         }
        },
        "title": {
         "text": "Impact de No et alpha sur le BER après attaque"
        },
        "width": 800,
        "xaxis": {
         "title": {
          "text": "No (Nombre d‘observations)=20000"
         }
        },
        "yaxis": {
         "title": {
          "text": "BER"
         }
        }
       }
      }
     },
     "metadata": {},
     "output_type": "display_data"
    },
    {
     "data": {
      "application/vnd.plotly.v1+json": {
       "config": {
        "plotlyServerURL": "https://plot.ly"
       },
       "data": [
        {
         "mode": "lines+markers",
         "name": "alpha = 0.2",
         "type": "scatter",
         "x": [
          100,
          200,
          300,
          400,
          500,
          600,
          700,
          800,
          900,
          1000,
          1100,
          1200,
          1300,
          1400,
          1500,
          1600,
          1700,
          1800,
          1900,
          2000,
          2100,
          2200,
          2300,
          2400,
          2500,
          2600,
          2700,
          2800,
          2900,
          3000,
          3100,
          3200,
          3300,
          3400,
          3500,
          3600,
          3700,
          3800,
          3900,
          4000,
          4100,
          4200,
          4300,
          4400,
          4500,
          4600,
          4700,
          4800,
          4900,
          5000,
          5100,
          5200,
          5300,
          5400,
          5500,
          5600,
          5700,
          5800,
          5900,
          6000,
          6100,
          6200,
          6300,
          6400,
          6500,
          6600,
          6700,
          6800,
          6900,
          7000,
          7100,
          7200,
          7300,
          7400,
          7500,
          7600,
          7700,
          7800,
          7900,
          8000,
          8100,
          8200,
          8300,
          8400,
          8500,
          8600,
          8700,
          8800,
          8900,
          9000,
          9100,
          9200,
          9300,
          9400,
          9500,
          9600,
          9700,
          9800,
          9900,
          10000,
          10100,
          10200,
          10300,
          10400,
          10500,
          10600,
          10700,
          10800,
          10900,
          11000,
          11100,
          11200,
          11300,
          11400,
          11500,
          11600,
          11700,
          11800,
          11900,
          12000,
          12100,
          12200,
          12300,
          12400,
          12500,
          12600,
          12700,
          12800,
          12900,
          13000,
          13100,
          13200,
          13300,
          13400,
          13500,
          13600,
          13700,
          13800,
          13900,
          14000,
          14100,
          14200,
          14300,
          14400,
          14500,
          14600,
          14700,
          14800,
          14900,
          15000,
          15100,
          15200,
          15300,
          15400,
          15500,
          15600,
          15700,
          15800,
          15900,
          16000,
          16100,
          16200,
          16300,
          16400,
          16500,
          16600,
          16700,
          16800,
          16900,
          17000,
          17100,
          17200,
          17300,
          17400,
          17500,
          17600,
          17700,
          17800,
          17900,
          18000,
          18100,
          18200,
          18300,
          18400,
          18500,
          18600,
          18700,
          18800,
          18900,
          19000,
          19100,
          19200,
          19300,
          19400,
          19500,
          19600,
          19700,
          19800,
          19900
         ],
         "y": [
          0.12453986203748557,
          0.10702429242446193,
          0.1402719863131385,
          0.08957588454281698,
          0.1318728960809598,
          0.07343384410538514,
          0.07565478916764722,
          0.10844509800957257,
          0.15381905652943426,
          0.1509568826457455,
          0.17114247437015193,
          0.0921231452063048,
          0.21976400113502337,
          0.15061910241768944,
          0.21456228391305188,
          0.1278800311653706,
          0.012217053384746336,
          0.20989642421260654,
          0.15882925929182365,
          0.22174385733234547,
          0.23099393340833865,
          0.11291787554355073,
          0.2811827276194582,
          0.12767100760015004,
          0.09216700662512722,
          0.13575224629941984,
          0.12455310340158567,
          0.036289514406559045,
          0.24410075833528655,
          0.162759885339316,
          0.20608057096331714,
          0.08594999853081878,
          0.11126378362025448,
          0.08640240450491149,
          0.19476873591912847,
          0.11966060594211052,
          0.19456294574623453,
          0.052235725111429765,
          0.17810671876280018,
          0.30741114489606997,
          0.28586297418162065,
          0.15428886618120746,
          0.09589821312331859,
          0.10057115428077472,
          0.11758066903259702,
          0.12096261874488834,
          0.16050173436129495,
          0.19257086429321132,
          0.20329330545368596,
          0.2030852406299298,
          0.03576874792561352,
          0.10897611937789167,
          0.0430393283288711,
          0.11654039426444264,
          0.0934265262568317,
          0.07700031680888496,
          0.01922365319272627,
          0.11010624215642259,
          0.025116961631454816,
          0.20849658117284564,
          0.10314672138037405,
          0.12820114562579377,
          0.18720024692008683,
          0.09702614815419713,
          0.048565621368171406,
          0.12490137755028226,
          0.33078737962048654,
          0.20452192096007094,
          0.06218148385513969,
          0.19354661260542208,
          0.1603740624680484,
          0.26672951554718527,
          0.1852979381594223,
          0.05666905703092486,
          0.14040471285867093,
          0.20627648147588365,
          0.15844111404564704,
          0.026908549224063046,
          0.14786535720066696,
          0.3357622794065567,
          0.11680383281363106,
          0.2216239755422931,
          0.14276271872946153,
          0.28971875887048104,
          0.12565918405213417,
          0.13698406889349196,
          0.2851930293875583,
          0.2146584814644418,
          0.13041174073769066,
          0.1827331022493931,
          0.07793276450517707,
          0.16809471822484548,
          0.04942377443748962,
          0.05408076979796705,
          0.08776408275942572,
          0.3039954858973121,
          0.14626311741237563,
          0.2587009726642108,
          0.022672018207968426,
          0.2585783182680041,
          0.2378615072293882,
          0.2501749838918786,
          0.1931667602572715,
          0.03575778472455647,
          0.18539577064318832,
          0.27779503742964284,
          0.23443292750069836,
          0.18282150161111405,
          0.25532347676845535,
          0.25813676561929255,
          0.02917405576309063,
          0.17418257137757198,
          0.1437936075053195,
          0.1439190899816911,
          0.10588757752557448,
          0.3958236738899362,
          0.1435524447853434,
          0.2589943286545901,
          0.04671562799229654,
          0.1767160005330406,
          0.05691532022714299,
          0.2585334911469056,
          0.16582246035142204,
          0.09494860193448146,
          0.19896662193906609,
          0.27953884725954525,
          0.06282792034344192,
          0.11557152320712635,
          0.29112967803154105,
          0.15921391898732942,
          0.15539398983359842,
          0.15310336299651484,
          0.09833303368347222,
          0.08579921276016757,
          0.04881899435984055,
          0.36298309824983527,
          0.15487048651302987,
          0.2376551423383368,
          0.33215123391154455,
          0.26209423399935483,
          0.18432470337888376,
          0.20563538397414094,
          0.11744673557471909,
          0.17901510707085375,
          0.3341662182015824,
          0.09212772535072276,
          0.2749004033847401,
          0.1370721864685568,
          0.13549108392280332,
          0.1027775451871298,
          0.25309938527722087,
          0.2407357631285837,
          0.13997550002385348,
          0.1391583480452634,
          0.16988077063012594,
          0.14401906392342712,
          0.20669713215058405,
          0.25713236268162987,
          0.13629218644137608,
          0.09281027240619807,
          0.2280128681205368,
          0.21561870702935793,
          0.4220843251008333,
          0.07418771269747541,
          0.21407298746571363,
          0.19221432690538373,
          0.31722690228347517,
          0.22950349942303896,
          0.10290534262498029,
          0.3399183076022681,
          0.3344639711776175,
          0.11365794088046259,
          0.12345496190103121,
          0.3108744008874349,
          0.051339718657441406,
          0.3966888712381222,
          0.11410458577575568,
          0.2234852126872223,
          0.2206814248168724,
          0.07878130379900598,
          0.08231505974046366,
          0.2583926123537774,
          0.10988142686313704,
          0.5601949745658834,
          0.08387032857773001,
          0.44106740138824635,
          0.1369978479703945,
          0.16406191856822733,
          0.25630942852709643,
          0.127863678201023,
          0.1261644191427109,
          0.27068194750071134,
          0.09207995557126342,
          0.15499741232772707,
          0.2427834571232491,
          0.22360859582720105,
          0.25055961363440415,
          0.2875416155966117,
          0.3882838799039231
         ]
        },
        {
         "mode": "lines+markers",
         "name": "alpha = 0.5",
         "type": "scatter",
         "x": [
          100,
          200,
          300,
          400,
          500,
          600,
          700,
          800,
          900,
          1000,
          1100,
          1200,
          1300,
          1400,
          1500,
          1600,
          1700,
          1800,
          1900,
          2000,
          2100,
          2200,
          2300,
          2400,
          2500,
          2600,
          2700,
          2800,
          2900,
          3000,
          3100,
          3200,
          3300,
          3400,
          3500,
          3600,
          3700,
          3800,
          3900,
          4000,
          4100,
          4200,
          4300,
          4400,
          4500,
          4600,
          4700,
          4800,
          4900,
          5000,
          5100,
          5200,
          5300,
          5400,
          5500,
          5600,
          5700,
          5800,
          5900,
          6000,
          6100,
          6200,
          6300,
          6400,
          6500,
          6600,
          6700,
          6800,
          6900,
          7000,
          7100,
          7200,
          7300,
          7400,
          7500,
          7600,
          7700,
          7800,
          7900,
          8000,
          8100,
          8200,
          8300,
          8400,
          8500,
          8600,
          8700,
          8800,
          8900,
          9000,
          9100,
          9200,
          9300,
          9400,
          9500,
          9600,
          9700,
          9800,
          9900,
          10000,
          10100,
          10200,
          10300,
          10400,
          10500,
          10600,
          10700,
          10800,
          10900,
          11000,
          11100,
          11200,
          11300,
          11400,
          11500,
          11600,
          11700,
          11800,
          11900,
          12000,
          12100,
          12200,
          12300,
          12400,
          12500,
          12600,
          12700,
          12800,
          12900,
          13000,
          13100,
          13200,
          13300,
          13400,
          13500,
          13600,
          13700,
          13800,
          13900,
          14000,
          14100,
          14200,
          14300,
          14400,
          14500,
          14600,
          14700,
          14800,
          14900,
          15000,
          15100,
          15200,
          15300,
          15400,
          15500,
          15600,
          15700,
          15800,
          15900,
          16000,
          16100,
          16200,
          16300,
          16400,
          16500,
          16600,
          16700,
          16800,
          16900,
          17000,
          17100,
          17200,
          17300,
          17400,
          17500,
          17600,
          17700,
          17800,
          17900,
          18000,
          18100,
          18200,
          18300,
          18400,
          18500,
          18600,
          18700,
          18800,
          18900,
          19000,
          19100,
          19200,
          19300,
          19400,
          19500,
          19600,
          19700,
          19800,
          19900
         ],
         "y": [
          0.10938712362577287,
          0.22939051984563594,
          0.22031407954326437,
          0.3017461951234897,
          0.1942535838202346,
          0.07612309957044318,
          0.17878805848410392,
          0.3624884135085107,
          0.24175921016770147,
          0.300510843521459,
          0.5883167793612439,
          0.402595363778609,
          0.3629105123071452,
          0.16632907798489016,
          0.5883820810612497,
          0.40783220216422467,
          0.5448521790750456,
          0.4257735919511098,
          0.5677795823841068,
          0.3875802853599587,
          0.41054154961353506,
          0.43071153374094523,
          0.4304985665575164,
          0.5172947491617125,
          0.46219234415222343,
          0.4827369815880991,
          0.7336439109158676,
          0.3245621751521857,
          0.5259819887020997,
          0.2874903513929737,
          0.5529755080526003,
          0.5760120157879765,
          0.6571571092707154,
          0.570298518416537,
          0.5221209413599669,
          0.648046638476807,
          0.7053162290492999,
          0.45318967568069024,
          0.7438886523622898,
          0.5088404154570768,
          0.6652893065213136,
          0.6750239625546169,
          0.7016260721590756,
          0.33554394611089233,
          0.6301435495202334,
          0.7364961410825188,
          0.6971558526064631,
          0.6403441366119955,
          0.8162450625696428,
          0.5846560150546625,
          0.7503152446543181,
          0.8224011105036898,
          0.5976497796582131,
          0.6629905535090888,
          0.7648805910030709,
          0.6001839649447784,
          0.766714917570221,
          0.7599889194479372,
          0.6127288114548126,
          0.7359770762761196,
          0.8242364340536629,
          0.811197332103177,
          0.5507589770342765,
          0.7860470316545844,
          0.8512908576355608,
          0.7893356918182804,
          0.7827476152505595,
          0.5106276146102655,
          0.7326777900541237,
          0.8267130390839822,
          0.8293385437240909,
          0.5743463126743619,
          0.7956632308464587,
          0.8261207876917726,
          0.8640753324219772,
          0.8503585597942989,
          0.8362293236570115,
          0.8806213745068344,
          0.8284697495158432,
          0.865180892039106,
          0.8247854057345881,
          0.861668884063578,
          0.8616223691583323,
          0.8607847303590096,
          0.8914433598103042,
          0.6572539536554644,
          0.8629146102756079,
          0.8445178440243613,
          0.8800645126567113,
          0.818162861020931,
          0.8479530017813509,
          0.8635500731675761,
          0.8689165858656045,
          0.8798072718822263,
          0.8908422389078023,
          0.8917253989800469,
          0.9087407981784821,
          0.9032830771501091,
          0.7983226526604619,
          0.8735564885481207,
          0.7324435480153489,
          0.6376713348037366,
          0.7003783512787713,
          0.7296763032141527,
          0.710344425070512,
          0.8795124537747189,
          0.8754613165403226,
          0.8849724649105457,
          0.7234023430710148,
          0.8807662468986606,
          0.8941311584304718,
          0.7545067008090596,
          0.6379821076384093,
          0.8345237632810453,
          0.8666572998810907,
          0.8161555097356087,
          0.8206605161831532,
          0.9299027439899364,
          0.9012794458371483,
          0.8839781640278463,
          0.9335315266024155,
          0.9005662279811963,
          0.8322111259275644,
          0.7863842072961305,
          0.8919180471252149,
          0.7930272074576207,
          0.7531187602721618,
          0.8623615245829181,
          0.9269137332170144,
          0.8851161987933013,
          0.9234049313588188,
          0.7531004454686276,
          0.8456991752561079,
          0.8952903423344208,
          0.9147135021015292,
          0.9458347633090296,
          0.610392947536798,
          0.9177074437879874,
          0.9383236204082985,
          0.9243322069472516,
          0.7326030104466752,
          0.8375469250037451,
          0.9095308589031681,
          0.648326175715595,
          0.9346045255533213,
          0.8471743809317911,
          0.872678530806546,
          0.9092419413207341,
          0.8362920240997134,
          0.932187020550172,
          0.8647551676898889,
          0.9311056476575799,
          0.9504843041602544,
          0.8862155135727546,
          0.9169993233428595,
          0.9057539476212241,
          0.9182291646164643,
          0.8977180996665893,
          0.8385663726017732,
          0.9038685968021924,
          0.9338484587165757,
          0.9267032249976446,
          0.846655594638418,
          0.9168660937055229,
          0.9129802951500453,
          0.9185782271148141,
          0.9324553354154266,
          0.7801300193832515,
          0.8642161433301475,
          0.9292729161961356,
          0.9273308306814324,
          0.9155693348857631,
          0.9443667798256616,
          0.9331787932901163,
          0.8948659385940511,
          0.9279606386795125,
          0.855287247635188,
          0.7829956390542345,
          0.9230249696945347,
          0.9003640899556591,
          0.9270089309086478,
          0.8654038301069304,
          0.9327657251963742,
          0.9496034297097734,
          0.8691193138861822,
          0.9096353414172393,
          0.9307677696545368,
          0.9096432100240156,
          0.9235486054431259,
          0.9253785882883965,
          0.935355775780549,
          0.9382051844850238,
          0.9478617794513061,
          0.6862564461195197,
          0.9456891944876465,
          0.8948745877041807,
          0.6946390062112161,
          0.9440496956306867,
          0.9233966292718107
         ]
        },
        {
         "mode": "lines+markers",
         "name": "alpha = 1",
         "type": "scatter",
         "x": [
          100,
          200,
          300,
          400,
          500,
          600,
          700,
          800,
          900,
          1000,
          1100,
          1200,
          1300,
          1400,
          1500,
          1600,
          1700,
          1800,
          1900,
          2000,
          2100,
          2200,
          2300,
          2400,
          2500,
          2600,
          2700,
          2800,
          2900,
          3000,
          3100,
          3200,
          3300,
          3400,
          3500,
          3600,
          3700,
          3800,
          3900,
          4000,
          4100,
          4200,
          4300,
          4400,
          4500,
          4600,
          4700,
          4800,
          4900,
          5000,
          5100,
          5200,
          5300,
          5400,
          5500,
          5600,
          5700,
          5800,
          5900,
          6000,
          6100,
          6200,
          6300,
          6400,
          6500,
          6600,
          6700,
          6800,
          6900,
          7000,
          7100,
          7200,
          7300,
          7400,
          7500,
          7600,
          7700,
          7800,
          7900,
          8000,
          8100,
          8200,
          8300,
          8400,
          8500,
          8600,
          8700,
          8800,
          8900,
          9000,
          9100,
          9200,
          9300,
          9400,
          9500,
          9600,
          9700,
          9800,
          9900,
          10000,
          10100,
          10200,
          10300,
          10400,
          10500,
          10600,
          10700,
          10800,
          10900,
          11000,
          11100,
          11200,
          11300,
          11400,
          11500,
          11600,
          11700,
          11800,
          11900,
          12000,
          12100,
          12200,
          12300,
          12400,
          12500,
          12600,
          12700,
          12800,
          12900,
          13000,
          13100,
          13200,
          13300,
          13400,
          13500,
          13600,
          13700,
          13800,
          13900,
          14000,
          14100,
          14200,
          14300,
          14400,
          14500,
          14600,
          14700,
          14800,
          14900,
          15000,
          15100,
          15200,
          15300,
          15400,
          15500,
          15600,
          15700,
          15800,
          15900,
          16000,
          16100,
          16200,
          16300,
          16400,
          16500,
          16600,
          16700,
          16800,
          16900,
          17000,
          17100,
          17200,
          17300,
          17400,
          17500,
          17600,
          17700,
          17800,
          17900,
          18000,
          18100,
          18200,
          18300,
          18400,
          18500,
          18600,
          18700,
          18800,
          18900,
          19000,
          19100,
          19200,
          19300,
          19400,
          19500,
          19600,
          19700,
          19800,
          19900
         ],
         "y": [
          0.5024803169594659,
          0.48432990284122723,
          0.612745296659263,
          0.7651616001789006,
          0.8367862033421851,
          0.6832420532090671,
          0.6885148724522917,
          0.8491163944456035,
          0.7467085595705596,
          0.9153193363739786,
          0.918660176349129,
          0.8888621893776774,
          0.9077997461445294,
          0.9214886510224601,
          0.9432700858143486,
          0.9492743892430957,
          0.9523362665028794,
          0.9529383719185364,
          0.9571628844973443,
          0.9451585627075472,
          0.9638103872758722,
          0.9553427304286322,
          0.9487886003779076,
          0.9558781670972111,
          0.9392941410296611,
          0.9618180570325244,
          0.9617182759093631,
          0.9467791428754581,
          0.968744273146212,
          0.9660578093301316,
          0.9642988981756234,
          0.9658411440457513,
          0.9532220926209656,
          0.9716885541529764,
          0.9679754539643882,
          0.9706773655728418,
          0.9779494287840516,
          0.9744388377937421,
          0.9704931156947157,
          0.9743758697862258,
          0.9727726270896457,
          0.9656198363904891,
          0.9759051060760388,
          0.9773952963719965,
          0.9730222242729629,
          0.9741777027007964,
          0.9770553957658425,
          0.9824853722362222,
          0.9830567551961344,
          0.975205587780755,
          0.9800629890747194,
          0.9735220331877117,
          0.9837135743627653,
          0.9818979982519018,
          0.9790322056107554,
          0.9780543026156073,
          0.9797989317013079,
          0.9781879643302878,
          0.9831867131171314,
          0.9856526374161203,
          0.9843892022116684,
          0.9804220378940557,
          0.9793163225208006,
          0.9827984221289323,
          0.9830153374127367,
          0.9843585604468251,
          0.9869068634856558,
          0.9875130147166065,
          0.9899904302110591,
          0.9838845111314014,
          0.9863766393683839,
          0.9845918586840295,
          0.9863203407617792,
          0.9843656785623311,
          0.9873172161685525,
          0.989350377642729,
          0.9900537111434394,
          0.9843906644637357,
          0.9865703427042887,
          0.9853853233468295,
          0.9864505413099599,
          0.9890946023842173,
          0.9917609637705813,
          0.9852550597934028,
          0.9898611836053194,
          0.9877895115441439,
          0.9861704428139365,
          0.9884635933861715,
          0.9887242748689998,
          0.9845657619044016,
          0.9885910942924144,
          0.9874392074002775,
          0.9864330849322692,
          0.9872982125601534,
          0.9889600033013146,
          0.9863031157862387,
          0.9893255970010237,
          0.9880129643952268,
          0.9863847428060627,
          0.9864073730183698,
          0.9887897870642298,
          0.9918947029069096,
          0.9906458956430252,
          0.9911016448910707,
          0.992647349241614,
          0.9904817513496212,
          0.9902254233999683,
          0.9907253177396647,
          0.9909959840432592,
          0.9856450358371357,
          0.9901619518590825,
          0.9872009944342541,
          0.9892818873085804,
          0.9913355258601394,
          0.991415421296794,
          0.9918936294436693,
          0.9917344048331155,
          0.9905432242686149,
          0.9912002116459129,
          0.990857253355516,
          0.9902281351910142,
          0.993138809087942,
          0.9912478733790892,
          0.992263096488654,
          0.9925219012063101,
          0.9912362867185787,
          0.9914763277769955,
          0.991515133747482,
          0.9931290745864796,
          0.9892066265502247,
          0.992898897901547,
          0.9891441974296451,
          0.9919102949865322,
          0.9897172768048469,
          0.9934963781207319,
          0.9931881744096125,
          0.9908537319885793,
          0.9945367555446669,
          0.9912149076388147,
          0.9931522584405666,
          0.9921419308045614,
          0.9910019899298258,
          0.9943628706733441,
          0.9920600313525066,
          0.9924557555509235,
          0.9927350230250982,
          0.9943971450319662,
          0.9918661591393408,
          0.9909219163701238,
          0.9909208798710161,
          0.9943422084590317,
          0.9928672780428196,
          0.9933229011220279,
          0.9917246842309997,
          0.9925249254539384,
          0.9936293243286827,
          0.993101747049421,
          0.9930017112106395,
          0.9924075982409036,
          0.9940561717104335,
          0.996308621922513,
          0.9944469208549218,
          0.9935652839264686,
          0.9934167274023561,
          0.9939067956034041,
          0.993120152369217,
          0.9934761878654257,
          0.9942033902762161,
          0.9938750003093663,
          0.9930658102325778,
          0.9929814611575046,
          0.9937693049494667,
          0.9945077767687943,
          0.9939684379893968,
          0.9942361099974585,
          0.9947432477281845,
          0.9941591967076033,
          0.993765153394084,
          0.9937791585823309,
          0.9934595645168419,
          0.9929500322949787,
          0.9928977562650992,
          0.9950556106209433,
          0.9942569999059738,
          0.9948844295268937,
          0.9956152396644137,
          0.9938523949413545,
          0.9946868860280399,
          0.9938269700018457,
          0.9949147333924189,
          0.9935745189322215,
          0.9922215735775114,
          0.9941067332617667,
          0.9935949541179915,
          0.9953539408173574,
          0.9947678328342829,
          0.9952685530789688,
          0.9947384386817723,
          0.9952838548029229
         ]
        },
        {
         "mode": "lines+markers",
         "name": "alpha = 1.5",
         "type": "scatter",
         "x": [
          100,
          200,
          300,
          400,
          500,
          600,
          700,
          800,
          900,
          1000,
          1100,
          1200,
          1300,
          1400,
          1500,
          1600,
          1700,
          1800,
          1900,
          2000,
          2100,
          2200,
          2300,
          2400,
          2500,
          2600,
          2700,
          2800,
          2900,
          3000,
          3100,
          3200,
          3300,
          3400,
          3500,
          3600,
          3700,
          3800,
          3900,
          4000,
          4100,
          4200,
          4300,
          4400,
          4500,
          4600,
          4700,
          4800,
          4900,
          5000,
          5100,
          5200,
          5300,
          5400,
          5500,
          5600,
          5700,
          5800,
          5900,
          6000,
          6100,
          6200,
          6300,
          6400,
          6500,
          6600,
          6700,
          6800,
          6900,
          7000,
          7100,
          7200,
          7300,
          7400,
          7500,
          7600,
          7700,
          7800,
          7900,
          8000,
          8100,
          8200,
          8300,
          8400,
          8500,
          8600,
          8700,
          8800,
          8900,
          9000,
          9100,
          9200,
          9300,
          9400,
          9500,
          9600,
          9700,
          9800,
          9900,
          10000,
          10100,
          10200,
          10300,
          10400,
          10500,
          10600,
          10700,
          10800,
          10900,
          11000,
          11100,
          11200,
          11300,
          11400,
          11500,
          11600,
          11700,
          11800,
          11900,
          12000,
          12100,
          12200,
          12300,
          12400,
          12500,
          12600,
          12700,
          12800,
          12900,
          13000,
          13100,
          13200,
          13300,
          13400,
          13500,
          13600,
          13700,
          13800,
          13900,
          14000,
          14100,
          14200,
          14300,
          14400,
          14500,
          14600,
          14700,
          14800,
          14900,
          15000,
          15100,
          15200,
          15300,
          15400,
          15500,
          15600,
          15700,
          15800,
          15900,
          16000,
          16100,
          16200,
          16300,
          16400,
          16500,
          16600,
          16700,
          16800,
          16900,
          17000,
          17100,
          17200,
          17300,
          17400,
          17500,
          17600,
          17700,
          17800,
          17900,
          18000,
          18100,
          18200,
          18300,
          18400,
          18500,
          18600,
          18700,
          18800,
          18900,
          19000,
          19100,
          19200,
          19300,
          19400,
          19500,
          19600,
          19700,
          19800,
          19900
         ],
         "y": [
          0.670803503393687,
          0.8751557523152605,
          0.9079023634400789,
          0.9314158313257043,
          0.9274997686582959,
          0.9467591606634679,
          0.9451268970419326,
          0.9646682487365086,
          0.9634627522014448,
          0.9670232755968489,
          0.9652448223817677,
          0.9763059754210447,
          0.9783798013578943,
          0.9777423606831319,
          0.9775952683775749,
          0.9790456923097854,
          0.986282116964119,
          0.9776434753123501,
          0.9839649155867654,
          0.9791774863559045,
          0.9850512744327917,
          0.9860686498674771,
          0.9844086212352829,
          0.9863988051972623,
          0.9902342892274825,
          0.9853713851480056,
          0.9889344893003775,
          0.9923954164142481,
          0.9918991650750492,
          0.9874916000071378,
          0.9908731431255838,
          0.9906573677805951,
          0.9919575763248425,
          0.9906585621400055,
          0.9875907640102809,
          0.9871997497848994,
          0.9903806600520495,
          0.9929199518784273,
          0.9899901187963264,
          0.9923441974089402,
          0.9932162388080965,
          0.9908159454083965,
          0.9917214134587681,
          0.9930711023132137,
          0.992818658471438,
          0.993210854831618,
          0.9933954939144044,
          0.9943201353734693,
          0.9930789055275946,
          0.9932008032187046,
          0.9938063020238995,
          0.9937857198677278,
          0.9941499617070119,
          0.9944364121583981,
          0.9937217013268291,
          0.9944443288422231,
          0.994883450730053,
          0.9947217855031757,
          0.75746797147092,
          0.9937281299255569,
          0.9951895622095703,
          0.9947815530906544,
          0.994779877042074,
          0.9956635045771816,
          0.9949169173754722,
          0.9947693689173405,
          0.9949543975895203,
          0.9950013649302228,
          0.995833012382518,
          0.9955389835552503,
          0.9958293225904165,
          0.995774362651164,
          0.9952878157684124,
          0.9963089519813845,
          0.9960417777740793,
          0.9963303482789423,
          0.9963605214066271,
          0.995620087719345,
          0.9955762172977511,
          0.9958154781377853,
          0.9954520579702866,
          0.9957957097857163,
          0.995118327316215,
          0.9960851997698633,
          0.9962367327135876,
          0.9962607191629561,
          0.9959319693449946,
          0.9963542627559934,
          0.9952551653205731,
          0.9969756151635233,
          0.9969399654234081,
          0.9967827907826422,
          0.9960136242822644,
          0.9966729490391659,
          0.9970127363174106,
          0.9971630787379321,
          0.9974898194736084,
          0.9964637631699392,
          0.9965101411005058,
          0.995954318297581,
          0.9962360523196954,
          0.9968273067826549,
          0.9969124611811467,
          0.9972033114223025,
          0.9969946826123666,
          0.9967189357438891,
          0.9962383522102721,
          0.9966565649057006,
          0.9959971964378572,
          0.9973280699739185,
          0.9972289497733637,
          0.9970443475213379,
          0.9971450907310644,
          0.9979795895738544,
          0.9971261982747059,
          0.9973509857695183,
          0.9972099144271032,
          0.9967375584743858,
          0.9974178515096297,
          0.6727436409504569,
          0.996661425433937,
          0.9970003219840274,
          0.9974281400998647,
          0.9971364977730302,
          0.997335323467851,
          0.9977658611736839,
          0.9972336698213425,
          0.9974670461505166,
          0.99696365083565,
          0.9969181794359547,
          0.9970956800657876,
          0.9980133990018993,
          0.997836593164556,
          0.9976878052012809,
          0.9968692626140011,
          0.9968202037422411,
          0.9966784458079924,
          0.9975259786729079,
          0.9978819521460485,
          0.9978070009101385,
          0.9971112778046556,
          0.9974192822649236,
          0.9968253919645716,
          0.9977395161145992,
          0.9982126208346235,
          0.99791523261847,
          0.9975234346634902,
          0.9974051451829209,
          0.9974110080823577,
          0.9971009925007287,
          0.9977197475551253,
          0.9982560329098438,
          0.9981122113269733,
          0.9976305757240991,
          0.9974220132023819,
          0.9979152166479706,
          0.9978596247475107,
          0.9978983419803438,
          0.9983626593401335,
          0.9978390483168207,
          0.9974428866399692,
          0.9979609250177726,
          0.9982067076356226,
          0.9977795806810914,
          0.9976343823095061,
          0.9979316858871554,
          0.9983220212743339,
          0.9981440239712935,
          0.9979205081387967,
          0.9974492972270667,
          0.9978293224818092,
          0.9978693165390446,
          0.9986543991027265,
          0.9977195927459407,
          0.9981061727389917,
          0.9981945768055512,
          0.9983448164190961,
          0.9980911215198929,
          0.9979431863703888,
          0.9982412351926067,
          0.9978190415427246,
          0.9983975743306677,
          0.9979460255650354,
          0.9984470009892772,
          0.9980800613788706,
          0.9977695411038318,
          0.9986663010421764,
          0.9979031461675718,
          0.9982927783537731,
          0.9986191936743661,
          0.9980094720712142,
          0.9983936517746721,
          0.9980681869844069,
          0.9979245246111316,
          0.9982643267833183,
          0.9986432293670294,
          0.9987053284109452,
          0.9984373108663402,
          0.9984564080787618
         ]
        },
        {
         "mode": "lines+markers",
         "name": "alpha = 2",
         "type": "scatter",
         "x": [
          100,
          200,
          300,
          400,
          500,
          600,
          700,
          800,
          900,
          1000,
          1100,
          1200,
          1300,
          1400,
          1500,
          1600,
          1700,
          1800,
          1900,
          2000,
          2100,
          2200,
          2300,
          2400,
          2500,
          2600,
          2700,
          2800,
          2900,
          3000,
          3100,
          3200,
          3300,
          3400,
          3500,
          3600,
          3700,
          3800,
          3900,
          4000,
          4100,
          4200,
          4300,
          4400,
          4500,
          4600,
          4700,
          4800,
          4900,
          5000,
          5100,
          5200,
          5300,
          5400,
          5500,
          5600,
          5700,
          5800,
          5900,
          6000,
          6100,
          6200,
          6300,
          6400,
          6500,
          6600,
          6700,
          6800,
          6900,
          7000,
          7100,
          7200,
          7300,
          7400,
          7500,
          7600,
          7700,
          7800,
          7900,
          8000,
          8100,
          8200,
          8300,
          8400,
          8500,
          8600,
          8700,
          8800,
          8900,
          9000,
          9100,
          9200,
          9300,
          9400,
          9500,
          9600,
          9700,
          9800,
          9900,
          10000,
          10100,
          10200,
          10300,
          10400,
          10500,
          10600,
          10700,
          10800,
          10900,
          11000,
          11100,
          11200,
          11300,
          11400,
          11500,
          11600,
          11700,
          11800,
          11900,
          12000,
          12100,
          12200,
          12300,
          12400,
          12500,
          12600,
          12700,
          12800,
          12900,
          13000,
          13100,
          13200,
          13300,
          13400,
          13500,
          13600,
          13700,
          13800,
          13900,
          14000,
          14100,
          14200,
          14300,
          14400,
          14500,
          14600,
          14700,
          14800,
          14900,
          15000,
          15100,
          15200,
          15300,
          15400,
          15500,
          15600,
          15700,
          15800,
          15900,
          16000,
          16100,
          16200,
          16300,
          16400,
          16500,
          16600,
          16700,
          16800,
          16900,
          17000,
          17100,
          17200,
          17300,
          17400,
          17500,
          17600,
          17700,
          17800,
          17900,
          18000,
          18100,
          18200,
          18300,
          18400,
          18500,
          18600,
          18700,
          18800,
          18900,
          19000,
          19100,
          19200,
          19300,
          19400,
          19500,
          19600,
          19700,
          19800,
          19900
         ],
         "y": [
          0.8476086069622021,
          0.9386452895303351,
          0.9313699003041868,
          0.9500528997575978,
          0.9697077334867691,
          0.9744984805209136,
          0.9837731634022094,
          0.9829089773717494,
          0.9778329842363688,
          0.986421601584639,
          0.9872189054102333,
          0.9836955699485772,
          0.9881795166513472,
          0.9882737736484162,
          0.9902873721811645,
          0.992502206471189,
          0.988727412043741,
          0.9919411075727886,
          0.9916879093625941,
          0.9932789668024403,
          0.992996818987359,
          0.993272710293267,
          0.9940787547369846,
          0.9926437826583712,
          0.9930065718744044,
          0.9932955071903306,
          0.9931372842634619,
          0.9940549479672376,
          0.9949545554404171,
          0.9952585663439809,
          0.9949954738966953,
          0.9943838358165615,
          0.9956114096076683,
          0.9948340133435596,
          0.9948348343556023,
          0.9960517360706178,
          0.9959080901542082,
          0.9939640354918686,
          0.996023550104564,
          0.9949067287533071,
          0.996310175206604,
          0.9960790901758663,
          0.9961611599718128,
          0.9953636788649123,
          0.9961166637643272,
          0.9974282459451015,
          0.9964351084211415,
          0.996069918029652,
          0.997292979155613,
          0.9969346111452009,
          0.9961045408625135,
          0.9973121980647306,
          0.9965022234479602,
          0.996938343296753,
          0.9970726075943124,
          0.9977135990897255,
          0.9975263116990294,
          0.9972284020075138,
          0.9974654174699971,
          0.9974698173567208,
          0.9974229348953845,
          0.997604022415971,
          0.9972646053960461,
          0.9980364133091562,
          0.9976147307036201,
          0.9975267204061085,
          0.9970211781412579,
          0.9976967195154803,
          0.9979647899931344,
          0.9976307644556147,
          0.9974165232143355,
          0.9979432954646014,
          0.997431246708069,
          0.9978230557877564,
          0.997451045032898,
          0.9978032242789346,
          0.9981148754355647,
          0.9982096764009438,
          0.9984652699132954,
          0.9981188594307104,
          0.9978977603058198,
          0.9982285116999606,
          0.9983259652662569,
          0.998078987239594,
          0.9981422677137377,
          0.9977363831694214,
          0.9980535049163223,
          0.9981510626695347,
          0.9980599615015191,
          0.9981536311043141,
          0.9983620976588851,
          0.99823991130985,
          0.9981949681314461,
          0.9983307249145248,
          0.997628750694111,
          0.9981320692611424,
          0.9981853284201414,
          0.9986349353552378,
          0.9985774646738383,
          0.9987439924612576,
          0.998219184538819,
          0.9986167632016318,
          0.9987368091885225,
          0.998591549683942,
          0.9987424987069972,
          0.9981248305396206,
          0.9986505727467795,
          0.9984808072468051,
          0.9988017109927935,
          0.9985558236555148,
          0.998687490469918,
          0.9985788878276696,
          0.9987300864734735,
          0.9983103783619236,
          0.998859254780928,
          0.9986897429497691,
          0.9984957125977094,
          0.9985149796632637,
          0.9987903817848998,
          0.998593025488085,
          0.9988497313686237,
          0.9986718279348709,
          0.9986055979417661,
          0.9987412614098464,
          0.9986840998099837,
          0.9986689921489512,
          0.9987346659228049,
          0.9990336323243755,
          0.9987607241204149,
          0.9988155806560159,
          0.9988111393769672,
          0.9986207612068814,
          0.9986626597712525,
          0.9985679283407376,
          0.9987560981252829,
          0.9992323545618575,
          0.9990464971927738,
          0.9984128577722342,
          0.9987851093802502,
          0.9988303973740258,
          0.9986859822785068,
          0.9990785566506709,
          0.9989378106788247,
          0.9987279881534201,
          0.9988285687099228,
          0.9986041849511277,
          0.9990058973838644,
          0.9986803489649412,
          0.9990403353080869,
          0.9987136782069228,
          0.9988429639392652,
          0.9989695209722922,
          0.9989938898760484,
          0.998955585576514,
          0.9988830351838748,
          0.9987683865817809,
          0.9987140506439358,
          0.9988672517714726,
          0.9990563766030566,
          0.99902416846622,
          0.9990291084609915,
          0.9988430139944252,
          0.9991332777491955,
          0.9990884230586098,
          0.9988925398941028,
          0.9991581467077171,
          0.9991441041964987,
          0.9989221023266921,
          0.7455283457129157,
          0.998692295120664,
          0.9990009632141905,
          0.9989313454028004,
          0.998994187378977,
          0.9989255287667234,
          0.9991012347901824,
          0.9989235919919228,
          0.9989521290977676,
          0.9989484641710077,
          0.9991709702169912,
          0.9991257538732549,
          0.9992797410140636,
          0.9991259420884734,
          0.9990074376625562,
          0.9990413257205091,
          0.9990039569728858,
          0.9991359735500334,
          0.9992160887384224,
          0.9992028766194677,
          0.9992165552097557,
          0.9989033811218989,
          0.999023084963651,
          0.9992868334804869,
          0.9991375088558021,
          0.9992845598059944,
          0.9992080183374573,
          0.9991175216121547,
          0.9991254459380651,
          0.999014887274475,
          0.999024440613042
         ]
        },
        {
         "mode": "lines+markers",
         "name": "alpha = 2.5",
         "type": "scatter",
         "x": [
          100,
          200,
          300,
          400,
          500,
          600,
          700,
          800,
          900,
          1000,
          1100,
          1200,
          1300,
          1400,
          1500,
          1600,
          1700,
          1800,
          1900,
          2000,
          2100,
          2200,
          2300,
          2400,
          2500,
          2600,
          2700,
          2800,
          2900,
          3000,
          3100,
          3200,
          3300,
          3400,
          3500,
          3600,
          3700,
          3800,
          3900,
          4000,
          4100,
          4200,
          4300,
          4400,
          4500,
          4600,
          4700,
          4800,
          4900,
          5000,
          5100,
          5200,
          5300,
          5400,
          5500,
          5600,
          5700,
          5800,
          5900,
          6000,
          6100,
          6200,
          6300,
          6400,
          6500,
          6600,
          6700,
          6800,
          6900,
          7000,
          7100,
          7200,
          7300,
          7400,
          7500,
          7600,
          7700,
          7800,
          7900,
          8000,
          8100,
          8200,
          8300,
          8400,
          8500,
          8600,
          8700,
          8800,
          8900,
          9000,
          9100,
          9200,
          9300,
          9400,
          9500,
          9600,
          9700,
          9800,
          9900,
          10000,
          10100,
          10200,
          10300,
          10400,
          10500,
          10600,
          10700,
          10800,
          10900,
          11000,
          11100,
          11200,
          11300,
          11400,
          11500,
          11600,
          11700,
          11800,
          11900,
          12000,
          12100,
          12200,
          12300,
          12400,
          12500,
          12600,
          12700,
          12800,
          12900,
          13000,
          13100,
          13200,
          13300,
          13400,
          13500,
          13600,
          13700,
          13800,
          13900,
          14000,
          14100,
          14200,
          14300,
          14400,
          14500,
          14600,
          14700,
          14800,
          14900,
          15000,
          15100,
          15200,
          15300,
          15400,
          15500,
          15600,
          15700,
          15800,
          15900,
          16000,
          16100,
          16200,
          16300,
          16400,
          16500,
          16600,
          16700,
          16800,
          16900,
          17000,
          17100,
          17200,
          17300,
          17400,
          17500,
          17600,
          17700,
          17800,
          17900,
          18000,
          18100,
          18200,
          18300,
          18400,
          18500,
          18600,
          18700,
          18800,
          18900,
          19000,
          19100,
          19200,
          19300,
          19400,
          19500,
          19600,
          19700,
          19800,
          19900
         ],
         "y": [
          0.9094883434662476,
          0.9493352952827878,
          0.9774065818459261,
          0.9782575830692669,
          0.9803669063348551,
          0.9836596517766659,
          0.9857298857079744,
          0.9890012799706221,
          0.9894906286723958,
          0.9893942754809446,
          0.9922283211526027,
          0.9917449256566486,
          0.9917544835235547,
          0.9931593219323965,
          0.9933106819511279,
          0.9951662070587411,
          0.9944674571543602,
          0.995815584651406,
          0.9948100927530314,
          0.9961730152802554,
          0.9964927264246233,
          0.9966552822253035,
          0.9964232624415001,
          0.9964028745436775,
          0.9954358339918762,
          0.9971189460905849,
          0.9962772656981594,
          0.9950941029744507,
          0.9956035909752845,
          0.997442418989877,
          0.9972987933193793,
          0.997199732356218,
          0.9971475579257506,
          0.9970240066722863,
          0.9974952369063599,
          0.997752705511107,
          0.9979900365645027,
          0.997342219224407,
          0.9977605374763499,
          0.9970829660164596,
          0.9974029412485644,
          0.9977493934882902,
          0.9973455360570689,
          0.996930845226798,
          0.9978945657455984,
          0.9979850991894523,
          0.9981906863059816,
          0.9978946557210085,
          0.9980595447111071,
          0.9978560285649097,
          0.997735588746601,
          0.9974399082658882,
          0.9983316469675829,
          0.9983072241522234,
          0.9985909313894443,
          0.9986451255179272,
          0.9979909009996863,
          0.9980752038627927,
          0.9987038532501158,
          0.9987650956083327,
          0.9981935931958876,
          0.998511950900923,
          0.9980635078025653,
          0.9982237985402804,
          0.9985682903271326,
          0.9984431075552268,
          0.9986425924542288,
          0.9985443132070018,
          0.9988814214927404,
          0.9987946097162096,
          0.9985540739631574,
          0.9988696108958184,
          0.9989629325302823,
          0.9987128076319579,
          0.9986626326783739,
          0.9987093791800356,
          0.9989852910874818,
          0.9989964838006431,
          0.998806146589729,
          0.9989542983907953,
          0.999106044468714,
          0.9989372366261401,
          0.9986244932222621,
          0.999216458474949,
          0.998922381529488,
          0.9990428181661055,
          0.9990127557611108,
          0.999059181444614,
          0.9990781708362402,
          0.9989023940974979,
          0.9989231513685985,
          0.9986672417271089,
          0.9988858527141274,
          0.9989825835459458,
          0.9990626690616302,
          0.999082501216379,
          0.999174741977407,
          0.9992459637728045,
          0.9988458211163159,
          0.9992165601712746,
          0.9989718057685882,
          0.9992878279982796,
          0.9991096505596934,
          0.9990914793884841,
          0.9990004180725547,
          0.9990436666057925,
          0.9992428812032219,
          0.9990231865649766,
          0.9992498664357052,
          0.9991589397686591,
          0.9993327992130512,
          0.9991473734147645,
          0.9991160599704254,
          0.9991666951843436,
          0.9991406441456936,
          0.9991422731474924,
          0.9991356831958086,
          0.9992044981478148,
          0.9992124526318634,
          0.9991192415580875,
          0.9991578028873986,
          0.9990872516832752,
          0.9993134665117117,
          0.9993446117813921,
          0.999356311786645,
          0.9992528085099402,
          0.9991941077276756,
          0.9991899550299275,
          0.9991926029960083,
          0.9993816966404925,
          0.9991863734748754,
          0.9995096454858469,
          0.9993347631911637,
          0.9991657056725974,
          0.9993622359299132,
          0.9992615122306773,
          0.9992080679810674,
          0.9993536257760365,
          0.9993495036328877,
          0.9995601888395873,
          0.9995151332935336,
          0.9992718432774766,
          0.9992580010335622,
          0.9994360699395431,
          0.9994415222801605,
          0.9994081226691673,
          0.9994181037027269,
          0.9994152964333813,
          0.9994191726561995,
          0.9994874366084404,
          0.9994449290210313,
          0.999344509547861,
          0.9993895217130558,
          0.9992986066199412,
          0.9993801981696353,
          0.9993851273035322,
          0.999297804046378,
          0.9992770631426847,
          0.9994198123596716,
          0.9993753437707948,
          0.9993489384586879,
          0.999493276469751,
          0.9994580599725768,
          0.9994256972556199,
          0.9993616487068878,
          0.999365203301878,
          0.9992055499886032,
          0.999407498096255,
          0.9994888788262241,
          0.9995336351338411,
          0.9994974511883838,
          0.9995802698437969,
          0.9994715753658016,
          0.9994454835760956,
          0.9995432494615053,
          0.9994943143956772,
          0.9993921767745539,
          0.9995025459992023,
          0.9994421280518373,
          0.9994331512451514,
          0.9994823986340649,
          0.9995450644392938,
          0.9993844967662362,
          0.9992131937748168,
          0.9994035910966073,
          0.9994674165549065,
          0.9995534523988527,
          0.999593379823329,
          0.9995828331051009,
          0.9994361563428455,
          0.9995981979908303,
          0.9995099252726336,
          0.9995195316965071,
          0.999558505466975,
          0.9994721557245326,
          0.999497169495253,
          0.999427496776957,
          0.999578137589466,
          0.9995494331904066
         ]
        },
        {
         "mode": "lines+markers",
         "name": "alpha = 3",
         "type": "scatter",
         "x": [
          100,
          200,
          300,
          400,
          500,
          600,
          700,
          800,
          900,
          1000,
          1100,
          1200,
          1300,
          1400,
          1500,
          1600,
          1700,
          1800,
          1900,
          2000,
          2100,
          2200,
          2300,
          2400,
          2500,
          2600,
          2700,
          2800,
          2900,
          3000,
          3100,
          3200,
          3300,
          3400,
          3500,
          3600,
          3700,
          3800,
          3900,
          4000,
          4100,
          4200,
          4300,
          4400,
          4500,
          4600,
          4700,
          4800,
          4900,
          5000,
          5100,
          5200,
          5300,
          5400,
          5500,
          5600,
          5700,
          5800,
          5900,
          6000,
          6100,
          6200,
          6300,
          6400,
          6500,
          6600,
          6700,
          6800,
          6900,
          7000,
          7100,
          7200,
          7300,
          7400,
          7500,
          7600,
          7700,
          7800,
          7900,
          8000,
          8100,
          8200,
          8300,
          8400,
          8500,
          8600,
          8700,
          8800,
          8900,
          9000,
          9100,
          9200,
          9300,
          9400,
          9500,
          9600,
          9700,
          9800,
          9900,
          10000,
          10100,
          10200,
          10300,
          10400,
          10500,
          10600,
          10700,
          10800,
          10900,
          11000,
          11100,
          11200,
          11300,
          11400,
          11500,
          11600,
          11700,
          11800,
          11900,
          12000,
          12100,
          12200,
          12300,
          12400,
          12500,
          12600,
          12700,
          12800,
          12900,
          13000,
          13100,
          13200,
          13300,
          13400,
          13500,
          13600,
          13700,
          13800,
          13900,
          14000,
          14100,
          14200,
          14300,
          14400,
          14500,
          14600,
          14700,
          14800,
          14900,
          15000,
          15100,
          15200,
          15300,
          15400,
          15500,
          15600,
          15700,
          15800,
          15900,
          16000,
          16100,
          16200,
          16300,
          16400,
          16500,
          16600,
          16700,
          16800,
          16900,
          17000,
          17100,
          17200,
          17300,
          17400,
          17500,
          17600,
          17700,
          17800,
          17900,
          18000,
          18100,
          18200,
          18300,
          18400,
          18500,
          18600,
          18700,
          18800,
          18900,
          19000,
          19100,
          19200,
          19300,
          19400,
          19500,
          19600,
          19700,
          19800,
          19900
         ],
         "y": [
          0.9286374834847624,
          0.9698936659699764,
          0.980655700343677,
          0.9876923071153699,
          0.986204780991517,
          0.990432732427652,
          0.9895351600159706,
          0.9923759157535436,
          0.9943150370310125,
          0.9919057947411426,
          0.9947794471204155,
          0.9943581720804532,
          0.995240383781288,
          0.9949079704190058,
          0.9960045696235916,
          0.9957858215555192,
          0.9968188678376125,
          0.9969116021599665,
          0.9968297237685083,
          0.9963657020821842,
          0.9960569732696134,
          0.9966181665863051,
          0.9973157413622997,
          0.9979479620508522,
          0.9975560646150061,
          0.9982996123040068,
          0.9976237471274967,
          0.9969053209893904,
          0.998069388121004,
          0.9979453728287448,
          0.9977077144080704,
          0.9983745458221315,
          0.9978733509663137,
          0.9973362295101231,
          0.997863173110919,
          0.9984555135992905,
          0.9979331032871134,
          0.9984256089029547,
          0.9982532558331432,
          0.9985314673714741,
          0.9987853316036335,
          0.9986903172117861,
          0.9986370105290976,
          0.9982282162449453,
          0.9985030336437191,
          0.9983699645462876,
          0.9987479601439083,
          0.9983980541595915,
          0.9989197573304421,
          0.9986239237608068,
          0.99883630880194,
          0.9987060616599439,
          0.9987492193361588,
          0.998814696176191,
          0.9985352981249194,
          0.9989879248640857,
          0.998864780129993,
          0.9989873393549691,
          0.9988377082641039,
          0.9990691014913331,
          0.9990608702200029,
          0.9988292050945571,
          0.9989192005508275,
          0.9988903016144518,
          0.9989753345746684,
          0.9987375596647705,
          0.9991698356443995,
          0.9992886012720741,
          0.9988901517627607,
          0.9989139104580218,
          0.9990809320351068,
          0.9992178014239558,
          0.9990705611557883,
          0.9991171898480916,
          0.999067302494381,
          0.9992458354358955,
          0.9992333325950062,
          0.9991730084289887,
          0.9993506664548036,
          0.9991713417916204,
          0.9991479240337666,
          0.9990506579929959,
          0.999333339438711,
          0.9991443532659643,
          0.9993523915642766,
          0.9994389899735299,
          0.9993414196588134,
          0.9993528475426001,
          0.9993423032587682,
          0.9993768359765982,
          0.9993424972798381,
          0.999343668766327,
          0.9994017927950394,
          0.9994681842670754,
          0.9992607761462214,
          0.999319374413596,
          0.9993474656008269,
          0.9993443376528729,
          0.9993634530527251,
          0.9992396454019493,
          0.9994599931516219,
          0.9994259953224276,
          0.9992622902025747,
          0.999319376795282,
          0.9993148011392722,
          0.9990911603336562,
          0.9995317500187757,
          0.9994000729703778,
          0.9993666789392515,
          0.999594292672191,
          0.9995367291206582,
          0.9994772514749042,
          0.9994028270705695,
          0.9994582617449389,
          0.9995135845846375,
          0.999495037463115,
          0.999419753558744,
          0.999479534146895,
          0.9993893150621032,
          0.9995024604437934,
          0.9994413356802594,
          0.9994893832752938,
          0.999423026250213,
          0.9994855639466446,
          0.9995067278466839,
          0.9995186632725642,
          0.9994701060228012,
          0.999395735672162,
          0.999578034586332,
          0.9995371391578517,
          0.9995237362595862,
          0.9996115018119502,
          0.999436157214454,
          0.999396727232569,
          0.9994166770774696,
          0.9995366755148268,
          0.9995682789052679,
          0.9995178348795838,
          0.9996286705907061,
          0.9995675599085982,
          0.9994931157457961,
          0.9994968863474206,
          0.999568249451818,
          0.9996944576434983,
          0.9995660701448422,
          0.9995442729116677,
          0.9994809673042115,
          0.9995906347548983,
          0.9995771933656701,
          0.9996457420491719,
          0.9996457803235341,
          0.9996752297952324,
          0.9995362781669986,
          0.9995750918664205,
          0.999604288615394,
          0.9996445163133989,
          0.9996154572034636,
          0.9995987849531971,
          0.9996445891165272,
          0.9995724925354935,
          0.9996542224595218,
          0.9996311126616786,
          0.9996726769932824,
          0.9996902886703583,
          0.9996265902469171,
          0.9996887493827413,
          0.9996509879074325,
          0.9995027792967872,
          0.9996550040252314,
          0.9996400462463932,
          0.999660024374973,
          0.9995981949113985,
          0.9996337055923091,
          0.9997034995091092,
          0.999695347481266,
          0.999584552603714,
          0.9996952243095646,
          0.9996633965740068,
          0.9995949602651247,
          0.7497764591577643,
          0.9996695730503242,
          0.9996663991863641,
          0.9997166953839449,
          0.9996331344293145,
          0.9996921674972421,
          0.9996883744801434,
          0.9995952765965843,
          0.9996597683414868,
          0.9996498623902111,
          0.999702083414812,
          0.9996885353382267,
          0.9996467164563889,
          0.9997217255038172,
          0.9996734692239221,
          0.9996029711377035,
          0.9997076659485157,
          0.9996001395544141,
          0.9996874653078117,
          0.9997221420497621
         ]
        }
       ],
       "layout": {
        "annotations": [
         {
          "showarrow": false,
          "text": "Corr = 1",
          "x": 0,
          "xanchor": "left",
          "xref": "x domain",
          "y": 1,
          "yanchor": "bottom",
          "yref": "y"
         }
        ],
        "height": 500,
        "legend": {
         "title": {
          "text": "Valeurs de alpha"
         }
        },
        "shapes": [
         {
          "line": {
           "color": "red",
           "dash": "dot"
          },
          "type": "line",
          "x0": 0,
          "x1": 1,
          "xref": "x domain",
          "y0": 1,
          "y1": 1,
          "yref": "y"
         }
        ],
        "template": {
         "data": {
          "bar": [
           {
            "error_x": {
             "color": "#2a3f5f"
            },
            "error_y": {
             "color": "#2a3f5f"
            },
            "marker": {
             "line": {
              "color": "#E5ECF6",
              "width": 0.5
             },
             "pattern": {
              "fillmode": "overlay",
              "size": 10,
              "solidity": 0.2
             }
            },
            "type": "bar"
           }
          ],
          "barpolar": [
           {
            "marker": {
             "line": {
              "color": "#E5ECF6",
              "width": 0.5
             },
             "pattern": {
              "fillmode": "overlay",
              "size": 10,
              "solidity": 0.2
             }
            },
            "type": "barpolar"
           }
          ],
          "carpet": [
           {
            "aaxis": {
             "endlinecolor": "#2a3f5f",
             "gridcolor": "white",
             "linecolor": "white",
             "minorgridcolor": "white",
             "startlinecolor": "#2a3f5f"
            },
            "baxis": {
             "endlinecolor": "#2a3f5f",
             "gridcolor": "white",
             "linecolor": "white",
             "minorgridcolor": "white",
             "startlinecolor": "#2a3f5f"
            },
            "type": "carpet"
           }
          ],
          "choropleth": [
           {
            "colorbar": {
             "outlinewidth": 0,
             "ticks": ""
            },
            "type": "choropleth"
           }
          ],
          "contour": [
           {
            "colorbar": {
             "outlinewidth": 0,
             "ticks": ""
            },
            "colorscale": [
             [
              0,
              "#0d0887"
             ],
             [
              0.1111111111111111,
              "#46039f"
             ],
             [
              0.2222222222222222,
              "#7201a8"
             ],
             [
              0.3333333333333333,
              "#9c179e"
             ],
             [
              0.4444444444444444,
              "#bd3786"
             ],
             [
              0.5555555555555556,
              "#d8576b"
             ],
             [
              0.6666666666666666,
              "#ed7953"
             ],
             [
              0.7777777777777778,
              "#fb9f3a"
             ],
             [
              0.8888888888888888,
              "#fdca26"
             ],
             [
              1,
              "#f0f921"
             ]
            ],
            "type": "contour"
           }
          ],
          "contourcarpet": [
           {
            "colorbar": {
             "outlinewidth": 0,
             "ticks": ""
            },
            "type": "contourcarpet"
           }
          ],
          "heatmap": [
           {
            "colorbar": {
             "outlinewidth": 0,
             "ticks": ""
            },
            "colorscale": [
             [
              0,
              "#0d0887"
             ],
             [
              0.1111111111111111,
              "#46039f"
             ],
             [
              0.2222222222222222,
              "#7201a8"
             ],
             [
              0.3333333333333333,
              "#9c179e"
             ],
             [
              0.4444444444444444,
              "#bd3786"
             ],
             [
              0.5555555555555556,
              "#d8576b"
             ],
             [
              0.6666666666666666,
              "#ed7953"
             ],
             [
              0.7777777777777778,
              "#fb9f3a"
             ],
             [
              0.8888888888888888,
              "#fdca26"
             ],
             [
              1,
              "#f0f921"
             ]
            ],
            "type": "heatmap"
           }
          ],
          "heatmapgl": [
           {
            "colorbar": {
             "outlinewidth": 0,
             "ticks": ""
            },
            "colorscale": [
             [
              0,
              "#0d0887"
             ],
             [
              0.1111111111111111,
              "#46039f"
             ],
             [
              0.2222222222222222,
              "#7201a8"
             ],
             [
              0.3333333333333333,
              "#9c179e"
             ],
             [
              0.4444444444444444,
              "#bd3786"
             ],
             [
              0.5555555555555556,
              "#d8576b"
             ],
             [
              0.6666666666666666,
              "#ed7953"
             ],
             [
              0.7777777777777778,
              "#fb9f3a"
             ],
             [
              0.8888888888888888,
              "#fdca26"
             ],
             [
              1,
              "#f0f921"
             ]
            ],
            "type": "heatmapgl"
           }
          ],
          "histogram": [
           {
            "marker": {
             "pattern": {
              "fillmode": "overlay",
              "size": 10,
              "solidity": 0.2
             }
            },
            "type": "histogram"
           }
          ],
          "histogram2d": [
           {
            "colorbar": {
             "outlinewidth": 0,
             "ticks": ""
            },
            "colorscale": [
             [
              0,
              "#0d0887"
             ],
             [
              0.1111111111111111,
              "#46039f"
             ],
             [
              0.2222222222222222,
              "#7201a8"
             ],
             [
              0.3333333333333333,
              "#9c179e"
             ],
             [
              0.4444444444444444,
              "#bd3786"
             ],
             [
              0.5555555555555556,
              "#d8576b"
             ],
             [
              0.6666666666666666,
              "#ed7953"
             ],
             [
              0.7777777777777778,
              "#fb9f3a"
             ],
             [
              0.8888888888888888,
              "#fdca26"
             ],
             [
              1,
              "#f0f921"
             ]
            ],
            "type": "histogram2d"
           }
          ],
          "histogram2dcontour": [
           {
            "colorbar": {
             "outlinewidth": 0,
             "ticks": ""
            },
            "colorscale": [
             [
              0,
              "#0d0887"
             ],
             [
              0.1111111111111111,
              "#46039f"
             ],
             [
              0.2222222222222222,
              "#7201a8"
             ],
             [
              0.3333333333333333,
              "#9c179e"
             ],
             [
              0.4444444444444444,
              "#bd3786"
             ],
             [
              0.5555555555555556,
              "#d8576b"
             ],
             [
              0.6666666666666666,
              "#ed7953"
             ],
             [
              0.7777777777777778,
              "#fb9f3a"
             ],
             [
              0.8888888888888888,
              "#fdca26"
             ],
             [
              1,
              "#f0f921"
             ]
            ],
            "type": "histogram2dcontour"
           }
          ],
          "mesh3d": [
           {
            "colorbar": {
             "outlinewidth": 0,
             "ticks": ""
            },
            "type": "mesh3d"
           }
          ],
          "parcoords": [
           {
            "line": {
             "colorbar": {
              "outlinewidth": 0,
              "ticks": ""
             }
            },
            "type": "parcoords"
           }
          ],
          "pie": [
           {
            "automargin": true,
            "type": "pie"
           }
          ],
          "scatter": [
           {
            "fillpattern": {
             "fillmode": "overlay",
             "size": 10,
             "solidity": 0.2
            },
            "type": "scatter"
           }
          ],
          "scatter3d": [
           {
            "line": {
             "colorbar": {
              "outlinewidth": 0,
              "ticks": ""
             }
            },
            "marker": {
             "colorbar": {
              "outlinewidth": 0,
              "ticks": ""
             }
            },
            "type": "scatter3d"
           }
          ],
          "scattercarpet": [
           {
            "marker": {
             "colorbar": {
              "outlinewidth": 0,
              "ticks": ""
             }
            },
            "type": "scattercarpet"
           }
          ],
          "scattergeo": [
           {
            "marker": {
             "colorbar": {
              "outlinewidth": 0,
              "ticks": ""
             }
            },
            "type": "scattergeo"
           }
          ],
          "scattergl": [
           {
            "marker": {
             "colorbar": {
              "outlinewidth": 0,
              "ticks": ""
             }
            },
            "type": "scattergl"
           }
          ],
          "scattermapbox": [
           {
            "marker": {
             "colorbar": {
              "outlinewidth": 0,
              "ticks": ""
             }
            },
            "type": "scattermapbox"
           }
          ],
          "scatterpolar": [
           {
            "marker": {
             "colorbar": {
              "outlinewidth": 0,
              "ticks": ""
             }
            },
            "type": "scatterpolar"
           }
          ],
          "scatterpolargl": [
           {
            "marker": {
             "colorbar": {
              "outlinewidth": 0,
              "ticks": ""
             }
            },
            "type": "scatterpolargl"
           }
          ],
          "scatterternary": [
           {
            "marker": {
             "colorbar": {
              "outlinewidth": 0,
              "ticks": ""
             }
            },
            "type": "scatterternary"
           }
          ],
          "surface": [
           {
            "colorbar": {
             "outlinewidth": 0,
             "ticks": ""
            },
            "colorscale": [
             [
              0,
              "#0d0887"
             ],
             [
              0.1111111111111111,
              "#46039f"
             ],
             [
              0.2222222222222222,
              "#7201a8"
             ],
             [
              0.3333333333333333,
              "#9c179e"
             ],
             [
              0.4444444444444444,
              "#bd3786"
             ],
             [
              0.5555555555555556,
              "#d8576b"
             ],
             [
              0.6666666666666666,
              "#ed7953"
             ],
             [
              0.7777777777777778,
              "#fb9f3a"
             ],
             [
              0.8888888888888888,
              "#fdca26"
             ],
             [
              1,
              "#f0f921"
             ]
            ],
            "type": "surface"
           }
          ],
          "table": [
           {
            "cells": {
             "fill": {
              "color": "#EBF0F8"
             },
             "line": {
              "color": "white"
             }
            },
            "header": {
             "fill": {
              "color": "#C8D4E3"
             },
             "line": {
              "color": "white"
             }
            },
            "type": "table"
           }
          ]
         },
         "layout": {
          "annotationdefaults": {
           "arrowcolor": "#2a3f5f",
           "arrowhead": 0,
           "arrowwidth": 1
          },
          "autotypenumbers": "strict",
          "coloraxis": {
           "colorbar": {
            "outlinewidth": 0,
            "ticks": ""
           }
          },
          "colorscale": {
           "diverging": [
            [
             0,
             "#8e0152"
            ],
            [
             0.1,
             "#c51b7d"
            ],
            [
             0.2,
             "#de77ae"
            ],
            [
             0.3,
             "#f1b6da"
            ],
            [
             0.4,
             "#fde0ef"
            ],
            [
             0.5,
             "#f7f7f7"
            ],
            [
             0.6,
             "#e6f5d0"
            ],
            [
             0.7,
             "#b8e186"
            ],
            [
             0.8,
             "#7fbc41"
            ],
            [
             0.9,
             "#4d9221"
            ],
            [
             1,
             "#276419"
            ]
           ],
           "sequential": [
            [
             0,
             "#0d0887"
            ],
            [
             0.1111111111111111,
             "#46039f"
            ],
            [
             0.2222222222222222,
             "#7201a8"
            ],
            [
             0.3333333333333333,
             "#9c179e"
            ],
            [
             0.4444444444444444,
             "#bd3786"
            ],
            [
             0.5555555555555556,
             "#d8576b"
            ],
            [
             0.6666666666666666,
             "#ed7953"
            ],
            [
             0.7777777777777778,
             "#fb9f3a"
            ],
            [
             0.8888888888888888,
             "#fdca26"
            ],
            [
             1,
             "#f0f921"
            ]
           ],
           "sequentialminus": [
            [
             0,
             "#0d0887"
            ],
            [
             0.1111111111111111,
             "#46039f"
            ],
            [
             0.2222222222222222,
             "#7201a8"
            ],
            [
             0.3333333333333333,
             "#9c179e"
            ],
            [
             0.4444444444444444,
             "#bd3786"
            ],
            [
             0.5555555555555556,
             "#d8576b"
            ],
            [
             0.6666666666666666,
             "#ed7953"
            ],
            [
             0.7777777777777778,
             "#fb9f3a"
            ],
            [
             0.8888888888888888,
             "#fdca26"
            ],
            [
             1,
             "#f0f921"
            ]
           ]
          },
          "colorway": [
           "#636efa",
           "#EF553B",
           "#00cc96",
           "#ab63fa",
           "#FFA15A",
           "#19d3f3",
           "#FF6692",
           "#B6E880",
           "#FF97FF",
           "#FECB52"
          ],
          "font": {
           "color": "#2a3f5f"
          },
          "geo": {
           "bgcolor": "white",
           "lakecolor": "white",
           "landcolor": "#E5ECF6",
           "showlakes": true,
           "showland": true,
           "subunitcolor": "white"
          },
          "hoverlabel": {
           "align": "left"
          },
          "hovermode": "closest",
          "mapbox": {
           "style": "light"
          },
          "paper_bgcolor": "white",
          "plot_bgcolor": "#E5ECF6",
          "polar": {
           "angularaxis": {
            "gridcolor": "white",
            "linecolor": "white",
            "ticks": ""
           },
           "bgcolor": "#E5ECF6",
           "radialaxis": {
            "gridcolor": "white",
            "linecolor": "white",
            "ticks": ""
           }
          },
          "scene": {
           "xaxis": {
            "backgroundcolor": "#E5ECF6",
            "gridcolor": "white",
            "gridwidth": 2,
            "linecolor": "white",
            "showbackground": true,
            "ticks": "",
            "zerolinecolor": "white"
           },
           "yaxis": {
            "backgroundcolor": "#E5ECF6",
            "gridcolor": "white",
            "gridwidth": 2,
            "linecolor": "white",
            "showbackground": true,
            "ticks": "",
            "zerolinecolor": "white"
           },
           "zaxis": {
            "backgroundcolor": "#E5ECF6",
            "gridcolor": "white",
            "gridwidth": 2,
            "linecolor": "white",
            "showbackground": true,
            "ticks": "",
            "zerolinecolor": "white"
           }
          },
          "shapedefaults": {
           "line": {
            "color": "#2a3f5f"
           }
          },
          "ternary": {
           "aaxis": {
            "gridcolor": "white",
            "linecolor": "white",
            "ticks": ""
           },
           "baxis": {
            "gridcolor": "white",
            "linecolor": "white",
            "ticks": ""
           },
           "bgcolor": "#E5ECF6",
           "caxis": {
            "gridcolor": "white",
            "linecolor": "white",
            "ticks": ""
           }
          },
          "title": {
           "x": 0.05
          },
          "xaxis": {
           "automargin": true,
           "gridcolor": "white",
           "linecolor": "white",
           "ticks": "",
           "title": {
            "standoff": 15
           },
           "zerolinecolor": "white",
           "zerolinewidth": 2
          },
          "yaxis": {
           "automargin": true,
           "gridcolor": "white",
           "linecolor": "white",
           "ticks": "",
           "title": {
            "standoff": 15
           },
           "zerolinecolor": "white",
           "zerolinewidth": 2
          }
         }
        },
        "title": {
         "text": "Impact de No et alpha sur le Corr après attaque"
        },
        "width": 800,
        "xaxis": {
         "title": {
          "text": "No (Nombre d'observations)=20000"
         }
        },
        "yaxis": {
         "title": {
          "text": "Cor"
         }
        }
       }
      }
     },
     "metadata": {},
     "output_type": "display_data"
    }
   ],
   "source": [
    "alpha_values = [0.2, 0.5, 1, 1.5, 2, 2.5, 3] # Tune the power of the watermark here\n",
    "Ni_grand = 20000\n",
    "\n",
    "fig_ber = go.Figure()\n",
    "fig_corr = go.Figure()\n",
    "fig_ber.add_hline(y=0.5, line_dash=\"dot\", line_color=\"red\", annotation_text=\"BER 50%\", annotation_position=\"top left\")\n",
    "fig_corr.add_hline(y=1, line_dash=\"dot\", line_color=\"red\", annotation_text=\"Corr = 1\", annotation_position=\"top left\")\n",
    "\n",
    "for alpha in alpha_values:\n",
    "    # Réinitialisation des vecteurs pour les plots\n",
    "    ber_values = []\n",
    "    corr_values = []\n",
    "    No_values = range(100,Ni_grand,100) \n",
    "    for No in No_values:\n",
    "        ber_val, corr_val = do_process(alpha, No)\n",
    "        ber_values.append(ber_val)\n",
    "        corr_values.append(corr_val)\n",
    "    # Graphique du BER\n",
    "    fig_ber.add_trace(go.Scatter(x=list(No_values), y=ber_values, mode='lines+markers', name=f'alpha = {alpha}'))\n",
    "    # Graphique du Corr\n",
    "    fig_corr.add_trace(go.Scatter(x=list(No_values), y=corr_values, mode='lines+markers', name=f'alpha = {alpha}'))\n",
    "fig_corr.update_layout(\n",
    "    title=\"Impact de No et alpha sur le Corr après attaque\",\n",
    "    xaxis_title=f\"No (Nombre d'observations)={Ni}\",\n",
    "    yaxis_title=\"Cor\",\n",
    "    legend_title='Valeurs de alpha',\n",
    "    width=800,\n",
    "    height=500\n",
    ")\n",
    "    \n",
    "fig_ber.update_layout(\n",
    "    title='Impact de No et alpha sur le BER après attaque',\n",
    "    xaxis_title=f'No (Nombre d‘observations)={Ni}',\n",
    "    yaxis_title='BER',\n",
    "    legend_title='Valeurs de alpha',\n",
    "    width=800,\n",
    "    height=500\n",
    ")\n",
    "fig_ber.show()\n",
    "fig_corr.show()"
   ]
  },
  {
   "cell_type": "markdown",
   "metadata": {
    "hideCode": false,
    "hideOutput": true,
    "hidePrompt": false
   },
   "source": [
    "## Etude de la robustesse\n",
    "* Calculer le taux d'erreur (BER pour Bit Error Rate) théorique après ajout de bruit (voir cours)\n",
    "* Etudier l'évolution de la robustesse (via le BER) en fonction de la distortion (via le paramètre $\\alpha$) \n"
   ]
  },
  {
   "cell_type": "code",
   "execution_count": 32,
   "metadata": {},
   "outputs": [
    {
     "name": "stderr",
     "output_type": "stream",
     "text": [
      "  0%|          | 0/45 [00:00<?, ?it/s]"
     ]
    },
    {
     "name": "stderr",
     "output_type": "stream",
     "text": [
      "C:\\Users\\NICOLAS\\AppData\\Roaming\\Python\\Python39\\site-packages\\sklearn\\decomposition\\_fastica.py:128: ConvergenceWarning:\n",
      "\n",
      "FastICA did not converge. Consider increasing tolerance or the maximum number of iterations.\n",
      "\n",
      "C:\\Users\\NICOLAS\\AppData\\Roaming\\Python\\Python39\\site-packages\\sklearn\\decomposition\\_fastica.py:128: ConvergenceWarning:\n",
      "\n",
      "FastICA did not converge. Consider increasing tolerance or the maximum number of iterations.\n",
      "\n",
      "C:\\Users\\NICOLAS\\AppData\\Roaming\\Python\\Python39\\site-packages\\sklearn\\decomposition\\_fastica.py:128: ConvergenceWarning:\n",
      "\n",
      "FastICA did not converge. Consider increasing tolerance or the maximum number of iterations.\n",
      "\n",
      "C:\\Users\\NICOLAS\\AppData\\Roaming\\Python\\Python39\\site-packages\\sklearn\\decomposition\\_fastica.py:128: ConvergenceWarning:\n",
      "\n",
      "FastICA did not converge. Consider increasing tolerance or the maximum number of iterations.\n",
      "\n",
      "C:\\Users\\NICOLAS\\AppData\\Roaming\\Python\\Python39\\site-packages\\sklearn\\decomposition\\_fastica.py:128: ConvergenceWarning:\n",
      "\n",
      "FastICA did not converge. Consider increasing tolerance or the maximum number of iterations.\n",
      "\n",
      "C:\\Users\\NICOLAS\\AppData\\Roaming\\Python\\Python39\\site-packages\\sklearn\\decomposition\\_fastica.py:128: ConvergenceWarning:\n",
      "\n",
      "FastICA did not converge. Consider increasing tolerance or the maximum number of iterations.\n",
      "\n",
      "  2%|▏         | 1/45 [00:06<04:58,  6.79s/it]C:\\Users\\NICOLAS\\AppData\\Roaming\\Python\\Python39\\site-packages\\sklearn\\decomposition\\_fastica.py:128: ConvergenceWarning:\n",
      "\n",
      "FastICA did not converge. Consider increasing tolerance or the maximum number of iterations.\n",
      "\n",
      "C:\\Users\\NICOLAS\\AppData\\Roaming\\Python\\Python39\\site-packages\\sklearn\\decomposition\\_fastica.py:128: ConvergenceWarning:\n",
      "\n",
      "FastICA did not converge. Consider increasing tolerance or the maximum number of iterations.\n",
      "\n",
      "C:\\Users\\NICOLAS\\AppData\\Roaming\\Python\\Python39\\site-packages\\sklearn\\decomposition\\_fastica.py:128: ConvergenceWarning:\n",
      "\n",
      "FastICA did not converge. Consider increasing tolerance or the maximum number of iterations.\n",
      "\n",
      "C:\\Users\\NICOLAS\\AppData\\Roaming\\Python\\Python39\\site-packages\\sklearn\\decomposition\\_fastica.py:128: ConvergenceWarning:\n",
      "\n",
      "FastICA did not converge. Consider increasing tolerance or the maximum number of iterations.\n",
      "\n",
      "C:\\Users\\NICOLAS\\AppData\\Roaming\\Python\\Python39\\site-packages\\sklearn\\decomposition\\_fastica.py:128: ConvergenceWarning:\n",
      "\n",
      "FastICA did not converge. Consider increasing tolerance or the maximum number of iterations.\n",
      "\n",
      "  4%|▍         | 2/45 [00:11<04:11,  5.84s/it]C:\\Users\\NICOLAS\\AppData\\Roaming\\Python\\Python39\\site-packages\\sklearn\\decomposition\\_fastica.py:128: ConvergenceWarning:\n",
      "\n",
      "FastICA did not converge. Consider increasing tolerance or the maximum number of iterations.\n",
      "\n",
      "C:\\Users\\NICOLAS\\AppData\\Roaming\\Python\\Python39\\site-packages\\sklearn\\decomposition\\_fastica.py:128: ConvergenceWarning:\n",
      "\n",
      "FastICA did not converge. Consider increasing tolerance or the maximum number of iterations.\n",
      "\n",
      "C:\\Users\\NICOLAS\\AppData\\Roaming\\Python\\Python39\\site-packages\\sklearn\\decomposition\\_fastica.py:128: ConvergenceWarning:\n",
      "\n",
      "FastICA did not converge. Consider increasing tolerance or the maximum number of iterations.\n",
      "\n",
      "C:\\Users\\NICOLAS\\AppData\\Roaming\\Python\\Python39\\site-packages\\sklearn\\decomposition\\_fastica.py:128: ConvergenceWarning:\n",
      "\n",
      "FastICA did not converge. Consider increasing tolerance or the maximum number of iterations.\n",
      "\n",
      "C:\\Users\\NICOLAS\\AppData\\Roaming\\Python\\Python39\\site-packages\\sklearn\\decomposition\\_fastica.py:128: ConvergenceWarning:\n",
      "\n",
      "FastICA did not converge. Consider increasing tolerance or the maximum number of iterations.\n",
      "\n",
      "  7%|▋         | 3/45 [00:16<03:41,  5.29s/it]C:\\Users\\NICOLAS\\AppData\\Roaming\\Python\\Python39\\site-packages\\sklearn\\decomposition\\_fastica.py:128: ConvergenceWarning:\n",
      "\n",
      "FastICA did not converge. Consider increasing tolerance or the maximum number of iterations.\n",
      "\n",
      "C:\\Users\\NICOLAS\\AppData\\Roaming\\Python\\Python39\\site-packages\\sklearn\\decomposition\\_fastica.py:128: ConvergenceWarning:\n",
      "\n",
      "FastICA did not converge. Consider increasing tolerance or the maximum number of iterations.\n",
      "\n",
      "C:\\Users\\NICOLAS\\AppData\\Roaming\\Python\\Python39\\site-packages\\sklearn\\decomposition\\_fastica.py:128: ConvergenceWarning:\n",
      "\n",
      "FastICA did not converge. Consider increasing tolerance or the maximum number of iterations.\n",
      "\n",
      "  9%|▉         | 4/45 [00:21<03:25,  5.02s/it]C:\\Users\\NICOLAS\\AppData\\Roaming\\Python\\Python39\\site-packages\\sklearn\\decomposition\\_fastica.py:128: ConvergenceWarning:\n",
      "\n",
      "FastICA did not converge. Consider increasing tolerance or the maximum number of iterations.\n",
      "\n",
      "C:\\Users\\NICOLAS\\AppData\\Roaming\\Python\\Python39\\site-packages\\sklearn\\decomposition\\_fastica.py:128: ConvergenceWarning:\n",
      "\n",
      "FastICA did not converge. Consider increasing tolerance or the maximum number of iterations.\n",
      "\n",
      "C:\\Users\\NICOLAS\\AppData\\Roaming\\Python\\Python39\\site-packages\\sklearn\\decomposition\\_fastica.py:128: ConvergenceWarning:\n",
      "\n",
      "FastICA did not converge. Consider increasing tolerance or the maximum number of iterations.\n",
      "\n",
      " 11%|█         | 5/45 [00:25<03:14,  4.87s/it]C:\\Users\\NICOLAS\\AppData\\Roaming\\Python\\Python39\\site-packages\\sklearn\\decomposition\\_fastica.py:128: ConvergenceWarning:\n",
      "\n",
      "FastICA did not converge. Consider increasing tolerance or the maximum number of iterations.\n",
      "\n",
      "C:\\Users\\NICOLAS\\AppData\\Roaming\\Python\\Python39\\site-packages\\sklearn\\decomposition\\_fastica.py:128: ConvergenceWarning:\n",
      "\n",
      "FastICA did not converge. Consider increasing tolerance or the maximum number of iterations.\n",
      "\n",
      "C:\\Users\\NICOLAS\\AppData\\Roaming\\Python\\Python39\\site-packages\\sklearn\\decomposition\\_fastica.py:128: ConvergenceWarning:\n",
      "\n",
      "FastICA did not converge. Consider increasing tolerance or the maximum number of iterations.\n",
      "\n",
      " 13%|█▎        | 6/45 [00:30<03:06,  4.79s/it]C:\\Users\\NICOLAS\\AppData\\Roaming\\Python\\Python39\\site-packages\\sklearn\\decomposition\\_fastica.py:128: ConvergenceWarning:\n",
      "\n",
      "FastICA did not converge. Consider increasing tolerance or the maximum number of iterations.\n",
      "\n",
      "C:\\Users\\NICOLAS\\AppData\\Roaming\\Python\\Python39\\site-packages\\sklearn\\decomposition\\_fastica.py:128: ConvergenceWarning:\n",
      "\n",
      "FastICA did not converge. Consider increasing tolerance or the maximum number of iterations.\n",
      "\n",
      " 16%|█▌        | 7/45 [00:34<02:58,  4.71s/it]C:\\Users\\NICOLAS\\AppData\\Roaming\\Python\\Python39\\site-packages\\sklearn\\decomposition\\_fastica.py:128: ConvergenceWarning:\n",
      "\n",
      "FastICA did not converge. Consider increasing tolerance or the maximum number of iterations.\n",
      "\n",
      "C:\\Users\\NICOLAS\\AppData\\Roaming\\Python\\Python39\\site-packages\\sklearn\\decomposition\\_fastica.py:128: ConvergenceWarning:\n",
      "\n",
      "FastICA did not converge. Consider increasing tolerance or the maximum number of iterations.\n",
      "\n",
      "C:\\Users\\NICOLAS\\AppData\\Roaming\\Python\\Python39\\site-packages\\sklearn\\decomposition\\_fastica.py:128: ConvergenceWarning:\n",
      "\n",
      "FastICA did not converge. Consider increasing tolerance or the maximum number of iterations.\n",
      "\n",
      " 18%|█▊        | 8/45 [00:39<02:53,  4.68s/it]C:\\Users\\NICOLAS\\AppData\\Roaming\\Python\\Python39\\site-packages\\sklearn\\decomposition\\_fastica.py:128: ConvergenceWarning:\n",
      "\n",
      "FastICA did not converge. Consider increasing tolerance or the maximum number of iterations.\n",
      "\n",
      "C:\\Users\\NICOLAS\\AppData\\Roaming\\Python\\Python39\\site-packages\\sklearn\\decomposition\\_fastica.py:128: ConvergenceWarning:\n",
      "\n",
      "FastICA did not converge. Consider increasing tolerance or the maximum number of iterations.\n",
      "\n",
      "C:\\Users\\NICOLAS\\AppData\\Roaming\\Python\\Python39\\site-packages\\sklearn\\decomposition\\_fastica.py:128: ConvergenceWarning:\n",
      "\n",
      "FastICA did not converge. Consider increasing tolerance or the maximum number of iterations.\n",
      "\n",
      "C:\\Users\\NICOLAS\\AppData\\Roaming\\Python\\Python39\\site-packages\\sklearn\\decomposition\\_fastica.py:128: ConvergenceWarning:\n",
      "\n",
      "FastICA did not converge. Consider increasing tolerance or the maximum number of iterations.\n",
      "\n",
      "C:\\Users\\NICOLAS\\AppData\\Roaming\\Python\\Python39\\site-packages\\sklearn\\decomposition\\_fastica.py:128: ConvergenceWarning:\n",
      "\n",
      "FastICA did not converge. Consider increasing tolerance or the maximum number of iterations.\n",
      "\n",
      "C:\\Users\\NICOLAS\\AppData\\Roaming\\Python\\Python39\\site-packages\\sklearn\\decomposition\\_fastica.py:128: ConvergenceWarning:\n",
      "\n",
      "FastICA did not converge. Consider increasing tolerance or the maximum number of iterations.\n",
      "\n",
      " 20%|██        | 9/45 [00:44<02:49,  4.72s/it]C:\\Users\\NICOLAS\\AppData\\Roaming\\Python\\Python39\\site-packages\\sklearn\\decomposition\\_fastica.py:128: ConvergenceWarning:\n",
      "\n",
      "FastICA did not converge. Consider increasing tolerance or the maximum number of iterations.\n",
      "\n",
      "C:\\Users\\NICOLAS\\AppData\\Roaming\\Python\\Python39\\site-packages\\sklearn\\decomposition\\_fastica.py:128: ConvergenceWarning:\n",
      "\n",
      "FastICA did not converge. Consider increasing tolerance or the maximum number of iterations.\n",
      "\n",
      "C:\\Users\\NICOLAS\\AppData\\Roaming\\Python\\Python39\\site-packages\\sklearn\\decomposition\\_fastica.py:128: ConvergenceWarning:\n",
      "\n",
      "FastICA did not converge. Consider increasing tolerance or the maximum number of iterations.\n",
      "\n",
      " 22%|██▏       | 10/45 [00:49<02:44,  4.70s/it]C:\\Users\\NICOLAS\\AppData\\Roaming\\Python\\Python39\\site-packages\\sklearn\\decomposition\\_fastica.py:128: ConvergenceWarning:\n",
      "\n",
      "FastICA did not converge. Consider increasing tolerance or the maximum number of iterations.\n",
      "\n",
      " 24%|██▍       | 11/45 [00:53<02:39,  4.70s/it]C:\\Users\\NICOLAS\\AppData\\Roaming\\Python\\Python39\\site-packages\\sklearn\\decomposition\\_fastica.py:128: ConvergenceWarning:\n",
      "\n",
      "FastICA did not converge. Consider increasing tolerance or the maximum number of iterations.\n",
      "\n",
      "C:\\Users\\NICOLAS\\AppData\\Roaming\\Python\\Python39\\site-packages\\sklearn\\decomposition\\_fastica.py:128: ConvergenceWarning:\n",
      "\n",
      "FastICA did not converge. Consider increasing tolerance or the maximum number of iterations.\n",
      "\n",
      "C:\\Users\\NICOLAS\\AppData\\Roaming\\Python\\Python39\\site-packages\\sklearn\\decomposition\\_fastica.py:128: ConvergenceWarning:\n",
      "\n",
      "FastICA did not converge. Consider increasing tolerance or the maximum number of iterations.\n",
      "\n",
      "C:\\Users\\NICOLAS\\AppData\\Roaming\\Python\\Python39\\site-packages\\sklearn\\decomposition\\_fastica.py:128: ConvergenceWarning:\n",
      "\n",
      "FastICA did not converge. Consider increasing tolerance or the maximum number of iterations.\n",
      "\n",
      " 31%|███       | 14/45 [01:07<02:23,  4.63s/it]C:\\Users\\NICOLAS\\AppData\\Roaming\\Python\\Python39\\site-packages\\sklearn\\decomposition\\_fastica.py:128: ConvergenceWarning:\n",
      "\n",
      "FastICA did not converge. Consider increasing tolerance or the maximum number of iterations.\n",
      "\n",
      "100%|██████████| 45/45 [03:27<00:00,  4.62s/it]\n"
     ]
    },
    {
     "data": {
      "image/png": "[encoded data removed]",
      "text/plain": [
       "<Figure size 640x480 with 1 Axes>"
      ]
     },
     "metadata": {},
     "output_type": "display_data"
    }
   ],
   "source": [
    "#import the erf function\n",
    "from scipy.special import erf\n",
    "from tqdm import tqdm\n",
    "def ber_theorique(alpha):\n",
    "    return 1/2*(1+erf(-alpha/np.sqrt(2)))\n",
    "\n",
    "\n",
    "#study the impact of alpha on the robustess thorugh the BER\n",
    "ber_list = []\n",
    "ber_theo_list = []\n",
    "alpha_list=[0.1*i for i in range(45)]\n",
    "No=50\n",
    "for alpha in tqdm(alpha_list):\n",
    "    temp = []\n",
    "    alpha+=0.5\n",
    "    for n in range(No):\n",
    "        X = np.random.randn(Nv,Ni)\n",
    "        K = np.dot(k1,m1.T) + np.dot(k2,m2.T) \n",
    "        W = alpha*K\n",
    "        Y = X + W \n",
    "        Y_obs = Y[:,:No]\n",
    "        hatk_1 =FastICA(n_components=2).fit(Y_obs.T).mixing_[:,0]\n",
    "        hatk_1 = np.reshape(hatk_1,(Nv,1))\n",
    "        YA_1 =  Y - alpha*np.dot(hatk_1,m1.T)\n",
    "        temp.append(min(1-ber(YA_1, m1, k1),ber(YA_1, m1, k1)))\n",
    "    ber_theo_list.append(ber_theorique(alpha))\n",
    "    ber_list.append(np.mean(temp))\n",
    "\n",
    "plt.plot( alpha_list, ber_list)\n",
    "plt.plot( alpha_list, ber_theo_list)\n",
    "plt.xlabel('alpha')\n",
    "plt.legend(['practical','theoretical']) \n",
    "plt.ylabel('BER')\n",
    "plt.show()\n",
    "\n",
    "    \n",
    "\n",
    "\n"
   ]
  },
  {
   "cell_type": "markdown",
   "metadata": {},
   "source": [
    "## Conclusions\n",
    "* Pourquoi un compromis entre la robustesse et la sécurité est-il inévitable ?"
   ]
  },
  {
   "cell_type": "markdown",
   "metadata": {},
   "source": []
  }
 ],
 "metadata": {
  "hide_code_all_hidden": false,
  "kernelspec": {
   "display_name": "Python 3",
   "language": "python",
   "name": "python3"
  },
  "language_info": {
   "codemirror_mode": {
    "name": "ipython",
    "version": 3
   },
   "file_extension": ".py",
   "mimetype": "text/x-python",
   "name": "python",
   "nbconvert_exporter": "python",
   "pygments_lexer": "ipython3",
   "version": "3.9.13"
  }
 },
 "nbformat": 4,
 "nbformat_minor": 2
}
